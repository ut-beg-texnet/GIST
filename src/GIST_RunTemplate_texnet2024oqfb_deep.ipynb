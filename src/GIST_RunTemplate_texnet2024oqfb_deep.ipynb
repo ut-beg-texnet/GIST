{
 "cells": [
  {
   "cell_type": "markdown",
   "metadata": {
    "application/vnd.databricks.v1+cell": {
     "cellMetadata": {
      "byteLimit": 2048000,
      "rowLimit": 10000
     },
     "inputWidgets": {},
     "nuid": "c1abdb59-6473-4a9e-89dc-f7bf61a76f4b",
     "showTitle": false,
     "tableResultSettingsMap": {},
     "title": ""
    }
   },
   "source": [
    "# Geomechanical Injection Scenario Toolkit (GIST)\n",
    "\n",
    "#Disclaimer\n",
    "GIST aims to give the _gist_ of a wide range of potential scenarios and aid collective decision making when responding to seismicity.\n",
    "\n",
    "The results of GIST are entirely dependent upon the inputs provided, which may be incomplete or inaccurate.\n",
    "\n",
    "There are other potentially plausible inducement scenarios that are not considered, including fluid migration into the basement, \n",
    "out-of-zone poroelastic stressing, or hydraulic fracturing.\n",
    "\n",
    "None of the individual models produced by GIST accurately represent what happens in the subsurface and cannot be credibly used \n",
    "to accurately assign liability or responsibility for seismicity.\n",
    "\n",
    "\"All models are wrong, but some are useful\" - George Box, 1976\n",
    "\n",
    "## Prerequisites\n",
    "\n",
    "Assumes InjectionSQLScheduled completed successfully and injection data are sampled uniformly in time"
   ]
  },
  {
   "cell_type": "markdown",
   "metadata": {
    "application/vnd.databricks.v1+cell": {
     "cellMetadata": {
      "byteLimit": 2048000,
      "rowLimit": 10000
     },
     "inputWidgets": {},
     "nuid": "b264040f-fa15-4a0b-b6a8-a6260d9ab053",
     "showTitle": false,
     "tableResultSettingsMap": {},
     "title": ""
    }
   },
   "source": [
    "##Install Dependencies\n",
    "- geopandas\n",
    "- gistMC.py\n",
    "- eqSQL.py\n",
    "- gistPlots.py\n",
    "- numpy\n",
    "- scipy\n",
    "- pandas\n"
   ]
  },
  {
   "cell_type": "code",
   "execution_count": 0,
   "metadata": {
    "application/vnd.databricks.v1+cell": {
     "cellMetadata": {
      "byteLimit": 2048000,
      "rowLimit": 10000
     },
     "inputWidgets": {},
     "nuid": "e00f4128-0373-462e-b4e5-0c722b222f74",
     "showTitle": true,
     "tableResultSettingsMap": {},
     "title": "Restart python"
    }
   },
   "outputs": [],
   "source": [
    "%restart_python"
   ]
  },
  {
   "cell_type": "code",
   "execution_count": 0,
   "metadata": {
    "application/vnd.databricks.v1+cell": {
     "cellMetadata": {
      "byteLimit": 2048000,
      "rowLimit": 10000
     },
     "collapsed": true,
     "inputWidgets": {},
     "nuid": "fb80407f-4a02-4284-9638-a9c24281d177",
     "showTitle": true,
     "tableResultSettingsMap": {},
     "title": "Databricks functions"
    }
   },
   "outputs": [],
   "source": [
    "%run \"/Workspace/_utils/Utility_Functions\""
   ]
  },
  {
   "cell_type": "code",
   "execution_count": 0,
   "metadata": {
    "application/vnd.databricks.v1+cell": {
     "cellMetadata": {
      "byteLimit": 2048000,
      "rowLimit": 10000
     },
     "collapsed": true,
     "inputWidgets": {},
     "nuid": "0e21e4dd-c64f-459b-9241-0cb74bf49524",
     "showTitle": true,
     "tableResultSettingsMap": {},
     "title": "PIP installs"
    }
   },
   "outputs": [
    {
     "output_type": "stream",
     "name": "stdout",
     "output_type": "stream",
     "text": [
      "Collecting geopandas\n  Downloading geopandas-1.0.1-py3-none-any.whl (323 kB)\n     ━━━━━━━━━━━━━━━━━━━━━━━━━━━━━━━━━━━━━━━ 323.6/323.6 kB 8.0 MB/s eta 0:00:00\nRequirement already satisfied: pandas>=1.4.0 in /databricks/python3/lib/python3.10/site-packages (from geopandas) (1.5.3)\nCollecting pyogrio>=0.7.2\n  Downloading pyogrio-0.10.0-cp310-cp310-manylinux_2_28_x86_64.whl (23.9 MB)\n     ━━━━━━━━━━━━━━━━━━━━━━━━━━━━━━━━━━━━━━━━ 23.9/23.9 MB 76.2 MB/s eta 0:00:00\nRequirement already satisfied: packaging in /databricks/python3/lib/python3.10/site-packages (from geopandas) (23.2)\nCollecting shapely>=2.0.0\n  Downloading shapely-2.0.6-cp310-cp310-manylinux_2_17_x86_64.manylinux2014_x86_64.whl (2.5 MB)\n     ━━━━━━━━━━━━━━━━━━━━━━━━━━━━━━━━━━━━━━━━ 2.5/2.5 MB 134.8 MB/s eta 0:00:00\nCollecting pyproj>=3.3.0\n  Downloading pyproj-3.7.0-cp310-cp310-manylinux_2_17_x86_64.manylinux2014_x86_64.whl (9.2 MB)\n     ━━━━━━━━━━━━━━━━━━━━━━━━━━━━━━━━━━━━━━━━ 9.2/9.2 MB 139.8 MB/s eta 0:00:00\nRequirement already satisfied: numpy>=1.22 in /databricks/python3/lib/python3.10/site-packages (from geopandas) (1.23.5)\nRequirement already satisfied: pytz>=2020.1 in /databricks/python3/lib/python3.10/site-packages (from pandas>=1.4.0->geopandas) (2022.7)\nRequirement already satisfied: python-dateutil>=2.8.1 in /databricks/python3/lib/python3.10/site-packages (from pandas>=1.4.0->geopandas) (2.8.2)\nRequirement already satisfied: certifi in /databricks/python3/lib/python3.10/site-packages (from pyogrio>=0.7.2->geopandas) (2022.12.7)\nRequirement already satisfied: six>=1.5 in /usr/lib/python3/dist-packages (from python-dateutil>=2.8.1->pandas>=1.4.0->geopandas) (1.16.0)\nInstalling collected packages: shapely, pyproj, pyogrio, geopandas\nSuccessfully installed geopandas-1.0.1 pyogrio-0.10.0 pyproj-3.7.0 shapely-2.0.6\n\u001B[43mNote: you may need to restart the kernel using %restart_python or dbutils.library.restartPython() to use updated packages.\u001B[0m\nCollecting geodatasets\n  Downloading geodatasets-2024.8.0-py3-none-any.whl (20 kB)\nCollecting pooch\n  Downloading pooch-1.8.2-py3-none-any.whl (64 kB)\n     ━━━━━━━━━━━━━━━━━━━━━━━━━━━━━━━━━━━━━━━━ 64.6/64.6 kB 4.0 MB/s eta 0:00:00\nRequirement already satisfied: packaging>=20.0 in /databricks/python3/lib/python3.10/site-packages (from pooch->geodatasets) (23.2)\nRequirement already satisfied: requests>=2.19.0 in /databricks/python3/lib/python3.10/site-packages (from pooch->geodatasets) (2.28.1)\nRequirement already satisfied: platformdirs>=2.5.0 in /databricks/python3/lib/python3.10/site-packages (from pooch->geodatasets) (2.5.2)\nRequirement already satisfied: idna<4,>=2.5 in /databricks/python3/lib/python3.10/site-packages (from requests>=2.19.0->pooch->geodatasets) (3.4)\nRequirement already satisfied: charset-normalizer<3,>=2 in /databricks/python3/lib/python3.10/site-packages (from requests>=2.19.0->pooch->geodatasets) (2.0.4)\nRequirement already satisfied: urllib3<1.27,>=1.21.1 in /databricks/python3/lib/python3.10/site-packages (from requests>=2.19.0->pooch->geodatasets) (1.26.14)\nRequirement already satisfied: certifi>=2017.4.17 in /databricks/python3/lib/python3.10/site-packages (from requests>=2.19.0->pooch->geodatasets) (2022.12.7)\nInstalling collected packages: pooch, geodatasets\nSuccessfully installed geodatasets-2024.8.0 pooch-1.8.2\n\u001B[43mNote: you may need to restart the kernel using %restart_python or dbutils.library.restartPython() to use updated packages.\u001B[0m\nCollecting contextily\n  Downloading contextily-1.6.2-py3-none-any.whl (17 kB)\nRequirement already satisfied: requests in /databricks/python3/lib/python3.10/site-packages (from contextily) (2.28.1)\nRequirement already satisfied: matplotlib in /databricks/python3/lib/python3.10/site-packages (from contextily) (3.7.0)\nRequirement already satisfied: joblib in /databricks/python3/lib/python3.10/site-packages (from contextily) (1.2.0)\nRequirement already satisfied: pillow in /databricks/python3/lib/python3.10/site-packages (from contextily) (9.4.0)\nCollecting geopy\n  Downloading geopy-2.4.1-py3-none-any.whl (125 kB)\n     ━━━━━━━━━━━━━━━━━━━━━━━━━━━━━━━━━━━━━━━ 125.4/125.4 kB 4.7 MB/s eta 0:00:00\nCollecting xyzservices\n  Downloading xyzservices-2024.9.0-py3-none-any.whl (85 kB)\n     ━━━━━━━━━━━━━━━━━━━━━━━━━━━━━━━━━━━━━━━━ 85.1/85.1 kB 32.6 MB/s eta 0:00:00\nCollecting mercantile\n  Downloading mercantile-1.2.1-py3-none-any.whl (14 kB)\nCollecting rasterio\n  Downloading rasterio-1.4.3-cp310-cp310-manylinux_2_17_x86_64.manylinux2014_x86_64.whl (22.2 MB)\n     ━━━━━━━━━━━━━━━━━━━━━━━━━━━━━━━━━━━━━━━━ 22.2/22.2 MB 54.3 MB/s eta 0:00:00\nCollecting geographiclib<3,>=1.52\n  Downloading geographiclib-2.0-py3-none-any.whl (40 kB)\n     ━━━━━━━━━━━━━━━━━━━━━━━━━━━━━━━━━━━━━━━━ 40.3/40.3 kB 14.0 MB/s eta 0:00:00\nRequirement already satisfied: numpy>=1.20 in /databricks/python3/lib/python3.10/site-packages (from matplotlib->contextily) (1.23.5)\nRequirement already satisfied: kiwisolver>=1.0.1 in /databricks/python3/lib/python3.10/site-packages (from matplotlib->contextily) (1.4.4)\nRequirement already satisfied: pyparsing>=2.3.1 in /databricks/python3/lib/python3.10/site-packages (from matplotlib->contextily) (3.0.9)\nRequirement already satisfied: contourpy>=1.0.1 in /databricks/python3/lib/python3.10/site-packages (from matplotlib->contextily) (1.0.5)\nRequirement already satisfied: fonttools>=4.22.0 in /databricks/python3/lib/python3.10/site-packages (from matplotlib->contextily) (4.25.0)\nRequirement already satisfied: python-dateutil>=2.7 in /databricks/python3/lib/python3.10/site-packages (from matplotlib->contextily) (2.8.2)\nRequirement already satisfied: cycler>=0.10 in /databricks/python3/lib/python3.10/site-packages (from matplotlib->contextily) (0.11.0)\nRequirement already satisfied: packaging>=20.0 in /databricks/python3/lib/python3.10/site-packages (from matplotlib->contextily) (23.2)\nRequirement already satisfied: click>=3.0 in /databricks/python3/lib/python3.10/site-packages (from mercantile->contextily) (8.0.4)\nCollecting numpy>=1.20\n  Downloading numpy-2.2.1-cp310-cp310-manylinux_2_17_x86_64.manylinux2014_x86_64.whl (16.4 MB)\n     ━━━━━━━━━━━━━━━━━━━━━━━━━━━━━━━━━━━━━━━━ 16.4/16.4 MB 88.5 MB/s eta 0:00:00\nCollecting click-plugins\n  Downloading click_plugins-1.1.1-py2.py3-none-any.whl (7.5 kB)\nRequirement already satisfied: certifi in /databricks/python3/lib/python3.10/site-packages (from rasterio->contextily) (2022.12.7)\nCollecting cligj>=0.5\n  Downloading cligj-0.7.2-py3-none-any.whl (7.1 kB)\nRequirement already satisfied: attrs in /databricks/python3/lib/python3.10/site-packages (from rasterio->contextily) (22.1.0)\nCollecting affine\n  Downloading affine-2.4.0-py3-none-any.whl (15 kB)\nRequirement already satisfied: charset-normalizer<3,>=2 in /databricks/python3/lib/python3.10/site-packages (from requests->contextily) (2.0.4)\nRequirement already satisfied: urllib3<1.27,>=1.21.1 in /databricks/python3/lib/python3.10/site-packages (from requests->contextily) (1.26.14)\nRequirement already satisfied: idna<4,>=2.5 in /databricks/python3/lib/python3.10/site-packages (from requests->contextily) (3.4)\nRequirement already satisfied: six>=1.5 in /usr/lib/python3/dist-packages (from python-dateutil>=2.7->matplotlib->contextily) (1.16.0)\nInstalling collected packages: xyzservices, numpy, mercantile, geographiclib, cligj, click-plugins, affine, rasterio, geopy, contextily\n  Attempting uninstall: numpy\n    Found existing installation: numpy 1.23.5\n    Not uninstalling numpy at /databricks/python3/lib/python3.10/site-packages, outside environment /local_disk0/.ephemeral_nfs/envs/pythonEnv-d4737d59-de85-4148-955b-9e762d1559d1\n    Can't uninstall 'numpy'. No files were found to uninstall.\nERROR: pip's dependency resolver does not currently take into account all the packages that are installed. This behaviour is the source of the following dependency conflicts.\nscipy 1.10.0 requires numpy<1.27.0,>=1.19.5, but you have numpy 2.2.1 which is incompatible.\ndatabricks-connect 14.3.4 requires numpy<2,>=1.15, but you have numpy 2.2.1 which is incompatible.\nSuccessfully installed affine-2.4.0 click-plugins-1.1.1 cligj-0.7.2 contextily-1.6.2 geographiclib-2.0 geopy-2.4.1 mercantile-1.2.1 numpy-2.2.1 rasterio-1.4.3 xyzservices-2024.9.0\n\u001B[43mNote: you may need to restart the kernel using %restart_python or dbutils.library.restartPython() to use updated packages.\u001B[0m\n"
     ]
    }
   ],
   "source": [
    "!pip install geopandas\n",
    "!pip install geodatasets\n",
    "!pip install contextily\n",
    "#! pip install folium matplotlib mapclassify contextily"
   ]
  },
  {
   "cell_type": "markdown",
   "metadata": {
    "application/vnd.databricks.v1+cell": {
     "cellMetadata": {
      "byteLimit": 2048000,
      "rowLimit": 10000
     },
     "inputWidgets": {},
     "nuid": "c93df717-a2d5-4e18-b1cb-7d39ffcb99b2",
     "showTitle": false,
     "tableResultSettingsMap": {},
     "title": ""
    }
   },
   "source": [
    "##Paths"
   ]
  },
  {
   "cell_type": "code",
   "execution_count": 0,
   "metadata": {
    "application/vnd.databricks.v1+cell": {
     "cellMetadata": {
      "byteLimit": 2048000,
      "rowLimit": 10000
     },
     "inputWidgets": {},
     "nuid": "145f505a-6639-4124-b6bd-aa4e6c9b5c47",
     "showTitle": true,
     "tableResultSettingsMap": {},
     "title": "GIST libraries and injection data"
    }
   },
   "outputs": [],
   "source": [
    "# Paths\n",
    "homePath='/Workspace/Users/bill.curry@exxonmobil.com'\n",
    "# Injection data path \n",
    "injPath=homePath+'/injection/WeeklyRun/ScheduledOutput'\n",
    "# GIST library path\n",
    "gistPath=homePath+'/GIST'"
   ]
  },
  {
   "cell_type": "markdown",
   "metadata": {
    "application/vnd.databricks.v1+cell": {
     "cellMetadata": {
      "byteLimit": 2048000,
      "rowLimit": 10000
     },
     "inputWidgets": {},
     "nuid": "fe561de9-c0de-474b-af1b-e457ac846dbe",
     "showTitle": false,
     "tableResultSettingsMap": {},
     "title": ""
    }
   },
   "source": [
    "##Libraries\n",
    "\n",
    "- numpy\n",
    "- scipy\n",
    "- pandas\n",
    "- matplotlib\n",
    "- geopandas\n",
    "- pyspark\n"
   ]
  },
  {
   "cell_type": "code",
   "execution_count": 0,
   "metadata": {
    "application/vnd.databricks.v1+cell": {
     "cellMetadata": {
      "byteLimit": 2048000,
      "rowLimit": 10000
     },
     "inputWidgets": {},
     "nuid": "10119ade-2798-4028-9462-d20dc15fb1d7",
     "showTitle": true,
     "tableResultSettingsMap": {},
     "title": "add path"
    }
   },
   "outputs": [],
   "source": [
    "import sys\n",
    "sys.path.append(gistPath+'/lib')"
   ]
  },
  {
   "cell_type": "code",
   "execution_count": 0,
   "metadata": {
    "application/vnd.databricks.v1+cell": {
     "cellMetadata": {
      "byteLimit": 2048000,
      "rowLimit": 10000
     },
     "inputWidgets": {},
     "nuid": "2e230114-d00d-4065-9b06-9bc65deb51a6",
     "showTitle": true,
     "tableResultSettingsMap": {},
     "title": "pyspark"
    }
   },
   "outputs": [],
   "source": [
    "#Databricks-specific\n",
    "#import dataBricksConfig as db\n",
    "from pyspark.sql import SparkSession\n",
    "spark = SparkSession.builder.appName(\"eqSQL\").getOrCreate()"
   ]
  },
  {
   "cell_type": "code",
   "execution_count": 0,
   "metadata": {
    "application/vnd.databricks.v1+cell": {
     "cellMetadata": {
      "byteLimit": 2048000,
      "rowLimit": 10000
     },
     "inputWidgets": {},
     "nuid": "732391bb-8d33-4ac8-a2d7-4a7efc617715",
     "showTitle": true,
     "tableResultSettingsMap": {},
     "title": "imports"
    }
   },
   "outputs": [
    {
     "output_type": "display_data",
     "data": {
      "application/vnd.databricks.v1+h3_hint": "",
      "text/plain": []
     },
     "metadata": {},
     "output_type": "display_data"
    }
   ],
   "source": [
    "import numpy as np\n",
    "import pandas as pd\n",
    "import os\n",
    "import gistMC as gi\n",
    "import eqSQL as es\n",
    "import matplotlib.pyplot as plt\n",
    "import seaborn as sns\n",
    "import geopandas\n",
    "#import contextily as cx"
   ]
  },
  {
   "cell_type": "code",
   "execution_count": 0,
   "metadata": {
    "application/vnd.databricks.v1+cell": {
     "cellMetadata": {
      "byteLimit": 2048000,
      "rowLimit": 10000
     },
     "inputWidgets": {},
     "nuid": "f363a4c7-dd42-4e22-a888-cbf75b53ad45",
     "showTitle": false,
     "tableResultSettingsMap": {},
     "title": ""
    }
   },
   "outputs": [],
   "source": [
    "import gistPlots as gp"
   ]
  },
  {
   "cell_type": "markdown",
   "metadata": {
    "application/vnd.databricks.v1+cell": {
     "cellMetadata": {
      "byteLimit": 2048000,
      "rowLimit": 10000
     },
     "inputWidgets": {},
     "nuid": "83eacea1-ee6c-412e-86e8-eb0062d6a40c",
     "showTitle": false,
     "tableResultSettingsMap": {},
     "title": ""
    }
   },
   "source": [
    "#1. Select Event"
   ]
  },
  {
   "cell_type": "code",
   "execution_count": 0,
   "metadata": {
    "application/vnd.databricks.v1+cell": {
     "cellMetadata": {
      "byteLimit": 2048000,
      "rowLimit": 10000
     },
     "inputWidgets": {},
     "nuid": "29556f3e-cfbc-4eb2-aac0-ffdd3b050893",
     "showTitle": true,
     "tableResultSettingsMap": {},
     "title": "Input TexNet Event ID (1.1)"
    }
   },
   "outputs": [],
   "source": [
    "eventID='texnet2024oqfb'"
   ]
  },
  {
   "cell_type": "code",
   "execution_count": 0,
   "metadata": {
    "application/vnd.databricks.v1+cell": {
     "cellMetadata": {
      "byteLimit": 2048000,
      "rowLimit": 10000
     },
     "inputWidgets": {},
     "nuid": "d60eb1f0-2056-49e5-94c6-5927832497b4",
     "showTitle": true,
     "tableResultSettingsMap": {},
     "title": "Create Output Path for Event (1.2)"
    }
   },
   "outputs": [],
   "source": [
    "runPath=gistPath+'/runs/'+eventID+'/'\n",
    "os.makedirs(runPath, exist_ok=True)"
   ]
  },
  {
   "cell_type": "code",
   "execution_count": 0,
   "metadata": {
    "application/vnd.databricks.v1+cell": {
     "cellMetadata": {
      "byteLimit": 2048000,
      "rowLimit": 10000
     },
     "inputWidgets": {},
     "nuid": "ce7a3a90-f553-4113-abbe-37d6fb67d6e5",
     "showTitle": true,
     "tableResultSettingsMap": {},
     "title": "Fetch Earthquake Info (1.3)"
    }
   },
   "outputs": [
    {
     "output_type": "stream",
     "name": "stdout",
     "output_type": "stream",
     "text": [
      "getEarthquake:     SeismicEventId  ... B3RecordDeletedUTCDateTime\n0         2481836  ...                        NaT\n\n[1 rows x 32 columns] 1\n<class 'geopandas.geodataframe.GeoDataFrame'>\nRangeIndex: 1 entries, 0 to 0\nData columns (total 38 columns):\n #   Column                      Non-Null Count  Dtype         \n---  ------                      --------------  -----         \n 0   SeismicEventId              1 non-null      int64         \n 1   DataSource                  1 non-null      object        \n 2   DataSourceUrl               0 non-null      object        \n 3   EventID                     1 non-null      object        \n 4   EventTimeUtc                1 non-null      datetime64[ns]\n 5   EventTimeInLocalTimeZone    1 non-null      object        \n 6   EventTimeZone               1 non-null      object        \n 7   EventType                   1 non-null      object        \n 8   DepthKm                     1 non-null      float64       \n 9   DepthErrorKm                1 non-null      float64       \n 10  Magnitude                   1 non-null      float64       \n 11  MagnitudeError              0 non-null      float64       \n 12  MagnitudeType               1 non-null      object        \n 13  Location                    1 non-null      object        \n 14  Status                      1 non-null      object        \n 15  Latitude                    1 non-null      float64       \n 16  LatitudeError               1 non-null      float64       \n 17  Longitude                   1 non-null      float64       \n 18  LongitudeError              1 non-null      float64       \n 19  UpdatedDateUtc              1 non-null      datetime64[ns]\n 20  StationCount                1 non-null      int64         \n 21  RMS                         1 non-null      float64       \n 22  RMS_p                       0 non-null      object        \n 23  RMS_s                       0 non-null      object        \n 24  FocalMechanismAzimuthalGap  0 non-null      float64       \n 25  County                      1 non-null      object        \n 26  State                       1 non-null      object        \n 27  DuplicateSetId              1 non-null      int32         \n 28  RankWithinDuplicateSet      1 non-null      int32         \n 29  B3RecordAddedUTCDateTime    1 non-null      datetime64[ns]\n 30  B3RecordUpdatedUTCDateTime  1 non-null      datetime64[ns]\n 31  B3RecordDeletedUTCDateTime  0 non-null      datetime64[ns]\n 32  Origin Date                 1 non-null      object        \n 33  Origin Time                 1 non-null      object        \n 34  geometry                    1 non-null      geometry      \n 35  Strike                      1 non-null      float64       \n 36  Dip                         1 non-null      float64       \n 37  Rake                        1 non-null      float64       \ndtypes: datetime64[ns](5), float64(13), geometry(1), int32(2), int64(2), object(15)\nmemory usage: 424.0+ bytes\n"
     ]
    }
   ],
   "source": [
    "eqs=es.eqSQL()\n",
    "EQDF=eqs.getEarthquake(eventID)\n",
    "EQDF=EQDF.rename(columns={'LatitudeErrorKm':'LatitudeError','LongitudeErrorKm':'LongitudeError','EventId':'EventID'})\n",
    "# What about the other fault plane solution? - 251 / 36 / -97\n",
    "EQDF['Strike']=80.\n",
    "EQDF['Dip']=55.\n",
    "EQDF['Rake']=-85.\n",
    "# We could make use of the Rake\n",
    "EQDF.info()\n",
    "eq=EQDF.loc[0]"
   ]
  },
  {
   "cell_type": "code",
   "execution_count": 0,
   "metadata": {
    "application/vnd.databricks.v1+cell": {
     "cellMetadata": {
      "byteLimit": 2048000,
      "rowLimit": 10000
     },
     "inputWidgets": {},
     "nuid": "57a3cca2-ed2c-4c68-852b-7afa1f5fdaa0",
     "showTitle": true,
     "tableResultSettingsMap": {},
     "title": "Output Earthquake (1.4)"
    }
   },
   "outputs": [],
   "source": [
    "EQDF.to_csv(runPath+'/EQ.csv')"
   ]
  },
  {
   "cell_type": "markdown",
   "metadata": {
    "application/vnd.databricks.v1+cell": {
     "cellMetadata": {
      "byteLimit": 2048000,
      "rowLimit": 10000
     },
     "inputWidgets": {},
     "nuid": "41d31cc5-0dad-4f64-a0ad-66225f6ae397",
     "showTitle": false,
     "tableResultSettingsMap": {},
     "title": ""
    }
   },
   "source": [
    "#2. Initial Run"
   ]
  },
  {
   "cell_type": "markdown",
   "metadata": {
    "application/vnd.databricks.v1+cell": {
     "cellMetadata": {
      "byteLimit": 2048000,
      "rowLimit": 10000
     },
     "inputWidgets": {},
     "nuid": "33bedbfc-3c55-458b-9024-9523dec9d858",
     "showTitle": false,
     "tableResultSettingsMap": {},
     "title": ""
    }
   },
   "source": [
    "##2.1 Subsurface Model Parameters"
   ]
  },
  {
   "cell_type": "markdown",
   "metadata": {
    "application/vnd.databricks.v1+cell": {
     "cellMetadata": {
      "byteLimit": 2048000,
      "rowLimit": 10000
     },
     "inputWidgets": {},
     "nuid": "8c1e59e0-8d99-4372-9269-dafe823c3521",
     "showTitle": false,
     "tableResultSettingsMap": {},
     "title": ""
    }
   },
   "source": [
    "###Inputs:"
   ]
  },
  {
   "cell_type": "code",
   "execution_count": 0,
   "metadata": {
    "application/vnd.databricks.v1+cell": {
     "cellMetadata": {
      "byteLimit": 2048000,
      "rowLimit": 10000
     },
     "inputWidgets": {},
     "nuid": "fa86e866-ce36-4367-b2f6-cd78fcc54b4e",
     "showTitle": true,
     "tableResultSettingsMap": {},
     "title": "Depth Interval (Deep/Shallow)"
    }
   },
   "outputs": [],
   "source": [
    "# Binary deep/shallow parameter\n",
    "deepOrShallow='Deep'\n",
    "# Depth from surface (ft)\n",
    "# Distinguishes deep/shallow where we don't have a horizon \n",
    "depthCutoff=8000."
   ]
  },
  {
   "cell_type": "code",
   "execution_count": 0,
   "metadata": {
    "application/vnd.databricks.v1+cell": {
     "cellMetadata": {
      "byteLimit": 2048000,
      "rowLimit": 10000
     },
     "inputWidgets": {},
     "nuid": "5eac1e6f-a489-46ea-9e08-aaa35509f3fe",
     "showTitle": true,
     "tableResultSettingsMap": {},
     "title": "Monte-Carlo Parameters"
    }
   },
   "outputs": [],
   "source": [
    "nRealizations=500"
   ]
  },
  {
   "cell_type": "code",
   "execution_count": 0,
   "metadata": {
    "application/vnd.databricks.v1+cell": {
     "cellMetadata": {
      "byteLimit": 2048000,
      "rowLimit": 10000
     },
     "inputWidgets": {},
     "nuid": "a92b5ecc-ee98-4077-8e0b-c95a42deea53",
     "showTitle": true,
     "tableResultSettingsMap": {},
     "title": "Fluid Properties"
    }
   },
   "outputs": [],
   "source": [
    "# Water density minimum/maximum (kg/m3)\n",
    "WaterDensityMin=1015.\n",
    "WaterDensityMax=1025.\n",
    "# Water viscosity minimum/maximum (Pa.s)\n",
    "WaterViscosityMin=0.000799\n",
    "WaterViscosityMax=0.000801\n",
    "# Fluid Compressibility minimum/maximum (1/Pa)\n",
    "FluidCompressibilityMin=0.000000000359\n",
    "FluidCompressibilityMax=0.000000000361"
   ]
  },
  {
   "cell_type": "code",
   "execution_count": 0,
   "metadata": {
    "application/vnd.databricks.v1+cell": {
     "cellMetadata": {
      "byteLimit": 2048000,
      "rowLimit": 10000
     },
     "inputWidgets": {},
     "nuid": "d58e0474-d42e-49be-94ae-633087760772",
     "showTitle": true,
     "tableResultSettingsMap": {},
     "title": "Depth Interval Properties"
    }
   },
   "outputs": [],
   "source": [
    "# Porosity in percent\n",
    "PorosityPercentMin=3.\n",
    "PorosityPercentMax=15.\n",
    "\n",
    "# Permeability in millidarcies\n",
    "PermMDMin=5.\n",
    "PermMDMax=500.\n",
    "\n",
    "# Thickness in feet\n",
    "ThicknessFTMin=200.\n",
    "ThicknessFTMax=2000.\n",
    "\n",
    "# Vertical compressibility minimum/maximum (1/Pa)\n",
    "VerticalCompressibilityMin=0.00000000107\n",
    "VerticalCompressibilityMax=0.00000000109"
   ]
  },
  {
   "cell_type": "code",
   "execution_count": 0,
   "metadata": {
    "application/vnd.databricks.v1+cell": {
     "cellMetadata": {
      "byteLimit": 2048000,
      "rowLimit": 10000
     },
     "inputWidgets": {},
     "nuid": "17c599c7-20e2-4a5f-9e30-737f6b236831",
     "showTitle": true,
     "tableResultSettingsMap": {},
     "title": "Well Contribution Filtering Parameters"
    }
   },
   "outputs": [],
   "source": [
    "# Verbosity - 0=silent, 1=some, 2=lots\n",
    "verb=0\n",
    "# Minimum Pressure change to care about in PSI\n",
    "dPCutoff=0.5\n",
    "# Maximum Number of wells to plot\n",
    "nWells=50\n",
    "# How far back in time to plot in years\n",
    "minYear=-40"
   ]
  },
  {
   "cell_type": "markdown",
   "metadata": {
    "application/vnd.databricks.v1+cell": {
     "cellMetadata": {
      "byteLimit": 2048000,
      "rowLimit": 10000
     },
     "inputWidgets": {},
     "nuid": "9237e4af-4e41-491b-add8-8b182193f2e7",
     "showTitle": false,
     "tableResultSettingsMap": {},
     "title": ""
    }
   },
   "source": [
    "### Set Interval-Specific Paths...\n"
   ]
  },
  {
   "cell_type": "code",
   "execution_count": 0,
   "metadata": {
    "application/vnd.databricks.v1+cell": {
     "cellMetadata": {
      "byteLimit": 2048000,
      "rowLimit": 10000
     },
     "inputWidgets": {},
     "nuid": "1ad711f6-8be1-4dfe-80dd-e64126d0aadc",
     "showTitle": true,
     "tableResultSettingsMap": {},
     "title": "Create Subdirectory for Interval in EQ Directory"
    }
   },
   "outputs": [],
   "source": [
    "# Set an output directory for this earthquake and this interval\n",
    "runIntervalPath=runPath+deepOrShallow+'/'\n",
    "# Make directory if it doesn't exist\n",
    "os.makedirs(runIntervalPath, exist_ok=True)\n",
    "################################################\n",
    "# Output prefix for realizations of parameters #\n",
    "################################################\n",
    "RealizationPrefix=runIntervalPath+'MC'"
   ]
  },
  {
   "cell_type": "code",
   "execution_count": 0,
   "metadata": {
    "application/vnd.databricks.v1+cell": {
     "cellMetadata": {
      "byteLimit": 2048000,
      "rowLimit": 10000
     },
     "inputWidgets": {},
     "nuid": "7b3f2312-434f-4dc7-a7d1-dc7a2717a900",
     "showTitle": true,
     "tableResultSettingsMap": {},
     "title": "Point to disposal data for the chosen interval"
    }
   },
   "outputs": [],
   "source": [
    "# Point to appropriate well and injection files\n",
    "if deepOrShallow=='Deep':\n",
    "  WellFile=injPath+'/deep.csv'\n",
    "  InjFile=injPath+'/deepReg.csv'\n",
    "elif deepOrShallow=='Shallow':\n",
    "  WellFile=injPath+'/shallow.csv'\n",
    "  InjFile=injPath+'/shallowReg.csv'"
   ]
  },
  {
   "cell_type": "code",
   "execution_count": 0,
   "metadata": {
    "application/vnd.databricks.v1+cell": {
     "cellMetadata": {
      "byteLimit": 2048000,
      "rowLimit": 10000
     },
     "inputWidgets": {},
     "nuid": "16de396c-1e22-448a-bab6-c19d33b922b9",
     "showTitle": true,
     "tableResultSettingsMap": {},
     "title": "Poroelastic Parameters - Future Use"
    }
   },
   "outputs": [],
   "source": [
    "# Oversampling of time axis (poroelastic-only)\n",
    "nTimeBins=21\n",
    "# Poroelastic parameters - for in-zone poroelasticity in v2\n",
    "ShearModulusMin=4e9\n",
    "ShearModulusMax=6e9\n",
    "PoissonsRatioDrainedMin=0.295\n",
    "PoissonsRatioDrainedMax=0.305\n",
    "PoissonsRatioUndrainedMin=0.305\n",
    "PoissonsRatioUndrainedMax=0.315\n",
    "BiotsCoefficientMin=0.26\n",
    "BiotsCoefficientMax=0.36\n",
    "# Fault parameters (poroelastic-only)\n",
    "FaultFrictionCoeffMin=0.55\n",
    "FaultFrictionCoeffMax=0.65\n",
    "RockFrictionCoeffMin=0.55\n",
    "RockFrictionCoeffMax=0.65"
   ]
  },
  {
   "cell_type": "markdown",
   "metadata": {
    "application/vnd.databricks.v1+cell": {
     "cellMetadata": {
      "byteLimit": 2048000,
      "rowLimit": 10000
     },
     "inputWidgets": {},
     "nuid": "61b8015e-aa08-4602-a74d-7e156b85d725",
     "showTitle": false,
     "tableResultSettingsMap": {},
     "title": ""
    }
   },
   "source": [
    "##2.2 Results"
   ]
  },
  {
   "cell_type": "markdown",
   "metadata": {
    "application/vnd.databricks.v1+cell": {
     "cellMetadata": {
      "byteLimit": 2048000,
      "rowLimit": 10000
     },
     "inputWidgets": {},
     "nuid": "b9911a2e-abbe-48fa-beb3-db4bc2a8727a",
     "showTitle": false,
     "tableResultSettingsMap": {},
     "title": ""
    }
   },
   "source": [
    "###Compute"
   ]
  },
  {
   "cell_type": "code",
   "execution_count": 0,
   "metadata": {
    "application/vnd.databricks.v1+cell": {
     "cellMetadata": {
      "byteLimit": 2048000,
      "rowLimit": 10000
     },
     "inputWidgets": {},
     "nuid": "d6dead15-ae34-43e1-8795-831b0532c24a",
     "showTitle": true,
     "tableResultSettingsMap": {},
     "title": "Initialize GIST"
    }
   },
   "outputs": [],
   "source": [
    "gist=gi.gistMC(nReal=nRealizations,\n",
    "                ntBin=nTimeBins)\n",
    "gist.initPP(rho0_min=WaterDensityMin,\n",
    "             rho0_max=WaterDensityMax,\n",
    "             phi_min=PorosityPercentMin,\n",
    "             phi_max=PorosityPercentMax,\n",
    "             kMD_min=PermMDMin,\n",
    "             kMD_max=PermMDMax,\n",
    "             h_min=ThicknessFTMin,\n",
    "             h_max=ThicknessFTMax,\n",
    "             alphav_min=VerticalCompressibilityMin,\n",
    "             alphav_max=VerticalCompressibilityMax,\n",
    "             beta_min=FluidCompressibilityMin,\n",
    "             beta_max=FluidCompressibilityMax)"
   ]
  },
  {
   "cell_type": "code",
   "execution_count": 0,
   "metadata": {
    "application/vnd.databricks.v1+cell": {
     "cellMetadata": {
      "byteLimit": 2048000,
      "rowLimit": 10000
     },
     "inputWidgets": {},
     "nuid": "c61650ff-760c-4493-a9e7-3ad67488dd8d",
     "showTitle": true,
     "tableResultSettingsMap": {},
     "title": "Add Wells to GIST"
    }
   },
   "outputs": [],
   "source": [
    "gist.addWells(WellFile,InjFile,verbose=verb)\n",
    "if verb>0:\n",
    "  gist.wellDF.info()\n",
    "  EQDF.info()"
   ]
  },
  {
   "cell_type": "code",
   "execution_count": 0,
   "metadata": {
    "application/vnd.databricks.v1+cell": {
     "cellMetadata": {
      "byteLimit": 2048000,
      "rowLimit": 10000
     },
     "inputWidgets": {},
     "nuid": "216af07b-6ac8-453c-aac3-2cf6fdf8d2c6",
     "showTitle": true,
     "tableResultSettingsMap": {},
     "title": "Select Wells To Analyze"
    }
   },
   "outputs": [],
   "source": [
    "selectedWellsDF,ignoredWellsDF,injDF=gist.findWells(eq,PE=False,verbose=verb)"
   ]
  },
  {
   "cell_type": "code",
   "execution_count": 0,
   "metadata": {
    "application/vnd.databricks.v1+cell": {
     "cellMetadata": {
      "byteLimit": 2048000,
      "rowLimit": 10000
     },
     "inputWidgets": {},
     "nuid": "9bc68774-2a3e-4964-a170-d95d30a103ad",
     "showTitle": true,
     "tableResultSettingsMap": {},
     "title": "Compute Pressure Realizations at Event Time"
    }
   },
   "outputs": [],
   "source": [
    "scenarioDF=gist.runPressureScenarios(eq,selectedWellsDF,injDF,verbose=verb)"
   ]
  },
  {
   "cell_type": "code",
   "execution_count": 0,
   "metadata": {
    "application/vnd.databricks.v1+cell": {
     "cellMetadata": {
      "byteLimit": 2048000,
      "rowLimit": 10000
     },
     "inputWidgets": {},
     "nuid": "33770d73-6562-4c5c-b4fa-e96d27c00250",
     "showTitle": true,
     "tableResultSettingsMap": {},
     "title": "Filter Negligible Wells at EQ Time"
    }
   },
   "outputs": [],
   "source": [
    "filteredDF,orderedWellList=gi.summarizePPResults(scenarioDF,selectedWellsDF,threshold=dPCutoff,nOrder=nWells,verbose=verb)"
   ]
  },
  {
   "cell_type": "code",
   "execution_count": 0,
   "metadata": {
    "application/vnd.databricks.v1+cell": {
     "cellMetadata": {
      "byteLimit": 2048000,
      "rowLimit": 10000
     },
     "inputWidgets": {},
     "nuid": "4edbea65-b930-4dd3-b18b-37ebd8f78b8e",
     "showTitle": true,
     "tableResultSettingsMap": {},
     "title": "Generate results for disaggregation plot"
    }
   },
   "outputs": [
    {
     "output_type": "stream",
     "name": "stdout",
     "output_type": "stream",
     "text": [
      " prepDisaggregationPlot:  40  wells in disaggregation plot with  500  realizations\n prepDisaggregationPlot:  500  rows for  MARIENFELD 13 1D\n prepDisaggregationPlot:  500  rows for  ANNALEA SWD 1\n prepDisaggregationPlot:  500  rows for  PALO VERDE 1\n prepDisaggregationPlot:  500  rows for  FAUDREE 1D\n prepDisaggregationPlot:  500  rows for  NEPTUNE SWD 1\n prepDisaggregationPlot:  500  rows for  DICKENSON 20 8D\n prepDisaggregationPlot:  500  rows for  CORFU SWD 1\n prepDisaggregationPlot:  500  rows for  SALE RANCH 27 1DD\n prepDisaggregationPlot:  500  rows for  PAT, K. 3\n prepDisaggregationPlot:  500  rows for  SALT LAKE SWD 1\n prepDisaggregationPlot:  500  rows for  LIMEQUEST 6 SWD 1D\n prepDisaggregationPlot:  500  rows for  MCMORRIES 18 SWD 2D\n prepDisaggregationPlot:  500  rows for  BERRY SWD 1\n prepDisaggregationPlot:  500  rows for  PENROSE-OLDHAM SWD 2\n prepDisaggregationPlot:  500  rows for  DAGGER LAKE SWD 08SD\n prepDisaggregationPlot:  500  rows for  MARBILL SWD 1\n prepDisaggregationPlot:  500  rows for  NAIL RANCH \\\"36\\\" 1D\n prepDisaggregationPlot:  500  rows for  BROWN SWD 1\n prepDisaggregationPlot:  500  rows for  RUSSELL SWD 1S\n prepDisaggregationPlot:  500  rows for  JAKE THE SNAKE SWD 1\n prepDisaggregationPlot:  500  rows for  WHISTLING DUCK 1D \n prepDisaggregationPlot:  500  rows for  GUITAR ESTATE -B- 2D\n prepDisaggregationPlot:  500  rows for  3601 SWD 1\n prepDisaggregationPlot:  500  rows for  WADDELL 12 1D\n prepDisaggregationPlot:  500  rows for  MIDLAND NATIONAL BANK '39' SWD 1\n prepDisaggregationPlot:  500  rows for  WATERBURGER 1D\n prepDisaggregationPlot:  500  rows for  SNOWDEN, JOHN 1D\n prepDisaggregationPlot:  500  rows for  GUITAR 7 2\n prepDisaggregationPlot:  500  rows for  AXIS SWD 1\n prepDisaggregationPlot:  500  rows for  BEAVER SWD 1D\n prepDisaggregationPlot:  500  rows for  HOMAN, EUNICE 1\n prepDisaggregationPlot:  500  rows for  TYRION SWD 04SD\n prepDisaggregationPlot:  500  rows for  GT HALL D  1\n prepDisaggregationPlot:  500  rows for  DELPHIN SWD 1\n prepDisaggregationPlot:  500  rows for  STATE UNIVERSITY HUTEX CONS. 22W\n prepDisaggregationPlot:  500  rows for  JONES-HOLTON D 4D\n prepDisaggregationPlot:  500  rows for  GILBERT, G. WRIGHT. JR. ESTATE 1\n prepDisaggregationPlot:  500  rows for  WILBANKS 16 6D\n prepDisaggregationPlot:  500  rows for  WILKINSON RANCH 35 5D\n prepDisaggregationPlot:  500  rows for  All 242 Others Below 0.5 PSI\n"
     ]
    }
   ],
   "source": [
    "disaggregationDF=gi.prepDisaggregationPlot(filteredDF,orderedWellList,jitter=0.1,verbose=1)"
   ]
  },
  {
   "cell_type": "code",
   "execution_count": 0,
   "metadata": {
    "application/vnd.databricks.v1+cell": {
     "cellMetadata": {
      "byteLimit": 2048000,
      "rowLimit": 10000
     },
     "inputWidgets": {},
     "nuid": "2f954928-3373-475d-9584-c75b31b62e95",
     "showTitle": true,
     "tableResultSettingsMap": {},
     "title": "Generate Results For R-MinusT Plot"
    }
   },
   "outputs": [],
   "source": [
    "diffRange=(min(gist.diffPPVec),max(gist.diffPPVec))\n",
    "rtDF,mergedWellsDF = gi.prepRTPlot(selectedWellsDF,ignoredWellsDF,minYear,diffRange,clipYear=False)"
   ]
  },
  {
   "cell_type": "code",
   "execution_count": 0,
   "metadata": {
    "application/vnd.databricks.v1+cell": {
     "cellMetadata": {
      "byteLimit": 2048000,
      "rowLimit": 10000
     },
     "inputWidgets": {},
     "nuid": "2419da03-31b9-4965-af0c-272e4ca4e537",
     "showTitle": true,
     "tableResultSettingsMap": {},
     "title": "Isolate nonnegligible wells and disposal data"
    }
   },
   "outputs": [],
   "source": [
    "winWellsDF,winInjDF=gi.getWinWells(filteredDF,selectedWellsDF,injDF)"
   ]
  },
  {
   "cell_type": "code",
   "execution_count": 0,
   "metadata": {
    "application/vnd.databricks.v1+cell": {
     "cellMetadata": {
      "byteLimit": 2048000,
      "rowLimit": 10000
     },
     "inputWidgets": {},
     "nuid": "0999e7ec-4252-48c7-9b3d-233e0d78b2ce",
     "showTitle": true,
     "tableResultSettingsMap": {},
     "title": "Compute Time Series of Pressures for material wells"
    }
   },
   "outputs": [
    {
     "output_type": "stream",
     "name": "stdout",
     "output_type": "stream",
     "text": [
      "runPressureScenariosTimeSeriesTest Well  1  of  39\nrunPressureScenariosTimeSeriesTest Well  11  of  39\nrunPressureScenariosTimeSeriesTest Well  21  of  39\nrunPressureScenariosTimeSeriesTest Well  31  of  39\nrunPressureScenariosTimeSeries: Negative pressures found:  11174566\n"
     ]
    }
   ],
   "source": [
    "# Slower implementation:\n",
    "#scenarioTSDF,dPTimeSeries,wellIDs,dayVec = gist.runPressureScenariosTimeSeries(eq,winWellsDF,winInjDF,verbose=verb)\n",
    "scenarioTSDF,dPTimeSeries,wellIDs,dayVec = gist.runPressureScenariosTimeSeriesTest(eq,winWellsDF,winInjDF,verbose=verb)"
   ]
  },
  {
   "cell_type": "code",
   "execution_count": 0,
   "metadata": {
    "application/vnd.databricks.v1+cell": {
     "cellMetadata": {
      "byteLimit": 2048000,
      "rowLimit": 10000
     },
     "inputWidgets": {},
     "nuid": "1ac46fcf-0060-4679-9285-3e807fa9abd8",
     "showTitle": false,
     "tableResultSettingsMap": {},
     "title": ""
    }
   },
   "outputs": [],
   "source": [
    "\n",
    "scenarioTSRDF,dPTimeSeriesR,wellIDsR,dayVecR = gist.runPressureScenariosTimeSeries(eq,winWellsDF,winInjDF,verbose=verb)"
   ]
  },
  {
   "cell_type": "code",
   "execution_count": 0,
   "metadata": {
    "application/vnd.databricks.v1+cell": {
     "cellMetadata": {
      "byteLimit": 2048000,
      "rowLimit": 10000
     },
     "inputWidgets": {},
     "nuid": "348d7925-7907-4739-b2aa-7971b25e48ca",
     "showTitle": true,
     "tableResultSettingsMap": {},
     "title": "Sum Time Series"
    }
   },
   "outputs": [],
   "source": [
    "dPTimeSeriesSum=dPTimeSeries.sum(axis=1)"
   ]
  },
  {
   "cell_type": "code",
   "execution_count": 0,
   "metadata": {
    "application/vnd.databricks.v1+cell": {
     "cellMetadata": {
      "byteLimit": 2048000,
      "rowLimit": 10000
     },
     "inputWidgets": {},
     "nuid": "c1d96fa9-a258-4a22-891a-f77277dc69cd",
     "showTitle": true,
     "tableResultSettingsMap": {},
     "title": "Sensitivity Test"
    }
   },
   "outputs": [
    {
     "output_type": "stream",
     "name": "stdout",
     "output_type": "stream",
     "text": [
      "getPressureSensitivity: ntaS min/max:  0.0009 0.0011\ngetPressureSensitivity: phiS min/max:  3.0 15.0\ngetPressureSensitivity: hMS min/max:  60.96 609.6\ngetPressureSensitivity: alphavS min/max:  1.07e-09 1.08e-09\ngetPressureSensitivity: betaS min/max:  3.59e-10 3.61e-10\ngetPressureSensitivity: kMDS min/max:  5.0 500.0\ngetPressureSensitivity: SS:  [[0.00371367]\n [0.00373197]\n [0.00375026]\n [0.00373197]\n [0.00373197]\n [0.00373197]\n [0.0036595 ]\n [0.00373197]\n [0.00380443]\n [0.00067854]\n [0.00373197]\n [0.00678539]\n [0.00369842]\n [0.00373197]\n [0.00373197]\n [0.00373167]\n [0.00373197]\n [0.00373227]\n [0.00373197]\n [0.00373197]\n [0.00373197]]\ngetPressureSensitivity: TS:  [[8.34524852e-04]\n [8.38635812e-04]\n [8.42746772e-04]\n [9.31817569e-04]\n [8.38635812e-04]\n [7.62396193e-04]\n [8.38635812e-04]\n [8.38635812e-04]\n [8.38635812e-04]\n [1.52479239e-04]\n [8.38635812e-04]\n [1.52479239e-03]\n [8.38635812e-04]\n [8.38635812e-04]\n [8.38635812e-04]\n [8.38635812e-04]\n [8.38635812e-04]\n [8.38635812e-04]\n [1.66066497e-05]\n [8.38635812e-04]\n [1.66066497e-03]]\ngetPressureSensitivity: rhoS:  [[1015.]\n [1020.]\n [1025.]\n [1020.]\n [1020.]\n [1020.]\n [1020.]\n [1020.]\n [1020.]\n [1020.]\n [1020.]\n [1020.]\n [1020.]\n [1020.]\n [1020.]\n [1020.]\n [1020.]\n [1020.]\n [1020.]\n [1020.]\n [1020.]]\n gistMC.runPressureScenarios: Number of wells considered:  39\n gistMC.pressureScenario: well  0  of  39 :  2081279\n gistMC.pressureScenario: well  10  of  39 :  2120859\n gistMC.pressureScenario: well  20  of  39 :  2119358\n gistMC.pressureScenario: well  30  of  39 :  2081404\n gistMC.pressureScenario: scenario  1  of  21 : Max P: 4.766325112215248\n gistMC.pressureScenario: scenario  2  of  21 : Max P: 4.7663251122152515\n gistMC.pressureScenario: scenario  3  of  21 : Max P: 4.766325112215253\n gistMC.pressureScenario: scenario  4  of  21 : Max P: 4.421498503481721\n gistMC.pressureScenario: scenario  5  of  21 : Max P: 4.7663251122152515\n gistMC.pressureScenario: scenario  6  of  21 : Max P: 5.096628249857349\n gistMC.pressureScenario: scenario  7  of  21 : Max P: 4.79362846902437\n gistMC.pressureScenario: scenario  8  of  21 : Max P: 4.7663251122152515\n gistMC.pressureScenario: scenario  9  of  21 : Max P: 4.739525529496115\n gistMC.pressureScenario: scenario  10  of  21 : Max P: 26.214788117183872\n gistMC.pressureScenario: scenario  11  of  21 : Max P: 4.7663251122152515\n gistMC.pressureScenario: scenario  12  of  21 : Max P: 2.6214788117183887\n gistMC.pressureScenario: scenario  13  of  21 : Max P: 4.778901755316866\n gistMC.pressureScenario: scenario  14  of  21 : Max P: 4.7663251122152515\n gistMC.pressureScenario: scenario  15  of  21 : Max P: 4.7663251122152515\n gistMC.pressureScenario: scenario  16  of  21 : Max P: 4.7664378176905995\n gistMC.pressureScenario: scenario  17  of  21 : Max P: 4.7663251122152515\n gistMC.pressureScenario: scenario  18  of  21 : Max P: 4.766212415484382\n gistMC.pressureScenario: scenario  19  of  21 : Max P: 4.365853818062159\n gistMC.pressureScenario: scenario  20  of  21 : Max P: 4.7663251122152515\n gistMC.pressureScenario: scenario  21  of  21 : Max P: 2.88122933217788\ngetPressureSensitivity: per-well pressures:  1.0429420875692712e-98 26.214788117183872\ngetPressureSensitivity: total pressures:  4.367236818154671 75.1428806053708\nwSDF     index         EventID  ...                 Parameter  Value\n0       0  texnet2024oqfb  ...                   Density    Min\n1      39  texnet2024oqfb  ...                   Density   Mean\n2      78  texnet2024oqfb  ...                   Density    Max\n3     117  texnet2024oqfb  ...                 Viscosity    Min\n4     156  texnet2024oqfb  ...                 Viscosity   Mean\n5     195  texnet2024oqfb  ...                 Viscosity    Max\n6     234  texnet2024oqfb  ...                  Porosity    Min\n7     273  texnet2024oqfb  ...                  Porosity   Mean\n8     312  texnet2024oqfb  ...                  Porosity    Max\n9     351  texnet2024oqfb  ...        Interval Thickness    Min\n10    390  texnet2024oqfb  ...        Interval Thickness   Mean\n11    429  texnet2024oqfb  ...        Interval Thickness    Max\n12    468  texnet2024oqfb  ...  Vertical Compressibility    Min\n13    507  texnet2024oqfb  ...  Vertical Compressibility   Mean\n14    546  texnet2024oqfb  ...  Vertical Compressibility    Max\n15    585  texnet2024oqfb  ...     Fluid Compressibility    Min\n16    624  texnet2024oqfb  ...     Fluid Compressibility   Mean\n17    663  texnet2024oqfb  ...     Fluid Compressibility    Max\n18    702  texnet2024oqfb  ...              Permeability    Min\n19    741  texnet2024oqfb  ...              Permeability   Mean\n20    780  texnet2024oqfb  ...              Permeability    Max\n\n[21 rows x 17 columns]\nsensitivityDF Empty DataFrame\nColumns: [EventID, EventLatitude, EventLongitude, ID, Name, API, Latitude, Longitude, NumWells, Pressures, TotalPressure, Percentages, Realization, Parameter, Value, DeltaPressure]\nIndex: []\nwsDF.index: RangeIndex(start=0, stop=21, step=1)\nwsDF.columns: Index(['index', 'EventID', 'EventLatitude', 'EventLongitude', 'ID', 'Name',\n       'API', 'Latitude', 'Longitude', 'NumWells', 'Pressures',\n       'TotalPressure', 'Percentages', 'Realization', 'DeltaPressure',\n       'Parameter', 'Value'],\n      dtype='object')\nsensitivityDF.index Index([], dtype='object')\nwSDF     index         EventID  ...                 Parameter  Value\n0       1  texnet2024oqfb  ...                   Density    Min\n1      40  texnet2024oqfb  ...                   Density   Mean\n2      79  texnet2024oqfb  ...                   Density    Max\n3     118  texnet2024oqfb  ...                 Viscosity    Min\n4     157  texnet2024oqfb  ...                 Viscosity   Mean\n5     196  texnet2024oqfb  ...                 Viscosity    Max\n6     235  texnet2024oqfb  ...                  Porosity    Min\n7     274  texnet2024oqfb  ...                  Porosity   Mean\n8     313  texnet2024oqfb  ...                  Porosity    Max\n9     352  texnet2024oqfb  ...        Interval Thickness    Min\n10    391  texnet2024oqfb  ...        Interval Thickness   Mean\n11    430  texnet2024oqfb  ...        Interval Thickness    Max\n12    469  texnet2024oqfb  ...  Vertical Compressibility    Min\n13    508  texnet2024oqfb  ...  Vertical Compressibility   Mean\n14    547  texnet2024oqfb  ...  Vertical Compressibility    Max\n15    586  texnet2024oqfb  ...     Fluid Compressibility    Min\n16    625  texnet2024oqfb  ...     Fluid Compressibility   Mean\n17    664  texnet2024oqfb  ...     Fluid Compressibility    Max\n18    703  texnet2024oqfb  ...              Permeability    Min\n19    742  texnet2024oqfb  ...              Permeability   Mean\n20    781  texnet2024oqfb  ...              Permeability    Max\n\n[21 rows x 17 columns]\nsensitivityDF            EventID  EventLatitude  EventLongitude  ... Value DeltaPressure  index\n0   texnet2024oqfb      32.144165     -101.805214  ...   Min  1.110223e-16    0.0\n1   texnet2024oqfb      32.144165     -101.805214  ...  Mean  0.000000e+00   39.0\n2   texnet2024oqfb      32.144165     -101.805214  ...   Max  4.163336e-16   78.0\n3   texnet2024oqfb      32.144165     -101.805214  ...   Min  3.222791e-03  117.0\n4   texnet2024oqfb      32.144165     -101.805214  ...  Mean  0.000000e+00  156.0\n5   texnet2024oqfb      32.144165     -101.805214  ...   Max -4.056853e-03  195.0\n6   texnet2024oqfb      32.144165     -101.805214  ...   Min  3.812108e-03  234.0\n7   texnet2024oqfb      32.144165     -101.805214  ...  Mean  0.000000e+00  273.0\n8   texnet2024oqfb      32.144165     -101.805214  ...   Max -3.697556e-03  312.0\n9   texnet2024oqfb      32.144165     -101.805214  ...   Min  7.042997e-01  351.0\n10  texnet2024oqfb      32.144165     -101.805214  ...  Mean  0.000000e+00  390.0\n11  texnet2024oqfb      32.144165     -101.805214  ...   Max -7.042997e-02  429.0\n12  texnet2024oqfb      32.144165     -101.805214  ...   Min  1.750330e-03  468.0\n13  texnet2024oqfb      32.144165     -101.805214  ...  Mean  0.000000e+00  507.0\n14  texnet2024oqfb      32.144165     -101.805214  ...   Max  0.000000e+00  546.0\n15  texnet2024oqfb      32.144165     -101.805214  ...   Min  1.564278e-05  585.0\n16  texnet2024oqfb      32.144165     -101.805214  ...  Mean  0.000000e+00  624.0\n17  texnet2024oqfb      32.144165     -101.805214  ...   Max -1.564079e-05  663.0\n18  texnet2024oqfb      32.144165     -101.805214  ...   Min -1.565110e-01  702.0\n19  texnet2024oqfb      32.144165     -101.805214  ...  Mean  0.000000e+00  741.0\n20  texnet2024oqfb      32.144165     -101.805214  ...   Max  8.631668e-04  780.0\n\n[21 rows x 17 columns]\nwsDF.index: RangeIndex(start=0, stop=21, step=1)\nwsDF.columns: Index(['index', 'EventID', 'EventLatitude', 'EventLongitude', 'ID', 'Name',\n       'API', 'Latitude', 'Longitude', 'NumWells', 'Pressures',\n       'TotalPressure', 'Percentages', 'Realization', 'DeltaPressure',\n       'Parameter', 'Value'],\n      dtype='object')\nsensitivityDF.index RangeIndex(start=0, stop=21, step=1)\nwSDF     index         EventID  ...                 Parameter  Value\n0       2  texnet2024oqfb  ...                   Density    Min\n1      41  texnet2024oqfb  ...                   Density   Mean\n2      80  texnet2024oqfb  ...                   Density    Max\n3     119  texnet2024oqfb  ...                 Viscosity    Min\n4     158  texnet2024oqfb  ...                 Viscosity   Mean\n5     197  texnet2024oqfb  ...                 Viscosity    Max\n6     236  texnet2024oqfb  ...                  Porosity    Min\n7     275  texnet2024oqfb  ...                  Porosity   Mean\n8     314  texnet2024oqfb  ...                  Porosity    Max\n9     353  texnet2024oqfb  ...        Interval Thickness    Min\n10    392  texnet2024oqfb  ...        Interval Thickness   Mean\n11    431  texnet2024oqfb  ...        Interval Thickness    Max\n12    470  texnet2024oqfb  ...  Vertical Compressibility    Min\n13    509  texnet2024oqfb  ...  Vertical Compressibility   Mean\n14    548  texnet2024oqfb  ...  Vertical Compressibility    Max\n15    587  texnet2024oqfb  ...     Fluid Compressibility    Min\n16    626  texnet2024oqfb  ...     Fluid Compressibility   Mean\n17    665  texnet2024oqfb  ...     Fluid Compressibility    Max\n18    704  texnet2024oqfb  ...              Permeability    Min\n19    743  texnet2024oqfb  ...              Permeability   Mean\n20    782  texnet2024oqfb  ...              Permeability    Max\n\n[21 rows x 17 columns]\nsensitivityDF            EventID  EventLatitude  EventLongitude  ... Value DeltaPressure  index\n0   texnet2024oqfb      32.144165     -101.805214  ...   Min  1.110223e-16    0.0\n1   texnet2024oqfb      32.144165     -101.805214  ...  Mean  0.000000e+00   39.0\n2   texnet2024oqfb      32.144165     -101.805214  ...   Max  4.163336e-16   78.0\n3   texnet2024oqfb      32.144165     -101.805214  ...   Min  3.222791e-03  117.0\n4   texnet2024oqfb      32.144165     -101.805214  ...  Mean  0.000000e+00  156.0\n5   texnet2024oqfb      32.144165     -101.805214  ...   Max -4.056853e-03  195.0\n6   texnet2024oqfb      32.144165     -101.805214  ...   Min  3.812108e-03  234.0\n7   texnet2024oqfb      32.144165     -101.805214  ...  Mean  0.000000e+00  273.0\n8   texnet2024oqfb      32.144165     -101.805214  ...   Max -3.697556e-03  312.0\n9   texnet2024oqfb      32.144165     -101.805214  ...   Min  7.042997e-01  351.0\n10  texnet2024oqfb      32.144165     -101.805214  ...  Mean  0.000000e+00  390.0\n11  texnet2024oqfb      32.144165     -101.805214  ...   Max -7.042997e-02  429.0\n12  texnet2024oqfb      32.144165     -101.805214  ...   Min  1.750330e-03  468.0\n13  texnet2024oqfb      32.144165     -101.805214  ...  Mean  0.000000e+00  507.0\n14  texnet2024oqfb      32.144165     -101.805214  ...   Max  0.000000e+00  546.0\n15  texnet2024oqfb      32.144165     -101.805214  ...   Min  1.564278e-05  585.0\n16  texnet2024oqfb      32.144165     -101.805214  ...  Mean  0.000000e+00  624.0\n17  texnet2024oqfb      32.144165     -101.805214  ...   Max -1.564079e-05  663.0\n18  texnet2024oqfb      32.144165     -101.805214  ...   Min -1.565110e-01  702.0\n19  texnet2024oqfb      32.144165     -101.805214  ...  Mean  0.000000e+00  741.0\n20  texnet2024oqfb      32.144165     -101.805214  ...   Max  8.631668e-04  780.0\n21  texnet2024oqfb      32.144165     -101.805214  ...   Min  6.938894e-18    1.0\n22  texnet2024oqfb      32.144165     -101.805214  ...  Mean  0.000000e+00   40.0\n23  texnet2024oqfb      32.144165     -101.805214  ...   Max  1.110223e-16   79.0\n24  texnet2024oqfb      32.144165     -101.805214  ...   Min  1.243067e-02  118.0\n25  texnet2024oqfb      32.144165     -101.805214  ...  Mean  0.000000e+00  157.0\n26  texnet2024oqfb      32.144165     -101.805214  ...   Max -1.028388e-02  196.0\n27  texnet2024oqfb      32.144165     -101.805214  ...   Min  3.457580e-03  235.0\n28  texnet2024oqfb      32.144165     -101.805214  ...  Mean  0.000000e+00  274.0\n29  texnet2024oqfb      32.144165     -101.805214  ...   Max -3.246529e-03  313.0\n30  texnet2024oqfb      32.144165     -101.805214  ...   Min  2.678749e-01  352.0\n31  texnet2024oqfb      32.144165     -101.805214  ...  Mean  0.000000e+00  391.0\n32  texnet2024oqfb      32.144165     -101.805214  ...   Max -2.678749e-02  430.0\n33  texnet2024oqfb      32.144165     -101.805214  ...   Min  1.573581e-03  469.0\n34  texnet2024oqfb      32.144165     -101.805214  ...  Mean  0.000000e+00  508.0\n35  texnet2024oqfb      32.144165     -101.805214  ...   Max  0.000000e+00  547.0\n36  texnet2024oqfb      32.144165     -101.805214  ...   Min  1.395836e-05  586.0\n37  texnet2024oqfb      32.144165     -101.805214  ...  Mean  0.000000e+00  625.0\n38  texnet2024oqfb      32.144165     -101.805214  ...   Max -1.395469e-05  664.0\n39  texnet2024oqfb      32.144165     -101.805214  ...   Min -5.952776e-02  703.0\n40  texnet2024oqfb      32.144165     -101.805214  ...  Mean  0.000000e+00  742.0\n41  texnet2024oqfb      32.144165     -101.805214  ...   Max  8.865046e-02  781.0\n\n[42 rows x 17 columns]\nwsDF.index: RangeIndex(start=0, stop=21, step=1)\nwsDF.columns: Index(['index', 'EventID', 'EventLatitude', 'EventLongitude', 'ID', 'Name',\n       'API', 'Latitude', 'Longitude', 'NumWells', 'Pressures',\n       'TotalPressure', 'Percentages', 'Realization', 'DeltaPressure',\n       'Parameter', 'Value'],\n      dtype='object')\nsensitivityDF.index RangeIndex(start=0, stop=42, step=1)\nwSDF     index         EventID  ...                 Parameter  Value\n0       3  texnet2024oqfb  ...                   Density    Min\n1      42  texnet2024oqfb  ...                   Density   Mean\n2      81  texnet2024oqfb  ...                   Density    Max\n3     120  texnet2024oqfb  ...                 Viscosity    Min\n4     159  texnet2024oqfb  ...                 Viscosity   Mean\n5     198  texnet2024oqfb  ...                 Viscosity    Max\n6     237  texnet2024oqfb  ...                  Porosity    Min\n7     276  texnet2024oqfb  ...                  Porosity   Mean\n8     315  texnet2024oqfb  ...                  Porosity    Max\n9     354  texnet2024oqfb  ...        Interval Thickness    Min\n10    393  texnet2024oqfb  ...        Interval Thickness   Mean\n11    432  texnet2024oqfb  ...        Interval Thickness    Max\n12    471  texnet2024oqfb  ...  Vertical Compressibility    Min\n13    510  texnet2024oqfb  ...  Vertical Compressibility   Mean\n14    549  texnet2024oqfb  ...  Vertical Compressibility    Max\n15    588  texnet2024oqfb  ...     Fluid Compressibility    Min\n16    627  texnet2024oqfb  ...     Fluid Compressibility   Mean\n17    666  texnet2024oqfb  ...     Fluid Compressibility    Max\n18    705  texnet2024oqfb  ...              Permeability    Min\n19    744  texnet2024oqfb  ...              Permeability   Mean\n20    783  texnet2024oqfb  ...              Permeability    Max\n\n[21 rows x 17 columns]\nsensitivityDF            EventID  EventLatitude  EventLongitude  ... Value DeltaPressure  index\n0   texnet2024oqfb      32.144165     -101.805214  ...   Min  1.110223e-16    0.0\n1   texnet2024oqfb      32.144165     -101.805214  ...  Mean  0.000000e+00   39.0\n2   texnet2024oqfb      32.144165     -101.805214  ...   Max  4.163336e-16   78.0\n3   texnet2024oqfb      32.144165     -101.805214  ...   Min  3.222791e-03  117.0\n4   texnet2024oqfb      32.144165     -101.805214  ...  Mean  0.000000e+00  156.0\n..             ...            ...             ...  ...   ...           ...    ...\n58  texnet2024oqfb      32.144165     -101.805214  ...  Mean  0.000000e+00  626.0\n59  texnet2024oqfb      32.144165     -101.805214  ...   Max -3.576103e-05  665.0\n60  texnet2024oqfb      32.144165     -101.805214  ...   Min -1.496562e-01  704.0\n61  texnet2024oqfb      32.144165     -101.805214  ...  Mean  0.000000e+00  743.0\n62  texnet2024oqfb      32.144165     -101.805214  ...   Max  2.242720e-01  782.0\n\n[63 rows x 17 columns]\nwsDF.index: RangeIndex(start=0, stop=21, step=1)\nwsDF.columns: Index(['index', 'EventID', 'EventLatitude', 'EventLongitude', 'ID', 'Name',\n       'API', 'Latitude', 'Longitude', 'NumWells', 'Pressures',\n       'TotalPressure', 'Percentages', 'Realization', 'DeltaPressure',\n       'Parameter', 'Value'],\n      dtype='object')\nsensitivityDF.index RangeIndex(start=0, stop=63, step=1)\nwSDF     index         EventID  ...                 Parameter  Value\n0       4  texnet2024oqfb  ...                   Density    Min\n1      43  texnet2024oqfb  ...                   Density   Mean\n2      82  texnet2024oqfb  ...                   Density    Max\n3     121  texnet2024oqfb  ...                 Viscosity    Min\n4     160  texnet2024oqfb  ...                 Viscosity   Mean\n5     199  texnet2024oqfb  ...                 Viscosity    Max\n6     238  texnet2024oqfb  ...                  Porosity    Min\n7     277  texnet2024oqfb  ...                  Porosity   Mean\n8     316  texnet2024oqfb  ...                  Porosity    Max\n9     355  texnet2024oqfb  ...        Interval Thickness    Min\n10    394  texnet2024oqfb  ...        Interval Thickness   Mean\n11    433  texnet2024oqfb  ...        Interval Thickness    Max\n12    472  texnet2024oqfb  ...  Vertical Compressibility    Min\n13    511  texnet2024oqfb  ...  Vertical Compressibility   Mean\n14    550  texnet2024oqfb  ...  Vertical Compressibility    Max\n15    589  texnet2024oqfb  ...     Fluid Compressibility    Min\n16    628  texnet2024oqfb  ...     Fluid Compressibility   Mean\n17    667  texnet2024oqfb  ...     Fluid Compressibility    Max\n18    706  texnet2024oqfb  ...              Permeability    Min\n19    745  texnet2024oqfb  ...              Permeability   Mean\n20    784  texnet2024oqfb  ...              Permeability    Max\n\n[21 rows x 17 columns]\nsensitivityDF            EventID  EventLatitude  EventLongitude  ... Value DeltaPressure  index\n0   texnet2024oqfb      32.144165     -101.805214  ...   Min  1.110223e-16    0.0\n1   texnet2024oqfb      32.144165     -101.805214  ...  Mean  0.000000e+00   39.0\n2   texnet2024oqfb      32.144165     -101.805214  ...   Max  4.163336e-16   78.0\n3   texnet2024oqfb      32.144165     -101.805214  ...   Min  3.222791e-03  117.0\n4   texnet2024oqfb      32.144165     -101.805214  ...  Mean  0.000000e+00  156.0\n..             ...            ...             ...  ...   ...           ...    ...\n79  texnet2024oqfb      32.144165     -101.805214  ...  Mean  0.000000e+00  627.0\n80  texnet2024oqfb      32.144165     -101.805214  ...   Max -2.802824e-05  666.0\n81  texnet2024oqfb      32.144165     -101.805214  ...   Min -1.136861e-01  705.0\n82  texnet2024oqfb      32.144165     -101.805214  ...  Mean  0.000000e+00  744.0\n83  texnet2024oqfb      32.144165     -101.805214  ...   Max  1.733546e-01  783.0\n\n[84 rows x 17 columns]\nwsDF.index: RangeIndex(start=0, stop=21, step=1)\nwsDF.columns: Index(['index', 'EventID', 'EventLatitude', 'EventLongitude', 'ID', 'Name',\n       'API', 'Latitude', 'Longitude', 'NumWells', 'Pressures',\n       'TotalPressure', 'Percentages', 'Realization', 'DeltaPressure',\n       'Parameter', 'Value'],\n      dtype='object')\nsensitivityDF.index RangeIndex(start=0, stop=84, step=1)\nwSDF     index         EventID  ...                 Parameter  Value\n0       5  texnet2024oqfb  ...                   Density    Min\n1      44  texnet2024oqfb  ...                   Density   Mean\n2      83  texnet2024oqfb  ...                   Density    Max\n3     122  texnet2024oqfb  ...                 Viscosity    Min\n4     161  texnet2024oqfb  ...                 Viscosity   Mean\n5     200  texnet2024oqfb  ...                 Viscosity    Max\n6     239  texnet2024oqfb  ...                  Porosity    Min\n7     278  texnet2024oqfb  ...                  Porosity   Mean\n8     317  texnet2024oqfb  ...                  Porosity    Max\n9     356  texnet2024oqfb  ...        Interval Thickness    Min\n10    395  texnet2024oqfb  ...        Interval Thickness   Mean\n11    434  texnet2024oqfb  ...        Interval Thickness    Max\n12    473  texnet2024oqfb  ...  Vertical Compressibility    Min\n13    512  texnet2024oqfb  ...  Vertical Compressibility   Mean\n14    551  texnet2024oqfb  ...  Vertical Compressibility    Max\n15    590  texnet2024oqfb  ...     Fluid Compressibility    Min\n16    629  texnet2024oqfb  ...     Fluid Compressibility   Mean\n17    668  texnet2024oqfb  ...     Fluid Compressibility    Max\n18    707  texnet2024oqfb  ...              Permeability    Min\n19    746  texnet2024oqfb  ...              Permeability   Mean\n20    785  texnet2024oqfb  ...              Permeability    Max\n\n[21 rows x 17 columns]\nsensitivityDF             EventID  EventLatitude  EventLongitude  ... Value DeltaPressure  index\n0    texnet2024oqfb      32.144165     -101.805214  ...   Min  1.110223e-16    0.0\n1    texnet2024oqfb      32.144165     -101.805214  ...  Mean  0.000000e+00   39.0\n2    texnet2024oqfb      32.144165     -101.805214  ...   Max  4.163336e-16   78.0\n3    texnet2024oqfb      32.144165     -101.805214  ...   Min  3.222791e-03  117.0\n4    texnet2024oqfb      32.144165     -101.805214  ...  Mean  0.000000e+00  156.0\n..              ...            ...             ...  ...   ...           ...    ...\n100  texnet2024oqfb      32.144165     -101.805214  ...  Mean  0.000000e+00  628.0\n101  texnet2024oqfb      32.144165     -101.805214  ...   Max -1.708497e-05  667.0\n102  texnet2024oqfb      32.144165     -101.805214  ...   Min -6.666909e-02  706.0\n103  texnet2024oqfb      32.144165     -101.805214  ...  Mean  0.000000e+00  745.0\n104  texnet2024oqfb      32.144165     -101.805214  ...   Max  1.208203e-01  784.0\n\n[105 rows x 17 columns]\nwsDF.index: RangeIndex(start=0, stop=21, step=1)\nwsDF.columns: Index(['index', 'EventID', 'EventLatitude', 'EventLongitude', 'ID', 'Name',\n       'API', 'Latitude', 'Longitude', 'NumWells', 'Pressures',\n       'TotalPressure', 'Percentages', 'Realization', 'DeltaPressure',\n       'Parameter', 'Value'],\n      dtype='object')\nsensitivityDF.index RangeIndex(start=0, stop=105, step=1)\nwSDF     index         EventID  ...                 Parameter  Value\n0       6  texnet2024oqfb  ...                   Density    Min\n1      45  texnet2024oqfb  ...                   Density   Mean\n2      84  texnet2024oqfb  ...                   Density    Max\n3     123  texnet2024oqfb  ...                 Viscosity    Min\n4     162  texnet2024oqfb  ...                 Viscosity   Mean\n5     201  texnet2024oqfb  ...                 Viscosity    Max\n6     240  texnet2024oqfb  ...                  Porosity    Min\n7     279  texnet2024oqfb  ...                  Porosity   Mean\n8     318  texnet2024oqfb  ...                  Porosity    Max\n9     357  texnet2024oqfb  ...        Interval Thickness    Min\n10    396  texnet2024oqfb  ...        Interval Thickness   Mean\n11    435  texnet2024oqfb  ...        Interval Thickness    Max\n12    474  texnet2024oqfb  ...  Vertical Compressibility    Min\n13    513  texnet2024oqfb  ...  Vertical Compressibility   Mean\n14    552  texnet2024oqfb  ...  Vertical Compressibility    Max\n15    591  texnet2024oqfb  ...     Fluid Compressibility    Min\n16    630  texnet2024oqfb  ...     Fluid Compressibility   Mean\n17    669  texnet2024oqfb  ...     Fluid Compressibility    Max\n18    708  texnet2024oqfb  ...              Permeability    Min\n19    747  texnet2024oqfb  ...              Permeability   Mean\n20    786  texnet2024oqfb  ...              Permeability    Max\n\n[21 rows x 17 columns]\nsensitivityDF             EventID  EventLatitude  EventLongitude  ... Value DeltaPressure  index\n0    texnet2024oqfb      32.144165     -101.805214  ...   Min  1.110223e-16    0.0\n1    texnet2024oqfb      32.144165     -101.805214  ...  Mean  0.000000e+00   39.0\n2    texnet2024oqfb      32.144165     -101.805214  ...   Max  4.163336e-16   78.0\n3    texnet2024oqfb      32.144165     -101.805214  ...   Min  3.222791e-03  117.0\n4    texnet2024oqfb      32.144165     -101.805214  ...  Mean  0.000000e+00  156.0\n..              ...            ...             ...  ...   ...           ...    ...\n121  texnet2024oqfb      32.144165     -101.805214  ...  Mean  0.000000e+00  629.0\n122\n\n*** WARNING: max output size exceeded, skipping output. ***\n\n Min\n10    420  texnet2024oqfb  ...        Interval Thickness   Mean\n11    459  texnet2024oqfb  ...        Interval Thickness    Max\n12    498  texnet2024oqfb  ...  Vertical Compressibility    Min\n13    537  texnet2024oqfb  ...  Vertical Compressibility   Mean\n14    576  texnet2024oqfb  ...  Vertical Compressibility    Max\n15    615  texnet2024oqfb  ...     Fluid Compressibility    Min\n16    654  texnet2024oqfb  ...     Fluid Compressibility   Mean\n17    693  texnet2024oqfb  ...     Fluid Compressibility    Max\n18    732  texnet2024oqfb  ...              Permeability    Min\n19    771  texnet2024oqfb  ...              Permeability   Mean\n20    810  texnet2024oqfb  ...              Permeability    Max\n\n[21 rows x 17 columns]\nsensitivityDF             EventID  EventLatitude  EventLongitude  ... Value DeltaPressure  index\n0    texnet2024oqfb      32.144165     -101.805214  ...   Min  1.110223e-16    0.0\n1    texnet2024oqfb      32.144165     -101.805214  ...  Mean  0.000000e+00   39.0\n2    texnet2024oqfb      32.144165     -101.805214  ...   Max  4.163336e-16   78.0\n3    texnet2024oqfb      32.144165     -101.805214  ...   Min  3.222791e-03  117.0\n4    texnet2024oqfb      32.144165     -101.805214  ...  Mean  0.000000e+00  156.0\n..              ...            ...             ...  ...   ...           ...    ...\n625  texnet2024oqfb      32.144165     -101.805214  ...  Mean  0.000000e+00  653.0\n626  texnet2024oqfb      32.144165     -101.805214  ...   Max -4.378150e-05  692.0\n627  texnet2024oqfb      32.144165     -101.805214  ...   Min -1.864021e-01  731.0\n628  texnet2024oqfb      32.144165     -101.805214  ...  Mean  0.000000e+00  770.0\n629  texnet2024oqfb      32.144165     -101.805214  ...   Max  2.507018e-01  809.0\n\n[630 rows x 17 columns]\nwsDF.index: RangeIndex(start=0, stop=21, step=1)\nwsDF.columns: Index(['index', 'EventID', 'EventLatitude', 'EventLongitude', 'ID', 'Name',\n       'API', 'Latitude', 'Longitude', 'NumWells', 'Pressures',\n       'TotalPressure', 'Percentages', 'Realization', 'DeltaPressure',\n       'Parameter', 'Value'],\n      dtype='object')\nsensitivityDF.index RangeIndex(start=0, stop=630, step=1)\nwSDF     index         EventID  ...                 Parameter  Value\n0      31  texnet2024oqfb  ...                   Density    Min\n1      70  texnet2024oqfb  ...                   Density   Mean\n2     109  texnet2024oqfb  ...                   Density    Max\n3     148  texnet2024oqfb  ...                 Viscosity    Min\n4     187  texnet2024oqfb  ...                 Viscosity   Mean\n5     226  texnet2024oqfb  ...                 Viscosity    Max\n6     265  texnet2024oqfb  ...                  Porosity    Min\n7     304  texnet2024oqfb  ...                  Porosity   Mean\n8     343  texnet2024oqfb  ...                  Porosity    Max\n9     382  texnet2024oqfb  ...        Interval Thickness    Min\n10    421  texnet2024oqfb  ...        Interval Thickness   Mean\n11    460  texnet2024oqfb  ...        Interval Thickness    Max\n12    499  texnet2024oqfb  ...  Vertical Compressibility    Min\n13    538  texnet2024oqfb  ...  Vertical Compressibility   Mean\n14    577  texnet2024oqfb  ...  Vertical Compressibility    Max\n15    616  texnet2024oqfb  ...     Fluid Compressibility    Min\n16    655  texnet2024oqfb  ...     Fluid Compressibility   Mean\n17    694  texnet2024oqfb  ...     Fluid Compressibility    Max\n18    733  texnet2024oqfb  ...              Permeability    Min\n19    772  texnet2024oqfb  ...              Permeability   Mean\n20    811  texnet2024oqfb  ...              Permeability    Max\n\n[21 rows x 17 columns]\nsensitivityDF             EventID  EventLatitude  EventLongitude  ... Value DeltaPressure  index\n0    texnet2024oqfb      32.144165     -101.805214  ...   Min  1.110223e-16    0.0\n1    texnet2024oqfb      32.144165     -101.805214  ...  Mean  0.000000e+00   39.0\n2    texnet2024oqfb      32.144165     -101.805214  ...   Max  4.163336e-16   78.0\n3    texnet2024oqfb      32.144165     -101.805214  ...   Min  3.222791e-03  117.0\n4    texnet2024oqfb      32.144165     -101.805214  ...  Mean  0.000000e+00  156.0\n..              ...            ...             ...  ...   ...           ...    ...\n646  texnet2024oqfb      32.144165     -101.805214  ...  Mean  0.000000e+00  654.0\n647  texnet2024oqfb      32.144165     -101.805214  ...   Max -4.520279e-05  693.0\n648  texnet2024oqfb      32.144165     -101.805214  ...   Min -3.096934e-01  732.0\n649  texnet2024oqfb      32.144165     -101.805214  ...  Mean  0.000000e+00  771.0\n650  texnet2024oqfb      32.144165     -101.805214  ...   Max  1.036951e-01  810.0\n\n[651 rows x 17 columns]\nwsDF.index: RangeIndex(start=0, stop=21, step=1)\nwsDF.columns: Index(['index', 'EventID', 'EventLatitude', 'EventLongitude', 'ID', 'Name',\n       'API', 'Latitude', 'Longitude', 'NumWells', 'Pressures',\n       'TotalPressure', 'Percentages', 'Realization', 'DeltaPressure',\n       'Parameter', 'Value'],\n      dtype='object')\nsensitivityDF.index RangeIndex(start=0, stop=651, step=1)\nwSDF     index         EventID  ...                 Parameter  Value\n0      32  texnet2024oqfb  ...                   Density    Min\n1      71  texnet2024oqfb  ...                   Density   Mean\n2     110  texnet2024oqfb  ...                   Density    Max\n3     149  texnet2024oqfb  ...                 Viscosity    Min\n4     188  texnet2024oqfb  ...                 Viscosity   Mean\n5     227  texnet2024oqfb  ...                 Viscosity    Max\n6     266  texnet2024oqfb  ...                  Porosity    Min\n7     305  texnet2024oqfb  ...                  Porosity   Mean\n8     344  texnet2024oqfb  ...                  Porosity    Max\n9     383  texnet2024oqfb  ...        Interval Thickness    Min\n10    422  texnet2024oqfb  ...        Interval Thickness   Mean\n11    461  texnet2024oqfb  ...        Interval Thickness    Max\n12    500  texnet2024oqfb  ...  Vertical Compressibility    Min\n13    539  texnet2024oqfb  ...  Vertical Compressibility   Mean\n14    578  texnet2024oqfb  ...  Vertical Compressibility    Max\n15    617  texnet2024oqfb  ...     Fluid Compressibility    Min\n16    656  texnet2024oqfb  ...     Fluid Compressibility   Mean\n17    695  texnet2024oqfb  ...     Fluid Compressibility    Max\n18    734  texnet2024oqfb  ...              Permeability    Min\n19    773  texnet2024oqfb  ...              Permeability   Mean\n20    812  texnet2024oqfb  ...              Permeability    Max\n\n[21 rows x 17 columns]\nsensitivityDF             EventID  EventLatitude  EventLongitude  ... Value DeltaPressure  index\n0    texnet2024oqfb      32.144165     -101.805214  ...   Min  1.110223e-16    0.0\n1    texnet2024oqfb      32.144165     -101.805214  ...  Mean  0.000000e+00   39.0\n2    texnet2024oqfb      32.144165     -101.805214  ...   Max  4.163336e-16   78.0\n3    texnet2024oqfb      32.144165     -101.805214  ...   Min  3.222791e-03  117.0\n4    texnet2024oqfb      32.144165     -101.805214  ...  Mean  0.000000e+00  156.0\n..              ...            ...             ...  ...   ...           ...    ...\n667  texnet2024oqfb      32.144165     -101.805214  ...  Mean  0.000000e+00  655.0\n668  texnet2024oqfb      32.144165     -101.805214  ...   Max -8.971487e-06  694.0\n669  texnet2024oqfb      32.144165     -101.805214  ...   Min -3.052020e-02  733.0\n670  texnet2024oqfb      32.144165     -101.805214  ...  Mean  0.000000e+00  772.0\n671  texnet2024oqfb      32.144165     -101.805214  ...   Max  7.519855e-02  811.0\n\n[672 rows x 17 columns]\nwsDF.index: RangeIndex(start=0, stop=21, step=1)\nwsDF.columns: Index(['index', 'EventID', 'EventLatitude', 'EventLongitude', 'ID', 'Name',\n       'API', 'Latitude', 'Longitude', 'NumWells', 'Pressures',\n       'TotalPressure', 'Percentages', 'Realization', 'DeltaPressure',\n       'Parameter', 'Value'],\n      dtype='object')\nsensitivityDF.index RangeIndex(start=0, stop=672, step=1)\nwSDF     index         EventID  ...                 Parameter  Value\n0      33  texnet2024oqfb  ...                   Density    Min\n1      72  texnet2024oqfb  ...                   Density   Mean\n2     111  texnet2024oqfb  ...                   Density    Max\n3     150  texnet2024oqfb  ...                 Viscosity    Min\n4     189  texnet2024oqfb  ...                 Viscosity   Mean\n5     228  texnet2024oqfb  ...                 Viscosity    Max\n6     267  texnet2024oqfb  ...                  Porosity    Min\n7     306  texnet2024oqfb  ...                  Porosity   Mean\n8     345  texnet2024oqfb  ...                  Porosity    Max\n9     384  texnet2024oqfb  ...        Interval Thickness    Min\n10    423  texnet2024oqfb  ...        Interval Thickness   Mean\n11    462  texnet2024oqfb  ...        Interval Thickness    Max\n12    501  texnet2024oqfb  ...  Vertical Compressibility    Min\n13    540  texnet2024oqfb  ...  Vertical Compressibility   Mean\n14    579  texnet2024oqfb  ...  Vertical Compressibility    Max\n15    618  texnet2024oqfb  ...     Fluid Compressibility    Min\n16    657  texnet2024oqfb  ...     Fluid Compressibility   Mean\n17    696  texnet2024oqfb  ...     Fluid Compressibility    Max\n18    735  texnet2024oqfb  ...              Permeability    Min\n19    774  texnet2024oqfb  ...              Permeability   Mean\n20    813  texnet2024oqfb  ...              Permeability    Max\n\n[21 rows x 17 columns]\nsensitivityDF             EventID  EventLatitude  EventLongitude  ... Value DeltaPressure  index\n0    texnet2024oqfb      32.144165     -101.805214  ...   Min  1.110223e-16    0.0\n1    texnet2024oqfb      32.144165     -101.805214  ...  Mean  0.000000e+00   39.0\n2    texnet2024oqfb      32.144165     -101.805214  ...   Max  4.163336e-16   78.0\n3    texnet2024oqfb      32.144165     -101.805214  ...   Min  3.222791e-03  117.0\n4    texnet2024oqfb      32.144165     -101.805214  ...  Mean  0.000000e+00  156.0\n..              ...            ...             ...  ...   ...           ...    ...\n688  texnet2024oqfb      32.144165     -101.805214  ...  Mean  0.000000e+00  656.0\n689  texnet2024oqfb      32.144165     -101.805214  ...   Max -2.238565e-05  695.0\n690  texnet2024oqfb      32.144165     -101.805214  ...   Min -7.789566e-02  734.0\n691  texnet2024oqfb      32.144165     -101.805214  ...  Mean  0.000000e+00  773.0\n692  texnet2024oqfb      32.144165     -101.805214  ...   Max  1.762384e-01  812.0\n\n[693 rows x 17 columns]\nwsDF.index: RangeIndex(start=0, stop=21, step=1)\nwsDF.columns: Index(['index', 'EventID', 'EventLatitude', 'EventLongitude', 'ID', 'Name',\n       'API', 'Latitude', 'Longitude', 'NumWells', 'Pressures',\n       'TotalPressure', 'Percentages', 'Realization', 'DeltaPressure',\n       'Parameter', 'Value'],\n      dtype='object')\nsensitivityDF.index RangeIndex(start=0, stop=693, step=1)\nwSDF     index         EventID  ...                 Parameter  Value\n0      34  texnet2024oqfb  ...                   Density    Min\n1      73  texnet2024oqfb  ...                   Density   Mean\n2     112  texnet2024oqfb  ...                   Density    Max\n3     151  texnet2024oqfb  ...                 Viscosity    Min\n4     190  texnet2024oqfb  ...                 Viscosity   Mean\n5     229  texnet2024oqfb  ...                 Viscosity    Max\n6     268  texnet2024oqfb  ...                  Porosity    Min\n7     307  texnet2024oqfb  ...                  Porosity   Mean\n8     346  texnet2024oqfb  ...                  Porosity    Max\n9     385  texnet2024oqfb  ...        Interval Thickness    Min\n10    424  texnet2024oqfb  ...        Interval Thickness   Mean\n11    463  texnet2024oqfb  ...        Interval Thickness    Max\n12    502  texnet2024oqfb  ...  Vertical Compressibility    Min\n13    541  texnet2024oqfb  ...  Vertical Compressibility   Mean\n14    580  texnet2024oqfb  ...  Vertical Compressibility    Max\n15    619  texnet2024oqfb  ...     Fluid Compressibility    Min\n16    658  texnet2024oqfb  ...     Fluid Compressibility   Mean\n17    697  texnet2024oqfb  ...     Fluid Compressibility    Max\n18    736  texnet2024oqfb  ...              Permeability    Min\n19    775  texnet2024oqfb  ...              Permeability   Mean\n20    814  texnet2024oqfb  ...              Permeability    Max\n\n[21 rows x 17 columns]\nsensitivityDF             EventID  EventLatitude  EventLongitude  ... Value DeltaPressure  index\n0    texnet2024oqfb      32.144165     -101.805214  ...   Min  1.110223e-16    0.0\n1    texnet2024oqfb      32.144165     -101.805214  ...  Mean  0.000000e+00   39.0\n2    texnet2024oqfb      32.144165     -101.805214  ...   Max  4.163336e-16   78.0\n3    texnet2024oqfb      32.144165     -101.805214  ...   Min  3.222791e-03  117.0\n4    texnet2024oqfb      32.144165     -101.805214  ...  Mean  0.000000e+00  156.0\n..              ...            ...             ...  ...   ...           ...    ...\n709  texnet2024oqfb      32.144165     -101.805214  ...  Mean  0.000000e+00  657.0\n710  texnet2024oqfb      32.144165     -101.805214  ...   Max -3.640286e-05  696.0\n711  texnet2024oqfb      32.144165     -101.805214  ...   Min -1.594967e-01  735.0\n712  texnet2024oqfb      32.144165     -101.805214  ...  Mean  0.000000e+00  774.0\n713  texnet2024oqfb      32.144165     -101.805214  ...   Max  2.037296e-01  813.0\n\n[714 rows x 17 columns]\nwsDF.index: RangeIndex(start=0, stop=21, step=1)\nwsDF.columns: Index(['index', 'EventID', 'EventLatitude', 'EventLongitude', 'ID', 'Name',\n       'API', 'Latitude', 'Longitude', 'NumWells', 'Pressures',\n       'TotalPressure', 'Percentages', 'Realization', 'DeltaPressure',\n       'Parameter', 'Value'],\n      dtype='object')\nsensitivityDF.index RangeIndex(start=0, stop=714, step=1)\nwSDF     index         EventID  ...                 Parameter  Value\n0      35  texnet2024oqfb  ...                   Density    Min\n1      74  texnet2024oqfb  ...                   Density   Mean\n2     113  texnet2024oqfb  ...                   Density    Max\n3     152  texnet2024oqfb  ...                 Viscosity    Min\n4     191  texnet2024oqfb  ...                 Viscosity   Mean\n5     230  texnet2024oqfb  ...                 Viscosity    Max\n6     269  texnet2024oqfb  ...                  Porosity    Min\n7     308  texnet2024oqfb  ...                  Porosity   Mean\n8     347  texnet2024oqfb  ...                  Porosity    Max\n9     386  texnet2024oqfb  ...        Interval Thickness    Min\n10    425  texnet2024oqfb  ...        Interval Thickness   Mean\n11    464  texnet2024oqfb  ...        Interval Thickness    Max\n12    503  texnet2024oqfb  ...  Vertical Compressibility    Min\n13    542  texnet2024oqfb  ...  Vertical Compressibility   Mean\n14    581  texnet2024oqfb  ...  Vertical Compressibility    Max\n15    620  texnet2024oqfb  ...     Fluid Compressibility    Min\n16    659  texnet2024oqfb  ...     Fluid Compressibility   Mean\n17    698  texnet2024oqfb  ...     Fluid Compressibility    Max\n18    737  texnet2024oqfb  ...              Permeability    Min\n19    776  texnet2024oqfb  ...              Permeability   Mean\n20    815  texnet2024oqfb  ...              Permeability    Max\n\n[21 rows x 17 columns]\nsensitivityDF             EventID  EventLatitude  EventLongitude  ... Value DeltaPressure  index\n0    texnet2024oqfb      32.144165     -101.805214  ...   Min  1.110223e-16    0.0\n1    texnet2024oqfb      32.144165     -101.805214  ...  Mean  0.000000e+00   39.0\n2    texnet2024oqfb      32.144165     -101.805214  ...   Max  4.163336e-16   78.0\n3    texnet2024oqfb      32.144165     -101.805214  ...   Min  3.222791e-03  117.0\n4    texnet2024oqfb      32.144165     -101.805214  ...  Mean  0.000000e+00  156.0\n..              ...            ...             ...  ...   ...           ...    ...\n730  texnet2024oqfb      32.144165     -101.805214  ...  Mean  0.000000e+00  658.0\n731  texnet2024oqfb      32.144165     -101.805214  ...   Max -1.740415e-05  697.0\n732  texnet2024oqfb      32.144165     -101.805214  ...   Min -1.319968e-01  736.0\n733  texnet2024oqfb      32.144165     -101.805214  ...  Mean  0.000000e+00  775.0\n734  texnet2024oqfb      32.144165     -101.805214  ...   Max  2.931462e-02  814.0\n\n[735 rows x 17 columns]\nwsDF.index: RangeIndex(start=0, stop=21, step=1)\nwsDF.columns: Index(['index', 'EventID', 'EventLatitude', 'EventLongitude', 'ID', 'Name',\n       'API', 'Latitude', 'Longitude', 'NumWells', 'Pressures',\n       'TotalPressure', 'Percentages', 'Realization', 'DeltaPressure',\n       'Parameter', 'Value'],\n      dtype='object')\nsensitivityDF.index RangeIndex(start=0, stop=735, step=1)\nwSDF     index         EventID  ...                 Parameter  Value\n0      36  texnet2024oqfb  ...                   Density    Min\n1      75  texnet2024oqfb  ...                   Density   Mean\n2     114  texnet2024oqfb  ...                   Density    Max\n3     153  texnet2024oqfb  ...                 Viscosity    Min\n4     192  texnet2024oqfb  ...                 Viscosity   Mean\n5     231  texnet2024oqfb  ...                 Viscosity    Max\n6     270  texnet2024oqfb  ...                  Porosity    Min\n7     309  texnet2024oqfb  ...                  Porosity   Mean\n8     348  texnet2024oqfb  ...                  Porosity    Max\n9     387  texnet2024oqfb  ...        Interval Thickness    Min\n10    426  texnet2024oqfb  ...        Interval Thickness   Mean\n11    465  texnet2024oqfb  ...        Interval Thickness    Max\n12    504  texnet2024oqfb  ...  Vertical Compressibility    Min\n13    543  texnet2024oqfb  ...  Vertical Compressibility   Mean\n14    582  texnet2024oqfb  ...  Vertical Compressibility    Max\n15    621  texnet2024oqfb  ...     Fluid Compressibility    Min\n16    660  texnet2024oqfb  ...     Fluid Compressibility   Mean\n17    699  texnet2024oqfb  ...     Fluid Compressibility    Max\n18    738  texnet2024oqfb  ...              Permeability    Min\n19    777  texnet2024oqfb  ...              Permeability   Mean\n20    816  texnet2024oqfb  ...              Permeability    Max\n\n[21 rows x 17 columns]\nsensitivityDF             EventID  EventLatitude  EventLongitude  ... Value DeltaPressure  index\n0    texnet2024oqfb      32.144165     -101.805214  ...   Min  1.110223e-16    0.0\n1    texnet2024oqfb      32.144165     -101.805214  ...  Mean  0.000000e+00   39.0\n2    texnet2024oqfb      32.144165     -101.805214  ...   Max  4.163336e-16   78.0\n3    texnet2024oqfb      32.144165     -101.805214  ...   Min  3.222791e-03  117.0\n4    texnet2024oqfb      32.144165     -101.805214  ...  Mean  0.000000e+00  156.0\n..              ...            ...             ...  ...   ...           ...    ...\n751  texnet2024oqfb      32.144165     -101.805214  ...  Mean  0.000000e+00  659.0\n752  texnet2024oqfb      32.144165     -101.805214  ...   Max -3.822073e-05  698.0\n753  texnet2024oqfb      32.144165     -101.805214  ...   Min -3.758250e-01  737.0\n754  texnet2024oqfb      32.144165     -101.805214  ...  Mean  0.000000e+00  776.0\n755  texnet2024oqfb      32.144165     -101.805214  ...   Max  1.839031e-02  815.0\n\n[756 rows x 17 columns]\nwsDF.index: RangeIndex(start=0, stop=21, step=1)\nwsDF.columns: Index(['index', 'EventID', 'EventLatitude', 'EventLongitude', 'ID', 'Name',\n       'API', 'Latitude', 'Longitude', 'NumWells', 'Pressures',\n       'TotalPressure', 'Percentages', 'Realization', 'DeltaPressure',\n       'Parameter', 'Value'],\n      dtype='object')\nsensitivityDF.index RangeIndex(start=0, stop=756, step=1)\nwSDF     index         EventID  ...                 Parameter  Value\n0      37  texnet2024oqfb  ...                   Density    Min\n1      76  texnet2024oqfb  ...                   Density   Mean\n2     115  texnet2024oqfb  ...                   Density    Max\n3     154  texnet2024oqfb  ...                 Viscosity    Min\n4     193  texnet2024oqfb  ...                 Viscosity   Mean\n5     232  texnet2024oqfb  ...                 Viscosity    Max\n6     271  texnet2024oqfb  ...                  Porosity    Min\n7     310  texnet2024oqfb  ...                  Porosity   Mean\n8     349  texnet2024oqfb  ...                  Porosity    Max\n9     388  texnet2024oqfb  ...        Interval Thickness    Min\n10    427  texnet2024oqfb  ...        Interval Thickness   Mean\n11    466  texnet2024oqfb  ...        Interval Thickness    Max\n12    505  texnet2024oqfb  ...  Vertical Compressibility    Min\n13    544  texnet2024oqfb  ...  Vertical Compressibility   Mean\n14    583  texnet2024oqfb  ...  Vertical Compressibility    Max\n15    622  texnet2024oqfb  ...     Fluid Compressibility    Min\n16    661  texnet2024oqfb  ...     Fluid Compressibility   Mean\n17    700  texnet2024oqfb  ...     Fluid Compressibility    Max\n18    739  texnet2024oqfb  ...              Permeability    Min\n19    778  texnet2024oqfb  ...              Permeability   Mean\n20    817  texnet2024oqfb  ...              Permeability    Max\n\n[21 rows x 17 columns]\nsensitivityDF             EventID  EventLatitude  EventLongitude  ... Value DeltaPressure  index\n0    texnet2024oqfb      32.144165     -101.805214  ...   Min  1.110223e-16    0.0\n1    texnet2024oqfb      32.144165     -101.805214  ...  Mean  0.000000e+00   39.0\n2    texnet2024oqfb      32.144165     -101.805214  ...   Max  4.163336e-16   78.0\n3    texnet2024oqfb      32.144165     -101.805214  ...   Min  3.222791e-03  117.0\n4    texnet2024oqfb      32.144165     -101.805214  ...  Mean  0.000000e+00  156.0\n..              ...            ...             ...  ...   ...           ...    ...\n772  texnet2024oqfb      32.144165     -101.805214  ...  Mean  0.000000e+00  660.0\n773  texnet2024oqfb      32.144165     -101.805214  ...   Max -2.126659e-06  699.0\n774  texnet2024oqfb      32.144165     -101.805214  ...   Min -1.462475e-01  738.0\n775  texnet2024oqfb      32.144165     -101.805214  ...  Mean  0.000000e+00  777.0\n776  texnet2024oqfb      32.144165     -101.805214  ...   Max -6.618870e-02  816.0\n\n[777 rows x 17 columns]\nwsDF.index: RangeIndex(start=0, stop=21, step=1)\nwsDF.columns: Index(['index', 'EventID', 'EventLatitude', 'EventLongitude', 'ID', 'Name',\n       'API', 'Latitude', 'Longitude', 'NumWells', 'Pressures',\n       'TotalPressure', 'Percentages', 'Realization', 'DeltaPressure',\n       'Parameter', 'Value'],\n      dtype='object')\nsensitivityDF.index RangeIndex(start=0, stop=777, step=1)\nwSDF     index         EventID  ...                 Parameter  Value\n0      38  texnet2024oqfb  ...                   Density    Min\n1      77  texnet2024oqfb  ...                   Density   Mean\n2     116  texnet2024oqfb  ...                   Density    Max\n3     155  texnet2024oqfb  ...                 Viscosity    Min\n4     194  texnet2024oqfb  ...                 Viscosity   Mean\n5     233  texnet2024oqfb  ...                 Viscosity    Max\n6     272  texnet2024oqfb  ...                  Porosity    Min\n7     311  texnet2024oqfb  ...                  Porosity   Mean\n8     350  texnet2024oqfb  ...                  Porosity    Max\n9     389  texnet2024oqfb  ...        Interval Thickness    Min\n10    428  texnet2024oqfb  ...        Interval Thickness   Mean\n11    467  texnet2024oqfb  ...        Interval Thickness    Max\n12    506  texnet2024oqfb  ...  Vertical Compressibility    Min\n13    545  texnet2024oqfb  ...  Vertical Compressibility   Mean\n14    584  texnet2024oqfb  ...  Vertical Compressibility    Max\n15    623  texnet2024oqfb  ...     Fluid Compressibility    Min\n16    662  texnet2024oqfb  ...     Fluid Compressibility   Mean\n17    701  texnet2024oqfb  ...     Fluid Compressibility    Max\n18    740  texnet2024oqfb  ...              Permeability    Min\n19    779  texnet2024oqfb  ...              Permeability   Mean\n20    818  texnet2024oqfb  ...              Permeability    Max\n\n[21 rows x 17 columns]\nsensitivityDF             EventID  EventLatitude  EventLongitude  ... Value DeltaPressure  index\n0    texnet2024oqfb      32.144165     -101.805214  ...   Min  1.110223e-16    0.0\n1    texnet2024oqfb      32.144165     -101.805214  ...  Mean  0.000000e+00   39.0\n2    texnet2024oqfb      32.144165     -101.805214  ...   Max  4.163336e-16   78.0\n3    texnet2024oqfb      32.144165     -101.805214  ...   Min  3.222791e-03  117.0\n4    texnet2024oqfb      32.144165     -101.805214  ...  Mean  0.000000e+00  156.0\n..              ...            ...             ...  ...   ...           ...    ...\n793  texnet2024oqfb      32.144165     -101.805214  ...  Mean  0.000000e+00  661.0\n794  texnet2024oqfb      32.144165     -101.805214  ...   Max -1.556611e-05  700.0\n795  texnet2024oqfb      32.144165     -101.805214  ...   Min -1.043294e-01  739.0\n796  texnet2024oqfb      32.144165     -101.805214  ...  Mean  0.000000e+00  778.0\n797  texnet2024oqfb      32.144165     -101.805214  ...   Max  4.193792e-02  817.0\n\n[798 rows x 17 columns]\nwsDF.index: RangeIndex(start=0, stop=21, step=1)\nwsDF.columns: Index(['index', 'EventID', 'EventLatitude', 'EventLongitude', 'ID', 'Name',\n       'API', 'Latitude', 'Longitude', 'NumWells', 'Pressures',\n       'TotalPressure', 'Percentages', 'Realization', 'DeltaPressure',\n       'Parameter', 'Value'],\n      dtype='object')\nsensitivityDF.index RangeIndex(start=0, stop=798, step=1)\n"
     ]
    }
   ],
   "source": [
    "# Calculate sensitivities to different parameters\n",
    "sensitivityDF = gist.getPressureSensitivity(winInjDF,winWellsDF,eq,verbose=2)\n",
    "# I'm not getting negative pressures anymore"
   ]
  },
  {
   "cell_type": "code",
   "execution_count": 0,
   "metadata": {
    "application/vnd.databricks.v1+cell": {
     "cellMetadata": {
      "byteLimit": 2048000,
      "rowLimit": 10000
     },
     "inputWidgets": {},
     "nuid": "19413b4b-7700-40f4-8c46-be35576c8686",
     "showTitle": true,
     "tableResultSettingsMap": {},
     "title": "Get Default rates"
    }
   },
   "outputs": [
    {
     "output_type": "stream",
     "name": "stdout",
     "output_type": "stream",
     "text": [
      "SeismicEventId                                      2481836\nDataSource                        TexNet Earthquake Catalog\nDataSourceUrl                                          None\nEventID                                      texnet2024oqfb\nEventTimeUtc                            2024-07-27 02:11:07\nEventTimeInLocalTimeZone               2024-07-26T21:11:07Z\nEventTimeZone                                           CST\nEventType                                        Earthquake\nDepthKm                                            8.837891\nDepthErrorKm                                       0.636678\nMagnitude                                           1.64016\nMagnitudeError                                          NaN\nMagnitudeType                                    ml(texnet)\nLocation                                      Western Texas\nStatus                                                final\nLatitude                                          32.144165\nLatitudeError                                      0.176637\nLongitude                                       -101.805214\nLongitudeError                                     0.180822\nUpdatedDateUtc                          2024-07-29 16:55:51\nStationCount                                             31\nRMS                                                0.092708\nRMS_p                                                  None\nRMS_s                                                  None\nFocalMechanismAzimuthalGap                              NaN\nCounty                                          Martin (TX)\nState                                                 Texas\nDuplicateSetId                                        26677\nRankWithinDuplicateSet                                    1\nB3RecordAddedUTCDateTime                2024-07-29 17:10:37\nB3RecordUpdatedUTCDateTime              2025-01-17 08:49:31\nB3RecordDeletedUTCDateTime                              NaT\nOrigin Date                                      2024-07-27\nOrigin Time                                        02:11:07\ngeometry                      POINT (-101.805214 32.144165)\nStrike                                                 80.0\nDip                                                    55.0\nRake                                                  -85.0\nName: 0, dtype: object SeismicEventId                                      2481836\nDataSource                        TexNet Earthquake Catalog\nDataSourceUrl                                          None\nEventID                                      texnet2024oqfb\nEventTimeUtc                            2024-07-27 02:11:07\nEventTimeInLocalTimeZone               2024-07-26T21:11:07Z\nEventTimeZone                                           CST\nEventType                                        Earthquake\nDepthKm                                            8.837891\nDepthErrorKm                                       0.636678\nMagnitude                                           1.64016\nMagnitudeError                                          NaN\nMagnitudeType                                    ml(texnet)\nLocation                                      Western Texas\nStatus                                                final\nLatitude                                          32.144165\nLatitudeError                                      0.176637\nLongitude                                       -101.805214\nLongitudeError                                     0.180822\nUpdatedDateUtc                          2024-07-29 16:55:51\nStationCount                                             31\nRMS                                                0.092708\nRMS_p                                                  None\nRMS_s                                                  None\nFocalMechanismAzimuthalGap                              NaN\nCounty                                          Martin (TX)\nState                                                 Texas\nDuplicateSetId                                        26677\nRankWithinDuplicateSet                                    1\nB3RecordAddedUTCDateTime                2024-07-29 17:10:37\nB3RecordUpdatedUTCDateTime              2025-01-17 08:49:31\nB3RecordDeletedUTCDateTime                              NaT\nOrigin Date                             2026-09-01 00:00:00\nOrigin Time                                        02:11:07\ngeometry                      POINT (-101.805214 32.144165)\nStrike                                                 80.0\nDip                                                    55.0\nRake                                                  -85.0\nName: 0, dtype: object\ngetTHdpdt0 time axis information - nt: 1468 ; ot: 5450.0 ; dt: 10.0  earthquake index:  1448\ngetTHdpdt0 nwC: 39\ngetTHdpdt0 bpdArray: (39, 1469) [0. 0. 0. 0. 0. 0. 0. 0. 0. 0. 0. 0. 0. 0. 0. 0. 0. 0. 0. 0. 0. 0. 0. 0.\n 0. 0. 0. 0. 0. 0. 0. 0. 0. 0. 0. 0. 0. 0. 0.] [0. 0. 0. 0. 0. 0. 0. 0. 0. 0. 0. 0. 0. 0. 0. 0. 0. 0. 0. 0. 0. 0. 0. 0.\n 0. 0. 0. 0. 0. 0. 0. 0. 0. 0. 0. 0. 0. 0. 0.]\ngetTHdpdt0 dQdtArray: (39, 1468) [-0.00160386  0.          0.          0.          0.         -0.01530767\n  0.          0.          0.          0.          0.          0.\n  0.          0.          0.         -0.00353379  0.          0.\n  0.          0.          0.          0.          0.          0.\n  0.          0.          0.          0.          0.          0.\n  0.          0.         -0.00366554  0.         -0.00137936  0.\n  0.          0.          0.        ] [0. 0. 0. 0. 0. 0. 0. 0. 0. 0. 0. 0. 0. 0. 0. 0. 0. 0. 0. 0. 0. 0. 0. 0.\n 0. 0. 0. 0. 0. 0. 0. 0. 0. 0. 0. 0. 0. 0. 0.]\ngetTHdpdt0 durations min/max:  67046400.0 1334534400.0\ngetTHdpdt0 durations shape:  (1468,)\ngetTHdPdT0 OneOver4piKappaH min/max:  287398219.6924343 76627175726.05186\ngetTHdPdT0 OneOver4piKappaH shape:  (500,)\ngetTHdPdT0 dQdtOverDurations min/max:  -5.138072651862288e-10 4.313626996416058e-10\ngetTHdPdT0 dQdtOverDurations shape:  (39, 1468)\ngetTHdPdT0 multiplier min/max:  -39.37159959874728 33.05410538710146\ngetTHdPdT0 multiplier shape:  (39, 500, 1468)\ngetTHdPdT0 r2 min/max:  6544256.262167588 2910336838.7003503\ngetTHdPdT0 r2 shape:  (39,)\ngetTHdPdT0 FourDs min/max:  0.02120796833284489 1.9055566635472156\ngetTHdPdT0 FourDs shape:  (500,)\ngetTHdPdT0 FourDDurations min/max:  1421917.9280312518 2543030918.652985\ngetTHdPdT0 FourDDurations shape:  (1, 500, 1468)\ngetTHdPdT0 exponent min/max:  -2046.7685098604265 -0.0025734080597156115\ngetTHdPdT0 exponent shape:  (39, 500, 1468)\ngetTHdPdT0 dpdtExpanded min/max:  -2.952387971512294 3.223382618903519\ngetTHdPdT0 dpdtExpanded shape:  (39, 500, 1468)\ngetTHdPdT0 FourDFuture min/max:  1403594.2433916738 126114313.32954724\ngetTHdPdT0 FourDFuture shape:  (39, 500)\ngetTHdPdT0 exponent2 min/max:  -2073.4887253938523 -0.05189146330335161\ngetTHdPdT0 exponent2 shape:  (39, 500)\ngetTHdPdT0 expTerm min/max:  0.0 0.9494319094539808\ngetTHdPdT0 expTerm shape:  (39, 500)\ngetTHdPdT0 futureInjSec:  66182400\ngetTHdPdT0 zeroTerm min/max:  -1.19280317067385e-08 1.3966927936255442e-08\ngetTHdPdT0 zeroTerm shape:  (39, 500)\ngetTHdPdT0 dpdt min/max:  -1.5576055738294232 0.9384673247387125\ngetTHdPdT0 dpdt shape:  (39, 500)\ngetTHdPdT0 Q_new min/max:  -14.498454718466164 inf\ngetTHdPdT0 Q_new shape:  (39, 500)\ngetTHdPdT0 Q_new thresholded min/max:  -14.498454718466164 50000.0\ngetTHdPdT0 Q_new thresholded shape:  (39, 500)\n"
     ]
    },
    {
     "output_type": "stream",
     "name": "stderr",
     "output_type": "stream",
     "text": [
      "/Workspace/Users/bill.curry@exxonmobil.com/GIST/lib/gistMC.py:2000: RuntimeWarning: divide by zero encountered in divide\n  Q_new=(dpdt * futureInjSec / OneOver4piKappaH) / expTerm\n"
     ]
    }
   ],
   "source": [
    "futureEQ=eq.copy()\n",
    "futureEQ.loc['Origin Date']=pd.to_datetime('2026-9-1')\n",
    "print(eq,futureEQ)\n",
    "rateDF = gist.getTHdPdT0(winWellsDF,winInjDF,eq,futureEQ,2)"
   ]
  },
  {
   "cell_type": "markdown",
   "metadata": {
    "application/vnd.databricks.v1+cell": {
     "cellMetadata": {
      "byteLimit": 2048000,
      "rowLimit": 10000
     },
     "inputWidgets": {},
     "nuid": "e705ce0b-75fc-4cc7-94cc-b48bc90f2107",
     "showTitle": false,
     "tableResultSettingsMap": {},
     "title": ""
    }
   },
   "source": [
    "###Output"
   ]
  },
  {
   "cell_type": "code",
   "execution_count": 0,
   "metadata": {
    "application/vnd.databricks.v1+cell": {
     "cellMetadata": {
      "byteLimit": 2048000,
      "rowLimit": 10000
     },
     "inputWidgets": {},
     "nuid": "f84c0581-670d-449b-b8ef-e88afdd6a169",
     "showTitle": true,
     "tableResultSettingsMap": {},
     "title": "Pore Pressure Property Realizations"
    }
   },
   "outputs": [],
   "source": [
    "gist.writeRealizations(runIntervalPath+'PorePressureRealizations.csv')"
   ]
  },
  {
   "cell_type": "code",
   "execution_count": 0,
   "metadata": {
    "application/vnd.databricks.v1+cell": {
     "cellMetadata": {
      "byteLimit": 2048000,
      "rowLimit": 10000
     },
     "inputWidgets": {},
     "nuid": "336dbb5f-47bf-4e29-b878-d1dd0ab9d875",
     "showTitle": true,
     "tableResultSettingsMap": {},
     "title": "Selected Wells"
    }
   },
   "outputs": [],
   "source": [
    "selectedWellsDF.to_csv(runIntervalPath+'selectedWells.csv')\n",
    "ignoredWellsDF.to_csv(runIntervalPath+'ignoredWells.csv')\n",
    "injDF.to_csv(runIntervalPath+'inj.csv')"
   ]
  },
  {
   "cell_type": "code",
   "execution_count": 0,
   "metadata": {
    "application/vnd.databricks.v1+cell": {
     "cellMetadata": {
      "byteLimit": 2048000,
      "rowLimit": 10000
     },
     "inputWidgets": {},
     "nuid": "be6f6db8-3b75-4c34-a215-8fa5ab199639",
     "showTitle": true,
     "tableResultSettingsMap": {},
     "title": "Pore Pressure Scenarios"
    }
   },
   "outputs": [],
   "source": [
    "scenarioDF.to_csv(runIntervalPath+'scenarios.csv')"
   ]
  },
  {
   "cell_type": "code",
   "execution_count": 0,
   "metadata": {
    "application/vnd.databricks.v1+cell": {
     "cellMetadata": {
      "byteLimit": 2048000,
      "rowLimit": 10000
     },
     "inputWidgets": {},
     "nuid": "f04371b7-ff00-4eaf-a3eb-b8239b52ce11",
     "showTitle": true,
     "tableResultSettingsMap": {},
     "title": "Summarized Pore Pressure Scenarios and Well Ordering"
    }
   },
   "outputs": [],
   "source": [
    "filteredDF.to_csv(runIntervalPath+'filteredScenarios.csv')\n",
    "pd.Series(data=orderedWellList).to_csv(runIntervalPath+'wellOrder.csv')"
   ]
  },
  {
   "cell_type": "code",
   "execution_count": 0,
   "metadata": {
    "application/vnd.databricks.v1+cell": {
     "cellMetadata": {
      "byteLimit": 2048000,
      "rowLimit": 10000
     },
     "inputWidgets": {},
     "nuid": "280fdbed-35d9-4a93-86ff-a162480540dd",
     "showTitle": true,
     "tableResultSettingsMap": {},
     "title": "Dataframes for R-T (Well selection) Plot"
    }
   },
   "outputs": [],
   "source": [
    "mergedWellsDF.to_csv(runIntervalPath+'RTwells.csv')\n",
    "rtDF.to_csv(runIntervalPath+'RTDF.csv')"
   ]
  },
  {
   "cell_type": "code",
   "execution_count": 0,
   "metadata": {
    "application/vnd.databricks.v1+cell": {
     "cellMetadata": {
      "byteLimit": 2048000,
      "rowLimit": 10000
     },
     "inputWidgets": {},
     "nuid": "b034629a-7154-42cd-8046-a1d83547b0d7",
     "showTitle": true,
     "tableResultSettingsMap": {},
     "title": "Dateframe for disaggregation plot"
    }
   },
   "outputs": [],
   "source": [
    "disaggregationDF.to_csv(runIntervalPath+'disaggregation.csv')"
   ]
  },
  {
   "cell_type": "code",
   "execution_count": 0,
   "metadata": {
    "application/vnd.databricks.v1+cell": {
     "cellMetadata": {
      "byteLimit": 2048000,
      "rowLimit": 10000
     },
     "inputWidgets": {},
     "nuid": "f352b76f-684b-47f7-8d17-2101506d5702",
     "showTitle": false,
     "tableResultSettingsMap": {},
     "title": ""
    }
   },
   "outputs": [],
   "source": [
    "scenarioTSDF.to_csv(runIntervalPath+'materialScenarios.csv')\n",
    "np.savez_compressed(runIntervalPath+'timeSeries.npz', deltaPP=dPTimeSeries,dayVec=dayVec,wellIDs=wellIDs)"
   ]
  },
  {
   "cell_type": "code",
   "execution_count": 0,
   "metadata": {
    "application/vnd.databricks.v1+cell": {
     "cellMetadata": {
      "byteLimit": 2048000,
      "rowLimit": 10000
     },
     "inputWidgets": {},
     "nuid": "1a99eaf6-68f3-440b-a376-66254977d282",
     "showTitle": false,
     "tableResultSettingsMap": {},
     "title": ""
    }
   },
   "outputs": [],
   "source": [
    "scenarioTSRDF.to_csv(runIntervalPath+'materialScenariosR.csv')\n",
    "np.savez_compressed(runIntervalPath+'timeSeriesR.npz', deltaPP=dPTimeSeriesR,dayVec=dayVecR,wellIDs=wellIDsR)"
   ]
  },
  {
   "cell_type": "code",
   "execution_count": 0,
   "metadata": {
    "application/vnd.databricks.v1+cell": {
     "cellMetadata": {
      "byteLimit": 2048000,
      "rowLimit": 10000
     },
     "inputWidgets": {},
     "nuid": "73022bf6-bdd8-4f73-a936-781370bc1ff0",
     "showTitle": false,
     "tableResultSettingsMap": {},
     "title": ""
    }
   },
   "outputs": [],
   "source": [
    "np.savez_compressed(runIntervalPath+'timeSeriesSum.npz', deltaPP=dPTimeSeriesSum,dayVec=dayVec,wellIDs=wellIDs)"
   ]
  },
  {
   "cell_type": "code",
   "execution_count": 0,
   "metadata": {
    "application/vnd.databricks.v1+cell": {
     "cellMetadata": {
      "byteLimit": 2048000,
      "rowLimit": 10000
     },
     "inputWidgets": {},
     "nuid": "a4cb7a9d-7ba5-4423-acf8-9c6415677cb1",
     "showTitle": true,
     "tableResultSettingsMap": {},
     "title": "Sensitivity"
    }
   },
   "outputs": [],
   "source": [
    "sensitivityDF.to_csv(runIntervalPath+'sensitivity.csv')"
   ]
  },
  {
   "cell_type": "code",
   "execution_count": 0,
   "metadata": {
    "application/vnd.databricks.v1+cell": {
     "cellMetadata": {
      "byteLimit": 2048000,
      "rowLimit": 10000
     },
     "inputWidgets": {},
     "nuid": "146ca51a-fadf-44e9-ac4d-9f8d728634c9",
     "showTitle": false,
     "tableResultSettingsMap": {},
     "title": ""
    }
   },
   "outputs": [],
   "source": [
    "rateDF.to_csv(runIntervalPath+'rates.csv')"
   ]
  },
  {
   "cell_type": "markdown",
   "metadata": {
    "application/vnd.databricks.v1+cell": {
     "cellMetadata": {
      "byteLimit": 2048000,
      "rowLimit": 10000
     },
     "inputWidgets": {},
     "nuid": "b4236692-cbfc-40d2-b8aa-b3d415ba491c",
     "showTitle": false,
     "tableResultSettingsMap": {},
     "title": ""
    }
   },
   "source": [
    "#3. Correct Data"
   ]
  },
  {
   "cell_type": "markdown",
   "metadata": {
    "application/vnd.databricks.v1+cell": {
     "cellMetadata": {
      "byteLimit": 2048000,
      "rowLimit": 10000
     },
     "inputWidgets": {},
     "nuid": "e1fb4fa0-ef2d-4067-9f96-2a9a1f17ecf7",
     "showTitle": false,
     "tableResultSettingsMap": {},
     "title": ""
    }
   },
   "source": [
    "##3.1 Export Disposal Data"
   ]
  },
  {
   "cell_type": "markdown",
   "metadata": {
    "application/vnd.databricks.v1+cell": {
     "cellMetadata": {
      "byteLimit": 2048000,
      "rowLimit": 10000
     },
     "inputWidgets": {},
     "nuid": "f35e0dd5-e4ea-4a7b-833a-77ea28f21e88",
     "showTitle": false,
     "tableResultSettingsMap": {},
     "title": ""
    }
   },
   "source": [
    "##3.2 Import Updated Disposal Data"
   ]
  },
  {
   "cell_type": "code",
   "execution_count": 0,
   "metadata": {
    "application/vnd.databricks.v1+cell": {
     "cellMetadata": {
      "byteLimit": 2048000,
      "rowLimit": 10000
     },
     "inputWidgets": {},
     "nuid": "1783e6ae-d1a7-429e-805d-eca0ff129691",
     "showTitle": true,
     "tableResultSettingsMap": {},
     "title": "Read and parse updated disposal data"
    }
   },
   "outputs": [],
   "source": [
    "# Input a single file with a lot of columns\n",
    "# newWellInfo=pd.read_csv('path_to_new_well_file')\n",
    "# Get wells with a wellID.unique() call\n",
    "# Separate out dates, wellIDs, and rates to a separate injection file"
   ]
  },
  {
   "cell_type": "markdown",
   "metadata": {
    "application/vnd.databricks.v1+cell": {
     "cellMetadata": {
      "byteLimit": 2048000,
      "rowLimit": 10000
     },
     "inputWidgets": {},
     "nuid": "271df2d4-d03f-4b61-b2c2-2d5e6ad96283",
     "showTitle": false,
     "tableResultSettingsMap": {},
     "title": ""
    }
   },
   "source": [
    "#4. Updated Analysis"
   ]
  },
  {
   "cell_type": "markdown",
   "metadata": {
    "application/vnd.databricks.v1+cell": {
     "cellMetadata": {
      "byteLimit": 2048000,
      "rowLimit": 10000
     },
     "inputWidgets": {},
     "nuid": "47c7fb9b-5d44-4aca-b43d-855b46b7fc7c",
     "showTitle": false,
     "tableResultSettingsMap": {},
     "title": ""
    }
   },
   "source": [
    "##Repeat Steps 2.1 and 2.2\n",
    "Updated disposal data\n",
    "\n",
    "Refined parameters"
   ]
  },
  {
   "cell_type": "markdown",
   "metadata": {
    "application/vnd.databricks.v1+cell": {
     "cellMetadata": {
      "byteLimit": 2048000,
      "rowLimit": 10000
     },
     "inputWidgets": {},
     "nuid": "e63abde2-7d3f-4c01-ade5-de5c31ba1d7f",
     "showTitle": false,
     "tableResultSettingsMap": {},
     "title": ""
    }
   },
   "source": [
    "#5. Forecast"
   ]
  },
  {
   "cell_type": "markdown",
   "metadata": {
    "application/vnd.databricks.v1+cell": {
     "cellMetadata": {
      "byteLimit": 2048000,
      "rowLimit": 10000
     },
     "inputWidgets": {},
     "nuid": "7af6568e-1e85-44aa-b2b6-00b16c5f31bd",
     "showTitle": false,
     "tableResultSettingsMap": {},
     "title": ""
    }
   },
   "source": [
    "##5.1 Input Forecast Times"
   ]
  },
  {
   "cell_type": "code",
   "execution_count": 0,
   "metadata": {
    "application/vnd.databricks.v1+cell": {
     "cellMetadata": {
      "byteLimit": 2048000,
      "rowLimit": 10000
     },
     "inputWidgets": {},
     "nuid": "1e033dd1-f2f9-4d00-928d-17579ba08ba5",
     "showTitle": true,
     "tableResultSettingsMap": {},
     "title": "Forecast Time"
    }
   },
   "outputs": [],
   "source": [
    "# End Year of time series forecast\n",
    "EndYear=2030\n",
    "# Time to calculate rate distributions\n"
   ]
  },
  {
   "cell_type": "markdown",
   "metadata": {
    "application/vnd.databricks.v1+cell": {
     "cellMetadata": {
      "byteLimit": 2048000,
      "rowLimit": 10000
     },
     "inputWidgets": {},
     "nuid": "4e27714c-dfe3-4c70-94d2-0010cf48ca45",
     "showTitle": false,
     "tableResultSettingsMap": {},
     "title": ""
    }
   },
   "source": [
    "##5.2 Distributions of rates for each well"
   ]
  },
  {
   "cell_type": "code",
   "execution_count": 0,
   "metadata": {
    "application/vnd.databricks.v1+cell": {
     "cellMetadata": {
      "byteLimit": 2048000,
      "rowLimit": 10000
     },
     "inputWidgets": {},
     "nuid": "2571077c-67fe-4382-947c-2732bf1bfd15",
     "showTitle": true,
     "tableResultSettingsMap": {},
     "title": "Recalculate Well Selection"
    }
   },
   "outputs": [
    {
     "output_type": "stream",
     "name": "stdout",
     "output_type": "stream",
     "text": [
      "          ID  InjectionWellId  ...         EventID TotalBBL\n0    1007808             7808  ...  texnet2024oqfb      0.0\n1    1004722             4722  ...  texnet2024oqfb      0.0\n2    1007566             7566  ...  texnet2024oqfb      0.0\n3    1004337             4337  ...  texnet2024oqfb      0.0\n4    1004552             4552  ...  texnet2024oqfb      0.0\n..       ...              ...  ...             ...      ...\n437  2120302           120302  ...  texnet2024oqfb      0.0\n438  2106087           106087  ...  texnet2024oqfb      0.0\n439  2120618           120618  ...  texnet2024oqfb    450.0\n441  2098276            98276  ...  texnet2024oqfb  69437.0\n443  2118758           118758  ...  texnet2024oqfb      0.0\n\n[163 rows x 70 columns]\n"
     ]
    }
   ],
   "source": [
    "# Rerun select wells with an updated earthquake time set to the last day of EndYear\n",
    "future=eq.copy()\n",
    "future['Origin Date']=pd.to_datetime('12-31-'+str(EndYear))\n",
    "newSelectedWellsDF,newIgnoredWellsDF,injDF=gist.findWells(future,PE=False,verbose=verb)\n",
    "# Merge udpated well dataframe with prior unselected wells\n",
    "addedWellsDF=newSelectedWellsDF[~newSelectedWellsDF['InjectionWellId'].isin(selectedWellsDF['InjectionWellId'])]\n",
    "print(addedWellsDF)\n",
    "# Re-generate an R-T plot here. Should it have two sets of curves?\n",
    "\n",
    "newRTDF,newMergedWellsDF = gi.prepRTPlot(newSelectedWellsDF,newIgnoredWellsDF,minYear,diffRange,clipYear=False)\n"
   ]
  },
  {
   "cell_type": "code",
   "execution_count": 0,
   "metadata": {
    "application/vnd.databricks.v1+cell": {
     "cellMetadata": {
      "byteLimit": 2048000,
      "rowLimit": 10000
     },
     "inputWidgets": {},
     "nuid": "991a431b-fe1f-4cc3-b913-b625879b09d2",
     "showTitle": true,
     "tableResultSettingsMap": {},
     "title": "Output forecast RT Plot"
    }
   },
   "outputs": [],
   "source": [
    "newMergedWellsDF.to_csv(runIntervalPath+'newRTwells.csv')\n",
    "newRTDF.to_csv(runIntervalPath+'newRTDF.csv')"
   ]
  },
  {
   "cell_type": "code",
   "execution_count": 0,
   "metadata": {
    "application/vnd.databricks.v1+cell": {
     "cellMetadata": {
      "byteLimit": 2048000,
      "rowLimit": 10000
     },
     "inputWidgets": {},
     "nuid": "c482f5ad-9883-4c96-92cd-22df245d45a8",
     "showTitle": true,
     "tableResultSettingsMap": {},
     "title": "Create Distribution of Per-Well Disposal Rates"
    }
   },
   "outputs": [],
   "source": [
    "# I need new code here that calculates the time derivatives at a future point\n",
    "# TDTD0DF= gist.getTHTD0(newSelectedWellsDF,injDF,future,verb)"
   ]
  },
  {
   "cell_type": "code",
   "execution_count": 0,
   "metadata": {
    "application/vnd.databricks.v1+cell": {
     "cellMetadata": {
      "byteLimit": 2048000,
      "rowLimit": 10000
     },
     "inputWidgets": {},
     "nuid": "bc0b5c44-d531-4559-b8a9-9177a4619895",
     "showTitle": false,
     "tableResultSettingsMap": {},
     "title": ""
    }
   },
   "outputs": [
    {
     "output_type": "stream",
     "name": "stdout",
     "output_type": "stream",
     "text": [
      "          ID  InjectionWellId  ...         EventID  TotalBBL\n0    1007808             7808  ...  texnet2024oqfb       0.0\n1    1004722             4722  ...  texnet2024oqfb       0.0\n2    1007566             7566  ...  texnet2024oqfb       0.0\n3    1004337             4337  ...  texnet2024oqfb       0.0\n4    1004552             4552  ...  texnet2024oqfb       0.0\n..       ...              ...  ...             ...       ...\n439  2120618           120618  ...  texnet2024oqfb     450.0\n440  2087373            87373  ...  texnet2024oqfb  938390.0\n441  2098276            98276  ...  texnet2024oqfb   69437.0\n442  2059622            59622  ...  texnet2024oqfb       0.0\n443  2118758           118758  ...  texnet2024oqfb       0.0\n\n[444 rows x 70 columns]\n          ID  InjectionWellId  ...         EventID TotalBBL\n0    1007808             7808  ...  texnet2024oqfb      0.0\n1    1004722             4722  ...  texnet2024oqfb      0.0\n2    1007566             7566  ...  texnet2024oqfb      0.0\n3    1004337             4337  ...  texnet2024oqfb      0.0\n4    1004552             4552  ...  texnet2024oqfb      0.0\n..       ...              ...  ...             ...      ...\n437  2120302           120302  ...  texnet2024oqfb      0.0\n438  2106087           106087  ...  texnet2024oqfb      0.0\n439  2120618           120618  ...  texnet2024oqfb    450.0\n441  2098276            98276  ...  texnet2024oqfb  69437.0\n443  2118758           118758  ...  texnet2024oqfb      0.0\n\n[163 rows x 70 columns]\n    index       ID  ...         EventID    TotalBBL\n0      10  2081279  ...  texnet2024oqfb  14918141.0\n1      37  2105036  ...  texnet2024oqfb  21825454.0\n2      41  2112104  ...  texnet2024oqfb  34841155.0\n3      43  2111690  ...  texnet2024oqfb  28818255.0\n4      46  2112172  ...  texnet2024oqfb  17762529.0\n5      48  2112198  ...  texnet2024oqfb  32639274.0\n6      49  2111946  ...  texnet2024oqfb  25945956.0\n7      52  2112288  ...  texnet2024oqfb  25104190.0\n8      54  2113898  ...  texnet2024oqfb   7866414.0\n9      58  2117633  ...  texnet2024oqfb  21311896.0\n10     61  2120859  ...  texnet2024oqfb  12814086.0\n11     62  2117885  ...  texnet2024oqfb  19830809.0\n12     64  2120454  ...  texnet2024oqfb  21229832.0\n13     68  2120980  ...  texnet2024oqfb  14536988.0\n14     69  2118993  ...  texnet2024oqfb  19153357.0\n15     73  2121094  ...  texnet2024oqfb  16713410.0\n16     76  2119049  ...  texnet2024oqfb  15513523.0\n17     78  2121191  ...  texnet2024oqfb  28636536.0\n18     79  2121203  ...  texnet2024oqfb  14116288.0\n19     82  2121715  ...  texnet2024oqfb   5527220.0\n20     83  2119358  ...  texnet2024oqfb  31258632.0\n21     85  2118517  ...  texnet2024oqfb  16638716.0\n22     90  2123938  ...  texnet2024oqfb  30328284.0\n23     91  2123953  ...  texnet2024oqfb  22866417.0\n24     97  2051824  ...  texnet2024oqfb   9035765.0\n25    124  2121271  ...  texnet2024oqfb  31022021.0\n26    134  2109094  ...  texnet2024oqfb  16136921.0\n27    135  2110718  ...  texnet2024oqfb  26079709.0\n28    137  2110592  ...  texnet2024oqfb  19597700.0\n29    140  2116501  ...  texnet2024oqfb  28488228.0\n30    143  2081404  ...  texnet2024oqfb  54376264.0\n31    149  2048738  ...  texnet2024oqfb  86503043.0\n32    169  2121195  ...  texnet2024oqfb  35177503.0\n33    172  2111358  ...  texnet2024oqfb  27329562.0\n34    214  2112058  ...  texnet2024oqfb   5920421.0\n35    216  2114817  ...  texnet2024oqfb   4613775.0\n36    242  2056720  ...  texnet2024oqfb   8439666.0\n37    249  2064982  ...  texnet2024oqfb  23678605.0\n38    274  2108688  ...  texnet2024oqfb  25378479.0\n\n[39 rows x 71 columns]\n"
     ]
    }
   ],
   "source": [
    "print(newSelectedWellsDF)\n",
    "print(addedWellsDF)\n",
    "print(winWellsDF)"
   ]
  },
  {
   "cell_type": "code",
   "execution_count": 0,
   "metadata": {
    "application/vnd.databricks.v1+cell": {
     "cellMetadata": {
      "byteLimit": 2048000,
      "rowLimit": 10000
     },
     "inputWidgets": {},
     "nuid": "6decbb12-e55d-4577-aadf-1335449adbfa",
     "showTitle": true,
     "tableResultSettingsMap": {},
     "title": "Set Future Well Rates"
    }
   },
   "outputs": [
    {
     "output_type": "stream",
     "name": "stderr",
     "output_type": "stream",
     "text": [
      "/home/spark-d4737d59-de85-4148-955b-9e/.ipykernel/20389/command-211832628489450-123366288:3: FutureWarning: The frame.append method is deprecated and will be removed from pandas in a future version. Use pandas.concat instead.\n  forecastWellsDF=winWellsDF.append(addedWellsDF)\n"
     ]
    }
   ],
   "source": [
    "# Here is where the input well rates come into play\n",
    "# Create updated dataframe with new wells\n",
    "forecastWellsDF=winWellsDF.append(addedWellsDF)\n",
    "# Create updated injection dataframe\n",
    "# Start with columns from existing dataframe.\n",
    "# Set start date, end date, and interval, maybe existing dataframe as well?\n",
    "# Parameters are a dictionary of wells and rates\n",
    "# Output is an dataframe that we can append to our existing dataframe\n",
    "#forecastInjDF=\n",
    "# Find start date\n",
    "# Create vector of dates or day numbers.\n",
    "# Loop over wells\n",
    "#   Create rows for each well\n",
    "# Create dataframe"
   ]
  },
  {
   "cell_type": "code",
   "execution_count": 0,
   "metadata": {
    "application/vnd.databricks.v1+cell": {
     "cellMetadata": {
      "byteLimit": 2048000,
      "rowLimit": 10000
     },
     "inputWidgets": {},
     "nuid": "8b6d2801-84e8-4d83-bbf3-72454f062b95",
     "showTitle": true,
     "tableResultSettingsMap": {},
     "title": "Compute"
    }
   },
   "outputs": [],
   "source": [
    "# And here is the future time forecast\n",
    "#scenarioTSDF,dPTimeSeries,wellIDs,dayVec = gist.runPressureScenariosTimeSeriesTest(eq,forecastWellsDF,forecastInjDF,verbose=verb)"
   ]
  },
  {
   "cell_type": "code",
   "execution_count": 0,
   "metadata": {
    "application/vnd.databricks.v1+cell": {
     "cellMetadata": {
      "byteLimit": 2048000,
      "rowLimit": 10000
     },
     "inputWidgets": {},
     "nuid": "697e0a54-caa8-492d-adf3-782d901d518c",
     "showTitle": false,
     "tableResultSettingsMap": {},
     "title": ""
    }
   },
   "outputs": [],
   "source": []
  }
 ],
 "metadata": {
  "application/vnd.databricks.v1+notebook": {
   "computePreferences": {
    "hardware": {
     "accelerator": null,
     "gpuPoolId": null,
     "memory": null
    }
   },
   "dashboards": [],
   "environmentMetadata": {
    "base_environment": "",
    "client": "1"
   },
   "language": "python",
   "notebookMetadata": {
    "pythonIndentUnit": 2
   },
   "notebookName": "GIST_RunTemplate_texnet2024oqfb_deep",
   "widgets": {}
  },
  "language_info": {
   "name": "python"
  }
 },
 "nbformat": 4,
 "nbformat_minor": 0
}