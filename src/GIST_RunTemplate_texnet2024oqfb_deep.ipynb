{
 "cells": [
  {
   "cell_type": "markdown",
   "metadata": {
    "application/vnd.databricks.v1+cell": {
     "cellMetadata": {
      "byteLimit": 2048000,
      "rowLimit": 10000
     },
     "inputWidgets": {},
     "nuid": "c1abdb59-6473-4a9e-89dc-f7bf61a76f4b",
     "showTitle": false,
     "tableResultSettingsMap": {},
     "title": ""
    }
   },
   "source": [
    "# Geomechanical Injection Scenario Toolkit (GIST)\n",
    "\n",
    "#Disclaimer\n",
    "GIST aims to give the _gist_ of a wide range of potential scenarios and aid collective decision making when responding to seismicity.\n",
    "\n",
    "The results of GIST are entirely dependent upon the inputs provided, which may be incomplete or inaccurate.\n",
    "\n",
    "There are other potentially plausible inducement scenarios that are not considered, including fluid migration into the basement, \n",
    "out-of-zone poroelastic stressing, or hydraulic fracturing.\n",
    "\n",
    "None of the individual models produced by GIST accurately represent what happens in the subsurface and cannot be credibly used \n",
    "to accurately assign liability or responsibility for seismicity.\n",
    "\n",
    "\"All models are wrong, but some are useful\" - George Box, 1976\n",
    "\n",
    "## Prerequisites\n",
    "\n",
    "Assumes InjectionSQLScheduled completed successfully and injection data are sampled uniformly in time"
   ]
  },
  {
   "cell_type": "markdown",
   "metadata": {
    "application/vnd.databricks.v1+cell": {
     "cellMetadata": {
      "byteLimit": 2048000,
      "rowLimit": 10000
     },
     "inputWidgets": {},
     "nuid": "b264040f-fa15-4a0b-b6a8-a6260d9ab053",
     "showTitle": false,
     "tableResultSettingsMap": {},
     "title": ""
    }
   },
   "source": [
    "##Install Dependencies\n",
    "- geopandas\n",
    "- gistMC.py\n",
    "- eqSQL.py\n",
    "- gistPlots.py\n",
    "- numpy\n",
    "- scipy\n",
    "- pandas\n"
   ]
  },
  {
   "cell_type": "code",
   "execution_count": 0,
   "metadata": {
    "application/vnd.databricks.v1+cell": {
     "cellMetadata": {
      "byteLimit": 2048000,
      "rowLimit": 10000
     },
     "inputWidgets": {},
     "nuid": "e00f4128-0373-462e-b4e5-0c722b222f74",
     "showTitle": true,
     "tableResultSettingsMap": {},
     "title": "Restart python"
    }
   },
   "outputs": [],
   "source": [
    "%restart_python"
   ]
  },
  {
   "cell_type": "code",
   "execution_count": 0,
   "metadata": {
    "application/vnd.databricks.v1+cell": {
     "cellMetadata": {
      "byteLimit": 2048000,
      "rowLimit": 10000
     },
     "collapsed": true,
     "inputWidgets": {},
     "nuid": "fb80407f-4a02-4284-9638-a9c24281d177",
     "showTitle": true,
     "tableResultSettingsMap": {},
     "title": "Databricks functions"
    }
   },
   "outputs": [],
   "source": [
    "%run \"/Workspace/_utils/Utility_Functions\""
   ]
  },
  {
   "cell_type": "code",
   "execution_count": 0,
   "metadata": {
    "application/vnd.databricks.v1+cell": {
     "cellMetadata": {
      "byteLimit": 2048000,
      "rowLimit": 10000
     },
     "collapsed": true,
     "inputWidgets": {},
     "nuid": "0e21e4dd-c64f-459b-9241-0cb74bf49524",
     "showTitle": true,
     "tableResultSettingsMap": {},
     "title": "PIP installs"
    }
   },
   "outputs": [
    {
     "output_type": "stream",
     "name": "stdout",
     "output_type": "stream",
     "text": [
      "Collecting geopandas\n  Downloading geopandas-1.0.1-py3-none-any.whl (323 kB)\n     ━━━━━━━━━━━━━━━━━━━━━━━━━━━━━━━━━━━━━━━ 323.6/323.6 kB 9.5 MB/s eta 0:00:00\nRequirement already satisfied: packaging in /databricks/python3/lib/python3.10/site-packages (from geopandas) (23.2)\nCollecting shapely>=2.0.0\n  Downloading shapely-2.0.6-cp310-cp310-manylinux_2_17_x86_64.manylinux2014_x86_64.whl (2.5 MB)\n     ━━━━━━━━━━━━━━━━━━━━━━━━━━━━━━━━━━━━━━━━ 2.5/2.5 MB 104.6 MB/s eta 0:00:00\nCollecting pyproj>=3.3.0\n  Downloading pyproj-3.7.0-cp310-cp310-manylinux_2_17_x86_64.manylinux2014_x86_64.whl (9.2 MB)\n     ━━━━━━━━━━━━━━━━━━━━━━━━━━━━━━━━━━━━━━━━ 9.2/9.2 MB 120.6 MB/s eta 0:00:00\nRequirement already satisfied: numpy>=1.22 in /databricks/python3/lib/python3.10/site-packages (from geopandas) (1.23.5)\nCollecting pyogrio>=0.7.2\n  Downloading pyogrio-0.10.0-cp310-cp310-manylinux_2_28_x86_64.whl (23.9 MB)\n     ━━━━━━━━━━━━━━━━━━━━━━━━━━━━━━━━━━━━━━━━ 23.9/23.9 MB 79.3 MB/s eta 0:00:00\nRequirement already satisfied: pandas>=1.4.0 in /databricks/python3/lib/python3.10/site-packages (from geopandas) (1.5.3)\nRequirement already satisfied: python-dateutil>=2.8.1 in /databricks/python3/lib/python3.10/site-packages (from pandas>=1.4.0->geopandas) (2.8.2)\nRequirement already satisfied: pytz>=2020.1 in /databricks/python3/lib/python3.10/site-packages (from pandas>=1.4.0->geopandas) (2022.7)\nRequirement already satisfied: certifi in /databricks/python3/lib/python3.10/site-packages (from pyogrio>=0.7.2->geopandas) (2022.12.7)\nRequirement already satisfied: six>=1.5 in /usr/lib/python3/dist-packages (from python-dateutil>=2.8.1->pandas>=1.4.0->geopandas) (1.16.0)\nInstalling collected packages: shapely, pyproj, pyogrio, geopandas\nSuccessfully installed geopandas-1.0.1 pyogrio-0.10.0 pyproj-3.7.0 shapely-2.0.6\n\u001B[43mNote: you may need to restart the kernel using %restart_python or dbutils.library.restartPython() to use updated packages.\u001B[0m\nCollecting geodatasets\n  Downloading geodatasets-2024.8.0-py3-none-any.whl (20 kB)\nCollecting pooch\n  Downloading pooch-1.8.2-py3-none-any.whl (64 kB)\n     ━━━━━━━━━━━━━━━━━━━━━━━━━━━━━━━━━━━━━━━━ 64.6/64.6 kB 3.8 MB/s eta 0:00:00\nRequirement already satisfied: requests>=2.19.0 in /databricks/python3/lib/python3.10/site-packages (from pooch->geodatasets) (2.28.1)\nRequirement already satisfied: platformdirs>=2.5.0 in /databricks/python3/lib/python3.10/site-packages (from pooch->geodatasets) (2.5.2)\nRequirement already satisfied: packaging>=20.0 in /databricks/python3/lib/python3.10/site-packages (from pooch->geodatasets) (23.2)\nRequirement already satisfied: urllib3<1.27,>=1.21.1 in /databricks/python3/lib/python3.10/site-packages (from requests>=2.19.0->pooch->geodatasets) (1.26.14)\nRequirement already satisfied: certifi>=2017.4.17 in /databricks/python3/lib/python3.10/site-packages (from requests>=2.19.0->pooch->geodatasets) (2022.12.7)\nRequirement already satisfied: charset-normalizer<3,>=2 in /databricks/python3/lib/python3.10/site-packages (from requests>=2.19.0->pooch->geodatasets) (2.0.4)\nRequirement already satisfied: idna<4,>=2.5 in /databricks/python3/lib/python3.10/site-packages (from requests>=2.19.0->pooch->geodatasets) (3.4)\nInstalling collected packages: pooch, geodatasets\nSuccessfully installed geodatasets-2024.8.0 pooch-1.8.2\n\u001B[43mNote: you may need to restart the kernel using %restart_python or dbutils.library.restartPython() to use updated packages.\u001B[0m\nCollecting contextily\n  Downloading contextily-1.6.2-py3-none-any.whl (17 kB)\nCollecting mercantile\n  Downloading mercantile-1.2.1-py3-none-any.whl (14 kB)\nRequirement already satisfied: pillow in /databricks/python3/lib/python3.10/site-packages (from contextily) (9.4.0)\nCollecting rasterio\n  Downloading rasterio-1.4.2-cp310-cp310-manylinux_2_17_x86_64.manylinux2014_x86_64.whl (22.2 MB)\n     ━━━━━━━━━━━━━━━━━━━━━━━━━━━━━━━━━━━━━━━━ 22.2/22.2 MB 61.8 MB/s eta 0:00:00\nRequirement already satisfied: requests in /databricks/python3/lib/python3.10/site-packages (from contextily) (2.28.1)\nRequirement already satisfied: matplotlib in /databricks/python3/lib/python3.10/site-packages (from contextily) (3.7.0)\nCollecting xyzservices\n  Downloading xyzservices-2024.9.0-py3-none-any.whl (85 kB)\n     ━━━━━━━━━━━━━━━━━━━━━━━━━━━━━━━━━━━━━━━━ 85.1/85.1 kB 28.4 MB/s eta 0:00:00\nRequirement already satisfied: joblib in /databricks/python3/lib/python3.10/site-packages (from contextily) (1.2.0)\nCollecting geopy\n  Downloading geopy-2.4.1-py3-none-any.whl (125 kB)\n     ━━━━━━━━━━━━━━━━━━━━━━━━━━━━━━━━━━━━━━ 125.4/125.4 kB 48.2 MB/s eta 0:00:00\nCollecting geographiclib<3,>=1.52\n  Downloading geographiclib-2.0-py3-none-any.whl (40 kB)\n     ━━━━━━━━━━━━━━━━━━━━━━━━━━━━━━━━━━━━━━━━ 40.3/40.3 kB 13.8 MB/s eta 0:00:00\nRequirement already satisfied: python-dateutil>=2.7 in /databricks/python3/lib/python3.10/site-packages (from matplotlib->contextily) (2.8.2)\nRequirement already satisfied: cycler>=0.10 in /databricks/python3/lib/python3.10/site-packages (from matplotlib->contextily) (0.11.0)\nRequirement already satisfied: packaging>=20.0 in /databricks/python3/lib/python3.10/site-packages (from matplotlib->contextily) (23.2)\nRequirement already satisfied: pyparsing>=2.3.1 in /databricks/python3/lib/python3.10/site-packages (from matplotlib->contextily) (3.0.9)\nRequirement already satisfied: contourpy>=1.0.1 in /databricks/python3/lib/python3.10/site-packages (from matplotlib->contextily) (1.0.5)\nRequirement already satisfied: kiwisolver>=1.0.1 in /databricks/python3/lib/python3.10/site-packages (from matplotlib->contextily) (1.4.4)\nRequirement already satisfied: fonttools>=4.22.0 in /databricks/python3/lib/python3.10/site-packages (from matplotlib->contextily) (4.25.0)\nRequirement already satisfied: numpy>=1.20 in /databricks/python3/lib/python3.10/site-packages (from matplotlib->contextily) (1.23.5)\nRequirement already satisfied: click>=3.0 in /databricks/python3/lib/python3.10/site-packages (from mercantile->contextily) (8.0.4)\nCollecting click-plugins\n  Downloading click_plugins-1.1.1-py2.py3-none-any.whl (7.5 kB)\nCollecting cligj>=0.5\n  Downloading cligj-0.7.2-py3-none-any.whl (7.1 kB)\nCollecting numpy>=1.20\n  Downloading numpy-2.1.3-cp310-cp310-manylinux_2_17_x86_64.manylinux2014_x86_64.whl (16.3 MB)\n     ━━━━━━━━━━━━━━━━━━━━━━━━━━━━━━━━━━━━━━━━ 16.3/16.3 MB 78.5 MB/s eta 0:00:00\nRequirement already satisfied: attrs in /databricks/python3/lib/python3.10/site-packages (from rasterio->contextily) (22.1.0)\nCollecting affine\n  Downloading affine-2.4.0-py3-none-any.whl (15 kB)\nRequirement already satisfied: certifi in /databricks/python3/lib/python3.10/site-packages (from rasterio->contextily) (2022.12.7)\nRequirement already satisfied: urllib3<1.27,>=1.21.1 in /databricks/python3/lib/python3.10/site-packages (from requests->contextily) (1.26.14)\nRequirement already satisfied: charset-normalizer<3,>=2 in /databricks/python3/lib/python3.10/site-packages (from requests->contextily) (2.0.4)\nRequirement already satisfied: idna<4,>=2.5 in /databricks/python3/lib/python3.10/site-packages (from requests->contextily) (3.4)\nRequirement already satisfied: six>=1.5 in /usr/lib/python3/dist-packages (from python-dateutil>=2.7->matplotlib->contextily) (1.16.0)\nInstalling collected packages: xyzservices, numpy, mercantile, geographiclib, cligj, click-plugins, affine, rasterio, geopy, contextily\n  Attempting uninstall: numpy\n    Found existing installation: numpy 1.23.5\n    Not uninstalling numpy at /databricks/python3/lib/python3.10/site-packages, outside environment /local_disk0/.ephemeral_nfs/envs/pythonEnv-19bf3125-12b5-4f66-8a38-60dc1995d082\n    Can't uninstall 'numpy'. No files were found to uninstall.\nERROR: pip's dependency resolver does not currently take into account all the packages that are installed. This behaviour is the source of the following dependency conflicts.\nscipy 1.10.0 requires numpy<1.27.0,>=1.19.5, but you have numpy 2.1.3 which is incompatible.\ndatabricks-connect 14.3.4 requires numpy<2,>=1.15, but you have numpy 2.1.3 which is incompatible.\nSuccessfully installed affine-2.4.0 click-plugins-1.1.1 cligj-0.7.2 contextily-1.6.2 geographiclib-2.0 geopy-2.4.1 mercantile-1.2.1 numpy-2.1.3 rasterio-1.4.2 xyzservices-2024.9.0\n\u001B[43mNote: you may need to restart the kernel using %restart_python or dbutils.library.restartPython() to use updated packages.\u001B[0m\n"
     ]
    }
   ],
   "source": [
    "!pip install geopandas\n",
    "!pip install geodatasets\n",
    "!pip install contextily\n",
    "#! pip install folium matplotlib mapclassify contextily"
   ]
  },
  {
   "cell_type": "markdown",
   "metadata": {
    "application/vnd.databricks.v1+cell": {
     "cellMetadata": {
      "byteLimit": 2048000,
      "rowLimit": 10000
     },
     "inputWidgets": {},
     "nuid": "c93df717-a2d5-4e18-b1cb-7d39ffcb99b2",
     "showTitle": false,
     "tableResultSettingsMap": {},
     "title": ""
    }
   },
   "source": [
    "##Paths"
   ]
  },
  {
   "cell_type": "code",
   "execution_count": 0,
   "metadata": {
    "application/vnd.databricks.v1+cell": {
     "cellMetadata": {
      "byteLimit": 2048000,
      "rowLimit": 10000
     },
     "inputWidgets": {},
     "nuid": "145f505a-6639-4124-b6bd-aa4e6c9b5c47",
     "showTitle": false,
     "tableResultSettingsMap": {},
     "title": ""
    }
   },
   "outputs": [],
   "source": [
    "# Paths\n",
    "homePath='/Workspace/Users/bill.curry@exxonmobil.com'\n",
    "# Injection data path \n",
    "injPath=homePath+'/injection/WeeklyRun/ScheduledOutput'\n",
    "# GIST library path\n",
    "gistPath=homePath+'/GIST'"
   ]
  },
  {
   "cell_type": "markdown",
   "metadata": {
    "application/vnd.databricks.v1+cell": {
     "cellMetadata": {
      "byteLimit": 2048000,
      "rowLimit": 10000
     },
     "inputWidgets": {},
     "nuid": "fe561de9-c0de-474b-af1b-e457ac846dbe",
     "showTitle": false,
     "tableResultSettingsMap": {},
     "title": ""
    }
   },
   "source": [
    "##Libraries\n",
    "\n",
    "- numpy\n",
    "- scipy\n",
    "- pandas\n",
    "- matplotlib\n",
    "- geopandas\n",
    "- pyspark\n"
   ]
  },
  {
   "cell_type": "code",
   "execution_count": 0,
   "metadata": {
    "application/vnd.databricks.v1+cell": {
     "cellMetadata": {
      "byteLimit": 2048000,
      "rowLimit": 10000
     },
     "inputWidgets": {},
     "nuid": "10119ade-2798-4028-9462-d20dc15fb1d7",
     "showTitle": true,
     "tableResultSettingsMap": {},
     "title": "add path"
    }
   },
   "outputs": [],
   "source": [
    "import sys\n",
    "sys.path.append(gistPath+'/lib')"
   ]
  },
  {
   "cell_type": "code",
   "execution_count": 0,
   "metadata": {
    "application/vnd.databricks.v1+cell": {
     "cellMetadata": {
      "byteLimit": 2048000,
      "rowLimit": 10000
     },
     "inputWidgets": {},
     "nuid": "2e230114-d00d-4065-9b06-9bc65deb51a6",
     "showTitle": true,
     "tableResultSettingsMap": {},
     "title": "pyspark"
    }
   },
   "outputs": [],
   "source": [
    "#Databricks-specific\n",
    "#import dataBricksConfig as db\n",
    "from pyspark.sql import SparkSession\n",
    "spark = SparkSession.builder.appName(\"eqSQL\").getOrCreate()"
   ]
  },
  {
   "cell_type": "code",
   "execution_count": 0,
   "metadata": {
    "application/vnd.databricks.v1+cell": {
     "cellMetadata": {
      "byteLimit": 2048000,
      "rowLimit": 10000
     },
     "inputWidgets": {},
     "nuid": "732391bb-8d33-4ac8-a2d7-4a7efc617715",
     "showTitle": true,
     "tableResultSettingsMap": {},
     "title": "imports"
    }
   },
   "outputs": [
    {
     "output_type": "display_data",
     "data": {
      "application/vnd.databricks.v1+h3_hint": "",
      "text/plain": []
     },
     "metadata": {},
     "output_type": "display_data"
    }
   ],
   "source": [
    "import numpy as np\n",
    "import pandas as pd\n",
    "import os\n",
    "import gistMC as gi\n",
    "import eqSQL as es\n",
    "import matplotlib.pyplot as plt\n",
    "import seaborn as sns\n",
    "import geopandas\n",
    "#import contextily as cx"
   ]
  },
  {
   "cell_type": "code",
   "execution_count": 0,
   "metadata": {
    "application/vnd.databricks.v1+cell": {
     "cellMetadata": {
      "byteLimit": 2048000,
      "rowLimit": 10000
     },
     "inputWidgets": {},
     "nuid": "f363a4c7-dd42-4e22-a888-cbf75b53ad45",
     "showTitle": false,
     "tableResultSettingsMap": {},
     "title": ""
    }
   },
   "outputs": [],
   "source": [
    "import gistPlots as gp"
   ]
  },
  {
   "cell_type": "markdown",
   "metadata": {
    "application/vnd.databricks.v1+cell": {
     "cellMetadata": {
      "byteLimit": 2048000,
      "rowLimit": 10000
     },
     "inputWidgets": {},
     "nuid": "83eacea1-ee6c-412e-86e8-eb0062d6a40c",
     "showTitle": false,
     "tableResultSettingsMap": {},
     "title": ""
    }
   },
   "source": [
    "#1. Select Event"
   ]
  },
  {
   "cell_type": "code",
   "execution_count": 0,
   "metadata": {
    "application/vnd.databricks.v1+cell": {
     "cellMetadata": {
      "byteLimit": 2048000,
      "rowLimit": 10000
     },
     "inputWidgets": {},
     "nuid": "29556f3e-cfbc-4eb2-aac0-ffdd3b050893",
     "showTitle": true,
     "tableResultSettingsMap": {},
     "title": "Input TexNet Event ID (1.1)"
    }
   },
   "outputs": [],
   "source": [
    "eventID='texnet2024oqfb'"
   ]
  },
  {
   "cell_type": "code",
   "execution_count": 0,
   "metadata": {
    "application/vnd.databricks.v1+cell": {
     "cellMetadata": {
      "byteLimit": 2048000,
      "rowLimit": 10000
     },
     "inputWidgets": {},
     "nuid": "d60eb1f0-2056-49e5-94c6-5927832497b4",
     "showTitle": true,
     "tableResultSettingsMap": {},
     "title": "Create Output Path for Event (1.2)"
    }
   },
   "outputs": [],
   "source": [
    "runPath=gistPath+'/runs/'+eventID+'/'\n",
    "os.makedirs(runPath, exist_ok=True)"
   ]
  },
  {
   "cell_type": "code",
   "execution_count": 0,
   "metadata": {
    "application/vnd.databricks.v1+cell": {
     "cellMetadata": {
      "byteLimit": 2048000,
      "rowLimit": 10000
     },
     "inputWidgets": {},
     "nuid": "ce7a3a90-f553-4113-abbe-37d6fb67d6e5",
     "showTitle": true,
     "tableResultSettingsMap": {},
     "title": "Fetch Earthquake Info (1.3)"
    }
   },
   "outputs": [
    {
     "output_type": "stream",
     "name": "stdout",
     "output_type": "stream",
     "text": [
      "getEarthquake:     SeismicEventId  ... B3RecordDeletedUTCDateTime\n0         2481836  ...                        NaT\n\n[1 rows x 32 columns]\n<class 'geopandas.geodataframe.GeoDataFrame'>\nRangeIndex: 1 entries, 0 to 0\nData columns (total 38 columns):\n #   Column                      Non-Null Count  Dtype         \n---  ------                      --------------  -----         \n 0   SeismicEventId              1 non-null      int64         \n 1   DataSource                  1 non-null      object        \n 2   DataSourceUrl               0 non-null      object        \n 3   EventID                     1 non-null      object        \n 4   EventTimeUtc                1 non-null      datetime64[ns]\n 5   EventTimeInLocalTimeZone    1 non-null      object        \n 6   EventTimeZone               1 non-null      object        \n 7   EventType                   1 non-null      object        \n 8   DepthKm                     1 non-null      float64       \n 9   DepthErrorKm                1 non-null      float64       \n 10  Magnitude                   1 non-null      float64       \n 11  MagnitudeError              0 non-null      float64       \n 12  MagnitudeType               1 non-null      object        \n 13  Location                    1 non-null      object        \n 14  Status                      1 non-null      object        \n 15  Latitude                    1 non-null      float64       \n 16  LatitudeError               1 non-null      float64       \n 17  Longitude                   1 non-null      float64       \n 18  LongitudeError              1 non-null      float64       \n 19  UpdatedDateUtc              1 non-null      datetime64[ns]\n 20  StationCount                1 non-null      int64         \n 21  RMS                         1 non-null      float64       \n 22  RMS_p                       0 non-null      object        \n 23  RMS_s                       0 non-null      object        \n 24  FocalMechanismAzimuthalGap  0 non-null      float64       \n 25  County                      1 non-null      object        \n 26  State                       1 non-null      object        \n 27  DuplicateSetId              1 non-null      int32         \n 28  RankWithinDuplicateSet      1 non-null      int32         \n 29  B3RecordAddedUTCDateTime    1 non-null      datetime64[ns]\n 30  B3RecordUpdatedUTCDateTime  1 non-null      datetime64[ns]\n 31  B3RecordDeletedUTCDateTime  0 non-null      datetime64[ns]\n 32  Origin Date                 1 non-null      object        \n 33  Origin Time                 1 non-null      object        \n 34  geometry                    1 non-null      geometry      \n 35  Strike                      1 non-null      float64       \n 36  Dip                         1 non-null      float64       \n 37  Rake                        1 non-null      float64       \ndtypes: datetime64[ns](5), float64(13), geometry(1), int32(2), int64(2), object(15)\nmemory usage: 424.0+ bytes\n"
     ]
    }
   ],
   "source": [
    "eqs=es.eqSQL()\n",
    "EQDF=eqs.getEarthquake(eventID)\n",
    "EQDF=EQDF.rename(columns={'LatitudeErrorKm':'LatitudeError','LongitudeErrorKm':'LongitudeError','EventId':'EventID'})\n",
    "# What about the other fault plane solution? - 251 / 36 / -97\n",
    "EQDF['Strike']=80.\n",
    "EQDF['Dip']=55.\n",
    "EQDF['Rake']=-85.\n",
    "# We could make use of the Rake\n",
    "EQDF.info()\n",
    "eq=EQDF.loc[0]"
   ]
  },
  {
   "cell_type": "code",
   "execution_count": 0,
   "metadata": {
    "application/vnd.databricks.v1+cell": {
     "cellMetadata": {
      "byteLimit": 2048000,
      "rowLimit": 10000
     },
     "inputWidgets": {},
     "nuid": "57a3cca2-ed2c-4c68-852b-7afa1f5fdaa0",
     "showTitle": true,
     "tableResultSettingsMap": {},
     "title": "Output Earthquake (1.4)"
    }
   },
   "outputs": [],
   "source": [
    "EQDF.to_csv(runPath+'/EQ.csv')"
   ]
  },
  {
   "cell_type": "markdown",
   "metadata": {
    "application/vnd.databricks.v1+cell": {
     "cellMetadata": {
      "byteLimit": 2048000,
      "rowLimit": 10000
     },
     "inputWidgets": {},
     "nuid": "41d31cc5-0dad-4f64-a0ad-66225f6ae397",
     "showTitle": false,
     "tableResultSettingsMap": {},
     "title": ""
    }
   },
   "source": [
    "#2. Initial Run"
   ]
  },
  {
   "cell_type": "markdown",
   "metadata": {
    "application/vnd.databricks.v1+cell": {
     "cellMetadata": {
      "byteLimit": 2048000,
      "rowLimit": 10000
     },
     "inputWidgets": {},
     "nuid": "33bedbfc-3c55-458b-9024-9523dec9d858",
     "showTitle": false,
     "tableResultSettingsMap": {},
     "title": ""
    }
   },
   "source": [
    "##2.1 Subsurface Model Parameters"
   ]
  },
  {
   "cell_type": "markdown",
   "metadata": {
    "application/vnd.databricks.v1+cell": {
     "cellMetadata": {
      "byteLimit": 2048000,
      "rowLimit": 10000
     },
     "inputWidgets": {},
     "nuid": "8c1e59e0-8d99-4372-9269-dafe823c3521",
     "showTitle": false,
     "tableResultSettingsMap": {},
     "title": ""
    }
   },
   "source": [
    "###Inputs:"
   ]
  },
  {
   "cell_type": "code",
   "execution_count": 0,
   "metadata": {
    "application/vnd.databricks.v1+cell": {
     "cellMetadata": {
      "byteLimit": 2048000,
      "rowLimit": 10000
     },
     "inputWidgets": {},
     "nuid": "fa86e866-ce36-4367-b2f6-cd78fcc54b4e",
     "showTitle": true,
     "tableResultSettingsMap": {},
     "title": "Depth Interval (Deep/Shallow)"
    }
   },
   "outputs": [],
   "source": [
    "# Binary deep/shallow parameter\n",
    "deepOrShallow='deep'\n",
    "# Depth from surface (ft)\n",
    "# Distinguishes deep/shallow where we don't have a horizon \n",
    "depthCutoff=8000."
   ]
  },
  {
   "cell_type": "code",
   "execution_count": 0,
   "metadata": {
    "application/vnd.databricks.v1+cell": {
     "cellMetadata": {
      "byteLimit": 2048000,
      "rowLimit": 10000
     },
     "inputWidgets": {},
     "nuid": "5eac1e6f-a489-46ea-9e08-aaa35509f3fe",
     "showTitle": true,
     "tableResultSettingsMap": {},
     "title": "Monte-Carlo Parameters"
    }
   },
   "outputs": [],
   "source": [
    "nRealizations=500"
   ]
  },
  {
   "cell_type": "code",
   "execution_count": 0,
   "metadata": {
    "application/vnd.databricks.v1+cell": {
     "cellMetadata": {
      "byteLimit": 2048000,
      "rowLimit": 10000
     },
     "inputWidgets": {},
     "nuid": "a92b5ecc-ee98-4077-8e0b-c95a42deea53",
     "showTitle": true,
     "tableResultSettingsMap": {},
     "title": "Fluid Properties"
    }
   },
   "outputs": [],
   "source": [
    "# Water density minimum/maximum (kg/m3)\n",
    "WaterDensityMin=1015.\n",
    "WaterDensityMax=1025.\n",
    "# Water viscosity minimum/maximum (Pa.s)\n",
    "WaterViscosityMin=0.000799\n",
    "WaterViscosityMax=0.000801\n",
    "# Fluid Compressibility minimum/maximum (1/Pa)\n",
    "FluidCompressibilityMin=0.000000000359\n",
    "FluidCompressibilityMax=0.000000000361"
   ]
  },
  {
   "cell_type": "code",
   "execution_count": 0,
   "metadata": {
    "application/vnd.databricks.v1+cell": {
     "cellMetadata": {
      "byteLimit": 2048000,
      "rowLimit": 10000
     },
     "inputWidgets": {},
     "nuid": "d58e0474-d42e-49be-94ae-633087760772",
     "showTitle": true,
     "tableResultSettingsMap": {},
     "title": "Depth Interval Properties"
    }
   },
   "outputs": [],
   "source": [
    "# Porosity in percent\n",
    "PorosityPercentMin=3.\n",
    "PorosityPercentMax=15.\n",
    "\n",
    "# Permeability in millidarcies\n",
    "PermMDMin=5.\n",
    "PermMDMax=500.\n",
    "\n",
    "# Thickness in feet\n",
    "ThicknessFTMin=200.\n",
    "ThicknessFTMax=2000.\n",
    "\n",
    "# Vertical compressibility minimum/maximum (1/Pa)\n",
    "VerticalCompressibilityMin=0.00000000107\n",
    "VerticalCompressibilityMax=0.00000000109"
   ]
  },
  {
   "cell_type": "code",
   "execution_count": 0,
   "metadata": {
    "application/vnd.databricks.v1+cell": {
     "cellMetadata": {
      "byteLimit": 2048000,
      "rowLimit": 10000
     },
     "inputWidgets": {},
     "nuid": "17c599c7-20e2-4a5f-9e30-737f6b236831",
     "showTitle": true,
     "tableResultSettingsMap": {},
     "title": "Well Contribution Filtering Parameters"
    }
   },
   "outputs": [],
   "source": [
    "# Verbosity - 0=silent, 1=some, 2=lots\n",
    "verb=0\n",
    "# Minimum Pressure change to care about in PSI\n",
    "dPCutoff=0.5\n",
    "# Maximum Number of wells to plot\n",
    "nWells=50\n",
    "# How far back in time to plot in years\n",
    "minYear=-40"
   ]
  },
  {
   "cell_type": "markdown",
   "metadata": {
    "application/vnd.databricks.v1+cell": {
     "cellMetadata": {
      "byteLimit": 2048000,
      "rowLimit": 10000
     },
     "inputWidgets": {},
     "nuid": "9237e4af-4e41-491b-add8-8b182193f2e7",
     "showTitle": false,
     "tableResultSettingsMap": {},
     "title": ""
    }
   },
   "source": [
    "### Set Interval-Specific Paths...\n"
   ]
  },
  {
   "cell_type": "code",
   "execution_count": 0,
   "metadata": {
    "application/vnd.databricks.v1+cell": {
     "cellMetadata": {
      "byteLimit": 2048000,
      "rowLimit": 10000
     },
     "inputWidgets": {},
     "nuid": "1ad711f6-8be1-4dfe-80dd-e64126d0aadc",
     "showTitle": true,
     "tableResultSettingsMap": {},
     "title": "Create Subdirectory for Interval in EQ Directory"
    }
   },
   "outputs": [],
   "source": [
    "# Set an output directory for this earthquake and this interval\n",
    "runIntervalPath=runPath+deepOrShallow+'/'\n",
    "# Make directory if it doesn't exist\n",
    "os.makedirs(runIntervalPath, exist_ok=True)\n",
    "################################################\n",
    "# Output prefix for realizations of parameters #\n",
    "################################################\n",
    "RealizationPrefix=runIntervalPath+'MC'"
   ]
  },
  {
   "cell_type": "code",
   "execution_count": 0,
   "metadata": {
    "application/vnd.databricks.v1+cell": {
     "cellMetadata": {
      "byteLimit": 2048000,
      "rowLimit": 10000
     },
     "inputWidgets": {},
     "nuid": "7b3f2312-434f-4dc7-a7d1-dc7a2717a900",
     "showTitle": true,
     "tableResultSettingsMap": {},
     "title": "Point to disposal data for the chosen interval"
    }
   },
   "outputs": [],
   "source": [
    "# Point to appropriate well and injection files\n",
    "if deepOrShallow=='deep':\n",
    "  WellFile=injPath+'/deep.csv'\n",
    "  InjFile=injPath+'/deepReg.csv'\n",
    "elif deepOrShallow=='shallow':\n",
    "  WellFile=injPath+'/shallow.csv'\n",
    "  InjFile=injPath+'/shallowReg.csv'"
   ]
  },
  {
   "cell_type": "code",
   "execution_count": 0,
   "metadata": {
    "application/vnd.databricks.v1+cell": {
     "cellMetadata": {
      "byteLimit": 2048000,
      "rowLimit": 10000
     },
     "inputWidgets": {},
     "nuid": "16de396c-1e22-448a-bab6-c19d33b922b9",
     "showTitle": true,
     "tableResultSettingsMap": {},
     "title": "Poroelastic Parameters - Future Use"
    }
   },
   "outputs": [],
   "source": [
    "# Oversampling of time axis (poroelastic-only)\n",
    "nTimeBins=21\n",
    "# Poroelastic parameters - for in-zone poroelasticity in v2\n",
    "ShearModulusMin=4e9\n",
    "ShearModulusMax=6e9\n",
    "PoissonsRatioDrainedMin=0.295\n",
    "PoissonsRatioDrainedMax=0.305\n",
    "PoissonsRatioUndrainedMin=0.305\n",
    "PoissonsRatioUndrainedMax=0.315\n",
    "BiotsCoefficientMin=0.26\n",
    "BiotsCoefficientMax=0.36\n",
    "# Fault parameters (poroelastic-only)\n",
    "FaultFrictionCoeffMin=0.55\n",
    "FaultFrictionCoeffMax=0.65\n",
    "RockFrictionCoeffMin=0.55\n",
    "RockFrictionCoeffMax=0.65"
   ]
  },
  {
   "cell_type": "markdown",
   "metadata": {
    "application/vnd.databricks.v1+cell": {
     "cellMetadata": {
      "byteLimit": 2048000,
      "rowLimit": 10000
     },
     "inputWidgets": {},
     "nuid": "61b8015e-aa08-4602-a74d-7e156b85d725",
     "showTitle": false,
     "tableResultSettingsMap": {},
     "title": ""
    }
   },
   "source": [
    "##2.2 Results"
   ]
  },
  {
   "cell_type": "markdown",
   "metadata": {
    "application/vnd.databricks.v1+cell": {
     "cellMetadata": {
      "byteLimit": 2048000,
      "rowLimit": 10000
     },
     "inputWidgets": {},
     "nuid": "b9911a2e-abbe-48fa-beb3-db4bc2a8727a",
     "showTitle": false,
     "tableResultSettingsMap": {},
     "title": ""
    }
   },
   "source": [
    "###Compute"
   ]
  },
  {
   "cell_type": "code",
   "execution_count": 0,
   "metadata": {
    "application/vnd.databricks.v1+cell": {
     "cellMetadata": {
      "byteLimit": 2048000,
      "rowLimit": 10000
     },
     "inputWidgets": {},
     "nuid": "d6dead15-ae34-43e1-8795-831b0532c24a",
     "showTitle": true,
     "tableResultSettingsMap": {},
     "title": "Initialize GIST"
    }
   },
   "outputs": [],
   "source": [
    "gist=gi.gistMC(nReal=nRealizations,\n",
    "                ntBin=nTimeBins)\n",
    "gist.initPP(rho0_min=WaterDensityMin,\n",
    "             rho0_max=WaterDensityMax,\n",
    "             phi_min=PorosityPercentMin,\n",
    "             phi_max=PorosityPercentMax,\n",
    "             kMD_min=PermMDMin,\n",
    "             kMD_max=PermMDMax,\n",
    "             h_min=ThicknessFTMin,\n",
    "             h_max=ThicknessFTMax,\n",
    "             alphav_min=VerticalCompressibilityMin,\n",
    "             alphav_max=VerticalCompressibilityMax,\n",
    "             beta_min=FluidCompressibilityMin,\n",
    "             beta_max=FluidCompressibilityMax)"
   ]
  },
  {
   "cell_type": "code",
   "execution_count": 0,
   "metadata": {
    "application/vnd.databricks.v1+cell": {
     "cellMetadata": {
      "byteLimit": 2048000,
      "rowLimit": 10000
     },
     "inputWidgets": {},
     "nuid": "c61650ff-760c-4493-a9e7-3ad67488dd8d",
     "showTitle": true,
     "tableResultSettingsMap": {},
     "title": "Add Wells to GIST"
    }
   },
   "outputs": [],
   "source": [
    "gist.addWells(WellFile,InjFile,verbose=verb)\n",
    "if verb>0:\n",
    "  gist.wellDF.info()\n",
    "  EQDF.info()"
   ]
  },
  {
   "cell_type": "code",
   "execution_count": 0,
   "metadata": {
    "application/vnd.databricks.v1+cell": {
     "cellMetadata": {
      "byteLimit": 2048000,
      "rowLimit": 10000
     },
     "inputWidgets": {},
     "nuid": "216af07b-6ac8-453c-aac3-2cf6fdf8d2c6",
     "showTitle": true,
     "tableResultSettingsMap": {},
     "title": "Select Wells To Analyze"
    }
   },
   "outputs": [],
   "source": [
    "selectedWellsDF,ignoredWellsDF,injDF=gist.findWells(eq,PE=False,verbose=verb)"
   ]
  },
  {
   "cell_type": "code",
   "execution_count": 0,
   "metadata": {
    "application/vnd.databricks.v1+cell": {
     "cellMetadata": {
      "byteLimit": 2048000,
      "rowLimit": 10000
     },
     "inputWidgets": {},
     "nuid": "9bc68774-2a3e-4964-a170-d95d30a103ad",
     "showTitle": true,
     "tableResultSettingsMap": {},
     "title": "Compute Pressure Realizations at Event Time"
    }
   },
   "outputs": [],
   "source": [
    "scenarioDF=gist.runPressureScenarios(eq,selectedWellsDF,injDF,verbose=verb)"
   ]
  },
  {
   "cell_type": "code",
   "execution_count": 0,
   "metadata": {
    "application/vnd.databricks.v1+cell": {
     "cellMetadata": {
      "byteLimit": 2048000,
      "rowLimit": 10000
     },
     "inputWidgets": {},
     "nuid": "33770d73-6562-4c5c-b4fa-e96d27c00250",
     "showTitle": true,
     "tableResultSettingsMap": {},
     "title": "Filter Negligible Wells at EQ Time"
    }
   },
   "outputs": [],
   "source": [
    "filteredDF,orderedWellList=gi.summarizePPResults(scenarioDF,selectedWellsDF,threshold=dPCutoff,nOrder=nWells,verbose=verb)"
   ]
  },
  {
   "cell_type": "code",
   "execution_count": 0,
   "metadata": {
    "application/vnd.databricks.v1+cell": {
     "cellMetadata": {
      "byteLimit": 2048000,
      "rowLimit": 10000
     },
     "inputWidgets": {},
     "nuid": "2f954928-3373-475d-9584-c75b31b62e95",
     "showTitle": true,
     "tableResultSettingsMap": {},
     "title": "Generate Results For R-MinusT Plot"
    }
   },
   "outputs": [],
   "source": [
    "diffRange=(min(gist.diffPPVec),max(gist.diffPPVec))\n",
    "rtDF,mergedWellsDF = gi.prepRTPlot(selectedWellsDF,ignoredWellsDF,minYear,diffRange,clipYear=False)"
   ]
  },
  {
   "cell_type": "code",
   "execution_count": 0,
   "metadata": {
    "application/vnd.databricks.v1+cell": {
     "cellMetadata": {
      "byteLimit": 2048000,
      "rowLimit": 10000
     },
     "inputWidgets": {},
     "nuid": "2419da03-31b9-4965-af0c-272e4ca4e537",
     "showTitle": true,
     "tableResultSettingsMap": {},
     "title": "Isolate nonnegligible wells and disposal data"
    }
   },
   "outputs": [],
   "source": [
    "winWellsDF,winInjDF=gi.getWinWells(filteredDF,selectedWellsDF,injDF)"
   ]
  },
  {
   "cell_type": "code",
   "execution_count": 0,
   "metadata": {
    "application/vnd.databricks.v1+cell": {
     "cellMetadata": {
      "byteLimit": 2048000,
      "rowLimit": 10000
     },
     "inputWidgets": {},
     "nuid": "0999e7ec-4252-48c7-9b3d-233e0d78b2ce",
     "showTitle": true,
     "tableResultSettingsMap": {},
     "title": "Compute Time Series of Pressures for material wells"
    }
   },
   "outputs": [
    {
     "output_type": "stream",
     "name": "stdout",
     "output_type": "stream",
     "text": [
      "runPressureScenariosTimeSeriesTest Well  1  of  39\nrunPressureScenariosTimeSeriesTest Well  11  of  39\nrunPressureScenariosTimeSeriesTest Well  21  of  39\nrunPressureScenariosTimeSeriesTest Well  31  of  39\n"
     ]
    }
   ],
   "source": [
    "# Slower implementation:\n",
    "#scenarioTSDF,dPTimeSeries,wellIDs,dayVec = gist.runPressureScenariosTimeSeries(eq,winWellsDF,winInjDF,verbose=verb)\n",
    "scenarioTSDF,dPTimeSeries,wellIDs,dayVec = gist.runPressureScenariosTimeSeriesTest(eq,winWellsDF,winInjDF,verbose=verb)"
   ]
  },
  {
   "cell_type": "code",
   "execution_count": 0,
   "metadata": {
    "application/vnd.databricks.v1+cell": {
     "cellMetadata": {
      "byteLimit": 2048000,
      "rowLimit": 10000
     },
     "inputWidgets": {},
     "nuid": "348d7925-7907-4739-b2aa-7971b25e48ca",
     "showTitle": true,
     "tableResultSettingsMap": {},
     "title": "Sum Time Series"
    }
   },
   "outputs": [],
   "source": [
    "dPTimeSeriesSum=dPTimeSeries.sum(axis=1)"
   ]
  },
  {
   "cell_type": "markdown",
   "metadata": {
    "application/vnd.databricks.v1+cell": {
     "cellMetadata": {
      "byteLimit": 2048000,
      "rowLimit": 10000
     },
     "inputWidgets": {},
     "nuid": "e705ce0b-75fc-4cc7-94cc-b48bc90f2107",
     "showTitle": false,
     "tableResultSettingsMap": {},
     "title": ""
    }
   },
   "source": [
    "###Output"
   ]
  },
  {
   "cell_type": "code",
   "execution_count": 0,
   "metadata": {
    "application/vnd.databricks.v1+cell": {
     "cellMetadata": {
      "byteLimit": 2048000,
      "rowLimit": 10000
     },
     "inputWidgets": {},
     "nuid": "f84c0581-670d-449b-b8ef-e88afdd6a169",
     "showTitle": true,
     "tableResultSettingsMap": {},
     "title": "Pore Pressure Property Realizations"
    }
   },
   "outputs": [],
   "source": [
    "gist.writeRealizations(runIntervalPath+'PorePressureRealizations.csv')"
   ]
  },
  {
   "cell_type": "code",
   "execution_count": 0,
   "metadata": {
    "application/vnd.databricks.v1+cell": {
     "cellMetadata": {
      "byteLimit": 2048000,
      "rowLimit": 10000
     },
     "inputWidgets": {},
     "nuid": "336dbb5f-47bf-4e29-b878-d1dd0ab9d875",
     "showTitle": true,
     "tableResultSettingsMap": {},
     "title": "Selected Wells"
    }
   },
   "outputs": [],
   "source": [
    "selectedWellsDF.to_csv(runIntervalPath+'selectedWells.csv')\n",
    "ignoredWellsDF.to_csv(runIntervalPath+'ignoredWells.csv')\n",
    "injDF.to_csv(runIntervalPath+'inj.csv')"
   ]
  },
  {
   "cell_type": "code",
   "execution_count": 0,
   "metadata": {
    "application/vnd.databricks.v1+cell": {
     "cellMetadata": {
      "byteLimit": 2048000,
      "rowLimit": 10000
     },
     "inputWidgets": {},
     "nuid": "be6f6db8-3b75-4c34-a215-8fa5ab199639",
     "showTitle": true,
     "tableResultSettingsMap": {},
     "title": "Pore Pressure Scenarios"
    }
   },
   "outputs": [],
   "source": [
    "scenarioDF.to_csv(runIntervalPath+'scenarios.csv')"
   ]
  },
  {
   "cell_type": "code",
   "execution_count": 0,
   "metadata": {
    "application/vnd.databricks.v1+cell": {
     "cellMetadata": {
      "byteLimit": 2048000,
      "rowLimit": 10000
     },
     "inputWidgets": {},
     "nuid": "f04371b7-ff00-4eaf-a3eb-b8239b52ce11",
     "showTitle": true,
     "tableResultSettingsMap": {},
     "title": "Summarized Pore Pressure Scenarios and Well Ordering"
    }
   },
   "outputs": [],
   "source": [
    "filteredDF.to_csv(runIntervalPath+'filteredScenarios.csv')\n",
    "pd.Series(data=orderedWellList).to_csv(runIntervalPath+'wellOrder.csv')"
   ]
  },
  {
   "cell_type": "code",
   "execution_count": 0,
   "metadata": {
    "application/vnd.databricks.v1+cell": {
     "cellMetadata": {
      "byteLimit": 2048000,
      "rowLimit": 10000
     },
     "inputWidgets": {},
     "nuid": "280fdbed-35d9-4a93-86ff-a162480540dd",
     "showTitle": true,
     "tableResultSettingsMap": {},
     "title": "Dataframes for R-T (Well selection) Plot"
    }
   },
   "outputs": [],
   "source": [
    "mergedWellsDF.to_csv(runIntervalPath+'RTwells.csv')\n",
    "rtDF.to_csv(runIntervalPath+'RTDF.csv')"
   ]
  },
  {
   "cell_type": "code",
   "execution_count": 0,
   "metadata": {
    "application/vnd.databricks.v1+cell": {
     "cellMetadata": {
      "byteLimit": 2048000,
      "rowLimit": 10000
     },
     "inputWidgets": {},
     "nuid": "f352b76f-684b-47f7-8d17-2101506d5702",
     "showTitle": false,
     "tableResultSettingsMap": {},
     "title": ""
    }
   },
   "outputs": [],
   "source": [
    "scenarioTSDF.to_csv(runIntervalPath+'materialScenarios.csv')\n",
    "np.savez_compressed(runIntervalPath+'timeSeries.npz', deltaPP=dPTimeSeries,dayVec=dayVec,wellIDs=wellIDs)"
   ]
  },
  {
   "cell_type": "code",
   "execution_count": 0,
   "metadata": {
    "application/vnd.databricks.v1+cell": {
     "cellMetadata": {
      "byteLimit": 2048000,
      "rowLimit": 10000
     },
     "inputWidgets": {},
     "nuid": "73022bf6-bdd8-4f73-a936-781370bc1ff0",
     "showTitle": false,
     "tableResultSettingsMap": {},
     "title": ""
    }
   },
   "outputs": [],
   "source": [
    "np.savez_compressed(runIntervalPath+'timeSeriesSum.npz', deltaPP=dPTimeSeriesSum,dayVec=dayVec,wellIDs=wellIDs)"
   ]
  },
  {
   "cell_type": "markdown",
   "metadata": {
    "application/vnd.databricks.v1+cell": {
     "cellMetadata": {
      "byteLimit": 2048000,
      "rowLimit": 10000
     },
     "inputWidgets": {},
     "nuid": "b4236692-cbfc-40d2-b8aa-b3d415ba491c",
     "showTitle": false,
     "tableResultSettingsMap": {},
     "title": ""
    }
   },
   "source": [
    "#3. Correct Data"
   ]
  },
  {
   "cell_type": "markdown",
   "metadata": {
    "application/vnd.databricks.v1+cell": {
     "cellMetadata": {
      "byteLimit": 2048000,
      "rowLimit": 10000
     },
     "inputWidgets": {},
     "nuid": "e1fb4fa0-ef2d-4067-9f96-2a9a1f17ecf7",
     "showTitle": false,
     "tableResultSettingsMap": {},
     "title": ""
    }
   },
   "source": [
    "##3.1 Export Disposal Data"
   ]
  },
  {
   "cell_type": "markdown",
   "metadata": {
    "application/vnd.databricks.v1+cell": {
     "cellMetadata": {
      "byteLimit": 2048000,
      "rowLimit": 10000
     },
     "inputWidgets": {},
     "nuid": "f35e0dd5-e4ea-4a7b-833a-77ea28f21e88",
     "showTitle": false,
     "tableResultSettingsMap": {},
     "title": ""
    }
   },
   "source": [
    "##3.2 Import Updated Disposal Data"
   ]
  },
  {
   "cell_type": "code",
   "execution_count": 0,
   "metadata": {
    "application/vnd.databricks.v1+cell": {
     "cellMetadata": {
      "byteLimit": 2048000,
      "rowLimit": 10000
     },
     "inputWidgets": {},
     "nuid": "1783e6ae-d1a7-429e-805d-eca0ff129691",
     "showTitle": true,
     "tableResultSettingsMap": {},
     "title": "Read and parse updated disposal data"
    }
   },
   "outputs": [],
   "source": [
    "# Input a single file with a lot of columns\n",
    "# newWellInfo=pd.read_csv('path_to_new_well_file')\n",
    "# Get wells with a wellID.unique() call\n",
    "# Separate out dates, wellIDs, and rates to a separate injection file"
   ]
  },
  {
   "cell_type": "markdown",
   "metadata": {
    "application/vnd.databricks.v1+cell": {
     "cellMetadata": {
      "byteLimit": 2048000,
      "rowLimit": 10000
     },
     "inputWidgets": {},
     "nuid": "271df2d4-d03f-4b61-b2c2-2d5e6ad96283",
     "showTitle": false,
     "tableResultSettingsMap": {},
     "title": ""
    }
   },
   "source": [
    "#4. Updated Analysis"
   ]
  },
  {
   "cell_type": "markdown",
   "metadata": {
    "application/vnd.databricks.v1+cell": {
     "cellMetadata": {
      "byteLimit": 2048000,
      "rowLimit": 10000
     },
     "inputWidgets": {},
     "nuid": "47c7fb9b-5d44-4aca-b43d-855b46b7fc7c",
     "showTitle": false,
     "tableResultSettingsMap": {},
     "title": ""
    }
   },
   "source": [
    "##Repeat Steps 2.1 and 2.2\n",
    "Updated disposal data\n",
    "\n",
    "Refined parameters"
   ]
  },
  {
   "cell_type": "markdown",
   "metadata": {
    "application/vnd.databricks.v1+cell": {
     "cellMetadata": {
      "byteLimit": 2048000,
      "rowLimit": 10000
     },
     "inputWidgets": {},
     "nuid": "e63abde2-7d3f-4c01-ade5-de5c31ba1d7f",
     "showTitle": false,
     "tableResultSettingsMap": {},
     "title": ""
    }
   },
   "source": [
    "#5. Forecast"
   ]
  },
  {
   "cell_type": "markdown",
   "metadata": {
    "application/vnd.databricks.v1+cell": {
     "cellMetadata": {
      "byteLimit": 2048000,
      "rowLimit": 10000
     },
     "inputWidgets": {},
     "nuid": "7af6568e-1e85-44aa-b2b6-00b16c5f31bd",
     "showTitle": false,
     "tableResultSettingsMap": {},
     "title": ""
    }
   },
   "source": [
    "##5.1 Input Forecast Times"
   ]
  },
  {
   "cell_type": "code",
   "execution_count": 0,
   "metadata": {
    "application/vnd.databricks.v1+cell": {
     "cellMetadata": {
      "byteLimit": 2048000,
      "rowLimit": 10000
     },
     "inputWidgets": {},
     "nuid": "1e033dd1-f2f9-4d00-928d-17579ba08ba5",
     "showTitle": true,
     "tableResultSettingsMap": {},
     "title": "Forecast Time"
    }
   },
   "outputs": [],
   "source": [
    "# End Year of time series forecast\n",
    "EndYear=2030\n",
    "# Time to calculate rate distributions\n"
   ]
  },
  {
   "cell_type": "markdown",
   "metadata": {
    "application/vnd.databricks.v1+cell": {
     "cellMetadata": {
      "byteLimit": 2048000,
      "rowLimit": 10000
     },
     "inputWidgets": {},
     "nuid": "4e27714c-dfe3-4c70-94d2-0010cf48ca45",
     "showTitle": false,
     "tableResultSettingsMap": {},
     "title": ""
    }
   },
   "source": [
    "##5.2 Distributions of rates for each well"
   ]
  },
  {
   "cell_type": "code",
   "execution_count": 0,
   "metadata": {
    "application/vnd.databricks.v1+cell": {
     "cellMetadata": {
      "byteLimit": 2048000,
      "rowLimit": 10000
     },
     "inputWidgets": {},
     "nuid": "2571077c-67fe-4382-947c-2732bf1bfd15",
     "showTitle": true,
     "tableResultSettingsMap": {},
     "title": "Recalculate Well Selection"
    }
   },
   "outputs": [
    {
     "output_type": "stream",
     "name": "stdout",
     "output_type": "stream",
     "text": [
      "SeismicEventId                                      2481836\nDataSource                        TexNet Earthquake Catalog\nDataSourceUrl                                          None\nEventID                                      texnet2024oqfb\nEventTimeUtc                            2024-07-27 02:11:07\nEventTimeInLocalTimeZone               2024-07-26T21:11:07Z\nEventTimeZone                                           CST\nEventType                                        Earthquake\nDepthKm                                            8.837891\nDepthErrorKm                                       0.636678\nMagnitude                                           1.64016\nMagnitudeError                                          NaN\nMagnitudeType                                    ml(texnet)\nLocation                                      Western Texas\nStatus                                                final\nLatitude                                          32.144165\nLatitudeError                                      0.176637\nLongitude                                       -101.805214\nLongitudeError                                     0.180822\nUpdatedDateUtc                          2024-07-29 16:55:51\nStationCount                                             31\nRMS                                                0.092708\nRMS_p                                                  None\nRMS_s                                                  None\nFocalMechanismAzimuthalGap                              NaN\nCounty                                          Martin (TX)\nState                                                 Texas\nDuplicateSetId                                        31435\nRankWithinDuplicateSet                                    1\nB3RecordAddedUTCDateTime                2024-07-29 17:10:37\nB3RecordUpdatedUTCDateTime              2024-11-27 08:49:58\nB3RecordDeletedUTCDateTime                              NaT\nOrigin Date                             2030-12-31 00:00:00\nOrigin Time                                        02:11:07\ngeometry                      POINT (-101.805214 32.144165)\nStrike                                                 80.0\nDip                                                    55.0\nRake                                                  -85.0\nName: 0, dtype: object\nSeismicEventId                                      2481836\nDataSource                        TexNet Earthquake Catalog\nDataSourceUrl                                          None\nEventID                                      texnet2024oqfb\nEventTimeUtc                            2024-07-27 02:11:07\nEventTimeInLocalTimeZone               2024-07-26T21:11:07Z\nEventTimeZone                                           CST\nEventType                                        Earthquake\nDepthKm                                            8.837891\nDepthErrorKm                                       0.636678\nMagnitude                                           1.64016\nMagnitudeError                                          NaN\nMagnitudeType                                    ml(texnet)\nLocation                                      Western Texas\nStatus                                                final\nLatitude                                          32.144165\nLatitudeError                                      0.176637\nLongitude                                       -101.805214\nLongitudeError                                     0.180822\nUpdatedDateUtc                          2024-07-29 16:55:51\nStationCount                                             31\nRMS                                                0.092708\nRMS_p                                                  None\nRMS_s                                                  None\nFocalMechanismAzimuthalGap                              NaN\nCounty                                          Martin (TX)\nState                                                 Texas\nDuplicateSetId                                        31435\nRankWithinDuplicateSet                                    1\nB3RecordAddedUTCDateTime                2024-07-29 17:10:37\nB3RecordUpdatedUTCDateTime              2024-11-27 08:49:58\nB3RecordDeletedUTCDateTime                              NaT\nOrigin Date                             2030-12-31 00:00:00\nOrigin Time                                        02:11:07\ngeometry                      POINT (-101.805214 32.144165)\nStrike                                                 80.0\nDip                                                    55.0\nRake                                                  -85.0\nName: 0, dtype: object\n"
     ]
    }
   ],
   "source": [
    "# Rerun select wells with an updated earthquake time set to the last day of EndYear\n",
    "future=eq.copy()\n",
    "future['Origin Date']=pd.to_datetime('12-31-'+str(EndYear))\n",
    "# newSelectedWellsDF,ignoredWellsDF,injDF=gist.findWells(future,PE=False,verbose=verb)\n",
    "# Merge udpated well dataframe with prior unselected wells\n",
    "# Re-generate an R-T plot here. Should it have two sets of curves?"
   ]
  },
  {
   "cell_type": "code",
   "execution_count": 0,
   "metadata": {
    "application/vnd.databricks.v1+cell": {
     "cellMetadata": {
      "byteLimit": 2048000,
      "rowLimit": 10000
     },
     "inputWidgets": {},
     "nuid": "c482f5ad-9883-4c96-92cd-22df245d45a8",
     "showTitle": true,
     "tableResultSettingsMap": {},
     "title": "Create Distribution of Per-Well Disposal Rates"
    }
   },
   "outputs": [],
   "source": [
    "# I need new code here that calculates the time derivatives at a future point"
   ]
  },
  {
   "cell_type": "code",
   "execution_count": 0,
   "metadata": {
    "application/vnd.databricks.v1+cell": {
     "cellMetadata": {
      "byteLimit": 2048000,
      "rowLimit": 10000
     },
     "inputWidgets": {},
     "nuid": "6decbb12-e55d-4577-aadf-1335449adbfa",
     "showTitle": true,
     "tableResultSettingsMap": {},
     "title": "Set Future Well Rates"
    }
   },
   "outputs": [],
   "source": [
    "# Here is where the input well rates come into play"
   ]
  },
  {
   "cell_type": "code",
   "execution_count": 0,
   "metadata": {
    "application/vnd.databricks.v1+cell": {
     "cellMetadata": {
      "byteLimit": 2048000,
      "rowLimit": 10000
     },
     "inputWidgets": {},
     "nuid": "8b6d2801-84e8-4d83-bbf3-72454f062b95",
     "showTitle": true,
     "tableResultSettingsMap": {},
     "title": "Compute"
    }
   },
   "outputs": [],
   "source": [
    "# And here is the future time forecast"
   ]
  }
 ],
 "metadata": {
  "application/vnd.databricks.v1+notebook": {
   "dashboards": [],
   "environmentMetadata": null,
   "language": "python",
   "notebookMetadata": {
    "pythonIndentUnit": 2
   },
   "notebookName": "GIST_RunTemplate_texnet2024oqfb_deep",
   "widgets": {}
  },
  "language_info": {
   "name": "python"
  }
 },
 "nbformat": 4,
 "nbformat_minor": 0
}
