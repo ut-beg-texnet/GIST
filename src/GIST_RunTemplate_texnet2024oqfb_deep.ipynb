{
 "cells": [
  {
   "cell_type": "markdown",
   "metadata": {
    "application/vnd.databricks.v1+cell": {
     "cellMetadata": {
      "byteLimit": 2048000,
      "rowLimit": 10000
     },
     "inputWidgets": {},
     "nuid": "c1abdb59-6473-4a9e-89dc-f7bf61a76f4b",
     "showTitle": false,
     "tableResultSettingsMap": {},
     "title": ""
    }
   },
   "source": [
    "# Geomechanical Injection Scenario Toolkit (GIST)\n",
    "\n",
    "#Disclaimer\n",
    "GIST aims to give the _gist_ of a wide range of potential scenarios and aid collective decision making when responding to seismicity.\n",
    "\n",
    "The results of GIST are entirely dependent upon the inputs provided, which may be incomplete or inaccurate.\n",
    "\n",
    "There are other potentially plausible inducement scenarios that are not considered, including fluid migration into the basement, \n",
    "out-of-zone poroelastic stressing, or hydraulic fracturing.\n",
    "\n",
    "None of the individual models produced by GIST accurately represent what happens in the subsurface and cannot be credibly used \n",
    "to accurately assign liability or responsibility for seismicity.\n",
    "\n",
    "\"All models are wrong, but some are useful\" - George Box, 1976\n",
    "\n",
    "## Prerequisites\n",
    "\n",
    "Assumes InjectionSQLScheduled completed successfully and injection data are sampled uniformly in time"
   ]
  },
  {
   "cell_type": "markdown",
   "metadata": {
    "application/vnd.databricks.v1+cell": {
     "cellMetadata": {
      "byteLimit": 2048000,
      "rowLimit": 10000
     },
     "inputWidgets": {},
     "nuid": "b264040f-fa15-4a0b-b6a8-a6260d9ab053",
     "showTitle": false,
     "tableResultSettingsMap": {},
     "title": ""
    }
   },
   "source": [
    "##Install Dependencies\n",
    "- geopandas\n",
    "- gistMC.py\n",
    "- eqSQL.py\n",
    "- gistPlots.py\n",
    "- numpy\n",
    "- scipy\n",
    "- pandas\n"
   ]
  },
  {
   "cell_type": "code",
   "execution_count": 0,
   "metadata": {
    "application/vnd.databricks.v1+cell": {
     "cellMetadata": {
      "byteLimit": 2048000,
      "rowLimit": 10000
     },
     "inputWidgets": {},
     "nuid": "e00f4128-0373-462e-b4e5-0c722b222f74",
     "showTitle": true,
     "tableResultSettingsMap": {},
     "title": "Restart python"
    }
   },
   "outputs": [],
   "source": [
    "%restart_python"
   ]
  },
  {
   "cell_type": "code",
   "execution_count": 0,
   "metadata": {
    "application/vnd.databricks.v1+cell": {
     "cellMetadata": {
      "byteLimit": 2048000,
      "rowLimit": 10000
     },
     "collapsed": true,
     "inputWidgets": {},
     "nuid": "fb80407f-4a02-4284-9638-a9c24281d177",
     "showTitle": true,
     "tableResultSettingsMap": {},
     "title": "Databricks functions"
    }
   },
   "outputs": [],
   "source": [
    "%run \"/Workspace/_utils/Utility_Functions\""
   ]
  },
  {
   "cell_type": "code",
   "execution_count": 0,
   "metadata": {
    "application/vnd.databricks.v1+cell": {
     "cellMetadata": {
      "byteLimit": 2048000,
      "rowLimit": 10000
     },
     "inputWidgets": {},
     "nuid": "0e21e4dd-c64f-459b-9241-0cb74bf49524",
     "showTitle": true,
     "tableResultSettingsMap": {},
     "title": "PIP installs"
    }
   },
   "outputs": [
    {
     "output_type": "stream",
     "name": "stdout",
     "output_type": "stream",
     "text": [
      "Collecting geopandas\n  Downloading geopandas-1.0.1-py3-none-any.whl (323 kB)\n     ━━━━━━━━━━━━━━━━━━━━━━━━━━━━━━━━━━━━━━━ 323.6/323.6 kB 6.0 MB/s eta 0:00:00\nRequirement already satisfied: packaging in /databricks/python3/lib/python3.10/site-packages (from geopandas) (23.2)\nCollecting shapely>=2.0.0\n  Downloading shapely-2.0.7-cp310-cp310-manylinux_2_17_x86_64.manylinux2014_x86_64.whl (2.5 MB)\n     ━━━━━━━━━━━━━━━━━━━━━━━━━━━━━━━━━━━━━━━━ 2.5/2.5 MB 17.3 MB/s eta 0:00:00\nCollecting pyogrio>=0.7.2\n  Downloading pyogrio-0.10.0-cp310-cp310-manylinux_2_28_x86_64.whl (23.9 MB)\n     ━━━━━━━━━━━━━━━━━━━━━━━━━━━━━━━━━━━━━━━━ 23.9/23.9 MB 66.5 MB/s eta 0:00:00\nRequirement already satisfied: pandas>=1.4.0 in /databricks/python3/lib/python3.10/site-packages (from geopandas) (1.5.3)\nRequirement already satisfied: numpy>=1.22 in /databricks/python3/lib/python3.10/site-packages (from geopandas) (1.23.5)\nCollecting pyproj>=3.3.0\n  Downloading pyproj-3.7.0-cp310-cp310-manylinux_2_17_x86_64.manylinux2014_x86_64.whl (9.2 MB)\n     ━━━━━━━━━━━━━━━━━━━━━━━━━━━━━━━━━━━━━━━━ 9.2/9.2 MB 129.1 MB/s eta 0:00:00\nRequirement already satisfied: pytz>=2020.1 in /databricks/python3/lib/python3.10/site-packages (from pandas>=1.4.0->geopandas) (2022.7)\nRequirement already satisfied: python-dateutil>=2.8.1 in /databricks/python3/lib/python3.10/site-packages (from pandas>=1.4.0->geopandas) (2.8.2)\nRequirement already satisfied: certifi in /databricks/python3/lib/python3.10/site-packages (from pyogrio>=0.7.2->geopandas) (2022.12.7)\nRequirement already satisfied: six>=1.5 in /usr/lib/python3/dist-packages (from python-dateutil>=2.8.1->pandas>=1.4.0->geopandas) (1.16.0)\nInstalling collected packages: shapely, pyproj, pyogrio, geopandas\nSuccessfully installed geopandas-1.0.1 pyogrio-0.10.0 pyproj-3.7.0 shapely-2.0.7\n\u001B[43mNote: you may need to restart the kernel using %restart_python or dbutils.library.restartPython() to use updated packages.\u001B[0m\nCollecting geodatasets\n  Downloading geodatasets-2024.8.0-py3-none-any.whl (20 kB)\nCollecting pooch\n  Downloading pooch-1.8.2-py3-none-any.whl (64 kB)\n     ━━━━━━━━━━━━━━━━━━━━━━━━━━━━━━━━━━━━━━━━ 64.6/64.6 kB 4.2 MB/s eta 0:00:00\nRequirement already satisfied: packaging>=20.0 in /databricks/python3/lib/python3.10/site-packages (from pooch->geodatasets) (23.2)\nRequirement already satisfied: platformdirs>=2.5.0 in /databricks/python3/lib/python3.10/site-packages (from pooch->geodatasets) (2.5.2)\nRequirement already satisfied: requests>=2.19.0 in /databricks/python3/lib/python3.10/site-packages (from pooch->geodatasets) (2.28.1)\nRequirement already satisfied: urllib3<1.27,>=1.21.1 in /databricks/python3/lib/python3.10/site-packages (from requests>=2.19.0->pooch->geodatasets) (1.26.14)\nRequirement already satisfied: certifi>=2017.4.17 in /databricks/python3/lib/python3.10/site-packages (from requests>=2.19.0->pooch->geodatasets) (2022.12.7)\nRequirement already satisfied: idna<4,>=2.5 in /databricks/python3/lib/python3.10/site-packages (from requests>=2.19.0->pooch->geodatasets) (3.4)\nRequirement already satisfied: charset-normalizer<3,>=2 in /databricks/python3/lib/python3.10/site-packages (from requests>=2.19.0->pooch->geodatasets) (2.0.4)\nInstalling collected packages: pooch, geodatasets\nSuccessfully installed geodatasets-2024.8.0 pooch-1.8.2\n\u001B[43mNote: you may need to restart the kernel using %restart_python or dbutils.library.restartPython() to use updated packages.\u001B[0m\nCollecting contextily\n  Downloading contextily-1.6.2-py3-none-any.whl (17 kB)\nRequirement already satisfied: matplotlib in /databricks/python3/lib/python3.10/site-packages (from contextily) (3.7.0)\nRequirement already satisfied: pillow in /databricks/python3/lib/python3.10/site-packages (from contextily) (9.4.0)\nRequirement already satisfied: joblib in /databricks/python3/lib/python3.10/site-packages (from contextily) (1.2.0)\nCollecting xyzservices\n  Downloading xyzservices-2025.1.0-py3-none-any.whl (88 kB)\n     ━━━━━━━━━━━━━━━━━━━━━━━━━━━━━━━━━━━━━━━━ 88.4/88.4 kB 5.3 MB/s eta 0:00:00\nCollecting geopy\n  Downloading geopy-2.4.1-py3-none-any.whl (125 kB)\n     ━━━━━━━━━━━━━━━━━━━━━━━━━━━━━━━━━━━━━━━ 125.4/125.4 kB 9.7 MB/s eta 0:00:00\nRequirement already satisfied: requests in /databricks/python3/lib/python3.10/site-packages (from contextily) (2.28.1)\nCollecting rasterio\n  Downloading rasterio-1.4.3-cp310-cp310-manylinux_2_17_x86_64.manylinux2014_x86_64.whl (22.2 MB)\n     ━━━━━━━━━━━━━━━━━━━━━━━━━━━━━━━━━━━━━━━━ 22.2/22.2 MB 55.6 MB/s eta 0:00:00\nCollecting mercantile\n  Downloading mercantile-1.2.1-py3-none-any.whl (14 kB)\nCollecting geographiclib<3,>=1.52\n  Downloading geographiclib-2.0-py3-none-any.whl (40 kB)\n     ━━━━━━━━━━━━━━━━━━━━━━━━━━━━━━━━━━━━━━━━ 40.3/40.3 kB 11.7 MB/s eta 0:00:00\nRequirement already satisfied: python-dateutil>=2.7 in /databricks/python3/lib/python3.10/site-packages (from matplotlib->contextily) (2.8.2)\nRequirement already satisfied: fonttools>=4.22.0 in /databricks/python3/lib/python3.10/site-packages (from matplotlib->contextily) (4.25.0)\nRequirement already satisfied: kiwisolver>=1.0.1 in /databricks/python3/lib/python3.10/site-packages (from matplotlib->contextily) (1.4.4)\nRequirement already satisfied: cycler>=0.10 in /databricks/python3/lib/python3.10/site-packages (from matplotlib->contextily) (0.11.0)\nRequirement already satisfied: contourpy>=1.0.1 in /databricks/python3/lib/python3.10/site-packages (from matplotlib->contextily) (1.0.5)\nRequirement already satisfied: pyparsing>=2.3.1 in /databricks/python3/lib/python3.10/site-packages (from matplotlib->contextily) (3.0.9)\nRequirement already satisfied: packaging>=20.0 in /databricks/python3/lib/python3.10/site-packages (from matplotlib->contextily) (23.2)\nRequirement already satisfied: numpy>=1.20 in /databricks/python3/lib/python3.10/site-packages (from matplotlib->contextily) (1.23.5)\nRequirement already satisfied: click>=3.0 in /databricks/python3/lib/python3.10/site-packages (from mercantile->contextily) (8.0.4)\nRequirement already satisfied: certifi in /databricks/python3/lib/python3.10/site-packages (from rasterio->contextily) (2022.12.7)\nCollecting cligj>=0.5\n  Downloading cligj-0.7.2-py3-none-any.whl (7.1 kB)\nCollecting numpy>=1.20\n  Downloading numpy-2.2.2-cp310-cp310-manylinux_2_17_x86_64.manylinux2014_x86_64.whl (16.4 MB)\n     ━━━━━━━━━━━━━━━━━━━━━━━━━━━━━━━━━━━━━━━━ 16.4/16.4 MB 76.8 MB/s eta 0:00:00\nRequirement already satisfied: attrs in /databricks/python3/lib/python3.10/site-packages (from rasterio->contextily) (22.1.0)\nCollecting click-plugins\n  Downloading click_plugins-1.1.1-py2.py3-none-any.whl (7.5 kB)\nCollecting affine\n  Downloading affine-2.4.0-py3-none-any.whl (15 kB)\nRequirement already satisfied: urllib3<1.27,>=1.21.1 in /databricks/python3/lib/python3.10/site-packages (from requests->contextily) (1.26.14)\nRequirement already satisfied: idna<4,>=2.5 in /databricks/python3/lib/python3.10/site-packages (from requests->contextily) (3.4)\nRequirement already satisfied: charset-normalizer<3,>=2 in /databricks/python3/lib/python3.10/site-packages (from requests->contextily) (2.0.4)\nRequirement already satisfied: six>=1.5 in /usr/lib/python3/dist-packages (from python-dateutil>=2.7->matplotlib->contextily) (1.16.0)\nInstalling collected packages: xyzservices, numpy, mercantile, geographiclib, cligj, click-plugins, affine, rasterio, geopy, contextily\n  Attempting uninstall: numpy\n    Found existing installation: numpy 1.23.5\n    Not uninstalling numpy at /databricks/python3/lib/python3.10/site-packages, outside environment /local_disk0/.ephemeral_nfs/envs/pythonEnv-5501ca2f-22bb-4852-b85e-956eec97745a\n    Can't uninstall 'numpy'. No files were found to uninstall.\nERROR: pip's dependency resolver does not currently take into account all the packages that are installed. This behaviour is the source of the following dependency conflicts.\nscipy 1.10.0 requires numpy<1.27.0,>=1.19.5, but you have numpy 2.2.2 which is incompatible.\ndatabricks-connect 14.3.4 requires numpy<2,>=1.15, but you have numpy 2.2.2 which is incompatible.\nSuccessfully installed affine-2.4.0 click-plugins-1.1.1 cligj-0.7.2 contextily-1.6.2 geographiclib-2.0 geopy-2.4.1 mercantile-1.2.1 numpy-2.2.2 rasterio-1.4.3 xyzservices-2025.1.0\n\u001B[43mNote: you may need to restart the kernel using %restart_python or dbutils.library.restartPython() to use updated packages.\u001B[0m\n"
     ]
    }
   ],
   "source": [
    "!pip install geopandas\n",
    "!pip install geodatasets\n",
    "!pip install contextily\n",
    "#! pip install folium matplotlib mapclassify contextily"
   ]
  },
  {
   "cell_type": "markdown",
   "metadata": {
    "application/vnd.databricks.v1+cell": {
     "cellMetadata": {
      "byteLimit": 2048000,
      "rowLimit": 10000
     },
     "inputWidgets": {},
     "nuid": "c93df717-a2d5-4e18-b1cb-7d39ffcb99b2",
     "showTitle": false,
     "tableResultSettingsMap": {},
     "title": ""
    }
   },
   "source": [
    "##Paths"
   ]
  },
  {
   "cell_type": "code",
   "execution_count": 0,
   "metadata": {
    "application/vnd.databricks.v1+cell": {
     "cellMetadata": {
      "byteLimit": 2048000,
      "rowLimit": 10000
     },
     "inputWidgets": {},
     "nuid": "145f505a-6639-4124-b6bd-aa4e6c9b5c47",
     "showTitle": true,
     "tableResultSettingsMap": {},
     "title": "GIST libraries and injection data"
    }
   },
   "outputs": [],
   "source": [
    "# Paths\n",
    "homePath='/Workspace/Users/bill.curry@exxonmobil.com/'\n",
    "# Injection data path \n",
    "injPath=homePath+'injection/WeeklyRun/ScheduledOutput/'\n",
    "# GIST library path\n",
    "gistPath=homePath+'GIST/'"
   ]
  },
  {
   "cell_type": "markdown",
   "metadata": {
    "application/vnd.databricks.v1+cell": {
     "cellMetadata": {
      "byteLimit": 2048000,
      "rowLimit": 10000
     },
     "inputWidgets": {},
     "nuid": "fe561de9-c0de-474b-af1b-e457ac846dbe",
     "showTitle": false,
     "tableResultSettingsMap": {},
     "title": ""
    }
   },
   "source": [
    "##Libraries\n",
    "\n",
    "- numpy\n",
    "- scipy\n",
    "- pandas\n",
    "- matplotlib\n",
    "- geopandas\n",
    "- pyspark\n"
   ]
  },
  {
   "cell_type": "code",
   "execution_count": 0,
   "metadata": {
    "application/vnd.databricks.v1+cell": {
     "cellMetadata": {
      "byteLimit": 2048000,
      "rowLimit": 10000
     },
     "inputWidgets": {},
     "nuid": "10119ade-2798-4028-9462-d20dc15fb1d7",
     "showTitle": true,
     "tableResultSettingsMap": {},
     "title": "add path"
    }
   },
   "outputs": [],
   "source": [
    "import sys\n",
    "sys.path.append(gistPath+'lib')"
   ]
  },
  {
   "cell_type": "code",
   "execution_count": 0,
   "metadata": {
    "application/vnd.databricks.v1+cell": {
     "cellMetadata": {
      "byteLimit": 2048000,
      "rowLimit": 10000
     },
     "inputWidgets": {},
     "nuid": "2e230114-d00d-4065-9b06-9bc65deb51a6",
     "showTitle": true,
     "tableResultSettingsMap": {},
     "title": "pyspark"
    }
   },
   "outputs": [],
   "source": [
    "#Databricks-specific\n",
    "#import dataBricksConfig as db\n",
    "from pyspark.sql import SparkSession\n",
    "spark = SparkSession.builder.appName(\"eqSQL\").getOrCreate()"
   ]
  },
  {
   "cell_type": "code",
   "execution_count": 0,
   "metadata": {
    "application/vnd.databricks.v1+cell": {
     "cellMetadata": {
      "byteLimit": 2048000,
      "rowLimit": 10000
     },
     "inputWidgets": {},
     "nuid": "732391bb-8d33-4ac8-a2d7-4a7efc617715",
     "showTitle": true,
     "tableResultSettingsMap": {},
     "title": "imports"
    }
   },
   "outputs": [
    {
     "output_type": "display_data",
     "data": {
      "application/vnd.databricks.v1+h3_hint": "",
      "text/plain": []
     },
     "metadata": {},
     "output_type": "display_data"
    }
   ],
   "source": [
    "import numpy as np\n",
    "import pandas as pd\n",
    "import os\n",
    "import gistMC as gi\n",
    "import eqSQL as es\n",
    "import matplotlib.pyplot as plt\n",
    "import seaborn as sns\n",
    "import geopandas\n",
    "#import contextily as cx"
   ]
  },
  {
   "cell_type": "code",
   "execution_count": 0,
   "metadata": {
    "application/vnd.databricks.v1+cell": {
     "cellMetadata": {
      "byteLimit": 2048000,
      "rowLimit": 10000
     },
     "inputWidgets": {},
     "nuid": "f363a4c7-dd42-4e22-a888-cbf75b53ad45",
     "showTitle": false,
     "tableResultSettingsMap": {},
     "title": ""
    }
   },
   "outputs": [],
   "source": [
    "import gistPlots as gp"
   ]
  },
  {
   "cell_type": "markdown",
   "metadata": {
    "application/vnd.databricks.v1+cell": {
     "cellMetadata": {
      "byteLimit": 2048000,
      "rowLimit": 10000
     },
     "inputWidgets": {},
     "nuid": "83eacea1-ee6c-412e-86e8-eb0062d6a40c",
     "showTitle": false,
     "tableResultSettingsMap": {},
     "title": ""
    }
   },
   "source": [
    "#1. Select Event"
   ]
  },
  {
   "cell_type": "code",
   "execution_count": 0,
   "metadata": {
    "application/vnd.databricks.v1+cell": {
     "cellMetadata": {
      "byteLimit": 2048000,
      "rowLimit": 10000
     },
     "inputWidgets": {},
     "nuid": "29556f3e-cfbc-4eb2-aac0-ffdd3b050893",
     "showTitle": true,
     "tableResultSettingsMap": {},
     "title": "Input TexNet Event ID (1.1)"
    }
   },
   "outputs": [],
   "source": [
    "eventID='texnet2024oqfb'"
   ]
  },
  {
   "cell_type": "code",
   "execution_count": 0,
   "metadata": {
    "application/vnd.databricks.v1+cell": {
     "cellMetadata": {
      "byteLimit": 2048000,
      "rowLimit": 10000
     },
     "inputWidgets": {},
     "nuid": "d60eb1f0-2056-49e5-94c6-5927832497b4",
     "showTitle": true,
     "tableResultSettingsMap": {},
     "title": "Create Output Path for Event (1.2)"
    }
   },
   "outputs": [],
   "source": [
    "runPath=gistPath+'/runs/'+eventID+'/'\n",
    "os.makedirs(runPath, exist_ok=True)"
   ]
  },
  {
   "cell_type": "code",
   "execution_count": 0,
   "metadata": {
    "application/vnd.databricks.v1+cell": {
     "cellMetadata": {
      "byteLimit": 2048000,
      "rowLimit": 10000
     },
     "inputWidgets": {},
     "nuid": "ce7a3a90-f553-4113-abbe-37d6fb67d6e5",
     "showTitle": true,
     "tableResultSettingsMap": {},
     "title": "Fetch Earthquake Info (1.3)"
    }
   },
   "outputs": [
    {
     "output_type": "stream",
     "name": "stdout",
     "output_type": "stream",
     "text": [
      "getEarthquake:     SeismicEventId  ... B3RecordDeletedUTCDateTime\n0         2481836  ...                        NaT\n\n[1 rows x 32 columns] 1\n<class 'geopandas.geodataframe.GeoDataFrame'>\nRangeIndex: 1 entries, 0 to 0\nData columns (total 38 columns):\n #   Column                      Non-Null Count  Dtype         \n---  ------                      --------------  -----         \n 0   SeismicEventId              1 non-null      int64         \n 1   DataSource                  1 non-null      object        \n 2   DataSourceUrl               0 non-null      object        \n 3   EventID                     1 non-null      object        \n 4   EventTimeUtc                1 non-null      datetime64[ns]\n 5   EventTimeInLocalTimeZone    1 non-null      object        \n 6   EventTimeZone               1 non-null      object        \n 7   EventType                   1 non-null      object        \n 8   DepthKm                     1 non-null      float64       \n 9   DepthErrorKm                1 non-null      float64       \n 10  Magnitude                   1 non-null      float64       \n 11  MagnitudeError              0 non-null      float64       \n 12  MagnitudeType               1 non-null      object        \n 13  Location                    1 non-null      object        \n 14  Status                      1 non-null      object        \n 15  Latitude                    1 non-null      float64       \n 16  LatitudeError               1 non-null      float64       \n 17  Longitude                   1 non-null      float64       \n 18  LongitudeError              1 non-null      float64       \n 19  UpdatedDateUtc              1 non-null      datetime64[ns]\n 20  StationCount                1 non-null      int64         \n 21  RMS                         1 non-null      float64       \n 22  RMS_p                       0 non-null      object        \n 23  RMS_s                       0 non-null      object        \n 24  FocalMechanismAzimuthalGap  0 non-null      float64       \n 25  County                      1 non-null      object        \n 26  State                       1 non-null      object        \n 27  DuplicateSetId              1 non-null      int32         \n 28  RankWithinDuplicateSet      1 non-null      int32         \n 29  B3RecordAddedUTCDateTime    1 non-null      datetime64[ns]\n 30  B3RecordUpdatedUTCDateTime  1 non-null      datetime64[ns]\n 31  B3RecordDeletedUTCDateTime  0 non-null      datetime64[ns]\n 32  Origin Date                 1 non-null      object        \n 33  Origin Time                 1 non-null      object        \n 34  geometry                    1 non-null      geometry      \n 35  Strike                      1 non-null      float64       \n 36  Dip                         1 non-null      float64       \n 37  Rake                        1 non-null      float64       \ndtypes: datetime64[ns](5), float64(13), geometry(1), int32(2), int64(2), object(15)\nmemory usage: 424.0+ bytes\n"
     ]
    }
   ],
   "source": [
    "eqs=es.eqSQL()\n",
    "EQDF=eqs.getEarthquake(eventID)\n",
    "EQDF=EQDF.rename(columns={'LatitudeErrorKm':'LatitudeError','LongitudeErrorKm':'LongitudeError','EventId':'EventID'})\n",
    "# What about the other fault plane solution? - 251 / 36 / -97\n",
    "EQDF['Strike']=80.\n",
    "EQDF['Dip']=55.\n",
    "EQDF['Rake']=-85.\n",
    "# We could make use of the Rake\n",
    "EQDF.info()\n",
    "eq=EQDF.loc[0]"
   ]
  },
  {
   "cell_type": "code",
   "execution_count": 0,
   "metadata": {
    "application/vnd.databricks.v1+cell": {
     "cellMetadata": {
      "byteLimit": 2048000,
      "rowLimit": 10000
     },
     "inputWidgets": {},
     "nuid": "57a3cca2-ed2c-4c68-852b-7afa1f5fdaa0",
     "showTitle": true,
     "tableResultSettingsMap": {},
     "title": "Output Earthquake (1.4)"
    }
   },
   "outputs": [],
   "source": [
    "EQDF.to_csv(runPath+'EQ.csv')"
   ]
  },
  {
   "cell_type": "markdown",
   "metadata": {
    "application/vnd.databricks.v1+cell": {
     "cellMetadata": {
      "byteLimit": 2048000,
      "rowLimit": 10000
     },
     "inputWidgets": {},
     "nuid": "41d31cc5-0dad-4f64-a0ad-66225f6ae397",
     "showTitle": false,
     "tableResultSettingsMap": {},
     "title": ""
    }
   },
   "source": [
    "#2. Initial Run"
   ]
  },
  {
   "cell_type": "markdown",
   "metadata": {
    "application/vnd.databricks.v1+cell": {
     "cellMetadata": {
      "byteLimit": 2048000,
      "rowLimit": 10000
     },
     "inputWidgets": {},
     "nuid": "33bedbfc-3c55-458b-9024-9523dec9d858",
     "showTitle": false,
     "tableResultSettingsMap": {},
     "title": ""
    }
   },
   "source": [
    "##2.1 Subsurface Model Parameters"
   ]
  },
  {
   "cell_type": "markdown",
   "metadata": {
    "application/vnd.databricks.v1+cell": {
     "cellMetadata": {
      "byteLimit": 2048000,
      "rowLimit": 10000
     },
     "inputWidgets": {},
     "nuid": "8c1e59e0-8d99-4372-9269-dafe823c3521",
     "showTitle": false,
     "tableResultSettingsMap": {},
     "title": ""
    }
   },
   "source": [
    "###Inputs:"
   ]
  },
  {
   "cell_type": "code",
   "execution_count": 0,
   "metadata": {
    "application/vnd.databricks.v1+cell": {
     "cellMetadata": {
      "byteLimit": 2048000,
      "rowLimit": 10000
     },
     "inputWidgets": {},
     "nuid": "fa86e866-ce36-4367-b2f6-cd78fcc54b4e",
     "showTitle": true,
     "tableResultSettingsMap": {},
     "title": "Depth Interval (Deep/Shallow)"
    }
   },
   "outputs": [],
   "source": [
    "# Binary deep/shallow parameter\n",
    "deepOrShallow='Deep'\n",
    "# Depth from surface (ft)\n",
    "# Distinguishes deep/shallow where we don't have a horizon \n",
    "depthCutoff=8000."
   ]
  },
  {
   "cell_type": "code",
   "execution_count": 0,
   "metadata": {
    "application/vnd.databricks.v1+cell": {
     "cellMetadata": {
      "byteLimit": 2048000,
      "rowLimit": 10000
     },
     "inputWidgets": {},
     "nuid": "5eac1e6f-a489-46ea-9e08-aaa35509f3fe",
     "showTitle": true,
     "tableResultSettingsMap": {},
     "title": "Monte-Carlo Parameters"
    }
   },
   "outputs": [],
   "source": [
    "nRealizations=500"
   ]
  },
  {
   "cell_type": "code",
   "execution_count": 0,
   "metadata": {
    "application/vnd.databricks.v1+cell": {
     "cellMetadata": {
      "byteLimit": 2048000,
      "rowLimit": 10000
     },
     "inputWidgets": {},
     "nuid": "a92b5ecc-ee98-4077-8e0b-c95a42deea53",
     "showTitle": true,
     "tableResultSettingsMap": {},
     "title": "Fluid Properties"
    }
   },
   "outputs": [],
   "source": [
    "# Water density minimum/maximum (kg/m3)\n",
    "WaterDensityMin=1015.\n",
    "WaterDensityMax=1025.\n",
    "# Water viscosity minimum/maximum (Pa.s)\n",
    "WaterViscosityMin=0.000799\n",
    "WaterViscosityMax=0.000801\n",
    "# Fluid Compressibility minimum/maximum (1/Pa)\n",
    "FluidCompressibilityMin=0.000000000359\n",
    "FluidCompressibilityMax=0.000000000361"
   ]
  },
  {
   "cell_type": "code",
   "execution_count": 0,
   "metadata": {
    "application/vnd.databricks.v1+cell": {
     "cellMetadata": {
      "byteLimit": 2048000,
      "rowLimit": 10000
     },
     "inputWidgets": {},
     "nuid": "d58e0474-d42e-49be-94ae-633087760772",
     "showTitle": true,
     "tableResultSettingsMap": {},
     "title": "Depth Interval Properties"
    }
   },
   "outputs": [],
   "source": [
    "# Porosity in percent\n",
    "PorosityPercentMin=3.\n",
    "PorosityPercentMax=15.\n",
    "\n",
    "# Permeability in millidarcies\n",
    "PermMDMin=5.\n",
    "PermMDMax=500.\n",
    "\n",
    "# Thickness in feet\n",
    "ThicknessFTMin=200.\n",
    "ThicknessFTMax=2000.\n",
    "\n",
    "# Vertical compressibility minimum/maximum (1/Pa)\n",
    "VerticalCompressibilityMin=0.00000000107\n",
    "VerticalCompressibilityMax=0.00000000109"
   ]
  },
  {
   "cell_type": "code",
   "execution_count": 0,
   "metadata": {
    "application/vnd.databricks.v1+cell": {
     "cellMetadata": {
      "byteLimit": 2048000,
      "rowLimit": 10000
     },
     "inputWidgets": {},
     "nuid": "17c599c7-20e2-4a5f-9e30-737f6b236831",
     "showTitle": true,
     "tableResultSettingsMap": {},
     "title": "Well Contribution Filtering Parameters"
    }
   },
   "outputs": [],
   "source": [
    "# Verbosity - 0=silent, 1=some, 2=lots\n",
    "verb=0\n",
    "# Minimum Pressure change to care about in PSI\n",
    "dPCutoff=0.5\n",
    "# Maximum Number of wells to plot\n",
    "nWells=50\n",
    "# How far back in time to plot in years\n",
    "minYear=-40"
   ]
  },
  {
   "cell_type": "markdown",
   "metadata": {
    "application/vnd.databricks.v1+cell": {
     "cellMetadata": {
      "byteLimit": 2048000,
      "rowLimit": 10000
     },
     "inputWidgets": {},
     "nuid": "9237e4af-4e41-491b-add8-8b182193f2e7",
     "showTitle": false,
     "tableResultSettingsMap": {},
     "title": ""
    }
   },
   "source": [
    "### Set Interval-Specific Paths...\n"
   ]
  },
  {
   "cell_type": "code",
   "execution_count": 0,
   "metadata": {
    "application/vnd.databricks.v1+cell": {
     "cellMetadata": {
      "byteLimit": 2048000,
      "rowLimit": 10000
     },
     "inputWidgets": {},
     "nuid": "1ad711f6-8be1-4dfe-80dd-e64126d0aadc",
     "showTitle": true,
     "tableResultSettingsMap": {},
     "title": "Create Subdirectory for Interval in EQ Directory"
    }
   },
   "outputs": [],
   "source": [
    "# Set an output directory for this earthquake and this interval\n",
    "runIntervalPath=runPath+deepOrShallow+'/'\n",
    "initialRunIntervalPath=runIntervalPath+'initialRun/'\n",
    "updatedRunIntervalPath=runIntervalPath+'udpatedRun/'\n",
    "forecastRunIntervalPath=runIntervalPath+'forecastRun/'\n",
    "disposalPath=runIntervalPath+'updatedDisposal/'\n",
    "# Make directory if it doesn't exist\n",
    "os.makedirs(runIntervalPath, exist_ok=True)\n",
    "os.makedirs(initialRunIntervalPath, exist_ok=True)\n",
    "os.makedirs(updatedRunIntervalPath, exist_ok=True)\n",
    "os.makedirs(forecastRunIntervalPath, exist_ok=True)\n",
    "os.makedirs(disposalPath, exist_ok=True)\n",
    "os.makedirs(initialRunIntervalPath+'perWell', exist_ok=True)\n",
    "os.makedirs(updatedRunIntervalPath+'perWell', exist_ok=True)\n",
    "os.makedirs(forecastRunIntervalPath+'perWell', exist_ok=True)\n",
    "################################################\n",
    "# Output prefix for realizations of parameters #\n",
    "################################################\n",
    "RealizationPrefix=runIntervalPath+'MC'"
   ]
  },
  {
   "cell_type": "code",
   "execution_count": 0,
   "metadata": {
    "application/vnd.databricks.v1+cell": {
     "cellMetadata": {
      "byteLimit": 2048000,
      "rowLimit": 10000
     },
     "inputWidgets": {},
     "nuid": "7b3f2312-434f-4dc7-a7d1-dc7a2717a900",
     "showTitle": true,
     "tableResultSettingsMap": {},
     "title": "Point to disposal data for the chosen interval"
    }
   },
   "outputs": [],
   "source": [
    "# Point to appropriate well and injection files from initial database\n",
    "if deepOrShallow=='Deep':\n",
    "  WellFile=injPath+'/deep.csv'\n",
    "  InjFile=injPath+'/deepReg.csv'\n",
    "elif deepOrShallow=='Shallow':\n",
    "  WellFile=injPath+'/shallow.csv'\n",
    "  InjFile=injPath+'/shallowReg.csv'"
   ]
  },
  {
   "cell_type": "code",
   "execution_count": 0,
   "metadata": {
    "application/vnd.databricks.v1+cell": {
     "cellMetadata": {
      "byteLimit": 2048000,
      "rowLimit": 10000
     },
     "inputWidgets": {},
     "nuid": "16de396c-1e22-448a-bab6-c19d33b922b9",
     "showTitle": true,
     "tableResultSettingsMap": {},
     "title": "Poroelastic Parameters - Future Use"
    }
   },
   "outputs": [],
   "source": [
    "# Oversampling of time axis (poroelastic-only)\n",
    "nTimeBins=21\n",
    "# Poroelastic parameters - for in-zone poroelasticity in v2\n",
    "ShearModulusMin=4e9\n",
    "ShearModulusMax=6e9\n",
    "PoissonsRatioDrainedMin=0.295\n",
    "PoissonsRatioDrainedMax=0.305\n",
    "PoissonsRatioUndrainedMin=0.305\n",
    "PoissonsRatioUndrainedMax=0.315\n",
    "BiotsCoefficientMin=0.26\n",
    "BiotsCoefficientMax=0.36\n",
    "# Fault parameters (poroelastic-only)\n",
    "FaultFrictionCoeffMin=0.55\n",
    "FaultFrictionCoeffMax=0.65\n",
    "RockFrictionCoeffMin=0.55\n",
    "RockFrictionCoeffMax=0.65"
   ]
  },
  {
   "cell_type": "markdown",
   "metadata": {
    "application/vnd.databricks.v1+cell": {
     "cellMetadata": {
      "byteLimit": 2048000,
      "rowLimit": 10000
     },
     "inputWidgets": {},
     "nuid": "61b8015e-aa08-4602-a74d-7e156b85d725",
     "showTitle": false,
     "tableResultSettingsMap": {},
     "title": ""
    }
   },
   "source": [
    "##2.2 Results"
   ]
  },
  {
   "cell_type": "markdown",
   "metadata": {
    "application/vnd.databricks.v1+cell": {
     "cellMetadata": {
      "byteLimit": 2048000,
      "rowLimit": 10000
     },
     "inputWidgets": {},
     "nuid": "b9911a2e-abbe-48fa-beb3-db4bc2a8727a",
     "showTitle": false,
     "tableResultSettingsMap": {},
     "title": ""
    }
   },
   "source": [
    "###Compute"
   ]
  },
  {
   "cell_type": "code",
   "execution_count": 0,
   "metadata": {
    "application/vnd.databricks.v1+cell": {
     "cellMetadata": {
      "byteLimit": 2048000,
      "rowLimit": 10000
     },
     "inputWidgets": {},
     "nuid": "d6dead15-ae34-43e1-8795-831b0532c24a",
     "showTitle": true,
     "tableResultSettingsMap": {},
     "title": "Initialize GIST"
    }
   },
   "outputs": [],
   "source": [
    "gist=gi.gistMC(nReal=nRealizations,\n",
    "                ntBin=nTimeBins)\n",
    "gist.initPP(rho0_min=WaterDensityMin,\n",
    "             rho0_max=WaterDensityMax,\n",
    "             phi_min=PorosityPercentMin,\n",
    "             phi_max=PorosityPercentMax,\n",
    "             kMD_min=PermMDMin,\n",
    "             kMD_max=PermMDMax,\n",
    "             h_min=ThicknessFTMin,\n",
    "             h_max=ThicknessFTMax,\n",
    "             alphav_min=VerticalCompressibilityMin,\n",
    "             alphav_max=VerticalCompressibilityMax,\n",
    "             beta_min=FluidCompressibilityMin,\n",
    "             beta_max=FluidCompressibilityMax)"
   ]
  },
  {
   "cell_type": "code",
   "execution_count": 0,
   "metadata": {
    "application/vnd.databricks.v1+cell": {
     "cellMetadata": {
      "byteLimit": 2048000,
      "rowLimit": 10000
     },
     "inputWidgets": {},
     "nuid": "c61650ff-760c-4493-a9e7-3ad67488dd8d",
     "showTitle": true,
     "tableResultSettingsMap": {},
     "title": "Add Wells to GIST"
    }
   },
   "outputs": [],
   "source": [
    "gist.addWells(WellFile,InjFile,verbose=verb)\n",
    "if verb>0:\n",
    "  gist.wellDF.info()\n",
    "  EQDF.info()"
   ]
  },
  {
   "cell_type": "code",
   "execution_count": 0,
   "metadata": {
    "application/vnd.databricks.v1+cell": {
     "cellMetadata": {
      "byteLimit": 2048000,
      "rowLimit": 10000
     },
     "inputWidgets": {},
     "nuid": "216af07b-6ac8-453c-aac3-2cf6fdf8d2c6",
     "showTitle": true,
     "tableResultSettingsMap": {},
     "title": "Select Wells To Analyze"
    }
   },
   "outputs": [],
   "source": [
    "selectedWellsDF,ignoredWellsDF,injDF=gist.findWells(eq,PE=False,verbose=verb)"
   ]
  },
  {
   "cell_type": "code",
   "execution_count": 0,
   "metadata": {
    "application/vnd.databricks.v1+cell": {
     "cellMetadata": {
      "byteLimit": 2048000,
      "rowLimit": 10000
     },
     "inputWidgets": {},
     "nuid": "9bc68774-2a3e-4964-a170-d95d30a103ad",
     "showTitle": true,
     "tableResultSettingsMap": {},
     "title": "Compute Pressure Realizations at Event Time"
    }
   },
   "outputs": [],
   "source": [
    "scenarioDF=gist.runPressureScenarios(eq,selectedWellsDF,injDF,verbose=verb)"
   ]
  },
  {
   "cell_type": "code",
   "execution_count": 0,
   "metadata": {
    "application/vnd.databricks.v1+cell": {
     "cellMetadata": {
      "byteLimit": 2048000,
      "rowLimit": 10000
     },
     "inputWidgets": {},
     "nuid": "33770d73-6562-4c5c-b4fa-e96d27c00250",
     "showTitle": true,
     "tableResultSettingsMap": {},
     "title": "Filter Negligible Wells at EQ Time"
    }
   },
   "outputs": [],
   "source": [
    "filteredDF,orderedWellList=gi.summarizePPResults(scenarioDF,selectedWellsDF,threshold=dPCutoff,nOrder=nWells,verbose=verb)"
   ]
  },
  {
   "cell_type": "code",
   "execution_count": 0,
   "metadata": {
    "application/vnd.databricks.v1+cell": {
     "cellMetadata": {
      "byteLimit": 2048000,
      "rowLimit": 10000
     },
     "inputWidgets": {},
     "nuid": "4edbea65-b930-4dd3-b18b-37ebd8f78b8e",
     "showTitle": true,
     "tableResultSettingsMap": {},
     "title": "Generate results for disaggregation plot"
    }
   },
   "outputs": [],
   "source": [
    "disaggregationDF=gi.prepDisaggregationPlot(filteredDF,orderedWellList,jitter=0.1,verbose=0)"
   ]
  },
  {
   "cell_type": "code",
   "execution_count": 0,
   "metadata": {
    "application/vnd.databricks.v1+cell": {
     "cellMetadata": {
      "byteLimit": 2048000,
      "rowLimit": 10000
     },
     "inputWidgets": {},
     "nuid": "2f954928-3373-475d-9584-c75b31b62e95",
     "showTitle": true,
     "tableResultSettingsMap": {},
     "title": "Generate Results For R-MinusT Plot"
    }
   },
   "outputs": [],
   "source": [
    "diffRange=(min(gist.diffPPVec),max(gist.diffPPVec))\n",
    "rtDF,mergedWellsDF = gi.prepRTPlot(selectedWellsDF,ignoredWellsDF,minYear,diffRange,clipYear=False)"
   ]
  },
  {
   "cell_type": "code",
   "execution_count": 0,
   "metadata": {
    "application/vnd.databricks.v1+cell": {
     "cellMetadata": {
      "byteLimit": 2048000,
      "rowLimit": 10000
     },
     "inputWidgets": {},
     "nuid": "2419da03-31b9-4965-af0c-272e4ca4e537",
     "showTitle": true,
     "tableResultSettingsMap": {},
     "title": "Isolate nonnegligible wells and disposal data"
    }
   },
   "outputs": [],
   "source": [
    "winWellsDF,winInjDF=gi.getWinWells(filteredDF,selectedWellsDF,injDF)"
   ]
  },
  {
   "cell_type": "code",
   "execution_count": 0,
   "metadata": {
    "application/vnd.databricks.v1+cell": {
     "cellMetadata": {
      "byteLimit": 2048000,
      "rowLimit": 10000
     },
     "inputWidgets": {},
     "nuid": "1ac46fcf-0060-4679-9285-3e807fa9abd8",
     "showTitle": false,
     "tableResultSettingsMap": {},
     "title": ""
    }
   },
   "outputs": [],
   "source": [
    "\n",
    "scenarioTSRDF,dPTimeSeriesR,wellIDsR,dayVecR = gist.runPressureScenariosTimeSeries(eq,winWellsDF,winInjDF,verbose=verb)"
   ]
  },
  {
   "cell_type": "code",
   "execution_count": 0,
   "metadata": {
    "application/vnd.databricks.v1+cell": {
     "cellMetadata": {
      "byteLimit": 2048000,
      "rowLimit": 10000
     },
     "inputWidgets": {},
     "nuid": "7651d8c1-bcf2-418b-92fa-6a549ec3886b",
     "showTitle": true,
     "tableResultSettingsMap": {},
     "title": "Generate results for total time series plot"
    }
   },
   "outputs": [
    {
     "output_type": "stream",
     "name": "stdout",
     "output_type": "stream",
     "text": [
      "prepTotalPressureTimeSeriesPlot: deltaPP.shape= (39, 500, 1469)  dayVec.shape= (1469,)\nprepTotalPressureTimeSeriesPlot: totalDeltaPP.shape= (500, 1469)\nprepTotalPressureTimeSeriesPlot: quantiles: [0.0, 10.0, 20.0, 30.1, 40.1, 50.1, 59.9, 69.9, 80.0, 90.0, 100.0]\n        DeltaPressure     Days  Realization  Percentile  Ordering       Date\n0            0.000000   5450.0            0         0.0       0.0 1984-12-03\n1            0.000000   5460.0            0         0.0       0.0 1984-12-13\n2            0.000000   5470.0            0         0.0       0.0 1984-12-23\n3            0.000000   5480.0            0         0.0       0.0 1985-01-02\n4            0.000000   5490.0            0         0.0       0.0 1985-01-12\n...               ...      ...          ...         ...       ...        ...\n733601       0.224215  11150.0          499        20.0     100.0 2000-07-12\n733602       0.224149  11160.0          499        20.0     100.0 2000-07-22\n733994       0.305871  15080.0          499        20.0     100.0 2011-04-16\n734315       1.974447  18290.0          499        30.1     150.0 2020-01-29\n734330       2.821332  18440.0          499        20.0     100.0 2020-06-27\n\n[16159 rows x 6 columns]\n"
     ]
    }
   ],
   "source": [
    "totalPPQuantilesDF=gi.prepTotalPressureTimeSeriesPlot(dPTimeSeriesR,dayVecR,nQuantiles=11,epoch=pd.to_datetime('1970-01-01'),verbose=1)\n",
    "print(totalPPQuantilesDF)"
   ]
  },
  {
   "cell_type": "code",
   "execution_count": 0,
   "metadata": {
    "application/vnd.databricks.v1+cell": {
     "cellMetadata": {
      "byteLimit": 2048000,
      "rowLimit": 10000
     },
     "inputWidgets": {},
     "nuid": "2c7f1e91-61f1-4c15-bb6e-a029dbf09805",
     "showTitle": true,
     "tableResultSettingsMap": {},
     "title": "Generate results for per-well time series plot"
    }
   },
   "outputs": [],
   "source": [
    "allPPQuantilesDF=gi.getPerWellPressureTimeSeriesQuantiles(dPTimeSeriesR,dayVecR,wellIDsR,nQuantiles=11,epoch=pd.to_datetime('01-01-1970'))"
   ]
  },
  {
   "cell_type": "code",
   "execution_count": 0,
   "metadata": {
    "application/vnd.databricks.v1+cell": {
     "cellMetadata": {
      "byteLimit": 2048000,
      "rowLimit": 10000
     },
     "inputWidgets": {},
     "nuid": "ea61b2f3-d4bb-44d1-859e-65f602850d2f",
     "showTitle": false,
     "tableResultSettingsMap": {},
     "title": ""
    }
   },
   "outputs": [],
   "source": [
    "\n",
    "wellPressureDict=gi.prepPressureAndDisposalTimeSeriesPlots(allPPQuantilesDF,winWellsDF,winInjDF,orderedWellList[:-1],verbose=0)"
   ]
  },
  {
   "cell_type": "code",
   "execution_count": 0,
   "metadata": {
    "application/vnd.databricks.v1+cell": {
     "cellMetadata": {
      "byteLimit": 2048000,
      "rowLimit": 10000
     },
     "inputWidgets": {},
     "nuid": "c1d96fa9-a258-4a22-891a-f77277dc69cd",
     "showTitle": true,
     "tableResultSettingsMap": {},
     "title": "Sensitivity Test"
    }
   },
   "outputs": [
    {
     "output_type": "stream",
     "name": "stdout",
     "output_type": "stream",
     "text": [
      "getPressureSensitivity: ntaS min/max:  0.0009 0.0011\ngetPressureSensitivity: phiS min/max:  3.0 15.0\ngetPressureSensitivity: hMS min/max:  60.96 609.6\ngetPressureSensitivity: alphavS min/max:  1.07e-09 1.08e-09\ngetPressureSensitivity: betaS min/max:  3.59e-10 3.61e-10\ngetPressureSensitivity: kMDS min/max:  5.0 500.0\ngetPressureSensitivity: SS:  [[0.00371367]\n [0.00373197]\n [0.00375026]\n [0.00373197]\n [0.00373197]\n [0.00373197]\n [0.0036595 ]\n [0.00373197]\n [0.00380443]\n [0.00067854]\n [0.00373197]\n [0.00678539]\n [0.00369842]\n [0.00373197]\n [0.00373197]\n [0.00373167]\n [0.00373197]\n [0.00373227]\n [0.00373197]\n [0.00373197]\n [0.00373197]]\ngetPressureSensitivity: TS:  [[8.34524852e-04]\n [8.38635812e-04]\n [8.42746772e-04]\n [9.31817569e-04]\n [8.38635812e-04]\n [7.62396193e-04]\n [8.38635812e-04]\n [8.38635812e-04]\n [8.38635812e-04]\n [1.52479239e-04]\n [8.38635812e-04]\n [1.52479239e-03]\n [8.38635812e-04]\n [8.38635812e-04]\n [8.38635812e-04]\n [8.38635812e-04]\n [8.38635812e-04]\n [8.38635812e-04]\n [1.66066497e-05]\n [8.38635812e-04]\n [1.66066497e-03]]\ngetPressureSensitivity: rhoS:  [[1015.]\n [1020.]\n [1025.]\n [1020.]\n [1020.]\n [1020.]\n [1020.]\n [1020.]\n [1020.]\n [1020.]\n [1020.]\n [1020.]\n [1020.]\n [1020.]\n [1020.]\n [1020.]\n [1020.]\n [1020.]\n [1020.]\n [1020.]\n [1020.]]\n gistMC.runPressureScenarios: Number of wells considered:  39\n gistMC.pressureScenario: well  0  of  39 :  2081279\n gistMC.pressureScenario: well  10  of  39 :  2120859\n gistMC.pressureScenario: well  20  of  39 :  2118517\n gistMC.pressureScenario: well  30  of  39 :  2110718\n gistMC.pressureScenario: scenario  1  of  21 : Max P: 4.766325112215248\n gistMC.pressureScenario: scenario  2  of  21 : Max P: 4.7663251122152515\n gistMC.pressureScenario: scenario  3  of  21 : Max P: 4.766325112215253\n gistMC.pressureScenario: scenario  4  of  21 : Max P: 4.421498503481721\n gistMC.pressureScenario: scenario  5  of  21 : Max P: 4.7663251122152515\n gistMC.pressureScenario: scenario  6  of  21 : Max P: 5.096628249857349\n gistMC.pressureScenario: scenario  7  of  21 : Max P: 4.79362846902437\n gistMC.pressureScenario: scenario  8  of  21 : Max P: 4.7663251122152515\n gistMC.pressureScenario: scenario  9  of  21 : Max P: 4.739525529496115\n gistMC.pressureScenario: scenario  10  of  21 : Max P: 26.214788117183872\n gistMC.pressureScenario: scenario  11  of  21 : Max P: 4.7663251122152515\n gistMC.pressureScenario: scenario  12  of  21 : Max P: 2.6214788117183887\n gistMC.pressureScenario: scenario  13  of  21 : Max P: 4.778901755316866\n gistMC.pressureScenario: scenario  14  of  21 : Max P: 4.7663251122152515\n gistMC.pressureScenario: scenario  15  of  21 : Max P: 4.7663251122152515\n gistMC.pressureScenario: scenario  16  of  21 : Max P: 4.7664378176905995\n gistMC.pressureScenario: scenario  17  of  21 : Max P: 4.7663251122152515\n gistMC.pressureScenario: scenario  18  of  21 : Max P: 4.766212415484382\n gistMC.pressureScenario: scenario  19  of  21 : Max P: 4.365853818062159\n gistMC.pressureScenario: scenario  20  of  21 : Max P: 4.7663251122152515\n gistMC.pressureScenario: scenario  21  of  21 : Max P: 2.88122933217788\ngetPressureSensitivity: per-well pressures:  1.0429420875692712e-98 26.214788117183872\ngetPressureSensitivity: total pressures:  4.367236818154671 75.1428806053708\n          EventID  EventLatitude  ...                 Parameter  MedianPressure\n3  texnet2024oqfb      32.144165  ...        Interval Thickness       13.662342\n0  texnet2024oqfb      32.144165  ...                   Density       13.662342\n6  texnet2024oqfb      32.144165  ...              Permeability       13.662342\n2  texnet2024oqfb      32.144165  ...                  Porosity       13.662342\n1  texnet2024oqfb      32.144165  ...                 Viscosity       13.662342\n4  texnet2024oqfb      32.144165  ...  Vertical Compressibility       13.662342\n5  texnet2024oqfb      32.144165  ...     Fluid Compressibility       13.662342\n\n[7 rows x 11 columns]\n"
     ]
    }
   ],
   "source": [
    "# Calculate sensitivities to different parameters\n",
    "sensitivityDF,sensitivitySumDF = gist.getPressureSensitivity(winInjDF,winWellsDF,eq,verbose=2)\n",
    "# I'm not getting negative pressures anymore\n",
    "print(sensitivitySumDF)"
   ]
  },
  {
   "cell_type": "code",
   "execution_count": 0,
   "metadata": {
    "application/vnd.databricks.v1+cell": {
     "cellMetadata": {
      "byteLimit": 2048000,
      "rowLimit": 10000
     },
     "inputWidgets": {},
     "nuid": "19413b4b-7700-40f4-8c46-be35576c8686",
     "showTitle": true,
     "tableResultSettingsMap": {},
     "title": "Get Default rates"
    }
   },
   "outputs": [
    {
     "output_type": "stream",
     "name": "stdout",
     "output_type": "stream",
     "text": [
      "SeismicEventId                                      2481836\nDataSource                        TexNet Earthquake Catalog\nDataSourceUrl                                          None\nEventID                                      texnet2024oqfb\nEventTimeUtc                            2024-07-27 02:11:07\nEventTimeInLocalTimeZone               2024-07-26T21:11:07Z\nEventTimeZone                                           CST\nEventType                                        Earthquake\nDepthKm                                            8.837891\nDepthErrorKm                                       0.636678\nMagnitude                                           1.64016\nMagnitudeError                                          NaN\nMagnitudeType                                    ml(texnet)\nLocation                                      Western Texas\nStatus                                                final\nLatitude                                          32.144165\nLatitudeError                                      0.176637\nLongitude                                       -101.805214\nLongitudeError                                     0.180822\nUpdatedDateUtc                          2024-07-29 16:55:51\nStationCount                                             31\nRMS                                                0.092708\nRMS_p                                                  None\nRMS_s                                                  None\nFocalMechanismAzimuthalGap                              NaN\nCounty                                          Martin (TX)\nState                                                 Texas\nDuplicateSetId                                        26878\nRankWithinDuplicateSet                                    1\nB3RecordAddedUTCDateTime                2024-07-29 17:10:37\nB3RecordUpdatedUTCDateTime              2025-01-29 08:48:27\nB3RecordDeletedUTCDateTime                              NaT\nOrigin Date                                      2024-07-27\nOrigin Time                                        02:11:07\ngeometry                      POINT (-101.805214 32.144165)\nStrike                                                 80.0\nDip                                                    55.0\nRake                                                  -85.0\nName: 0, dtype: object SeismicEventId                                      2481836\nDataSource                        TexNet Earthquake Catalog\nDataSourceUrl                                          None\nEventID                                      texnet2024oqfb\nEventTimeUtc                            2024-07-27 02:11:07\nEventTimeInLocalTimeZone               2024-07-26T21:11:07Z\nEventTimeZone                                           CST\nEventType                                        Earthquake\nDepthKm                                            8.837891\nDepthErrorKm                                       0.636678\nMagnitude                                           1.64016\nMagnitudeError                                          NaN\nMagnitudeType                                    ml(texnet)\nLocation                                      Western Texas\nStatus                                                final\nLatitude                                          32.144165\nLatitudeError                                      0.176637\nLongitude                                       -101.805214\nLongitudeError                                     0.180822\nUpdatedDateUtc                          2024-07-29 16:55:51\nStationCount                                             31\nRMS                                                0.092708\nRMS_p                                                  None\nRMS_s                                                  None\nFocalMechanismAzimuthalGap                              NaN\nCounty                                          Martin (TX)\nState                                                 Texas\nDuplicateSetId                                        26878\nRankWithinDuplicateSet                                    1\nB3RecordAddedUTCDateTime                2024-07-29 17:10:37\nB3RecordUpdatedUTCDateTime              2025-01-29 08:48:27\nB3RecordDeletedUTCDateTime                              NaT\nOrigin Date                             2026-09-01 00:00:00\nOrigin Time                                        02:11:07\ngeometry                      POINT (-101.805214 32.144165)\nStrike                                                 80.0\nDip                                                    55.0\nRake                                                  -85.0\nName: 0, dtype: object\ngetTHdpdt0 time axis information - nt: 1469 ; ot: 5450.0 ; dt: 10.0  earthquake index:  1448\ngetTHdpdt0 nwC: 39\ngetTHdpdt0 bpdArray: (39, 1470) [0. 0. 0. 0. 0. 0. 0. 0. 0. 0. 0. 0. 0. 0. 0. 0. 0. 0. 0. 0. 0. 0. 0. 0.\n 0. 0. 0. 0. 0. 0. 0. 0. 0. 0. 0. 0. 0. 0. 0.] [0. 0. 0. 0. 0. 0. 0. 0. 0. 0. 0. 0. 0. 0. 0. 0. 0. 0. 0. 0. 0. 0. 0. 0.\n 0. 0. 0. 0. 0. 0. 0. 0. 0. 0. 0. 0. 0. 0. 0.]\ngetTHdpdt0 dQdtArray: (39, 1469) [-0.00320771  0.          0.          0.          0.          0.\n  0.          0.          0.          0.          0.          0.\n -0.00800236  0.         -0.00706757  0.          0.          0.\n  0.          0.          0.          0.          0.          0.\n  0.          0.          0.          0.          0.          0.\n  0.          0.          0.         -0.00275872  0.          0.\n  0.          0.         -0.01591933] [0. 0. 0. 0. 0. 0. 0. 0. 0. 0. 0. 0. 0. 0. 0. 0. 0. 0. 0. 0. 0. 0. 0. 0.\n 0. 0. 0. 0. 0. 0. 0. 0. 0. 0. 0. 0. 0. 0. 0.]\ngetTHdpdt0 durations min/max:  67046400.0 1335398400.0\ngetTHdpdt0 durations shape:  (1469,)\ngetTHdPdT0 OneOver4piKappaH min/max:  287398219.6924343 76627175726.05186\ngetTHdPdT0 OneOver4piKappaH shape:  (500,)\ngetTHdPdT0 dQdtOverDurations min/max:  -7.513790179268909e-10 5.614781028607299e-10\ngetTHdPdT0 dQdtOverDurations shape:  (39, 1469)\ngetTHdPdT0 multiplier min/max:  -57.576052043552146 43.024481254239376\ngetTHdPdT0 multiplier shape:  (39, 500, 1469)\ngetTHdPdT0 r2 min/max:  6544256.262167588 2910336838.7003503\ngetTHdPdT0 r2 shape:  (39,)\ngetTHdPdT0 FourDs min/max:  0.02120796833284489 1.9055566635472156\ngetTHdPdT0 FourDs shape:  (500,)\ngetTHdPdT0 FourDDurations min/max:  1421917.9280312518 2544677319.61029\ngetTHdPdT0 FourDDurations shape:  (1, 500, 1469)\ngetTHdPdT0 exponent min/max:  -2046.7685098604265 -0.0025717430700289423\ngetTHdPdT0 exponent shape:  (39, 500, 1469)\ngetTHdPdT0 dpdtExpanded min/max:  -2.951133992596593 3.2222887519475085\ngetTHdPdT0 dpdtExpanded shape:  (39, 500, 1469)\ngetTHdPdT0 FourDFuture min/max:  1403594.2433916738 126114313.32954724\ngetTHdPdT0 FourDFuture shape:  (39, 500)\ngetTHdPdT0 exponent2 min/max:  -2073.4887253938523 -0.05189146330335161\ngetTHdPdT0 exponent2 shape:  (39, 500)\ngetTHdPdT0 expTerm min/max:  0.0 0.9494319094539808\ngetTHdPdT0 expTerm shape:  (39, 500)\ngetTHdPdT0 futureInjSec:  66182400\ngetTHdPdT0 zeroTerm min/max:  -1.19280317067385e-08 1.3966927936255442e-08\ngetTHdPdT0 zeroTerm shape:  (39, 500)\ngetTHdPdT0 dpdt min/max:  -1.559705238541199 0.9369720715833418\ngetTHdPdT0 dpdt shape:  (39, 500)\ngetTHdPdT0 Q_new min/max:  -14.637907731526159 inf\ngetTHdPdT0 Q_new shape:  (39, 500)\ngetTHdPdT0 Q_new thresholded min/max:  -14.637907731526159 50000.0\ngetTHdPdT0 Q_new thresholded shape:  (39, 500)\n"
     ]
    },
    {
     "output_type": "stream",
     "name": "stderr",
     "output_type": "stream",
     "text": [
      "/Workspace/Users/bill.curry@exxonmobil.com/GIST/lib/gistMC.py:2020: RuntimeWarning: divide by zero encountered in divide\n  Q_new=(dpdt * futureInjSec / OneOver4piKappaH) / expTerm\n"
     ]
    }
   ],
   "source": [
    "futureEQ=eq.copy()\n",
    "futureEQ.loc['Origin Date']=pd.to_datetime('2026-9-1')\n",
    "print(eq,futureEQ)\n",
    "rateDF = gist.getTHdPdT0(winWellsDF,winInjDF,eq,futureEQ,2)"
   ]
  },
  {
   "cell_type": "markdown",
   "metadata": {
    "application/vnd.databricks.v1+cell": {
     "cellMetadata": {
      "byteLimit": 2048000,
      "rowLimit": 10000
     },
     "inputWidgets": {},
     "nuid": "e705ce0b-75fc-4cc7-94cc-b48bc90f2107",
     "showTitle": false,
     "tableResultSettingsMap": {},
     "title": ""
    }
   },
   "source": [
    "###Output"
   ]
  },
  {
   "cell_type": "code",
   "execution_count": 0,
   "metadata": {
    "application/vnd.databricks.v1+cell": {
     "cellMetadata": {
      "byteLimit": 2048000,
      "rowLimit": 10000
     },
     "inputWidgets": {},
     "nuid": "f84c0581-670d-449b-b8ef-e88afdd6a169",
     "showTitle": true,
     "tableResultSettingsMap": {},
     "title": "Pore Pressure Property Realizations"
    }
   },
   "outputs": [],
   "source": [
    "gist.writeRealizations(initialRunIntervalPath+'PorePressureRealizations.csv')"
   ]
  },
  {
   "cell_type": "code",
   "execution_count": 0,
   "metadata": {
    "application/vnd.databricks.v1+cell": {
     "cellMetadata": {
      "byteLimit": 2048000,
      "rowLimit": 10000
     },
     "inputWidgets": {},
     "nuid": "be6f6db8-3b75-4c34-a215-8fa5ab199639",
     "showTitle": true,
     "tableResultSettingsMap": {},
     "title": "Pore Pressure Scenarios"
    }
   },
   "outputs": [],
   "source": [
    "scenarioDF.to_csv(initialRunIntervalPath+'scenarios.csv')"
   ]
  },
  {
   "cell_type": "code",
   "execution_count": 0,
   "metadata": {
    "application/vnd.databricks.v1+cell": {
     "cellMetadata": {
      "byteLimit": 2048000,
      "rowLimit": 10000
     },
     "inputWidgets": {},
     "nuid": "f04371b7-ff00-4eaf-a3eb-b8239b52ce11",
     "showTitle": true,
     "tableResultSettingsMap": {},
     "title": "Summarized Pore Pressure Scenarios and Well Ordering"
    }
   },
   "outputs": [],
   "source": [
    "filteredDF.to_csv(initialRunIntervalPath+'filteredScenarios.csv')\n",
    "pd.Series(data=orderedWellList).to_csv(initialRunIntervalPath+'wellOrder.csv')"
   ]
  },
  {
   "cell_type": "code",
   "execution_count": 0,
   "metadata": {
    "application/vnd.databricks.v1+cell": {
     "cellMetadata": {
      "byteLimit": 2048000,
      "rowLimit": 10000
     },
     "inputWidgets": {},
     "nuid": "280fdbed-35d9-4a93-86ff-a162480540dd",
     "showTitle": true,
     "tableResultSettingsMap": {},
     "title": "Dataframes for R-T (Well selection) Plot"
    }
   },
   "outputs": [],
   "source": [
    "mergedWellsDF.to_csv(initialRunIntervalPath+'RTwells.csv')\n",
    "rtDF.to_csv(initialRunIntervalPath+'RTDF.csv')"
   ]
  },
  {
   "cell_type": "code",
   "execution_count": 0,
   "metadata": {
    "application/vnd.databricks.v1+cell": {
     "cellMetadata": {
      "byteLimit": 2048000,
      "rowLimit": 10000
     },
     "inputWidgets": {},
     "nuid": "b034629a-7154-42cd-8046-a1d83547b0d7",
     "showTitle": true,
     "tableResultSettingsMap": {},
     "title": "Dateframe for disaggregation plot"
    }
   },
   "outputs": [],
   "source": [
    "disaggregationDF.to_csv(initialRunIntervalPath+'disaggregation.csv')"
   ]
  },
  {
   "cell_type": "code",
   "execution_count": 0,
   "metadata": {
    "application/vnd.databricks.v1+cell": {
     "cellMetadata": {
      "byteLimit": 2048000,
      "rowLimit": 10000
     },
     "inputWidgets": {},
     "nuid": "0f62ad4c-5c5f-48ed-8814-ca34f1ed3b85",
     "showTitle": true,
     "tableResultSettingsMap": {},
     "title": "Dataframe for quantiles of pore pressure time series plot"
    }
   },
   "outputs": [],
   "source": [
    "totalPPQuantilesDF.to_csv(initialRunIntervalPath+'totalPPQuantiles.csv')"
   ]
  },
  {
   "cell_type": "code",
   "execution_count": 0,
   "metadata": {
    "application/vnd.databricks.v1+cell": {
     "cellMetadata": {
      "byteLimit": 2048000,
      "rowLimit": 10000
     },
     "inputWidgets": {},
     "nuid": "1f52e13c-adee-4281-90a3-e22e16aa19bc",
     "showTitle": false,
     "tableResultSettingsMap": {},
     "title": ""
    }
   },
   "outputs": [
    {
     "output_type": "stream",
     "name": "stdout",
     "output_type": "stream",
     "text": [
      "well 0 , ID: 2121094  completed\nwell 1 , ID: 2121271  completed\nwell 2 , ID: 2123938  completed\nwell 3 , ID: 2117885  completed\nwell 4 , ID: 2111946  completed\nwell 5 , ID: 2109094  completed\nwell 6 , ID: 2116501  completed\nwell 7 , ID: 2112288  completed\nwell 8 , ID: 2081404  completed\nwell 9 , ID: 2114817  completed\nwell 10 , ID: 2112104  completed\nwell 11 , ID: 2111358  completed\nwell 12 , ID: 2121191  completed\nwell 13 , ID: 2056720  completed\nwell 14 , ID: 2113898  completed\nwell 15 , ID: 2111690  completed\nwell 16 , ID: 2118993  completed\nwell 17 , ID: 2121195  completed\nwell 18 , ID: 2120454  completed\nwell 19 , ID: 2117633  completed\nwell 20 , ID: 2112172  completed\nwell 21 , ID: 2081279  completed\nwell 22 , ID: 2121203  completed\nwell 23 , ID: 2112058  completed\nwell 24 , ID: 2105036  completed\nwell 25 , ID: 2120859  completed\nwell 26 , ID: 2064982  completed\nwell 27 , ID: 2119049  completed\nwell 28 , ID: 2120980  completed\nwell 29 , ID: 2123953  completed\nwell 30 , ID: 2051824  completed\nwell 31 , ID: 2121715  completed\nwell 32 , ID: 2110718  completed\nwell 33 , ID: 2112198  completed\nwell 34 , ID: 2048738  completed\nwell 35 , ID: 2108688  completed\nwell 36 , ID: 2119358  completed\nwell 37 , ID: 2110592  completed\nwell 38 , ID: 2118517  completed\n"
     ]
    }
   ],
   "source": [
    "i=0\n",
    "for wellDictKey, wellDictValue in wellPressureDict.items():\n",
    "  wellID=wellDictValue['WellInfo']['ID'].to_list()[0]\n",
    "  wellFilePrefix='/perWell/well_'+str(i)+'_'\n",
    "  wellDictValue['PPQuantiles'].to_csv(initialRunIntervalPath+wellFilePrefix+'PPQuantiles.csv')\n",
    "  wellDictValue['Disposal'].to_csv(initialRunIntervalPath+wellFilePrefix+'Disposal.csv')\n",
    "  wellDictValue['WellInfo'].to_csv(initialRunIntervalPath+wellFilePrefix+'WellInfo.csv')\n",
    "  print('well',i,', ID:',wellID,' completed')\n",
    "  i=i+1"
   ]
  },
  {
   "cell_type": "code",
   "execution_count": 0,
   "metadata": {
    "application/vnd.databricks.v1+cell": {
     "cellMetadata": {
      "byteLimit": 2048000,
      "rowLimit": 10000
     },
     "inputWidgets": {},
     "nuid": "1a99eaf6-68f3-440b-a376-66254977d282",
     "showTitle": false,
     "tableResultSettingsMap": {},
     "title": ""
    }
   },
   "outputs": [],
   "source": [
    "scenarioTSRDF.to_csv(initialRunIntervalPath+'materialScenariosR.csv')\n",
    "np.savez_compressed(initialRunIntervalPath+'timeSeriesR.npz', deltaPP=dPTimeSeriesR,dayVec=dayVecR,wellIDs=wellIDsR)"
   ]
  },
  {
   "cell_type": "code",
   "execution_count": 0,
   "metadata": {
    "application/vnd.databricks.v1+cell": {
     "cellMetadata": {
      "byteLimit": 2048000,
      "rowLimit": 10000
     },
     "inputWidgets": {},
     "nuid": "a4cb7a9d-7ba5-4423-acf8-9c6415677cb1",
     "showTitle": true,
     "tableResultSettingsMap": {},
     "title": "Sensitivity"
    }
   },
   "outputs": [],
   "source": [
    "sensitivityDF.to_csv(initialRunIntervalPath+'sensitivity.csv')\n",
    "sensitivitySumDF.to_csv(initialRunIntervalPath+'sensitivitySum.csv')"
   ]
  },
  {
   "cell_type": "code",
   "execution_count": 0,
   "metadata": {
    "application/vnd.databricks.v1+cell": {
     "cellMetadata": {
      "byteLimit": 2048000,
      "rowLimit": 10000
     },
     "inputWidgets": {},
     "nuid": "146ca51a-fadf-44e9-ac4d-9f8d728634c9",
     "showTitle": false,
     "tableResultSettingsMap": {},
     "title": ""
    }
   },
   "outputs": [],
   "source": [
    "rateDF.to_csv(initialRunIntervalPath+'rates.csv')"
   ]
  },
  {
   "cell_type": "markdown",
   "metadata": {
    "application/vnd.databricks.v1+cell": {
     "cellMetadata": {
      "byteLimit": 2048000,
      "rowLimit": 10000
     },
     "inputWidgets": {},
     "nuid": "b4236692-cbfc-40d2-b8aa-b3d415ba491c",
     "showTitle": false,
     "tableResultSettingsMap": {},
     "title": ""
    }
   },
   "source": [
    "#3. Correct Data"
   ]
  },
  {
   "cell_type": "markdown",
   "metadata": {
    "application/vnd.databricks.v1+cell": {
     "cellMetadata": {
      "byteLimit": 2048000,
      "rowLimit": 10000
     },
     "inputWidgets": {},
     "nuid": "e1fb4fa0-ef2d-4067-9f96-2a9a1f17ecf7",
     "showTitle": false,
     "tableResultSettingsMap": {},
     "title": ""
    }
   },
   "source": [
    "##3.1 Export Disposal Data"
   ]
  },
  {
   "cell_type": "code",
   "execution_count": 0,
   "metadata": {
    "application/vnd.databricks.v1+cell": {
     "cellMetadata": {
      "byteLimit": 2048000,
      "rowLimit": 10000
     },
     "inputWidgets": {},
     "nuid": "b96fbede-0417-4874-aa86-5516e6acc7bd",
     "showTitle": false,
     "tableResultSettingsMap": {},
     "title": ""
    }
   },
   "outputs": [],
   "source": [
    "selectedWellsDF.to_csv(disposalPath+'selectedWells.csv')\n",
    "ignoredWellsDF.to_csv(disposalPath+'ignoredWells.csv')\n",
    "allWellsDF=pd.concat([selectedWellsDF,ignoredWellsDF])\n",
    "allWellsDF.to_csv(disposalPath+'allInZoneWells.csv')\n",
    "injDF.to_csv(disposalPath+'inj.csv')"
   ]
  },
  {
   "cell_type": "markdown",
   "metadata": {
    "application/vnd.databricks.v1+cell": {
     "cellMetadata": {
      "byteLimit": 2048000,
      "rowLimit": 10000
     },
     "inputWidgets": {},
     "nuid": "f35e0dd5-e4ea-4a7b-833a-77ea28f21e88",
     "showTitle": false,
     "tableResultSettingsMap": {},
     "title": ""
    }
   },
   "source": [
    "##3.2 Import Updated Disposal Data"
   ]
  },
  {
   "cell_type": "code",
   "execution_count": 0,
   "metadata": {
    "application/vnd.databricks.v1+cell": {
     "cellMetadata": {
      "byteLimit": 2048000,
      "rowLimit": 10000
     },
     "inputWidgets": {},
     "nuid": "1783e6ae-d1a7-429e-805d-eca0ff129691",
     "showTitle": true,
     "tableResultSettingsMap": {},
     "title": "Read and parse updated disposal data"
    }
   },
   "outputs": [],
   "source": [
    "\n",
    "udpatedSelectedWellsDF=pd.read_csv(disposalPath+'selectedWells.csv')\n",
    "updatedIgnoredWellsDF=pd.read_csv(disposalPath+'ignoredWells.csv')\n",
    "updatedWellsFile=disposalPath+'allInZoneWells.csv'\n",
    "updatedInjFile=disposalPath+'inj.csv'"
   ]
  },
  {
   "cell_type": "markdown",
   "metadata": {
    "application/vnd.databricks.v1+cell": {
     "cellMetadata": {
      "byteLimit": 2048000,
      "rowLimit": 10000
     },
     "inputWidgets": {},
     "nuid": "271df2d4-d03f-4b61-b2c2-2d5e6ad96283",
     "showTitle": false,
     "tableResultSettingsMap": {},
     "title": ""
    }
   },
   "source": [
    "#4. Updated Analysis"
   ]
  },
  {
   "cell_type": "markdown",
   "metadata": {
    "application/vnd.databricks.v1+cell": {
     "cellMetadata": {
      "byteLimit": 2048000,
      "rowLimit": 10000
     },
     "inputWidgets": {},
     "nuid": "47c7fb9b-5d44-4aca-b43d-855b46b7fc7c",
     "showTitle": false,
     "tableResultSettingsMap": {},
     "title": ""
    }
   },
   "source": [
    "##4.1 Refined Parameters"
   ]
  },
  {
   "cell_type": "code",
   "execution_count": 0,
   "metadata": {
    "application/vnd.databricks.v1+cell": {
     "cellMetadata": {
      "byteLimit": 2048000,
      "rowLimit": 10000
     },
     "inputWidgets": {},
     "nuid": "35eb463b-4497-4ad3-b249-050861763c84",
     "showTitle": false,
     "tableResultSettingsMap": {},
     "title": ""
    }
   },
   "outputs": [],
   "source": [
    "UpdatednRealizations=2000"
   ]
  },
  {
   "cell_type": "code",
   "execution_count": 0,
   "metadata": {
    "application/vnd.databricks.v1+cell": {
     "cellMetadata": {
      "byteLimit": 2048000,
      "rowLimit": 10000
     },
     "inputWidgets": {},
     "nuid": "8bbf99d0-971f-405e-ac12-0436bd30d4c5",
     "showTitle": false,
     "tableResultSettingsMap": {},
     "title": ""
    }
   },
   "outputs": [],
   "source": [
    "# Porosity in percent\n",
    "UpdatedPorosityPercentMin=3.\n",
    "UpdatedPorosityPercentMax=15.\n",
    "\n",
    "# Permeability in millidarcies\n",
    "UpdatedPermMDMin=10.\n",
    "UpdatedPermMDMax=500.\n",
    "\n",
    "# Thickness in feet\n",
    "UpdatedThicknessFTMin=500.\n",
    "UpdatedThicknessFTMax=1200.\n",
    "\n",
    "# Vertical compressibility minimum/maximum (1/Pa)\n",
    "UpdatedVerticalCompressibilityMin=0.00000000107\n",
    "UpdatedVerticalCompressibilityMax=0.00000000109"
   ]
  },
  {
   "cell_type": "code",
   "execution_count": 0,
   "metadata": {
    "application/vnd.databricks.v1+cell": {
     "cellMetadata": {
      "byteLimit": 2048000,
      "rowLimit": 10000
     },
     "inputWidgets": {},
     "nuid": "b868997f-6c3a-48bb-85a8-ac8ad18bc1ac",
     "showTitle": false,
     "tableResultSettingsMap": {},
     "title": ""
    }
   },
   "outputs": [],
   "source": [
    "# Verbosity - 0=silent, 1=some, 2=lots\n",
    "verb=0\n",
    "# Minimum Pressure change to care about in PSI\n",
    "dPCutoff=0.5\n",
    "# Maximum Number of wells to plot\n",
    "nWells=50\n",
    "# How far back in time to plot in years\n",
    "minYear=-40"
   ]
  },
  {
   "cell_type": "code",
   "execution_count": 0,
   "metadata": {
    "application/vnd.databricks.v1+cell": {
     "cellMetadata": {
      "byteLimit": 2048000,
      "rowLimit": 10000
     },
     "inputWidgets": {},
     "nuid": "3e60dcff-1a4e-4700-baa5-fb782268adf3",
     "showTitle": false,
     "tableResultSettingsMap": {},
     "title": ""
    }
   },
   "outputs": [],
   "source": [
    "gist2=gi.gistMC(nReal=UpdatednRealizations,\n",
    "                ntBin=nTimeBins)\n",
    "gist2.initPP(rho0_min=WaterDensityMin,\n",
    "             rho0_max=WaterDensityMax,\n",
    "             phi_min=UpdatedPorosityPercentMin,\n",
    "             phi_max=UpdatedPorosityPercentMax,\n",
    "             kMD_min=UpdatedPermMDMin,\n",
    "             kMD_max=UpdatedPermMDMax,\n",
    "             h_min=UpdatedThicknessFTMin,\n",
    "             h_max=UpdatedThicknessFTMax,\n",
    "             alphav_min=VerticalCompressibilityMin,\n",
    "             alphav_max=VerticalCompressibilityMax,\n",
    "             beta_min=FluidCompressibilityMin,\n",
    "             beta_max=FluidCompressibilityMax)"
   ]
  },
  {
   "cell_type": "markdown",
   "metadata": {
    "application/vnd.databricks.v1+cell": {
     "cellMetadata": {
      "byteLimit": 2048000,
      "rowLimit": 10000
     },
     "inputWidgets": {},
     "nuid": "b4a85775-2c94-4974-bbba-f870e73ffaf3",
     "showTitle": false,
     "tableResultSettingsMap": {},
     "title": ""
    }
   },
   "source": [
    "##4.2 Updated Disposal Rates"
   ]
  },
  {
   "cell_type": "code",
   "execution_count": 0,
   "metadata": {
    "application/vnd.databricks.v1+cell": {
     "cellMetadata": {
      "byteLimit": 2048000,
      "rowLimit": 10000
     },
     "inputWidgets": {},
     "nuid": "b89350ab-7c92-4d61-910f-2cb36fffc3b4",
     "showTitle": false,
     "tableResultSettingsMap": {},
     "title": ""
    }
   },
   "outputs": [],
   "source": [
    "gist2.addWells(updatedWellsFile,updatedInjFile,verbose=verb)"
   ]
  },
  {
   "cell_type": "code",
   "execution_count": 0,
   "metadata": {
    "application/vnd.databricks.v1+cell": {
     "cellMetadata": {
      "byteLimit": 2048000,
      "rowLimit": 10000
     },
     "inputWidgets": {},
     "nuid": "11a88d17-8463-4caf-bf81-b1c8450c9725",
     "showTitle": false,
     "tableResultSettingsMap": {},
     "title": ""
    }
   },
   "outputs": [],
   "source": [
    "updatedSelectedWellsDF,updatedIgnoredWellsDF,updatedInjDF=gist2.findWells(eq,PE=False,verbose=verb)"
   ]
  },
  {
   "cell_type": "markdown",
   "metadata": {
    "application/vnd.databricks.v1+cell": {
     "cellMetadata": {
      "byteLimit": 2048000,
      "rowLimit": 10000
     },
     "inputWidgets": {},
     "nuid": "0669b1a8-331d-44f3-8a69-e4931e02493e",
     "showTitle": false,
     "tableResultSettingsMap": {},
     "title": ""
    }
   },
   "source": [
    "##4.3 Updated Run"
   ]
  },
  {
   "cell_type": "code",
   "execution_count": 0,
   "metadata": {
    "application/vnd.databricks.v1+cell": {
     "cellMetadata": {
      "byteLimit": 2048000,
      "rowLimit": 10000
     },
     "inputWidgets": {},
     "nuid": "d5a5d94a-f610-478a-b07f-7715bacca9e7",
     "showTitle": false,
     "tableResultSettingsMap": {},
     "title": ""
    }
   },
   "outputs": [],
   "source": [
    "updatedScenarioDF=gist2.runPressureScenarios(eq,updatedSelectedWellsDF,updatedInjDF,verbose=verb)"
   ]
  },
  {
   "cell_type": "code",
   "execution_count": 0,
   "metadata": {
    "application/vnd.databricks.v1+cell": {
     "cellMetadata": {
      "byteLimit": 2048000,
      "rowLimit": 10000
     },
     "inputWidgets": {},
     "nuid": "a6ffddf9-77dc-4bd0-b40e-b58b722b1b64",
     "showTitle": false,
     "tableResultSettingsMap": {},
     "title": ""
    }
   },
   "outputs": [],
   "source": [
    "updatedFilteredDF,updatedOrderedWellList=gi.summarizePPResults(updatedScenarioDF,updatedSelectedWellsDF,threshold=dPCutoff,nOrder=nWells,verbose=verb)\n",
    "updatedDisaggregationDF=gi.prepDisaggregationPlot(updatedFilteredDF,updatedOrderedWellList,jitter=0.1,verbose=0)\n",
    "updatedDiffRange=(min(gist2.diffPPVec),max(gist2.diffPPVec))\n",
    "updatedrtDF,updatedMergedWellsDF = gi.prepRTPlot(updatedSelectedWellsDF,updatedIgnoredWellsDF,minYear,updatedDiffRange,clipYear=False)\n",
    "updatedWinWellsDF,updatedWinInjDF=gi.getWinWells(updatedFilteredDF,updatedSelectedWellsDF,updatedInjDF)"
   ]
  },
  {
   "cell_type": "code",
   "execution_count": 0,
   "metadata": {
    "application/vnd.databricks.v1+cell": {
     "cellMetadata": {
      "byteLimit": 2048000,
      "rowLimit": 10000
     },
     "inputWidgets": {},
     "nuid": "115e5b8f-909a-4b0c-abdd-b207299c31c0",
     "showTitle": false,
     "tableResultSettingsMap": {},
     "title": ""
    }
   },
   "outputs": [],
   "source": [
    "updatedScenarioTSRDF,updatedDPTimeSeriesR,updatedWellIDsR,updatedDayVecR = gist2.runPressureScenariosTimeSeries(eq,updatedWinWellsDF,updatedWinInjDF,verbose=verb)"
   ]
  },
  {
   "cell_type": "code",
   "execution_count": 0,
   "metadata": {
    "application/vnd.databricks.v1+cell": {
     "cellMetadata": {
      "byteLimit": 2048000,
      "rowLimit": 10000
     },
     "inputWidgets": {},
     "nuid": "b6b6f222-e423-41cd-b2ff-c304466f8809",
     "showTitle": false,
     "tableResultSettingsMap": {},
     "title": ""
    }
   },
   "outputs": [
    {
     "output_type": "stream",
     "name": "stdout",
     "output_type": "stream",
     "text": [
      "prepTotalPressureTimeSeriesPlot: deltaPP.shape= (18, 2000, 1414)  dayVec.shape= (1414,)\nprepTotalPressureTimeSeriesPlot: totalDeltaPP.shape= (2000, 1414)\nprepTotalPressureTimeSeriesPlot: quantiles: [0.0, 10.0, 20.0, 30.0, 40.0, 50.0, 60.0, 70.0, 80.0, 90.0, 100.0]\n"
     ]
    }
   ],
   "source": [
    "updatedTotalPPQuantilesDF=gi.prepTotalPressureTimeSeriesPlot(updatedDPTimeSeriesR,updatedDayVecR,nQuantiles=11,epoch=pd.to_datetime('1970-01-01'),verbose=1)\n",
    "updatedAllPPQuantilesDF=gi.getPerWellPressureTimeSeriesQuantiles(updatedDPTimeSeriesR,updatedDayVecR,updatedWellIDsR,nQuantiles=11,epoch=pd.to_datetime('01-01-1970'))\n",
    "updatedWellPressureDict=gi.prepPressureAndDisposalTimeSeriesPlots(updatedAllPPQuantilesDF,winWellsDF,winInjDF,orderedWellList[:-1],verbose=0)"
   ]
  },
  {
   "cell_type": "code",
   "execution_count": 0,
   "metadata": {
    "application/vnd.databricks.v1+cell": {
     "cellMetadata": {
      "byteLimit": 2048000,
      "rowLimit": 10000
     },
     "inputWidgets": {},
     "nuid": "fbd05875-ad98-40f5-8082-2e8c3b8e3444",
     "showTitle": false,
     "tableResultSettingsMap": {},
     "title": ""
    }
   },
   "outputs": [],
   "source": [
    "updatedSensitivityDF,updatedSensitivitySumDF = gist2.getPressureSensitivity(updatedWinInjDF,updatedWinWellsDF,eq)"
   ]
  },
  {
   "cell_type": "markdown",
   "metadata": {
    "application/vnd.databricks.v1+cell": {
     "cellMetadata": {
      "byteLimit": 2048000,
      "rowLimit": 10000
     },
     "inputWidgets": {},
     "nuid": "90f5d10a-0751-4d37-bfb0-45ca2a1c958e",
     "showTitle": false,
     "tableResultSettingsMap": {},
     "title": ""
    }
   },
   "source": [
    "##4.4 Updated Run Output"
   ]
  },
  {
   "cell_type": "code",
   "execution_count": 0,
   "metadata": {
    "application/vnd.databricks.v1+cell": {
     "cellMetadata": {
      "byteLimit": 2048000,
      "rowLimit": 10000
     },
     "inputWidgets": {},
     "nuid": "da549c2e-8046-48f5-9b2e-3a934f27a9cb",
     "showTitle": false,
     "tableResultSettingsMap": {},
     "title": ""
    }
   },
   "outputs": [],
   "source": [
    "gist2.writeRealizations(updatedRunIntervalPath+'PorePressureRealizations.csv')\n",
    "updatedScenarioDF.to_csv(updatedRunIntervalPath+'scenarios.csv')\n",
    "updatedFilteredDF.to_csv(updatedRunIntervalPath+'filteredScenarios.csv')\n",
    "pd.Series(data=updatedOrderedWellList).to_csv(updatedRunIntervalPath+'wellOrder.csv')\n",
    "updatedMergedWellsDF.to_csv(updatedRunIntervalPath+'RTwells.csv')\n",
    "updatedrtDF.to_csv(updatedRunIntervalPath+'RTDF.csv')\n",
    "updatedDisaggregationDF.to_csv(updatedRunIntervalPath+'disaggregation.csv')\n",
    "updatedTotalPPQuantilesDF.to_csv(updatedRunIntervalPath+'totalPPQuantiles.csv')"
   ]
  },
  {
   "cell_type": "code",
   "execution_count": 0,
   "metadata": {
    "application/vnd.databricks.v1+cell": {
     "cellMetadata": {
      "byteLimit": 2048000,
      "rowLimit": 10000
     },
     "inputWidgets": {},
     "nuid": "0927d597-a057-4304-83a5-ffe325ff17fa",
     "showTitle": false,
     "tableResultSettingsMap": {},
     "title": ""
    }
   },
   "outputs": [
    {
     "output_type": "stream",
     "name": "stdout",
     "output_type": "stream",
     "text": [
      "well 0 , ID: 2121094  completed\nwell 1 , ID: 2121271  completed\nwell 2 , ID: 2123938  completed\nwell 3 , ID: 2117885  completed\nwell 4 , ID: 2111946  completed\nwell 5 , ID: 2109094  completed\nwell 6 , ID: 2116501  completed\nwell 7 , ID: 2112288  completed\nwell 8 , ID: 2081404  completed\nwell 9 , ID: 2114817  completed\nwell 10 , ID: 2112104  completed\nwell 11 , ID: 2111358  completed\nwell 12 , ID: 2121191  completed\nwell 13 , ID: 2056720  completed\nwell 14 , ID: 2113898  completed\nwell 15 , ID: 2111690  completed\nwell 16 , ID: 2118993  completed\nwell 17 , ID: 2121195  completed\nwell 18 , ID: 2120454  completed\nwell 19 , ID: 2117633  completed\nwell 20 , ID: 2112172  completed\nwell 21 , ID: 2081279  completed\nwell 22 , ID: 2121203  completed\nwell 23 , ID: 2112058  completed\nwell 24 , ID: 2105036  completed\nwell 25 , ID: 2120859  completed\nwell 26 , ID: 2064982  completed\nwell 27 , ID: 2119049  completed\nwell 28 , ID: 2120980  completed\nwell 29 , ID: 2123953  completed\nwell 30 , ID: 2051824  completed\nwell 31 , ID: 2121715  completed\nwell 32 , ID: 2110718  completed\nwell 33 , ID: 2112198  completed\nwell 34 , ID: 2048738  completed\nwell 35 , ID: 2108688  completed\nwell 36 , ID: 2119358  completed\nwell 37 , ID: 2110592  completed\nwell 38 , ID: 2118517  completed\n"
     ]
    }
   ],
   "source": [
    "i=0\n",
    "for wellDictKey, wellDictValue in updatedWellPressureDict.items():\n",
    "  wellID=wellDictValue['WellInfo']['ID'].to_list()[0]\n",
    "  wellFilePrefix='/perWell/well_'+str(i)+'_'\n",
    "  wellDictValue['PPQuantiles'].to_csv(updatedRunIntervalPath+wellFilePrefix+'PPQuantiles.csv')\n",
    "  wellDictValue['Disposal'].to_csv(updatedRunIntervalPath+wellFilePrefix+'Disposal.csv')\n",
    "  wellDictValue['WellInfo'].to_csv(updatedRunIntervalPath+wellFilePrefix+'WellInfo.csv')\n",
    "  print('well',i,', ID:',wellID,' completed')\n",
    "  i=i+1"
   ]
  },
  {
   "cell_type": "code",
   "execution_count": 0,
   "metadata": {
    "application/vnd.databricks.v1+cell": {
     "cellMetadata": {
      "byteLimit": 2048000,
      "rowLimit": 10000
     },
     "inputWidgets": {},
     "nuid": "70764a9d-1c57-494f-9525-9e29f7e63de3",
     "showTitle": false,
     "tableResultSettingsMap": {},
     "title": ""
    }
   },
   "outputs": [],
   "source": [
    "updatedScenarioTSRDF.to_csv(updatedRunIntervalPath+'materialScenariosR.csv')\n",
    "np.savez_compressed(updatedRunIntervalPath+'timeSeriesR.npz', deltaPP=updatedDPTimeSeriesR,dayVec=updatedDayVecR,wellIDs=updatedWellIDsR)\n",
    "updatedSensitivityDF.to_csv(updatedRunIntervalPath+'sensitivity.csv')\n",
    "updatedSensitivitySumDF.to_csv(updatedRunIntervalPath+'sensitivitySum.csv')\n",
    "#rateDF.to_csv(updatedRunIntervalPath+'rates.csv')"
   ]
  },
  {
   "cell_type": "markdown",
   "metadata": {
    "application/vnd.databricks.v1+cell": {
     "cellMetadata": {
      "byteLimit": 2048000,
      "rowLimit": 10000
     },
     "inputWidgets": {},
     "nuid": "e63abde2-7d3f-4c01-ade5-de5c31ba1d7f",
     "showTitle": false,
     "tableResultSettingsMap": {},
     "title": ""
    }
   },
   "source": [
    "#5. Forecast"
   ]
  },
  {
   "cell_type": "markdown",
   "metadata": {
    "application/vnd.databricks.v1+cell": {
     "cellMetadata": {
      "byteLimit": 2048000,
      "rowLimit": 10000
     },
     "inputWidgets": {},
     "nuid": "7af6568e-1e85-44aa-b2b6-00b16c5f31bd",
     "showTitle": false,
     "tableResultSettingsMap": {},
     "title": ""
    }
   },
   "source": [
    "##5.1 Input Forecast Times"
   ]
  },
  {
   "cell_type": "code",
   "execution_count": 0,
   "metadata": {
    "application/vnd.databricks.v1+cell": {
     "cellMetadata": {
      "byteLimit": 2048000,
      "rowLimit": 10000
     },
     "inputWidgets": {},
     "nuid": "1e033dd1-f2f9-4d00-928d-17579ba08ba5",
     "showTitle": true,
     "tableResultSettingsMap": {},
     "title": "Forecast Time"
    }
   },
   "outputs": [],
   "source": [
    "# End Year of time series forecast\n",
    "EndYear=2030\n",
    "# Time to calculate rate distributions\n"
   ]
  },
  {
   "cell_type": "markdown",
   "metadata": {
    "application/vnd.databricks.v1+cell": {
     "cellMetadata": {
      "byteLimit": 2048000,
      "rowLimit": 10000
     },
     "inputWidgets": {},
     "nuid": "4e27714c-dfe3-4c70-94d2-0010cf48ca45",
     "showTitle": false,
     "tableResultSettingsMap": {},
     "title": ""
    }
   },
   "source": [
    "##5.2 Distributions of rates for each well"
   ]
  },
  {
   "cell_type": "code",
   "execution_count": 0,
   "metadata": {
    "application/vnd.databricks.v1+cell": {
     "cellMetadata": {
      "byteLimit": 2048000,
      "rowLimit": 10000
     },
     "inputWidgets": {},
     "nuid": "2571077c-67fe-4382-947c-2732bf1bfd15",
     "showTitle": true,
     "tableResultSettingsMap": {},
     "title": "Recalculate Well Selection"
    }
   },
   "outputs": [
    {
     "output_type": "stream",
     "name": "stdout",
     "output_type": "stream",
     "text": [
      "     Unnamed: 0       ID  ...         EventID  TotalBBL\n278         186  1007808  ...  texnet2024oqfb       0.0\n279         224  1004456  ...  texnet2024oqfb       0.0\n280         229  1004722  ...  texnet2024oqfb       0.0\n282         333  1004337  ...  texnet2024oqfb       0.0\n283         334  1004455  ...  texnet2024oqfb       0.0\n..          ...      ...  ...             ...       ...\n454        2304  2112378  ...  texnet2024oqfb       0.0\n455        2305  2120653  ...  texnet2024oqfb       0.0\n456        2306  2120087  ...  texnet2024oqfb       0.0\n457        2307  2120302  ...  texnet2024oqfb       0.0\n458        2313  2118758  ...  texnet2024oqfb       0.0\n\n[162 rows x 71 columns]\n"
     ]
    }
   ],
   "source": [
    "# Rerun select wells with an updated earthquake time set to the last day of EndYear\n",
    "future=eq.copy()\n",
    "future['Origin Date']=pd.to_datetime('12-31-'+str(EndYear))\n",
    "forecastSelectedWellsDF,forecastIgnoredWellsDF,forecastInitialInjDF=gist2.findWells(future,PE=False,verbose=verb)\n",
    "# Merge udpated well dataframe with prior unselected wells\n",
    "addedWellsDF=forecastSelectedWellsDF[~forecastSelectedWellsDF['InjectionWellId'].isin(updatedSelectedWellsDF['InjectionWellId'])]\n",
    "print(addedWellsDF)\n",
    "forecastSelectedWellsDF['Added']=False\n",
    "forecastSelectedWellsDF.loc[forecastSelectedWellsDF['InjectionWellId'].isin(addedWellsDF['InjectionWellId']),'Added']=True\n",
    "# Re-generate an R-T plot here. Should it have two sets of curves?\n",
    "# We need a column for wells that are newly added - \n",
    "\n",
    "\n",
    "forecastRTDF,forecastMergedWellsDF = gi.prepRTPlot(forecastSelectedWellsDF,forecastIgnoredWellsDF,minYear,diffRange,clipYear=False)\n"
   ]
  },
  {
   "cell_type": "code",
   "execution_count": 0,
   "metadata": {
    "application/vnd.databricks.v1+cell": {
     "cellMetadata": {
      "byteLimit": 2048000,
      "rowLimit": 10000
     },
     "inputWidgets": {},
     "nuid": "991a431b-fe1f-4cc3-b913-b625879b09d2",
     "showTitle": true,
     "tableResultSettingsMap": {},
     "title": "Output forecast RT Plot"
    }
   },
   "outputs": [],
   "source": [
    "forecastMergedWellsDF.to_csv(forecastRunIntervalPath+'forecastRTwells.csv')\n",
    "forecastRTDF.to_csv(forecastRunIntervalPath+'forecastRTDF.csv')\n",
    "forecastInitialInjDF.to_csv(forecastRunIntervalPath+'forecastInitialInjDF.csv')"
   ]
  },
  {
   "cell_type": "code",
   "execution_count": 0,
   "metadata": {
    "application/vnd.databricks.v1+cell": {
     "cellMetadata": {
      "byteLimit": 2048000,
      "rowLimit": 10000
     },
     "inputWidgets": {},
     "nuid": "c482f5ad-9883-4c96-92cd-22df245d45a8",
     "showTitle": true,
     "tableResultSettingsMap": {},
     "title": "Create Distribution of Per-Well Disposal Rates"
    }
   },
   "outputs": [],
   "source": [
    "# I need new code here that calculates the time derivatives at a future point\n",
    "# TDTD0DF= gist.getTHTD0(newSelectedWellsDF,injDF,future,verb)"
   ]
  },
  {
   "cell_type": "code",
   "execution_count": 0,
   "metadata": {
    "application/vnd.databricks.v1+cell": {
     "cellMetadata": {
      "byteLimit": 2048000,
      "rowLimit": 10000
     },
     "inputWidgets": {},
     "nuid": "bc0b5c44-d531-4559-b8a9-9177a4619895",
     "showTitle": false,
     "tableResultSettingsMap": {},
     "title": ""
    }
   },
   "outputs": [
    {
     "output_type": "stream",
     "name": "stdout",
     "output_type": "stream",
     "text": [
      "Index(['MARIENFELD 13 1D', 'ANNALEA SWD 1', 'PALO VERDE 1', 'FAUDREE 1D',\n       'NEPTUNE SWD 1', 'DICKENSON 20 8D', 'CORFU SWD 1', 'SALE RANCH 27 1DD',\n       'PAT, K. 3', 'SALT LAKE SWD 1', 'LIMEQUEST 6 SWD 1D',\n       'MCMORRIES 18 SWD 2D', 'PENROSE-OLDHAM SWD 2', 'BERRY SWD 1',\n       'DAGGER LAKE SWD 08SD', 'MARBILL SWD 1', 'NAIL RANCH \\\"36\\\" 1D',\n       'BROWN SWD 1'],\n      dtype='object', name='Name')\nMARIENFELD 13 1D  ID: 2121094\nANNALEA SWD 1  ID: 2121271\nPALO VERDE 1  ID: 2123938\nFAUDREE 1D  ID: 2117885\nNEPTUNE SWD 1  ID: 2111946\nDICKENSON 20 8D  ID: 2109094\nCORFU SWD 1  ID: 2116501\nSALE RANCH 27 1DD  ID: 2112288\nPAT, K. 3  ID: 2081404\nSALT LAKE SWD 1  ID: 2114817\nLIMEQUEST 6 SWD 1D  ID: 2112104\nMCMORRIES 18 SWD 2D  ID: 2111358\nPENROSE-OLDHAM SWD 2  ID: 2056720\nBERRY SWD 1  ID: 2121191\nDAGGER LAKE SWD 08SD  ID: 2113898\nMARBILL SWD 1  ID: 2111690\nNAIL RANCH \\\"36\\\" 1D  ID: 2118993\nBROWN SWD 1  ID: 2093925\n"
     ]
    }
   ],
   "source": [
    "# Get ordered well IDs from orderedWellList[:-1]\n",
    "print(updatedOrderedWellList[:-1])\n",
    "forecastWellIDList=[]\n",
    "for wellName in updatedOrderedWellList[:-1]:\n",
    "  wellID=forecastMergedWellsDF[forecastMergedWellsDF['WellName']==wellName]['ID'].to_list()[0]\n",
    "  print(wellName,' ID:',wellID)\n",
    "  forecastWellIDList.append(wellID)"
   ]
  },
  {
   "cell_type": "code",
   "execution_count": 0,
   "metadata": {
    "application/vnd.databricks.v1+cell": {
     "cellMetadata": {
      "byteLimit": 2048000,
      "rowLimit": 10000
     },
     "inputWidgets": {},
     "nuid": "803d2442-85ce-4d84-a546-9fe15bcf5132",
     "showTitle": false,
     "tableResultSettingsMap": {},
     "title": ""
    }
   },
   "outputs": [
    {
     "output_type": "stream",
     "name": "stdout",
     "output_type": "stream",
     "text": [
      "{2121094: 10000.0, 2121271: 10000.0, 2123938: 10000.0, 2117885: 10000.0, 2111946: 10000.0, 2109094: 10000.0, 2116501: 10000.0, 2112288: 10000.0, 2081404: 10000.0, 2114817: 10000.0, 2112104: 10000.0, 2111358: 10000.0, 2056720: 10000.0, 2121191: 10000.0, 2113898: 10000.0, 2111690: 10000.0, 2118993: 10000.0, 2093925: 10000.0}\n"
     ]
    }
   ],
   "source": [
    "# Put in new rates\n",
    "rateDict=dict(zip(forecastWellIDList,[10000.]*len(forecastWellIDList)))\n",
    "print(rateDict)"
   ]
  },
  {
   "cell_type": "code",
   "execution_count": 0,
   "metadata": {
    "application/vnd.databricks.v1+cell": {
     "cellMetadata": {
      "byteLimit": 2048000,
      "rowLimit": 10000
     },
     "inputWidgets": {},
     "nuid": "6decbb12-e55d-4577-aadf-1335449adbfa",
     "showTitle": true,
     "tableResultSettingsMap": {},
     "title": "Set Future Well Rates"
    }
   },
   "outputs": [
    {
     "output_type": "stream",
     "name": "stdout",
     "output_type": "stream",
     "text": [
      "lastDay:  20100\n<class 'pandas.core.frame.DataFrame'>\nRangeIndex: 459 entries, 0 to 458\nData columns (total 71 columns):\n #   Column                                                   Non-Null Count  Dtype  \n---  ------                                                   --------------  -----  \n 0   Unnamed: 0                                               459 non-null    int64  \n 1   ID                                                       459 non-null    int64  \n 2   InjectionWellId                                          459 non-null    int64  \n 3   UniqueWellIdentifier                                     459 non-null    int64  \n 4   UICNumber                                                433 non-null    object \n 5   APINumber                                                459 non-null    object \n 6   LeaseName                                                437 non-null    object \n 7   Operator                                                 458 non-null    object \n 8   OperatorType                                             365 non-null    object \n 9   OperatorPrincipalCompany                                 458 non-null    object \n 10  OperatorPrincipalCompanyType                             384 non-null    object \n 11  WellName                                                 459 non-null    object \n 12  WellNumber                                               459 non-null    object \n 13  State                                                    459 non-null    object \n 14  Basin                                                    449 non-null    object \n 15  County                                                   459 non-null    object \n 16  District                                                 459 non-null    object \n 17  SRAOrSIR                                                 260 non-null    object \n 18  B3InjectionType                                          459 non-null    object \n 19  B3InjectionStatus                                        459 non-null    object \n 20  RegulatoryInjectionType                                  459 non-null    object \n 21  PermittedMaxLiquidBPD                                    432 non-null    float64\n 22  PermittedMaxLiquidPSIG                                   457 non-null    float64\n 23  PermittedMaxGasMCFPerDay                                 419 non-null    float64\n 24  PermittedMaxGasPSIG                                      44 non-null     float64\n 25  PermittedCommercialStatus                                433 non-null    object \n 26  PermittedIntervalTopFt                                   431 non-null    float64\n 27  PermittedIntervalBottomFt                                431 non-null    float64\n 28  InjectionClass                                           459 non-null    object \n 29  PermitStage                                              459 non-null    object \n 30  PermittedWellDepthClassification                         431 non-null    object \n 31  DaysApplicationHasBeenInReview                           14 non-null     float64\n 32  DaysToPermitApproval                                     310 non-null    float64\n 33  PermitIsAmendment                                        433 non-null    object \n 34  PendingApplicationIsAmendment                            14 non-null     object \n 35  PendingApplicationRequestedCommercialStatus              14 non-null     object \n 36  PendingApplicationRequestedIntervalTopFt                 14 non-null     float64\n 37  PendingApplicationRequestedIntervalBottomFt              14 non-null     float64\n 38  PendingApplicationRequestedMaxLiquidBPD                  14 non-null     float64\n 39  PendingApplicationRequestedMaxLiquidPSIG                 14 non-null     float64\n 40  PendingApplicationRequestedMaxGasMCFPerDay               2 non-null      float64\n 41  PendingApplicationRequestedMaxGasPSIG                    2 non-null      float64\n 42  PendingApplicationRequestedOperator                      14 non-null     object \n 43  PendingApplicationRequestedOperatorType                  10 non-null     object \n 44  PendingApplicationRequestedOperatorPrincipalCompany      14 non-null     object \n 45  PendingApplicationRequestedOperatorPrincipalCompanyType  11 non-null     object \n 46  PendingApplicationRequestedWellDepthClassification       14 non-null     object \n 47  CompletedWellDepthClassification                         450 non-null    object \n 48  CompletionAndDrillingPermitStatus                        459 non-null    object \n 49  StartDate                                                459 non-null    object \n 50  TotalVerticalDepthFt                                     426 non-null    float64\n 51  MeasuredDepthFt                                          457 non-null    float64\n 52  WellboreOrientation                                      429 non-null    object \n 53  IsOpenHole                                               433 non-null    object \n 54  SurfaceHoleElevationFt                                   397 non-null    float64\n 55  SurfaceHoleLatitude                                      459 non-null    float64\n 56  SurfaceHoleLongitude                                     459 non-null    float64\n 57  SurfaceHoleGeographySource                               459 non-null    object \n 58  SurveyLinesDescription                                   441 non-null    object \n 59  B3RecordAddedUTCDateTime                                 459 non-null    object \n 60  B3RecordUpdatedUTCDateTime                               435 non-null    object \n 61  B3RecordDeletedUTCDateTime                               0 non-null      float64\n 62  Distances                                                459 non-null    float64\n 63  DXs                                                      459 non-null    float64\n 64  DYs                                                      459 non-null    float64\n 65  DDRatio                                                  459 non-null    float64\n 66  YearsInjecting                                           459 non-null    float64\n 67  EncompassingDay                                          459 non-null    float64\n 68  EncompassingDiffusivity                                  459 non-null    float64\n 69  EventID                                                  459 non-null    object \n 70  TotalBBL                                                 459 non-null    float64\ndtypes: float64(28), int64(4), object(39)\nmemory usage: 254.7+ KB\nNone\n1007324\nno data - zeroes\n1004617\nno data - zeroes\n1007325\nno data - zeroes\n1007326\nno data - zeroes\n2078251\nextrapolated  0.0\n2080714\nextrapolated  0.0\n2079858\nextrapolated  0.0\n2079878\nextrapolated  0.0\n2077198\nextrapolated  0.0\n2081262\nextrapolated  0.0\n2081279\nextrapolated  2179.0\n2077335\nextrapolated  0.0\n2084245\nextrapolated  0.0\n2083389\nextrapolated  0.0\n2083417\nextrapolated  0.0\n2083106\nno data - zeroes\n2083214\nno data - zeroes\n2085332\nno data - zeroes\n2085423\nextrapolated  0.0\n2084091\nextrapolated  0.0\n2086897\nextrapolated  2108.0\n2086098\nextrapolated  0.0\n2087824\nextrapolated  0.0\n2088381\nextrapolated  0.0\n2086294\nextrapolated  0.0\n2086664\nextrapolated  0.0\n2089131\nno data - zeroes\n2088664\nno data - zeroes\n2090790\nextrapolated  0.0\n2091330\nextrapolated  0.0\n2096093\nno data - zeroes\n2097009\nno data - zeroes\n2100538\nextrapolated  0.0\n2098949\nextrapolated  0.0\n2099183\nextrapolated  0.0\n2100310\nextrapolated  0.0\n2107545\nno data - zeroes\n2105036\nextrapolated  0.0\n2111004\nextrapolated  0.0\n2110195\nextrapolated  0.0\n2112042\nextrapolated  0.0\n2112104\nset  2112104 10000.0\n2112591\nextrapolated  0.0\n2111690\nset  2111690 10000.0\n2111864\nextrapolated  0.0\n2112175\nextrapolated  0.0\n2112172\nextrapolated  0.0\n2113672\nextrapolated  0.0\n2112198\nextrapolated  0.0\n2111946\nset  2111946 10000.0\n2111968\nextrapolated  0.0\n2111988\nextrapolated  0.0\n2112288\nset  2112288 10000.0\n2113898\nset  2113898 10000.0\n2114823\nextrapolated  0.0\n2117616\nextrapolated  0.0\n2118059\nno data - zeroes\n2117633\nextrapolated  0.0\n2119505\nextrapolated  0.0\n2120827\nextrapolated  0.0\n2120859\nextrapolated  0.0\n2117885\nset  2117885 10000.0\n2119978\nextrapolated  0.0\n2120624\nextrapolated  0.0\n2118839\nno data - zeroes\n2119705\nno data - zeroes\n2120980\nextrapolated  5436.0\n2118993\nset  2118993 10000.0\n2121001\nextrapolated  0.0\n2121323\nextrapolated  0.0\n2119799\nextrapolated  0.0\n2121094\nset  2121094 10000.0\n2121097\nextrapolated  0.0\n2121129\nextrapolated  0.0\n2119049\nextrapolated  0.0\n2121322\nno data - zeroes\n2121191\nset  2121191 10000.0\n2121203\nextrapolated  0.0\n2121181\nextrapolated  0.0\n2121206\nextrapolated  0.0\n2121715\nextrapolated  0.0\n2119358\nextrapolated  0.0\n2126182\nextrapolated  1159.0\n2118517\nextrapolated  0.0\n2119465\nextrapolated  0.0\n2121854\nextrapolated  0.0\n2120298\nextrapolated  0.0\n2120225\nextrapolated  0.0\n2123938\nset  2123938 10000.0\n2123953\nextrapolated  0.0\n2048778\nextrapolated  0.0\n2051023\nextrapolated  0.0\n2049556\nno data - zeroes\n2051992\nextrapolated  0.0\n2048071\nextrapolated  0.0\n2051824\nextrapolated  0.0\n2058336\nextrapolated  0.0\n2056815\nextrapolated  0.0\n2060119\nextrapolated  0.0\n2061263\nextrapolated  0.0\n2061363\nno data - zeroes\n2059655\nextrapolated  0.0\n2063951\nno data - zeroes\n2070385\nextrapolated  0.0\n2075160\nno data - zeroes\n2075271\nextrapolated  0.0\n2077360\nextrapolated  0.0\n2076053\nno data - zeroes\n2079362\nextrapolated  0.0\n2040482\nextrapolated  0.0\n2041073\nextrapolated  0.0\n2043404\nextrapolated  0.0\n2009309\nextrapolated  0.0\n2012806\nextrapolated  0.0\n2014156\nno data - zeroes\n2018989\nno data - zeroes\n2018967\nextrapolated  0.0\n2048782\nextrapolated  0.0\n2052644\nextrapolated  0.0\n2064744\nextrapolated  0.0\n2116251\nextrapolated  0.0\n2118849\nextrapolated  0.0\n2121271\nset  2121271 10000.0\n2119988\nextrapolated  0.0\n2119747\nextrapolated  3480.0\n2120531\nno data - zeroes\n2119704\nextrapolated  0.0\n2120101\nextrapolated  0.0\n2119424\nno data - zeroes\n2121111\nextrapolated  0.0\n2099360\nextrapolated  0.0\n2107405\nextrapolated  0.0\n2109094\nset  2109094 10000.0\n2112307\nextrapolated  0.0\n2110592\nextrapolated  0.0\n2109578\nextrapolated  0.0\n2113042\nextrapolated  10926.0\n2116501\nset  2116501 10000.0\n2111402\nextrapolated  0.0\n2076984\nextrapolated  0.0\n2081404\nset  2081404 10000.0\n2096222\nextrapolated  0.0\n2052077\nextrapolated  0.0\n2059905\nextrapolated  0.0\n2071968\nextrapolated  0.0\n2048738\nextrapolated  0.0\n2009790\nno data - zeroes\n2010039\nno data - zeroes\n2009788\nextrapolated  0.0\n2009815\nno data - zeroes\n2012804\nextrapolated  1530.0\n2015612\nextrapolated  0.0\n2015971\nextrapolated  0.0\n2112489\nextrapolated  0.0\n2120615\nextrapolated  0.0\n2090964\nextrapolated  0.0\n2015972\nextrapolated  0.0\n2016004\nno data - zeroes\n2074811\nextrapolated  785.0\n2081848\nextrapolated  0.0\n2110718\nextrapolated  0.0\n2111922\nextrapolated  0.0\n2069582\nextrapolated  0.0\n2105142\nextrapolated  0.0\n2042411\nno data - zeroes\n2120454\nextrapolated  0.0\n2009592\nno data - zeroes\n2111358\nset  2111358 10000.0\n2079881\nextrapolated  0.0\n2079920\nextrapolated  0.0\n2081289\nextrapolated  0.0\n2080511\nextrapolated  0.0\n2083826\nextrapolated  0.0\n2081915\nno data - zeroes\n2085809\nextrapolated  0.0\n2082443\nextrapolated  0.0\n2086621\nno data - zeroes\n2088254\nextrapolated  0.0\n2086685\nextrapolated  0.0\n2088942\nextrapolated  0.0\n2089412\nextrapolated  0.0\n2088016\nextrapolated  0.0\n2091943\nextrapolated  0.0\n2092926\nno data - zeroes\n2093824\nextrapolated  0.0\n2092595\nextrapolated  0.0\n2092708\nextrapolated  0.0\n2092746\nextrapolated  0.0\n2093925\nset  2093925 10000.0\n2094002\nextrapolated  0.0\n2094582\nextrapolated  0.0\n2095040\nextrapolated  0.0\n2096723\nextrapolated  0.0\n2097236\nno data - zeroes\n2097347\nextrapolated  0.0\n2098828\nextrapolated  0.0\n2098691\nextrapolated  289.0\n2100192\nextrapolated  0.0\n2100217\nextrapolated  0.0\n2102598\nextrapolated  0.0\n2105351\nextrapolated  0.0\n2108813\nextrapolated  0.0\n2106576\nextrapolated  0.0\n2106595\nextrapolated  0.0\n2109346\nextrapolated  0.0\n2109839\nextrapolated  0.0\n2111485\nno data - zeroes\n2108387\nno data - zeroes\n2111387\nextrapolated  0.0\n2112058\nextrapolated  1874.0\n2111437\nno data - zeroes\n2114817\nset  2114817 10000.0\n2117601\nno data - zeroes\n2116381\nextrapolated  0.0\n2120442\nno data - zeroes\n2119560\nextrapolated  0.0\n2118801\nno data - zeroes\n2120635\nextrapolated  0.0\n2118851\nextrapolated  0.0\n2118869\nno data - zeroes\n2118911\nno data - zeroes\n2118838\nextrapolated  0.0\n2120923\nextrapolated  0.0\n2119809\nextrapolated  0.0\n2119807\nextrapolated  0.0\n2119276\nextrapolated  18.0\n2121199\nextrapolated  0.0\n2119295\nextrapolated  0.0\n2119388\nextrapolated  0.0\n2119359\nextrapolated  0.0\n2120094\nno data - zeroes\n2120323\nextrapolated  0.0\n2048806\nextrapolated  0.0\n2051462\nextrapolated  0.0\n2050652\nextrapolated  0.0\n2051822\nextrapolated  0.0\n2055215\nextrapolated  0.0\n2056720\nset  2056720 10000.0\n2057815\nextrapolated  0.0\n2059093\nextrapolated  0.0\n2058589\nno data - zeroes\n2061734\nno data - zeroes\n2063779\nextrapolated  0.0\n2063435\nextrapolated  0.0\n2064982\nextrapolated  0.0\n2065535\nextrapolated  0.0\n2064232\nextrapolated  0.0\n2067332\nextrapolated  0.0\n2069425\nextrapolated  0.0\n2059918\nextrapolated  0.0\n2069868\nno data - zeroes\n2064515\nextrapolated  0.0\n2059952\nno data - zeroes\n2072348\nextrapolated  0.0\n2060015\nextrapolated  0.0\n2071236\nextrapolated  0.0\n2075137\nextrapolated  0.0\n2072223\nextrapolated  0.0\n2078030\nextrapolated  0.0\n2078570\nextrapolated  0.0\n2079008\nextrapolated  0.0\n2044698\nextrapolated  0.0\n2016279\nextrapolated  0.0\n2018880\nextrapolated  0.0\n2101067\nextrapolated  0.0\n2110544\nno data - zeroes\n2098938\nextrapolated  0.0\n2099101\nextrapolated  0.0\n2095425\nextrapolated  2475.0\n2108688\nextrapolated  0.0\n2076027\nextrapolated  164.0\n2009699\nno data - zeroes\n2012785\nextrapolated  0.0\n2087373\nextrapolated  107.0\n2119180\nextrapolated  0.0\n2059622\nextrapolated  0.0\n2095236\nextrapolated  0.0\n2121195\nextrapolated  10814.0\n1007808\nno data - zeroes\n1004456\nno data - zeroes\n1004722\nno data - zeroes\n1007566\nno data - zeroes\n1004337\nno data - zeroes\n1004455\nno data - zeroes\n1003824\nno data - zeroes\n1004552\nno data - zeroes\n1004326\nno data - zeroes\n1004511\nno data - zeroes\n1004594\nno data - zeroes\n1006280\nno data - zeroes\n1006281\nno data - zeroes\n1007345\nno data - zeroes\n1004340\nno data - zeroes\n1004550\nno data - zeroes\n1004553\nno data - zeroes\n1004603\nno data - zeroes\n1003930\nno data - zeroes\n1004551\nno data - zeroes\n1004203\nno data - zeroes\n1006458\nno data - zeroes\n2078938\nno data - zeroes\n2078992\nno data - zeroes\n2083672\nno data - zeroes\n2089360\nno data - zeroes\n2082680\nno data - zeroes\n2090834\nno data - zeroes\n2093611\nno data - zeroes\n2094735\nno data - zeroes\n2096949\nno data - zeroes\n2096223\nno data - zeroes\n2099704\nno data - zeroes\n2099158\nno data - zeroes\n2101840\nno data - zeroes\n2104352\nno data - zeroes\n2105399\nno data - zeroes\n2105922\nno data - zeroes\n2106015\nno data - zeroes\n2106155\nno data - zeroes\n2106820\nno data - zeroes\n2108311\nno data - zeroes\n2108283\nno data - zeroes\n2108259\nno data - zeroes\n2111797\nno data - zeroes\n2113707\nno data - zeroes\n2112249\nno data - zeroes\n2112227\nno data - zeroes\n2113834\nno data - zeroes\n2113956\nno data - zeroes\n2114930\nno data - zeroes\n2114949\nno data - zeroes\n2109286\nno data - zeroes\n2114597\nno data - zeroes\n2117363\nno data - zeroes\n2118060\nno data - zeroes\n2116406\nno data - zeroes\n2117806\nno data - zeroes\n2117915\nno data - zeroes\n2120458\nno data - zeroes\n2119975\nno data - zeroes\n2120517\nno data - zeroes\n2120563\nno data - zeroes\n2118820\nno data - zeroes\n2120964\nno data - zeroes\n2120979\nno data - zeroes\n2121013\nno data - zeroes\n2121310\nno data - zeroes\n2121091\nno data - zeroes\n2121162\nno data - zeroes\n2121053\nno data - zeroes\n2121158\nno data - zeroes\n2121166\nno data - zeroes\n2121177\nno data - zeroes\n2119885\nno data - zeroes\n2121190\nno data - zeroes\n2121605\nno data - zeroes\n2121213\nno data - zeroes\n2121617\nno data - zeroes\n2121255\nno data - zeroes\n2119355\nno data - zeroes\n2120306\nno data - zeroes\n2123448\nno data - zeroes\n2126653\nno data - zeroes\n2126690\nno data - zeroes\n2126775\nno data - zeroes\n2044005\nno data - zeroes\n2049626\nno data - zeroes\n2051353\nno data - zeroes\n2053395\nno data - zeroes\n2061835\nno data - zeroes\n2071031\nno data - zeroes\n2079259\nno data - zeroes\n2037927\nno data - zeroes\n2013104\nno data - zeroes\n2013109\nno data - zeroes\n2013148\nno data - zeroes\n2017350\nno data - zeroes\n2126847\nno data - zeroes\n2128440\nno data - zeroes\n2117807\nno data - zeroes\n2121409\nno data - zeroes\n2120257\nno data - zeroes\n2121230\nno data - zeroes\n2123921\nno data - zeroes\n2123968\nno data - zeroes\n2127004\nno data - zeroes\n2098601\nno data - zeroes\n2099741\nno data - zeroes\n2107204\nno data - zeroes\n2109183\nno data - zeroes\n2114878\nno data - zeroes\n2112544\nno data - zeroes\n2118021\nno data - zeroes\n2094440\nno data - zeroes\n2016069\nno data - zeroes\n2019365\nno data - zeroes\n2019177\nno data - zeroes\n2121186\nno data - zeroes\n2106729\nno data - zeroes\n2112080\nno data - zeroes\n2111339\nno data - zeroes\n2112256\nno data - zeroes\n2121278\nno data - zeroes\n2121069\nno data - zeroes\n2121216\nno data - zeroes\n2121252\nno data - zeroes\n2111821\nno data - zeroes\n2113855\nno data - zeroes\n2113854\nno data - zeroes\n2121289\nno data - zeroes\n2121231\nno data - zeroes\n2114831\nno data - zeroes\n2058664\nno data - zeroes\n2088307\nno data - zeroes\n2094054\nno data - zeroes\n2097363\nno data - zeroes\n2098761\nno data - zeroes\n2102104\nno data - zeroes\n2100867\nno data - zeroes\n2100833\nno data - zeroes\n2100216\nno data - zeroes\n2106931\nno data - zeroes\n2107314\nno data - zeroes\n2109392\nno data - zeroes\n2108392\nno data - zeroes\n2111645\nno data - zeroes\n2113862\nno data - zeroes\n2113837\nno data - zeroes\n2112413\nno data - zeroes\n2109257\nno data - zeroes\n2117899\nno data - zeroes\n2118907\nno data - zeroes\n2118860\nno data - zeroes\n2120714\nno data - zeroes\n2120981\nno data - zeroes\n2121022\nno data - zeroes\n2121163\nno data - zeroes\n2121513\nno data - zeroes\n2121468\nno data - zeroes\n2120097\nno data - zeroes\n2126231\nno data - zeroes\n2120361\nno data - zeroes\n2128305\nno data - zeroes\n2129382\nno data - zeroes\n2118930\nno data - zeroes\n2120879\nno data - zeroes\n2099791\nno data - zeroes\n2101239\nno data - zeroes\n2112632\nno data - zeroes\n2091726\nno data - zeroes\n2111266\nno data - zeroes\n2106087\nno data - zeroes\n2120618\nno data - zeroes\n2098276\nno data - zeroes\n2111051\nno data - zeroes\n2112378\nno data - zeroes\n2120653\nno data - zeroes\n2120087\nno data - zeroes\n2120302\nno data - zeroes\n2118758\nno data - zeroes\n     Unnamed: 0       ID     Days    BPD       Date      Type\n0      391475.0  2078251   9000.0    0.0 1994-08-23  Original\n1      391476.0  2078251   9010.0    0.0 1994-09-02  Original\n2      391477.0  2078251   9020.0    0.0 1994-09-12  Original\n3      391478.0  2078251   9030.0    0.0 1994-09-22  Original\n4      391479.0  2078251   9040.0  151.2 1994-10-02  Original\n..          ...      ...      ...    ...        ...       ...\n213         NaN  2118758  22240.0    0.0 2030-11-22   No Data\n214         NaN  2118758  22250.0    0.0 2030-12-02   No Data\n215         NaN  2118758  22260.0    0.0 2030-12-12   No Data\n216         NaN  2118758  22270.0    0.0 2030-12-22   No Data\n217         NaN  2118758  22280.0    0.0 2031-01-01   No Data\n\n[271216 rows x 6 columns]\n"
     ]
    },
    {
     "output_type": "stream",
     "name": "stderr",
     "output_type": "stream",
     "text": [
      "/home/spark-5501ca2f-22bb-4852-b85e-95/.ipykernel/16720/command-211832628489450-1666968890:43: SettingWithCopyWarning: \nA value is trying to be set on a copy of a slice from a DataFrame.\nTry using .loc[row_indexer,col_indexer] = value instead\n\nSee the caveats in the documentation: https://pandas.pydata.org/pandas-docs/stable/user_guide/indexing.html#returning-a-view-versus-a-copy\n  forecastPastInjDF['Type']='Original'\n"
     ]
    }
   ],
   "source": [
    "startDate=pd.to_datetime('2025-01-15')\n",
    "endDate=pd.to_datetime('2030-12-31')\n",
    "startDay=int((startDate-pd.to_datetime('1970-01-01')).days)\n",
    "endDay=int((endDate-pd.to_datetime('1970-01-01')).days)\n",
    "# Pull injection DF for updated well selection from forecastInjDF\n",
    "# Stop time at \"startDate\" or startDay\n",
    "forecastPastInjDF=forecastInitialInjDF[forecastInitialInjDF['Days']<startDay]\n",
    "# Get last disposal value for all wells, rate and time\n",
    "# Assume time is regularized for all wells\n",
    "lastDay=int(forecastPastInjDF['Days'].max())\n",
    "print('lastDay: ',lastDay)\n",
    "lastInjDF=forecastInitialInjDF[forecastInitialInjDF['Days']==lastDay]\n",
    "# generate future time series for each well\n",
    "# Here is where the input well rates come into play\n",
    "dDay=10\n",
    "futureDays=np.arange(lastDay+dDay,endDay+dDay,float(dDay))\n",
    "futureDates=[pd.to_datetime('1970-01-01')+pd.to_timedelta(d,unit='D') for d in futureDays]\n",
    "#print(list(zip(futureDates,futureDays)))\n",
    "futureInjDF=pd.DataFrame(columns=['ID','Days','BPD','Date','Type'])\n",
    "print(forecastSelectedWellsDF.info())\n",
    "for wellID in forecastSelectedWellsDF['ID'].to_list():\n",
    "  IDs=[wellID]*len(futureDays)\n",
    "  print(wellID)\n",
    "  # If this well has a prescribed rate, set it\n",
    "  if wellID in rateDict.keys():\n",
    "    BPD=rateDict[wellID]\n",
    "    print('set ',wellID,rateDict[wellID])\n",
    "    rateType=['Set'] * len(futureDays)\n",
    "  elif len(lastInjDF[lastInjDF['ID']==wellID])>0:\n",
    "    BPD=lastInjDF[lastInjDF['ID']==wellID]['BPD'].to_list()[0]\n",
    "    print('extrapolated ',BPD)\n",
    "    rateType=['Extrapolated'] * len(futureDays)\n",
    "  else:\n",
    "    # No data case\n",
    "    BPD=0.\n",
    "    print('no data - zeroes')\n",
    "    rateType=['No Data'] * len(futureDays)\n",
    "  BPDs=np.ones(len(futureDays))*BPD\n",
    "  futureWellInjDF=pd.DataFrame({'ID':IDs,'Days':futureDays,'BPD':BPDs,'Date':futureDates,'Type':rateType})\n",
    "  futureInjDF=pd.concat([futureInjDF,futureWellInjDF])\n",
    "  # If not, extrapolate given the last known value\n",
    "# Create updated dataframe with new wells\n",
    "forecastPastInjDF['Type']='Original'\n",
    "forecastInjDF=pd.concat([forecastPastInjDF,futureInjDF])\n",
    "print(forecastInjDF)"
   ]
  },
  {
   "cell_type": "code",
   "execution_count": 0,
   "metadata": {
    "application/vnd.databricks.v1+cell": {
     "cellMetadata": {
      "byteLimit": 2048000,
      "rowLimit": 10000
     },
     "inputWidgets": {},
     "nuid": "09f83e81-6257-4169-9c66-942a0cc0298b",
     "showTitle": true,
     "tableResultSettingsMap": {},
     "title": "Future Base Scenarios"
    }
   },
   "outputs": [
    {
     "output_type": "stream",
     "name": "stdout",
     "output_type": "stream",
     "text": [
      " prepDisaggregationPlot:  36  wells in disaggregation plot with  2000  realizations\n prepDisaggregationPlot:  2000  rows for  MARIENFELD 13 1D\n prepDisaggregationPlot:  2000  rows for  ANNALEA SWD 1\n prepDisaggregationPlot:  2000  rows for  PALO VERDE 1\n prepDisaggregationPlot:  2000  rows for  SALT LAKE SWD 1\n prepDisaggregationPlot:  2000  rows for  FAUDREE 1D\n prepDisaggregationPlot:  2000  rows for  SALE RANCH 27 1DD\n prepDisaggregationPlot:  2000  rows for  DICKENSON 20 8D\n prepDisaggregationPlot:  2000  rows for  NEPTUNE SWD 1\n prepDisaggregationPlot:  2000  rows for  CORFU SWD 1\n prepDisaggregationPlot:  2000  rows for  LIMEQUEST 6 SWD 1D\n prepDisaggregationPlot:  2000  rows for  DAGGER LAKE SWD 08SD\n prepDisaggregationPlot:  2000  rows for  PENROSE-OLDHAM SWD 2\n prepDisaggregationPlot:  2000  rows for  MCMORRIES 18 SWD 2D\n prepDisaggregationPlot:  2000  rows for  BERRY SWD 1\n prepDisaggregationPlot:  2000  rows for  MARBILL SWD 1\n prepDisaggregationPlot:  2000  rows for  BROWN SWD 1\n prepDisaggregationPlot:  2000  rows for  NAIL RANCH \\\"36\\\" 1D\n prepDisaggregationPlot:  2000  rows for  JAKE THE SNAKE SWD 1\n prepDisaggregationPlot:  2000  rows for  PAT, K. 3\n prepDisaggregationPlot:  2000  rows for  AXIS SWD 1\n prepDisaggregationPlot:  2000  rows for  BEAVER SWD 1D\n prepDisaggregationPlot:  2000  rows for  DELPHIN SWD 1\n prepDisaggregationPlot:  2000  rows for  WHISTLING DUCK 1D \n prepDisaggregationPlot:  2000  rows for  MIDLAND NATIONAL BANK '39' SWD 1\n prepDisaggregationPlot:  2000  rows for  RUSSELL SWD 1S\n prepDisaggregationPlot:  2000  rows for  MCCLINTIC 60 1DD\n prepDisaggregationPlot:  2000  rows for  POE  D 2\n prepDisaggregationPlot:  2000  rows for  WADDELL 12 1D\n prepDisaggregationPlot:  2000  rows for  HYDRA SWD 1\n prepDisaggregationPlot:  2000  rows for  3601 SWD 1\n prepDisaggregationPlot:  2000  rows for  WILKINSON RANCH 35 5D\n prepDisaggregationPlot:  2000  rows for  ANDRE THE GIANT SWD 1\n prepDisaggregationPlot:  2000  rows for  TENNISON 46 2D\n prepDisaggregationPlot:  2000  rows for  WILBANKS 16 6D\n prepDisaggregationPlot:  2000  rows for  GT HALL D  1\n prepDisaggregationPlot:  2000  rows for  Sum of All 424 Others Below 0.5 PSI\n"
     ]
    }
   ],
   "source": [
    "forecastScenarioDF=gist2.runPressureScenarios(future,forecastSelectedWellsDF,forecastInjDF,verbose=verb)\n",
    "forecastFilteredDF,forecastOrderedWellList=gi.summarizePPResults(forecastScenarioDF,forecastSelectedWellsDF,threshold=dPCutoff,nOrder=nWells,verbose=verb)\n",
    "forecastDisaggregationDF=gi.prepDisaggregationPlot(forecastFilteredDF,forecastOrderedWellList,jitter=0.1,verbose=1)\n",
    "forecastWinWellsDF,forecastWinInjDF=gi.getWinWells(forecastFilteredDF,forecastSelectedWellsDF,forecastInjDF)"
   ]
  },
  {
   "cell_type": "code",
   "execution_count": 0,
   "metadata": {
    "application/vnd.databricks.v1+cell": {
     "cellMetadata": {
      "byteLimit": 2048000,
      "rowLimit": 10000
     },
     "inputWidgets": {},
     "nuid": "bcfdc57d-5afd-4642-b780-0e34804186ff",
     "showTitle": true,
     "tableResultSettingsMap": {},
     "title": "Future Time Series"
    }
   },
   "outputs": [],
   "source": [
    "forecastScenarioTSRDF,forecastdPTimeSeriesR,forecastWellIDsR,forecastDayVecR = gist2.runPressureScenariosTimeSeries(future,forecastWinWellsDF,forecastWinInjDF,verbose=verb)"
   ]
  },
  {
   "cell_type": "code",
   "execution_count": 0,
   "metadata": {
    "application/vnd.databricks.v1+cell": {
     "cellMetadata": {
      "byteLimit": 2048000,
      "rowLimit": 10000
     },
     "inputWidgets": {},
     "nuid": "6d781a6e-f0ea-4106-8c84-3a98b9a4f25e",
     "showTitle": true,
     "tableResultSettingsMap": {},
     "title": "Calculate quantiles of summed time series"
    }
   },
   "outputs": [
    {
     "output_type": "stream",
     "name": "stdout",
     "output_type": "stream",
     "text": [
      "prepTotalPressureTimeSeriesPlot: deltaPP.shape= (35, 2000, 1630)  dayVec.shape= (1630,)\nprepTotalPressureTimeSeriesPlot: totalDeltaPP.shape= (2000, 1630)\nprepTotalPressureTimeSeriesPlot: quantiles: [0.0, 10.0, 20.0, 30.0, 40.0, 50.0, 60.0, 70.0, 80.0, 90.0, 100.0]\n"
     ]
    }
   ],
   "source": [
    "forecastTotalPPQuantilesDF=gi.prepTotalPressureTimeSeriesPlot(forecastdPTimeSeriesR,forecastDayVecR,nQuantiles=11,epoch=pd.to_datetime('1970-01-01'),verbose=1)"
   ]
  },
  {
   "cell_type": "code",
   "execution_count": 0,
   "metadata": {
    "application/vnd.databricks.v1+cell": {
     "cellMetadata": {
      "byteLimit": 2048000,
      "rowLimit": 10000
     },
     "inputWidgets": {},
     "nuid": "8790ced8-87e0-4637-b270-3f7bf09e1d8d",
     "showTitle": true,
     "tableResultSettingsMap": {},
     "title": "Calculate quantiles of per-well time series"
    }
   },
   "outputs": [
    {
     "output_type": "stream",
     "name": "stdout",
     "output_type": "stream",
     "text": [
      "getPerWellPressureTimeSeriesQuantiles - sizes:  2000 1630 35\ngetPerWellPressureTimeSeriesQuantiles - quantiles:  [0.0, 10.0, 20.0, 30.0, 40.0, 50.0, 60.0, 70.0, 80.0, 90.0, 100.0]\ngetPerWellPressureTimeSeriesQuantiles - well:  0  of  35\ngetPerWellPressureTimeSeriesQuantiles - array sizes:  (2000, 1630) (2000, 1630) (2000, 1630)\ngetPerWellPressureTimeSeriesQuantiles - well:  1  of  35\ngetPerWellPressureTimeSeriesQuantiles - array sizes:  (2000, 1630) (2000, 1630) (2000, 1630)\ngetPerWellPressureTimeSeriesQuantiles - well:  2  of  35\ngetPerWellPressureTimeSeriesQuantiles - array sizes:  (2000, 1630) (2000, 1630) (2000, 1630)\ngetPerWellPressureTimeSeriesQuantiles - well:  3  of  35\ngetPerWellPressureTimeSeriesQuantiles - array sizes:  (2000, 1630) (2000, 1630) (2000, 1630)\ngetPerWellPressureTimeSeriesQuantiles - well:  4  of  35\ngetPerWellPressureTimeSeriesQuantiles - array sizes:  (2000, 1630) (2000, 1630) (2000, 1630)\ngetPerWellPressureTimeSeriesQuantiles - well:  5  of  35\ngetPerWellPressureTimeSeriesQuantiles - array sizes:  (2000, 1630) (2000, 1630) (2000, 1630)\ngetPerWellPressureTimeSeriesQuantiles - well:  6  of  35\ngetPerWellPressureTimeSeriesQuantiles - array sizes:  (2000, 1630) (2000, 1630) (2000, 1630)\ngetPerWellPressureTimeSeriesQuantiles - well:  7  of  35\ngetPerWellPressureTimeSeriesQuantiles - array sizes:  (2000, 1630) (2000, 1630) (2000, 1630)\ngetPerWellPressureTimeSeriesQuantiles - well:  8  of  35\ngetPerWellPressureTimeSeriesQuantiles - array sizes:  (2000, 1630) (2000, 1630) (2000, 1630)\ngetPerWellPressureTimeSeriesQuantiles - well:  9  of  35\ngetPerWellPressureTimeSeriesQuantiles - array sizes:  (2000, 1630) (2000, 1630) (2000, 1630)\ngetPerWellPressureTimeSeriesQuantiles - well:  10  of  35\ngetPerWellPressureTimeSeriesQuantiles - array sizes:  (2000, 1630) (2000, 1630) (2000, 1630)\ngetPerWellPressureTimeSeriesQuantiles - well:  11  of  35\ngetPerWellPressureTimeSeriesQuantiles - array sizes:  (2000, 1630) (2000, 1630) (2000, 1630)\ngetPerWellPressureTimeSeriesQuantiles - well:  12  of  35\ngetPerWellPressureTimeSeriesQuantiles - array sizes:  (2000, 1630) (2000, 1630) (2000, 1630)\ngetPerWellPressureTimeSeriesQuantiles - well:  13  of  35\ngetPerWellPressureTimeSeriesQuantiles - array sizes:  (2000, 1630) (2000, 1630) (2000, 1630)\ngetPerWellPressureTimeSeriesQuantiles - well:  14  of  35\ngetPerWellPressureTimeSeriesQuantiles - array sizes:  (2000, 1630) (2000, 1630) (2000, 1630)\ngetPerWellPressureTimeSeriesQuantiles - well:  15  of  35\ngetPerWellPressureTimeSeriesQuantiles - array sizes:  (2000, 1630) (2000, 1630) (2000, 1630)\ngetPerWellPressureTimeSeriesQuantiles - well:  16  of  35\ngetPerWellPressureTimeSeriesQuantiles - array sizes:  (2000, 1630) (2000, 1630) (2000, 1630)\ngetPerWellPressureTimeSeriesQuantiles - well:  17  of  35\ngetPerWellPressureTimeSeriesQuantiles - array sizes:  (2000, 1630) (2000, 1630) (2000, 1630)\ngetPerWellPressureTimeSeriesQuantiles - well:  18  of  35\ngetPerWellPressureTimeSeriesQuantiles - array sizes:  (2000, 1630) (2000, 1630) (2000, 1630)\ngetPerWellPressureTimeSeriesQuantiles - well:  19  of  35\ngetPerWellPressureTimeSeriesQuantiles - array sizes:  (2000, 1630) (2000, 1630) (2000, 1630)\ngetPerWellPressureTimeSeriesQuantiles - well:  20  of  35\ngetPerWellPressureTimeSeriesQuantiles - array sizes:  (2000, 1630) (2000, 1630) (2000, 1630)\ngetPerWellPressureTimeSeriesQuantiles - well:  21  of  35\ngetPerWellPressureTimeSeriesQuantiles - array sizes:  (2000, 1630) (2000, 1630) (2000, 1630)\ngetPerWellPressureTimeSeriesQuantiles - well:  22  of  35\ngetPerWellPressureTimeSeriesQuantiles - array sizes:  (2000, 1630) (2000, 1630) (2000, 1630)\ngetPerWellPressureTimeSeriesQuantiles - well:  23  of  35\ngetPerWellPressureTimeSeriesQuantiles - array sizes:  (2000, 1630) (2000, 1630) (2000, 1630)\ngetPerWellPressureTimeSeriesQuantiles - well:  24  of  35\ngetPerWellPressureTimeSeriesQuantiles - array sizes:  (2000, 1630) (2000, 1630) (2000, 1630)\ngetPerWellPressureTimeSeriesQuantiles - well:  25  of  35\ngetPerWellPressureTimeSeriesQuantiles - array sizes:  (2000, 1630) (2000, 1630) (2000, 1630)\ngetPerWellPressureTimeSeriesQuantiles - well:  26  of  35\ngetPerWellPressureTimeSeriesQuantiles - array sizes:  (2000, 1630) (2000, 1630) (2000, 1630)\ngetPerWellPressureTimeSeriesQuantiles - well:  27  of  35\ngetPerWellPressureTimeSeriesQuantiles - array sizes:  (2000, 1630) (2000, 1630) (2000, 1630)\ngetPerWellPressureTimeSeriesQuantiles - well:  28  of  35\ngetPerWellPressureTimeSeriesQuantiles - array sizes:  (2000, 1630) (2000, 1630) (2000, 1630)\ngetPerWellPressureTimeSeriesQuantiles - well:  29  of  35\ngetPerWellPressureTimeSeriesQuantiles - array sizes:  (2000, 1630) (2000, 1630) (2000, 1630)\ngetPerWellPressureTimeSeriesQuantiles - well:  30  of  35\ngetPerWellPressureTimeSeriesQuantiles - array sizes:  (2000, 1630) (2000, 1630) (2000, 1630)\ngetPerWellPressureTimeSeriesQuantiles - well:  31  of  35\ngetPerWellPressureTimeSeriesQuantiles - array sizes:  (2000, 1630) (2000, 1630) (2000, 1630)\ngetPerWellPressureTimeSeriesQuantiles - well:  32  of  35\ngetPerWellPressureTimeSeriesQuantiles - array sizes:  (2000, 1630) (2000, 1630) (2000, 1630)\ngetPerWellPressureTimeSeriesQuantiles - well:  33  of  35\ngetPerWellPressureTimeSeriesQuantiles - array sizes:  (2000, 1630) (2000, 1630) (2000, 1630)\ngetPerWellPressureTimeSeriesQuantiles - well:  34  of  35\ngetPerWellPressureTimeSeriesQuantiles - array sizes:  (2000, 1630) (2000, 1630) (2000, 1630)\n"
     ]
    }
   ],
   "source": [
    "forecastAllPPQuantilesDF=gi.getPerWellPressureTimeSeriesQuantiles(forecastdPTimeSeriesR,forecastDayVecR,forecastWellIDsR,nQuantiles=11,epoch=pd.to_datetime('01-01-1970'),verbose=2)"
   ]
  },
  {
   "cell_type": "code",
   "execution_count": 0,
   "metadata": {
    "application/vnd.databricks.v1+cell": {
     "cellMetadata": {
      "byteLimit": 2048000,
      "rowLimit": 10000
     },
     "inputWidgets": {},
     "nuid": "6ca38682-81a2-41a7-a27a-ad9805e1779d",
     "showTitle": false,
     "tableResultSettingsMap": {},
     "title": ""
    }
   },
   "outputs": [
    {
     "output_type": "stream",
     "name": "stdout",
     "output_type": "stream",
     "text": [
      "<class 'pandas.core.frame.DataFrame'>\nRangeIndex: 1141000 entries, 0 to 1140999\nData columns (total 7 columns):\n #   Column         Non-Null Count    Dtype         \n---  ------         --------------    -----         \n 0   DeltaPressure  1141000 non-null  float64       \n 1   Days           1141000 non-null  float64       \n 2   Realization    1141000 non-null  object        \n 3   Order          1141000 non-null  float64       \n 4   WellID         1141000 non-null  object        \n 5   Percentile     1141000 non-null  float64       \n 6   Date           1141000 non-null  datetime64[ns]\ndtypes: datetime64[ns](1), float64(4), object(2)\nmemory usage: 60.9+ MB\nNone\n"
     ]
    }
   ],
   "source": [
    "print(forecastAllPPQuantilesDF.info())"
   ]
  },
  {
   "cell_type": "code",
   "execution_count": 0,
   "metadata": {
    "application/vnd.databricks.v1+cell": {
     "cellMetadata": {
      "byteLimit": 2048000,
      "rowLimit": 10000
     },
     "inputWidgets": {},
     "nuid": "36f95652-1abf-46d2-89e5-d0e27688e9a7",
     "showTitle": false,
     "tableResultSettingsMap": {},
     "title": ""
    }
   },
   "outputs": [],
   "source": [
    "forecastWellPressureDict=gi.prepPressureAndDisposalTimeSeriesPlots(forecastAllPPQuantilesDF,forecastWinWellsDF,forecastWinInjDF,forecastOrderedWellList[:-1],verbose=0)"
   ]
  },
  {
   "cell_type": "code",
   "execution_count": 0,
   "metadata": {
    "application/vnd.databricks.v1+cell": {
     "cellMetadata": {
      "byteLimit": 2048000,
      "rowLimit": 10000
     },
     "inputWidgets": {},
     "nuid": "697e0a54-caa8-492d-adf3-782d901d518c",
     "showTitle": true,
     "tableResultSettingsMap": {},
     "title": "Output Forecast"
    }
   },
   "outputs": [],
   "source": [
    "forecastMergedWellsDF.to_csv(forecastRunIntervalPath+'RTwells.csv')\n",
    "forecastRTDF.to_csv(forecastRunIntervalPath+'RTDF.csv')\n",
    "forecastInjDF.to_csv(forecastRunIntervalPath+'forecastInjDF.csv')\n",
    "forecastSelectedWellsDF.to_csv(forecastRunIntervalPath+'updatedSelectedWells.csv')\n",
    "forecastIgnoredWellsDF.to_csv(forecastRunIntervalPath+'updatedIgnoredWells.csv')\n",
    "futureInjDF.to_csv(forecastRunIntervalPath+'futureInj.csv')\n",
    "forecastScenarioDF.to_csv(forecastRunIntervalPath+'fullScenarios.csv')\n",
    "forecastFilteredDF.to_csv(forecastRunIntervalPath+'filteredScenarios.csv')\n",
    "pd.Series(data=forecastOrderedWellList).to_csv(forecastRunIntervalPath+'forecastWellOrder.csv')\n",
    "forecastDisaggregationDF.to_csv(forecastRunIntervalPath+'forecastDisaggregation.csv')\n",
    "forecastTotalPPQuantilesDF.to_csv(forecastRunIntervalPath+'forecastTotalPPQuantiles.csv')"
   ]
  },
  {
   "cell_type": "code",
   "execution_count": 0,
   "metadata": {
    "application/vnd.databricks.v1+cell": {
     "cellMetadata": {
      "byteLimit": 2048000,
      "rowLimit": 10000
     },
     "inputWidgets": {},
     "nuid": "169ce3a7-de64-4e11-8211-72867218f363",
     "showTitle": true,
     "tableResultSettingsMap": {},
     "title": "Output per-well forecast"
    }
   },
   "outputs": [
    {
     "output_type": "stream",
     "name": "stdout",
     "output_type": "stream",
     "text": [
      "well 0 , ID: 2121094  completed\nwell 1 , ID: 2121271  completed\nwell 2 , ID: 2123938  completed\nwell 3 , ID: 2114817  completed\nwell 4 , ID: 2117885  completed\nwell 5 , ID: 2112288  completed\nwell 6 , ID: 2109094  completed\nwell 7 , ID: 2111946  completed\nwell 8 , ID: 2116501  completed\nwell 9 , ID: 2112104  completed\nwell 10 , ID: 2113898  completed\nwell 11 , ID: 2056720  completed\nwell 12 , ID: 2111358  completed\nwell 13 , ID: 2121191  completed\nwell 14 , ID: 2111690  completed\nwell 15 , ID: 2121195  completed\nwell 16 , ID: 2118993  completed\nwell 17 , ID: 2117633  completed\nwell 18 , ID: 2081404  completed\nwell 19 , ID: 2120980  completed\nwell 20 , ID: 2123953  completed\nwell 21 , ID: 2112198  completed\nwell 22 , ID: 2112172  completed\nwell 23 , ID: 2105036  completed\nwell 24 , ID: 2120454  completed\nwell 25 , ID: 2111988  completed\nwell 26 , ID: 2119704  completed\nwell 27 , ID: 2112058  completed\nwell 28 , ID: 2111922  completed\nwell 29 , ID: 2121203  completed\nwell 30 , ID: 2118517  completed\nwell 31 , ID: 2121097  completed\nwell 32 , ID: 2113042  completed\nwell 33 , ID: 2110592  completed\nwell 34 , ID: 2110718  completed\n"
     ]
    }
   ],
   "source": [
    "i=0\n",
    "for wellDictKey, wellDictValue in forecastWellPressureDict.items():\n",
    "  wellID=wellDictValue['WellInfo']['ID'].to_list()[0]\n",
    "  futureWellFilePrefix='/perWell/well_'+str(i)+'_'\n",
    "  wellDictValue['PPQuantiles'].to_csv(forecastRunIntervalPath+futureWellFilePrefix+'PPQuantiles.csv')\n",
    "  wellDictValue['Disposal'].to_csv(forecastRunIntervalPath+futureWellFilePrefix+'Disposal.csv')\n",
    "  wellDictValue['WellInfo'].to_csv(forecastRunIntervalPath+futureWellFilePrefix+'WellInfo.csv')\n",
    "  print('well',i,', ID:',wellID,' completed')\n",
    "  i=i+1"
   ]
  },
  {
   "cell_type": "code",
   "execution_count": 0,
   "metadata": {
    "application/vnd.databricks.v1+cell": {
     "cellMetadata": {
      "byteLimit": 2048000,
      "rowLimit": 10000
     },
     "inputWidgets": {},
     "nuid": "ba35cf0d-d4a9-4b49-bd88-bcaf0940dfc3",
     "showTitle": false,
     "tableResultSettingsMap": {},
     "title": ""
    }
   },
   "outputs": [],
   "source": [
    "forecastScenarioTSRDF.to_csv(forecastRunIntervalPath+'materialScenariosR.csv')\n",
    "np.savez_compressed(forecastRunIntervalPath+'forecastTimeSeriesR.npz', deltaPP=forecastdPTimeSeriesR,dayVec=forecastDayVecR,wellIDs=forecastWellIDsR)"
   ]
  },
  {
   "cell_type": "code",
   "execution_count": 0,
   "metadata": {
    "application/vnd.databricks.v1+cell": {
     "cellMetadata": {
      "byteLimit": 2048000,
      "rowLimit": 10000
     },
     "inputWidgets": {},
     "nuid": "d56c962b-cf97-498d-bf32-736a23e1ea75",
     "showTitle": false,
     "tableResultSettingsMap": {},
     "title": ""
    }
   },
   "outputs": [],
   "source": []
  }
 ],
 "metadata": {
  "application/vnd.databricks.v1+notebook": {
   "computePreferences": {
    "hardware": {
     "accelerator": null,
     "gpuPoolId": null,
     "memory": null
    }
   },
   "dashboards": [],
   "environmentMetadata": {
    "base_environment": "",
    "client": "1"
   },
   "language": "python",
   "notebookMetadata": {
    "pythonIndentUnit": 2
   },
   "notebookName": "GIST_RunTemplate_texnet2024oqfb_deep",
   "widgets": {}
  },
  "language_info": {
   "name": "python"
  }
 },
 "nbformat": 4,
 "nbformat_minor": 0
}