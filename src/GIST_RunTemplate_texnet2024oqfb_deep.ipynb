{
 "cells": [
  {
   "cell_type": "markdown",
   "metadata": {
    "application/vnd.databricks.v1+cell": {
     "cellMetadata": {
      "byteLimit": 2048000,
      "rowLimit": 10000
     },
     "inputWidgets": {},
     "nuid": "c1abdb59-6473-4a9e-89dc-f7bf61a76f4b",
     "showTitle": false,
     "tableResultSettingsMap": {},
     "title": ""
    }
   },
   "source": [
    "# Geomechanical Injection Scenario Toolkit (GIST)\n",
    "\n",
    "#Disclaimer\n",
    "GIST aims to give the _gist_ of a wide range of potential scenarios and aid collective decision making when responding to seismicity.\n",
    "\n",
    "The results of GIST are entirely dependent upon the inputs provided, which may be incomplete or inaccurate.\n",
    "\n",
    "There are other potentially plausible inducement scenarios that are not considered, including fluid migration into the basement, \n",
    "out-of-zone poroelastic stressing, or hydraulic fracturing.\n",
    "\n",
    "None of the individual models produced by GIST accurately represent what happens in the subsurface and cannot be credibly used \n",
    "to accurately assign liability or responsibility for seismicity.\n",
    "\n",
    "\"All models are wrong, but some are useful\" - George Box, 1976\n",
    "\n",
    "## Prerequisites\n",
    "\n",
    "Assumes InjectionSQLScheduled completed successfully and injection data are sampled uniformly in time"
   ]
  },
  {
   "cell_type": "markdown",
   "metadata": {
    "application/vnd.databricks.v1+cell": {
     "cellMetadata": {
      "byteLimit": 2048000,
      "rowLimit": 10000
     },
     "inputWidgets": {},
     "nuid": "b264040f-fa15-4a0b-b6a8-a6260d9ab053",
     "showTitle": false,
     "tableResultSettingsMap": {},
     "title": ""
    }
   },
   "source": [
    "##Install Dependencies\n",
    "- geopandas\n",
    "- gistMC.py\n",
    "- eqSQL.py\n",
    "- gistPlots.py\n",
    "- numpy\n",
    "- scipy\n",
    "- pandas\n"
   ]
  },
  {
   "cell_type": "code",
   "execution_count": 0,
   "metadata": {
    "application/vnd.databricks.v1+cell": {
     "cellMetadata": {
      "byteLimit": 2048000,
      "rowLimit": 10000
     },
     "inputWidgets": {},
     "nuid": "e00f4128-0373-462e-b4e5-0c722b222f74",
     "showTitle": true,
     "tableResultSettingsMap": {},
     "title": "Restart python"
    }
   },
   "outputs": [],
   "source": [
    "%restart_python"
   ]
  },
  {
   "cell_type": "code",
   "execution_count": 0,
   "metadata": {
    "application/vnd.databricks.v1+cell": {
     "cellMetadata": {
      "byteLimit": 2048000,
      "rowLimit": 10000
     },
     "collapsed": true,
     "inputWidgets": {},
     "nuid": "fb80407f-4a02-4284-9638-a9c24281d177",
     "showTitle": true,
     "tableResultSettingsMap": {},
     "title": "Databricks functions"
    }
   },
   "outputs": [],
   "source": [
    "%run \"/Workspace/_utils/Utility_Functions\""
   ]
  },
  {
   "cell_type": "code",
   "execution_count": 0,
   "metadata": {
    "application/vnd.databricks.v1+cell": {
     "cellMetadata": {
      "byteLimit": 2048000,
      "rowLimit": 10000
     },
     "inputWidgets": {},
     "nuid": "0e21e4dd-c64f-459b-9241-0cb74bf49524",
     "showTitle": true,
     "tableResultSettingsMap": {},
     "title": "PIP installs"
    }
   },
   "outputs": [
    {
     "output_type": "stream",
     "name": "stdout",
     "output_type": "stream",
     "text": [
      "Collecting geopandas\n  Downloading geopandas-1.0.1-py3-none-any.whl (323 kB)\n     ━━━━━━━━━━━━━━━━━━━━━━━━━━━━━━━━━━━━━━━ 323.6/323.6 kB 9.3 MB/s eta 0:00:00\nCollecting pyproj>=3.3.0\n  Downloading pyproj-3.7.0-cp310-cp310-manylinux_2_17_x86_64.manylinux2014_x86_64.whl (9.2 MB)\n     ━━━━━━━━━━━━━━━━━━━━━━━━━━━━━━━━━━━━━━━━ 9.2/9.2 MB 124.3 MB/s eta 0:00:00\nRequirement already satisfied: numpy>=1.22 in /databricks/python3/lib/python3.10/site-packages (from geopandas) (1.23.5)\nRequirement already satisfied: packaging in /databricks/python3/lib/python3.10/site-packages (from geopandas) (23.2)\nRequirement already satisfied: pandas>=1.4.0 in /databricks/python3/lib/python3.10/site-packages (from geopandas) (1.5.3)\nCollecting pyogrio>=0.7.2\n  Downloading pyogrio-0.10.0-cp310-cp310-manylinux_2_28_x86_64.whl (23.9 MB)\n     ━━━━━━━━━━━━━━━━━━━━━━━━━━━━━━━━━━━━━━━ 23.9/23.9 MB 103.2 MB/s eta 0:00:00\nCollecting shapely>=2.0.0\n  Downloading shapely-2.0.6-cp310-cp310-manylinux_2_17_x86_64.manylinux2014_x86_64.whl (2.5 MB)\n     ━━━━━━━━━━━━━━━━━━━━━━━━━━━━━━━━━━━━━━━━ 2.5/2.5 MB 156.0 MB/s eta 0:00:00\nRequirement already satisfied: pytz>=2020.1 in /databricks/python3/lib/python3.10/site-packages (from pandas>=1.4.0->geopandas) (2022.7)\nRequirement already satisfied: python-dateutil>=2.8.1 in /databricks/python3/lib/python3.10/site-packages (from pandas>=1.4.0->geopandas) (2.8.2)\nRequirement already satisfied: certifi in /databricks/python3/lib/python3.10/site-packages (from pyogrio>=0.7.2->geopandas) (2022.12.7)\nRequirement already satisfied: six>=1.5 in /usr/lib/python3/dist-packages (from python-dateutil>=2.8.1->pandas>=1.4.0->geopandas) (1.16.0)\nInstalling collected packages: shapely, pyproj, pyogrio, geopandas\nSuccessfully installed geopandas-1.0.1 pyogrio-0.10.0 pyproj-3.7.0 shapely-2.0.6\n\u001B[43mNote: you may need to restart the kernel using %restart_python or dbutils.library.restartPython() to use updated packages.\u001B[0m\nCollecting geodatasets\n  Downloading geodatasets-2024.8.0-py3-none-any.whl (20 kB)\nCollecting pooch\n  Downloading pooch-1.8.2-py3-none-any.whl (64 kB)\n     ━━━━━━━━━━━━━━━━━━━━━━━━━━━━━━━━━━━━━━━━ 64.6/64.6 kB 3.5 MB/s eta 0:00:00\nRequirement already satisfied: packaging>=20.0 in /databricks/python3/lib/python3.10/site-packages (from pooch->geodatasets) (23.2)\nRequirement already satisfied: platformdirs>=2.5.0 in /databricks/python3/lib/python3.10/site-packages (from pooch->geodatasets) (2.5.2)\nRequirement already satisfied: requests>=2.19.0 in /databricks/python3/lib/python3.10/site-packages (from pooch->geodatasets) (2.28.1)\nRequirement already satisfied: certifi>=2017.4.17 in /databricks/python3/lib/python3.10/site-packages (from requests>=2.19.0->pooch->geodatasets) (2022.12.7)\nRequirement already satisfied: idna<4,>=2.5 in /databricks/python3/lib/python3.10/site-packages (from requests>=2.19.0->pooch->geodatasets) (3.4)\nRequirement already satisfied: urllib3<1.27,>=1.21.1 in /databricks/python3/lib/python3.10/site-packages (from requests>=2.19.0->pooch->geodatasets) (1.26.14)\nRequirement already satisfied: charset-normalizer<3,>=2 in /databricks/python3/lib/python3.10/site-packages (from requests>=2.19.0->pooch->geodatasets) (2.0.4)\nInstalling collected packages: pooch, geodatasets\nSuccessfully installed geodatasets-2024.8.0 pooch-1.8.2\n\u001B[43mNote: you may need to restart the kernel using %restart_python or dbutils.library.restartPython() to use updated packages.\u001B[0m\nCollecting contextily\n  Downloading contextily-1.6.2-py3-none-any.whl (17 kB)\nCollecting xyzservices\n  Downloading xyzservices-2025.1.0-py3-none-any.whl (88 kB)\n     ━━━━━━━━━━━━━━━━━━━━━━━━━━━━━━━━━━━━━━━━ 88.4/88.4 kB 3.9 MB/s eta 0:00:00\nCollecting mercantile\n  Downloading mercantile-1.2.1-py3-none-any.whl (14 kB)\nRequirement already satisfied: matplotlib in /databricks/python3/lib/python3.10/site-packages (from contextily) (3.7.0)\nRequirement already satisfied: pillow in /databricks/python3/lib/python3.10/site-packages (from contextily) (9.4.0)\nCollecting geopy\n  Downloading geopy-2.4.1-py3-none-any.whl (125 kB)\n     ━━━━━━━━━━━━━━━━━━━━━━━━━━━━━━━━━━━━━━ 125.4/125.4 kB 26.2 MB/s eta 0:00:00\nRequirement already satisfied: joblib in /databricks/python3/lib/python3.10/site-packages (from contextily) (1.2.0)\nRequirement already satisfied: requests in /databricks/python3/lib/python3.10/site-packages (from contextily) (2.28.1)\nCollecting rasterio\n  Downloading rasterio-1.4.3-cp310-cp310-manylinux_2_17_x86_64.manylinux2014_x86_64.whl (22.2 MB)\n     ━━━━━━━━━━━━━━━━━━━━━━━━━━━━━━━━━━━━━━━━ 22.2/22.2 MB 72.7 MB/s eta 0:00:00\nCollecting geographiclib<3,>=1.52\n  Downloading geographiclib-2.0-py3-none-any.whl (40 kB)\n     ━━━━━━━━━━━━━━━━━━━━━━━━━━━━━━━━━━━━━━━━ 40.3/40.3 kB 18.6 MB/s eta 0:00:00\nRequirement already satisfied: python-dateutil>=2.7 in /databricks/python3/lib/python3.10/site-packages (from matplotlib->contextily) (2.8.2)\nRequirement already satisfied: numpy>=1.20 in /databricks/python3/lib/python3.10/site-packages (from matplotlib->contextily) (1.23.5)\nRequirement already satisfied: contourpy>=1.0.1 in /databricks/python3/lib/python3.10/site-packages (from matplotlib->contextily) (1.0.5)\nRequirement already satisfied: pyparsing>=2.3.1 in /databricks/python3/lib/python3.10/site-packages (from matplotlib->contextily) (3.0.9)\nRequirement already satisfied: kiwisolver>=1.0.1 in /databricks/python3/lib/python3.10/site-packages (from matplotlib->contextily) (1.4.4)\nRequirement already satisfied: fonttools>=4.22.0 in /databricks/python3/lib/python3.10/site-packages (from matplotlib->contextily) (4.25.0)\nRequirement already satisfied: packaging>=20.0 in /databricks/python3/lib/python3.10/site-packages (from matplotlib->contextily) (23.2)\nRequirement already satisfied: cycler>=0.10 in /databricks/python3/lib/python3.10/site-packages (from matplotlib->contextily) (0.11.0)\nRequirement already satisfied: click>=3.0 in /databricks/python3/lib/python3.10/site-packages (from mercantile->contextily) (8.0.4)\nRequirement already satisfied: certifi in /databricks/python3/lib/python3.10/site-packages (from rasterio->contextily) (2022.12.7)\nCollecting click-plugins\n  Downloading click_plugins-1.1.1-py2.py3-none-any.whl (7.5 kB)\nCollecting cligj>=0.5\n  Downloading cligj-0.7.2-py3-none-any.whl (7.1 kB)\nCollecting numpy>=1.20\n  Downloading numpy-2.2.2-cp310-cp310-manylinux_2_17_x86_64.manylinux2014_x86_64.whl (16.4 MB)\n     ━━━━━━━━━━━━━━━━━━━━━━━━━━━━━━━━━━━━━━━━ 16.4/16.4 MB 91.6 MB/s eta 0:00:00\nRequirement already satisfied: attrs in /databricks/python3/lib/python3.10/site-packages (from rasterio->contextily) (22.1.0)\nCollecting affine\n  Downloading affine-2.4.0-py3-none-any.whl (15 kB)\nRequirement already satisfied: idna<4,>=2.5 in /databricks/python3/lib/python3.10/site-packages (from requests->contextily) (3.4)\nRequirement already satisfied: charset-normalizer<3,>=2 in /databricks/python3/lib/python3.10/site-packages (from requests->contextily) (2.0.4)\nRequirement already satisfied: urllib3<1.27,>=1.21.1 in /databricks/python3/lib/python3.10/site-packages (from requests->contextily) (1.26.14)\nRequirement already satisfied: six>=1.5 in /usr/lib/python3/dist-packages (from python-dateutil>=2.7->matplotlib->contextily) (1.16.0)\nInstalling collected packages: xyzservices, numpy, mercantile, geographiclib, cligj, click-plugins, affine, rasterio, geopy, contextily\n  Attempting uninstall: numpy\n    Found existing installation: numpy 1.23.5\n    Not uninstalling numpy at /databricks/python3/lib/python3.10/site-packages, outside environment /local_disk0/.ephemeral_nfs/envs/pythonEnv-7ebcd16a-02eb-40e4-87bc-50e6c185bcbb\n    Can't uninstall 'numpy'. No files were found to uninstall.\nERROR: pip's dependency resolver does not currently take into account all the packages that are installed. This behaviour is the source of the following dependency conflicts.\nscipy 1.10.0 requires numpy<1.27.0,>=1.19.5, but you have numpy 2.2.2 which is incompatible.\ndatabricks-connect 14.3.4 requires numpy<2,>=1.15, but you have numpy 2.2.2 which is incompatible.\nSuccessfully installed affine-2.4.0 click-plugins-1.1.1 cligj-0.7.2 contextily-1.6.2 geographiclib-2.0 geopy-2.4.1 mercantile-1.2.1 numpy-2.2.2 rasterio-1.4.3 xyzservices-2025.1.0\n\u001B[43mNote: you may need to restart the kernel using %restart_python or dbutils.library.restartPython() to use updated packages.\u001B[0m\n"
     ]
    }
   ],
   "source": [
    "!pip install geopandas\n",
    "!pip install geodatasets\n",
    "!pip install contextily\n",
    "#! pip install folium matplotlib mapclassify contextily"
   ]
  },
  {
   "cell_type": "markdown",
   "metadata": {
    "application/vnd.databricks.v1+cell": {
     "cellMetadata": {
      "byteLimit": 2048000,
      "rowLimit": 10000
     },
     "inputWidgets": {},
     "nuid": "c93df717-a2d5-4e18-b1cb-7d39ffcb99b2",
     "showTitle": false,
     "tableResultSettingsMap": {},
     "title": ""
    }
   },
   "source": [
    "##Paths"
   ]
  },
  {
   "cell_type": "code",
   "execution_count": 0,
   "metadata": {
    "application/vnd.databricks.v1+cell": {
     "cellMetadata": {
      "byteLimit": 2048000,
      "rowLimit": 10000
     },
     "inputWidgets": {},
     "nuid": "145f505a-6639-4124-b6bd-aa4e6c9b5c47",
     "showTitle": true,
     "tableResultSettingsMap": {},
     "title": "GIST libraries and injection data"
    }
   },
   "outputs": [],
   "source": [
    "# Paths\n",
    "homePath='/Workspace/Users/bill.curry@exxonmobil.com'\n",
    "# Injection data path \n",
    "injPath=homePath+'/injection/WeeklyRun/ScheduledOutput'\n",
    "# GIST library path\n",
    "gistPath=homePath+'/GIST'"
   ]
  },
  {
   "cell_type": "markdown",
   "metadata": {
    "application/vnd.databricks.v1+cell": {
     "cellMetadata": {
      "byteLimit": 2048000,
      "rowLimit": 10000
     },
     "inputWidgets": {},
     "nuid": "fe561de9-c0de-474b-af1b-e457ac846dbe",
     "showTitle": false,
     "tableResultSettingsMap": {},
     "title": ""
    }
   },
   "source": [
    "##Libraries\n",
    "\n",
    "- numpy\n",
    "- scipy\n",
    "- pandas\n",
    "- matplotlib\n",
    "- geopandas\n",
    "- pyspark\n"
   ]
  },
  {
   "cell_type": "code",
   "execution_count": 0,
   "metadata": {
    "application/vnd.databricks.v1+cell": {
     "cellMetadata": {
      "byteLimit": 2048000,
      "rowLimit": 10000
     },
     "inputWidgets": {},
     "nuid": "10119ade-2798-4028-9462-d20dc15fb1d7",
     "showTitle": true,
     "tableResultSettingsMap": {},
     "title": "add path"
    }
   },
   "outputs": [],
   "source": [
    "import sys\n",
    "sys.path.append(gistPath+'/lib')"
   ]
  },
  {
   "cell_type": "code",
   "execution_count": 0,
   "metadata": {
    "application/vnd.databricks.v1+cell": {
     "cellMetadata": {
      "byteLimit": 2048000,
      "rowLimit": 10000
     },
     "inputWidgets": {},
     "nuid": "2e230114-d00d-4065-9b06-9bc65deb51a6",
     "showTitle": true,
     "tableResultSettingsMap": {},
     "title": "pyspark"
    }
   },
   "outputs": [],
   "source": [
    "#Databricks-specific\n",
    "#import dataBricksConfig as db\n",
    "from pyspark.sql import SparkSession\n",
    "spark = SparkSession.builder.appName(\"eqSQL\").getOrCreate()"
   ]
  },
  {
   "cell_type": "code",
   "execution_count": 0,
   "metadata": {
    "application/vnd.databricks.v1+cell": {
     "cellMetadata": {
      "byteLimit": 2048000,
      "rowLimit": 10000
     },
     "inputWidgets": {},
     "nuid": "732391bb-8d33-4ac8-a2d7-4a7efc617715",
     "showTitle": true,
     "tableResultSettingsMap": {},
     "title": "imports"
    }
   },
   "outputs": [
    {
     "output_type": "display_data",
     "data": {
      "application/vnd.databricks.v1+h3_hint": "",
      "text/plain": []
     },
     "metadata": {},
     "output_type": "display_data"
    }
   ],
   "source": [
    "import numpy as np\n",
    "import pandas as pd\n",
    "import os\n",
    "import gistMC as gi\n",
    "import eqSQL as es\n",
    "import matplotlib.pyplot as plt\n",
    "import seaborn as sns\n",
    "import geopandas\n",
    "#import contextily as cx"
   ]
  },
  {
   "cell_type": "code",
   "execution_count": 0,
   "metadata": {
    "application/vnd.databricks.v1+cell": {
     "cellMetadata": {
      "byteLimit": 2048000,
      "rowLimit": 10000
     },
     "inputWidgets": {},
     "nuid": "f363a4c7-dd42-4e22-a888-cbf75b53ad45",
     "showTitle": false,
     "tableResultSettingsMap": {},
     "title": ""
    }
   },
   "outputs": [],
   "source": [
    "import gistPlots as gp"
   ]
  },
  {
   "cell_type": "markdown",
   "metadata": {
    "application/vnd.databricks.v1+cell": {
     "cellMetadata": {
      "byteLimit": 2048000,
      "rowLimit": 10000
     },
     "inputWidgets": {},
     "nuid": "83eacea1-ee6c-412e-86e8-eb0062d6a40c",
     "showTitle": false,
     "tableResultSettingsMap": {},
     "title": ""
    }
   },
   "source": [
    "#1. Select Event"
   ]
  },
  {
   "cell_type": "code",
   "execution_count": 0,
   "metadata": {
    "application/vnd.databricks.v1+cell": {
     "cellMetadata": {
      "byteLimit": 2048000,
      "rowLimit": 10000
     },
     "inputWidgets": {},
     "nuid": "29556f3e-cfbc-4eb2-aac0-ffdd3b050893",
     "showTitle": true,
     "tableResultSettingsMap": {},
     "title": "Input TexNet Event ID (1.1)"
    }
   },
   "outputs": [],
   "source": [
    "eventID='texnet2024oqfb'"
   ]
  },
  {
   "cell_type": "code",
   "execution_count": 0,
   "metadata": {
    "application/vnd.databricks.v1+cell": {
     "cellMetadata": {
      "byteLimit": 2048000,
      "rowLimit": 10000
     },
     "inputWidgets": {},
     "nuid": "d60eb1f0-2056-49e5-94c6-5927832497b4",
     "showTitle": true,
     "tableResultSettingsMap": {},
     "title": "Create Output Path for Event (1.2)"
    }
   },
   "outputs": [],
   "source": [
    "runPath=gistPath+'/runs/'+eventID+'/'\n",
    "os.makedirs(runPath, exist_ok=True)"
   ]
  },
  {
   "cell_type": "code",
   "execution_count": 0,
   "metadata": {
    "application/vnd.databricks.v1+cell": {
     "cellMetadata": {
      "byteLimit": 2048000,
      "rowLimit": 10000
     },
     "inputWidgets": {},
     "nuid": "ce7a3a90-f553-4113-abbe-37d6fb67d6e5",
     "showTitle": true,
     "tableResultSettingsMap": {},
     "title": "Fetch Earthquake Info (1.3)"
    }
   },
   "outputs": [
    {
     "output_type": "stream",
     "name": "stdout",
     "output_type": "stream",
     "text": [
      "getEarthquake:     SeismicEventId  ... B3RecordDeletedUTCDateTime\n0         2481836  ...                        NaT\n\n[1 rows x 32 columns] 1\n<class 'geopandas.geodataframe.GeoDataFrame'>\nRangeIndex: 1 entries, 0 to 0\nData columns (total 38 columns):\n #   Column                      Non-Null Count  Dtype         \n---  ------                      --------------  -----         \n 0   SeismicEventId              1 non-null      int64         \n 1   DataSource                  1 non-null      object        \n 2   DataSourceUrl               0 non-null      object        \n 3   EventID                     1 non-null      object        \n 4   EventTimeUtc                1 non-null      datetime64[ns]\n 5   EventTimeInLocalTimeZone    1 non-null      object        \n 6   EventTimeZone               1 non-null      object        \n 7   EventType                   1 non-null      object        \n 8   DepthKm                     1 non-null      float64       \n 9   DepthErrorKm                1 non-null      float64       \n 10  Magnitude                   1 non-null      float64       \n 11  MagnitudeError              0 non-null      float64       \n 12  MagnitudeType               1 non-null      object        \n 13  Location                    1 non-null      object        \n 14  Status                      1 non-null      object        \n 15  Latitude                    1 non-null      float64       \n 16  LatitudeError               1 non-null      float64       \n 17  Longitude                   1 non-null      float64       \n 18  LongitudeError              1 non-null      float64       \n 19  UpdatedDateUtc              1 non-null      datetime64[ns]\n 20  StationCount                1 non-null      int64         \n 21  RMS                         1 non-null      float64       \n 22  RMS_p                       0 non-null      object        \n 23  RMS_s                       0 non-null      object        \n 24  FocalMechanismAzimuthalGap  0 non-null      float64       \n 25  County                      1 non-null      object        \n 26  State                       1 non-null      object        \n 27  DuplicateSetId              1 non-null      int32         \n 28  RankWithinDuplicateSet      1 non-null      int32         \n 29  B3RecordAddedUTCDateTime    1 non-null      datetime64[ns]\n 30  B3RecordUpdatedUTCDateTime  1 non-null      datetime64[ns]\n 31  B3RecordDeletedUTCDateTime  0 non-null      datetime64[ns]\n 32  Origin Date                 1 non-null      object        \n 33  Origin Time                 1 non-null      object        \n 34  geometry                    1 non-null      geometry      \n 35  Strike                      1 non-null      float64       \n 36  Dip                         1 non-null      float64       \n 37  Rake                        1 non-null      float64       \ndtypes: datetime64[ns](5), float64(13), geometry(1), int32(2), int64(2), object(15)\nmemory usage: 424.0+ bytes\n"
     ]
    }
   ],
   "source": [
    "eqs=es.eqSQL()\n",
    "EQDF=eqs.getEarthquake(eventID)\n",
    "EQDF=EQDF.rename(columns={'LatitudeErrorKm':'LatitudeError','LongitudeErrorKm':'LongitudeError','EventId':'EventID'})\n",
    "# What about the other fault plane solution? - 251 / 36 / -97\n",
    "EQDF['Strike']=80.\n",
    "EQDF['Dip']=55.\n",
    "EQDF['Rake']=-85.\n",
    "# We could make use of the Rake\n",
    "EQDF.info()\n",
    "eq=EQDF.loc[0]"
   ]
  },
  {
   "cell_type": "code",
   "execution_count": 0,
   "metadata": {
    "application/vnd.databricks.v1+cell": {
     "cellMetadata": {
      "byteLimit": 2048000,
      "rowLimit": 10000
     },
     "inputWidgets": {},
     "nuid": "57a3cca2-ed2c-4c68-852b-7afa1f5fdaa0",
     "showTitle": true,
     "tableResultSettingsMap": {},
     "title": "Output Earthquake (1.4)"
    }
   },
   "outputs": [],
   "source": [
    "EQDF.to_csv(runPath+'/EQ.csv')"
   ]
  },
  {
   "cell_type": "markdown",
   "metadata": {
    "application/vnd.databricks.v1+cell": {
     "cellMetadata": {
      "byteLimit": 2048000,
      "rowLimit": 10000
     },
     "inputWidgets": {},
     "nuid": "41d31cc5-0dad-4f64-a0ad-66225f6ae397",
     "showTitle": false,
     "tableResultSettingsMap": {},
     "title": ""
    }
   },
   "source": [
    "#2. Initial Run"
   ]
  },
  {
   "cell_type": "markdown",
   "metadata": {
    "application/vnd.databricks.v1+cell": {
     "cellMetadata": {
      "byteLimit": 2048000,
      "rowLimit": 10000
     },
     "inputWidgets": {},
     "nuid": "33bedbfc-3c55-458b-9024-9523dec9d858",
     "showTitle": false,
     "tableResultSettingsMap": {},
     "title": ""
    }
   },
   "source": [
    "##2.1 Subsurface Model Parameters"
   ]
  },
  {
   "cell_type": "markdown",
   "metadata": {
    "application/vnd.databricks.v1+cell": {
     "cellMetadata": {
      "byteLimit": 2048000,
      "rowLimit": 10000
     },
     "inputWidgets": {},
     "nuid": "8c1e59e0-8d99-4372-9269-dafe823c3521",
     "showTitle": false,
     "tableResultSettingsMap": {},
     "title": ""
    }
   },
   "source": [
    "###Inputs:"
   ]
  },
  {
   "cell_type": "code",
   "execution_count": 0,
   "metadata": {
    "application/vnd.databricks.v1+cell": {
     "cellMetadata": {
      "byteLimit": 2048000,
      "rowLimit": 10000
     },
     "inputWidgets": {},
     "nuid": "fa86e866-ce36-4367-b2f6-cd78fcc54b4e",
     "showTitle": true,
     "tableResultSettingsMap": {},
     "title": "Depth Interval (Deep/Shallow)"
    }
   },
   "outputs": [],
   "source": [
    "# Binary deep/shallow parameter\n",
    "deepOrShallow='Deep'\n",
    "# Depth from surface (ft)\n",
    "# Distinguishes deep/shallow where we don't have a horizon \n",
    "depthCutoff=8000."
   ]
  },
  {
   "cell_type": "code",
   "execution_count": 0,
   "metadata": {
    "application/vnd.databricks.v1+cell": {
     "cellMetadata": {
      "byteLimit": 2048000,
      "rowLimit": 10000
     },
     "inputWidgets": {},
     "nuid": "5eac1e6f-a489-46ea-9e08-aaa35509f3fe",
     "showTitle": true,
     "tableResultSettingsMap": {},
     "title": "Monte-Carlo Parameters"
    }
   },
   "outputs": [],
   "source": [
    "nRealizations=500"
   ]
  },
  {
   "cell_type": "code",
   "execution_count": 0,
   "metadata": {
    "application/vnd.databricks.v1+cell": {
     "cellMetadata": {
      "byteLimit": 2048000,
      "rowLimit": 10000
     },
     "inputWidgets": {},
     "nuid": "a92b5ecc-ee98-4077-8e0b-c95a42deea53",
     "showTitle": true,
     "tableResultSettingsMap": {},
     "title": "Fluid Properties"
    }
   },
   "outputs": [],
   "source": [
    "# Water density minimum/maximum (kg/m3)\n",
    "WaterDensityMin=1015.\n",
    "WaterDensityMax=1025.\n",
    "# Water viscosity minimum/maximum (Pa.s)\n",
    "WaterViscosityMin=0.000799\n",
    "WaterViscosityMax=0.000801\n",
    "# Fluid Compressibility minimum/maximum (1/Pa)\n",
    "FluidCompressibilityMin=0.000000000359\n",
    "FluidCompressibilityMax=0.000000000361"
   ]
  },
  {
   "cell_type": "code",
   "execution_count": 0,
   "metadata": {
    "application/vnd.databricks.v1+cell": {
     "cellMetadata": {
      "byteLimit": 2048000,
      "rowLimit": 10000
     },
     "inputWidgets": {},
     "nuid": "d58e0474-d42e-49be-94ae-633087760772",
     "showTitle": true,
     "tableResultSettingsMap": {},
     "title": "Depth Interval Properties"
    }
   },
   "outputs": [],
   "source": [
    "# Porosity in percent\n",
    "PorosityPercentMin=3.\n",
    "PorosityPercentMax=15.\n",
    "\n",
    "# Permeability in millidarcies\n",
    "PermMDMin=5.\n",
    "PermMDMax=500.\n",
    "\n",
    "# Thickness in feet\n",
    "ThicknessFTMin=200.\n",
    "ThicknessFTMax=2000.\n",
    "\n",
    "# Vertical compressibility minimum/maximum (1/Pa)\n",
    "VerticalCompressibilityMin=0.00000000107\n",
    "VerticalCompressibilityMax=0.00000000109"
   ]
  },
  {
   "cell_type": "code",
   "execution_count": 0,
   "metadata": {
    "application/vnd.databricks.v1+cell": {
     "cellMetadata": {
      "byteLimit": 2048000,
      "rowLimit": 10000
     },
     "inputWidgets": {},
     "nuid": "17c599c7-20e2-4a5f-9e30-737f6b236831",
     "showTitle": true,
     "tableResultSettingsMap": {},
     "title": "Well Contribution Filtering Parameters"
    }
   },
   "outputs": [],
   "source": [
    "# Verbosity - 0=silent, 1=some, 2=lots\n",
    "verb=0\n",
    "# Minimum Pressure change to care about in PSI\n",
    "dPCutoff=0.5\n",
    "# Maximum Number of wells to plot\n",
    "nWells=50\n",
    "# How far back in time to plot in years\n",
    "minYear=-40"
   ]
  },
  {
   "cell_type": "markdown",
   "metadata": {
    "application/vnd.databricks.v1+cell": {
     "cellMetadata": {
      "byteLimit": 2048000,
      "rowLimit": 10000
     },
     "inputWidgets": {},
     "nuid": "9237e4af-4e41-491b-add8-8b182193f2e7",
     "showTitle": false,
     "tableResultSettingsMap": {},
     "title": ""
    }
   },
   "source": [
    "### Set Interval-Specific Paths...\n"
   ]
  },
  {
   "cell_type": "code",
   "execution_count": 0,
   "metadata": {
    "application/vnd.databricks.v1+cell": {
     "cellMetadata": {
      "byteLimit": 2048000,
      "rowLimit": 10000
     },
     "inputWidgets": {},
     "nuid": "1ad711f6-8be1-4dfe-80dd-e64126d0aadc",
     "showTitle": true,
     "tableResultSettingsMap": {},
     "title": "Create Subdirectory for Interval in EQ Directory"
    }
   },
   "outputs": [],
   "source": [
    "# Set an output directory for this earthquake and this interval\n",
    "runIntervalPath=runPath+deepOrShallow+'/'\n",
    "# Make directory if it doesn't exist\n",
    "os.makedirs(runIntervalPath, exist_ok=True)\n",
    "os.makedirs(runIntervalPath+'/perWell', exist_ok=True)\n",
    "################################################\n",
    "# Output prefix for realizations of parameters #\n",
    "################################################\n",
    "RealizationPrefix=runIntervalPath+'MC'"
   ]
  },
  {
   "cell_type": "code",
   "execution_count": 0,
   "metadata": {
    "application/vnd.databricks.v1+cell": {
     "cellMetadata": {
      "byteLimit": 2048000,
      "rowLimit": 10000
     },
     "inputWidgets": {},
     "nuid": "7b3f2312-434f-4dc7-a7d1-dc7a2717a900",
     "showTitle": true,
     "tableResultSettingsMap": {},
     "title": "Point to disposal data for the chosen interval"
    }
   },
   "outputs": [],
   "source": [
    "# Point to appropriate well and injection files\n",
    "if deepOrShallow=='Deep':\n",
    "  WellFile=injPath+'/deep.csv'\n",
    "  InjFile=injPath+'/deepReg.csv'\n",
    "elif deepOrShallow=='Shallow':\n",
    "  WellFile=injPath+'/shallow.csv'\n",
    "  InjFile=injPath+'/shallowReg.csv'"
   ]
  },
  {
   "cell_type": "code",
   "execution_count": 0,
   "metadata": {
    "application/vnd.databricks.v1+cell": {
     "cellMetadata": {
      "byteLimit": 2048000,
      "rowLimit": 10000
     },
     "inputWidgets": {},
     "nuid": "16de396c-1e22-448a-bab6-c19d33b922b9",
     "showTitle": true,
     "tableResultSettingsMap": {},
     "title": "Poroelastic Parameters - Future Use"
    }
   },
   "outputs": [],
   "source": [
    "# Oversampling of time axis (poroelastic-only)\n",
    "nTimeBins=21\n",
    "# Poroelastic parameters - for in-zone poroelasticity in v2\n",
    "ShearModulusMin=4e9\n",
    "ShearModulusMax=6e9\n",
    "PoissonsRatioDrainedMin=0.295\n",
    "PoissonsRatioDrainedMax=0.305\n",
    "PoissonsRatioUndrainedMin=0.305\n",
    "PoissonsRatioUndrainedMax=0.315\n",
    "BiotsCoefficientMin=0.26\n",
    "BiotsCoefficientMax=0.36\n",
    "# Fault parameters (poroelastic-only)\n",
    "FaultFrictionCoeffMin=0.55\n",
    "FaultFrictionCoeffMax=0.65\n",
    "RockFrictionCoeffMin=0.55\n",
    "RockFrictionCoeffMax=0.65"
   ]
  },
  {
   "cell_type": "markdown",
   "metadata": {
    "application/vnd.databricks.v1+cell": {
     "cellMetadata": {
      "byteLimit": 2048000,
      "rowLimit": 10000
     },
     "inputWidgets": {},
     "nuid": "61b8015e-aa08-4602-a74d-7e156b85d725",
     "showTitle": false,
     "tableResultSettingsMap": {},
     "title": ""
    }
   },
   "source": [
    "##2.2 Results"
   ]
  },
  {
   "cell_type": "markdown",
   "metadata": {
    "application/vnd.databricks.v1+cell": {
     "cellMetadata": {
      "byteLimit": 2048000,
      "rowLimit": 10000
     },
     "inputWidgets": {},
     "nuid": "b9911a2e-abbe-48fa-beb3-db4bc2a8727a",
     "showTitle": false,
     "tableResultSettingsMap": {},
     "title": ""
    }
   },
   "source": [
    "###Compute"
   ]
  },
  {
   "cell_type": "code",
   "execution_count": 0,
   "metadata": {
    "application/vnd.databricks.v1+cell": {
     "cellMetadata": {
      "byteLimit": 2048000,
      "rowLimit": 10000
     },
     "inputWidgets": {},
     "nuid": "d6dead15-ae34-43e1-8795-831b0532c24a",
     "showTitle": true,
     "tableResultSettingsMap": {},
     "title": "Initialize GIST"
    }
   },
   "outputs": [],
   "source": [
    "gist=gi.gistMC(nReal=nRealizations,\n",
    "                ntBin=nTimeBins)\n",
    "gist.initPP(rho0_min=WaterDensityMin,\n",
    "             rho0_max=WaterDensityMax,\n",
    "             phi_min=PorosityPercentMin,\n",
    "             phi_max=PorosityPercentMax,\n",
    "             kMD_min=PermMDMin,\n",
    "             kMD_max=PermMDMax,\n",
    "             h_min=ThicknessFTMin,\n",
    "             h_max=ThicknessFTMax,\n",
    "             alphav_min=VerticalCompressibilityMin,\n",
    "             alphav_max=VerticalCompressibilityMax,\n",
    "             beta_min=FluidCompressibilityMin,\n",
    "             beta_max=FluidCompressibilityMax)"
   ]
  },
  {
   "cell_type": "code",
   "execution_count": 0,
   "metadata": {
    "application/vnd.databricks.v1+cell": {
     "cellMetadata": {
      "byteLimit": 2048000,
      "rowLimit": 10000
     },
     "inputWidgets": {},
     "nuid": "c61650ff-760c-4493-a9e7-3ad67488dd8d",
     "showTitle": true,
     "tableResultSettingsMap": {},
     "title": "Add Wells to GIST"
    }
   },
   "outputs": [],
   "source": [
    "gist.addWells(WellFile,InjFile,verbose=verb)\n",
    "if verb>0:\n",
    "  gist.wellDF.info()\n",
    "  EQDF.info()"
   ]
  },
  {
   "cell_type": "code",
   "execution_count": 0,
   "metadata": {
    "application/vnd.databricks.v1+cell": {
     "cellMetadata": {
      "byteLimit": 2048000,
      "rowLimit": 10000
     },
     "inputWidgets": {},
     "nuid": "216af07b-6ac8-453c-aac3-2cf6fdf8d2c6",
     "showTitle": true,
     "tableResultSettingsMap": {},
     "title": "Select Wells To Analyze"
    }
   },
   "outputs": [],
   "source": [
    "selectedWellsDF,ignoredWellsDF,injDF=gist.findWells(eq,PE=False,verbose=verb)"
   ]
  },
  {
   "cell_type": "code",
   "execution_count": 0,
   "metadata": {
    "application/vnd.databricks.v1+cell": {
     "cellMetadata": {
      "byteLimit": 2048000,
      "rowLimit": 10000
     },
     "inputWidgets": {},
     "nuid": "9bc68774-2a3e-4964-a170-d95d30a103ad",
     "showTitle": true,
     "tableResultSettingsMap": {},
     "title": "Compute Pressure Realizations at Event Time"
    }
   },
   "outputs": [],
   "source": [
    "scenarioDF=gist.runPressureScenarios(eq,selectedWellsDF,injDF,verbose=verb)"
   ]
  },
  {
   "cell_type": "code",
   "execution_count": 0,
   "metadata": {
    "application/vnd.databricks.v1+cell": {
     "cellMetadata": {
      "byteLimit": 2048000,
      "rowLimit": 10000
     },
     "inputWidgets": {},
     "nuid": "33770d73-6562-4c5c-b4fa-e96d27c00250",
     "showTitle": true,
     "tableResultSettingsMap": {},
     "title": "Filter Negligible Wells at EQ Time"
    }
   },
   "outputs": [],
   "source": [
    "filteredDF,orderedWellList=gi.summarizePPResults(scenarioDF,selectedWellsDF,threshold=dPCutoff,nOrder=nWells,verbose=verb)"
   ]
  },
  {
   "cell_type": "code",
   "execution_count": 0,
   "metadata": {
    "application/vnd.databricks.v1+cell": {
     "cellMetadata": {
      "byteLimit": 2048000,
      "rowLimit": 10000
     },
     "inputWidgets": {},
     "nuid": "4edbea65-b930-4dd3-b18b-37ebd8f78b8e",
     "showTitle": true,
     "tableResultSettingsMap": {},
     "title": "Generate results for disaggregation plot"
    }
   },
   "outputs": [
    {
     "output_type": "stream",
     "name": "stdout",
     "output_type": "stream",
     "text": [
      " prepDisaggregationPlot:  40  wells in disaggregation plot with  500  realizations\n prepDisaggregationPlot:  500  rows for  MARIENFELD 13 1D\n prepDisaggregationPlot:  500  rows for  ANNALEA SWD 1\n prepDisaggregationPlot:  500  rows for  PALO VERDE 1\n prepDisaggregationPlot:  500  rows for  FAUDREE 1D\n prepDisaggregationPlot:  500  rows for  NEPTUNE SWD 1\n prepDisaggregationPlot:  500  rows for  DICKENSON 20 8D\n prepDisaggregationPlot:  500  rows for  CORFU SWD 1\n prepDisaggregationPlot:  500  rows for  SALE RANCH 27 1DD\n prepDisaggregationPlot:  500  rows for  PAT, K. 3\n prepDisaggregationPlot:  500  rows for  SALT LAKE SWD 1\n prepDisaggregationPlot:  500  rows for  LIMEQUEST 6 SWD 1D\n prepDisaggregationPlot:  500  rows for  MCMORRIES 18 SWD 2D\n prepDisaggregationPlot:  500  rows for  BERRY SWD 1\n prepDisaggregationPlot:  500  rows for  PENROSE-OLDHAM SWD 2\n prepDisaggregationPlot:  500  rows for  DAGGER LAKE SWD 08SD\n prepDisaggregationPlot:  500  rows for  MARBILL SWD 1\n prepDisaggregationPlot:  500  rows for  NAIL RANCH \\\"36\\\" 1D\n prepDisaggregationPlot:  500  rows for  BROWN SWD 1\n prepDisaggregationPlot:  500  rows for  RUSSELL SWD 1S\n prepDisaggregationPlot:  500  rows for  JAKE THE SNAKE SWD 1\n prepDisaggregationPlot:  500  rows for  WHISTLING DUCK 1D \n prepDisaggregationPlot:  500  rows for  GUITAR ESTATE -B- 2D\n prepDisaggregationPlot:  500  rows for  3601 SWD 1\n prepDisaggregationPlot:  500  rows for  WADDELL 12 1D\n prepDisaggregationPlot:  500  rows for  MIDLAND NATIONAL BANK '39' SWD 1\n prepDisaggregationPlot:  500  rows for  WATERBURGER 1D\n prepDisaggregationPlot:  500  rows for  SNOWDEN, JOHN 1D\n prepDisaggregationPlot:  500  rows for  GUITAR 7 2\n prepDisaggregationPlot:  500  rows for  AXIS SWD 1\n prepDisaggregationPlot:  500  rows for  BEAVER SWD 1D\n prepDisaggregationPlot:  500  rows for  HOMAN, EUNICE 1\n prepDisaggregationPlot:  500  rows for  TYRION SWD 04SD\n prepDisaggregationPlot:  500  rows for  GT HALL D  1\n prepDisaggregationPlot:  500  rows for  DELPHIN SWD 1\n prepDisaggregationPlot:  500  rows for  STATE UNIVERSITY HUTEX CONS. 22W\n prepDisaggregationPlot:  500  rows for  JONES-HOLTON D 4D\n prepDisaggregationPlot:  500  rows for  GILBERT, G. WRIGHT. JR. ESTATE 1\n prepDisaggregationPlot:  500  rows for  WILBANKS 16 6D\n prepDisaggregationPlot:  500  rows for  WILKINSON RANCH 35 5D\n prepDisaggregationPlot:  500  rows for  All 242 Others Below 0.5 PSI\n"
     ]
    }
   ],
   "source": [
    "disaggregationDF=gi.prepDisaggregationPlot(filteredDF,orderedWellList,jitter=0.1,verbose=1)"
   ]
  },
  {
   "cell_type": "code",
   "execution_count": 0,
   "metadata": {
    "application/vnd.databricks.v1+cell": {
     "cellMetadata": {
      "byteLimit": 2048000,
      "rowLimit": 10000
     },
     "inputWidgets": {},
     "nuid": "2f954928-3373-475d-9584-c75b31b62e95",
     "showTitle": true,
     "tableResultSettingsMap": {},
     "title": "Generate Results For R-MinusT Plot"
    }
   },
   "outputs": [],
   "source": [
    "diffRange=(min(gist.diffPPVec),max(gist.diffPPVec))\n",
    "rtDF,mergedWellsDF = gi.prepRTPlot(selectedWellsDF,ignoredWellsDF,minYear,diffRange,clipYear=False)"
   ]
  },
  {
   "cell_type": "code",
   "execution_count": 0,
   "metadata": {
    "application/vnd.databricks.v1+cell": {
     "cellMetadata": {
      "byteLimit": 2048000,
      "rowLimit": 10000
     },
     "inputWidgets": {},
     "nuid": "2419da03-31b9-4965-af0c-272e4ca4e537",
     "showTitle": true,
     "tableResultSettingsMap": {},
     "title": "Isolate nonnegligible wells and disposal data"
    }
   },
   "outputs": [],
   "source": [
    "winWellsDF,winInjDF=gi.getWinWells(filteredDF,selectedWellsDF,injDF)"
   ]
  },
  {
   "cell_type": "code",
   "execution_count": 0,
   "metadata": {
    "application/vnd.databricks.v1+cell": {
     "cellMetadata": {
      "byteLimit": 2048000,
      "rowLimit": 10000
     },
     "inputWidgets": {},
     "nuid": "0999e7ec-4252-48c7-9b3d-233e0d78b2ce",
     "showTitle": true,
     "tableResultSettingsMap": {},
     "title": "Compute Time Series of Pressures for material wells"
    }
   },
   "outputs": [],
   "source": [
    "# Slower implementation:\n",
    "#scenarioTSDF,dPTimeSeries,wellIDs,dayVec = gist.runPressureScenariosTimeSeries(eq,winWellsDF,winInjDF,verbose=verb)\n",
    "#scenarioTSDF,dPTimeSeries,wellIDs,dayVec = gist.runPressureScenariosTimeSeriesTest(eq,winWellsDF,winInjDF,verbose=verb)"
   ]
  },
  {
   "cell_type": "code",
   "execution_count": 0,
   "metadata": {
    "application/vnd.databricks.v1+cell": {
     "cellMetadata": {
      "byteLimit": 2048000,
      "rowLimit": 10000
     },
     "inputWidgets": {},
     "nuid": "1ac46fcf-0060-4679-9285-3e807fa9abd8",
     "showTitle": false,
     "tableResultSettingsMap": {},
     "title": ""
    }
   },
   "outputs": [],
   "source": [
    "\n",
    "scenarioTSRDF,dPTimeSeriesR,wellIDsR,dayVecR = gist.runPressureScenariosTimeSeries(eq,winWellsDF,winInjDF,verbose=verb)"
   ]
  },
  {
   "cell_type": "code",
   "execution_count": 0,
   "metadata": {
    "application/vnd.databricks.v1+cell": {
     "cellMetadata": {
      "byteLimit": 2048000,
      "rowLimit": 10000
     },
     "inputWidgets": {},
     "nuid": "7651d8c1-bcf2-418b-92fa-6a549ec3886b",
     "showTitle": true,
     "tableResultSettingsMap": {},
     "title": "Generate results for total time series plot"
    }
   },
   "outputs": [
    {
     "output_type": "stream",
     "name": "stdout",
     "output_type": "stream",
     "text": [
      "prepTotalPressureTimeSeriesPlot: deltaPP.shape= (39, 500, 1468)  dayVec.shape= (1468,)\nprepTotalPressureTimeSeriesPlot: totalDeltaPP.shape= (500, 1468)\nprepTotalPressureTimeSeriesPlot: quantiles: [0.0, 10.0, 20.0, 30.1, 40.1, 50.1, 59.9, 69.9, 80.0, 90.0, 100.0]\n        DeltaPressure     Days  Realization  Percentile  Ordering       Date\n0            0.000000   5450.0            0         0.0       0.0 1984-12-03\n1            0.000000   5460.0            0         0.0       0.0 1984-12-13\n2            0.000000   5470.0            0         0.0       0.0 1984-12-23\n3            0.000000   5480.0            0         0.0       0.0 1985-01-02\n4            0.000000   5490.0            0         0.0       0.0 1985-01-12\n...               ...      ...          ...         ...       ...        ...\n733102       0.224215  11150.0          499        20.0     100.0 2000-07-12\n733103       0.224149  11160.0          499        20.0     100.0 2000-07-22\n733495       0.305871  15080.0          499        20.0     100.0 2011-04-16\n733816       1.974447  18290.0          499        30.1     150.0 2020-01-29\n733831       2.821332  18440.0          499        20.0     100.0 2020-06-27\n\n[16148 rows x 6 columns]\n"
     ]
    }
   ],
   "source": [
    "totalPPQuantilesDF=gi.prepTotalPressureTimeSeriesPlot(dPTimeSeriesR,dayVecR,nQuantiles=11,epoch=pd.to_datetime('1970-01-01'),verbose=1)\n",
    "print(totalPPQuantilesDF)"
   ]
  },
  {
   "cell_type": "code",
   "execution_count": 0,
   "metadata": {
    "application/vnd.databricks.v1+cell": {
     "cellMetadata": {
      "byteLimit": 2048000,
      "rowLimit": 10000
     },
     "inputWidgets": {},
     "nuid": "2c7f1e91-61f1-4c15-bb6e-a029dbf09805",
     "showTitle": true,
     "tableResultSettingsMap": {},
     "title": "Generate results for per-well time series plot"
    }
   },
   "outputs": [],
   "source": [
    "allPPQuantilesDF=gi.getPerWellPressureTimeSeriesQuantiles(dPTimeSeriesR,dayVecR,wellIDsR,nQuantiles=11,epoch=pd.to_datetime('01-01-1970'))\n",
    "wellPressureDict=gi.prepPressureAndDisposalTimeSeriesPlots(allPPQuantilesDF,winWellsDF,winInjDF,orderedWellList[:-1],verbose=0)"
   ]
  },
  {
   "cell_type": "code",
   "execution_count": 0,
   "metadata": {
    "application/vnd.databricks.v1+cell": {
     "cellMetadata": {
      "byteLimit": 2048000,
      "rowLimit": 10000
     },
     "inputWidgets": {},
     "nuid": "348d7925-7907-4739-b2aa-7971b25e48ca",
     "showTitle": true,
     "tableResultSettingsMap": {},
     "title": "Sum Time Series"
    }
   },
   "outputs": [
    {
     "output_type": "stream",
     "name": "stdout",
     "output_type": "stream",
     "text": [
      "{'MARIENFELD 13 1D': {'PPQuantiles':           DeltaPressure     Days  Realization  ...  Percentile   WellID       Date\n11011256       0.005123  18010.0            0  ...        69.9  2121094 2019-04-24\n11011261       0.053958  18060.0            0  ...        59.9  2121094 2019-06-13\n11012756       1.144692  18330.0            1  ...        30.1  2121094 2020-03-09\n11014192       0.002166  18010.0            2  ...        50.1  2121094 2019-04-24\n11014289       5.595928  18980.0            2  ...        50.1  2121094 2021-12-19\n...                 ...      ...          ...  ...         ...      ...        ...\n11742340       0.968058  18210.0          498  ...        69.9  2121094 2019-11-10\n11742466       7.578701  19470.0          498  ...        59.9  2121094 2023-04-23\n11743854       2.423335  18670.0          499  ...        10.0  2121094 2021-02-12\n11743856       2.466120  18690.0          499  ...        10.0  2121094 2021-03-04\n11743857       2.461211  18700.0          499  ...        10.0  2121094 2021-03-14\n\n[2354 rows x 7 columns], 'Disposal':              ID     Days     BPD        Date\n546650  2121094  17980.0     0.0  2019-03-25\n546651  2121094  17990.0   384.7  2019-04-04\n546652  2121094  18000.0  1394.0  2019-04-14\n546653  2121094  18010.0  1394.0  2019-04-24\n546654  2121094  18020.0  1345.0  2019-05-04\n...         ...      ...     ...         ...\n546859  2121094  20070.0  4717.2  2024-12-13\n546860  2121094  20080.0  4713.3  2024-12-23\n546861  2121094  20090.0  4603.8  2025-01-02\n546862  2121094  20100.0  4801.0  2025-01-12\n546863  2121094  20110.0  1920.4  2025-01-22\n\n[214 rows x 4 columns], 'WellInfo':     index       ID  ...         EventID    TotalBBL\n15     73  2121094  ...  texnet2024oqfb  16713410.0\n\n[1 rows x 71 columns]}, 'ANNALEA SWD 1': {'PPQuantiles':           DeltaPressure     Days  Realization  ...  Percentile   WellID       Date\n18351227       0.000000  17720.0            0  ...         0.0  2121271 2018-07-08\n18351228       0.000000  17730.0            0  ...         0.0  2121271 2018-07-18\n18351229       0.000000  17740.0            0  ...         0.0  2121271 2018-07-28\n18351245       0.064153  17900.0            0  ...        69.9  2121271 2019-01-04\n18351246       0.076314  17910.0            0  ...        69.9  2121271 2019-01-14\n...                 ...      ...          ...  ...         ...      ...        ...\n19083854       0.862921  18670.0          499  ...        30.1  2121271 2021-02-12\n19083919       1.762458  19320.0          499  ...        20.0  2121271 2022-11-24\n19083920       1.772932  19330.0          499  ...        20.0  2121271 2022-12-04\n19083921       1.783043  19340.0          499  ...        20.0  2121271 2022-12-14\n19083922       1.792845  19350.0          499  ...        20.0  2121271 2022-12-24\n\n[2651 rows x 7 columns], 'Disposal':              ID     Days     BPD        Date\n732827  2121271  17710.0     0.0  2018-06-28\n732828  2121271  17720.0     0.0  2018-07-08\n732829  2121271  17730.0     0.0  2018-07-18\n732830  2121271  17740.0     0.0  2018-07-28\n732831  2121271  17750.0  9389.9  2018-08-07\n...         ...      ...     ...         ...\n733063  2121271  20070.0  8158.3  2024-12-13\n733064  2121271  20080.0  7082.2  2024-12-23\n733065  2121271  20090.0  8271.8  2025-01-02\n733066  2121271  20100.0     0.0  2025-01-12\n733067  2121271  20110.0     0.0  2025-01-22\n\n[241 rows x 4 columns], 'WellInfo':     index       ID  ...         EventID    TotalBBL\n25    124  2121271  ...  texnet2024oqfb  31022021.0\n\n[1 rows x 71 columns]}, 'PALO VERDE 1': {'PPQuantiles':           DeltaPressure     Days  Realization  ...  Percentile   WellID       Date\n16149346       0.000000  18910.0            0  ...         0.0  2123938 2021-10-10\n16149347       0.000000  18920.0            0  ...         0.0  2123938 2021-10-20\n16149348       0.000000  18930.0            0  ...         0.0  2123938 2021-10-30\n16149349       0.000000  18940.0            0  ...         0.0  2123938 2021-11-09\n16149350       0.000000  18950.0            0  ...         0.0  2123938 2021-11-19\n...                 ...      ...          ...  ...         ...      ...        ...\n16881886       0.000000  18990.0          499  ...       100.0  2123938 2021-12-29\n16881887       0.000000  19000.0          499  ...       100.0  2123938 2022-01-08\n16881888       0.000000  19010.0          499  ...       100.0  2123938 2022-01-18\n16881889       0.000000  19020.0          499  ...       100.0  2123938 2022-01-28\n16881918       0.010363  19310.0          499  ...        59.9  2123938 2022-11-14\n\n[1342 rows x 7 columns], 'Disposal':              ID     Days      BPD        Date\n566980  2123938  18900.0      0.0  2021-09-30\n566981  2123938  18910.0      0.0  2021-10-10\n566982  2123938  18920.0      0.0  2021-10-20\n566983  2123938  18930.0      0.0  2021-10-30\n566984  2123938  18940.0      0.0  2021-11-09\n...         ...      ...      ...         ...\n567097  2123938  20070.0  32915.0  2024-12-13\n567098  2123938  20080.0  33296.8  2024-12-23\n567099  2123938  20090.0  33245.0  2025-01-02\n567100  2123938  20100.0  19135.1  2025-01-12\n567101  2123938  20110.0      0.0  2025-01-22\n\n[122 rows x 4 columns], 'WellInfo':     index       ID  ...         EventID    TotalBBL\n22     90  2123938  ...  texnet2024oqfb  30328284.0\n\n[1 rows x 71 columns]}, 'FAUDREE 1D': {'PPQuantiles':          DeltaPressure     Days  Realization  ...  Percentile   WellID       Date\n8075299       0.000000  18440.0            0  ...         0.0  2117885 2020-06-27\n8075356       0.011581  19010.0            0  ...        69.9  2117885 2022-01-18\n8075357       0.012350  19020.0            0  ...        69.9  2117885 2022-01-28\n8075358       0.013179  19030.0            0  ...        69.9  2117885 2022-02-07\n8075359       0.014076  19040.0            0  ...        69.9  2117885 2022-02-17\n...                ...      ...          ...  ...         ...      ...        ...\n8796210       0.010794  19670.0          491  ...        20.0  2117885 2023-11-09\n8799066       0.006745  18870.0          493  ...        80.0  2117885 2021-08-31\n8806491       0.181679  19720.0          498  ...        50.1  2117885 2023-12-29\n8807831       0.000000  18440.0          499  ...       100.0  2117885 2020-06-27\n8807948       0.135746  19610.0          499  ...        50.1  2117885 2023-09-10\n\n[1859 rows x 7 columns], 'Disposal':              ID     Days      BPD        Date\n530275  2117885  18430.0      0.0  2020-06-17\n530276  2117885  18440.0      0.0  2020-06-27\n530277  2117885  18450.0     92.3  2020-07-07\n530278  2117885  18460.0      0.0  2020-07-17\n530279  2117885  18470.0   1024.0  2020-07-27\n...         ...      ...      ...         ...\n530439  2117885  20070.0  18076.4  2024-12-13\n530440  2117885  20080.0  15843.2  2024-12-23\n530441  2117885  20090.0  16594.9  2025-01-02\n530442  2117885  20100.0      0.0  2025-01-12\n530443  2117885  20110.0      0.0  2025-01-22\n\n[169 rows x 4 columns], 'WellInfo':     index       ID  ...         EventID    TotalBBL\n11     62  2117885  ...  texnet2024oqfb  19830809.0\n\n[1 rows x 71 columns]}, 'NEPTUNE SWD 1': {'PPQuantiles':          DeltaPressure     Days  Realization  ...  Percentile   WellID       Date\n4405223       0.000000  17680.0            0  ...         0.0  2111946 2018-05-29\n4405224       0.000000  17690.0            0  ...         0.0  2111946 2018-06-08\n4405225       0.000000  17700.0            0  ...         0.0  2111946 2018-06-18\n4405226       0.000000  17710.0            0  ...         0.0  2111946 2018-06-28\n4405227       0.000000  17720.0            0  ...         0.0  2111946 2018-07-08\n...                ...      ...          ...  ...         ...      ...        ...\n5137760       0.000000  17730.0          499  ...       100.0  2111946 2018-07-18\n5137761       0.000000  17740.0          499  ...       100.0  2111946 2018-07-28\n5137836       0.006648  18490.0          499  ...        59.9  2111946 2020-08-16\n5137837       0.007087  18500.0          499  ...        59.9  2111946 2020-08-26\n5137929       0.131580  19420.0          499  ...        50.1  2111946 2023-03-04\n\n[2695 rows x 7 columns], 'Disposal':              ID     Days      BPD        Date\n514853  2111946  17670.0      0.0  2018-05-19\n514854  2111946  17680.0      0.0  2018-05-29\n514855  2111946  17690.0      0.0  2018-06-08\n514856  2111946  17700.0      0.0  2018-06-18\n514857  2111946  17710.0      0.0  2018-06-28\n...         ...      ...      ...         ...\n515093  2111946  20070.0  14718.4  2024-12-13\n515094  2111946  20080.0  14765.8  2024-12-23\n515095  2111946  20090.0  13978.8  2025-01-02\n515096  2111946  20100.0      0.0  2025-01-12\n515097  2111946  20110.0      0.0  2025-01-22\n\n[245 rows x 4 columns], 'WellInfo':    index       ID  ...         EventID    TotalBBL\n6     49  2111946  ...  texnet2024oqfb  25945956.0\n\n[1 rows x 71 columns]}, 'DICKENSON 20 8D': {'PPQuantiles':           DeltaPressure     Days  Realization  ...  Percentile   WellID       Date\n19085184       0.000000  17290.0            0  ...         0.0  2109094 2017-05-04\n19085185       0.000000  17300.0            0  ...         0.0  2109094 2017-05-14\n19085186       0.000000  17310.0            0  ...         0.0  2109094 2017-05-24\n19085187       0.000000  17320.0            0  ...         0.0  2109094 2017-06-03\n19085188       0.000000  17330.0            0  ...         0.0  2109094 2017-06-13\n...                 ...      ...          ...  ...         ...      ...        ...\n19817937       0.230913  19500.0          499  ...        40.1  2109094 2023-05-23\n19817938       0.231953  19510.0          499  ...        40.1  2109094 2023-06-02\n19817939       0.232992  19520.0          499  ...        40.1  2109094 2023-06-12\n19817940       0.234032  19530.0          499  ...        40.1  2109094 2023-06-22\n19817941       0.235071  19540.0          499  ...        40.1  2109094 2023-07-02\n\n[3124 rows x 7 columns], 'Disposal':              ID     Days     BPD        Date\n742969  2109094  17280.0     0.0  2017-04-24\n742970  2109094  17290.0     0.0  2017-05-04\n742971  2109094  17300.0     0.0  2017-05-14\n742972  2109094  17310.0     0.0  2017-05-24\n742973  2109094  17320.0     0.0  2017-06-03\n...         ...      ...     ...         ...\n743248  2109094  20070.0  3233.0  2024-12-13\n743249  2109094  20080.0  3233.0  2024-12-23\n743250  2109094  20090.0  3233.0  2025-01-02\n743251  2109094  20100.0     0.0  2025-01-12\n743252  2109094  20110.0     0.0  2025-01-22\n\n[284 rows x 4 columns], 'WellInfo':     index       ID  ...         EventID    TotalBBL\n26    134  2109094  ...  texnet2024oqfb  16136921.0\n\n[1 rows x 71 columns]}, 'CORFU SWD 1': {'PPQuantiles':           DeltaPressure     Days  Realization  ...  Percentile   WellID       Date\n21287266       0.000000  18110.0            0  ...         0.0  2116501 2019-08-02\n21287267       0.000000  18120.0            0  ...         0.0  2116501 2019-08-12\n21287268       0.000000  18130.0            0  ...         0.0  2116501 2019-08-22\n21287269       0.000000  18140.0            0  ...         0.0  2116501 2019-09-01\n21287373       0.060410  19180.0            0  ...        69.9  2116501 2022-07-07\n...                 ...      ...          ...  ...         ...      ...        ...\n22019800       0.000000  18130.0          499  ...       100.0  2116501 2019-08-22\n22019801       0.000000  18140.0          499  ...       100.0  2116501 2019-09-01\n22019878       0.010210  18910.0          499  ...        59.9  2116501 2021-10-10\n22019971       0.152409  19840.0          499  ...        50.1  2116501 2024-04-27\n22019972       0.154497  19850.0          499  ...        50.1  2116501 2024-05-07\n\n[2222 rows x 7 columns], 'Disposal':              ID     Days     BPD        Date\n745707  2116501  18100.0     0.0  2019-07-23\n745708  2116501  18110.0     0.0  2019-08-02\n745709  2116501  18120.0     0.0  2019-08-12\n745710  2116501  18130.0     0.0  2019-08-22\n745711  2116501  18140.0     0.0  2019-09-01\n...         ...      ...     ...         ...\n745904  2116501  20070.0  1649.9  2024-12-13\n745905  2116501  20080.0  3845.9  2024-12-23\n745906  2116501  20090.0  3677.7  2025-01-02\n745907  2116501  20100.0  1955.5  2025-01-12\n745908  2116501  20110.0     0.0  2025-01-22\n\n[202 rows x 4 columns], 'WellInfo':     index       ID  ...         EventID    TotalBBL\n29    140  2116501  ...  texnet2024oqfb  28488228.0\n\n[1 rows x 71 columns]}, 'SALE RANCH 27 1DD': {'PPQuantiles':          DeltaPressure     Days  Realization  ...  Percentile   WellID       Date\n5139342   0.000000e+00  18870.0            0  ...         0.0  2112288 2021-08-31\n5139417   8.025046e-02  19620.0            0  ...        69.9  2112288 2023-09-20\n5139418   8.397662e-02  19630.0            0  ...        69.9  2112288 2023-09-30\n5139419   8.778870e-02  19640.0            0  ...        69.9  2112288 2023-10-10\n5139423   1.038734e-01  19680.0            0  ...        69.9  2112288 2023-11-19\n...                ...      ...          ...  ...         ...      ...        ...\n5867479   6.370043e-10  18960.0          496  ...        90.0  2112288 2021-11-29\n5867586   3.051386e-01  20030.0          496  ...        69.9  2112288 2024-11-03\n5871874   0.000000e+00  18870.0          499  ...       100.0  2112288 2021-08-31\n5871930   1.304634e-02  19430.0          499  ...        59.9  2112288 2023-03-14\n5871995   1.999905e-01  20080.0          499  ...        50.1  2112288 2024-12-23\n\n[1386 rows x 7 columns], 'Disposal':              ID     Days      BPD        Date\n516983  2112288  18860.0      0.0  2021-08-21\n516984  2112288  18870.0      0.0  2021-08-31\n516985  2112288  18880.0    832.8  2021-09-10\n516986  2112288  18890.0   3458.1  2021-09-20\n516987  2112288  18900.0  19564.4  2021-09-30\n...         ...      ...      ...         ...\n517104  2112288  20070.0  19307.9  2024-12-13\n517105  2112288  20080.0  12661.2  2024-12-23\n517106  2112288  20090.0  12563.7  2025-01-02\n517107  2112288  20100.0      0.0  2025-01-12\n517108  2112288  20110.0      0.0  2025-01-22\n\n[126 rows x 4 columns], 'WellInfo':    index       ID  ...         EventID    TotalBBL\n7     52  2112288  ...  texnet2024oqfb  25104190.0\n\n[1 rows x 71 columns]}, 'PAT, K. 3': {'PPQuantiles':           DeltaPressure     Days  Realization  ...  Percentile   WellID       Date\n22020417       0.000000   9620.0            0  ...         0.0  2081404 1996-05-04\n22020418       0.000000   9630.0            0  ...         0.0  2081404 1996-05-14\n22020419       0.000000   9640.0            0  ...         0.0  2081404 1996-05-24\n22020420       0.000000   9650.0            0  ...         0.0  2081404 1996-06-03\n22020421       0.000000   9660.0            0  ...         0.0  2081404 1996-06-13\n...                 ...      ...          ...  ...         ...      ...        ...\n22753205       0.003586  12180.0          499  ...        59.9  2081404 2003-05-08\n22753206       0.003659  12190.0          499  ...        59.9  2081404 2003-05-18\n22753467       0.048600  14800.0          499  ...        50.1  2081404 2010-07-10\n22753468       0.048851  14810.0          499  ...        50.1  2081404 2010-07-20\n22753469       0.049101  14820.0          499  ...        50.1  2081404 2010-07-30\n\n[11561 rows x 7 columns], 'Disposal':              ID     Days  BPD        Date\n747701  2081404   9610.0  0.0  1996-04-24\n747702  2081404   9620.0  0.0  1996-05-04\n747703  2081404   9630.0  0.0  1996-05-14\n747704  2081404   9640.0  0.0  1996-05-24\n747705  2081404   9650.0  0.0  1996-06-03\n...         ...      ...  ...         ...\n748747  2081404  20070.0  0.0  2024-12-13\n748748  2081404  20080.0  0.0  2024-12-23\n748749  2081404  20090.0  0.0  2025-01-02\n748750  2081404  20100.0  0.0  2025-01-12\n748751  2081404  20110.0  0.0  2025-01-22\n\n[1051 rows x 4 columns], 'WellInfo':     index       ID  ...         EventID    TotalBBL\n30    143  2081404  ...  texnet2024oqfb  54376264.0\n\n[1 rows x 71 columns]}, 'SALT LAKE SWD 1': {'PPQuantiles':           DeltaPressure     Days  Realization  ...  Percentile   WellID       Date\n25691276       0.000000  18210.0            0  ...         0.0  2114817 2019-11-10\n25691277       0.000000  18220.0            0  ...         0.0  2114817 2019-11-20\n25691278       0.000000  18230.0            0  ...         0.0  2114817 2019-11-30\n25691307       0.007479  18520.0            0  ...        69.9  2114817 2020-09-15\n25691308       0.008554  18530.0            0  ...        69.9  2114817 2020-09-25\n...                 ...      ...          ...  ...         ...      ...        ...\n26423808       0.000000  18210.0          499  ...       100.0  2114817 2019-11-10\n26423809       0.000000  18220.0          499  ...       100.0  2114817 2019-11-20\n26423810       0.000000  18230.0          499  ...       100.0  2114817 2019-11-30\n26423833       0.001179  18460.0          499  ...        59.9  2114817 2020-07-17\n26423852       0.015310  18650.0          499  ...        50.1  2114817 2021-01-23\n\n[2112 rows x 7 columns], 'Disposal':              ID     Days  BPD        Date\n899070  2114817  18200.0  0.0  2019-10-31\n899071  2114817  18210.0  0.0  2019-11-10\n899072  2114817  18220.0  0.0  2019-11-20\n899073  2114817  18230.0  0.0  2019-11-30\n899074  2114817  18240.0  4.5  2019-12-10\n...         ...      ...  ...         ...\n899257  2114817  20070.0  0.0  2024-12-13\n899258  2114817  20080.0  0.0  2024-12-23\n899259  2114817  20090.0  0.0  2025-01-02\n899260  2114817  20100.0  0.0  2025-01-12\n899261  2114817  20110.0  0.0  2025-01-22\n\n[192 rows x 4 columns], 'WellInfo':     index       ID  ...         EventID   TotalBBL\n35    216  2114817  ...  texnet2024oqfb  4613775.0\n\n[1 rows x 71 columns]}, 'LIMEQUEST 6 SWD 1D': {'PPQuantiles':          DeltaPressure     Days  Realization  ...  Percentile   WellID       Date\n1469193       0.000000  17380.0            0  ...         0.0  2112104 2017-08-02\n1469194       0.000000  17390.0            0  ...         0.0  2112104 2017-08-12\n1469195       0.000000  17400.0            0  ...         0.0  2112104 2017-08-22\n1469196       0.000000  17410.0            0  ...         0.0  2112104 2017-09-01\n1469197       0.000000  17420.0            0  ...         0.0  2112104 2017-09-11\n...                ...      ...          ...  ...         ...      ...        ...\n2201973       0.129519  19860.0          499  ...        50.1  2112104 2024-05-17\n2201974       0.131095  19870.0          499  ...        50.1  2112104 2024-05-27\n2201975       0.132674  19880.0          499  ...        50.1  2112104 2024-06-06\n2201976       0.134257  19890.0          499  ...        50.1  2112104 2024-06-16\n2201977       0.135842  19900.0          499  ...        50.1  2112104 2024-06-26\n\n[3025 rows x 7 columns], 'Disposal':              ID     Days      BPD        Date\n510237  2112104  17370.0      0.0  2017-07-23\n510238  2112104  17380.0      0.0  2017-08-02\n510239  2112104  17390.0      0.0  2017-08-12\n510240  2112104  17400.0      0.0  2017-08-22\n510241  2112104  17410.0      0.0  2017-09-01\n...         ...      ...      ...         ...\n510507  2112104  20070.0  16547.7  2024-12-13\n510508  2112104  20080.0   8771.4  2024-12-23\n510509  2112104  20090.0   7696.6  2025-01-02\n510510  2112104  20100.0      0.0  2025-01-12\n510511  2112104  20110.0      0.0  2025-01-22\n\n[275 rows x 4 columns], 'WellInfo':    index       ID  ...         EventID    TotalBBL\n2     41  2112104  ...  texnet2024oqfb  34841155.0\n\n[1 rows x 71 columns]}, 'MCMORRIES 18 SWD 2D': {'PPQuantiles':           DeltaPressure     Days  Realization  ...  Percentile   WellID       Date\n24223353       0.055685  18980.0            0  ...        69.9  2111358 2021-12-19\n24223354       0.057064  18990.0            0  ...        69.9  2111358 2021-12-29\n24223355       0.058455  19000.0            0  ...        69.9  2111358 2022-01-08\n24223356       0.059857  19010.0            0  ...        69.9  2111358 2022-01-18\n24223360       0.065577  19050.0            0  ...        69.9  2111358 2022-02-27\n...                 ...      ...          ...  ...         ...      ...        ...\n24951548       0.179403  19650.0          496  ...        69.9  2111358 2023-10-20\n24951550       0.182861  19670.0          496  ...        69.9  2111358 2023-11-09\n24955853       0.009794  18660.0          499  ...        59.9  2111358 2021-02-02\n24955961       0.117696  19740.0          499  ...        50.1  2111358 2024-01-18\n24955962       0.119026  19750.0          499  ...        50.1  2111358 2024-01-28\n\n[2717 rows x 7 columns], 'Disposal':              ID     Days     BPD        Date\n804808  2111358  17650.0     0.0  2018-04-29\n804809  2111358  17660.0  8378.1  2018-05-09\n804810  2111358  17670.0  9646.0  2018-05-19\n804811  2111358  17680.0  9646.0  2018-05-29\n804812  2111358  17690.0  8811.4  2018-06-08\n...         ...      ...     ...         ...\n805050  2111358  20070.0     0.0  2024-12-13\n805051  2111358  20080.0     0.0  2024-12-23\n805052  2111358  20090.0     0.0  2025-01-02\n805053  2111358  20100.0     0.0  2025-01-12\n805054  2111358  20110.0     0.0  2025-01-22\n\n[247 rows x 4 columns], 'WellInfo':     index       ID  ...         EventID    TotalBBL\n33    172  2111358  ...  texnet2024oqfb  27329562.0\n\n[1 rows x 71 columns]}, 'BERRY SWD 1': {'PPQuantiles':           DeltaPressure     Days  Realization  ...  Percentile   WellID       Date\n12479197       0.000000  17420.0            0  ...         0.0  2121191 2017-09-11\n12479198       0.000000  17430.0            0  ...         0.0  2121191 2017-09-21\n12479199       0.000000  17440.0            0  ...         0.0  2121191 2017-10-01\n12479200       0.000000  17450.0            0  ...         0.0  2121191 2017-10-11\n12479201       0.000000  17460.0            0  ...         0.0  2121191 2017-10-21\n...                 ...      ...          ...  ...         ...      ...        ...\n13211834       0.010253  18470.0          499  ...        59.9  2121191 2020-07-27\n13211940       0.099897  19530.0          499  ...        50.1  2121191 2023-06-22\n13211941       0.100914  19540.0          499  ...        50.1  2121191 2023-07-02\n13211942       0.101931  19550.0          499  ...        50.1  2121191 2023-07-12\n13211943       0.102949  19560.0          499  ...        50.1  2121191 2023-07-22\n\n[2981 rows x 7 columns], 'Disposal':              ID     Days     BPD        Date\n551160  2121191  17410.0     0.0  2017-09-01\n551161  2121191  17420.0     0.0  2017-09-11\n551162  2121191  17430.0     0.0  2017-09-21\n551163  2121191  17440.0     0.0  2017-10-01\n551164  2121191  17450.0     0.0  2017-10-11\n...         ...      ...     ...         ...\n551426  2121191  20070.0  9119.0  2024-12-13\n551427  2121191  20080.0  9119.0  2024-12-23\n551428  2121191  20090.0  9119.0  2025-01-02\n551429  2121191  20100.0     0.0  2025-01-12\n551430  2121191  20110.0     0.0  2025-01-22\n\n[271 rows x 4 columns], 'WellInfo':     index       ID  ...         EventID    TotalBBL\n17     78  2121191  ...  texnet2024oqfb  28636536.0\n\n[1 rows x 71 columns]}, 'PENROSE-OLDHAM SWD 2': {'PPQuantiles':           DeltaPressure     Days  Realization  ...  Percentile   WellID       Date\n26424057       0.000000   6020.0            0  ...         0.0  2056720 1986-06-26\n26424115       0.014342   6600.0            0  ...        69.9  2056720 1988-01-27\n26424116       0.015098   6610.0            0  ...        69.9  2056720 1988-02-06\n26424118       0.016625   6630.0            0  ...        69.9  2056720 1988-02-26\n26424119       0.017393   6640.0            0  ...        69.9  2056720 1988-03-07\n...                 ...      ...          ...  ...         ...      ...        ...\n27157593       0.092489  16060.0          499  ...        10.0  2056720 2013-12-21\n27157594       0.092399  16070.0          499  ...        10.0  2056720 2013-12-31\n27157595       0.092309  16080.0          499  ...        10.0  2056720 2014-01-10\n27157596       0.092218  16090.0          499  ...        10.0  2056720 2014-01-20\n27157597       0.092128  16100.0          499  ...        10.0  2056720 2014-01-30\n\n[15521 rows x 7 columns], 'Disposal':              ID     Days     BPD        Date\n936131  2056720   6010.0     0.0  1986-06-16\n936132  2056720   6020.0     0.0  1986-06-26\n936133  2056720   6030.0  3896.1  1986-07-06\n936134  2056720   6040.0  4329.0  1986-07-16\n936135  2056720   6050.0  4329.0  1986-07-26\n...         ...      ...     ...         ...\n937537  2056720  20070.0     0.0  2024-12-13\n937538  2056720  20080.0     0.0  2024-12-23\n937539  2056720  20090.0     0.0  2025-01-02\n937540  2056720  20100.0     0.0  2025-01-12\n937541  2056720  20110.0     0.0  2025-01-22\n\n[1411 rows x 4 columns], 'WellInfo':     index       ID  ...         EventID   TotalBBL\n36    242  2056720  ...  texnet2024oqfb  8439666.0\n\n[1 rows x 71 columns]}, 'DAGGER LAKE SWD 08SD': {'PPQuantiles':          DeltaPressure     Days  Realization  ...  Percentile   WellID       Date\n5873257       0.000000  18020.0            0  ...         0.0  2113898 2019-05-04\n5873258       0.000000\n\n*** WARNING: max output size exceeded, skipping output. ***\n\n05036  20100.0     0.0  2025-01-12\n505374  2105036  20110.0     0.0  2025-01-22\n\n[384 rows x 4 columns], 'WellInfo':    index       ID  ...         EventID    TotalBBL\n1     37  2105036  ...  texnet2024oqfb  21825454.0\n\n[1 rows x 71 columns]}, 'WATERBURGER 1D': {'PPQuantiles':          DeltaPressure     Days  Realization  ...  Percentile   WellID       Date\n7341249       0.000000  17940.0            0  ...         0.0  2120859 2019-02-13\n7341250       0.000000  17950.0            0  ...         0.0  2120859 2019-02-23\n7341251       0.000000  17960.0            0  ...         0.0  2120859 2019-03-05\n7341252       0.000000  17970.0            0  ...         0.0  2120859 2019-03-15\n7341253       0.000000  17980.0            0  ...         0.0  2120859 2019-03-25\n...                ...      ...          ...  ...         ...      ...        ...\n8073785       0.000000  17980.0          499  ...       100.0  2120859 2019-03-25\n8073786       0.000000  17990.0          499  ...       100.0  2120859 2019-04-04\n8073787       0.000000  18000.0          499  ...       100.0  2120859 2019-04-14\n8073788       0.000000  18010.0          499  ...       100.0  2120859 2019-04-24\n8073898       0.007018  19110.0          499  ...        59.9  2120859 2022-04-28\n\n[2409 rows x 7 columns], 'Disposal':              ID     Days  BPD        Date\n529791  2120859  17930.0  0.0  2019-02-03\n529792  2120859  17940.0  0.0  2019-02-13\n529793  2120859  17950.0  0.0  2019-02-23\n529794  2120859  17960.0  0.0  2019-03-05\n529795  2120859  17970.0  0.0  2019-03-15\n...         ...      ...  ...         ...\n530005  2120859  20070.0  0.0  2024-12-13\n530006  2120859  20080.0  0.0  2024-12-23\n530007  2120859  20090.0  0.0  2025-01-02\n530008  2120859  20100.0  0.0  2025-01-12\n530009  2120859  20110.0  0.0  2025-01-22\n\n[219 rows x 4 columns], 'WellInfo':     index       ID  ...         EventID    TotalBBL\n10     61  2120859  ...  texnet2024oqfb  12814086.0\n\n[1 rows x 71 columns]}, 'SNOWDEN, JOHN 1D': {'PPQuantiles':           DeltaPressure     Days  Realization  ...  Percentile   WellID       Date\n27158147       0.000000   6920.0            0  ...         0.0  2064982 1988-12-12\n27158148       0.000000   6930.0            0  ...         0.0  2064982 1988-12-22\n27158149       0.000000   6940.0            0  ...         0.0  2064982 1989-01-01\n27158150       0.000000   6950.0            0  ...         0.0  2064982 1989-01-11\n27158151       0.000000   6960.0            0  ...         0.0  2064982 1989-01-21\n...                 ...      ...          ...  ...         ...      ...        ...\n27891448       0.017581  14610.0          499  ...        50.1  2064982 2010-01-01\n27891449       0.017668  14620.0          499  ...        50.1  2064982 2010-01-11\n27891450       0.017756  14630.0          499  ...        50.1  2064982 2010-01-21\n27891451       0.017843  14640.0          499  ...        50.1  2064982 2010-01-31\n27891452       0.017930  14650.0          499  ...        50.1  2064982 2010-02-10\n\n[14531 rows x 7 columns], 'Disposal':              ID     Days  BPD        Date\n951382  2064982   6910.0  0.0  1988-12-02\n951383  2064982   6920.0  0.0  1988-12-12\n951384  2064982   6930.0  0.0  1988-12-22\n951385  2064982   6940.0  0.0  1989-01-01\n951386  2064982   6950.0  0.0  1989-01-11\n...         ...      ...  ...         ...\n952698  2064982  20070.0  0.0  2024-12-13\n952699  2064982  20080.0  0.0  2024-12-23\n952700  2064982  20090.0  0.0  2025-01-02\n952701  2064982  20100.0  0.0  2025-01-12\n952702  2064982  20110.0  0.0  2025-01-22\n\n[1321 rows x 4 columns], 'WellInfo':     index       ID  ...         EventID    TotalBBL\n37    249  2064982  ...  texnet2024oqfb  23678605.0\n\n[1 rows x 71 columns]}, 'GUITAR 7 2': {'PPQuantiles':           DeltaPressure     Days  Realization  ...  Percentile   WellID       Date\n11744953       0.000000  14980.0            0  ...         0.0  2119049 2011-01-06\n11744954       0.000000  14990.0            0  ...         0.0  2119049 2011-01-16\n11744955       0.000000  15000.0            0  ...         0.0  2119049 2011-01-26\n11744956       0.000000  15010.0            0  ...         0.0  2119049 2011-02-05\n11744957       0.000000  15020.0            0  ...         0.0  2119049 2011-02-15\n...                 ...      ...          ...  ...         ...      ...        ...\n12477886       0.041552  18990.0          499  ...        50.1  2119049 2021-12-29\n12477887       0.041791  19000.0          499  ...        50.1  2119049 2022-01-08\n12477888       0.042029  19010.0          499  ...        50.1  2119049 2022-01-18\n12477889       0.042267  19020.0          499  ...        50.1  2119049 2022-01-28\n12477890       0.042505  19030.0          499  ...        50.1  2119049 2022-02-07\n\n[5665 rows x 7 columns], 'Disposal':              ID     Days  BPD        Date\n549626  2119049  14970.0  0.0  2010-12-27\n549627  2119049  14980.0  0.0  2011-01-06\n549628  2119049  14990.0  0.0  2011-01-16\n549629  2119049  15000.0  0.0  2011-01-26\n549630  2119049  15010.0  0.0  2011-02-05\n...         ...      ...  ...         ...\n550136  2119049  20070.0  0.0  2024-12-13\n550137  2119049  20080.0  0.0  2024-12-23\n550138  2119049  20090.0  0.0  2025-01-02\n550139  2119049  20100.0  0.0  2025-01-12\n550140  2119049  20110.0  0.0  2025-01-22\n\n[515 rows x 4 columns], 'WellInfo':     index       ID  ...         EventID    TotalBBL\n16     76  2119049  ...  texnet2024oqfb  15513523.0\n\n[1 rows x 71 columns]}, 'AXIS SWD 1': {'PPQuantiles':           DeltaPressure     Days  Realization  ...  Percentile   WellID       Date\n9543422    3.473850e-02  19670.0            0  ...        69.9  2120980 2023-11-09\n9543423    3.567516e-02  19680.0            0  ...        69.9  2120980 2023-11-19\n9543424    3.662625e-02  19690.0            0  ...        69.9  2120980 2023-11-29\n9543425    3.759183e-02  19700.0            0  ...        69.9  2120980 2023-12-09\n9543426    3.857198e-02  19710.0            0  ...        69.9  2120980 2023-12-19\n...                 ...      ...          ...  ...         ...      ...        ...\n10264255   1.382346e-03  20120.0          491  ...        20.0  2120980 2025-02-01\n10267107   1.500557e-02  19280.0          493  ...        80.0  2120980 2022-10-15\n10271436   1.342143e-09  18530.0          496  ...        90.0  2120980 2020-09-25\n10275914   4.423018e-03  19270.0          499  ...        59.9  2120980 2022-10-05\n10275915   4.633011e-03  19280.0          499  ...        59.9  2120980 2022-10-15\n\n[1914 rows x 7 columns], 'Disposal':              ID     Days      BPD        Date\n542140  2120980  18380.0      0.0  2020-04-28\n542141  2120980  18390.0   7640.8  2020-05-08\n542142  2120980  18400.0  15872.2  2020-05-18\n542143  2120980  18410.0  18201.7  2020-05-28\n542144  2120980  18420.0  18011.2  2020-06-07\n...         ...      ...      ...         ...\n542309  2120980  20070.0      0.0  2024-12-13\n542310  2120980  20080.0      0.0  2024-12-23\n542311  2120980  20090.0      0.0  2025-01-02\n542312  2120980  20100.0      0.0  2025-01-12\n542313  2120980  20110.0      0.0  2025-01-22\n\n[174 rows x 4 columns], 'WellInfo':     index       ID  ...         EventID    TotalBBL\n13     68  2120980  ...  texnet2024oqfb  14536988.0\n\n[1 rows x 71 columns]}, 'BEAVER SWD 1D': {'PPQuantiles':           DeltaPressure     Days  Realization  ...  Percentile   WellID       Date\n16883460   7.246167e-02  20050.0            0  ...        69.9  2123953 2024-11-23\n16883461   7.393829e-02  20060.0            0  ...        69.9  2123953 2024-12-03\n16883462   7.542063e-02  20070.0            0  ...        69.9  2123953 2024-12-13\n16883463   7.690853e-02  20080.0            0  ...        69.9  2123953 2024-12-23\n16883465   7.990046e-02  20100.0            0  ...        69.9  2123953 2025-01-12\n...                 ...      ...          ...  ...         ...      ...        ...\n17607153   4.971323e-02  19740.0          493  ...        80.0  2123953 2024-01-18\n17611466   1.127448e-09  18830.0          496  ...        90.0  2123953 2021-07-22\n17611467   3.288559e-09  18840.0          496  ...        90.0  2123953 2021-08-01\n17611536   1.917490e-02  19530.0          496  ...        80.0  2123953 2023-06-22\n17615962   1.603654e-02  19750.0          499  ...        59.9  2123953 2024-01-28\n\n[1617 rows x 7 columns], 'Disposal':              ID     Days      BPD        Date\n568501  2123953  18650.0      0.0  2021-01-23\n568502  2123953  18660.0    783.0  2021-02-02\n568503  2123953  18670.0   4877.8  2021-02-12\n568504  2123953  18680.0   2820.1  2021-02-22\n568505  2123953  18690.0  24715.5  2021-03-04\n...         ...      ...      ...         ...\n568643  2123953  20070.0  13623.2  2024-12-13\n568644  2123953  20080.0  14560.8  2024-12-23\n568645  2123953  20090.0  16170.1  2025-01-02\n568646  2123953  20100.0      0.0  2025-01-12\n568647  2123953  20110.0      0.0  2025-01-22\n\n[147 rows x 4 columns], 'WellInfo':     index       ID  ...         EventID    TotalBBL\n23     91  2123953  ...  texnet2024oqfb  22866417.0\n\n[1 rows x 71 columns]}, 'HOMAN, EUNICE 1': {'PPQuantiles':           DeltaPressure     Days  Realization  ...  Percentile   WellID       Date\n17616002       0.000000   5470.0            0  ...         0.0  2051824 1984-12-23\n17616003       0.000000   5480.0            0  ...         0.0  2051824 1985-01-02\n17616004       0.000000   5490.0            0  ...         0.0  2051824 1985-01-12\n17616005       0.000000   5500.0            0  ...         0.0  2051824 1985-01-22\n17616006       0.000000   5510.0            0  ...         0.0  2051824 1985-02-01\n...                 ...      ...          ...  ...         ...      ...        ...\n18349764       0.068295  17770.0          499  ...        20.0  2051824 2018-08-27\n18349765       0.068269  17780.0          499  ...        20.0  2051824 2018-09-06\n18349766       0.068242  17790.0          499  ...        20.0  2051824 2018-09-16\n18349767       0.068216  17800.0          499  ...        20.0  2051824 2018-09-26\n18349768       0.068190  17810.0          499  ...        20.0  2051824 2018-10-06\n\n[16126 rows x 7 columns], 'Disposal':              ID     Days  BPD        Date\n593293  2051824   5460.0  0.0  1984-12-13\n593294  2051824   5470.0  0.0  1984-12-23\n593295  2051824   5480.0  0.0  1985-01-02\n593296  2051824   5490.0  0.0  1985-01-12\n593297  2051824   5500.0  0.0  1985-01-22\n...         ...      ...  ...         ...\n594754  2051824  20070.0  0.0  2024-12-13\n594755  2051824  20080.0  0.0  2024-12-23\n594756  2051824  20090.0  0.0  2025-01-02\n594757  2051824  20100.0  0.0  2025-01-12\n594758  2051824  20110.0  0.0  2025-01-22\n\n[1466 rows x 4 columns], 'WellInfo':     index       ID  ...         EventID   TotalBBL\n24     97  2051824  ...  texnet2024oqfb  9035765.0\n\n[1 rows x 71 columns]}, 'TYRION SWD 04SD': {'PPQuantiles':           DeltaPressure     Days  Realization  ...  Percentile   WellID       Date\n13947397       0.030946  19420.0            0  ...        69.9  2121715 2023-03-04\n13947398       0.031977  19430.0            0  ...        69.9  2121715 2023-03-14\n13947399       0.033016  19440.0            0  ...        69.9  2121715 2023-03-24\n13947403       0.037214  19480.0            0  ...        69.9  2121715 2023-05-03\n13947404       0.038271  19490.0            0  ...        69.9  2121715 2023-05-13\n...                 ...      ...          ...  ...         ...      ...        ...\n14675568       0.076481  19850.0          496  ...        69.9  2121715 2024-05-07\n14675569       0.077075  19860.0          496  ...        69.9  2121715 2024-05-17\n14678522       0.059732  20030.0          498  ...        50.1  2121715 2024-11-03\n14679891       0.002529  19040.0          499  ...        59.9  2121715 2022-02-17\n14679977       0.049925  19900.0          499  ...        50.1  2121715 2024-06-26\n\n[2057 rows x 7 columns], 'Disposal':              ID     Days     BPD        Date\n555288  2121715  18250.0     0.0  2019-12-20\n555289  2121715  18260.0  1434.9  2019-12-30\n555290  2121715  18270.0  1092.0  2020-01-09\n555291  2121715  18280.0  1181.4  2020-01-19\n555292  2121715  18290.0  3016.7  2020-01-29\n...         ...      ...     ...         ...\n555470  2121715  20070.0     0.0  2024-12-13\n555471  2121715  20080.0     0.0  2024-12-23\n555472  2121715  20090.0     0.0  2025-01-02\n555473  2121715  20100.0     0.0  2025-01-12\n555474  2121715  20110.0     0.0  2025-01-22\n\n[187 rows x 4 columns], 'WellInfo':     index       ID  ...         EventID   TotalBBL\n19     82  2121715  ...  texnet2024oqfb  5527220.0\n\n[1 rows x 71 columns]}, 'GT HALL D  1': {'PPQuantiles':           DeltaPressure     Days  Realization  ...  Percentile   WellID       Date\n19819206   0.000000e+00  17510.0            0  ...         0.0  2110718 2017-12-10\n19819207   0.000000e+00  17520.0            0  ...         0.0  2110718 2017-12-20\n19819208   0.000000e+00  17530.0            0  ...         0.0  2110718 2017-12-30\n19820769   4.815861e-04  18460.0            1  ...        80.0  2110718 2020-07-17\n19822196   4.323150e-10  18050.0            2  ...        50.1  2110718 2019-06-03\n...                 ...      ...          ...  ...         ...      ...        ...\n20551739   0.000000e+00  17520.0          499  ...       100.0  2110718 2017-12-20\n20551740   0.000000e+00  17530.0          499  ...       100.0  2110718 2017-12-30\n20551741   0.000000e+00  17540.0          499  ...         0.0  2110718 2018-01-09\n20551945   1.351153e-02  19580.0          499  ...        59.9  2110718 2023-08-11\n20551946   1.380430e-02  19590.0          499  ...        59.9  2110718 2023-08-21\n\n[2882 rows x 7 columns], 'Disposal':              ID     Days      BPD        Date\n743535  2110718  17500.0      0.0  2017-11-30\n743536  2110718  17510.0      0.0  2017-12-10\n743537  2110718  17520.0      0.0  2017-12-20\n743538  2110718  17530.0      0.0  2017-12-30\n743539  2110718  17540.0  14461.6  2018-01-09\n...         ...      ...      ...         ...\n743792  2110718  20070.0  11438.6  2024-12-13\n743793  2110718  20080.0  18078.8  2024-12-23\n743794  2110718  20090.0  16103.0  2025-01-02\n743795  2110718  20100.0      0.0  2025-01-12\n743796  2110718  20110.0      0.0  2025-01-22\n\n[262 rows x 4 columns], 'WellInfo':     index       ID  ...         EventID    TotalBBL\n27    135  2110718  ...  texnet2024oqfb  26079709.0\n\n[1 rows x 71 columns]}, 'DELPHIN SWD 1': {'PPQuantiles':          DeltaPressure     Days  Realization  ...  Percentile   WellID       Date\n3671467   5.965351e-02  20120.0            0  ...        69.9  2112198 2025-02-01\n3674225   2.947794e-10  18340.0            2  ...        50.1  2112198 2020-03-19\n3674226   4.886323e-10  18350.0            2  ...        50.1  2112198 2020-03-29\n3674227   7.915679e-10  18360.0            2  ...        50.1  2112198 2020-04-08\n3674289   1.621549e-04  18980.0            2  ...        50.1  2112198 2021-12-19\n...                ...      ...          ...  ...         ...      ...        ...\n4399401   1.833144e-09  18180.0          496  ...        90.0  2112198 2019-10-11\n4399402   3.728404e-09  18190.0          496  ...        90.0  2112198 2019-10-21\n4403948   1.164082e-02  19610.0          499  ...        59.9  2112198 2023-09-10\n4403949   1.195569e-02  19620.0          499  ...        59.9  2112198 2023-09-20\n4403950   1.227531e-02  19630.0          499  ...        59.9  2112198 2023-09-30\n\n[2420 rows x 7 columns], 'Disposal':              ID     Days      BPD        Date\n514633  2112198  17920.0      0.0  2019-01-24\n514634  2112198  17930.0   5947.5  2019-02-03\n514635  2112198  17940.0  26922.0  2019-02-13\n514636  2112198  17950.0  26922.0  2019-02-23\n514637  2112198  17960.0  21921.3  2019-03-05\n...         ...      ...      ...         ...\n514848  2112198  20070.0      0.0  2024-12-13\n514849  2112198  20080.0      0.0  2024-12-23\n514850  2112198  20090.0  13172.2  2025-01-02\n514851  2112198  20100.0  20797.0  2025-01-12\n514852  2112198  20110.0   8318.8  2025-01-22\n\n[220 rows x 4 columns], 'WellInfo':    index       ID  ...         EventID    TotalBBL\n5     48  2112198  ...  texnet2024oqfb  32639274.0\n\n[1 rows x 71 columns]}, 'STATE UNIVERSITY HUTEX CONS. 22W': {'PPQuantiles':           DeltaPressure     Days  Realization  ...  Percentile   WellID       Date\n22754009       0.000000   5540.0            0  ...         0.0  2048738 1985-03-03\n22754010       0.000000   5550.0            0  ...         0.0  2048738 1985-03-13\n22754011       0.000000   5560.0            0  ...         0.0  2048738 1985-03-23\n22755122       0.023987  16670.0            0  ...        69.9  2048738 2015-08-23\n22755123       0.024065  16680.0            0  ...        69.9  2048738 2015-09-02\n...                 ...      ...          ...  ...         ...      ...        ...\n23487380       0.003784  13930.0          499  ...        59.9  2048738 2008-02-21\n23487381       0.003806  13940.0          499  ...        59.9  2048738 2008-03-02\n23487382       0.003829  13950.0          499  ...        59.9  2048738 2008-03-12\n23487383       0.003851  13960.0          499  ...        59.9  2048738 2008-03-22\n23487384       0.003874  13970.0          499  ...        59.9  2048738 2008-04-01\n\n[16049 rows x 7 columns], 'Disposal':              ID     Days      BPD        Date\n760843  2048738   5530.0      0.0  1985-02-21\n760844  2048738   5540.0   2361.4  1985-03-03\n760845  2048738   5550.0  14791.0  1985-03-13\n760846  2048738   5560.0  14791.0  1985-03-23\n760847  2048738   5570.0  14791.0  1985-04-02\n...         ...      ...      ...         ...\n762297  2048738  20070.0      0.0  2024-12-13\n762298  2048738  20080.0      0.0  2024-12-23\n762299  2048738  20090.0      0.0  2025-01-02\n762300  2048738  20100.0      0.0  2025-01-12\n762301  2048738  20110.0      0.0  2025-01-22\n\n[1459 rows x 4 columns], 'WellInfo':     index       ID  ...         EventID    TotalBBL\n31    149  2048738  ...  texnet2024oqfb  86503043.0\n\n[1 rows x 71 columns]}, 'JONES-HOLTON D 4D': {'PPQuantiles':           DeltaPressure     Days  Realization  ...  Percentile   WellID       Date\n27893129   0.000000e+00  16740.0            0  ...         0.0  2108688 2015-11-01\n27893130   0.000000e+00  16750.0            0  ...         0.0  2108688 2015-11-11\n27893461   4.695386e-02  20060.0            0  ...        69.9  2108688 2024-12-03\n27893462   4.734720e-02  20070.0            0  ...        69.9  2108688 2024-12-13\n27893463   4.774066e-02  20080.0            0  ...        69.9  2108688 2024-12-23\n...                 ...      ...          ...  ...         ...      ...        ...\n28621298   1.155258e-09  17150.0          496  ...        90.0  2108688 2016-12-15\n28625661   0.000000e+00  16740.0          499  ...       100.0  2108688 2015-11-01\n28625922   1.047190e-02  19350.0          499  ...        59.9  2108688 2022-12-24\n28625923   1.065061e-02  19360.0          499  ...        59.9  2108688 2023-01-03\n28625924   1.083087e-02  19370.0          499  ...        59.9  2108688 2023-01-13\n\n[3729 rows x 7 columns], 'Disposal':               ID     Days     BPD        Date\n1014184  2108688  16730.0     0.0  2015-10-22\n1014185  2108688  16740.0     0.0  2015-11-01\n1014186  2108688  16750.0  6953.9  2015-11-11\n1014187  2108688  16760.0  7714.0  2015-11-21\n1014188  2108688  16770.0  7714.0  2015-12-01\n...          ...      ...     ...         ...\n1014518  2108688  20070.0     0.0  2024-12-13\n1014519  2108688  20080.0     0.0  2024-12-23\n1014520  2108688  20090.0     0.0  2025-01-02\n1014521  2108688  20100.0     0.0  2025-01-12\n1014522  2108688  20110.0     0.0  2025-01-22\n\n[339 rows x 4 columns], 'WellInfo':     index       ID  ...         EventID    TotalBBL\n38    274  2108688  ...  texnet2024oqfb  25378479.0\n\n[1 rows x 71 columns]}, 'GILBERT, G. WRIGHT. JR. ESTATE 1': {'PPQuantiles':           DeltaPressure     Days  Realization  ...  Percentile   WellID       Date\n14680168       0.000000   7130.0            0  ...         0.0  2119358 1989-07-10\n14680710       0.009070  12550.0            0  ...        69.9  2119358 2004-05-12\n14680711       0.009120  12560.0            0  ...        69.9  2119358 2004-05-22\n14680712       0.009170  12570.0            0  ...        69.9  2119358 2004-06-01\n14680713       0.009221  12580.0            0  ...        69.9  2119358 2004-06-11\n...                 ...      ...          ...  ...         ...      ...        ...\n15413566       0.018039  15790.0          499  ...        50.1  2119358 2013-03-26\n15413567       0.018085  15800.0          499  ...        50.1  2119358 2013-04-05\n15413568       0.018132  15810.0          499  ...        50.1  2119358 2013-04-15\n15413569       0.018178  15820.0          499  ...        50.1  2119358 2013-04-25\n15413570       0.018224  15830.0          499  ...        50.1  2119358 2013-05-05\n\n[14300 rows x 7 columns], 'Disposal':              ID     Days     BPD        Date\n556262  2119358   7120.0     0.0  1989-06-30\n556263  2119358   7130.0  2445.3  1989-07-10\n556264  2119358   7140.0  2714.0  1989-07-20\n556265  2119358   7150.0  2714.0  1989-07-30\n556266  2119358   7160.0  2764.4  1989-08-09\n...         ...      ...     ...         ...\n557557  2119358  20070.0   875.0  2024-12-13\n557558  2119358  20080.0   875.0  2024-12-23\n557559  2119358  20090.0   875.0  2025-01-02\n557560  2119358  20100.0     0.0  2025-01-12\n557561  2119358  20110.0     0.0  2025-01-22\n\n[1300 rows x 4 columns], 'WellInfo':     index       ID  ...         EventID    TotalBBL\n20     83  2119358  ...  texnet2024oqfb  31258632.0\n\n[1 rows x 71 columns]}, 'WILBANKS 16 6D': {'PPQuantiles':           DeltaPressure     Days  Realization  ...  Percentile   WellID       Date\n20553200       0.000000  17450.0            0  ...         0.0  2110592 2017-10-11\n20553201       0.000000  17460.0            0  ...         0.0  2110592 2017-10-21\n20553202       0.000000  17470.0            0  ...         0.0  2110592 2017-10-31\n20553203       0.000000  17480.0            0  ...         0.0  2110592 2017-11-10\n20553204       0.000000  17490.0            0  ...         0.0  2110592 2017-11-20\n...                 ...      ...          ...  ...         ...      ...        ...\n21285744       0.000000  17570.0          499  ...       100.0  2110592 2018-02-08\n21285745       0.000000  17580.0          499  ...       100.0  2110592 2018-02-18\n21285746       0.000000  17590.0          499  ...       100.0  2110592 2018-02-28\n21285900       0.005134  19130.0          499  ...        59.9  2110592 2022-05-18\n21285901       0.005288  19140.0          499  ...        59.9  2110592 2022-05-28\n\n[2948 rows x 7 columns], 'Disposal':              ID     Days     BPD        Date\n744029  2110592  17440.0     0.0  2017-10-01\n744030  2110592  17450.0     0.0  2017-10-11\n744031  2110592  17460.0     0.0  2017-10-21\n744032  2110592  17470.0     0.0  2017-10-31\n744033  2110592  17480.0     0.0  2017-11-10\n...         ...      ...     ...         ...\n744292  2110592  20070.0  5505.1  2024-12-13\n744293  2110592  20080.0  5417.9  2024-12-23\n744294  2110592  20090.0  5520.4  2025-01-02\n744295  2110592  20100.0     0.0  2025-01-12\n744296  2110592  20110.0     0.0  2025-01-22\n\n[268 rows x 4 columns], 'WellInfo':     index       ID  ...         EventID    TotalBBL\n28    137  2110592  ...  texnet2024oqfb  19597700.0\n\n[1 rows x 71 columns]}, 'WILKINSON RANCH 35 5D': {'PPQuantiles':           DeltaPressure     Days  Realization  ...  Percentile   WellID       Date\n15415310   0.000000e+00  18550.0            0  ...         0.0  2118517 2020-10-15\n15415311   0.000000e+00  18560.0            0  ...         0.0  2118517 2020-10-25\n15416838   5.171976e-04  19150.0            1  ...        80.0  2118517 2022-06-07\n15418282   3.816119e-10  18910.0            2  ...        50.1  2118517 2021-10-10\n15418283   7.620547e-10  18920.0            2  ...        50.1  2118517 2021-10-20\n...                 ...      ...          ...  ...         ...      ...        ...\n16143463   4.355087e-09  18800.0          496  ...        90.0  2118517 2021-06-22\n16144911   0.000000e+00  18600.0          497  ...        10.0  2118517 2020-12-04\n16147842   0.000000e+00  18550.0          499  ...       100.0  2118517 2020-10-15\n16147843   0.000000e+00  18560.0          499  ...       100.0  2118517 2020-10-25\n16147967   1.281751e-02  19800.0          499  ...        59.9  2118517 2024-03-18\n\n[1738 rows x 7 columns], 'Disposal':              ID     Days   BPD        Date\n559755  2118517  18540.0   0.0  2020-10-05\n559756  2118517  18550.0   0.0  2020-10-15\n559757  2118517  18560.0   0.0  2020-10-25\n559758  2118517  18570.0  24.8  2020-11-04\n559759  2118517  18580.0   0.0  2020-11-14\n...         ...      ...   ...         ...\n559908  2118517  20070.0   0.0  2024-12-13\n559909  2118517  20080.0   0.0  2024-12-23\n559910  2118517  20090.0   0.0  2025-01-02\n559911  2118517  20100.0   0.0  2025-01-12\n559912  2118517  20110.0   0.0  2025-01-22\n\n[158 rows x 4 columns], 'WellInfo':     index       ID  ...         EventID    TotalBBL\n21     85  2118517  ...  texnet2024oqfb  16638716.0\n\n[1 rows x 71 columns]}}\n"
     ]
    }
   ],
   "source": [
    "print(wellPressureDict)"
   ]
  },
  {
   "cell_type": "code",
   "execution_count": 0,
   "metadata": {
    "application/vnd.databricks.v1+cell": {
     "cellMetadata": {
      "byteLimit": 2048000,
      "rowLimit": 10000
     },
     "inputWidgets": {},
     "nuid": "c1d96fa9-a258-4a22-891a-f77277dc69cd",
     "showTitle": true,
     "tableResultSettingsMap": {},
     "title": "Sensitivity Test"
    }
   },
   "outputs": [
    {
     "output_type": "stream",
     "name": "stdout",
     "output_type": "stream",
     "text": [
      "getPressureSensitivity: ntaS min/max:  0.0009 0.0011\ngetPressureSensitivity: phiS min/max:  3.0 15.0\ngetPressureSensitivity: hMS min/max:  60.96 609.6\ngetPressureSensitivity: alphavS min/max:  1.07e-09 1.08e-09\ngetPressureSensitivity: betaS min/max:  3.59e-10 3.61e-10\ngetPressureSensitivity: kMDS min/max:  5.0 500.0\ngetPressureSensitivity: SS:  [[0.00371367]\n [0.00373197]\n [0.00375026]\n [0.00373197]\n [0.00373197]\n [0.00373197]\n [0.0036595 ]\n [0.00373197]\n [0.00380443]\n [0.00067854]\n [0.00373197]\n [0.00678539]\n [0.00369842]\n [0.00373197]\n [0.00373197]\n [0.00373167]\n [0.00373197]\n [0.00373227]\n [0.00373197]\n [0.00373197]\n [0.00373197]]\ngetPressureSensitivity: TS:  [[8.34524852e-04]\n [8.38635812e-04]\n [8.42746772e-04]\n [9.31817569e-04]\n [8.38635812e-04]\n [7.62396193e-04]\n [8.38635812e-04]\n [8.38635812e-04]\n [8.38635812e-04]\n [1.52479239e-04]\n [8.38635812e-04]\n [1.52479239e-03]\n [8.38635812e-04]\n [8.38635812e-04]\n [8.38635812e-04]\n [8.38635812e-04]\n [8.38635812e-04]\n [8.38635812e-04]\n [1.66066497e-05]\n [8.38635812e-04]\n [1.66066497e-03]]\ngetPressureSensitivity: rhoS:  [[1015.]\n [1020.]\n [1025.]\n [1020.]\n [1020.]\n [1020.]\n [1020.]\n [1020.]\n [1020.]\n [1020.]\n [1020.]\n [1020.]\n [1020.]\n [1020.]\n [1020.]\n [1020.]\n [1020.]\n [1020.]\n [1020.]\n [1020.]\n [1020.]]\n gistMC.runPressureScenarios: Number of wells considered:  39\n gistMC.pressureScenario: well  0  of  39 :  2081279\n gistMC.pressureScenario: well  10  of  39 :  2120859\n gistMC.pressureScenario: well  20  of  39 :  2119358\n gistMC.pressureScenario: well  30  of  39 :  2081404\n gistMC.pressureScenario: scenario  1  of  21 : Max P: 4.766325112215248\n gistMC.pressureScenario: scenario  2  of  21 : Max P: 4.7663251122152515\n gistMC.pressureScenario: scenario  3  of  21 : Max P: 4.766325112215253\n gistMC.pressureScenario: scenario  4  of  21 : Max P: 4.421498503481721\n gistMC.pressureScenario: scenario  5  of  21 : Max P: 4.7663251122152515\n gistMC.pressureScenario: scenario  6  of  21 : Max P: 5.096628249857349\n gistMC.pressureScenario: scenario  7  of  21 : Max P: 4.79362846902437\n gistMC.pressureScenario: scenario  8  of  21 : Max P: 4.7663251122152515\n gistMC.pressureScenario: scenario  9  of  21 : Max P: 4.739525529496115\n gistMC.pressureScenario: scenario  10  of  21 : Max P: 26.214788117183872\n gistMC.pressureScenario: scenario  11  of  21 : Max P: 4.7663251122152515\n gistMC.pressureScenario: scenario  12  of  21 : Max P: 2.6214788117183887\n gistMC.pressureScenario: scenario  13  of  21 : Max P: 4.778901755316866\n gistMC.pressureScenario: scenario  14  of  21 : Max P: 4.7663251122152515\n gistMC.pressureScenario: scenario  15  of  21 : Max P: 4.7663251122152515\n gistMC.pressureScenario: scenario  16  of  21 : Max P: 4.7664378176905995\n gistMC.pressureScenario: scenario  17  of  21 : Max P: 4.7663251122152515\n gistMC.pressureScenario: scenario  18  of  21 : Max P: 4.766212415484382\n gistMC.pressureScenario: scenario  19  of  21 : Max P: 4.365853818062159\n gistMC.pressureScenario: scenario  20  of  21 : Max P: 4.7663251122152515\n gistMC.pressureScenario: scenario  21  of  21 : Max P: 2.88122933217788\ngetPressureSensitivity: per-well pressures:  1.0429420875692712e-98 26.214788117183872\ngetPressureSensitivity: total pressures:  4.367236818154671 75.1428806053708\n          EventID  EventLatitude  ...                 Parameter  MedianPressure\n3  texnet2024oqfb      32.144165  ...        Interval Thickness       13.662342\n0  texnet2024oqfb      32.144165  ...                   Density       13.662342\n6  texnet2024oqfb      32.144165  ...              Permeability       13.662342\n2  texnet2024oqfb      32.144165  ...                  Porosity       13.662342\n1  texnet2024oqfb      32.144165  ...                 Viscosity       13.662342\n4  texnet2024oqfb      32.144165  ...  Vertical Compressibility       13.662342\n5  texnet2024oqfb      32.144165  ...     Fluid Compressibility       13.662342\n\n[7 rows x 11 columns]\n"
     ]
    }
   ],
   "source": [
    "# Calculate sensitivities to different parameters\n",
    "sensitivityDF,sensitivitySumDF = gist.getPressureSensitivity(winInjDF,winWellsDF,eq,verbose=2)\n",
    "# I'm not getting negative pressures anymore\n",
    "print(sensitivitySumDF)"
   ]
  },
  {
   "cell_type": "code",
   "execution_count": 0,
   "metadata": {
    "application/vnd.databricks.v1+cell": {
     "cellMetadata": {
      "byteLimit": 2048000,
      "rowLimit": 10000
     },
     "inputWidgets": {},
     "nuid": "19413b4b-7700-40f4-8c46-be35576c8686",
     "showTitle": true,
     "tableResultSettingsMap": {},
     "title": "Get Default rates"
    }
   },
   "outputs": [
    {
     "output_type": "stream",
     "name": "stdout",
     "output_type": "stream",
     "text": [
      "SeismicEventId                                      2481836\nDataSource                        TexNet Earthquake Catalog\nDataSourceUrl                                          None\nEventID                                      texnet2024oqfb\nEventTimeUtc                            2024-07-27 02:11:07\nEventTimeInLocalTimeZone               2024-07-26T21:11:07Z\nEventTimeZone                                           CST\nEventType                                        Earthquake\nDepthKm                                            8.837891\nDepthErrorKm                                       0.636678\nMagnitude                                           1.64016\nMagnitudeError                                          NaN\nMagnitudeType                                    ml(texnet)\nLocation                                      Western Texas\nStatus                                                final\nLatitude                                          32.144165\nLatitudeError                                      0.176637\nLongitude                                       -101.805214\nLongitudeError                                     0.180822\nUpdatedDateUtc                          2024-07-29 16:55:51\nStationCount                                             31\nRMS                                                0.092708\nRMS_p                                                  None\nRMS_s                                                  None\nFocalMechanismAzimuthalGap                              NaN\nCounty                                          Martin (TX)\nState                                                 Texas\nDuplicateSetId                                        26768\nRankWithinDuplicateSet                                    1\nB3RecordAddedUTCDateTime                2024-07-29 17:10:37\nB3RecordUpdatedUTCDateTime              2025-01-22 08:59:58\nB3RecordDeletedUTCDateTime                              NaT\nOrigin Date                                      2024-07-27\nOrigin Time                                        02:11:07\ngeometry                      POINT (-101.805214 32.144165)\nStrike                                                 80.0\nDip                                                    55.0\nRake                                                  -85.0\nName: 0, dtype: object SeismicEventId                                      2481836\nDataSource                        TexNet Earthquake Catalog\nDataSourceUrl                                          None\nEventID                                      texnet2024oqfb\nEventTimeUtc                            2024-07-27 02:11:07\nEventTimeInLocalTimeZone               2024-07-26T21:11:07Z\nEventTimeZone                                           CST\nEventType                                        Earthquake\nDepthKm                                            8.837891\nDepthErrorKm                                       0.636678\nMagnitude                                           1.64016\nMagnitudeError                                          NaN\nMagnitudeType                                    ml(texnet)\nLocation                                      Western Texas\nStatus                                                final\nLatitude                                          32.144165\nLatitudeError                                      0.176637\nLongitude                                       -101.805214\nLongitudeError                                     0.180822\nUpdatedDateUtc                          2024-07-29 16:55:51\nStationCount                                             31\nRMS                                                0.092708\nRMS_p                                                  None\nRMS_s                                                  None\nFocalMechanismAzimuthalGap                              NaN\nCounty                                          Martin (TX)\nState                                                 Texas\nDuplicateSetId                                        26768\nRankWithinDuplicateSet                                    1\nB3RecordAddedUTCDateTime                2024-07-29 17:10:37\nB3RecordUpdatedUTCDateTime              2025-01-22 08:59:58\nB3RecordDeletedUTCDateTime                              NaT\nOrigin Date                             2026-09-01 00:00:00\nOrigin Time                                        02:11:07\ngeometry                      POINT (-101.805214 32.144165)\nStrike                                                 80.0\nDip                                                    55.0\nRake                                                  -85.0\nName: 0, dtype: object\ngetTHdpdt0 time axis information - nt: 1468 ; ot: 5450.0 ; dt: 10.0  earthquake index:  1448\ngetTHdpdt0 nwC: 39\ngetTHdpdt0 bpdArray: (39, 1469) [0. 0. 0. 0. 0. 0. 0. 0. 0. 0. 0. 0. 0. 0. 0. 0. 0. 0. 0. 0. 0. 0. 0. 0.\n 0. 0. 0. 0. 0. 0. 0. 0. 0. 0. 0. 0. 0. 0. 0.] [0. 0. 0. 0. 0. 0. 0. 0. 0. 0. 0. 0. 0. 0. 0. 0. 0. 0. 0. 0. 0. 0. 0. 0.\n 0. 0. 0. 0. 0. 0. 0. 0. 0. 0. 0. 0. 0. 0. 0.]\ngetTHdpdt0 dQdtArray: (39, 1468) [-0.00160386  0.          0.          0.          0.         -0.01530767\n  0.          0.          0.          0.          0.          0.\n  0.          0.          0.         -0.00353379  0.          0.\n  0.          0.          0.          0.          0.          0.\n  0.          0.          0.          0.          0.          0.\n  0.          0.         -0.00366554  0.         -0.00137936  0.\n  0.          0.          0.        ] [0. 0. 0. 0. 0. 0. 0. 0. 0. 0. 0. 0. 0. 0. 0. 0. 0. 0. 0. 0. 0. 0. 0. 0.\n 0. 0. 0. 0. 0. 0. 0. 0. 0. 0. 0. 0. 0. 0. 0.]\ngetTHdpdt0 durations min/max:  67046400.0 1334534400.0\ngetTHdpdt0 durations shape:  (1468,)\ngetTHdPdT0 OneOver4piKappaH min/max:  287398219.6924343 76627175726.05186\ngetTHdPdT0 OneOver4piKappaH shape:  (500,)\ngetTHdPdT0 dQdtOverDurations min/max:  -5.138072651862288e-10 4.313626996416058e-10\ngetTHdPdT0 dQdtOverDurations shape:  (39, 1468)\ngetTHdPdT0 multiplier min/max:  -39.37159959874728 33.05410538710146\ngetTHdPdT0 multiplier shape:  (39, 500, 1468)\ngetTHdPdT0 r2 min/max:  6544256.262167588 2910336838.7003503\ngetTHdPdT0 r2 shape:  (39,)\ngetTHdPdT0 FourDs min/max:  0.02120796833284489 1.9055566635472156\ngetTHdPdT0 FourDs shape:  (500,)\ngetTHdPdT0 FourDDurations min/max:  1421917.9280312518 2543030918.652985\ngetTHdPdT0 FourDDurations shape:  (1, 500, 1468)\ngetTHdPdT0 exponent min/max:  -2046.7685098604265 -0.0025734080597156115\ngetTHdPdT0 exponent shape:  (39, 500, 1468)\ngetTHdPdT0 dpdtExpanded min/max:  -2.952387971512294 3.223382618903519\ngetTHdPdT0 dpdtExpanded shape:  (39, 500, 1468)\ngetTHdPdT0 FourDFuture min/max:  1403594.2433916738 126114313.32954724\ngetTHdPdT0 FourDFuture shape:  (39, 500)\ngetTHdPdT0 exponent2 min/max:  -2073.4887253938523 -0.05189146330335161\ngetTHdPdT0 exponent2 shape:  (39, 500)\ngetTHdPdT0 expTerm min/max:  0.0 0.9494319094539808\ngetTHdPdT0 expTerm shape:  (39, 500)\ngetTHdPdT0 futureInjSec:  66182400\ngetTHdPdT0 zeroTerm min/max:  -1.19280317067385e-08 1.3966927936255442e-08\ngetTHdPdT0 zeroTerm shape:  (39, 500)\ngetTHdPdT0 dpdt min/max:  -1.5576055738294232 0.9384673247387125\ngetTHdPdT0 dpdt shape:  (39, 500)\ngetTHdPdT0 Q_new min/max:  -14.498454718466164 inf\ngetTHdPdT0 Q_new shape:  (39, 500)\ngetTHdPdT0 Q_new thresholded min/max:  -14.498454718466164 50000.0\ngetTHdPdT0 Q_new thresholded shape:  (39, 500)\n"
     ]
    },
    {
     "output_type": "stream",
     "name": "stderr",
     "output_type": "stream",
     "text": [
      "/Workspace/Users/bill.curry@exxonmobil.com/GIST/lib/gistMC.py:2000: RuntimeWarning: divide by zero encountered in divide\n  Q_new=(dpdt * futureInjSec / OneOver4piKappaH) / expTerm\n"
     ]
    }
   ],
   "source": [
    "futureEQ=eq.copy()\n",
    "futureEQ.loc['Origin Date']=pd.to_datetime('2026-9-1')\n",
    "print(eq,futureEQ)\n",
    "rateDF = gist.getTHdPdT0(winWellsDF,winInjDF,eq,futureEQ,2)"
   ]
  },
  {
   "cell_type": "markdown",
   "metadata": {
    "application/vnd.databricks.v1+cell": {
     "cellMetadata": {
      "byteLimit": 2048000,
      "rowLimit": 10000
     },
     "inputWidgets": {},
     "nuid": "e705ce0b-75fc-4cc7-94cc-b48bc90f2107",
     "showTitle": false,
     "tableResultSettingsMap": {},
     "title": ""
    }
   },
   "source": [
    "###Output"
   ]
  },
  {
   "cell_type": "code",
   "execution_count": 0,
   "metadata": {
    "application/vnd.databricks.v1+cell": {
     "cellMetadata": {
      "byteLimit": 2048000,
      "rowLimit": 10000
     },
     "inputWidgets": {},
     "nuid": "f84c0581-670d-449b-b8ef-e88afdd6a169",
     "showTitle": true,
     "tableResultSettingsMap": {},
     "title": "Pore Pressure Property Realizations"
    }
   },
   "outputs": [],
   "source": [
    "gist.writeRealizations(runIntervalPath+'PorePressureRealizations.csv')"
   ]
  },
  {
   "cell_type": "code",
   "execution_count": 0,
   "metadata": {
    "application/vnd.databricks.v1+cell": {
     "cellMetadata": {
      "byteLimit": 2048000,
      "rowLimit": 10000
     },
     "inputWidgets": {},
     "nuid": "336dbb5f-47bf-4e29-b878-d1dd0ab9d875",
     "showTitle": true,
     "tableResultSettingsMap": {},
     "title": "Selected Wells"
    }
   },
   "outputs": [],
   "source": [
    "selectedWellsDF.to_csv(runIntervalPath+'selectedWells.csv')\n",
    "ignoredWellsDF.to_csv(runIntervalPath+'ignoredWells.csv')\n",
    "injDF.to_csv(runIntervalPath+'inj.csv')"
   ]
  },
  {
   "cell_type": "code",
   "execution_count": 0,
   "metadata": {
    "application/vnd.databricks.v1+cell": {
     "cellMetadata": {
      "byteLimit": 2048000,
      "rowLimit": 10000
     },
     "inputWidgets": {},
     "nuid": "be6f6db8-3b75-4c34-a215-8fa5ab199639",
     "showTitle": true,
     "tableResultSettingsMap": {},
     "title": "Pore Pressure Scenarios"
    }
   },
   "outputs": [],
   "source": [
    "scenarioDF.to_csv(runIntervalPath+'scenarios.csv')"
   ]
  },
  {
   "cell_type": "code",
   "execution_count": 0,
   "metadata": {
    "application/vnd.databricks.v1+cell": {
     "cellMetadata": {
      "byteLimit": 2048000,
      "rowLimit": 10000
     },
     "inputWidgets": {},
     "nuid": "f04371b7-ff00-4eaf-a3eb-b8239b52ce11",
     "showTitle": true,
     "tableResultSettingsMap": {},
     "title": "Summarized Pore Pressure Scenarios and Well Ordering"
    }
   },
   "outputs": [],
   "source": [
    "filteredDF.to_csv(runIntervalPath+'filteredScenarios.csv')\n",
    "pd.Series(data=orderedWellList).to_csv(runIntervalPath+'wellOrder.csv')"
   ]
  },
  {
   "cell_type": "code",
   "execution_count": 0,
   "metadata": {
    "application/vnd.databricks.v1+cell": {
     "cellMetadata": {
      "byteLimit": 2048000,
      "rowLimit": 10000
     },
     "inputWidgets": {},
     "nuid": "280fdbed-35d9-4a93-86ff-a162480540dd",
     "showTitle": true,
     "tableResultSettingsMap": {},
     "title": "Dataframes for R-T (Well selection) Plot"
    }
   },
   "outputs": [],
   "source": [
    "mergedWellsDF.to_csv(runIntervalPath+'RTwells.csv')\n",
    "rtDF.to_csv(runIntervalPath+'RTDF.csv')"
   ]
  },
  {
   "cell_type": "code",
   "execution_count": 0,
   "metadata": {
    "application/vnd.databricks.v1+cell": {
     "cellMetadata": {
      "byteLimit": 2048000,
      "rowLimit": 10000
     },
     "inputWidgets": {},
     "nuid": "b034629a-7154-42cd-8046-a1d83547b0d7",
     "showTitle": true,
     "tableResultSettingsMap": {},
     "title": "Dateframe for disaggregation plot"
    }
   },
   "outputs": [],
   "source": [
    "disaggregationDF.to_csv(runIntervalPath+'disaggregation.csv')"
   ]
  },
  {
   "cell_type": "code",
   "execution_count": 0,
   "metadata": {
    "application/vnd.databricks.v1+cell": {
     "cellMetadata": {
      "byteLimit": 2048000,
      "rowLimit": 10000
     },
     "inputWidgets": {},
     "nuid": "0f62ad4c-5c5f-48ed-8814-ca34f1ed3b85",
     "showTitle": true,
     "tableResultSettingsMap": {},
     "title": "Dataframe for quantiles of pore pressure time series plot"
    }
   },
   "outputs": [],
   "source": [
    "totalPPQuantilesDF.to_csv(runIntervalPath+'totalPPQuantiles.csv')"
   ]
  },
  {
   "cell_type": "code",
   "execution_count": 0,
   "metadata": {
    "application/vnd.databricks.v1+cell": {
     "cellMetadata": {
      "byteLimit": 2048000,
      "rowLimit": 10000
     },
     "inputWidgets": {},
     "nuid": "1f52e13c-adee-4281-90a3-e22e16aa19bc",
     "showTitle": false,
     "tableResultSettingsMap": {},
     "title": ""
    }
   },
   "outputs": [
    {
     "output_type": "stream",
     "name": "stdout",
     "output_type": "stream",
     "text": [
      "well 0 , ID: 2121094  completed\nwell 1 , ID: 2121271  completed\nwell 2 , ID: 2123938  completed\nwell 3 , ID: 2117885  completed\nwell 4 , ID: 2111946  completed\nwell 5 , ID: 2109094  completed\nwell 6 , ID: 2116501  completed\nwell 7 , ID: 2112288  completed\nwell 8 , ID: 2081404  completed\nwell 9 , ID: 2114817  completed\nwell 10 , ID: 2112104  completed\nwell 11 , ID: 2111358  completed\nwell 12 , ID: 2121191  completed\nwell 13 , ID: 2056720  completed\nwell 14 , ID: 2113898  completed\nwell 15 , ID: 2111690  completed\nwell 16 , ID: 2118993  completed\nwell 17 , ID: 2121195  completed\nwell 18 , ID: 2120454  completed\nwell 19 , ID: 2117633  completed\nwell 20 , ID: 2112172  completed\nwell 21 , ID: 2081279  completed\nwell 22 , ID: 2121203  completed\nwell 23 , ID: 2112058  completed\nwell 24 , ID: 2105036  completed\nwell 25 , ID: 2120859  completed\nwell 26 , ID: 2064982  completed\nwell 27 , ID: 2119049  completed\nwell 28 , ID: 2120980  completed\nwell 29 , ID: 2123953  completed\nwell 30 , ID: 2051824  completed\nwell 31 , ID: 2121715  completed\nwell 32 , ID: 2110718  completed\nwell 33 , ID: 2112198  completed\nwell 34 , ID: 2048738  completed\nwell 35 , ID: 2108688  completed\nwell 36 , ID: 2119358  completed\nwell 37 , ID: 2110592  completed\nwell 38 , ID: 2118517  completed\n"
     ]
    }
   ],
   "source": [
    "i=0\n",
    "for wellDictKey, wellDictValue in wellPressureDict.items():\n",
    "  wellID=wellDictValue['WellInfo']['ID'].to_list()[0]\n",
    "  wellFilePrefix='perWell/well_'+str(i)+'_'\n",
    "  wellDictValue['PPQuantiles'].to_csv(runIntervalPath+wellFilePrefix+'PPQuantiles.csv')\n",
    "  wellDictValue['Disposal'].to_csv(runIntervalPath+wellFilePrefix+'Disposal.csv')\n",
    "  wellDictValue['WellInfo'].to_csv(runIntervalPath+wellFilePrefix+'WellInfo.csv')\n",
    "  print('well',i,', ID:',wellID,' completed')\n",
    "  i=i+1"
   ]
  },
  {
   "cell_type": "code",
   "execution_count": 0,
   "metadata": {
    "application/vnd.databricks.v1+cell": {
     "cellMetadata": {
      "byteLimit": 2048000,
      "rowLimit": 10000
     },
     "inputWidgets": {},
     "nuid": "1a99eaf6-68f3-440b-a376-66254977d282",
     "showTitle": false,
     "tableResultSettingsMap": {},
     "title": ""
    }
   },
   "outputs": [],
   "source": [
    "scenarioTSRDF.to_csv(runIntervalPath+'materialScenariosR.csv')\n",
    "np.savez_compressed(runIntervalPath+'timeSeriesR.npz', deltaPP=dPTimeSeriesR,dayVec=dayVecR,wellIDs=wellIDsR)"
   ]
  },
  {
   "cell_type": "code",
   "execution_count": 0,
   "metadata": {
    "application/vnd.databricks.v1+cell": {
     "cellMetadata": {
      "byteLimit": 2048000,
      "rowLimit": 10000
     },
     "inputWidgets": {},
     "nuid": "a4cb7a9d-7ba5-4423-acf8-9c6415677cb1",
     "showTitle": true,
     "tableResultSettingsMap": {},
     "title": "Sensitivity"
    }
   },
   "outputs": [],
   "source": [
    "sensitivityDF.to_csv(runIntervalPath+'sensitivity.csv')\n",
    "sensitivitySumDF.to_csv(runIntervalPath+'sensitivitySum.csv')"
   ]
  },
  {
   "cell_type": "code",
   "execution_count": 0,
   "metadata": {
    "application/vnd.databricks.v1+cell": {
     "cellMetadata": {
      "byteLimit": 2048000,
      "rowLimit": 10000
     },
     "inputWidgets": {},
     "nuid": "146ca51a-fadf-44e9-ac4d-9f8d728634c9",
     "showTitle": false,
     "tableResultSettingsMap": {},
     "title": ""
    }
   },
   "outputs": [],
   "source": [
    "rateDF.to_csv(runIntervalPath+'rates.csv')"
   ]
  },
  {
   "cell_type": "markdown",
   "metadata": {
    "application/vnd.databricks.v1+cell": {
     "cellMetadata": {
      "byteLimit": 2048000,
      "rowLimit": 10000
     },
     "inputWidgets": {},
     "nuid": "b4236692-cbfc-40d2-b8aa-b3d415ba491c",
     "showTitle": false,
     "tableResultSettingsMap": {},
     "title": ""
    }
   },
   "source": [
    "#3. Correct Data"
   ]
  },
  {
   "cell_type": "markdown",
   "metadata": {
    "application/vnd.databricks.v1+cell": {
     "cellMetadata": {
      "byteLimit": 2048000,
      "rowLimit": 10000
     },
     "inputWidgets": {},
     "nuid": "e1fb4fa0-ef2d-4067-9f96-2a9a1f17ecf7",
     "showTitle": false,
     "tableResultSettingsMap": {},
     "title": ""
    }
   },
   "source": [
    "##3.1 Export Disposal Data"
   ]
  },
  {
   "cell_type": "markdown",
   "metadata": {
    "application/vnd.databricks.v1+cell": {
     "cellMetadata": {
      "byteLimit": 2048000,
      "rowLimit": 10000
     },
     "inputWidgets": {},
     "nuid": "f35e0dd5-e4ea-4a7b-833a-77ea28f21e88",
     "showTitle": false,
     "tableResultSettingsMap": {},
     "title": ""
    }
   },
   "source": [
    "##3.2 Import Updated Disposal Data"
   ]
  },
  {
   "cell_type": "code",
   "execution_count": 0,
   "metadata": {
    "application/vnd.databricks.v1+cell": {
     "cellMetadata": {
      "byteLimit": 2048000,
      "rowLimit": 10000
     },
     "inputWidgets": {},
     "nuid": "1783e6ae-d1a7-429e-805d-eca0ff129691",
     "showTitle": true,
     "tableResultSettingsMap": {},
     "title": "Read and parse updated disposal data"
    }
   },
   "outputs": [],
   "source": [
    "# Input a single file with a lot of columns\n",
    "# newWellInfo=pd.read_csv('path_to_new_well_file')\n",
    "# Get wells with a wellID.unique() call\n",
    "# Separate out dates, wellIDs, and rates to a separate injection file"
   ]
  },
  {
   "cell_type": "markdown",
   "metadata": {
    "application/vnd.databricks.v1+cell": {
     "cellMetadata": {
      "byteLimit": 2048000,
      "rowLimit": 10000
     },
     "inputWidgets": {},
     "nuid": "271df2d4-d03f-4b61-b2c2-2d5e6ad96283",
     "showTitle": false,
     "tableResultSettingsMap": {},
     "title": ""
    }
   },
   "source": [
    "#4. Updated Analysis"
   ]
  },
  {
   "cell_type": "markdown",
   "metadata": {
    "application/vnd.databricks.v1+cell": {
     "cellMetadata": {
      "byteLimit": 2048000,
      "rowLimit": 10000
     },
     "inputWidgets": {},
     "nuid": "47c7fb9b-5d44-4aca-b43d-855b46b7fc7c",
     "showTitle": false,
     "tableResultSettingsMap": {},
     "title": ""
    }
   },
   "source": [
    "##Repeat Steps 2.1 and 2.2\n",
    "Updated disposal data\n",
    "\n",
    "Refined parameters"
   ]
  },
  {
   "cell_type": "markdown",
   "metadata": {
    "application/vnd.databricks.v1+cell": {
     "cellMetadata": {
      "byteLimit": 2048000,
      "rowLimit": 10000
     },
     "inputWidgets": {},
     "nuid": "e63abde2-7d3f-4c01-ade5-de5c31ba1d7f",
     "showTitle": false,
     "tableResultSettingsMap": {},
     "title": ""
    }
   },
   "source": [
    "#5. Forecast"
   ]
  },
  {
   "cell_type": "markdown",
   "metadata": {
    "application/vnd.databricks.v1+cell": {
     "cellMetadata": {
      "byteLimit": 2048000,
      "rowLimit": 10000
     },
     "inputWidgets": {},
     "nuid": "7af6568e-1e85-44aa-b2b6-00b16c5f31bd",
     "showTitle": false,
     "tableResultSettingsMap": {},
     "title": ""
    }
   },
   "source": [
    "##5.1 Input Forecast Times"
   ]
  },
  {
   "cell_type": "code",
   "execution_count": 0,
   "metadata": {
    "application/vnd.databricks.v1+cell": {
     "cellMetadata": {
      "byteLimit": 2048000,
      "rowLimit": 10000
     },
     "inputWidgets": {},
     "nuid": "1e033dd1-f2f9-4d00-928d-17579ba08ba5",
     "showTitle": true,
     "tableResultSettingsMap": {},
     "title": "Forecast Time"
    }
   },
   "outputs": [],
   "source": [
    "# End Year of time series forecast\n",
    "EndYear=2030\n",
    "# Time to calculate rate distributions\n"
   ]
  },
  {
   "cell_type": "markdown",
   "metadata": {
    "application/vnd.databricks.v1+cell": {
     "cellMetadata": {
      "byteLimit": 2048000,
      "rowLimit": 10000
     },
     "inputWidgets": {},
     "nuid": "4e27714c-dfe3-4c70-94d2-0010cf48ca45",
     "showTitle": false,
     "tableResultSettingsMap": {},
     "title": ""
    }
   },
   "source": [
    "##5.2 Distributions of rates for each well"
   ]
  },
  {
   "cell_type": "code",
   "execution_count": 0,
   "metadata": {
    "application/vnd.databricks.v1+cell": {
     "cellMetadata": {
      "byteLimit": 2048000,
      "rowLimit": 10000
     },
     "inputWidgets": {},
     "nuid": "2571077c-67fe-4382-947c-2732bf1bfd15",
     "showTitle": true,
     "tableResultSettingsMap": {},
     "title": "Recalculate Well Selection"
    }
   },
   "outputs": [
    {
     "output_type": "stream",
     "name": "stdout",
     "output_type": "stream",
     "text": [
      "          ID  InjectionWellId  ...         EventID TotalBBL\n0    1007808             7808  ...  texnet2024oqfb      0.0\n1    1004722             4722  ...  texnet2024oqfb      0.0\n2    1007566             7566  ...  texnet2024oqfb      0.0\n3    1004337             4337  ...  texnet2024oqfb      0.0\n4    1004552             4552  ...  texnet2024oqfb      0.0\n..       ...              ...  ...             ...      ...\n437  2120302           120302  ...  texnet2024oqfb      0.0\n438  2106087           106087  ...  texnet2024oqfb      0.0\n439  2120618           120618  ...  texnet2024oqfb    450.0\n441  2098276            98276  ...  texnet2024oqfb  69437.0\n443  2118758           118758  ...  texnet2024oqfb      0.0\n\n[163 rows x 70 columns]\n"
     ]
    }
   ],
   "source": [
    "# Rerun select wells with an updated earthquake time set to the last day of EndYear\n",
    "future=eq.copy()\n",
    "future['Origin Date']=pd.to_datetime('12-31-'+str(EndYear))\n",
    "newSelectedWellsDF,newIgnoredWellsDF,injDF=gist.findWells(future,PE=False,verbose=verb)\n",
    "# Merge udpated well dataframe with prior unselected wells\n",
    "addedWellsDF=newSelectedWellsDF[~newSelectedWellsDF['InjectionWellId'].isin(selectedWellsDF['InjectionWellId'])]\n",
    "print(addedWellsDF)\n",
    "# Re-generate an R-T plot here. Should it have two sets of curves?\n",
    "\n",
    "newRTDF,newMergedWellsDF = gi.prepRTPlot(newSelectedWellsDF,newIgnoredWellsDF,minYear,diffRange,clipYear=False)\n"
   ]
  },
  {
   "cell_type": "code",
   "execution_count": 0,
   "metadata": {
    "application/vnd.databricks.v1+cell": {
     "cellMetadata": {
      "byteLimit": 2048000,
      "rowLimit": 10000
     },
     "inputWidgets": {},
     "nuid": "991a431b-fe1f-4cc3-b913-b625879b09d2",
     "showTitle": true,
     "tableResultSettingsMap": {},
     "title": "Output forecast RT Plot"
    }
   },
   "outputs": [],
   "source": [
    "newMergedWellsDF.to_csv(runIntervalPath+'newRTwells.csv')\n",
    "newRTDF.to_csv(runIntervalPath+'newRTDF.csv')"
   ]
  },
  {
   "cell_type": "code",
   "execution_count": 0,
   "metadata": {
    "application/vnd.databricks.v1+cell": {
     "cellMetadata": {
      "byteLimit": 2048000,
      "rowLimit": 10000
     },
     "inputWidgets": {},
     "nuid": "c482f5ad-9883-4c96-92cd-22df245d45a8",
     "showTitle": true,
     "tableResultSettingsMap": {},
     "title": "Create Distribution of Per-Well Disposal Rates"
    }
   },
   "outputs": [],
   "source": [
    "# I need new code here that calculates the time derivatives at a future point\n",
    "# TDTD0DF= gist.getTHTD0(newSelectedWellsDF,injDF,future,verb)"
   ]
  },
  {
   "cell_type": "code",
   "execution_count": 0,
   "metadata": {
    "application/vnd.databricks.v1+cell": {
     "cellMetadata": {
      "byteLimit": 2048000,
      "rowLimit": 10000
     },
     "inputWidgets": {},
     "nuid": "bc0b5c44-d531-4559-b8a9-9177a4619895",
     "showTitle": false,
     "tableResultSettingsMap": {},
     "title": ""
    }
   },
   "outputs": [
    {
     "output_type": "stream",
     "name": "stdout",
     "output_type": "stream",
     "text": [
      "          ID  InjectionWellId  ...         EventID  TotalBBL\n0    1007808             7808  ...  texnet2024oqfb       0.0\n1    1004722             4722  ...  texnet2024oqfb       0.0\n2    1007566             7566  ...  texnet2024oqfb       0.0\n3    1004337             4337  ...  texnet2024oqfb       0.0\n4    1004552             4552  ...  texnet2024oqfb       0.0\n..       ...              ...  ...             ...       ...\n439  2120618           120618  ...  texnet2024oqfb     450.0\n440  2087373            87373  ...  texnet2024oqfb  938390.0\n441  2098276            98276  ...  texnet2024oqfb   69437.0\n442  2059622            59622  ...  texnet2024oqfb       0.0\n443  2118758           118758  ...  texnet2024oqfb       0.0\n\n[444 rows x 70 columns]\n          ID  InjectionWellId  ...         EventID TotalBBL\n0    1007808             7808  ...  texnet2024oqfb      0.0\n1    1004722             4722  ...  texnet2024oqfb      0.0\n2    1007566             7566  ...  texnet2024oqfb      0.0\n3    1004337             4337  ...  texnet2024oqfb      0.0\n4    1004552             4552  ...  texnet2024oqfb      0.0\n..       ...              ...  ...             ...      ...\n437  2120302           120302  ...  texnet2024oqfb      0.0\n438  2106087           106087  ...  texnet2024oqfb      0.0\n439  2120618           120618  ...  texnet2024oqfb    450.0\n441  2098276            98276  ...  texnet2024oqfb  69437.0\n443  2118758           118758  ...  texnet2024oqfb      0.0\n\n[163 rows x 70 columns]\n    index       ID  ...         EventID    TotalBBL\n0      10  2081279  ...  texnet2024oqfb  14918141.0\n1      37  2105036  ...  texnet2024oqfb  21825454.0\n2      41  2112104  ...  texnet2024oqfb  34841155.0\n3      43  2111690  ...  texnet2024oqfb  28818255.0\n4      46  2112172  ...  texnet2024oqfb  17762529.0\n5      48  2112198  ...  texnet2024oqfb  32639274.0\n6      49  2111946  ...  texnet2024oqfb  25945956.0\n7      52  2112288  ...  texnet2024oqfb  25104190.0\n8      54  2113898  ...  texnet2024oqfb   7866414.0\n9      58  2117633  ...  texnet2024oqfb  21311896.0\n10     61  2120859  ...  texnet2024oqfb  12814086.0\n11     62  2117885  ...  texnet2024oqfb  19830809.0\n12     64  2120454  ...  texnet2024oqfb  21229832.0\n13     68  2120980  ...  texnet2024oqfb  14536988.0\n14     69  2118993  ...  texnet2024oqfb  19153357.0\n15     73  2121094  ...  texnet2024oqfb  16713410.0\n16     76  2119049  ...  texnet2024oqfb  15513523.0\n17     78  2121191  ...  texnet2024oqfb  28636536.0\n18     79  2121203  ...  texnet2024oqfb  14116288.0\n19     82  2121715  ...  texnet2024oqfb   5527220.0\n20     83  2119358  ...  texnet2024oqfb  31258632.0\n21     85  2118517  ...  texnet2024oqfb  16638716.0\n22     90  2123938  ...  texnet2024oqfb  30328284.0\n23     91  2123953  ...  texnet2024oqfb  22866417.0\n24     97  2051824  ...  texnet2024oqfb   9035765.0\n25    124  2121271  ...  texnet2024oqfb  31022021.0\n26    134  2109094  ...  texnet2024oqfb  16136921.0\n27    135  2110718  ...  texnet2024oqfb  26079709.0\n28    137  2110592  ...  texnet2024oqfb  19597700.0\n29    140  2116501  ...  texnet2024oqfb  28488228.0\n30    143  2081404  ...  texnet2024oqfb  54376264.0\n31    149  2048738  ...  texnet2024oqfb  86503043.0\n32    169  2121195  ...  texnet2024oqfb  35177503.0\n33    172  2111358  ...  texnet2024oqfb  27329562.0\n34    214  2112058  ...  texnet2024oqfb   5920421.0\n35    216  2114817  ...  texnet2024oqfb   4613775.0\n36    242  2056720  ...  texnet2024oqfb   8439666.0\n37    249  2064982  ...  texnet2024oqfb  23678605.0\n38    274  2108688  ...  texnet2024oqfb  25378479.0\n\n[39 rows x 71 columns]\n"
     ]
    }
   ],
   "source": [
    "print(newSelectedWellsDF)\n",
    "print(addedWellsDF)\n",
    "print(winWellsDF)"
   ]
  },
  {
   "cell_type": "code",
   "execution_count": 0,
   "metadata": {
    "application/vnd.databricks.v1+cell": {
     "cellMetadata": {
      "byteLimit": 2048000,
      "rowLimit": 10000
     },
     "inputWidgets": {},
     "nuid": "6decbb12-e55d-4577-aadf-1335449adbfa",
     "showTitle": true,
     "tableResultSettingsMap": {},
     "title": "Set Future Well Rates"
    }
   },
   "outputs": [
    {
     "output_type": "stream",
     "name": "stderr",
     "output_type": "stream",
     "text": [
      "/home/spark-7ebcd16a-02eb-40e4-87bc-50/.ipykernel/51806/command-211832628489450-3704350271:3: FutureWarning: The frame.append method is deprecated and will be removed from pandas in a future version. Use pandas.concat instead.\n  forecastWellsDF=winWellsDF.append(addedWellsDF)\n"
     ]
    },
    {
     "output_type": "display_data",
     "data": {
      "text/plain": [
       "\u001B[0;31m---------------------------------------------------------------------------\u001B[0m\n",
       "\u001B[0;31mKeyError\u001B[0m                                  Traceback (most recent call last)\n",
       "File \u001B[0;32m/databricks/python/lib/python3.10/site-packages/pandas/core/indexes/base.py:3802\u001B[0m, in \u001B[0;36mIndex.get_loc\u001B[0;34m(self, key, method, tolerance)\u001B[0m\n",
       "\u001B[1;32m   3801\u001B[0m \u001B[38;5;28;01mtry\u001B[39;00m:\n",
       "\u001B[0;32m-> 3802\u001B[0m     \u001B[38;5;28;01mreturn\u001B[39;00m \u001B[38;5;28;43mself\u001B[39;49m\u001B[38;5;241;43m.\u001B[39;49m\u001B[43m_engine\u001B[49m\u001B[38;5;241;43m.\u001B[39;49m\u001B[43mget_loc\u001B[49m\u001B[43m(\u001B[49m\u001B[43mcasted_key\u001B[49m\u001B[43m)\u001B[49m\n",
       "\u001B[1;32m   3803\u001B[0m \u001B[38;5;28;01mexcept\u001B[39;00m \u001B[38;5;167;01mKeyError\u001B[39;00m \u001B[38;5;28;01mas\u001B[39;00m err:\n",
       "\n",
       "File \u001B[0;32m/databricks/python/lib/python3.10/site-packages/pandas/_libs/index.pyx:138\u001B[0m, in \u001B[0;36mpandas._libs.index.IndexEngine.get_loc\u001B[0;34m()\u001B[0m\n",
       "\n",
       "File \u001B[0;32m/databricks/python/lib/python3.10/site-packages/pandas/_libs/index.pyx:165\u001B[0m, in \u001B[0;36mpandas._libs.index.IndexEngine.get_loc\u001B[0;34m()\u001B[0m\n",
       "\n",
       "File \u001B[0;32mpandas/_libs/hashtable_class_helper.pxi:5745\u001B[0m, in \u001B[0;36mpandas._libs.hashtable.PyObjectHashTable.get_item\u001B[0;34m()\u001B[0m\n",
       "\n",
       "File \u001B[0;32mpandas/_libs/hashtable_class_helper.pxi:5753\u001B[0m, in \u001B[0;36mpandas._libs.hashtable.PyObjectHashTable.get_item\u001B[0;34m()\u001B[0m\n",
       "\n",
       "\u001B[0;31mKeyError\u001B[0m: 'InjectionWellId'\n",
       "\n",
       "The above exception was the direct cause of the following exception:\n",
       "\n",
       "\u001B[0;31mKeyError\u001B[0m                                  Traceback (most recent call last)\n",
       "File \u001B[0;32m<command-211832628489450>, line 5\u001B[0m\n",
       "\u001B[1;32m      3\u001B[0m forecastWellsDF\u001B[38;5;241m=\u001B[39mwinWellsDF\u001B[38;5;241m.\u001B[39mappend(addedWellsDF)\n",
       "\u001B[1;32m      4\u001B[0m \u001B[38;5;66;03m# Create updated injection dataframe\u001B[39;00m\n",
       "\u001B[0;32m----> 5\u001B[0m priorInjDF\u001B[38;5;241m=\u001B[39minjDF[injDF[\u001B[38;5;124m'\u001B[39m\u001B[38;5;124mInjectionWellId\u001B[39m\u001B[38;5;124m'\u001B[39m]\u001B[38;5;241m.\u001B[39misin(forecastWellsDF[\u001B[38;5;124m'\u001B[39m\u001B[38;5;124mInjectionWellId\u001B[39m\u001B[38;5;124m'\u001B[39m])]\n",
       "\n",
       "File \u001B[0;32m/databricks/python/lib/python3.10/site-packages/pandas/core/frame.py:3807\u001B[0m, in \u001B[0;36mDataFrame.__getitem__\u001B[0;34m(self, key)\u001B[0m\n",
       "\u001B[1;32m   3805\u001B[0m \u001B[38;5;28;01mif\u001B[39;00m \u001B[38;5;28mself\u001B[39m\u001B[38;5;241m.\u001B[39mcolumns\u001B[38;5;241m.\u001B[39mnlevels \u001B[38;5;241m>\u001B[39m \u001B[38;5;241m1\u001B[39m:\n",
       "\u001B[1;32m   3806\u001B[0m     \u001B[38;5;28;01mreturn\u001B[39;00m \u001B[38;5;28mself\u001B[39m\u001B[38;5;241m.\u001B[39m_getitem_multilevel(key)\n",
       "\u001B[0;32m-> 3807\u001B[0m indexer \u001B[38;5;241m=\u001B[39m \u001B[38;5;28;43mself\u001B[39;49m\u001B[38;5;241;43m.\u001B[39;49m\u001B[43mcolumns\u001B[49m\u001B[38;5;241;43m.\u001B[39;49m\u001B[43mget_loc\u001B[49m\u001B[43m(\u001B[49m\u001B[43mkey\u001B[49m\u001B[43m)\u001B[49m\n",
       "\u001B[1;32m   3808\u001B[0m \u001B[38;5;28;01mif\u001B[39;00m is_integer(indexer):\n",
       "\u001B[1;32m   3809\u001B[0m     indexer \u001B[38;5;241m=\u001B[39m [indexer]\n",
       "\n",
       "File \u001B[0;32m/databricks/python/lib/python3.10/site-packages/pandas/core/indexes/base.py:3804\u001B[0m, in \u001B[0;36mIndex.get_loc\u001B[0;34m(self, key, method, tolerance)\u001B[0m\n",
       "\u001B[1;32m   3802\u001B[0m     \u001B[38;5;28;01mreturn\u001B[39;00m \u001B[38;5;28mself\u001B[39m\u001B[38;5;241m.\u001B[39m_engine\u001B[38;5;241m.\u001B[39mget_loc(casted_key)\n",
       "\u001B[1;32m   3803\u001B[0m \u001B[38;5;28;01mexcept\u001B[39;00m \u001B[38;5;167;01mKeyError\u001B[39;00m \u001B[38;5;28;01mas\u001B[39;00m err:\n",
       "\u001B[0;32m-> 3804\u001B[0m     \u001B[38;5;28;01mraise\u001B[39;00m \u001B[38;5;167;01mKeyError\u001B[39;00m(key) \u001B[38;5;28;01mfrom\u001B[39;00m \u001B[38;5;21;01merr\u001B[39;00m\n",
       "\u001B[1;32m   3805\u001B[0m \u001B[38;5;28;01mexcept\u001B[39;00m \u001B[38;5;167;01mTypeError\u001B[39;00m:\n",
       "\u001B[1;32m   3806\u001B[0m     \u001B[38;5;66;03m# If we have a listlike key, _check_indexing_error will raise\u001B[39;00m\n",
       "\u001B[1;32m   3807\u001B[0m     \u001B[38;5;66;03m#  InvalidIndexError. Otherwise we fall through and re-raise\u001B[39;00m\n",
       "\u001B[1;32m   3808\u001B[0m     \u001B[38;5;66;03m#  the TypeError.\u001B[39;00m\n",
       "\u001B[1;32m   3809\u001B[0m     \u001B[38;5;28mself\u001B[39m\u001B[38;5;241m.\u001B[39m_check_indexing_error(key)\n",
       "\n",
       "\u001B[0;31mKeyError\u001B[0m: 'InjectionWellId'"
      ]
     },
     "metadata": {
      "application/vnd.databricks.v1+output": {
       "addedWidgets": {},
       "arguments": {},
       "datasetInfos": [],
       "jupyterProps": {
        "ename": "KeyError",
        "evalue": "'InjectionWellId'"
       },
       "metadata": {
        "errorSummary": "<span class='ansi-red-fg'>KeyError</span>: 'InjectionWellId'"
       },
       "removedWidgets": [],
       "sqlProps": null,
       "stackFrames": [
        "\u001B[0;31m---------------------------------------------------------------------------\u001B[0m",
        "\u001B[0;31mKeyError\u001B[0m                                  Traceback (most recent call last)",
        "File \u001B[0;32m/databricks/python/lib/python3.10/site-packages/pandas/core/indexes/base.py:3802\u001B[0m, in \u001B[0;36mIndex.get_loc\u001B[0;34m(self, key, method, tolerance)\u001B[0m\n\u001B[1;32m   3801\u001B[0m \u001B[38;5;28;01mtry\u001B[39;00m:\n\u001B[0;32m-> 3802\u001B[0m     \u001B[38;5;28;01mreturn\u001B[39;00m \u001B[38;5;28;43mself\u001B[39;49m\u001B[38;5;241;43m.\u001B[39;49m\u001B[43m_engine\u001B[49m\u001B[38;5;241;43m.\u001B[39;49m\u001B[43mget_loc\u001B[49m\u001B[43m(\u001B[49m\u001B[43mcasted_key\u001B[49m\u001B[43m)\u001B[49m\n\u001B[1;32m   3803\u001B[0m \u001B[38;5;28;01mexcept\u001B[39;00m \u001B[38;5;167;01mKeyError\u001B[39;00m \u001B[38;5;28;01mas\u001B[39;00m err:\n",
        "File \u001B[0;32m/databricks/python/lib/python3.10/site-packages/pandas/_libs/index.pyx:138\u001B[0m, in \u001B[0;36mpandas._libs.index.IndexEngine.get_loc\u001B[0;34m()\u001B[0m\n",
        "File \u001B[0;32m/databricks/python/lib/python3.10/site-packages/pandas/_libs/index.pyx:165\u001B[0m, in \u001B[0;36mpandas._libs.index.IndexEngine.get_loc\u001B[0;34m()\u001B[0m\n",
        "File \u001B[0;32mpandas/_libs/hashtable_class_helper.pxi:5745\u001B[0m, in \u001B[0;36mpandas._libs.hashtable.PyObjectHashTable.get_item\u001B[0;34m()\u001B[0m\n",
        "File \u001B[0;32mpandas/_libs/hashtable_class_helper.pxi:5753\u001B[0m, in \u001B[0;36mpandas._libs.hashtable.PyObjectHashTable.get_item\u001B[0;34m()\u001B[0m\n",
        "\u001B[0;31mKeyError\u001B[0m: 'InjectionWellId'",
        "\nThe above exception was the direct cause of the following exception:\n",
        "\u001B[0;31mKeyError\u001B[0m                                  Traceback (most recent call last)",
        "File \u001B[0;32m<command-211832628489450>, line 5\u001B[0m\n\u001B[1;32m      3\u001B[0m forecastWellsDF\u001B[38;5;241m=\u001B[39mwinWellsDF\u001B[38;5;241m.\u001B[39mappend(addedWellsDF)\n\u001B[1;32m      4\u001B[0m \u001B[38;5;66;03m# Create updated injection dataframe\u001B[39;00m\n\u001B[0;32m----> 5\u001B[0m priorInjDF\u001B[38;5;241m=\u001B[39minjDF[injDF[\u001B[38;5;124m'\u001B[39m\u001B[38;5;124mInjectionWellId\u001B[39m\u001B[38;5;124m'\u001B[39m]\u001B[38;5;241m.\u001B[39misin(forecastWellsDF[\u001B[38;5;124m'\u001B[39m\u001B[38;5;124mInjectionWellId\u001B[39m\u001B[38;5;124m'\u001B[39m])]\n",
        "File \u001B[0;32m/databricks/python/lib/python3.10/site-packages/pandas/core/frame.py:3807\u001B[0m, in \u001B[0;36mDataFrame.__getitem__\u001B[0;34m(self, key)\u001B[0m\n\u001B[1;32m   3805\u001B[0m \u001B[38;5;28;01mif\u001B[39;00m \u001B[38;5;28mself\u001B[39m\u001B[38;5;241m.\u001B[39mcolumns\u001B[38;5;241m.\u001B[39mnlevels \u001B[38;5;241m>\u001B[39m \u001B[38;5;241m1\u001B[39m:\n\u001B[1;32m   3806\u001B[0m     \u001B[38;5;28;01mreturn\u001B[39;00m \u001B[38;5;28mself\u001B[39m\u001B[38;5;241m.\u001B[39m_getitem_multilevel(key)\n\u001B[0;32m-> 3807\u001B[0m indexer \u001B[38;5;241m=\u001B[39m \u001B[38;5;28;43mself\u001B[39;49m\u001B[38;5;241;43m.\u001B[39;49m\u001B[43mcolumns\u001B[49m\u001B[38;5;241;43m.\u001B[39;49m\u001B[43mget_loc\u001B[49m\u001B[43m(\u001B[49m\u001B[43mkey\u001B[49m\u001B[43m)\u001B[49m\n\u001B[1;32m   3808\u001B[0m \u001B[38;5;28;01mif\u001B[39;00m is_integer(indexer):\n\u001B[1;32m   3809\u001B[0m     indexer \u001B[38;5;241m=\u001B[39m [indexer]\n",
        "File \u001B[0;32m/databricks/python/lib/python3.10/site-packages/pandas/core/indexes/base.py:3804\u001B[0m, in \u001B[0;36mIndex.get_loc\u001B[0;34m(self, key, method, tolerance)\u001B[0m\n\u001B[1;32m   3802\u001B[0m     \u001B[38;5;28;01mreturn\u001B[39;00m \u001B[38;5;28mself\u001B[39m\u001B[38;5;241m.\u001B[39m_engine\u001B[38;5;241m.\u001B[39mget_loc(casted_key)\n\u001B[1;32m   3803\u001B[0m \u001B[38;5;28;01mexcept\u001B[39;00m \u001B[38;5;167;01mKeyError\u001B[39;00m \u001B[38;5;28;01mas\u001B[39;00m err:\n\u001B[0;32m-> 3804\u001B[0m     \u001B[38;5;28;01mraise\u001B[39;00m \u001B[38;5;167;01mKeyError\u001B[39;00m(key) \u001B[38;5;28;01mfrom\u001B[39;00m \u001B[38;5;21;01merr\u001B[39;00m\n\u001B[1;32m   3805\u001B[0m \u001B[38;5;28;01mexcept\u001B[39;00m \u001B[38;5;167;01mTypeError\u001B[39;00m:\n\u001B[1;32m   3806\u001B[0m     \u001B[38;5;66;03m# If we have a listlike key, _check_indexing_error will raise\u001B[39;00m\n\u001B[1;32m   3807\u001B[0m     \u001B[38;5;66;03m#  InvalidIndexError. Otherwise we fall through and re-raise\u001B[39;00m\n\u001B[1;32m   3808\u001B[0m     \u001B[38;5;66;03m#  the TypeError.\u001B[39;00m\n\u001B[1;32m   3809\u001B[0m     \u001B[38;5;28mself\u001B[39m\u001B[38;5;241m.\u001B[39m_check_indexing_error(key)\n",
        "\u001B[0;31mKeyError\u001B[0m: 'InjectionWellId'"
       ],
       "type": "baseError"
      }
     },
     "output_type": "display_data"
    }
   ],
   "source": [
    "# Here is where the input well rates come into play\n",
    "# Create updated dataframe with new wells\n",
    "forecastWellsDF=winWellsDF.append(addedWellsDF)\n",
    "# Create updated injection dataframe\n",
    "priorInjDF=injDF[injDF['InjectionWellId'].isin(forecastWellsDF['InjectionWellId'])]\n",
    "# Start with columns from existing dataframe.\n",
    "# Set start date, end date, and interval, maybe existing dataframe as well?\n",
    "# Parameters are a dictionary of wells and rates\n",
    "# Output is an dataframe that we can append to our existing dataframe\n",
    "#forecastInjDF=\n",
    "# Find start date\n",
    "# Create vector of dates or day numbers.\n",
    "# Loop over wells\n",
    "#   Create rows for each well\n",
    "# Create dataframe"
   ]
  },
  {
   "cell_type": "code",
   "execution_count": 0,
   "metadata": {
    "application/vnd.databricks.v1+cell": {
     "cellMetadata": {
      "byteLimit": 2048000,
      "rowLimit": 10000
     },
     "inputWidgets": {},
     "nuid": "8b6d2801-84e8-4d83-bbf3-72454f062b95",
     "showTitle": true,
     "tableResultSettingsMap": {},
     "title": "Compute"
    }
   },
   "outputs": [
    {
     "output_type": "display_data",
     "data": {
      "text/plain": [
       ""
      ]
     },
     "metadata": {
      "application/vnd.databricks.v1+output": {
       "addedWidgets": {},
       "arguments": {},
       "datasetInfos": [],
       "jupyterProps": null,
       "metadata": {
        "errorSummary": "Command skipped"
       },
       "removedWidgets": [],
       "sqlProps": null,
       "stackFrames": [],
       "type": "baseError"
      }
     },
     "output_type": "display_data"
    }
   ],
   "source": [
    "# And here is the future time forecast\n",
    "#scenarioTSDF,dPTimeSeries,wellIDs,dayVec = gist.runPressureScenariosTimeSeriesTest(eq,forecastWellsDF,forecastInjDF,verbose=verb)"
   ]
  },
  {
   "cell_type": "code",
   "execution_count": 0,
   "metadata": {
    "application/vnd.databricks.v1+cell": {
     "cellMetadata": {
      "byteLimit": 2048000,
      "rowLimit": 10000
     },
     "inputWidgets": {},
     "nuid": "697e0a54-caa8-492d-adf3-782d901d518c",
     "showTitle": false,
     "tableResultSettingsMap": {},
     "title": ""
    }
   },
   "outputs": [],
   "source": []
  }
 ],
 "metadata": {
  "application/vnd.databricks.v1+notebook": {
   "computePreferences": {
    "hardware": {
     "accelerator": null,
     "gpuPoolId": null,
     "memory": null
    }
   },
   "dashboards": [],
   "environmentMetadata": {
    "base_environment": "",
    "client": "1"
   },
   "language": "python",
   "notebookMetadata": {
    "pythonIndentUnit": 2
   },
   "notebookName": "GIST_RunTemplate_texnet2024oqfb_deep",
   "widgets": {}
  },
  "language_info": {
   "name": "python"
  }
 },
 "nbformat": 4,
 "nbformat_minor": 0
}