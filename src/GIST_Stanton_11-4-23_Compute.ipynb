{
 "cells": [
  {
   "cell_type": "markdown",
   "metadata": {
    "application/vnd.databricks.v1+cell": {
     "cellMetadata": {
      "byteLimit": 2048000,
      "rowLimit": 10000
     },
     "inputWidgets": {},
     "nuid": "c1abdb59-6473-4a9e-89dc-f7bf61a76f4b",
     "showTitle": false,
     "title": ""
    }
   },
   "source": [
    "# GIST Driver\n",
    "##Test on events of interest:\n",
    "  \n",
    "  texnet2023vqsh\n",
    "\n",
    "  \n",
    "Assumes InjectionSQLScheduled completed"
   ]
  },
  {
   "cell_type": "markdown",
   "metadata": {
    "application/vnd.databricks.v1+cell": {
     "cellMetadata": {
      "byteLimit": 2048000,
      "rowLimit": 10000
     },
     "inputWidgets": {},
     "nuid": "83eacea1-ee6c-412e-86e8-eb0062d6a40c",
     "showTitle": false,
     "title": ""
    }
   },
   "source": [
    "#Configuration"
   ]
  },
  {
   "cell_type": "markdown",
   "metadata": {
    "application/vnd.databricks.v1+cell": {
     "cellMetadata": {
      "byteLimit": 2048000,
      "rowLimit": 10000
     },
     "inputWidgets": {},
     "nuid": "fe561de9-c0de-474b-af1b-e457ac846dbe",
     "showTitle": false,
     "title": ""
    }
   },
   "source": [
    "##Libraries"
   ]
  },
  {
   "cell_type": "code",
   "execution_count": 0,
   "metadata": {
    "application/vnd.databricks.v1+cell": {
     "cellMetadata": {
      "byteLimit": 2048000,
      "rowLimit": 10000
     },
     "inputWidgets": {},
     "nuid": "0e21e4dd-c64f-459b-9241-0cb74bf49524",
     "showTitle": false,
     "title": ""
    }
   },
   "outputs": [
    {
     "output_type": "stream",
     "name": "stdout",
     "output_type": "stream",
     "text": [
           ]
    }
   ],
   "source": [
    "! pip install geopandas\n",
    "! pip install geodatasets\n",
    "! pip install folium matplotlib mapclassify contextily"
   ]
  },
  {
   "cell_type": "code",
   "execution_count": 0,
   "metadata": {
    "application/vnd.databricks.v1+cell": {
     "cellMetadata": {
      "byteLimit": 2048000,
      "rowLimit": 10000
     },
     "inputWidgets": {},
     "nuid": "2e230114-d00d-4065-9b06-9bc65deb51a6",
     "showTitle": false,
     "title": ""
    }
   },
   "outputs": [],
   "source": [
    "import sys\n",
    "basePath=''\n",
    "gistPath='t'\n",
    "sys.path.append(basePath)\n",
    "import dataBricksConfig as db"
   ]
  },
  {
   "cell_type": "code",
   "execution_count": 0,
   "metadata": {
    "application/vnd.databricks.v1+cell": {
     "cellMetadata": {
      "byteLimit": 2048000,
      "rowLimit": 10000
     },
     "inputWidgets": {},
     "nuid": "732391bb-8d33-4ac8-a2d7-4a7efc617715",
     "showTitle": false,
     "title": ""
    }
   },
   "outputs": [
    {
     "output_type": "display_data",
     "data": {
      "application/vnd.databricks.v1+bamboolib_hint": "{\"pd.DataFrames\": [], \"version\": \"0.0.1\"}",
      "text/plain": []
     },
     "metadata": {},
     "output_type": "display_data"
    },
    {
     "output_type": "stream",
     "name": "stderr",
     "output_type": "stream",
     "text": [
     ]
    },
    {
     "output_type": "display_data",
     "data": {
      "application/vnd.databricks.v1+h3_hint": "",
      "text/plain": []
     },
     "metadata": {},
     "output_type": "display_data"
    }
   ],
   "source": [
    "import numpy as np\n",
    "import pandas as pd\n",
    "import os\n",
    "import gistMCLive as gi\n",
    "import eqSQL as es\n",
    "import matplotlib.pyplot as plt\n",
    "import seaborn as sns\n",
    "import geopandas\n",
    "import contextily as cx"
   ]
  },
  {
   "cell_type": "code",
   "execution_count": 0,
   "metadata": {
    "application/vnd.databricks.v1+cell": {
     "cellMetadata": {
      "byteLimit": 2048000,
      "rowLimit": 10000
     },
     "inputWidgets": {},
     "nuid": "27407231-7c67-4d49-aedb-af45ba43c440",
     "showTitle": false,
     "title": ""
    }
   },
   "outputs": [],
   "source": [
    "import gistPlots as gp"
   ]
  },
  {
   "cell_type": "markdown",
   "metadata": {
    "application/vnd.databricks.v1+cell": {
     "cellMetadata": {
      "byteLimit": 2048000,
      "rowLimit": 10000
     },
     "inputWidgets": {},
     "nuid": "41d31cc5-0dad-4f64-a0ad-66225f6ae397",
     "showTitle": false,
     "title": ""
    }
   },
   "source": [
    "## Parameters"
   ]
  },
  {
   "cell_type": "markdown",
   "metadata": {
    "application/vnd.databricks.v1+cell": {
     "cellMetadata": {
      "byteLimit": 2048000,
      "rowLimit": 10000
     },
     "inputWidgets": {},
     "nuid": "9237e4af-4e41-491b-add8-8b182193f2e7",
     "showTitle": false,
     "title": ""
    }
   },
   "source": [
    "### Input Files\n",
    "Produced from injectionSQLScheduled.py"
   ]
  },
  {
   "cell_type": "code",
   "execution_count": 0,
   "metadata": {
    "application/vnd.databricks.v1+cell": {
     "cellMetadata": {
      "byteLimit": 2048000,
      "rowLimit": 10000
     },
     "inputWidgets": {},
     "nuid": "7b3f2312-434f-4dc7-a7d1-dc7a2717a900",
     "showTitle": false,
     "title": ""
    }
   },
   "outputs": [],
   "source": [
    "injPath=gistPath+'/ScheduledOutput'\n",
    "\n",
    "DeepWellFile=injPath+'/deep.csv'\n",
    "DeepInjFile=injPath+'/deepReg.csv'\n",
    "ShallowWellFile=injPath+'/shallow.csv'\n",
    "ShallowInjFile=injPath+'/shallowReg.csv'\n",
    "runPath=gistPath+'/Outputs/'\n",
    "\n",
    "################################################\n",
    "# Output prefix for realizations of parameters #\n",
    "################################################\n",
    "RealizationPrefix=runPath+'MC'"
   ]
  },
  {
   "cell_type": "markdown",
   "metadata": {
    "application/vnd.databricks.v1+cell": {
     "cellMetadata": {
      "byteLimit": 2048000,
      "rowLimit": 10000
     },
     "inputWidgets": {},
     "nuid": "011258b8-ff95-4291-ae2e-7a10d5fcb0f0",
     "showTitle": false,
     "title": ""
    }
   },
   "source": [
    "###General"
   ]
  },
  {
   "cell_type": "code",
   "execution_count": 0,
   "metadata": {
    "application/vnd.databricks.v1+cell": {
     "cellMetadata": {
      "byteLimit": 2048000,
      "rowLimit": 10000
     },
     "inputWidgets": {},
     "nuid": "df1a8b6f-1e95-45ec-a269-8087bffbe282",
     "showTitle": false,
     "title": ""
    }
   },
   "outputs": [],
   "source": [
    "######################\n",
    "# General Parameters #\n",
    "######################\n",
    "nRealizations=500\n",
    "nTimeBins=21\n",
    "WaterDensity=1020.\n",
    "WaterViscosity=0.001\n",
    "VerticalCompressibility=0.000000001\n",
    "FluidCompressibility=0.00000000036\n",
    "FaultFrictionCoeff=0.6\n",
    "RockFrictionCoeff=0.6\n",
    "\n",
    "###################################\n",
    "# General Parameter Uncertainties #\n",
    "###################################\n",
    "WaterDensityUncertainty=5.\n",
    "WaterViscosityUncertainty=0.000001\n",
    "VerticalCompressibilityUncertainty=0.00000000001\n",
    "FluidCompressibilityUncertainty=0.000000000001\n",
    "FaultFrictionCoeffUncertainty=0.05\n",
    "RockFrictionCoeffUncertainty=0.05"
   ]
  },
  {
   "cell_type": "markdown",
   "metadata": {
    "application/vnd.databricks.v1+cell": {
     "cellMetadata": {
      "byteLimit": 2048000,
      "rowLimit": 10000
     },
     "inputWidgets": {},
     "nuid": "6c6e7111-066e-4e4a-9bc2-2da85adebd92",
     "showTitle": false,
     "title": ""
    }
   },
   "source": [
    "###Shallow interval"
   ]
  },
  {
   "cell_type": "code",
   "execution_count": 0,
   "metadata": {
    "application/vnd.databricks.v1+cell": {
     "cellMetadata": {
      "byteLimit": 2048000,
      "rowLimit": 10000
     },
     "inputWidgets": {},
     "nuid": "dfc65283-5b63-4ab3-96c6-da52acc40ddc",
     "showTitle": false,
     "title": ""
    }
   },
   "outputs": [],
   "source": [
    "###############################\n",
    "# Shallow Interval Parameters #\n",
    "###############################\n",
    "ShallowPorosityPercent=15.\n",
    "ShallowPermMD=10.\n",
    "ShallowThicknessFT=3700.\n",
    "# From Lei's excel sheet for Stanton - Young's modulus 5.83 GPA\n",
    "# Shear = Young / 2(1+ Poisson's ratio)\n",
    "ShallowShearModulus=2.4e9\n",
    "# Is Dynamic undrained?\n",
    "ShallowPoissonsRatioDrained=0.19\n",
    "ShallowPoissonsRatioUndrained=0.215\n",
    "# No idea - probably needs updating\n",
    "ShallowBiotsCoefficient=0.31\n",
    "\n",
    "##################################\n",
    "# Shallow Interval Uncertainties #\n",
    "##################################\n",
    "ShallowPorosityPercentUncertainty=8.\n",
    "# I think this should be a flat distribution bounds set using the logarithm of the permeability - now implemented\n",
    "ShallowPermLogMDUncertainty=1.\n",
    "ShallowThicknessFTUncertainty=500.\n",
    "ShallowShearModulusUncertainty=1e9\n",
    "ShallowPoissonsRatioDrainedUncertainty=0.01\n",
    "ShallowPoissonsRatioUndrainedUncertainty=0.01\n",
    "ShallowBiotsCoefficientUncertainty=0.05"
   ]
  },
  {
   "cell_type": "markdown",
   "metadata": {
    "application/vnd.databricks.v1+cell": {
     "cellMetadata": {
      "byteLimit": 2048000,
      "rowLimit": 10000
     },
     "inputWidgets": {},
     "nuid": "7d6c2d88-5cbb-43c6-af46-c8361e61f1cf",
     "showTitle": false,
     "title": ""
    }
   },
   "source": [
    "### Deep Interval"
   ]
  },
  {
   "cell_type": "code",
   "execution_count": 0,
   "metadata": {
    "application/vnd.databricks.v1+cell": {
     "cellMetadata": {
      "byteLimit": 2048000,
      "rowLimit": 10000
     },
     "inputWidgets": {},
     "nuid": "d58e0474-d42e-49be-94ae-633087760772",
     "showTitle": false,
     "title": ""
    }
   },
   "outputs": [],
   "source": [
    "###############################\n",
    "# Deep Interval Parameters #\n",
    "###############################\n",
    "DeepPorosityPercent=8.\n",
    "# Pulse pressure test shows background diffusivity of 0.5 m2/s\n",
    "# Back that into permeaiblity: k = D * eta * (Cr + porosity Cp)\n",
    "# 0.5 x 0.001 x (1e -9 + 0.08 x 3.6 e-10) = 5.144 e-13\n",
    "# / 9.9e-16 m2 to mD = 520mD!\n",
    "DeepPermMD=100.\n",
    "# Now let's change this to something where 1D is the high range and 10mD is the low range\n",
    "\n",
    "DeepThicknessFT=1400.\n",
    "# Roughly double of shallow - \n",
    "DeepShearModulus=5e9\n",
    "DeepPoissonsRatioDrained=0.30\n",
    "DeepPoissonsRatioUndrained=0.31\n",
    "DeepBiotsCoefficient=0.31\n",
    "\n",
    "##################################\n",
    "# DeepInterval Uncertainties #\n",
    "##################################\n",
    "DeepPorosityPercentUncertainty=5.\n",
    "DeepPermLogMDUncertainty=1.\n",
    "DeepThicknessFTUncertainty=200.\n",
    "DeepShearModulusUncertainty=1e9\n",
    "DeepPoissonsRatioDrainedUncertainty=0.005\n",
    "DeepPoissonsRatioUndrainedUncertainty=0.005\n",
    "DeepBiotsCoefficientUncertainty=0.05"
   ]
  },
  {
   "cell_type": "markdown",
   "metadata": {
    "application/vnd.databricks.v1+cell": {
     "cellMetadata": {
      "byteLimit": 2048000,
      "rowLimit": 10000
     },
     "inputWidgets": {},
     "nuid": "0dde5262-6ef4-4597-b3fe-c7235a253757",
     "showTitle": false,
     "title": ""
    }
   },
   "source": [
    "#Earthquake Selection"
   ]
  },
  {
   "cell_type": "code",
   "execution_count": 0,
   "metadata": {
    "application/vnd.databricks.v1+cell": {
     "cellMetadata": {
      "byteLimit": 2048000,
      "rowLimit": 10000
     },
     "inputWidgets": {},
     "nuid": "ce7a3a90-f553-4113-abbe-37d6fb67d6e5",
     "showTitle": false,
     "title": ""
    }
   },
   "outputs": [
    {
     "output_type": "stream",
     "name": "stdout",
     "output_type": "stream",
     "text": [
     ]
    }
   ],
   "source": [
    "eqs=es.eqSQL()\n",
    "EQDF=eqs.getEarthquake('texnet2023vqsh')\n",
    "EQDF=EQDF.rename(columns={'LatitudeErrorKm':'LatitudeError','LongitudeErrorKm':'LongitudeError','EventId':'EventID'})\n",
    "# What about the other fault plane solution?\n",
    "EQDF['Strike']=216.\n",
    "EQDF['Dip']=65.\n",
    "EQDF['Rake']=-127.\n",
    "# We could make use of the Rake\n",
    "EQDF.info()\n",
    "eq=EQDF.loc[0]\n",
    "EQDF.to_csv(runPath+'/11-4-23EQ.csv')"
   ]
  },
  {
   "cell_type": "markdown",
   "metadata": {
    "application/vnd.databricks.v1+cell": {
     "cellMetadata": {
      "byteLimit": 2048000,
      "rowLimit": 10000
     },
     "inputWidgets": {},
     "nuid": "61b8015e-aa08-4602-a74d-7e156b85d725",
     "showTitle": false,
     "title": ""
    }
   },
   "source": [
    "#GIST Initialization"
   ]
  },
  {
   "cell_type": "markdown",
   "metadata": {
    "application/vnd.databricks.v1+cell": {
     "cellMetadata": {
      "byteLimit": 2048000,
      "rowLimit": 10000
     },
     "inputWidgets": {},
     "nuid": "8f47744f-50ea-4a2e-8b39-5e7f9c586934",
     "showTitle": false,
     "title": ""
    }
   },
   "source": [
    "## Shallow "
   ]
  },
  {
   "cell_type": "code",
   "execution_count": 0,
   "metadata": {
    "application/vnd.databricks.v1+cell": {
     "cellMetadata": {
      "byteLimit": 2048000,
      "rowLimit": 10000
     },
     "inputWidgets": {},
     "nuid": "dfe302e8-a252-4dbb-baea-bf6efddd53a9",
     "showTitle": false,
     "title": ""
    }
   },
   "outputs": [],
   "source": [
    "########################################\n",
    "# Initialize GIST for shallow interval #\n",
    "########################################\n",
    "shallowM=gi.gistMC(nReal=nRealizations,\n",
    "                   ntBin=nTimeBins)"
   ]
  },
  {
   "cell_type": "code",
   "execution_count": 0,
   "metadata": {
    "application/vnd.databricks.v1+cell": {
     "cellMetadata": {
      "byteLimit": 2048000,
      "rowLimit": 10000
     },
     "inputWidgets": {},
     "nuid": "37338518-60dc-442e-84a9-1531446dea9c",
     "showTitle": false,
     "title": ""
    }
   },
   "outputs": [
    {
     "output_type": "stream",
     "name": "stdout",
     "output_type": "stream",
     "text": [
      " gistMC.initMCPP - kMD original Central value, upper bound, lower bound, updated value, uncertainty: 10.0 100.0 1.0 50.5 49.5\n"
     ]
    }
   ],
   "source": [
    "##############################################################\n",
    "# Initialize pore pressure model                             #\n",
    "# Parameters mostly from Katie Smye, are rough at this point #\n",
    "##############################################################\n",
    "shallowM.initPP(rho_0=WaterDensity,\n",
    "                nta=WaterViscosity,\n",
    "                phi=ShallowPorosityPercent,\n",
    "                kMD=ShallowPermMD,\n",
    "                h=ShallowThicknessFT,\n",
    "                alphav=VerticalCompressibility,\n",
    "                beta=FluidCompressibility)\n",
    "######################\n",
    "# Uncertainty ranges #\n",
    "######################\n",
    "shallowM.initMCPP(rhoUnc=WaterDensityUncertainty,\n",
    "                  ntaUnc=WaterViscosityUncertainty,\n",
    "                  phiUnc=ShallowPorosityPercentUncertainty,\n",
    "                  kMDLogUnc=ShallowPermLogMDUncertainty,\n",
    "                  hUnc=ShallowThicknessFTUncertainty,\n",
    "                  alphavUnc=VerticalCompressibilityUncertainty,\n",
    "                  betaUnc=FluidCompressibilityUncertainty)"
   ]
  },
  {
   "cell_type": "code",
   "execution_count": 0,
   "metadata": {
    "application/vnd.databricks.v1+cell": {
     "cellMetadata": {
      "byteLimit": 2048000,
      "rowLimit": 10000
     },
     "inputWidgets": {},
     "nuid": "690d6314-5030-419a-8cc6-a2b9529603a7",
     "showTitle": false,
     "title": ""
    }
   },
   "outputs": [],
   "source": [
    "######################################################\n",
    "# These parameters need more vetting for Tarzan area #\n",
    "######################################################\n",
    "shallowM.initPE(mu=ShallowShearModulus,\n",
    "                nu=ShallowPoissonsRatioDrained,\n",
    "                nu_u=ShallowPoissonsRatioUndrained,\n",
    "                alpha=ShallowBiotsCoefficient,\n",
    "                mu_f=FaultFrictionCoeff,\n",
    "                mu_r=RockFrictionCoeff,\n",
    "                match=True)\n",
    "######################\n",
    "# Uncertainty ranges #\n",
    "######################\n",
    "shallowM.initMCPE(muUnc=ShallowShearModulusUncertainty,\n",
    "                  nuUnc=ShallowPoissonsRatioDrainedUncertainty,\n",
    "                  nu_uUnc=ShallowPoissonsRatioUndrainedUncertainty,\n",
    "                  alphaUnc=ShallowBiotsCoefficientUncertainty,\n",
    "                  muFUnc=FaultFrictionCoeffUncertainty,\n",
    "                  muRUnc=RockFrictionCoeffUncertainty,\n",
    "                  match=True)"
   ]
  },
  {
   "cell_type": "markdown",
   "metadata": {
    "application/vnd.databricks.v1+cell": {
     "cellMetadata": {
      "byteLimit": 2048000,
      "rowLimit": 10000
     },
     "inputWidgets": {},
     "nuid": "b9911a2e-abbe-48fa-beb3-db4bc2a8727a",
     "showTitle": false,
     "title": ""
    }
   },
   "source": [
    "## Deep"
   ]
  },
  {
   "cell_type": "code",
   "execution_count": 0,
   "metadata": {
    "application/vnd.databricks.v1+cell": {
     "cellMetadata": {
      "byteLimit": 2048000,
      "rowLimit": 10000
     },
     "inputWidgets": {},
     "nuid": "d6dead15-ae34-43e1-8795-831b0532c24a",
     "showTitle": false,
     "title": ""
    }
   },
   "outputs": [
    {
     "output_type": "stream",
     "name": "stdout",
     "output_type": "stream",
     "text": [
      " gistMC.initMCPP - kMD original Central value, upper bound, lower bound, updated value, uncertainty: 100.0 1000.0 10.0 505.0 495.0\n"
     ]
    }
   ],
   "source": [
    "##################################################\n",
    "# Initialize 2nd GIST instance for deep interval #\n",
    "##################################################\n",
    "deepM=gi.gistMC(nReal=nRealizations,\n",
    "                ntBin=nTimeBins)\n",
    "##################################################################\n",
    "# Initialize pore pressure model                                 #\n",
    "##################################################################\n",
    "deepM.initPP(rho_0=WaterDensity,\n",
    "             phi=DeepPorosityPercent,\n",
    "             kMD=DeepPermMD,\n",
    "             h=DeepThicknessFT,\n",
    "             alphav=VerticalCompressibility,\n",
    "             beta=FluidCompressibility)\n",
    "\n",
    "deepM.initMCPP(rhoUnc=WaterDensityUncertainty,\n",
    "               ntaUnc=WaterViscosityUncertainty,\n",
    "               phiUnc=DeepPorosityPercentUncertainty,\n",
    "               kMDLogUnc=DeepPermLogMDUncertainty,\n",
    "               hUnc=DeepThicknessFTUncertainty,\n",
    "               alphavUnc=VerticalCompressibilityUncertainty,\n",
    "               betaUnc=FluidCompressibilityUncertainty)"
   ]
  },
  {
   "cell_type": "code",
   "execution_count": 0,
   "metadata": {
    "application/vnd.databricks.v1+cell": {
     "cellMetadata": {
      "byteLimit": 2048000,
      "rowLimit": 10000
     },
     "inputWidgets": {},
     "nuid": "0811f336-b85e-4935-a4aa-78e7c7088826",
     "showTitle": false,
     "title": ""
    }
   },
   "outputs": [],
   "source": [
    "######################################################\n",
    "# These parameters need more vetting for Tarzan area #\n",
    "######################################################\n",
    "deepM.initPE(mu=DeepShearModulus,\n",
    "             nu=DeepPoissonsRatioDrained,\n",
    "             nu_u=DeepPoissonsRatioUndrained,\n",
    "             alpha=DeepBiotsCoefficient,\n",
    "             mu_f=FaultFrictionCoeff,\n",
    "             mu_r=RockFrictionCoeff,\n",
    "             match=True)\n",
    "deepM.initMCPE(muUnc=DeepShearModulusUncertainty,\n",
    "               nuUnc=DeepPoissonsRatioDrainedUncertainty,\n",
    "               nu_uUnc=DeepPoissonsRatioUndrainedUncertainty,\n",
    "               alphaUnc=DeepBiotsCoefficientUncertainty,\n",
    "               muFUnc=FaultFrictionCoeffUncertainty,\n",
    "               muRUnc=RockFrictionCoeffUncertainty,\n",
    "               match=True)"
   ]
  },
  {
   "cell_type": "code",
   "execution_count": 0,
   "metadata": {
    "application/vnd.databricks.v1+cell": {
     "cellMetadata": {
      "byteLimit": 2048000,
      "rowLimit": 10000
     },
     "inputWidgets": {},
     "nuid": "1f185be3-f58b-42ee-9558-19d223aaca9d",
     "showTitle": false,
     "title": ""
    }
   },
   "outputs": [
    {
     "output_type": "stream",
     "name": "stdout",
     "output_type": "stream",
     "text": [
      "Shallow Diffusivity=0.0952405163641887\nDeep Diffusivity=0.9719884689589782\n"
     ]
    }
   ],
   "source": [
    "#######################################\n",
    "# Add uncertainties to both intervals #\n",
    "#######################################\n",
    "\n",
    "######################\n",
    "# Post diffusivities #\n",
    "######################\n",
    "print(\"Shallow Diffusivity=\"+str(shallowM.diffPPMax))\n",
    "print(\"Deep Diffusivity=\"+str(deepM.diffPPMax))\n"
   ]
  },
  {
   "cell_type": "markdown",
   "metadata": {
    "application/vnd.databricks.v1+cell": {
     "cellMetadata": {
      "byteLimit": 2048000,
      "rowLimit": 10000
     },
     "inputWidgets": {},
     "nuid": "345d4c80-14e1-4260-9b69-ef604e3abd0f",
     "showTitle": false,
     "title": ""
    }
   },
   "source": [
    "#Well selection"
   ]
  },
  {
   "cell_type": "markdown",
   "metadata": {
    "application/vnd.databricks.v1+cell": {
     "cellMetadata": {
      "byteLimit": 2048000,
      "rowLimit": 10000
     },
     "inputWidgets": {},
     "nuid": "cc618d09-6496-4d5b-b5ce-7031de3af50c",
     "showTitle": false,
     "title": ""
    }
   },
   "source": [
    "####Input wells"
   ]
  },
  {
   "cell_type": "code",
   "execution_count": 0,
   "metadata": {
    "application/vnd.databricks.v1+cell": {
     "cellMetadata": {
      "byteLimit": 2048000,
      "rowLimit": 10000
     },
     "inputWidgets": {},
     "nuid": "c61650ff-760c-4493-a9e7-3ad67488dd8d",
     "showTitle": false,
     "title": ""
    }
   },
   "outputs": [
    {
     "output_type": "stream",
     "name": "stdout",
     "output_type": "stream",
     "text": [
     ]
    }
   ],
   "source": [
    "#########################################\n",
    "# Add potential wells to each instance  #\n",
    "#########################################\n",
    "print(\"Before adding shallow wells\")\n",
    "shallowM.addWells(ShallowWellFile,ShallowInjFile,verbose=1)"
   ]
  },
  {
   "cell_type": "code",
   "execution_count": 0,
   "metadata": {
    "application/vnd.databricks.v1+cell": {
     "cellMetadata": {
      "byteLimit": 2048000,
      "rowLimit": 10000
     },
     "inputWidgets": {},
     "nuid": "6d0b49b7-39d4-484f-bc94-dc5add600576",
     "showTitle": false,
     "title": ""
    }
   },
   "outputs": [
    {
     "output_type": "stream",
     "name": "stdout",
     "output_type": "stream",
     "text": [
     ]
    }
   ],
   "source": [
    "print(\"Before adding deep wells\")\n",
    "deepM.addWells(DeepWellFile,DeepInjFile,verbose=1)"
   ]
  },
  {
   "cell_type": "code",
   "execution_count": 0,
   "metadata": {
    "application/vnd.databricks.v1+cell": {
     "cellMetadata": {
      "byteLimit": 2048000,
      "rowLimit": 10000
     },
     "inputWidgets": {},
     "nuid": "7f8e3ce6-81c2-4554-8950-4f642a2e1022",
     "showTitle": false,
     "title": ""
    }
   },
   "outputs": [
    {
     "output_type": "stream",
     "name": "stdout",
     "output_type": "stream",
     "text": [
     ]
    }
   ],
   "source": [
    "shallowM.wellDF.info()\n",
    "EQDF.info()"
   ]
  },
  {
   "cell_type": "code",
   "execution_count": 0,
   "metadata": {
    "application/vnd.databricks.v1+cell": {
     "cellMetadata": {
      "byteLimit": 2048000,
      "rowLimit": 10000
     },
     "inputWidgets": {},
     "nuid": "ee92733a-6c18-4fbe-a9b5-893be1af431a",
     "showTitle": false,
     "title": ""
    }
   },
   "outputs": [],
   "source": [
    "shallowPPWells,shallowPPInj=shallowM.findWells(eq,PE=False)\n",
    "shallowPEWells,shallowPEInj=shallowM.findWells(eq,PE=True)\n",
    "shallowPPWells['EventID']=eq['EventID']\n",
    "shallowPEWells['EventID']=eq['EventID']\n",
    "deepPPWells,deepPPInj=deepM.findWells(eq,PE=False)\n",
    "deepPEWells,deepPEInj=deepM.findWells(eq,PE=True)\n",
    "deepPPWells['EventID']=eq['EventID']\n",
    "deepPEWells['EventID']=eq['EventID']"
   ]
  },
  {
   "cell_type": "code",
   "execution_count": 0,
   "metadata": {
    "application/vnd.databricks.v1+cell": {
     "cellMetadata": {
      "byteLimit": 2048000,
      "rowLimit": 10000
     },
     "inputWidgets": {},
     "nuid": "2f954928-3373-475d-9584-c75b31b62e95",
     "showTitle": false,
     "title": ""
    }
   },
   "outputs": [],
   "source": [
    "#shallowPPWells.to_csv(runPath+'/Stanton11-4-23_ShallowPPWells.csv')\n",
    "#shallowPEWells.to_csv(runPath+'/Stanton11-4-23_ShallowPEWells.csv')\n",
    "#deepPPWells.to_csv(runPath+'/Stanton11-4-23_DeepPPWells.csv')\n",
    "#deepPEWells.to_csv(runPath+'/Stanton11-4-23_DeepPEWells.csv')"
   ]
  },
  {
   "cell_type": "code",
   "execution_count": 0,
   "metadata": {
    "application/vnd.databricks.v1+cell": {
     "cellMetadata": {
      "byteLimit": 2048000,
      "rowLimit": 10000
     },
     "inputWidgets": {},
     "nuid": "65a52bd8-ac73-4a92-be9f-ce7a8f718770",
     "showTitle": false,
     "title": ""
    }
   },
   "outputs": [],
   "source": [
    "# Dump injection data to file:\n",
    "#deepPPInj.to_csv(runPath+'/Stanton11-4-23_DeepPPInj.csv')\n",
    "#shallowPPInj.to_csv(runPath+'/Stanton11-4-23_ShallowPPInj.csv')"
   ]
  },
  {
   "cell_type": "code",
   "execution_count": 0,
   "metadata": {
    "application/vnd.databricks.v1+cell": {
     "cellMetadata": {
      "byteLimit": 2048000,
      "rowLimit": 10000
     },
     "inputWidgets": {},
     "nuid": "5f270ec1-c943-42a8-a77c-07192c4b27d3",
     "showTitle": false,
     "title": ""
    }
   },
   "outputs": [
    {
     "output_type": "stream",
     "name": "stderr",
     "output_type": "stream",
     "text": [
     ]
    }
   ],
   "source": [
    "eq.loc['Origin Date']=pd.to_datetime(eq['Origin Date'])"
   ]
  },
  {
   "cell_type": "code",
   "execution_count": 0,
   "metadata": {
    "application/vnd.databricks.v1+cell": {
     "cellMetadata": {
      "byteLimit": 2048000,
      "rowLimit": 10000
     },
     "inputWidgets": {},
     "nuid": "7566ef8b-d412-49fb-aaa3-89c90802f3de",
     "showTitle": false,
     "title": ""
    }
   },
   "outputs": [],
   "source": [
    "#import gistPlots as gp\n",
    "\n",
    "#gp.wellInjPlot(deepPPInj,deepPPWells,'01-01-2018','02-11-2023','Deep Injection',True)\n",
    "#gp.wellInjPlot(shallowPPInj,shallowPPWells,'01-01-2018','02-11-2023','Shallow Injection',True)\n",
    "\n",
    "#fig, ax = plt.subplots(figsize=(12,24))\n",
    "# Merge well information onto injection rates\n",
    "# Need to incorporate time sampling other than 10 day\n"
   ]
  },
  {
   "cell_type": "markdown",
   "metadata": {
    "application/vnd.databricks.v1+cell": {
     "cellMetadata": {
      "byteLimit": 2048000,
      "rowLimit": 10000
     },
     "inputWidgets": {},
     "nuid": "07017189-acd7-4b48-aac6-b27675eeb507",
     "showTitle": false,
     "title": ""
    }
   },
   "source": [
    "#Initial GIST runs\n"
   ]
  },
  {
   "cell_type": "code",
   "execution_count": 0,
   "metadata": {
    "application/vnd.databricks.v1+cell": {
     "cellMetadata": {
      "byteLimit": 2048000,
      "rowLimit": 10000
     },
     "inputWidgets": {},
     "nuid": "9bc68774-2a3e-4964-a170-d95d30a103ad",
     "showTitle": false,
     "title": ""
    }
   },
   "outputs": [
    {
     "output_type": "stream",
     "name": "stdout",
     "output_type": "stream",
     "text": [
     ]
    }
   ],
   "source": [
    "# Run deep scenarios\n",
    "#eq['Origin Date']=pd.to_datetime(eq['Origin Date'])\n",
    "#dWellPPScenarios,dPPTimeSeries=deepM.runPressureScenarios(eq,deepPPWells,deepPPInj,verbose=1)"
   ]
  },
  {
   "cell_type": "code",
   "execution_count": 0,
   "metadata": {
    "application/vnd.databricks.v1+cell": {
     "cellMetadata": {
      "byteLimit": 2048000,
      "rowLimit": 10000
     },
     "inputWidgets": {},
     "nuid": "516355c2-dcda-43b7-9cc1-c75606a5b322",
     "showTitle": false,
     "title": ""
    }
   },
   "outputs": [
    {
     "output_type": "stream",
     "name": "stdout",
     "output_type": "stream",
     "text": [
     ]
    }
   ],
   "source": [
    "#sWellPPScenarios,sPPTimeSeries=shallowM.runPressureScenarios(eq,shallowPPWells,shallowPPInj,verbose=1)"
   ]
  },
  {
   "cell_type": "code",
   "execution_count": 0,
   "metadata": {
    "application/vnd.databricks.v1+cell": {
     "cellMetadata": {
      "byteLimit": 2048000,
      "rowLimit": 10000
     },
     "inputWidgets": {},
     "nuid": "dc5b4e0a-10c4-44d9-b04a-6cdf992dd9d9",
     "showTitle": false,
     "title": ""
    }
   },
   "outputs": [],
   "source": [
    "\n",
    "baseOutPath=''\n",
    "#dWellPPScenarios.to_csv(baseOutPath+'deepPP.csv')\n",
    "#sWellPPScenarios.to_csv(baseOutPath+'shallowPP.csv')"
   ]
  },
  {
   "cell_type": "code",
   "execution_count": 0,
   "metadata": {
    "application/vnd.databricks.v1+cell": {
     "cellMetadata": {
      "byteLimit": 2048000,
      "rowLimit": 10000
     },
     "inputWidgets": {},
     "nuid": "78d8630f-0e62-41f4-93db-6a7cde982f29",
     "showTitle": false,
     "title": ""
    }
   },
   "outputs": [],
   "source": [
    "#dPPTimeSeriesSum=dPPTimeSeries.sum(axis=1)\n",
    "#sPPTimeSeriesSum=sPPTimeSeries.sum(axis=1)\n",
    "dPPTimes=np.linspace(deepM.injOT, deepM.injOT+deepM.injDT*(deepM.injNT-1.),deepM.injNT)\n",
    "sPPTimes=np.linspace(shallowM.injOT, shallowM.injOT+shallowM.injDT*(shallowM.injNT-1.),shallowM.injNT)"
   ]
  },
  {
   "cell_type": "code",
   "execution_count": 0,
   "metadata": {
    "application/vnd.databricks.v1+cell": {
     "cellMetadata": {
      "byteLimit": 2048000,
      "rowLimit": 10000
     },
     "inputWidgets": {},
     "nuid": "6584e177-339a-465a-9378-36b36270d749",
     "showTitle": false,
     "title": ""
    }
   },
   "outputs": [],
   "source": [
    "np.save(baseOutPath+'deepPPTimes.npy',dPPTimes)\n",
    "np.save(baseOutPath+'shallowPPTimes.npy',sPPTimes)\n",
    "#np.save(baseOutPath+'shallowPPTimeSeriesSum.npy',sPPTimeSeriesSum)\n",
    "#np.save(baseOutPath+'deepPPTimeSeriesSum.npy',dPPTimeSeriesSum)"
   ]
  },
  {
   "cell_type": "code",
   "execution_count": 0,
   "metadata": {
    "application/vnd.databricks.v1+cell": {
     "cellMetadata": {
      "byteLimit": 2048000,
      "rowLimit": 10000
     },
     "inputWidgets": {},
     "nuid": "77484415-3a8a-420d-8bdf-1cdbc083b961",
     "showTitle": false,
     "title": ""
    }
   },
   "outputs": [],
   "source": [
    "# Window out significant wells - save individual time series for those\n"
   ]
  },
  {
   "cell_type": "code",
   "execution_count": 0,
   "metadata": {
    "application/vnd.databricks.v1+cell": {
     "cellMetadata": {
      "byteLimit": 2048000,
      "rowLimit": 10000
     },
     "inputWidgets": {},
     "nuid": "a2343091-6233-4724-b557-70ce0c3bf73a",
     "showTitle": false,
     "title": ""
    }
   },
   "outputs": [],
   "source": [
    "deepWindowedWells=dWellPPScenarios[dWellPPScenarios['Pressures']>0.1]['ID'].unique()\n",
    "shallowWindowedWells=sWellPPScenarios[sWellPPScenarios['Pressures']>0.1]['ID'].unique()"
   ]
  },
  {
   "cell_type": "code",
   "execution_count": 0,
   "metadata": {
    "application/vnd.databricks.v1+cell": {
     "cellMetadata": {
      "byteLimit": 2048000,
      "rowLimit": 10000
     },
     "inputWidgets": {},
     "nuid": "0a49fd1e-bec7-4a66-90a7-fe858be28d4e",
     "showTitle": false,
     "title": ""
    }
   },
   "outputs": [],
   "source": [
    "# dPPTimeSeries is time, well, realization - need top wells with time series of pressures\n",
    "dPPWellIndices=deepPPWells['ID'].isin(deepWindowedWells)\n",
    "print(sum(dPPWellIndices),' wells out of ',len(dPPWellIndices),' have >0.1 PSI contribution')\n",
    "dPPTimeSeriesSelected=dPPTimeSeries[:,dPPWellIndices,:]\n",
    "dPPSelectedWellNameDF=deepPPWells['WellName'][dPPWellIndices]\n",
    "print(dPPSelectedWellNameDF.to_list())"
   ]
  },
  {
   "cell_type": "code",
   "execution_count": 0,
   "metadata": {
    "application/vnd.databricks.v1+cell": {
     "cellMetadata": {
      "byteLimit": 2048000,
      "rowLimit": 10000
     },
     "inputWidgets": {},
     "nuid": "cb8d093b-9611-4982-b06d-c8897c5c044a",
     "showTitle": false,
     "title": ""
    }
   },
   "outputs": [],
   "source": [
    "i=0\n",
    "for wellName in dPPSelectedWellNameDF.to_list():\n",
    "  np.save(baseOutPath+'deepPPTimeSeries'+wellName+'.npy',dPPTimeSeriesSelected[:,i,:])\n",
    "  i=i+1\n",
    "  print('Well '+wellName+' written '+i)\n",
    "dPPSelectedWellNameDF.to_csv(baseOutPath+'deepSelectedWellNames.csv')"
   ]
  },
  {
   "cell_type": "code",
   "execution_count": 0,
   "metadata": {
    "application/vnd.databricks.v1+cell": {
     "cellMetadata": {
      "byteLimit": 2048000,
      "rowLimit": 10000
     },
     "inputWidgets": {},
     "nuid": "d60de264-2e47-4f7c-a7a5-4c8ec040eef0",
     "showTitle": false,
     "title": ""
    }
   },
   "outputs": [],
   "source": [
    "# sPPTimeSeries is time, well, realization - need top wells with time series of pressures\n",
    "sPPWellIndices=shallowPPWells['ID'].isin(shallowWindowedWells)\n",
    "print(sum(sPPWellIndices),' wells out of ',len(sPPWellIndices),' have >0.1 PSI contribution')\n",
    "sPPTimeSeriesSelected=sPPTimeSeries[:,sPPWellIndices,:]\n",
    "sPPSelectedWellNameDF=shallowPPWells['WellName'][sPPWellIndices]\n",
    "print(sPPSelectedWellNameDF.to_list())\n"
   ]
  },
  {
   "cell_type": "code",
   "execution_count": 0,
   "metadata": {
    "application/vnd.databricks.v1+cell": {
     "cellMetadata": {
      "byteLimit": 2048000,
      "rowLimit": 10000
     },
     "inputWidgets": {},
     "nuid": "2ca88550-2184-4121-b61e-84fc62d34cbc",
     "showTitle": false,
     "title": ""
    }
   },
   "outputs": [],
   "source": [
    "i=0\n",
    "for wellName in sPPSelectedWellNameDF.to_list():\n",
    "  np.save(baseOutPath+'shallowPPTimeSeries'+wellName+'.npy',sPPTimeSeriesSelected[:,i,:])\n",
    "  i=i+1\n",
    "  print('Well '+wellName+' written '+str(i))\n",
    "sPPSelectedWellNameDF.to_csv(baseOutPath+'shallowSelectedWellNames.csv')"
   ]
  },
  {
   "cell_type": "code",
   "execution_count": 0,
   "metadata": {
    "application/vnd.databricks.v1+cell": {
     "cellMetadata": {
      "byteLimit": 2048000,
      "rowLimit": 10000
     },
     "inputWidgets": {},
     "nuid": "e1f85a09-afe0-4681-9be4-1dff2564c072",
     "showTitle": false,
     "title": ""
    }
   },
   "outputs": [],
   "source": [
    "dWellPEScenarios=deepM.runPoroelasticScenarios(eq,deepPEWells,deepPEInj,verbose=1)"
   ]
  },
  {
   "cell_type": "code",
   "execution_count": 0,
   "metadata": {
    "application/vnd.databricks.v1+cell": {
     "cellMetadata": {
      "byteLimit": 2048000,
      "rowLimit": 10000
     },
     "inputWidgets": {},
     "nuid": "c789deb9-bed4-4e99-b004-2bd949512615",
     "showTitle": false,
     "title": ""
    }
   },
   "outputs": [],
   "source": [
    "sWellPEScenarios=shallowM.runPoroelasticScenarios(eq,shallowPEWells,shallowPEInj,verbose=1)"
   ]
  },
  {
   "cell_type": "code",
   "execution_count": 0,
   "metadata": {
    "application/vnd.databricks.v1+cell": {
     "cellMetadata": {
      "byteLimit": 2048000,
      "rowLimit": 10000
     },
     "inputWidgets": {},
     "nuid": "f4acf0d0-44d0-4ec3-b595-17bea90c2137",
     "showTitle": false,
     "title": ""
    }
   },
   "outputs": [],
   "source": [
    "\n",
    "dWellPEScenarios.to_csv(baseOutPath+'deepPE.csv')"
   ]
  },
  {
   "cell_type": "code",
   "execution_count": 0,
   "metadata": {
    "application/vnd.databricks.v1+cell": {
     "cellMetadata": {
      "byteLimit": 2048000,
      "rowLimit": 10000
     },
     "inputWidgets": {},
     "nuid": "4e2feb63-71b4-47ea-af13-22da38e9ca27",
     "showTitle": false,
     "title": ""
    }
   },
   "outputs": [],
   "source": [
    "\n",
    "sWellPEScenarios[sWellPEScenarios['Realization']<250].to_csv(baseOutPath+'shallowPE0.csv')\n",
    "sWellPEScenarios[sWellPEScenarios['Realization']>250].to_csv(baseOutPath+'shallowPE1.csv')\n"
   ]
  },
  {
   "cell_type": "code",
   "execution_count": 0,
   "metadata": {
    "application/vnd.databricks.v1+cell": {
     "cellMetadata": {
      "byteLimit": 2048000,
      "rowLimit": 10000
     },
     "inputWidgets": {},
     "nuid": "c69cb829-6cfd-43b3-8036-4a72f995d432",
     "showTitle": false,
     "title": ""
    }
   },
   "outputs": [],
   "source": [
    "sWellPEScenarios.info()"
   ]
  },
  {
   "cell_type": "code",
   "execution_count": 0,
   "metadata": {
    "application/vnd.databricks.v1+cell": {
     "cellMetadata": {
      "byteLimit": 2048000,
      "rowLimit": 10000
     },
     "inputWidgets": {},
     "nuid": "b8c026ba-46e8-4575-ab0f-8a6599b026c9",
     "showTitle": false,
     "title": ""
    }
   },
   "outputs": [],
   "source": [
    "deepWindowedWells=dWellPPScenarios[dWellPPScenarios['Pressures']>0.1]['ID'].unique()\n",
    "filtDWellPPScenarios=dWellPPScenarios[dWellPPScenarios['ID'].isin(deepWindowedWells)]\n",
    "maxPressureList=[]\n",
    "for ID in deepWindowedWells:\n",
    "  maxPressure=max(filtDWellPPScenarios[filtDWellPPScenarios['ID']==ID]['Pressures'])\n",
    "  nReal=filtDWellPPScenarios[filtDWellPPScenarios['ID']==ID].shape[0]\n",
    "  print(ID,maxPressure,nReal)\n",
    "  maxPressureList.extend([maxPressure,]*nReal)\n",
    "filtDWellPPScenarios['MaxPressure']=maxPressureList\n",
    "filtDWellPPScenarios=filtDWellPPScenarios.sort_values(by='MaxPressure',ascending=False)\n",
    "shallowWindowedWells=sWellPPScenarios[sWellPPScenarios['Pressures']>0.1]['ID'].unique()\n",
    "filtSWellPPScenarios=sWellPPScenarios[sWellPPScenarios['ID'].isin(shallowWindowedWells)]\n",
    "maxPressureList=[]\n",
    "for ID in shallowWindowedWells:\n",
    "  maxPressure=max(filtSWellPPScenarios[filtSWellPPScenarios['ID']==ID]['Pressures'])\n",
    "  nReal=filtSWellPPScenarios[filtSWellPPScenarios['ID']==ID].shape[0]\n",
    "  print(ID,maxPressure,nReal)\n",
    "  maxPressureList.extend([maxPressure,]*nReal)\n",
    "filtSWellPPScenarios['MaxPressure']=maxPressureList\n",
    "filtSWellPPScenarios=filtSWellPPScenarios.sort_values(by='MaxPressure',ascending=False)"
   ]
  },
  {
   "cell_type": "code",
   "execution_count": 0,
   "metadata": {
    "application/vnd.databricks.v1+cell": {
     "cellMetadata": {
      "byteLimit": 2048000,
      "rowLimit": 10000
     },
     "inputWidgets": {},
     "nuid": "7ede1eb0-81f7-466c-b0a4-d64874ba0cc5",
     "showTitle": false,
     "title": ""
    }
   },
   "outputs": [],
   "source": [
    "filtDWellPPScenarios=filtDWellPPScenarios.merge(deepPPWells,on='ID')\n",
    "filtSWellPPScenarios=filtSWellPPScenarios.merge(shallowPPWells,on='ID')\n",
    "print('deep ',filtDWellPPScenarios.shape[0],', shallow',filtSWellPPScenarios.shape[0])"
   ]
  },
  {
   "cell_type": "markdown",
   "metadata": {
    "application/vnd.databricks.v1+cell": {
     "cellMetadata": {},
     "inputWidgets": {},
     "nuid": "3895fbc4-d512-4688-b66a-56e1a5c17d7c",
     "showTitle": false,
     "title": ""
    }
   },
   "source": [
    "## Save Results"
   ]
  },
  {
   "cell_type": "code",
   "execution_count": 0,
   "metadata": {
    "application/vnd.databricks.v1+cell": {
     "cellMetadata": {
      "byteLimit": 2048000,
      "rowLimit": 10000
     },
     "inputWidgets": {},
     "nuid": "1d1ead17-e6a0-4d23-a130-9f09c1f2eb5a",
     "showTitle": false,
     "title": ""
    }
   },
   "outputs": [],
   "source": [
    "# Save results - visualize separately!\n",
    "baseOutPath='/Workspace/Users/bill.curry@exxonmobil.com/gist/Outputs/Stanton11-4-23_v2_'\n",
    "#dWellPPScenarios.to_csv(baseOutPath+'deepPP.csv')\n",
    "dWellPEScenarios.to_csv(baseOutPath+'deepPE.csv')\n",
    "#sWellPPScenarios.to_csv(baseOutPath+'shallowPP.csv')\n",
    "sWellPEScenarios.to_csv(baseOutPath+'shallowPE.csv')\n",
    "#np.save(baseOutPath+'deepPPTimeSeries0.csv',dPPTimeSeries['Realization'<100])\n",
    "#np.save(baseOutPath+'shallowPPTimeSeries.csv',sPPTimeSeries)"
   ]
  },
  {
   "cell_type": "markdown",
   "metadata": {
    "application/vnd.databricks.v1+cell": {
     "cellMetadata": {},
     "inputWidgets": {},
     "nuid": "6dc5898c-1214-4edf-a4c0-7497235a6cca",
     "showTitle": false,
     "title": ""
    }
   },
   "source": [
    "## Sanity check of initial results\n",
    "### Check injection on wells with non-negligable pressure contributions"
   ]
  },
  {
   "cell_type": "code",
   "execution_count": 0,
   "metadata": {
    "application/vnd.databricks.v1+cell": {
     "cellMetadata": {},
     "inputWidgets": {},
     "nuid": "2cc0a516-3378-4347-91b6-ace8f81a3833",
     "showTitle": false,
     "title": ""
    }
   },
   "outputs": [],
   "source": [
    "# Select injection histories of wells\n",
    "deepWindowedInjection=deepPPInj[deepPPInj['ID'].is_in(deepWindowedWells)]\n",
    "shallowWindowedInjection=shallowPPInj[shallowPPInj['ID'].is_in(shallowWindowedWells)]\n",
    "deepInjQC=deepWindowedInjection.merge(deepPPWells[['Name','Operator','APINumber','Latitude','Longitude']],on='ID',how='left')\n",
    "shallowInjQC=shallowWindowedInjection.merge(shallowPPWells[['Name','Operator','APINumber','Latitude','Longitude']],on='ID',how='left')"
   ]
  },
  {
   "cell_type": "code",
   "execution_count": 0,
   "metadata": {
    "application/vnd.databricks.v1+cell": {
     "cellMetadata": {},
     "inputWidgets": {},
     "nuid": "4cb13385-7873-444d-9ae7-c0308444e098",
     "showTitle": false,
     "title": ""
    }
   },
   "outputs": [],
   "source": [
    "# Make stack plots of recent injection - Deep\n",
    "injQC=deepInjQC\n",
    "injQC['Date']=pd.to_datetime(injQC.Date)\n",
    "# Generate x and y\n",
    "dates=injQC['Date'].drop_duplicates()\n",
    "# Loop over wells\n",
    "oDate=min(dates)\n",
    "eDate=max(dates)\n",
    "dateRange=pd.date_range(start=oDate,end=eDate, freq='10D')\n",
    "# Get x min, x max\n",
    "wellIDs=injQC['ID'].drop_duplicates()\n",
    "allWellBPDs=[]\n",
    "allWellLabels=[]\n",
    "for well in wellIDs:\n",
    "  wellDates=injQC[injQC['ID']==well]['Date']\n",
    "  wellBPDs=injQC[injQC['ID']==well]['BPD']\n",
    "  minWD=min(wellDates)\n",
    "  maxWD=max(wellDates)\n",
    "  nPrepend=sum(dateRange<minWD)\n",
    "  nAppend=sum(dateRange>maxWD)\n",
    "  #print('Well ',well,' ',minWD,maxWD,oDate,eDate,nPrepend,' prePad, ',nAppend,' postPad, ',len(dateRange))\n",
    "  #print('allWellBPDs: ',allWellBPDs)\n",
    "  if nPrepend>0:\n",
    "    prependZeroBPDs=pd.Series(np.zeros([nPrepend]))\n",
    "  else:\n",
    "    prependZeroBPDs=None\n",
    "  if nAppend>0:\n",
    "    appendZeroBPDs=pd.Series(np.zeros([nAppend,1]))\n",
    "  else:\n",
    "    appendZeroBPDs=None\n",
    "  padWellBPDs=pd.concat([prependZeroBPDs,wellBPDs,appendZeroBPDs])\n",
    "  allWellBPDs.append(padWellBPDs)\n",
    "  #allWellLabels.append(injQC['WellName'][injQC['ID']==well][0])\n",
    "  allWellLabels.append(injQC['WellName'][injQC['ID']==well].loc[0])\n",
    "# Now have allWellBPDs, allWellLabels, and dateRange all set\n",
    "# Generate Stacked area plot of injection\n",
    "# y needs to be defined for each well, and extended for the full time series\n",
    "col = sns.color_palette(\"hls\", len(wellIDs))\n",
    "#zoomDate=oneEQ['Origin Date'] - pd.DateOffset(years=2)\n",
    "ax.stackplot(dateRange,allWellBPDs, labels=allWellLabels,colors=col)\n",
    "ax.set_title('Selected well injection')\n",
    "ax.set_xlabel('Date')\n",
    "ax.set_ylabel('Rate (BPD)')\n",
    "#if startDate!=None or endDate!=None: axes.xlim(startDate,endDate)\n",
    "ax.legend(loc='upper left')\n",
    "plt.show()"
   ]
  },
  {
   "cell_type": "code",
   "execution_count": 0,
   "metadata": {
    "application/vnd.databricks.v1+cell": {
     "cellMetadata": {},
     "inputWidgets": {},
     "nuid": "1a8e1f66-9005-4b58-b118-1fb240bea23a",
     "showTitle": false,
     "title": ""
    }
   },
   "outputs": [],
   "source": [
    "# Repeat for Shallow"
   ]
  },
  {
   "cell_type": "code",
   "execution_count": 0,
   "metadata": {
    "application/vnd.databricks.v1+cell": {
     "cellMetadata": {},
     "inputWidgets": {},
     "nuid": "a1588954-f4b8-4105-a20e-f508ea3f2017",
     "showTitle": false,
     "title": ""
    }
   },
   "outputs": [],
   "source": [
    "# Plot Time Series of total pressures and injection histories\n"
   ]
  },
  {
   "cell_type": "code",
   "execution_count": 0,
   "metadata": {
    "application/vnd.databricks.v1+cell": {
     "cellMetadata": {},
     "inputWidgets": {},
     "nuid": "f84c0581-670d-449b-b8ef-e88afdd6a169",
     "showTitle": false,
     "title": ""
    }
   },
   "outputs": [],
   "source": []
  },
  {
   "cell_type": "code",
   "execution_count": 0,
   "metadata": {
    "application/vnd.databricks.v1+cell": {
     "cellMetadata": {},
     "inputWidgets": {},
     "nuid": "2ed08fbb-3e6d-4615-802b-9f39654a70d4",
     "showTitle": false,
     "title": ""
    }
   },
   "outputs": [],
   "source": [
    "\n",
    "print(deepWindowedWells)\n",
    "filtDWellPPScenarios=dWellPPScenarios[dWellPPScenarios['ID'].isin(deepWindowedWells)]\n",
    "filtDWellPEScenarios=dWellPEScenarios[dWellPEScenarios['ID'].isin(deepWindowedWells)]\n",
    "print(len(dWellPPScenarios),len(filtDWellPPScenarios),len(filtDWellPEScenarios))"
   ]
  },
  {
   "cell_type": "code",
   "execution_count": 0,
   "metadata": {
    "application/vnd.databricks.v1+cell": {
     "cellMetadata": {},
     "inputWidgets": {},
     "nuid": "3157d5a6-2e8f-4ee0-8a23-6ade3da75c87",
     "showTitle": false,
     "title": ""
    }
   },
   "outputs": [],
   "source": [
    "\n",
    "print(shallowWindowedWells)\n",
    "filtDWellPPScenarios=dWellPPScenarios[dWellPPScenarios['ID'].isin(deepWindowedWells)]\n",
    "filtDWellPEScenarios=dWellPEScenarios[dWellPEScenarios['ID'].isin(deepWindowedWells)]\n",
    "print(len(dWellPPScenarios),len(filtDWellPPScenarios),len(filtDWellPEScenarios))"
   ]
  },
  {
   "cell_type": "code",
   "execution_count": 0,
   "metadata": {
    "application/vnd.databricks.v1+cell": {
     "cellMetadata": {
      "byteLimit": 2048000,
      "rowLimit": 10000
     },
     "inputWidgets": {},
     "nuid": "290bcb76-46fb-4d60-ab94-9e618a90702e",
     "showTitle": false,
     "title": ""
    }
   },
   "outputs": [],
   "source": [
    "# Concatenate pore pressure and poroelastic results\n",
    "dWellPPScenarios['Physics']='Pore Pressure'\n",
    "dWellPEScenarios['Physics']='Poroelastic'\n",
    "dWellPPScenarios['Stresses']=dWellPPScenarios['Pressures']\n",
    "allDeep=pd.concat(objs=[dWellPPScenarios,dWellPEScenarios[dWellPEScenarios['ID'].isin(dWellPPScenarios['ID'])]])\n",
    "allDeep=allDeep.merge(deepPEWells,on='ID')\n",
    "\n"
   ]
  },
  {
   "cell_type": "code",
   "execution_count": 0,
   "metadata": {
    "application/vnd.databricks.v1+cell": {
     "cellMetadata": {
      "byteLimit": 2048000,
      "rowLimit": 10000
     },
     "inputWidgets": {},
     "nuid": "a7b5377e-2fc4-48f7-be47-0dbb7278d4fc",
     "showTitle": false,
     "title": ""
    }
   },
   "outputs": [],
   "source": [
    "deepWindowedWells=dWellPPScenarios[dWellPPScenarios['Pressures']>0.1]['ID'].unique()\n",
    "print(deepWindowedWells)\n",
    "filtDWellPPScenarios=dWellPPScenarios[dWellPPScenarios['ID'].isin(deepWindowedWells)]\n",
    "filtDWellPEScenarios=dWellPEScenarios[dWellPEScenarios['ID'].isin(deepWindowedWells)]\n",
    "print(len(dWellPPScenarios),len(filtDWellPPScenarios),len(filtDWellPEScenarios))"
   ]
  },
  {
   "cell_type": "code",
   "execution_count": 0,
   "metadata": {
    "application/vnd.databricks.v1+cell": {
     "cellMetadata": {
      "byteLimit": 2048000,
      "rowLimit": 10000
     },
     "inputWidgets": {},
     "nuid": "417996fa-ed83-4f11-9368-bb1a770866e8",
     "showTitle": false,
     "title": ""
    }
   },
   "outputs": [],
   "source": [
    "maxPressureList=[]\n",
    "for ID in deepWindowedWells:\n",
    "  maxPressure=filtDWellPPScenarios[filtDWellPPScenarios['ID']==ID]['Pressures']\n",
    "  maxPressureList.append\n",
    "dWellPPScenarios['MaxPressure']=dWellPPScenarios['ID'].map(maxPressureDict)\n",
    "dWellPPScenarios=dWellPPScenarios.sort_values(by='MaxPressure',ascending=False)"
   ]
  },
  {
   "cell_type": "code",
   "execution_count": 0,
   "metadata": {
    "application/vnd.databricks.v1+cell": {
     "cellMetadata": {},
     "inputWidgets": {},
     "nuid": "be6f6db8-3b75-4c34-a215-8fa5ab199639",
     "showTitle": false,
     "title": ""
    }
   },
   "outputs": [],
   "source": []
  },
  {
   "cell_type": "code",
   "execution_count": 0,
   "metadata": {
    "application/vnd.databricks.v1+cell": {
     "cellMetadata": {
      "byteLimit": 2048000,
      "rowLimit": 10000
     },
     "inputWidgets": {},
     "nuid": "d0c95135-c38b-4c64-924c-7fb8e8bf73fc",
     "showTitle": false,
     "title": ""
    }
   },
   "outputs": [],
   "source": [
    "# Select wells that only have greater than a 0.1 psi stress increase\n",
    "deepWindowedWells=allDeep[allDeep['Stresses']>0.1]['ID'].unique()\n",
    "allDeepWindowed=allDeep[allDeep['ID'].isin(deepWindowedWells)]\n",
    "# Get maximum pressure or stress for each well, sort by that\n",
    "maxList=[]\n",
    "for ID in deepWindowedWells:\n",
    "  # get maximum row\n",
    "  maxRow=allDeepWindowed[allDeepWindowed['ID']==ID]['Stresses'].idxmax()\n",
    "  maxList.append([allDeepWindowed.iloc[maxRow]['ID'],allDeepWindowed.iloc[maxRow]['Stresses']])\n",
    "wellOrdered=pd.DataFrame(maxList,columns=['ID','Stresses']).sort_values(by='Stresses')\n",
    "IDOrder=wellOrdered['ID'].to_list()\n",
    "sortedDeepWindowed=allDeepWindowed.sort_values(by=\"ID\", key=lambda column: column.map(lambda e: IDOrder.index(e)), inplace=True)"
   ]
  },
  {
   "cell_type": "code",
   "execution_count": 0,
   "metadata": {
    "application/vnd.databricks.v1+cell": {
     "cellMetadata": {
      "byteLimit": 2048000,
      "rowLimit": 10000
     },
     "inputWidgets": {},
     "nuid": "caa5d933-7227-42f8-b2dd-6cc43cc8cebb",
     "showTitle": false,
     "title": ""
    }
   },
   "outputs": [],
   "source": [
    "fig,axes=plt.subplots(1,1, sharex=True, figsize=(30,200))\n",
    "# Relative contributions\n",
    "sns.stripplot(data=allDeep,x='Stresses',y='WellName',hue='Physics',dodge=True,jitter=True,alpha=0.1,ax=axes)\n",
    "axes.set_title('Deep Well Stresses')\n",
    "axes.set_xlabel('Stress (PSI)')"
   ]
  },
  {
   "cell_type": "code",
   "execution_count": 0,
   "metadata": {
    "application/vnd.databricks.v1+cell": {
     "cellMetadata": {},
     "inputWidgets": {},
     "nuid": "24b55abe-8e01-4ea8-b0fd-2d7998ce5ce9",
     "showTitle": false,
     "title": ""
    }
   },
   "outputs": [],
   "source": [
    "# Concatenate pore pressure and poroelastic results\n",
    "sWellPPScenarios['Physics']='Pore Pressure'\n",
    "sWellPEScenarios['Physics']='Poroelastic'\n",
    "sWellPPScenarios['Stresses']=sWellPPScenarios['Pressures']\n",
    "allShallow=pd.concat(objs=[sWellPPScenarios,sWellPEScenarios[sWellPEScenarios['ID'].isin(sWellPPScenarios['ID'])]])\n",
    "allShallow=allShallow.merge(shallowPEWells,on='ID')\n"
   ]
  },
  {
   "cell_type": "code",
   "execution_count": 0,
   "metadata": {
    "application/vnd.databricks.v1+cell": {
     "cellMetadata": {},
     "inputWidgets": {},
     "nuid": "12cdfd42-6e25-43b5-bd81-9f7c0ba50c25",
     "showTitle": false,
     "title": ""
    }
   },
   "outputs": [],
   "source": [
    "fig,axes=plt.subplots(1,1, sharex=True, figsize=(30,10))\n",
    "# Relative contributions\n",
    "sns.stripplot(data=allShallow,x='Stresses',y='WellName',hue='Physics',dodge=True,jitter=True,alpha=0.1,ax=axes)\n",
    "axes.set_title('Shallow Well Stresses')\n",
    "axes.set_xlabel('Stress (PSI)')"
   ]
  },
  {
   "cell_type": "code",
   "execution_count": 0,
   "metadata": {
    "application/vnd.databricks.v1+cell": {
     "cellMetadata": {
      "byteLimit": 2048000,
      "rowLimit": 10000
     },
     "inputWidgets": {},
     "nuid": "f02ffe11-2bfc-4d54-9e4d-f556e86908b4",
     "showTitle": false,
     "title": ""
    }
   },
   "outputs": [],
   "source": [
    "# Plot results\n",
    "fig,axes=plt.subplots(3,1, sharex=True, figsize=(60,20))\n",
    "gp.disaggregationPlot(axes[0],dWellPPScenarios,dWellPEScenarios,deepPEWells,'Deep')\n",
    "gp.disaggregationPlot(axes[1],sWellPPScenarios,sWellPEScenarios,shallowPEWells,'Shallow')\n",
    "# Concatenate pore pressure and poroelastic results\n"
   ]
  },
  {
   "cell_type": "code",
   "execution_count": 0,
   "metadata": {
    "application/vnd.databricks.v1+cell": {
     "cellMetadata": {},
     "inputWidgets": {},
     "nuid": "7a7c39da-5930-4778-9bbc-358bbad99387",
     "showTitle": false,
     "title": ""
    }
   },
   "outputs": [],
   "source": [
    "# \n",
    "\n",
    "dayDVec=np.linspace(deepM.injOT, deepM.injOT+deepM.injDT*(deepM.injNT-1.),deepM.injNT)\n",
    "dPPTimeSeriesSum=np.sum(dPPTimeSeries,axis=1)\n",
    "realization=np.linspace(0,499,500)\n",
    "nwC=deepPPWells.shape[0]\n",
    "dTPPDF=pd.DataFrame(columns=['Days','Realization','TotalPressure'])\n",
    "dPPDF=pd.DataFrame(columns=['Days','Realization','ID','Pressure','TotalPressure'])\n",
    "dTPPDF['Days']=np.tile(dayDVec,deepM.nReal)\n",
    "dTPPDF['TotalPressure']=np.reshape(dPPTimeSeriesSum[:,:],deepM.injNT*deepM.nReal,order='F')\n",
    "dTPPDF['Realization']=np.tile(realization,deepM.injNT)\n",
    "dTPPDF=gi.getDates(dTPPDF,deepM.epoch)"
   ]
  },
  {
   "cell_type": "code",
   "execution_count": 0,
   "metadata": {
    "application/vnd.databricks.v1+cell": {
     "cellMetadata": {},
     "inputWidgets": {},
     "nuid": "7ca48eee-1c34-421f-9a70-270d051f33f6",
     "showTitle": false,
     "title": ""
    }
   },
   "outputs": [],
   "source": [
    "fig,axes=plt.subplots(2,1, sharex=True, figsize=(40,15))\n",
    "\n",
    "sns.lineplot(ax=axes[0],x='Date',y='TotalPressure',hue='Realization',data=dTPPDF)\n",
    "sns.scatterplot(data=filtEQs,ax=axes[0],x='Date',y='Magnitude',s=300,marker='*')\n",
    "axes[0].set_title('Deep Pressure Histories')\n",
    "axes[0].set_xlabel('Date')\n",
    "axes[0].set_ylabel('Pressure (PSI)')\n",
    "sns.lineplot(ax=axes[1],x='Date',y='TotalPressure',hue='Realization',data=sTPPDF)\n",
    "sns.scatterplot(data=filtEQs,ax=axes[1],x='Date',y='Magnitude',s=300,marker='*')\n",
    "plt.show()"
   ]
  },
  {
   "cell_type": "code",
   "execution_count": 0,
   "metadata": {
    "application/vnd.databricks.v1+cell": {
     "cellMetadata": {},
     "inputWidgets": {},
     "nuid": "f04371b7-ff00-4eaf-a3eb-b8239b52ce11",
     "showTitle": false,
     "title": ""
    }
   },
   "outputs": [],
   "source": []
  }
 ],
 "metadata": {
  "application/vnd.databricks.v1+notebook": {
   "dashboards": [],
   "language": "python",
   "notebookMetadata": {
    "pythonIndentUnit": 2
   },
   "notebookName": "GIST_Stanton_11-4-23_Compute",
   "widgets": {}
  }
 },
 "nbformat": 4,
 "nbformat_minor": 0
}
