{
 "cells": [
  {
   "cell_type": "markdown",
   "metadata": {
    "application/vnd.databricks.v1+cell": {
     "cellMetadata": {
      "byteLimit": 2048000,
      "rowLimit": 10000
     },
     "inputWidgets": {},
     "nuid": "c1abdb59-6473-4a9e-89dc-f7bf61a76f4b",
     "showTitle": false,
     "tableResultSettingsMap": {},
     "title": ""
    }
   },
   "source": [
    "# Geomechanical Injection Scenario Toolkit (GIST)\n",
    "\n",
    "#Disclaimer\n",
    "GIST aims to give the _gist_ of a wide range of potential scenarios and aid collective decision making when responding to seismicity.\n",
    "\n",
    "The results of GIST are entirely dependent upon the inputs provided, which may be incomplete or inaccurate.\n",
    "\n",
    "There are other potentially plausible inducement scenarios that are not considered, including fluid migration into the basement, \n",
    "out-of-zone poroelastic stressing, or hydraulic fracturing.\n",
    "\n",
    "None of the individual models produced by GIST accurately represent what happens in the subsurface and cannot be credibly used \n",
    "to accurately assign liability or responsibility for seismicity.\n",
    "\n",
    "\"All models are wrong, but some are useful\" - George Box, 1976\n",
    "\n",
    "## Prerequisites\n",
    "\n",
    "Assumes InjectionSQLScheduled completed successfully and injection data are sampled uniformly in time"
   ]
  },
  {
   "cell_type": "markdown",
   "metadata": {
    "application/vnd.databricks.v1+cell": {
     "cellMetadata": {
      "byteLimit": 2048000,
      "rowLimit": 10000
     },
     "inputWidgets": {},
     "nuid": "b264040f-fa15-4a0b-b6a8-a6260d9ab053",
     "showTitle": false,
     "tableResultSettingsMap": {},
     "title": ""
    }
   },
   "source": [
    "##Install Dependencies\n",
    "- geopandas\n",
    "- gistMC.py\n",
    "- eqSQL.py\n",
    "- gistPlots.py\n",
    "- numpy\n",
    "- scipy\n",
    "- pandas\n"
   ]
  },
  {
   "cell_type": "code",
   "execution_count": 0,
   "metadata": {
    "application/vnd.databricks.v1+cell": {
     "cellMetadata": {
      "byteLimit": 2048000,
      "rowLimit": 10000
     },
     "inputWidgets": {},
     "nuid": "e00f4128-0373-462e-b4e5-0c722b222f74",
     "showTitle": true,
     "tableResultSettingsMap": {},
     "title": "Restart python"
    }
   },
   "outputs": [],
   "source": [
    "%restart_python"
   ]
  },
  {
   "cell_type": "code",
   "execution_count": 0,
   "metadata": {
    "application/vnd.databricks.v1+cell": {
     "cellMetadata": {
      "byteLimit": 2048000,
      "rowLimit": 10000
     },
     "collapsed": true,
     "inputWidgets": {},
     "nuid": "fb80407f-4a02-4284-9638-a9c24281d177",
     "showTitle": true,
     "tableResultSettingsMap": {},
     "title": "Databricks functions"
    }
   },
   "outputs": [],
   "source": [
    "%run \"/Workspace/_utils/Utility_Functions\""
   ]
  },
  {
   "cell_type": "code",
   "execution_count": 0,
   "metadata": {
    "application/vnd.databricks.v1+cell": {
     "cellMetadata": {
      "byteLimit": 2048000,
      "rowLimit": 10000
     },
     "inputWidgets": {},
     "nuid": "0e21e4dd-c64f-459b-9241-0cb74bf49524",
     "showTitle": true,
     "tableResultSettingsMap": {},
     "title": "PIP installs"
    }
   },
   "outputs": [
    {
     "output_type": "stream",
     "name": "stdout",
     "output_type": "stream",
     "text": [
      "Collecting geopandas\n  Downloading geopandas-1.0.1-py3-none-any.whl (323 kB)\n     ━━━━━━━━━━━━━━━━━━━━━━━━━━━━━━━━━━━━━━━ 323.6/323.6 kB 5.0 MB/s eta 0:00:00\nCollecting pyogrio>=0.7.2\n  Downloading pyogrio-0.10.0-cp310-cp310-manylinux_2_28_x86_64.whl (23.9 MB)\n     ━━━━━━━━━━━━━━━━━━━━━━━━━━━━━━━━━━━━━━━━ 23.9/23.9 MB 64.3 MB/s eta 0:00:00\nRequirement already satisfied: pandas>=1.4.0 in /databricks/python3/lib/python3.10/site-packages (from geopandas) (1.5.3)\nCollecting shapely>=2.0.0\n  Downloading shapely-2.0.7-cp310-cp310-manylinux_2_17_x86_64.manylinux2014_x86_64.whl (2.5 MB)\n     ━━━━━━━━━━━━━━━━━━━━━━━━━━━━━━━━━━━━━━━━ 2.5/2.5 MB 88.2 MB/s eta 0:00:00\nCollecting pyproj>=3.3.0\n  Downloading pyproj-3.7.0-cp310-cp310-manylinux_2_17_x86_64.manylinux2014_x86_64.whl (9.2 MB)\n     ━━━━━━━━━━━━━━━━━━━━━━━━━━━━━━━━━━━━━━━━ 9.2/9.2 MB 98.3 MB/s eta 0:00:00\nRequirement already satisfied: numpy>=1.22 in /databricks/python3/lib/python3.10/site-packages (from geopandas) (1.23.5)\nRequirement already satisfied: packaging in /databricks/python3/lib/python3.10/site-packages (from geopandas) (23.2)\nRequirement already satisfied: pytz>=2020.1 in /databricks/python3/lib/python3.10/site-packages (from pandas>=1.4.0->geopandas) (2022.7)\nRequirement already satisfied: python-dateutil>=2.8.1 in /databricks/python3/lib/python3.10/site-packages (from pandas>=1.4.0->geopandas) (2.8.2)\nRequirement already satisfied: certifi in /databricks/python3/lib/python3.10/site-packages (from pyogrio>=0.7.2->geopandas) (2022.12.7)\nRequirement already satisfied: six>=1.5 in /usr/lib/python3/dist-packages (from python-dateutil>=2.8.1->pandas>=1.4.0->geopandas) (1.16.0)\nInstalling collected packages: shapely, pyproj, pyogrio, geopandas\nSuccessfully installed geopandas-1.0.1 pyogrio-0.10.0 pyproj-3.7.0 shapely-2.0.7\n\u001B[43mNote: you may need to restart the kernel using %restart_python or dbutils.library.restartPython() to use updated packages.\u001B[0m\nCollecting geodatasets\n  Downloading geodatasets-2024.8.0-py3-none-any.whl (20 kB)\nCollecting pooch\n  Downloading pooch-1.8.2-py3-none-any.whl (64 kB)\n     ━━━━━━━━━━━━━━━━━━━━━━━━━━━━━━━━━━━━━━━━ 64.6/64.6 kB 4.1 MB/s eta 0:00:00\nRequirement already satisfied: requests>=2.19.0 in /databricks/python3/lib/python3.10/site-packages (from pooch->geodatasets) (2.28.1)\nRequirement already satisfied: packaging>=20.0 in /databricks/python3/lib/python3.10/site-packages (from pooch->geodatasets) (23.2)\nRequirement already satisfied: platformdirs>=2.5.0 in /databricks/python3/lib/python3.10/site-packages (from pooch->geodatasets) (2.5.2)\nRequirement already satisfied: charset-normalizer<3,>=2 in /databricks/python3/lib/python3.10/site-packages (from requests>=2.19.0->pooch->geodatasets) (2.0.4)\nRequirement already satisfied: certifi>=2017.4.17 in /databricks/python3/lib/python3.10/site-packages (from requests>=2.19.0->pooch->geodatasets) (2022.12.7)\nRequirement already satisfied: urllib3<1.27,>=1.21.1 in /databricks/python3/lib/python3.10/site-packages (from requests>=2.19.0->pooch->geodatasets) (1.26.14)\nRequirement already satisfied: idna<4,>=2.5 in /databricks/python3/lib/python3.10/site-packages (from requests>=2.19.0->pooch->geodatasets) (3.4)\nInstalling collected packages: pooch, geodatasets\nSuccessfully installed geodatasets-2024.8.0 pooch-1.8.2\n\u001B[43mNote: you may need to restart the kernel using %restart_python or dbutils.library.restartPython() to use updated packages.\u001B[0m\nCollecting contextily\n  Downloading contextily-1.6.2-py3-none-any.whl (17 kB)\nRequirement already satisfied: requests in /databricks/python3/lib/python3.10/site-packages (from contextily) (2.28.1)\nCollecting geopy\n  Downloading geopy-2.4.1-py3-none-any.whl (125 kB)\n     ━━━━━━━━━━━━━━━━━━━━━━━━━━━━━━━━━━━━━━━ 125.4/125.4 kB 8.5 MB/s eta 0:00:00\nRequirement already satisfied: joblib in /databricks/python3/lib/python3.10/site-packages (from contextily) (1.2.0)\nCollecting xyzservices\n  Downloading xyzservices-2025.1.0-py3-none-any.whl (88 kB)\n     ━━━━━━━━━━━━━━━━━━━━━━━━━━━━━━━━━━━━━━━━ 88.4/88.4 kB 19.7 MB/s eta 0:00:00\nRequirement already satisfied: matplotlib in /databricks/python3/lib/python3.10/site-packages (from contextily) (3.7.0)\nCollecting rasterio\n  Downloading rasterio-1.4.3-cp310-cp310-manylinux_2_17_x86_64.manylinux2014_x86_64.whl (22.2 MB)\n     ━━━━━━━━━━━━━━━━━━━━━━━━━━━━━━━━━━━━━━━━ 22.2/22.2 MB 52.9 MB/s eta 0:00:00\nCollecting mercantile\n  Downloading mercantile-1.2.1-py3-none-any.whl (14 kB)\nRequirement already satisfied: pillow in /databricks/python3/lib/python3.10/site-packages (from contextily) (9.4.0)\nCollecting geographiclib<3,>=1.52\n  Downloading geographiclib-2.0-py3-none-any.whl (40 kB)\n     ━━━━━━━━━━━━━━━━━━━━━━━━━━━━━━━━━━━━━━━━ 40.3/40.3 kB 12.5 MB/s eta 0:00:00\nRequirement already satisfied: contourpy>=1.0.1 in /databricks/python3/lib/python3.10/site-packages (from matplotlib->contextily) (1.0.5)\nRequirement already satisfied: cycler>=0.10 in /databricks/python3/lib/python3.10/site-packages (from matplotlib->contextily) (0.11.0)\nRequirement already satisfied: python-dateutil>=2.7 in /databricks/python3/lib/python3.10/site-packages (from matplotlib->contextily) (2.8.2)\nRequirement already satisfied: kiwisolver>=1.0.1 in /databricks/python3/lib/python3.10/site-packages (from matplotlib->contextily) (1.4.4)\nRequirement already satisfied: pyparsing>=2.3.1 in /databricks/python3/lib/python3.10/site-packages (from matplotlib->contextily) (3.0.9)\nRequirement already satisfied: packaging>=20.0 in /databricks/python3/lib/python3.10/site-packages (from matplotlib->contextily) (23.2)\nRequirement already satisfied: fonttools>=4.22.0 in /databricks/python3/lib/python3.10/site-packages (from matplotlib->contextily) (4.25.0)\nRequirement already satisfied: numpy>=1.20 in /databricks/python3/lib/python3.10/site-packages (from matplotlib->contextily) (1.23.5)\nRequirement already satisfied: click>=3.0 in /databricks/python3/lib/python3.10/site-packages (from mercantile->contextily) (8.0.4)\nRequirement already satisfied: certifi in /databricks/python3/lib/python3.10/site-packages (from rasterio->contextily) (2022.12.7)\nCollecting numpy>=1.20\n  Downloading numpy-2.2.2-cp310-cp310-manylinux_2_17_x86_64.manylinux2014_x86_64.whl (16.4 MB)\n     ━━━━━━━━━━━━━━━━━━━━━━━━━━━━━━━━━━━━━━━━ 16.4/16.4 MB 52.9 MB/s eta 0:00:00\nRequirement already satisfied: attrs in /databricks/python3/lib/python3.10/site-packages (from rasterio->contextily) (22.1.0)\nCollecting click-plugins\n  Downloading click_plugins-1.1.1-py2.py3-none-any.whl (7.5 kB)\nCollecting cligj>=0.5\n  Downloading cligj-0.7.2-py3-none-any.whl (7.1 kB)\nCollecting affine\n  Downloading affine-2.4.0-py3-none-any.whl (15 kB)\nRequirement already satisfied: urllib3<1.27,>=1.21.1 in /databricks/python3/lib/python3.10/site-packages (from requests->contextily) (1.26.14)\nRequirement already satisfied: charset-normalizer<3,>=2 in /databricks/python3/lib/python3.10/site-packages (from requests->contextily) (2.0.4)\nRequirement already satisfied: idna<4,>=2.5 in /databricks/python3/lib/python3.10/site-packages (from requests->contextily) (3.4)\nRequirement already satisfied: six>=1.5 in /usr/lib/python3/dist-packages (from python-dateutil>=2.7->matplotlib->contextily) (1.16.0)\nInstalling collected packages: xyzservices, numpy, mercantile, geographiclib, cligj, click-plugins, affine, rasterio, geopy, contextily\n  Attempting uninstall: numpy\n    Found existing installation: numpy 1.23.5\n    Not uninstalling numpy at /databricks/python3/lib/python3.10/site-packages, outside environment /local_disk0/.ephemeral_nfs/envs/pythonEnv-a2aca50d-ddce-4b32-8484-22a001c8719c\n    Can't uninstall 'numpy'. No files were found to uninstall.\nERROR: pip's dependency resolver does not currently take into account all the packages that are installed. This behaviour is the source of the following dependency conflicts.\nscipy 1.10.0 requires numpy<1.27.0,>=1.19.5, but you have numpy 2.2.2 which is incompatible.\ndatabricks-connect 14.3.4 requires numpy<2,>=1.15, but you have numpy 2.2.2 which is incompatible.\nSuccessfully installed affine-2.4.0 click-plugins-1.1.1 cligj-0.7.2 contextily-1.6.2 geographiclib-2.0 geopy-2.4.1 mercantile-1.2.1 numpy-2.2.2 rasterio-1.4.3 xyzservices-2025.1.0\n\u001B[43mNote: you may need to restart the kernel using %restart_python or dbutils.library.restartPython() to use updated packages.\u001B[0m\n"
     ]
    }
   ],
   "source": [
    "!pip install geopandas\n",
    "!pip install geodatasets\n",
    "!pip install contextily\n",
    "#! pip install folium matplotlib mapclassify contextily"
   ]
  },
  {
   "cell_type": "markdown",
   "metadata": {
    "application/vnd.databricks.v1+cell": {
     "cellMetadata": {
      "byteLimit": 2048000,
      "rowLimit": 10000
     },
     "inputWidgets": {},
     "nuid": "c93df717-a2d5-4e18-b1cb-7d39ffcb99b2",
     "showTitle": false,
     "tableResultSettingsMap": {},
     "title": ""
    }
   },
   "source": [
    "##Paths"
   ]
  },
  {
   "cell_type": "code",
   "execution_count": 0,
   "metadata": {
    "application/vnd.databricks.v1+cell": {
     "cellMetadata": {
      "byteLimit": 2048000,
      "rowLimit": 10000
     },
     "inputWidgets": {},
     "nuid": "145f505a-6639-4124-b6bd-aa4e6c9b5c47",
     "showTitle": true,
     "tableResultSettingsMap": {},
     "title": "GIST libraries and injection data"
    }
   },
   "outputs": [],
   "source": [
    "# Paths\n",
    "homePath='/Workspace/Users/bill.curry@exxonmobil.com/'\n",
    "# Injection data path \n",
    "injPath=homePath+'injection/WeeklyRun/ScheduledOutput/'\n",
    "# GIST library path\n",
    "gistPath=homePath+'GIST/'"
   ]
  },
  {
   "cell_type": "markdown",
   "metadata": {
    "application/vnd.databricks.v1+cell": {
     "cellMetadata": {
      "byteLimit": 2048000,
      "rowLimit": 10000
     },
     "inputWidgets": {},
     "nuid": "fe561de9-c0de-474b-af1b-e457ac846dbe",
     "showTitle": false,
     "tableResultSettingsMap": {},
     "title": ""
    }
   },
   "source": [
    "##Libraries\n",
    "\n",
    "- numpy\n",
    "- scipy\n",
    "- pandas\n",
    "- matplotlib\n",
    "- geopandas\n",
    "- pyspark\n"
   ]
  },
  {
   "cell_type": "code",
   "execution_count": 0,
   "metadata": {
    "application/vnd.databricks.v1+cell": {
     "cellMetadata": {
      "byteLimit": 2048000,
      "rowLimit": 10000
     },
     "inputWidgets": {},
     "nuid": "10119ade-2798-4028-9462-d20dc15fb1d7",
     "showTitle": true,
     "tableResultSettingsMap": {},
     "title": "add path"
    }
   },
   "outputs": [],
   "source": [
    "import sys\n",
    "sys.path.append(gistPath+'lib')"
   ]
  },
  {
   "cell_type": "code",
   "execution_count": 0,
   "metadata": {
    "application/vnd.databricks.v1+cell": {
     "cellMetadata": {
      "byteLimit": 2048000,
      "rowLimit": 10000
     },
     "inputWidgets": {},
     "nuid": "2e230114-d00d-4065-9b06-9bc65deb51a6",
     "showTitle": true,
     "tableResultSettingsMap": {},
     "title": "pyspark"
    }
   },
   "outputs": [],
   "source": [
    "#Databricks-specific\n",
    "#import dataBricksConfig as db\n",
    "from pyspark.sql import SparkSession\n",
    "spark = SparkSession.builder.appName(\"eqSQL\").getOrCreate()"
   ]
  },
  {
   "cell_type": "code",
   "execution_count": 0,
   "metadata": {
    "application/vnd.databricks.v1+cell": {
     "cellMetadata": {
      "byteLimit": 2048000,
      "rowLimit": 10000
     },
     "inputWidgets": {},
     "nuid": "732391bb-8d33-4ac8-a2d7-4a7efc617715",
     "showTitle": true,
     "tableResultSettingsMap": {},
     "title": "imports"
    }
   },
   "outputs": [
    {
     "output_type": "display_data",
     "data": {
      "application/vnd.databricks.v1+h3_hint": "",
      "text/plain": []
     },
     "metadata": {},
     "output_type": "display_data"
    }
   ],
   "source": [
    "import numpy as np\n",
    "import pandas as pd\n",
    "import os\n",
    "import gistMC as gi\n",
    "import eqSQL as es\n",
    "import matplotlib.pyplot as plt\n",
    "import seaborn as sns\n",
    "import geopandas\n",
    "#import contextily as cx"
   ]
  },
  {
   "cell_type": "code",
   "execution_count": 0,
   "metadata": {
    "application/vnd.databricks.v1+cell": {
     "cellMetadata": {
      "byteLimit": 2048000,
      "rowLimit": 10000
     },
     "inputWidgets": {},
     "nuid": "f363a4c7-dd42-4e22-a888-cbf75b53ad45",
     "showTitle": false,
     "tableResultSettingsMap": {},
     "title": ""
    }
   },
   "outputs": [],
   "source": [
    "import gistPlots as gp"
   ]
  },
  {
   "cell_type": "markdown",
   "metadata": {
    "application/vnd.databricks.v1+cell": {
     "cellMetadata": {
      "byteLimit": 2048000,
      "rowLimit": 10000
     },
     "inputWidgets": {},
     "nuid": "83eacea1-ee6c-412e-86e8-eb0062d6a40c",
     "showTitle": false,
     "tableResultSettingsMap": {},
     "title": ""
    }
   },
   "source": [
    "#Restore state from Step 4"
   ]
  },
  {
   "cell_type": "code",
   "execution_count": 0,
   "metadata": {
    "application/vnd.databricks.v1+cell": {
     "cellMetadata": {
      "byteLimit": 2048000,
      "rowLimit": 10000
     },
     "inputWidgets": {},
     "nuid": "b2fd7dd0-a6cf-4cb3-8193-de57ea129bf0",
     "showTitle": true,
     "tableResultSettingsMap": {},
     "title": "Event, Depth, and Paths"
    }
   },
   "outputs": [],
   "source": [
    "eventID='texnet2024oqfb'\n",
    "deepOrShallow='Deep'\n",
    "verb=0\n",
    "forecastYears=5.\n",
    "runPath=gistPath+'/runs/'+eventID+'/'\n",
    "runIntervalPath=runPath+deepOrShallow+'/'\n",
    "initialRunIntervalPath=runIntervalPath+'initialRun/'\n",
    "updatedRunIntervalPath=runIntervalPath+'udpatedRun/'\n",
    "forecastRunIntervalPath=runIntervalPath+'forecastRun/'\n",
    "disposalPath=runIntervalPath+'updatedDisposal/'"
   ]
  },
  {
   "cell_type": "code",
   "execution_count": 0,
   "metadata": {
    "application/vnd.databricks.v1+cell": {
     "cellMetadata": {
      "byteLimit": 2048000,
      "rowLimit": 10000
     },
     "inputWidgets": {},
     "nuid": "29556f3e-cfbc-4eb2-aac0-ffdd3b050893",
     "showTitle": true,
     "tableResultSettingsMap": {},
     "title": "Load GIST and EQ"
    }
   },
   "outputs": [],
   "source": [
    "import pickle\n",
    "with open(updatedRunIntervalPath+'gist.pkl', 'rb') as file:\n",
    "  gist2=pickle.load(file)\n",
    "EQ=pd.read_csv(runPath+'EQ.csv').loc[0]\n",
    "EQ['Origin Date']=pd.to_datetime(EQ['Origin Date'])"
   ]
  },
  {
   "cell_type": "code",
   "execution_count": 0,
   "metadata": {
    "application/vnd.databricks.v1+cell": {
     "cellMetadata": {
      "byteLimit": 2048000,
      "rowLimit": 10000
     },
     "inputWidgets": {},
     "nuid": "9e0d510c-08bb-498b-ad3e-ccc86aaf503a",
     "showTitle": true,
     "tableResultSettingsMap": {},
     "title": "Point to disposal data with future wells included from Step 3"
    }
   },
   "outputs": [],
   "source": [
    "#selectedWellsDF=pd.read_csv(disposalPath+'forecastSelectedWells.csv')\n",
    "#ignoredWellsDF=pd.read_csv(disposalPath+'forecastIgnoredWells.csv')\n",
    "allWellsFile=disposalPath+'allInZoneWells.csv'\n",
    "injFile=disposalPath+'inj.csv'\n",
    "allInZoneWellsDF=pd.read_csv(disposalPath+'allInZoneWells.csv')\n",
    "#allOutOfZoneWellsDF=pd.read_csv(runIntervalPath+'updatedDisposal/allOutOfZoneWells.csv')\n",
    "#injDF=pd.read_csv(disposalPath+'inj.csv')"
   ]
  },
  {
   "cell_type": "markdown",
   "metadata": {
    "application/vnd.databricks.v1+cell": {
     "cellMetadata": {
      "byteLimit": 2048000,
      "rowLimit": 10000
     },
     "inputWidgets": {},
     "nuid": "e63abde2-7d3f-4c01-ade5-de5c31ba1d7f",
     "showTitle": false,
     "tableResultSettingsMap": {},
     "title": ""
    }
   },
   "source": [
    "#5. Forecast"
   ]
  },
  {
   "cell_type": "markdown",
   "metadata": {
    "application/vnd.databricks.v1+cell": {
     "cellMetadata": {
      "byteLimit": 2048000,
      "rowLimit": 10000
     },
     "inputWidgets": {},
     "nuid": "7af6568e-1e85-44aa-b2b6-00b16c5f31bd",
     "showTitle": false,
     "tableResultSettingsMap": {},
     "title": ""
    }
   },
   "source": [
    "##5.1 Input Forecast Times"
   ]
  },
  {
   "cell_type": "code",
   "execution_count": 0,
   "metadata": {
    "application/vnd.databricks.v1+cell": {
     "cellMetadata": {
      "byteLimit": 2048000,
      "rowLimit": 10000
     },
     "inputWidgets": {},
     "nuid": "1e033dd1-f2f9-4d00-928d-17579ba08ba5",
     "showTitle": true,
     "tableResultSettingsMap": {},
     "title": "Forecast Time"
    }
   },
   "outputs": [],
   "source": [
    "# End Year of time series forecast\n",
    "EndYear=2030\n",
    "# Rerun select wells with an updated earthquake time set to the last day of EndYear\n",
    "future=EQ.copy()\n",
    "future['Origin Date']=future['Origin Date']+pd.Timedelta(forecastYears*365.25,'D')\n",
    "future.to_frame().T.to_csv(forecastRunIntervalPath+'/forecastEQT.csv')\n",
    "future.to_frame().to_csv(forecastRunIntervalPath+'/forecastEQ.csv')\n"
   ]
  },
  {
   "cell_type": "markdown",
   "metadata": {
    "application/vnd.databricks.v1+cell": {
     "cellMetadata": {
      "byteLimit": 2048000,
      "rowLimit": 10000
     },
     "inputWidgets": {},
     "nuid": "4e27714c-dfe3-4c70-94d2-0010cf48ca45",
     "showTitle": false,
     "tableResultSettingsMap": {},
     "title": ""
    }
   },
   "source": [
    "##5.2 Distributions of rates for each well"
   ]
  },
  {
   "cell_type": "code",
   "execution_count": 0,
   "metadata": {
    "application/vnd.databricks.v1+cell": {
     "cellMetadata": {
      "byteLimit": 2048000,
      "rowLimit": 10000
     },
     "inputWidgets": {},
     "nuid": "3349b59c-e398-4ff9-ba1b-d70c63431f00",
     "showTitle": true,
     "tableResultSettingsMap": {},
     "title": "Reinitialize GIST with both updated disposal data and disposal from added wells"
    }
   },
   "outputs": [
    {
     "output_type": "stream",
     "name": "stdout",
     "output_type": "stream",
     "text": [
      " gistMC.addWells: user wells and injection provided, no default wells/injection\n gistMC.addWells: no user wells and injection provided, only default wells/injection\n gistMC.addWells: well file added with  2863  wells\n gistMC.addWells: well columns: Index(['Unnamed: 0', 'ID', 'InjectionWellId', 'UniqueWellIdentifier',\n       'UICNumber', 'APINumber', 'LeaseName', 'Operator', 'OperatorType',\n       'OperatorPrincipalCompany', 'OperatorPrincipalCompanyType', 'WellName',\n       'WellNumber', 'State', 'Basin', 'County', 'District', 'SRAOrSIR',\n       'B3InjectionType', 'B3InjectionStatus', 'RegulatoryInjectionType',\n       'PermittedMaxLiquidBPD', 'PermittedMaxLiquidPSIG',\n       'PermittedMaxGasMCFPerDay', 'PermittedMaxGasPSIG',\n       'PermittedCommercialStatus', 'PermittedIntervalTopFt',\n       'PermittedIntervalBottomFt', 'InjectionClass', 'PermitStage',\n       'PermittedWellDepthClassification', 'DaysApplicationHasBeenInReview',\n       'DaysToPermitApproval', 'PermitIsAmendment',\n       'PendingApplicationIsAmendment',\n       'PendingApplicationRequestedCommercialStatus',\n       'PendingApplicationRequestedIntervalTopFt',\n       'PendingApplicationRequestedIntervalBottomFt',\n       'PendingApplicationRequestedMaxLiquidBPD',\n       'PendingApplicationRequestedMaxLiquidPSIG',\n       'PendingApplicationRequestedMaxGasMCFPerDay',\n       'PendingApplicationRequestedMaxGasPSIG',\n       'PendingApplicationRequestedOperator',\n       'PendingApplicationRequestedOperatorType',\n       'PendingApplicationRequestedOperatorPrincipalCompany',\n       'PendingApplicationRequestedOperatorPrincipalCompanyType',\n       'PendingApplicationRequestedWellDepthClassification',\n       'CompletedWellDepthClassification', 'CompletionAndDrillingPermitStatus',\n       'StartDate', 'TotalVerticalDepthFt', 'MeasuredDepthFt',\n       'WellboreOrientation', 'IsOpenHole', 'SurfaceHoleElevationFt',\n       'SurfaceHoleLatitude', 'SurfaceHoleLongitude',\n       'SurfaceHoleGeographySource', 'SurveyLinesDescription',\n       'B3RecordAddedUTCDateTime', 'B3RecordUpdatedUTCDateTime',\n       'B3RecordDeletedUTCDateTime', 'Distances', 'DXs', 'DYs', 'DDRatio',\n       'YearsInjecting', 'EncompassingDay', 'EncompassingDiffusivity',\n       'EventID', 'TotalBBL'],\n      dtype='object')\n gistMC.addWells: injection file has  318  unique wells\n gistMC.addWells: injection file first day:  3880.0\n gistMC.addWells: injection file last day:  20130.0\n gistMC.addWells: injection file day interval:  10.0\n gistMC.addWells: injection file number of time samples:  1626\n"
     ]
    }
   ],
   "source": [
    "gist2.addWells(userWellFile=allWellsFile,userInjFile=injFile,verbose=2)"
   ]
  },
  {
   "cell_type": "code",
   "execution_count": 0,
   "metadata": {
    "application/vnd.databricks.v1+cell": {
     "cellMetadata": {
      "byteLimit": 2048000,
      "rowLimit": 10000
     },
     "inputWidgets": {},
     "nuid": "2571077c-67fe-4382-947c-2732bf1bfd15",
     "showTitle": true,
     "tableResultSettingsMap": {},
     "title": "Recalculate Well Selection"
    }
   },
   "outputs": [],
   "source": [
    "\n",
    "forecastSelectedWellsDF,forecastIgnoredWellsDF,forecastInitialInjDF=gist2.findWells(future,PE=False,verbose=verb)\n",
    "# Merge udpated well dataframe with prior unselected wells\n",
    "#addedWellsDF=forecastSelectedWellsDF[~forecastSelectedWellsDF['InjectionWellId'].isin(updatedSelectedWellsDF['InjectionWellId'])]\n",
    "#print(addedWellsDF)\n",
    "#forecastSelectedWellsDF['Added']=False\n",
    "#forecastSelectedWellsDF.loc[forecastSelectedWellsDF['InjectionWellId'].isin(addedWellsDF['InjectionWellId']),'Added']=True\n",
    "# Re-generate an R-T plot here. Should it have two sets of curves?\n",
    "# We need a column for wells that are newly added - \n",
    "\n",
    "\n"
   ]
  },
  {
   "cell_type": "code",
   "execution_count": 0,
   "metadata": {
    "application/vnd.databricks.v1+cell": {
     "cellMetadata": {
      "byteLimit": 2048000,
      "rowLimit": 10000
     },
     "inputWidgets": {},
     "nuid": "c482f5ad-9883-4c96-92cd-22df245d45a8",
     "showTitle": true,
     "tableResultSettingsMap": {},
     "title": "Create Distribution of Per-Well Disposal Rates"
    }
   },
   "outputs": [],
   "source": [
    "# I need new code here that calculates the time derivatives at a future point\n",
    "# TDTD0DF= gist.getTHTD0(newSelectedWellsDF,injDF,future,verb)"
   ]
  },
  {
   "cell_type": "code",
   "execution_count": 0,
   "metadata": {
    "application/vnd.databricks.v1+cell": {
     "cellMetadata": {
      "byteLimit": 2048000,
      "rowLimit": 10000
     },
     "inputWidgets": {},
     "nuid": "bc0b5c44-d531-4559-b8a9-9177a4619895",
     "showTitle": false,
     "tableResultSettingsMap": {},
     "title": ""
    }
   },
   "outputs": [
    {
     "output_type": "stream",
     "name": "stderr",
     "output_type": "stream",
     "text": [
      "/home/spark-a2aca50d-ddce-4b32-8484-22/.ipykernel/36915/command-3885362073294008-3029362639:2: FutureWarning: The squeeze argument has been deprecated and will be removed in a future version. Append .squeeze(\"columns\") to the call to squeeze.\n\n\n  updatedOrderedWellList=pd.read_csv(updatedRunIntervalPath+'wellOrder.csv',squeeze=True,index_col=0)\n"
     ]
    },
    {
     "output_type": "stream",
     "name": "stdout",
     "output_type": "stream",
     "text": [
      "0         MARIENFELD 13 1D\n1            ANNALEA SWD 1\n2             PALO VERDE 1\n3               FAUDREE 1D\n4            NEPTUNE SWD 1\n5          DICKENSON 20 8D\n6              CORFU SWD 1\n7        SALE RANCH 27 1DD\n8                PAT, K. 3\n9          SALT LAKE SWD 1\n10      LIMEQUEST 6 SWD 1D\n11     MCMORRIES 18 SWD 2D\n12    PENROSE-OLDHAM SWD 2\n13             BERRY SWD 1\n14    DAGGER LAKE SWD 08SD\n15           MARBILL SWD 1\n16    NAIL RANCH \\\"36\\\" 1D\n17             BROWN SWD 1\nName: Name, dtype: object\nMARIENFELD 13 1D  ID: 2121094\nANNALEA SWD 1  ID: 2121271\nPALO VERDE 1  ID: 2123938\nFAUDREE 1D  ID: 2117885\nNEPTUNE SWD 1  ID: 2111946\nDICKENSON 20 8D  ID: 2109094\nCORFU SWD 1  ID: 2116501\nSALE RANCH 27 1DD  ID: 2112288\nPAT, K. 3  ID: 2081404\nSALT LAKE SWD 1  ID: 2114817\nLIMEQUEST 6 SWD 1D  ID: 2112104\nMCMORRIES 18 SWD 2D  ID: 2111358\nPENROSE-OLDHAM SWD 2  ID: 2056720\nBERRY SWD 1  ID: 2121191\nDAGGER LAKE SWD 08SD  ID: 2113898\nMARBILL SWD 1  ID: 2111690\nNAIL RANCH \\\"36\\\" 1D  ID: 2118993\nBROWN SWD 1  ID: 2093925\n"
     ]
    }
   ],
   "source": [
    "# Get ordered well IDs from orderedWellList[:-1]\n",
    "updatedOrderedWellList=pd.read_csv(updatedRunIntervalPath+'wellOrder.csv',squeeze=True,index_col=0)\n",
    "print(updatedOrderedWellList[:-1])\n",
    "forecastWellIDList=[]\n",
    "for wellName in updatedOrderedWellList[:-1]:\n",
    "  #print('wellName:',wellName)\n",
    "  wellID=forecastSelectedWellsDF[forecastSelectedWellsDF['WellName']==wellName]['ID'].to_list()[0]\n",
    "  print(wellName,' ID:',wellID)\n",
    "  forecastWellIDList.append(wellID)"
   ]
  },
  {
   "cell_type": "code",
   "execution_count": 0,
   "metadata": {
    "application/vnd.databricks.v1+cell": {
     "cellMetadata": {
      "byteLimit": 2048000,
      "rowLimit": 10000
     },
     "inputWidgets": {},
     "nuid": "803d2442-85ce-4d84-a546-9fe15bcf5132",
     "showTitle": false,
     "tableResultSettingsMap": {},
     "title": ""
    }
   },
   "outputs": [
    {
     "output_type": "stream",
     "name": "stdout",
     "output_type": "stream",
     "text": [
      "{2121094: 10000.0, 2121271: 10000.0, 2123938: 10000.0, 2117885: 10000.0, 2111946: 10000.0, 2109094: 10000.0, 2116501: 10000.0, 2112288: 10000.0, 2081404: 10000.0, 2114817: 10000.0, 2112104: 10000.0, 2111358: 10000.0, 2056720: 10000.0, 2121191: 10000.0, 2113898: 10000.0, 2111690: 10000.0, 2118993: 10000.0, 2093925: 10000.0}\n"
     ]
    }
   ],
   "source": [
    "# Put in new rates - every well gets 10kbd\n",
    "rateDict=dict(zip(forecastWellIDList,[10000.]*len(forecastWellIDList)))\n",
    "print(rateDict)"
   ]
  },
  {
   "cell_type": "code",
   "execution_count": 0,
   "metadata": {
    "application/vnd.databricks.v1+cell": {
     "cellMetadata": {
      "byteLimit": 2048000,
      "rowLimit": 10000
     },
     "inputWidgets": {},
     "nuid": "eda4127e-82a5-4e08-a36b-a676fdf877e1",
     "showTitle": true,
     "tableResultSettingsMap": {},
     "title": "Set Future Well Rates"
    }
   },
   "outputs": [
    {
     "output_type": "stream",
     "name": "stdout",
     "output_type": "stream",
     "text": [
      "['__name__', '__doc__', '__package__', '__loader__', '__spec__', '__file__', '__cached__', '__builtins__', 'sc', 'si', 'sn', 'np', 'pd', 'math', 'gc', 'gistMC', 'prepInj', 'calcPPVals', 'calcPPAnisoVals', 'matchPE2PP', 'calcPEVals', 'getDates', 'logSpace', 'haversineXY', 'haversine', 'formEffectiveStressTensor', 'projectStress', 'stressInvariants', 'labelWells', 'saveTimeSeriesPressures', 'prepRTPlot', 'summarizePPResults', 'prepDisaggregationPlot', 'getWinWells', 'getPerWellPressureTimeSeriesSpaghettiAndQuantiles', 'prepPressureAndDisposalTimeSeriesPlots', 'prepTotalPressureTimeSeriesPlot', 'prepTotalPressureTimeSeriesSpaghettiPlot', 'extendDisposal', '__warningregistry__']\n gist.extendDisposal - lastDay:  20100\n gist.extendDisposal - future time horizon:  20110.0 21767.0 10.0\n extendDisposal - wellIDList:  [2078938 2078251 2080714 2079858 2079878 2077198 2081262 2081279 2077335\n 2084245 2083389 2083417 2083672 2085423 2084091 2086897 2086098 2087824\n 2088381 2086294 2086664 2082680 2090790 2090834 2093611 2091330 2100538\n 2098949 2099704 2099183 2100310 2105399 2105922 2106015 2106155 2106820\n 2108311 2108259 2105036 2111004 2110195 2112042 2112104 2112591 2111864\n 2112175 2112172 2113672 2112198 2111946 2111968 2112249 2111988 2112227\n 2112288 2113898 2114930 2114823 2114949 2109286 2114597 2117363 2117616\n 2118060 2116406 2117633 2119505 2117806 2117915 2120827 2120859 2120458\n 2117885 2119978 2120624 2120563 2118820 2120964 2120979 2120980 2118993\n 2121001 2121323 2121013 2121310 2119799 2121094 2121097 2121129 2121091\n 2119049 2121177 2121190 2121203 2121181 2121206 2121213 2121617 2121255\n 2121715 2119358 2126182 2118517 2119465 2121854 2120225 2120306 2123938\n 2123448 2126653 2126690 2123953 2126775 2044005 2048778 2051023 2051992\n 2048071 2051824 2058336 2056815 2060119 2061263 2059655 2070385 2075271\n 2077360 2079362 2037927 2040482 2041073 2043404 2009309 2012806 2018967\n 2118849 2121271 2119988 2119747 2119704 2120101 2121111 2120257 2121230\n 2123968 2099360 2107405 2107204 2109094 2109183 2112307 2110592 2109578\n 2113042 2116501 2112544 2118021 2111402 2076984 2081404 2096222 2094440\n 2059905 2071968 2048738 2009788 2012804 2015612 2015971 2019177 2121278\n 2112489 2121186 2105142 2120454 2114831 2110718 2120298 2121191 2123921\n 2111690 2106729 2113855 2120615 2121216 2052077 2090964 2111821 2058664\n 2111922 2069582 2048782 2052644 2064744 2116251 2128440 2111358 2015972\n 2074811 2081848 2113854 2121289 2121231 2079881 2079920 2081289 2080511\n 2083826 2085809 2082443 2088307 2088254 2086685 2088942 2089412 2088016\n 2091943 2092595 2092708 2092746 2093925 2094002 2094582 2095040 2096723\n 2097363 2097347 2098828 2098691 2102104 2100867 2100192 2100217 2100833\n 2100216 2102598 2105351 2108813 2106576 2106595 2109346 2109392 2109839\n 2108392 2111387 2112058 2113862 2113837 2112413 2114817 2116381 2119560\n 2120635 2118851 2118838 2120714 2120923 2121022 2119809 2119807 2119276\n 2121163 2121199 2119295 2119388 2119359 2120097 2120323 2048806 2051462\n 2050652 2051822 2055215 2056720 2057815 2059093 2063779 2063435 2064982\n 2065535 2064232 2067332 2069425 2059918 2064515 2072348 2060015 2071236\n 2075137 2072223 2078030 2078570 2079008 2044698 2016279 2018880 2118930\n 2098938 2099101 2095425 2099791 2101239 2108688 2091726 2076027 2012785\n 2120618 2087373 2098276 2095236 2121195 2093824 2120653 2101067 2059622\n 2112378 2120087 2119180]\n"
     ]
    },
    {
     "output_type": "stream",
     "name": "stderr",
     "output_type": "stream",
     "text": [
      "/Workspace/Users/bill.curry@exxonmobil.com/GIST/lib/gistMC.py:3528: SettingWithCopyWarning: \nA value is trying to be set on a copy of a slice from a DataFrame.\nTry using .loc[row_indexer,col_indexer] = value instead\n\nSee the caveats in the documentation: https://pandas.pydata.org/pandas-docs/stable/user_guide/indexing.html#returning-a-view-versus-a-copy\n  pastInjDF['Type']='Original'\n"
     ]
    }
   ],
   "source": [
    "startDate=pd.to_datetime('2025-01-15')\n",
    "print(gi.__dir__())\n",
    "forecastInjDF=gi.extendDisposal(forecastInitialInjDF,startDate,future['Origin Date'],rateDict,dDays=gist2.injDT,verbose=1)"
   ]
  },
  {
   "cell_type": "code",
   "execution_count": 0,
   "metadata": {
    "application/vnd.databricks.v1+cell": {
     "cellMetadata": {
      "byteLimit": 2048000,
      "rowLimit": 10000
     },
     "inputWidgets": {},
     "nuid": "f4f16815-6f30-4e4e-8adb-04df47b3e41a",
     "showTitle": false,
     "tableResultSettingsMap": {},
     "title": ""
    }
   },
   "outputs": [],
   "source": [
    "forecastRTDF,forecastMergedWellsDF = gi.prepRTPlot(forecastSelectedWellsDF,forecastIgnoredWellsDF,minYear='1985',diffRange=(gist2.diffPPVec.min(),gist2.diffPPVec.max()),eq=future,clipYear=False)\n"
   ]
  },
  {
   "cell_type": "code",
   "execution_count": 0,
   "metadata": {
    "application/vnd.databricks.v1+cell": {
     "cellMetadata": {
      "byteLimit": 2048000,
      "rowLimit": 10000
     },
     "inputWidgets": {},
     "nuid": "991a431b-fe1f-4cc3-b913-b625879b09d2",
     "showTitle": true,
     "tableResultSettingsMap": {},
     "title": "Output forecast RT Plot"
    }
   },
   "outputs": [],
   "source": [
    "forecastMergedWellsDF.to_csv(forecastRunIntervalPath+'forecastRTwells.csv')\n",
    "forecastRTDF.to_csv(forecastRunIntervalPath+'forecastRTDF.csv')\n",
    "forecastInitialInjDF.to_csv(forecastRunIntervalPath+'forecastInitialInjDF.csv')"
   ]
  },
  {
   "cell_type": "code",
   "execution_count": 0,
   "metadata": {
    "application/vnd.databricks.v1+cell": {
     "cellMetadata": {
      "byteLimit": 2048000,
      "rowLimit": 10000
     },
     "inputWidgets": {},
     "nuid": "09f83e81-6257-4169-9c66-942a0cc0298b",
     "showTitle": true,
     "tableResultSettingsMap": {},
     "title": "Future Base Scenarios"
    }
   },
   "outputs": [
    {
     "output_type": "stream",
     "name": "stdout",
     "output_type": "stream",
     "text": [
      " prepDisaggregationPlot:  21  wells in disaggregation plot with  1000  realizations\n prepDisaggregationPlot:  1000  rows for  MARIENFELD 13 1D\n prepDisaggregationPlot:  1000  rows for  ANNALEA SWD 1\n prepDisaggregationPlot:  1000  rows for  PALO VERDE 1\n prepDisaggregationPlot:  1000  rows for  SALT LAKE SWD 1\n prepDisaggregationPlot:  1000  rows for  FAUDREE 1D\n prepDisaggregationPlot:  1000  rows for  SALE RANCH 27 1DD\n prepDisaggregationPlot:  1000  rows for  CORFU SWD 1\n prepDisaggregationPlot:  1000  rows for  NEPTUNE SWD 1\n prepDisaggregationPlot:  1000  rows for  DICKENSON 20 8D\n prepDisaggregationPlot:  1000  rows for  LIMEQUEST 6 SWD 1D\n prepDisaggregationPlot:  1000  rows for  DAGGER LAKE SWD 08SD\n prepDisaggregationPlot:  1000  rows for  MCMORRIES 18 SWD 2D\n prepDisaggregationPlot:  1000  rows for  JAKE THE SNAKE SWD 1\n prepDisaggregationPlot:  1000  rows for  MARBILL SWD 1\n prepDisaggregationPlot:  1000  rows for  BERRY SWD 1\n prepDisaggregationPlot:  1000  rows for  PENROSE-OLDHAM SWD 2\n prepDisaggregationPlot:  1000  rows for  BROWN SWD 1\n prepDisaggregationPlot:  1000  rows for  BEAVER SWD 1D\n prepDisaggregationPlot:  1000  rows for  MCCLINTIC 60 1DD\n prepDisaggregationPlot:  1000  rows for  PAT, K. 3\n prepDisaggregationPlot:  1000  rows for  Sum of All 401 Others Below 1.0 PSI\n"
     ]
    }
   ],
   "source": [
    "forecastScenarioDF=gist2.runPressureScenarios(future,forecastSelectedWellsDF,forecastInjDF,verbose=verb)\n",
    "forecastFilteredDF,forecastOrderedWellList=gi.summarizePPResults(forecastScenarioDF,forecastSelectedWellsDF,threshold=1.,nOrder=40,verbose=verb)\n",
    "forecastDisaggregationDF=gi.prepDisaggregationPlot(forecastFilteredDF,forecastOrderedWellList,jitter=0.1,verbose=1)\n",
    "forecastWinWellsDF,forecastWinInjDF=gi.getWinWells(forecastFilteredDF,forecastSelectedWellsDF,forecastInjDF)"
   ]
  },
  {
   "cell_type": "code",
   "execution_count": 0,
   "metadata": {
    "application/vnd.databricks.v1+cell": {
     "cellMetadata": {
      "byteLimit": 2048000,
      "rowLimit": 10000
     },
     "inputWidgets": {},
     "nuid": "bcfdc57d-5afd-4642-b780-0e34804186ff",
     "showTitle": true,
     "tableResultSettingsMap": {},
     "title": "Future Time Series"
    }
   },
   "outputs": [],
   "source": [
    "forecastScenarioTSRDF,forecastdPTimeSeriesR,forecastWellIDsR,forecastDayVecR = gist2.runPressureScenariosTimeSeries(future,forecastWinWellsDF,forecastWinInjDF,verbose=verb)"
   ]
  },
  {
   "cell_type": "code",
   "execution_count": 0,
   "metadata": {
    "application/vnd.databricks.v1+cell": {
     "cellMetadata": {
      "byteLimit": 2048000,
      "rowLimit": 10000
     },
     "inputWidgets": {},
     "nuid": "6d781a6e-f0ea-4106-8c84-3a98b9a4f25e",
     "showTitle": true,
     "tableResultSettingsMap": {},
     "title": "Calculate quantiles of summed time series"
    }
   },
   "outputs": [
    {
     "output_type": "stream",
     "name": "stdout",
     "output_type": "stream",
     "text": [
      "prepTotalPressureTimeSeriesPlot: deltaPP.shape= (20, 1000, 1578)  dayVec.shape= (1578,)\nprepTotalPressureTimeSeriesPlot: totalDeltaPP.shape= (1000, 1578)\nprepTotalPressureTimeSeriesPlot: quantiles: [0.0, 10.0, 20.0, 30.0, 40.0, 50.1, 60.0, 70.0, 80.0, 90.0, 100.0]\nprepTotalPressureTimeSeriesSpaghettiPlot: deltaPP.shape= (20, 1000, 1578)  dayVec.shape= (1578,)\nprepTotalPressureTimeSeriesSpaghettiPlot: totalDeltaPP.shape= (1000, 1578)\n"
     ]
    }
   ],
   "source": [
    "forecastTotalPPQuantilesDF=gi.prepTotalPressureTimeSeriesPlot(forecastdPTimeSeriesR,forecastDayVecR,nQuantiles=11,epoch=pd.to_datetime('1970-01-01'),verbose=1)\n",
    "forecastTotalPPSpaghettiDF=gi.prepTotalPressureTimeSeriesSpaghettiPlot(forecastdPTimeSeriesR,forecastDayVecR,gist2.diffPPVec,epoch=pd.to_datetime('1970-01-01'),verbose=1)"
   ]
  },
  {
   "cell_type": "code",
   "execution_count": 0,
   "metadata": {
    "application/vnd.databricks.v1+cell": {
     "cellMetadata": {
      "byteLimit": 2048000,
      "rowLimit": 10000
     },
     "inputWidgets": {},
     "nuid": "8790ced8-87e0-4637-b270-3f7bf09e1d8d",
     "showTitle": true,
     "tableResultSettingsMap": {},
     "title": "Calculate quantiles of per-well time series"
    }
   },
   "outputs": [],
   "source": [
    "#forecastAllPPQuantilesDF=gi.getPerWellPressureTimeSeriesQuantiles(forecastdPTimeSeriesR,forecastDayVecR,forecastWellIDsR,nQuantiles=11,epoch=pd.to_datetime('01-01-1970'))\n",
    "forecastAllPPQuantilesDF,forecastAllPPSpaghettiDF=gi.getPerWellPressureTimeSeriesSpaghettiAndQuantiles(forecastdPTimeSeriesR,forecastDayVecR,gist2.diffPPVec,forecastWellIDsR,nQuantiles=11,epoch=pd.to_datetime('01-01-1970'))"
   ]
  },
  {
   "cell_type": "code",
   "execution_count": 0,
   "metadata": {
    "application/vnd.databricks.v1+cell": {
     "cellMetadata": {
      "byteLimit": 2048000,
      "rowLimit": 10000
     },
     "inputWidgets": {},
     "nuid": "36f95652-1abf-46d2-89e5-d0e27688e9a7",
     "showTitle": false,
     "tableResultSettingsMap": {},
     "title": ""
    }
   },
   "outputs": [],
   "source": [
    "#forecastWellPressureDict=gi.prepPressureAndDisposalTimeSeriesPlots(forecastAllPPQuantilesDF,forecastWinWellsDF,forecastWinInjDF,forecastOrderedWellList[:-1],verbose=0)\n",
    "\n",
    "forecastWellPressureDict=gi.prepPressureAndDisposalTimeSeriesPlots(forecastAllPPQuantilesDF,forecastAllPPSpaghettiDF,forecastWinWellsDF,forecastWinInjDF,forecastOrderedWellList[:-1],verbose=0)"
   ]
  },
  {
   "cell_type": "code",
   "execution_count": 0,
   "metadata": {
    "application/vnd.databricks.v1+cell": {
     "cellMetadata": {
      "byteLimit": 2048000,
      "rowLimit": 10000
     },
     "inputWidgets": {},
     "nuid": "697e0a54-caa8-492d-adf3-782d901d518c",
     "showTitle": true,
     "tableResultSettingsMap": {},
     "title": "Output Forecast"
    }
   },
   "outputs": [],
   "source": [
    "forecastMergedWellsDF.to_csv(forecastRunIntervalPath+'RTwells.csv')\n",
    "forecastRTDF.to_csv(forecastRunIntervalPath+'RTDF.csv')\n",
    "forecastInjDF.to_csv(forecastRunIntervalPath+'forecastInjDF.csv')\n",
    "forecastSelectedWellsDF.to_csv(forecastRunIntervalPath+'updatedSelectedWells.csv')\n",
    "forecastIgnoredWellsDF.to_csv(forecastRunIntervalPath+'updatedIgnoredWells.csv')\n",
    "#futureInjDF.to_csv(forecastRunIntervalPath+'futureInj.csv')\n",
    "pd.Series(data=forecastOrderedWellList).to_csv(forecastRunIntervalPath+'wellOrder.csv')\n",
    "forecastScenarioDF.to_csv(forecastRunIntervalPath+'fullScenarios.csv')\n",
    "forecastFilteredDF.to_csv(forecastRunIntervalPath+'filteredScenarios.csv')\n",
    "pd.Series(data=forecastOrderedWellList).to_csv(forecastRunIntervalPath+'forecastWellOrder.csv')\n",
    "forecastDisaggregationDF.to_csv(forecastRunIntervalPath+'forecastDisaggregation.csv')\n",
    "forecastTotalPPQuantilesDF.to_csv(forecastRunIntervalPath+'forecastTotalPPQuantiles.csv')\n",
    "forecastTotalPPSpaghettiDF.to_csv(forecastRunIntervalPath+'forecastTotalPPSpaghetti.csv')"
   ]
  },
  {
   "cell_type": "code",
   "execution_count": 0,
   "metadata": {
    "application/vnd.databricks.v1+cell": {
     "cellMetadata": {
      "byteLimit": 2048000,
      "rowLimit": 10000
     },
     "inputWidgets": {},
     "nuid": "169ce3a7-de64-4e11-8211-72867218f363",
     "showTitle": true,
     "tableResultSettingsMap": {},
     "title": "Output per-well forecast"
    }
   },
   "outputs": [
    {
     "output_type": "stream",
     "name": "stdout",
     "output_type": "stream",
     "text": [
      "well 0 , ID: 2121094  completed\nwell 1 , ID: 2121271  completed\nwell 2 , ID: 2123938  completed\nwell 3 , ID: 2114817  completed\nwell 4 , ID: 2117885  completed\nwell 5 , ID: 2112288  completed\nwell 6 , ID: 2116501  completed\nwell 7 , ID: 2111946  completed\nwell 8 , ID: 2109094  completed\nwell 9 , ID: 2112104  completed\nwell 10 , ID: 2113898  completed\nwell 11 , ID: 2111358  completed\nwell 12 , ID: 2117633  completed\nwell 13 , ID: 2111690  completed\nwell 14 , ID: 2121191  completed\nwell 15 , ID: 2056720  completed\nwell 16 , ID: 2121195  completed\nwell 17 , ID: 2123953  completed\nwell 18 , ID: 2111988  completed\nwell 19 , ID: 2081404  completed\n"
     ]
    }
   ],
   "source": [
    "i=0\n",
    "for wellDictKey, wellDictValue in forecastWellPressureDict.items():\n",
    "  wellID=wellDictValue['WellInfo']['ID'].to_list()[0]\n",
    "  futureWellFilePrefix='/perWell/well_'+str(i)+'_'\n",
    "  wellDictValue['PPQuantiles'].to_csv(forecastRunIntervalPath+futureWellFilePrefix+'PPQuantiles.csv')\n",
    "  wellDictValue['Disposal'].to_csv(forecastRunIntervalPath+futureWellFilePrefix+'Disposal.csv')\n",
    "  wellDictValue['WellInfo'].to_csv(forecastRunIntervalPath+futureWellFilePrefix+'WellInfo.csv')\n",
    "  wellDictValue['Spaghetti'].to_csv(forecastRunIntervalPath+futureWellFilePrefix+'Spaghetti.csv')\n",
    "  print('well',i,', ID:',wellID,' completed')\n",
    "  i=i+1"
   ]
  },
  {
   "cell_type": "code",
   "execution_count": 0,
   "metadata": {
    "application/vnd.databricks.v1+cell": {
     "cellMetadata": {
      "byteLimit": 2048000,
      "rowLimit": 10000
     },
     "inputWidgets": {},
     "nuid": "ba35cf0d-d4a9-4b49-bd88-bcaf0940dfc3",
     "showTitle": false,
     "tableResultSettingsMap": {},
     "title": ""
    }
   },
   "outputs": [],
   "source": [
    "forecastScenarioTSRDF.to_csv(forecastRunIntervalPath+'materialScenariosR.csv')\n",
    "np.savez_compressed(forecastRunIntervalPath+'forecastTimeSeriesR.npz', deltaPP=forecastdPTimeSeriesR,dayVec=forecastDayVecR,wellIDs=forecastWellIDsR)"
   ]
  },
  {
   "cell_type": "code",
   "execution_count": 0,
   "metadata": {
    "application/vnd.databricks.v1+cell": {
     "cellMetadata": {
      "byteLimit": 2048000,
      "rowLimit": 10000
     },
     "inputWidgets": {},
     "nuid": "d56c962b-cf97-498d-bf32-736a23e1ea75",
     "showTitle": false,
     "tableResultSettingsMap": {},
     "title": ""
    }
   },
   "outputs": [],
   "source": []
  }
 ],
 "metadata": {
  "application/vnd.databricks.v1+notebook": {
   "computePreferences": {
    "hardware": {
     "accelerator": null,
     "gpuPoolId": null,
     "memory": null
    }
   },
   "dashboards": [],
   "environmentMetadata": {
    "base_environment": "",
    "environment_version": "1"
   },
   "language": "python",
   "notebookMetadata": {
    "pythonIndentUnit": 2
   },
   "notebookName": "GIST_RunTemplate_texnet2024oqfb_deep_Step5",
   "widgets": {}
  },
  "language_info": {
   "name": "python"
  }
 },
 "nbformat": 4,
 "nbformat_minor": 0
}