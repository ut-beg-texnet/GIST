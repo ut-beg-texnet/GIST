{
 "cells": [
  {
   "cell_type": "markdown",
   "metadata": {
    "application/vnd.databricks.v1+cell": {
     "cellMetadata": {
      "byteLimit": 2048000,
      "rowLimit": 10000
     },
     "inputWidgets": {},
     "nuid": "c1abdb59-6473-4a9e-89dc-f7bf61a76f4b",
     "showTitle": false,
     "tableResultSettingsMap": {},
     "title": ""
    }
   },
   "source": [
    "# Geomechanical Injection Scenario Toolkit (GIST)\n",
    "\n",
    "#Disclaimer\n",
    "GIST aims to give the _gist_ of a wide range of potential scenarios and aid collective decision making when responding to seismicity.\n",
    "\n",
    "The results of GIST are entirely dependent upon the inputs provided, which may be incomplete or inaccurate.\n",
    "\n",
    "There are other potentially plausible inducement scenarios that are not considered, including fluid migration into the basement, \n",
    "out-of-zone poroelastic stressing, or hydraulic fracturing.\n",
    "\n",
    "None of the individual models produced by GIST accurately represent what happens in the subsurface and cannot be credibly used \n",
    "to accurately assign liability or responsibility for seismicity.\n",
    "\n",
    "\"All models are wrong, but some are useful\" - George Box, 1976\n",
    "\n",
    "## Prerequisites\n",
    "\n",
    "Assumes InjectionSQLScheduled completed successfully and injection data are sampled uniformly in time"
   ]
  },
  {
   "cell_type": "markdown",
   "metadata": {
    "application/vnd.databricks.v1+cell": {
     "cellMetadata": {
      "byteLimit": 2048000,
      "rowLimit": 10000
     },
     "inputWidgets": {},
     "nuid": "b264040f-fa15-4a0b-b6a8-a6260d9ab053",
     "showTitle": false,
     "tableResultSettingsMap": {},
     "title": ""
    }
   },
   "source": [
    "##Install Dependencies\n",
    "- geopandas\n",
    "- gistMC.py\n",
    "- eqSQL.py\n",
    "- gistPlots.py\n",
    "- numpy\n",
    "- scipy\n",
    "- pandas\n"
   ]
  },
  {
   "cell_type": "code",
   "execution_count": 0,
   "metadata": {
    "application/vnd.databricks.v1+cell": {
     "cellMetadata": {
      "byteLimit": 2048000,
      "rowLimit": 10000
     },
     "inputWidgets": {},
     "nuid": "e00f4128-0373-462e-b4e5-0c722b222f74",
     "showTitle": true,
     "tableResultSettingsMap": {},
     "title": "Restart python"
    }
   },
   "outputs": [],
   "source": [
    "%restart_python"
   ]
  },
  {
   "cell_type": "code",
   "execution_count": 0,
   "metadata": {
    "application/vnd.databricks.v1+cell": {
     "cellMetadata": {
      "byteLimit": 2048000,
      "rowLimit": 10000
     },
     "collapsed": true,
     "inputWidgets": {},
     "nuid": "fb80407f-4a02-4284-9638-a9c24281d177",
     "showTitle": true,
     "tableResultSettingsMap": {},
     "title": "Databricks functions"
    }
   },
   "outputs": [],
   "source": [
    "%run \"/Workspace/_utils/Utility_Functions\""
   ]
  },
  {
   "cell_type": "code",
   "execution_count": 0,
   "metadata": {
    "application/vnd.databricks.v1+cell": {
     "cellMetadata": {
      "byteLimit": 2048000,
      "rowLimit": 10000
     },
     "inputWidgets": {},
     "nuid": "0e21e4dd-c64f-459b-9241-0cb74bf49524",
     "showTitle": true,
     "tableResultSettingsMap": {},
     "title": "PIP installs"
    }
   },
   "outputs": [
    {
     "output_type": "stream",
     "name": "stdout",
     "output_type": "stream",
     "text": [
      "Collecting geopandas\n  Downloading geopandas-1.0.1-py3-none-any.whl (323 kB)\n     ━━━━━━━━━━━━━━━━━━━━━━━━━━━━━━━━━━━━━━ 323.6/323.6 kB 14.7 MB/s eta 0:00:00\nCollecting pyproj>=3.3.0\n  Downloading pyproj-3.7.0-cp310-cp310-manylinux_2_17_x86_64.manylinux2014_x86_64.whl (9.2 MB)\n     ━━━━━━━━━━━━━━━━━━━━━━━━━━━━━━━━━━━━━━━━ 9.2/9.2 MB 99.9 MB/s eta 0:00:00\nRequirement already satisfied: numpy>=1.22 in /databricks/python3/lib/python3.10/site-packages (from geopandas) (1.23.5)\nCollecting pyogrio>=0.7.2\n  Downloading pyogrio-0.10.0-cp310-cp310-manylinux_2_28_x86_64.whl (23.9 MB)\n     ━━━━━━━━━━━━━━━━━━━━━━━━━━━━━━━━━━━━━━━━ 23.9/23.9 MB 73.1 MB/s eta 0:00:00\nRequirement already satisfied: packaging in /databricks/python3/lib/python3.10/site-packages (from geopandas) (23.2)\nRequirement already satisfied: pandas>=1.4.0 in /databricks/python3/lib/python3.10/site-packages (from geopandas) (1.5.3)\nCollecting shapely>=2.0.0\n  Downloading shapely-2.0.7-cp310-cp310-manylinux_2_17_x86_64.manylinux2014_x86_64.whl (2.5 MB)\n     ━━━━━━━━━━━━━━━━━━━━━━━━━━━━━━━━━━━━━━━━ 2.5/2.5 MB 128.6 MB/s eta 0:00:00\nRequirement already satisfied: python-dateutil>=2.8.1 in /databricks/python3/lib/python3.10/site-packages (from pandas>=1.4.0->geopandas) (2.8.2)\nRequirement already satisfied: pytz>=2020.1 in /databricks/python3/lib/python3.10/site-packages (from pandas>=1.4.0->geopandas) (2022.7)\nRequirement already satisfied: certifi in /databricks/python3/lib/python3.10/site-packages (from pyogrio>=0.7.2->geopandas) (2022.12.7)\nRequirement already satisfied: six>=1.5 in /usr/lib/python3/dist-packages (from python-dateutil>=2.8.1->pandas>=1.4.0->geopandas) (1.16.0)\nInstalling collected packages: shapely, pyproj, pyogrio, geopandas\nSuccessfully installed geopandas-1.0.1 pyogrio-0.10.0 pyproj-3.7.0 shapely-2.0.7\n\u001B[43mNote: you may need to restart the kernel using %restart_python or dbutils.library.restartPython() to use updated packages.\u001B[0m\nCollecting geodatasets\n  Downloading geodatasets-2024.8.0-py3-none-any.whl (20 kB)\nCollecting pooch\n  Downloading pooch-1.8.2-py3-none-any.whl (64 kB)\n     ━━━━━━━━━━━━━━━━━━━━━━━━━━━━━━━━━━━━━━━━ 64.6/64.6 kB 8.3 MB/s eta 0:00:00\nRequirement already satisfied: packaging>=20.0 in /databricks/python3/lib/python3.10/site-packages (from pooch->geodatasets) (23.2)\nRequirement already satisfied: platformdirs>=2.5.0 in /databricks/python3/lib/python3.10/site-packages (from pooch->geodatasets) (2.5.2)\nRequirement already satisfied: requests>=2.19.0 in /databricks/python3/lib/python3.10/site-packages (from pooch->geodatasets) (2.28.1)\nRequirement already satisfied: urllib3<1.27,>=1.21.1 in /databricks/python3/lib/python3.10/site-packages (from requests>=2.19.0->pooch->geodatasets) (1.26.14)\nRequirement already satisfied: idna<4,>=2.5 in /databricks/python3/lib/python3.10/site-packages (from requests>=2.19.0->pooch->geodatasets) (3.4)\nRequirement already satisfied: charset-normalizer<3,>=2 in /databricks/python3/lib/python3.10/site-packages (from requests>=2.19.0->pooch->geodatasets) (2.0.4)\nRequirement already satisfied: certifi>=2017.4.17 in /databricks/python3/lib/python3.10/site-packages (from requests>=2.19.0->pooch->geodatasets) (2022.12.7)\nInstalling collected packages: pooch, geodatasets\nSuccessfully installed geodatasets-2024.8.0 pooch-1.8.2\n\u001B[43mNote: you may need to restart the kernel using %restart_python or dbutils.library.restartPython() to use updated packages.\u001B[0m\nCollecting contextily\n  Downloading contextily-1.6.2-py3-none-any.whl (17 kB)\nCollecting xyzservices\n  Downloading xyzservices-2025.1.0-py3-none-any.whl (88 kB)\n     ━━━━━━━━━━━━━━━━━━━━━━━━━━━━━━━━━━━━━━━━ 88.4/88.4 kB 5.3 MB/s eta 0:00:00\nCollecting rasterio\n  Downloading rasterio-1.4.3-cp310-cp310-manylinux_2_17_x86_64.manylinux2014_x86_64.whl (22.2 MB)\n     ━━━━━━━━━━━━━━━━━━━━━━━━━━━━━━━━━━━━━━━━ 22.2/22.2 MB 72.9 MB/s eta 0:00:00\nCollecting mercantile\n  Downloading mercantile-1.2.1-py3-none-any.whl (14 kB)\nRequirement already satisfied: matplotlib in /databricks/python3/lib/python3.10/site-packages (from contextily) (3.7.0)\nRequirement already satisfied: joblib in /databricks/python3/lib/python3.10/site-packages (from contextily) (1.2.0)\nRequirement already satisfied: requests in /databricks/python3/lib/python3.10/site-packages (from contextily) (2.28.1)\nRequirement already satisfied: pillow in /databricks/python3/lib/python3.10/site-packages (from contextily) (9.4.0)\nCollecting geopy\n  Downloading geopy-2.4.1-py3-none-any.whl (125 kB)\n     ━━━━━━━━━━━━━━━━━━━━━━━━━━━━━━━━━━━━━━ 125.4/125.4 kB 45.4 MB/s eta 0:00:00\nCollecting geographiclib<3,>=1.52\n  Downloading geographiclib-2.0-py3-none-any.whl (40 kB)\n     ━━━━━━━━━━━━━━━━━━━━━━━━━━━━━━━━━━━━━━━━ 40.3/40.3 kB 14.6 MB/s eta 0:00:00\nRequirement already satisfied: cycler>=0.10 in /databricks/python3/lib/python3.10/site-packages (from matplotlib->contextily) (0.11.0)\nRequirement already satisfied: kiwisolver>=1.0.1 in /databricks/python3/lib/python3.10/site-packages (from matplotlib->contextily) (1.4.4)\nRequirement already satisfied: numpy>=1.20 in /databricks/python3/lib/python3.10/site-packages (from matplotlib->contextily) (1.23.5)\nRequirement already satisfied: python-dateutil>=2.7 in /databricks/python3/lib/python3.10/site-packages (from matplotlib->contextily) (2.8.2)\nRequirement already satisfied: fonttools>=4.22.0 in /databricks/python3/lib/python3.10/site-packages (from matplotlib->contextily) (4.25.0)\nRequirement already satisfied: pyparsing>=2.3.1 in /databricks/python3/lib/python3.10/site-packages (from matplotlib->contextily) (3.0.9)\nRequirement already satisfied: contourpy>=1.0.1 in /databricks/python3/lib/python3.10/site-packages (from matplotlib->contextily) (1.0.5)\nRequirement already satisfied: packaging>=20.0 in /databricks/python3/lib/python3.10/site-packages (from matplotlib->contextily) (23.2)\nRequirement already satisfied: click>=3.0 in /databricks/python3/lib/python3.10/site-packages (from mercantile->contextily) (8.0.4)\nRequirement already satisfied: certifi in /databricks/python3/lib/python3.10/site-packages (from rasterio->contextily) (2022.12.7)\nCollecting click-plugins\n  Downloading click_plugins-1.1.1-py2.py3-none-any.whl (7.5 kB)\nCollecting cligj>=0.5\n  Downloading cligj-0.7.2-py3-none-any.whl (7.1 kB)\nCollecting numpy>=1.20\n  Downloading numpy-2.2.2-cp310-cp310-manylinux_2_17_x86_64.manylinux2014_x86_64.whl (16.4 MB)\n     ━━━━━━━━━━━━━━━━━━━━━━━━━━━━━━━━━━━━━━━━ 16.4/16.4 MB 67.4 MB/s eta 0:00:00\nCollecting affine\n  Downloading affine-2.4.0-py3-none-any.whl (15 kB)\nRequirement already satisfied: attrs in /databricks/python3/lib/python3.10/site-packages (from rasterio->contextily) (22.1.0)\nRequirement already satisfied: charset-normalizer<3,>=2 in /databricks/python3/lib/python3.10/site-packages (from requests->contextily) (2.0.4)\nRequirement already satisfied: idna<4,>=2.5 in /databricks/python3/lib/python3.10/site-packages (from requests->contextily) (3.4)\nRequirement already satisfied: urllib3<1.27,>=1.21.1 in /databricks/python3/lib/python3.10/site-packages (from requests->contextily) (1.26.14)\nRequirement already satisfied: six>=1.5 in /usr/lib/python3/dist-packages (from python-dateutil>=2.7->matplotlib->contextily) (1.16.0)\nInstalling collected packages: xyzservices, numpy, mercantile, geographiclib, cligj, click-plugins, affine, rasterio, geopy, contextily\n  Attempting uninstall: numpy\n    Found existing installation: numpy 1.23.5\n    Not uninstalling numpy at /databricks/python3/lib/python3.10/site-packages, outside environment /local_disk0/.ephemeral_nfs/envs/pythonEnv-18db76e5-400d-4347-b7b0-9bff7d5c9e9e\n    Can't uninstall 'numpy'. No files were found to uninstall.\nERROR: pip's dependency resolver does not currently take into account all the packages that are installed. This behaviour is the source of the following dependency conflicts.\nscipy 1.10.0 requires numpy<1.27.0,>=1.19.5, but you have numpy 2.2.2 which is incompatible.\ndatabricks-connect 14.3.4 requires numpy<2,>=1.15, but you have numpy 2.2.2 which is incompatible.\nSuccessfully installed affine-2.4.0 click-plugins-1.1.1 cligj-0.7.2 contextily-1.6.2 geographiclib-2.0 geopy-2.4.1 mercantile-1.2.1 numpy-2.2.2 rasterio-1.4.3 xyzservices-2025.1.0\n\u001B[43mNote: you may need to restart the kernel using %restart_python or dbutils.library.restartPython() to use updated packages.\u001B[0m\n"
     ]
    }
   ],
   "source": [
    "!pip install geopandas\n",
    "!pip install geodatasets\n",
    "!pip install contextily\n",
    "#! pip install folium matplotlib mapclassify contextily"
   ]
  },
  {
   "cell_type": "markdown",
   "metadata": {
    "application/vnd.databricks.v1+cell": {
     "cellMetadata": {
      "byteLimit": 2048000,
      "rowLimit": 10000
     },
     "inputWidgets": {},
     "nuid": "c93df717-a2d5-4e18-b1cb-7d39ffcb99b2",
     "showTitle": false,
     "tableResultSettingsMap": {},
     "title": ""
    }
   },
   "source": [
    "##Paths"
   ]
  },
  {
   "cell_type": "code",
   "execution_count": 0,
   "metadata": {
    "application/vnd.databricks.v1+cell": {
     "cellMetadata": {
      "byteLimit": 2048000,
      "rowLimit": 10000
     },
     "inputWidgets": {},
     "nuid": "145f505a-6639-4124-b6bd-aa4e6c9b5c47",
     "showTitle": true,
     "tableResultSettingsMap": {},
     "title": "GIST libraries and injection data"
    }
   },
   "outputs": [],
   "source": [
    "# Paths\n",
    "homePath='/Workspace/Users/bill.curry@exxonmobil.com/'\n",
    "# Injection data path \n",
    "injPath=homePath+'injection/WeeklyRun/ScheduledOutput/'\n",
    "# GIST library path\n",
    "gistPath=homePath+'GIST/'"
   ]
  },
  {
   "cell_type": "markdown",
   "metadata": {
    "application/vnd.databricks.v1+cell": {
     "cellMetadata": {
      "byteLimit": 2048000,
      "rowLimit": 10000
     },
     "inputWidgets": {},
     "nuid": "fe561de9-c0de-474b-af1b-e457ac846dbe",
     "showTitle": false,
     "tableResultSettingsMap": {},
     "title": ""
    }
   },
   "source": [
    "##Libraries\n",
    "\n",
    "- numpy\n",
    "- scipy\n",
    "- pandas\n",
    "- matplotlib\n",
    "- geopandas\n",
    "- pyspark\n"
   ]
  },
  {
   "cell_type": "code",
   "execution_count": 0,
   "metadata": {
    "application/vnd.databricks.v1+cell": {
     "cellMetadata": {
      "byteLimit": 2048000,
      "rowLimit": 10000
     },
     "inputWidgets": {},
     "nuid": "10119ade-2798-4028-9462-d20dc15fb1d7",
     "showTitle": true,
     "tableResultSettingsMap": {},
     "title": "add path"
    }
   },
   "outputs": [],
   "source": [
    "import sys\n",
    "sys.path.append(gistPath+'lib')"
   ]
  },
  {
   "cell_type": "code",
   "execution_count": 0,
   "metadata": {
    "application/vnd.databricks.v1+cell": {
     "cellMetadata": {
      "byteLimit": 2048000,
      "rowLimit": 10000
     },
     "inputWidgets": {},
     "nuid": "2e230114-d00d-4065-9b06-9bc65deb51a6",
     "showTitle": true,
     "tableResultSettingsMap": {},
     "title": "pyspark"
    }
   },
   "outputs": [],
   "source": [
    "#Databricks-specific\n",
    "#import dataBricksConfig as db\n",
    "from pyspark.sql import SparkSession\n",
    "spark = SparkSession.builder.appName(\"eqSQL\").getOrCreate()"
   ]
  },
  {
   "cell_type": "code",
   "execution_count": 0,
   "metadata": {
    "application/vnd.databricks.v1+cell": {
     "cellMetadata": {
      "byteLimit": 2048000,
      "rowLimit": 10000
     },
     "inputWidgets": {},
     "nuid": "732391bb-8d33-4ac8-a2d7-4a7efc617715",
     "showTitle": true,
     "tableResultSettingsMap": {},
     "title": "imports"
    }
   },
   "outputs": [
    {
     "output_type": "display_data",
     "data": {
      "application/vnd.databricks.v1+h3_hint": "",
      "text/plain": []
     },
     "metadata": {},
     "output_type": "display_data"
    }
   ],
   "source": [
    "import numpy as np\n",
    "import pandas as pd\n",
    "import os\n",
    "import gistMC as gi\n",
    "import eqSQL as es\n",
    "import matplotlib.pyplot as plt\n",
    "import seaborn as sns\n",
    "import geopandas\n",
    "#import contextily as cx"
   ]
  },
  {
   "cell_type": "code",
   "execution_count": 0,
   "metadata": {
    "application/vnd.databricks.v1+cell": {
     "cellMetadata": {
      "byteLimit": 2048000,
      "rowLimit": 10000
     },
     "inputWidgets": {},
     "nuid": "f363a4c7-dd42-4e22-a888-cbf75b53ad45",
     "showTitle": false,
     "tableResultSettingsMap": {},
     "title": ""
    }
   },
   "outputs": [],
   "source": [
    "import gistPlots as gp"
   ]
  },
  {
   "cell_type": "markdown",
   "metadata": {
    "application/vnd.databricks.v1+cell": {
     "cellMetadata": {
      "byteLimit": 2048000,
      "rowLimit": 10000
     },
     "inputWidgets": {},
     "nuid": "83eacea1-ee6c-412e-86e8-eb0062d6a40c",
     "showTitle": false,
     "tableResultSettingsMap": {},
     "title": ""
    }
   },
   "source": [
    "#1. Select Event"
   ]
  },
  {
   "cell_type": "code",
   "execution_count": 0,
   "metadata": {
    "application/vnd.databricks.v1+cell": {
     "cellMetadata": {
      "byteLimit": 2048000,
      "rowLimit": 10000
     },
     "inputWidgets": {},
     "nuid": "29556f3e-cfbc-4eb2-aac0-ffdd3b050893",
     "showTitle": true,
     "tableResultSettingsMap": {},
     "title": "Input TexNet Event ID (1.1)"
    }
   },
   "outputs": [],
   "source": [
    "eventID='texnet2024oqfb'"
   ]
  },
  {
   "cell_type": "code",
   "execution_count": 0,
   "metadata": {
    "application/vnd.databricks.v1+cell": {
     "cellMetadata": {
      "byteLimit": 2048000,
      "rowLimit": 10000
     },
     "inputWidgets": {},
     "nuid": "d60eb1f0-2056-49e5-94c6-5927832497b4",
     "showTitle": true,
     "tableResultSettingsMap": {},
     "title": "Create Output Path for Event (1.2)"
    }
   },
   "outputs": [],
   "source": [
    "runPath=gistPath+'/runs/'+eventID+'/'\n",
    "os.makedirs(runPath, exist_ok=True)"
   ]
  },
  {
   "cell_type": "code",
   "execution_count": 0,
   "metadata": {
    "application/vnd.databricks.v1+cell": {
     "cellMetadata": {
      "byteLimit": 2048000,
      "rowLimit": 10000
     },
     "inputWidgets": {},
     "nuid": "ce7a3a90-f553-4113-abbe-37d6fb67d6e5",
     "showTitle": true,
     "tableResultSettingsMap": {},
     "title": "Fetch Earthquake Info (1.3)"
    }
   },
   "outputs": [
    {
     "output_type": "stream",
     "name": "stdout",
     "output_type": "stream",
     "text": [
      "getEarthquake:     SeismicEventId  ... B3RecordDeletedUTCDateTime\n0         2481836  ...                        NaT\n\n[1 rows x 32 columns] 1\n<class 'geopandas.geodataframe.GeoDataFrame'>\nRangeIndex: 1 entries, 0 to 0\nData columns (total 38 columns):\n #   Column                      Non-Null Count  Dtype         \n---  ------                      --------------  -----         \n 0   SeismicEventId              1 non-null      int64         \n 1   DataSource                  1 non-null      object        \n 2   DataSourceUrl               0 non-null      object        \n 3   EventID                     1 non-null      object        \n 4   EventTimeUtc                1 non-null      datetime64[ns]\n 5   EventTimeInLocalTimeZone    1 non-null      object        \n 6   EventTimeZone               1 non-null      object        \n 7   EventType                   1 non-null      object        \n 8   DepthKm                     1 non-null      float64       \n 9   DepthErrorKm                1 non-null      float64       \n 10  Magnitude                   1 non-null      float64       \n 11  MagnitudeError              0 non-null      float64       \n 12  MagnitudeType               1 non-null      object        \n 13  Location                    1 non-null      object        \n 14  Status                      1 non-null      object        \n 15  Latitude                    1 non-null      float64       \n 16  LatitudeError               1 non-null      float64       \n 17  Longitude                   1 non-null      float64       \n 18  LongitudeError              1 non-null      float64       \n 19  UpdatedDateUtc              1 non-null      datetime64[ns]\n 20  StationCount                1 non-null      int64         \n 21  RMS                         1 non-null      float64       \n 22  RMS_p                       0 non-null      object        \n 23  RMS_s                       0 non-null      object        \n 24  FocalMechanismAzimuthalGap  0 non-null      float64       \n 25  County                      1 non-null      object        \n 26  State                       1 non-null      object        \n 27  DuplicateSetId              1 non-null      int32         \n 28  RankWithinDuplicateSet      1 non-null      int32         \n 29  B3RecordAddedUTCDateTime    1 non-null      datetime64[ns]\n 30  B3RecordUpdatedUTCDateTime  1 non-null      datetime64[ns]\n 31  B3RecordDeletedUTCDateTime  0 non-null      datetime64[ns]\n 32  Origin Date                 1 non-null      object        \n 33  Origin Time                 1 non-null      object        \n 34  geometry                    1 non-null      geometry      \n 35  Strike                      1 non-null      float64       \n 36  Dip                         1 non-null      float64       \n 37  Rake                        1 non-null      float64       \ndtypes: datetime64[ns](5), float64(13), geometry(1), int32(2), int64(2), object(15)\nmemory usage: 424.0+ bytes\n"
     ]
    }
   ],
   "source": [
    "eqs=es.eqSQL()\n",
    "EQDF=eqs.getEarthquake(eventID)\n",
    "EQDF=EQDF.rename(columns={'LatitudeErrorKm':'LatitudeError','LongitudeErrorKm':'LongitudeError','EventId':'EventID'})\n",
    "# What about the other fault plane solution? - 251 / 36 / -97\n",
    "EQDF['Strike']=80.\n",
    "EQDF['Dip']=55.\n",
    "EQDF['Rake']=-85.\n",
    "# We could make use of the Rake\n",
    "EQDF.info()\n",
    "eq=EQDF.loc[0]"
   ]
  },
  {
   "cell_type": "code",
   "execution_count": 0,
   "metadata": {
    "application/vnd.databricks.v1+cell": {
     "cellMetadata": {
      "byteLimit": 2048000,
      "rowLimit": 10000
     },
     "inputWidgets": {},
     "nuid": "57a3cca2-ed2c-4c68-852b-7afa1f5fdaa0",
     "showTitle": true,
     "tableResultSettingsMap": {},
     "title": "Output Earthquake (1.4)"
    }
   },
   "outputs": [],
   "source": [
    "EQDF.to_csv(runPath+'EQ.csv')"
   ]
  },
  {
   "cell_type": "markdown",
   "metadata": {
    "application/vnd.databricks.v1+cell": {
     "cellMetadata": {
      "byteLimit": 2048000,
      "rowLimit": 10000
     },
     "inputWidgets": {},
     "nuid": "41d31cc5-0dad-4f64-a0ad-66225f6ae397",
     "showTitle": false,
     "tableResultSettingsMap": {},
     "title": ""
    }
   },
   "source": [
    "#2. Initial Run"
   ]
  },
  {
   "cell_type": "markdown",
   "metadata": {
    "application/vnd.databricks.v1+cell": {
     "cellMetadata": {
      "byteLimit": 2048000,
      "rowLimit": 10000
     },
     "inputWidgets": {},
     "nuid": "33bedbfc-3c55-458b-9024-9523dec9d858",
     "showTitle": false,
     "tableResultSettingsMap": {},
     "title": ""
    }
   },
   "source": [
    "##2.1 Subsurface Model Parameters"
   ]
  },
  {
   "cell_type": "markdown",
   "metadata": {
    "application/vnd.databricks.v1+cell": {
     "cellMetadata": {
      "byteLimit": 2048000,
      "rowLimit": 10000
     },
     "inputWidgets": {},
     "nuid": "8c1e59e0-8d99-4372-9269-dafe823c3521",
     "showTitle": false,
     "tableResultSettingsMap": {},
     "title": ""
    }
   },
   "source": [
    "###Inputs:"
   ]
  },
  {
   "cell_type": "code",
   "execution_count": 0,
   "metadata": {
    "application/vnd.databricks.v1+cell": {
     "cellMetadata": {
      "byteLimit": 2048000,
      "rowLimit": 10000
     },
     "inputWidgets": {},
     "nuid": "fa86e866-ce36-4367-b2f6-cd78fcc54b4e",
     "showTitle": true,
     "tableResultSettingsMap": {},
     "title": "Depth Interval (Deep/Shallow)"
    }
   },
   "outputs": [],
   "source": [
    "# Binary deep/shallow parameter\n",
    "deepOrShallow='Deep'\n",
    "# Depth from surface (ft)\n",
    "# Distinguishes deep/shallow where we don't have a horizon \n",
    "depthCutoff=8000."
   ]
  },
  {
   "cell_type": "code",
   "execution_count": 0,
   "metadata": {
    "application/vnd.databricks.v1+cell": {
     "cellMetadata": {
      "byteLimit": 2048000,
      "rowLimit": 10000
     },
     "inputWidgets": {},
     "nuid": "5eac1e6f-a489-46ea-9e08-aaa35509f3fe",
     "showTitle": true,
     "tableResultSettingsMap": {},
     "title": "Monte-Carlo Parameters"
    }
   },
   "outputs": [],
   "source": [
    "nRealizations=500"
   ]
  },
  {
   "cell_type": "code",
   "execution_count": 0,
   "metadata": {
    "application/vnd.databricks.v1+cell": {
     "cellMetadata": {
      "byteLimit": 2048000,
      "rowLimit": 10000
     },
     "inputWidgets": {},
     "nuid": "a92b5ecc-ee98-4077-8e0b-c95a42deea53",
     "showTitle": true,
     "tableResultSettingsMap": {},
     "title": "Fluid Properties"
    }
   },
   "outputs": [],
   "source": [
    "# Water density minimum/maximum (kg/m3)\n",
    "WaterDensityMin=1015.\n",
    "WaterDensityMax=1025.\n",
    "# Water viscosity minimum/maximum (Pa.s)\n",
    "WaterViscosityMin=0.000799\n",
    "WaterViscosityMax=0.000801\n",
    "# Fluid Compressibility minimum/maximum (1/Pa)\n",
    "FluidCompressibilityMin=0.000000000359\n",
    "FluidCompressibilityMax=0.000000000361"
   ]
  },
  {
   "cell_type": "code",
   "execution_count": 0,
   "metadata": {
    "application/vnd.databricks.v1+cell": {
     "cellMetadata": {
      "byteLimit": 2048000,
      "rowLimit": 10000
     },
     "inputWidgets": {},
     "nuid": "d58e0474-d42e-49be-94ae-633087760772",
     "showTitle": true,
     "tableResultSettingsMap": {},
     "title": "Depth Interval Properties"
    }
   },
   "outputs": [],
   "source": [
    "# Porosity in percent\n",
    "PorosityPercentMin=3.\n",
    "PorosityPercentMax=15.\n",
    "\n",
    "# Permeability in millidarcies\n",
    "PermMDMin=5.\n",
    "PermMDMax=500.\n",
    "\n",
    "# Thickness in feet\n",
    "ThicknessFTMin=200.\n",
    "ThicknessFTMax=2000.\n",
    "\n",
    "# Vertical compressibility minimum/maximum (1/Pa)\n",
    "VerticalCompressibilityMin=0.00000000107\n",
    "VerticalCompressibilityMax=0.00000000109"
   ]
  },
  {
   "cell_type": "code",
   "execution_count": 0,
   "metadata": {
    "application/vnd.databricks.v1+cell": {
     "cellMetadata": {
      "byteLimit": 2048000,
      "rowLimit": 10000
     },
     "inputWidgets": {},
     "nuid": "17c599c7-20e2-4a5f-9e30-737f6b236831",
     "showTitle": true,
     "tableResultSettingsMap": {},
     "title": "Well Contribution Filtering Parameters"
    }
   },
   "outputs": [],
   "source": [
    "# Verbosity - 0=silent, 1=some, 2=lots\n",
    "verb=0\n",
    "# Minimum Pressure change to care about in PSI\n",
    "dPCutoff=0.5\n",
    "# Maximum Number of wells to plot\n",
    "nWells=50\n",
    "# How far back in time to plot in years\n",
    "minYear=-40"
   ]
  },
  {
   "cell_type": "markdown",
   "metadata": {
    "application/vnd.databricks.v1+cell": {
     "cellMetadata": {
      "byteLimit": 2048000,
      "rowLimit": 10000
     },
     "inputWidgets": {},
     "nuid": "9237e4af-4e41-491b-add8-8b182193f2e7",
     "showTitle": false,
     "tableResultSettingsMap": {},
     "title": ""
    }
   },
   "source": [
    "### Set Interval-Specific Paths...\n"
   ]
  },
  {
   "cell_type": "code",
   "execution_count": 0,
   "metadata": {
    "application/vnd.databricks.v1+cell": {
     "cellMetadata": {
      "byteLimit": 2048000,
      "rowLimit": 10000
     },
     "inputWidgets": {},
     "nuid": "1ad711f6-8be1-4dfe-80dd-e64126d0aadc",
     "showTitle": true,
     "tableResultSettingsMap": {},
     "title": "Create Subdirectory for Interval in EQ Directory"
    }
   },
   "outputs": [],
   "source": [
    "# Set an output directory for this earthquake and this interval\n",
    "runIntervalPath=runPath+deepOrShallow+'/'\n",
    "initialRunIntervalPath=runIntervalPath+'initialRun/'\n",
    "updatedRunIntervalPath=runIntervalPath+'udpatedRun/'\n",
    "forecastRunIntervalPath=runIntervalPath+'forecastRun/'\n",
    "disposalPath=runIntervalPath+'updatedDisposal/'\n",
    "# Make directory if it doesn't exist\n",
    "os.makedirs(runIntervalPath, exist_ok=True)\n",
    "os.makedirs(initialRunIntervalPath, exist_ok=True)\n",
    "os.makedirs(updatedRunIntervalPath, exist_ok=True)\n",
    "os.makedirs(forecastRunIntervalPath, exist_ok=True)\n",
    "os.makedirs(disposalPath, exist_ok=True)\n",
    "os.makedirs(initialRunIntervalPath+'perWell', exist_ok=True)\n",
    "os.makedirs(updatedRunIntervalPath+'perWell', exist_ok=True)\n",
    "os.makedirs(forecastRunIntervalPath+'perWell', exist_ok=True)\n",
    "################################################\n",
    "# Output prefix for realizations of parameters #\n",
    "################################################\n",
    "RealizationPrefix=runIntervalPath+'MC'"
   ]
  },
  {
   "cell_type": "code",
   "execution_count": 0,
   "metadata": {
    "application/vnd.databricks.v1+cell": {
     "cellMetadata": {
      "byteLimit": 2048000,
      "rowLimit": 10000
     },
     "inputWidgets": {},
     "nuid": "7b3f2312-434f-4dc7-a7d1-dc7a2717a900",
     "showTitle": true,
     "tableResultSettingsMap": {},
     "title": "Point to disposal data for the chosen interval"
    }
   },
   "outputs": [],
   "source": [
    "# Point to appropriate well and injection files from initial database\n",
    "if deepOrShallow=='Deep':\n",
    "  WellFile=injPath+'/deep.csv'\n",
    "  InjFile=injPath+'/deepReg.csv'\n",
    "elif deepOrShallow=='Shallow':\n",
    "  WellFile=injPath+'/shallow.csv'\n",
    "  InjFile=injPath+'/shallowReg.csv'"
   ]
  },
  {
   "cell_type": "code",
   "execution_count": 0,
   "metadata": {
    "application/vnd.databricks.v1+cell": {
     "cellMetadata": {
      "byteLimit": 2048000,
      "rowLimit": 10000
     },
     "inputWidgets": {},
     "nuid": "16de396c-1e22-448a-bab6-c19d33b922b9",
     "showTitle": true,
     "tableResultSettingsMap": {},
     "title": "Poroelastic Parameters - Future Use"
    }
   },
   "outputs": [],
   "source": [
    "# Oversampling of time axis (poroelastic-only)\n",
    "nTimeBins=21\n",
    "# Poroelastic parameters - for in-zone poroelasticity in v2\n",
    "ShearModulusMin=4e9\n",
    "ShearModulusMax=6e9\n",
    "PoissonsRatioDrainedMin=0.295\n",
    "PoissonsRatioDrainedMax=0.305\n",
    "PoissonsRatioUndrainedMin=0.305\n",
    "PoissonsRatioUndrainedMax=0.315\n",
    "BiotsCoefficientMin=0.26\n",
    "BiotsCoefficientMax=0.36\n",
    "# Fault parameters (poroelastic-only)\n",
    "FaultFrictionCoeffMin=0.55\n",
    "FaultFrictionCoeffMax=0.65\n",
    "RockFrictionCoeffMin=0.55\n",
    "RockFrictionCoeffMax=0.65"
   ]
  },
  {
   "cell_type": "markdown",
   "metadata": {
    "application/vnd.databricks.v1+cell": {
     "cellMetadata": {
      "byteLimit": 2048000,
      "rowLimit": 10000
     },
     "inputWidgets": {},
     "nuid": "61b8015e-aa08-4602-a74d-7e156b85d725",
     "showTitle": false,
     "tableResultSettingsMap": {},
     "title": ""
    }
   },
   "source": [
    "##2.2 Results"
   ]
  },
  {
   "cell_type": "markdown",
   "metadata": {
    "application/vnd.databricks.v1+cell": {
     "cellMetadata": {
      "byteLimit": 2048000,
      "rowLimit": 10000
     },
     "inputWidgets": {},
     "nuid": "b9911a2e-abbe-48fa-beb3-db4bc2a8727a",
     "showTitle": false,
     "tableResultSettingsMap": {},
     "title": ""
    }
   },
   "source": [
    "###Compute"
   ]
  },
  {
   "cell_type": "code",
   "execution_count": 0,
   "metadata": {
    "application/vnd.databricks.v1+cell": {
     "cellMetadata": {
      "byteLimit": 2048000,
      "rowLimit": 10000
     },
     "inputWidgets": {},
     "nuid": "d6dead15-ae34-43e1-8795-831b0532c24a",
     "showTitle": true,
     "tableResultSettingsMap": {},
     "title": "Initialize GIST"
    }
   },
   "outputs": [],
   "source": [
    "gist=gi.gistMC(nReal=nRealizations,\n",
    "                ntBin=nTimeBins)\n",
    "gist.initPP(rho0_min=WaterDensityMin,\n",
    "             rho0_max=WaterDensityMax,\n",
    "             phi_min=PorosityPercentMin,\n",
    "             phi_max=PorosityPercentMax,\n",
    "             kMD_min=PermMDMin,\n",
    "             kMD_max=PermMDMax,\n",
    "             h_min=ThicknessFTMin,\n",
    "             h_max=ThicknessFTMax,\n",
    "             alphav_min=VerticalCompressibilityMin,\n",
    "             alphav_max=VerticalCompressibilityMax,\n",
    "             beta_min=FluidCompressibilityMin,\n",
    "             beta_max=FluidCompressibilityMax)"
   ]
  },
  {
   "cell_type": "code",
   "execution_count": 0,
   "metadata": {
    "application/vnd.databricks.v1+cell": {
     "cellMetadata": {
      "byteLimit": 2048000,
      "rowLimit": 10000
     },
     "inputWidgets": {},
     "nuid": "c61650ff-760c-4493-a9e7-3ad67488dd8d",
     "showTitle": true,
     "tableResultSettingsMap": {},
     "title": "Add Wells to GIST"
    }
   },
   "outputs": [],
   "source": [
    "gist.addWells(WellFile,InjFile,verbose=verb)\n",
    "if verb>0:\n",
    "  gist.wellDF.info()\n",
    "  EQDF.info()"
   ]
  },
  {
   "cell_type": "code",
   "execution_count": 0,
   "metadata": {
    "application/vnd.databricks.v1+cell": {
     "cellMetadata": {
      "byteLimit": 2048000,
      "rowLimit": 10000
     },
     "inputWidgets": {},
     "nuid": "216af07b-6ac8-453c-aac3-2cf6fdf8d2c6",
     "showTitle": true,
     "tableResultSettingsMap": {},
     "title": "Select Wells To Analyze"
    }
   },
   "outputs": [],
   "source": [
    "selectedWellsDF,ignoredWellsDF,injDF=gist.findWells(eq,PE=False,verbose=verb)"
   ]
  },
  {
   "cell_type": "code",
   "execution_count": 0,
   "metadata": {
    "application/vnd.databricks.v1+cell": {
     "cellMetadata": {
      "byteLimit": 2048000,
      "rowLimit": 10000
     },
     "inputWidgets": {},
     "nuid": "9bc68774-2a3e-4964-a170-d95d30a103ad",
     "showTitle": true,
     "tableResultSettingsMap": {},
     "title": "Compute Pressure Realizations at Event Time"
    }
   },
   "outputs": [],
   "source": [
    "scenarioDF=gist.runPressureScenarios(eq,selectedWellsDF,injDF,verbose=verb)"
   ]
  },
  {
   "cell_type": "code",
   "execution_count": 0,
   "metadata": {
    "application/vnd.databricks.v1+cell": {
     "cellMetadata": {
      "byteLimit": 2048000,
      "rowLimit": 10000
     },
     "inputWidgets": {},
     "nuid": "33770d73-6562-4c5c-b4fa-e96d27c00250",
     "showTitle": true,
     "tableResultSettingsMap": {},
     "title": "Filter Negligible Wells at EQ Time"
    }
   },
   "outputs": [],
   "source": [
    "filteredDF,orderedWellList=gi.summarizePPResults(scenarioDF,selectedWellsDF,threshold=dPCutoff,nOrder=nWells,verbose=verb)"
   ]
  },
  {
   "cell_type": "code",
   "execution_count": 0,
   "metadata": {
    "application/vnd.databricks.v1+cell": {
     "cellMetadata": {
      "byteLimit": 2048000,
      "rowLimit": 10000
     },
     "inputWidgets": {},
     "nuid": "4edbea65-b930-4dd3-b18b-37ebd8f78b8e",
     "showTitle": true,
     "tableResultSettingsMap": {},
     "title": "Generate results for disaggregation plot"
    }
   },
   "outputs": [],
   "source": [
    "disaggregationDF=gi.prepDisaggregationPlot(filteredDF,orderedWellList,jitter=0.1,verbose=0)"
   ]
  },
  {
   "cell_type": "code",
   "execution_count": 0,
   "metadata": {
    "application/vnd.databricks.v1+cell": {
     "cellMetadata": {
      "byteLimit": 2048000,
      "rowLimit": 10000
     },
     "inputWidgets": {},
     "nuid": "2f954928-3373-475d-9584-c75b31b62e95",
     "showTitle": true,
     "tableResultSettingsMap": {},
     "title": "Generate Results For R-MinusT Plot"
    }
   },
   "outputs": [],
   "source": [
    "diffRange=(min(gist.diffPPVec),max(gist.diffPPVec))\n",
    "rtDF,mergedWellsDF = gi.prepRTPlot(selectedWellsDF,ignoredWellsDF,minYear,diffRange,clipYear=False)"
   ]
  },
  {
   "cell_type": "code",
   "execution_count": 0,
   "metadata": {
    "application/vnd.databricks.v1+cell": {
     "cellMetadata": {
      "byteLimit": 2048000,
      "rowLimit": 10000
     },
     "inputWidgets": {},
     "nuid": "2419da03-31b9-4965-af0c-272e4ca4e537",
     "showTitle": true,
     "tableResultSettingsMap": {},
     "title": "Isolate nonnegligible wells and disposal data"
    }
   },
   "outputs": [],
   "source": [
    "winWellsDF,winInjDF=gi.getWinWells(filteredDF,selectedWellsDF,injDF)"
   ]
  },
  {
   "cell_type": "code",
   "execution_count": 0,
   "metadata": {
    "application/vnd.databricks.v1+cell": {
     "cellMetadata": {
      "byteLimit": 2048000,
      "rowLimit": 10000
     },
     "inputWidgets": {},
     "nuid": "1ac46fcf-0060-4679-9285-3e807fa9abd8",
     "showTitle": false,
     "tableResultSettingsMap": {},
     "title": ""
    }
   },
   "outputs": [],
   "source": [
    "\n",
    "scenarioTSRDF,dPTimeSeriesR,wellIDsR,dayVecR = gist.runPressureScenariosTimeSeries(eq,winWellsDF,winInjDF,verbose=verb)"
   ]
  },
  {
   "cell_type": "code",
   "execution_count": 0,
   "metadata": {
    "application/vnd.databricks.v1+cell": {
     "cellMetadata": {
      "byteLimit": 2048000,
      "rowLimit": 10000
     },
     "inputWidgets": {},
     "nuid": "7651d8c1-bcf2-418b-92fa-6a549ec3886b",
     "showTitle": true,
     "tableResultSettingsMap": {},
     "title": "Generate results for total time series plot"
    }
   },
   "outputs": [
    {
     "output_type": "stream",
     "name": "stdout",
     "output_type": "stream",
     "text": [
      "prepTotalPressureTimeSeriesPlot: deltaPP.shape= (39, 500, 1469)  dayVec.shape= (1469,)\nprepTotalPressureTimeSeriesPlot: totalDeltaPP.shape= (500, 1469)\nprepTotalPressureTimeSeriesPlot: quantiles: [0.0, 10.0, 20.0, 30.1, 40.1, 50.1, 59.9, 69.9, 80.0, 90.0, 100.0]\nprepTotalPressureTimeSeriesSpaghettiPlot: deltaPP.shape= (39, 500, 1469)  dayVec.shape= (1469,)\nprepTotalPressureTimeSeriesSpaghettiPlot: totalDeltaPP.shape= (500, 1469)\n        DeltaPressure     Days  Realization  Percentile  Ordering       Date\n0            0.000000   5450.0            0         0.0       0.0 1984-12-03\n1            0.000000   5460.0            0         0.0       0.0 1984-12-13\n2            0.000000   5470.0            0         0.0       0.0 1984-12-23\n3            0.000000   5480.0            0         0.0       0.0 1985-01-02\n4            0.000000   5490.0            0         0.0       0.0 1985-01-12\n...               ...      ...          ...         ...       ...        ...\n733601       0.224215  11150.0          499        20.0     100.0 2000-07-12\n733602       0.224149  11160.0          499        20.0     100.0 2000-07-22\n733994       0.305871  15080.0          499        20.0     100.0 2011-04-16\n734315       1.974447  18290.0          499        30.1     150.0 2020-01-29\n734330       2.821332  18440.0          499        20.0     100.0 2020-06-27\n\n[16159 rows x 6 columns]\n"
     ]
    }
   ],
   "source": [
    "totalPPQuantilesDF=gi.prepTotalPressureTimeSeriesPlot(dPTimeSeriesR,dayVecR,nQuantiles=11,epoch=pd.to_datetime('1970-01-01'),verbose=1)\n",
    "totalPPSpaghettiDF=gi.prepTotalPressureTimeSeriesSpaghettiPlot(dPTimeSeriesR,dayVecR,gist.diffPPVec,epoch=pd.to_datetime('1970-01-01'),verbose=1)\n",
    "print(totalPPQuantilesDF)"
   ]
  },
  {
   "cell_type": "code",
   "execution_count": 0,
   "metadata": {
    "application/vnd.databricks.v1+cell": {
     "cellMetadata": {
      "byteLimit": 2048000,
      "rowLimit": 10000
     },
     "inputWidgets": {},
     "nuid": "2c7f1e91-61f1-4c15-bb6e-a029dbf09805",
     "showTitle": true,
     "tableResultSettingsMap": {},
     "title": "Generate results for per-well time series plot"
    }
   },
   "outputs": [],
   "source": [
    "allPPQuantilesDF,allPPSpaghettiDF=gi.getPerWellPressureTimeSeriesSpaghettiAndQuantiles(dPTimeSeriesR,dayVecR,gist.diffPPVec,wellIDsR,nQuantiles=11,epoch=pd.to_datetime('01-01-1970'))"
   ]
  },
  {
   "cell_type": "code",
   "execution_count": 0,
   "metadata": {
    "application/vnd.databricks.v1+cell": {
     "cellMetadata": {
      "byteLimit": 2048000,
      "rowLimit": 10000
     },
     "inputWidgets": {},
     "nuid": "ea61b2f3-d4bb-44d1-859e-65f602850d2f",
     "showTitle": false,
     "tableResultSettingsMap": {},
     "title": ""
    }
   },
   "outputs": [],
   "source": [
    "\n",
    "wellPressureDict=gi.prepPressureAndDisposalTimeSeriesPlots(allPPQuantilesDF,allPPSpaghettiDF,winWellsDF,winInjDF,orderedWellList[:-1],verbose=0)"
   ]
  },
  {
   "cell_type": "code",
   "execution_count": 0,
   "metadata": {
    "application/vnd.databricks.v1+cell": {
     "cellMetadata": {
      "byteLimit": 2048000,
      "rowLimit": 10000
     },
     "inputWidgets": {},
     "nuid": "c1d96fa9-a258-4a22-891a-f77277dc69cd",
     "showTitle": true,
     "tableResultSettingsMap": {},
     "title": "Sensitivity Test"
    }
   },
   "outputs": [
    {
     "output_type": "stream",
     "name": "stdout",
     "output_type": "stream",
     "text": [
      "getPressureSensitivity: ntaS min/max:  0.0009 0.0011\ngetPressureSensitivity: phiS min/max:  3.0 15.0\ngetPressureSensitivity: hMS min/max:  60.96 609.6\ngetPressureSensitivity: alphavS min/max:  1.07e-09 1.08e-09\ngetPressureSensitivity: betaS min/max:  3.59e-10 3.61e-10\ngetPressureSensitivity: kMDS min/max:  5.0 500.0\ngetPressureSensitivity: SS:  [[0.00371367]\n [0.00373197]\n [0.00375026]\n [0.00373197]\n [0.00373197]\n [0.00373197]\n [0.0036595 ]\n [0.00373197]\n [0.00380443]\n [0.00067854]\n [0.00373197]\n [0.00678539]\n [0.00369842]\n [0.00373197]\n [0.00373197]\n [0.00373167]\n [0.00373197]\n [0.00373227]\n [0.00373197]\n [0.00373197]\n [0.00373197]]\ngetPressureSensitivity: TS:  [[8.34524852e-04]\n [8.38635812e-04]\n [8.42746772e-04]\n [9.31817569e-04]\n [8.38635812e-04]\n [7.62396193e-04]\n [8.38635812e-04]\n [8.38635812e-04]\n [8.38635812e-04]\n [1.52479239e-04]\n [8.38635812e-04]\n [1.52479239e-03]\n [8.38635812e-04]\n [8.38635812e-04]\n [8.38635812e-04]\n [8.38635812e-04]\n [8.38635812e-04]\n [8.38635812e-04]\n [1.66066497e-05]\n [8.38635812e-04]\n [1.66066497e-03]]\ngetPressureSensitivity: rhoS:  [[1015.]\n [1020.]\n [1025.]\n [1020.]\n [1020.]\n [1020.]\n [1020.]\n [1020.]\n [1020.]\n [1020.]\n [1020.]\n [1020.]\n [1020.]\n [1020.]\n [1020.]\n [1020.]\n [1020.]\n [1020.]\n [1020.]\n [1020.]\n [1020.]]\n gistMC.runPressureScenarios: Number of wells considered:  39\n gistMC.pressureScenario: well  0  of  39 :  2081279\n gistMC.pressureScenario: well  10  of  39 :  2120859\n gistMC.pressureScenario: well  20  of  39 :  2118517\n gistMC.pressureScenario: well  30  of  39 :  2110718\n gistMC.pressureScenario: scenario  1  of  21 : Max P: 4.766325112215248\n gistMC.pressureScenario: scenario  2  of  21 : Max P: 4.7663251122152515\n gistMC.pressureScenario: scenario  3  of  21 : Max P: 4.766325112215253\n gistMC.pressureScenario: scenario  4  of  21 : Max P: 4.421498503481721\n gistMC.pressureScenario: scenario  5  of  21 : Max P: 4.7663251122152515\n gistMC.pressureScenario: scenario  6  of  21 : Max P: 5.096628249857349\n gistMC.pressureScenario: scenario  7  of  21 : Max P: 4.79362846902437\n gistMC.pressureScenario: scenario  8  of  21 : Max P: 4.7663251122152515\n gistMC.pressureScenario: scenario  9  of  21 : Max P: 4.739525529496115\n gistMC.pressureScenario: scenario  10  of  21 : Max P: 26.214788117183872\n gistMC.pressureScenario: scenario  11  of  21 : Max P: 4.7663251122152515\n gistMC.pressureScenario: scenario  12  of  21 : Max P: 2.6214788117183887\n gistMC.pressureScenario: scenario  13  of  21 : Max P: 4.778901755316866\n gistMC.pressureScenario: scenario  14  of  21 : Max P: 4.7663251122152515\n gistMC.pressureScenario: scenario  15  of  21 : Max P: 4.7663251122152515\n gistMC.pressureScenario: scenario  16  of  21 : Max P: 4.7664378176905995\n gistMC.pressureScenario: scenario  17  of  21 : Max P: 4.7663251122152515\n gistMC.pressureScenario: scenario  18  of  21 : Max P: 4.766212415484382\n gistMC.pressureScenario: scenario  19  of  21 : Max P: 4.365853818062159\n gistMC.pressureScenario: scenario  20  of  21 : Max P: 4.7663251122152515\n gistMC.pressureScenario: scenario  21  of  21 : Max P: 2.88122933217788\ngetPressureSensitivity: per-well pressures:  1.0429420875692712e-98 26.214788117183872\ngetPressureSensitivity: total pressures:  4.367236818154671 75.1428806053708\n          EventID  EventLatitude  ...                 Parameter  MedianPressure\n3  texnet2024oqfb      32.144165  ...        Interval Thickness       13.662342\n0  texnet2024oqfb      32.144165  ...                   Density       13.662342\n6  texnet2024oqfb      32.144165  ...              Permeability       13.662342\n2  texnet2024oqfb      32.144165  ...                  Porosity       13.662342\n1  texnet2024oqfb      32.144165  ...                 Viscosity       13.662342\n4  texnet2024oqfb      32.144165  ...  Vertical Compressibility       13.662342\n5  texnet2024oqfb      32.144165  ...     Fluid Compressibility       13.662342\n\n[7 rows x 11 columns]\n"
     ]
    }
   ],
   "source": [
    "# Calculate sensitivities to different parameters\n",
    "sensitivityDF,sensitivitySumDF = gist.getPressureSensitivity(winInjDF,winWellsDF,eq,verbose=2)\n",
    "# I'm not getting negative pressures anymore\n",
    "print(sensitivitySumDF)"
   ]
  },
  {
   "cell_type": "code",
   "execution_count": 0,
   "metadata": {
    "application/vnd.databricks.v1+cell": {
     "cellMetadata": {
      "byteLimit": 2048000,
      "rowLimit": 10000
     },
     "inputWidgets": {},
     "nuid": "19413b4b-7700-40f4-8c46-be35576c8686",
     "showTitle": true,
     "tableResultSettingsMap": {},
     "title": "Get Default rates"
    }
   },
   "outputs": [
    {
     "output_type": "stream",
     "name": "stdout",
     "output_type": "stream",
     "text": [
      "SeismicEventId                                      2481836\nDataSource                        TexNet Earthquake Catalog\nDataSourceUrl                                          None\nEventID                                      texnet2024oqfb\nEventTimeUtc                            2024-07-27 02:11:07\nEventTimeInLocalTimeZone               2024-07-26T21:11:07Z\nEventTimeZone                                           CST\nEventType                                        Earthquake\nDepthKm                                            8.837891\nDepthErrorKm                                       0.636678\nMagnitude                                           1.64016\nMagnitudeError                                          NaN\nMagnitudeType                                    ml(texnet)\nLocation                                      Western Texas\nStatus                                                final\nLatitude                                          32.144165\nLatitudeError                                      0.176637\nLongitude                                       -101.805214\nLongitudeError                                     0.180822\nUpdatedDateUtc                          2024-07-29 16:55:51\nStationCount                                             31\nRMS                                                0.092708\nRMS_p                                                  None\nRMS_s                                                  None\nFocalMechanismAzimuthalGap                              NaN\nCounty                                          Martin (TX)\nState                                                 Texas\nDuplicateSetId                                        26972\nRankWithinDuplicateSet                                    1\nB3RecordAddedUTCDateTime                2024-07-29 17:10:37\nB3RecordUpdatedUTCDateTime              2025-02-01 09:02:00\nB3RecordDeletedUTCDateTime                              NaT\nOrigin Date                                      2024-07-27\nOrigin Time                                        02:11:07\ngeometry                      POINT (-101.805214 32.144165)\nStrike                                                 80.0\nDip                                                    55.0\nRake                                                  -85.0\nName: 0, dtype: object SeismicEventId                                      2481836\nDataSource                        TexNet Earthquake Catalog\nDataSourceUrl                                          None\nEventID                                      texnet2024oqfb\nEventTimeUtc                            2024-07-27 02:11:07\nEventTimeInLocalTimeZone               2024-07-26T21:11:07Z\nEventTimeZone                                           CST\nEventType                                        Earthquake\nDepthKm                                            8.837891\nDepthErrorKm                                       0.636678\nMagnitude                                           1.64016\nMagnitudeError                                          NaN\nMagnitudeType                                    ml(texnet)\nLocation                                      Western Texas\nStatus                                                final\nLatitude                                          32.144165\nLatitudeError                                      0.176637\nLongitude                                       -101.805214\nLongitudeError                                     0.180822\nUpdatedDateUtc                          2024-07-29 16:55:51\nStationCount                                             31\nRMS                                                0.092708\nRMS_p                                                  None\nRMS_s                                                  None\nFocalMechanismAzimuthalGap                              NaN\nCounty                                          Martin (TX)\nState                                                 Texas\nDuplicateSetId                                        26972\nRankWithinDuplicateSet                                    1\nB3RecordAddedUTCDateTime                2024-07-29 17:10:37\nB3RecordUpdatedUTCDateTime              2025-02-01 09:02:00\nB3RecordDeletedUTCDateTime                              NaT\nOrigin Date                             2026-09-01 00:00:00\nOrigin Time                                        02:11:07\ngeometry                      POINT (-101.805214 32.144165)\nStrike                                                 80.0\nDip                                                    55.0\nRake                                                  -85.0\nName: 0, dtype: object\ngetTHdpdt0 time axis information - nt: 1469 ; ot: 5450.0 ; dt: 10.0  earthquake index:  1448\ngetTHdpdt0 nwC: 39\ngetTHdpdt0 bpdArray: (39, 1470) [0. 0. 0. 0. 0. 0. 0. 0. 0. 0. 0. 0. 0. 0. 0. 0. 0. 0. 0. 0. 0. 0. 0. 0.\n 0. 0. 0. 0. 0. 0. 0. 0. 0. 0. 0. 0. 0. 0. 0.] [0. 0. 0. 0. 0. 0. 0. 0. 0. 0. 0. 0. 0. 0. 0. 0. 0. 0. 0. 0. 0. 0. 0. 0.\n 0. 0. 0. 0. 0. 0. 0. 0. 0. 0. 0. 0. 0. 0. 0.]\ngetTHdpdt0 dQdtArray: (39, 1469) [-0.00320771  0.          0.          0.          0.          0.\n  0.          0.          0.          0.          0.          0.\n -0.00800236  0.         -0.00706757  0.          0.          0.\n  0.          0.          0.          0.          0.          0.\n  0.          0.          0.          0.          0.          0.\n  0.          0.          0.         -0.00275872  0.          0.\n  0.          0.         -0.01591933] [0. 0. 0. 0. 0. 0. 0. 0. 0. 0. 0. 0. 0. 0. 0. 0. 0. 0. 0. 0. 0. 0. 0. 0.\n 0. 0. 0. 0. 0. 0. 0. 0. 0. 0. 0. 0. 0. 0. 0.]\ngetTHdpdt0 durations min/max:  67046400.0 1335398400.0\ngetTHdpdt0 durations shape:  (1469,)\ngetTHdPdT0 OneOver4piKappaH min/max:  287398219.6924343 76627175726.05186\ngetTHdPdT0 OneOver4piKappaH shape:  (500,)\ngetTHdPdT0 dQdtOverDurations min/max:  -7.513790179268909e-10 5.614781028607299e-10\ngetTHdPdT0 dQdtOverDurations shape:  (39, 1469)\ngetTHdPdT0 multiplier min/max:  -57.576052043552146 43.024481254239376\ngetTHdPdT0 multiplier shape:  (39, 500, 1469)\ngetTHdPdT0 r2 min/max:  6544256.262167588 2910336838.7003503\ngetTHdPdT0 r2 shape:  (39,)\ngetTHdPdT0 FourDs min/max:  0.02120796833284489 1.9055566635472156\ngetTHdPdT0 FourDs shape:  (500,)\ngetTHdPdT0 FourDDurations min/max:  1421917.9280312518 2544677319.61029\ngetTHdPdT0 FourDDurations shape:  (1, 500, 1469)\ngetTHdPdT0 exponent min/max:  -2046.7685098604265 -0.0025717430700289423\ngetTHdPdT0 exponent shape:  (39, 500, 1469)\ngetTHdPdT0 dpdtExpanded min/max:  -2.951133992596593 3.2222887519475085\ngetTHdPdT0 dpdtExpanded shape:  (39, 500, 1469)\ngetTHdPdT0 FourDFuture min/max:  1403594.2433916738 126114313.32954724\ngetTHdPdT0 FourDFuture shape:  (39, 500)\ngetTHdPdT0 exponent2 min/max:  -2073.4887253938523 -0.05189146330335161\ngetTHdPdT0 exponent2 shape:  (39, 500)\ngetTHdPdT0 expTerm min/max:  0.0 0.9494319094539808\ngetTHdPdT0 expTerm shape:  (39, 500)\ngetTHdPdT0 futureInjSec:  66182400\ngetTHdPdT0 zeroTerm min/max:  -1.19280317067385e-08 1.3966927936255442e-08\ngetTHdPdT0 zeroTerm shape:  (39, 500)\ngetTHdPdT0 dpdt min/max:  -1.559705238541199 0.9369720715833418\ngetTHdPdT0 dpdt shape:  (39, 500)\ngetTHdPdT0 Q_new min/max:  -14.637907731526159 inf\ngetTHdPdT0 Q_new shape:  (39, 500)\ngetTHdPdT0 Q_new thresholded min/max:  -14.637907731526159 50000.0\ngetTHdPdT0 Q_new thresholded shape:  (39, 500)\n"
     ]
    },
    {
     "output_type": "stream",
     "name": "stderr",
     "output_type": "stream",
     "text": [
      "/Workspace/Users/bill.curry@exxonmobil.com/GIST/lib/gistMC.py:2058: RuntimeWarning: divide by zero encountered in divide\n  Q_new=(dpdt * futureInjSec / OneOver4piKappaH) / expTerm\n"
     ]
    }
   ],
   "source": [
    "futureEQ=eq.copy()\n",
    "futureEQ.loc['Origin Date']=pd.to_datetime('2026-9-1')\n",
    "print(eq,futureEQ)\n",
    "rateDF = gist.getTHdPdT0(winWellsDF,winInjDF,eq,futureEQ,2)"
   ]
  },
  {
   "cell_type": "markdown",
   "metadata": {
    "application/vnd.databricks.v1+cell": {
     "cellMetadata": {
      "byteLimit": 2048000,
      "rowLimit": 10000
     },
     "inputWidgets": {},
     "nuid": "e705ce0b-75fc-4cc7-94cc-b48bc90f2107",
     "showTitle": false,
     "tableResultSettingsMap": {},
     "title": ""
    }
   },
   "source": [
    "###Output"
   ]
  },
  {
   "cell_type": "code",
   "execution_count": 0,
   "metadata": {
    "application/vnd.databricks.v1+cell": {
     "cellMetadata": {
      "byteLimit": 2048000,
      "rowLimit": 10000
     },
     "inputWidgets": {},
     "nuid": "f84c0581-670d-449b-b8ef-e88afdd6a169",
     "showTitle": true,
     "tableResultSettingsMap": {},
     "title": "Pore Pressure Property Realizations"
    }
   },
   "outputs": [],
   "source": [
    "gist.writeRealizations(initialRunIntervalPath+'PorePressureRealizations.csv')"
   ]
  },
  {
   "cell_type": "code",
   "execution_count": 0,
   "metadata": {
    "application/vnd.databricks.v1+cell": {
     "cellMetadata": {
      "byteLimit": 2048000,
      "rowLimit": 10000
     },
     "inputWidgets": {},
     "nuid": "be6f6db8-3b75-4c34-a215-8fa5ab199639",
     "showTitle": true,
     "tableResultSettingsMap": {},
     "title": "Pore Pressure Scenarios"
    }
   },
   "outputs": [],
   "source": [
    "scenarioDF.to_csv(initialRunIntervalPath+'scenarios.csv')"
   ]
  },
  {
   "cell_type": "code",
   "execution_count": 0,
   "metadata": {
    "application/vnd.databricks.v1+cell": {
     "cellMetadata": {
      "byteLimit": 2048000,
      "rowLimit": 10000
     },
     "inputWidgets": {},
     "nuid": "f04371b7-ff00-4eaf-a3eb-b8239b52ce11",
     "showTitle": true,
     "tableResultSettingsMap": {},
     "title": "Summarized Pore Pressure Scenarios and Well Ordering"
    }
   },
   "outputs": [],
   "source": [
    "filteredDF.to_csv(initialRunIntervalPath+'filteredScenarios.csv')\n",
    "pd.Series(data=orderedWellList).to_csv(initialRunIntervalPath+'wellOrder.csv')"
   ]
  },
  {
   "cell_type": "code",
   "execution_count": 0,
   "metadata": {
    "application/vnd.databricks.v1+cell": {
     "cellMetadata": {
      "byteLimit": 2048000,
      "rowLimit": 10000
     },
     "inputWidgets": {},
     "nuid": "280fdbed-35d9-4a93-86ff-a162480540dd",
     "showTitle": true,
     "tableResultSettingsMap": {},
     "title": "Dataframes for R-T (Well selection) Plot"
    }
   },
   "outputs": [],
   "source": [
    "mergedWellsDF.to_csv(initialRunIntervalPath+'RTwells.csv')\n",
    "rtDF.to_csv(initialRunIntervalPath+'RTDF.csv')"
   ]
  },
  {
   "cell_type": "code",
   "execution_count": 0,
   "metadata": {
    "application/vnd.databricks.v1+cell": {
     "cellMetadata": {
      "byteLimit": 2048000,
      "rowLimit": 10000
     },
     "inputWidgets": {},
     "nuid": "b034629a-7154-42cd-8046-a1d83547b0d7",
     "showTitle": true,
     "tableResultSettingsMap": {},
     "title": "Dateframe for disaggregation plot"
    }
   },
   "outputs": [],
   "source": [
    "disaggregationDF.to_csv(initialRunIntervalPath+'disaggregation.csv')"
   ]
  },
  {
   "cell_type": "code",
   "execution_count": 0,
   "metadata": {
    "application/vnd.databricks.v1+cell": {
     "cellMetadata": {
      "byteLimit": 2048000,
      "rowLimit": 10000
     },
     "inputWidgets": {},
     "nuid": "0f62ad4c-5c5f-48ed-8814-ca34f1ed3b85",
     "showTitle": true,
     "tableResultSettingsMap": {},
     "title": "Dataframe for quantiles of pore pressure time series plot"
    }
   },
   "outputs": [],
   "source": [
    "totalPPQuantilesDF.to_csv(initialRunIntervalPath+'totalPPQuantiles.csv')\n",
    "totalPPSpaghettiDF.to_csv(initialRunIntervalPath+'totalPPSpaghetti.csv')"
   ]
  },
  {
   "cell_type": "code",
   "execution_count": 0,
   "metadata": {
    "application/vnd.databricks.v1+cell": {
     "cellMetadata": {
      "byteLimit": 2048000,
      "rowLimit": 10000
     },
     "inputWidgets": {},
     "nuid": "1f52e13c-adee-4281-90a3-e22e16aa19bc",
     "showTitle": false,
     "tableResultSettingsMap": {},
     "title": ""
    }
   },
   "outputs": [
    {
     "output_type": "stream",
     "name": "stdout",
     "output_type": "stream",
     "text": [
      "well 0 , ID: 2121094  completed\nwell 1 , ID: 2121271  completed\nwell 2 , ID: 2123938  completed\nwell 3 , ID: 2117885  completed\nwell 4 , ID: 2111946  completed\nwell 5 , ID: 2109094  completed\nwell 6 , ID: 2116501  completed\nwell 7 , ID: 2112288  completed\nwell 8 , ID: 2081404  completed\nwell 9 , ID: 2114817  completed\nwell 10 , ID: 2112104  completed\nwell 11 , ID: 2111358  completed\nwell 12 , ID: 2121191  completed\nwell 13 , ID: 2056720  completed\nwell 14 , ID: 2113898  completed\nwell 15 , ID: 2111690  completed\nwell 16 , ID: 2118993  completed\nwell 17 , ID: 2121195  completed\nwell 18 , ID: 2120454  completed\nwell 19 , ID: 2117633  completed\nwell 20 , ID: 2112172  completed\nwell 21 , ID: 2081279  completed\nwell 22 , ID: 2121203  completed\nwell 23 , ID: 2112058  completed\nwell 24 , ID: 2105036  completed\nwell 25 , ID: 2120859  completed\nwell 26 , ID: 2064982  completed\nwell 27 , ID: 2119049  completed\nwell 28 , ID: 2120980  completed\nwell 29 , ID: 2123953  completed\nwell 30 , ID: 2051824  completed\nwell 31 , ID: 2121715  completed\nwell 32 , ID: 2110718  completed\nwell 33 , ID: 2112198  completed\nwell 34 , ID: 2048738  completed\nwell 35 , ID: 2108688  completed\nwell 36 , ID: 2119358  completed\nwell 37 , ID: 2110592  completed\nwell 38 , ID: 2118517  completed\n"
     ]
    }
   ],
   "source": [
    "i=0\n",
    "for wellDictKey, wellDictValue in wellPressureDict.items():\n",
    "  wellID=wellDictValue['WellInfo']['ID'].to_list()[0]\n",
    "  wellFilePrefix='/perWell/well_'+str(i)+'_'\n",
    "  wellDictValue['PPQuantiles'].to_csv(initialRunIntervalPath+wellFilePrefix+'PPQuantiles.csv')\n",
    "  wellDictValue['Disposal'].to_csv(initialRunIntervalPath+wellFilePrefix+'Disposal.csv')\n",
    "  wellDictValue['Spaghetti'].to_csv(initialRunIntervalPath+wellFilePrefix+'Spaghetti.csv')\n",
    "  wellDictValue['WellInfo'].to_csv(initialRunIntervalPath+wellFilePrefix+'WellInfo.csv')\n",
    "  print('well',i,', ID:',wellID,' completed')\n",
    "  i=i+1"
   ]
  },
  {
   "cell_type": "code",
   "execution_count": 0,
   "metadata": {
    "application/vnd.databricks.v1+cell": {
     "cellMetadata": {
      "byteLimit": 2048000,
      "rowLimit": 10000
     },
     "inputWidgets": {},
     "nuid": "1a99eaf6-68f3-440b-a376-66254977d282",
     "showTitle": false,
     "tableResultSettingsMap": {},
     "title": ""
    }
   },
   "outputs": [],
   "source": [
    "scenarioTSRDF.to_csv(initialRunIntervalPath+'materialScenariosR.csv')\n",
    "np.savez_compressed(initialRunIntervalPath+'timeSeriesR.npz', deltaPP=dPTimeSeriesR,dayVec=dayVecR,wellIDs=wellIDsR)"
   ]
  },
  {
   "cell_type": "code",
   "execution_count": 0,
   "metadata": {
    "application/vnd.databricks.v1+cell": {
     "cellMetadata": {
      "byteLimit": 2048000,
      "rowLimit": 10000
     },
     "inputWidgets": {},
     "nuid": "a4cb7a9d-7ba5-4423-acf8-9c6415677cb1",
     "showTitle": true,
     "tableResultSettingsMap": {},
     "title": "Sensitivity"
    }
   },
   "outputs": [],
   "source": [
    "sensitivityDF.to_csv(initialRunIntervalPath+'sensitivity.csv')\n",
    "sensitivitySumDF.to_csv(initialRunIntervalPath+'sensitivitySum.csv')"
   ]
  },
  {
   "cell_type": "code",
   "execution_count": 0,
   "metadata": {
    "application/vnd.databricks.v1+cell": {
     "cellMetadata": {
      "byteLimit": 2048000,
      "rowLimit": 10000
     },
     "inputWidgets": {},
     "nuid": "146ca51a-fadf-44e9-ac4d-9f8d728634c9",
     "showTitle": false,
     "tableResultSettingsMap": {},
     "title": ""
    }
   },
   "outputs": [],
   "source": [
    "rateDF.to_csv(initialRunIntervalPath+'rates.csv')"
   ]
  },
  {
   "cell_type": "markdown",
   "metadata": {
    "application/vnd.databricks.v1+cell": {
     "cellMetadata": {
      "byteLimit": 2048000,
      "rowLimit": 10000
     },
     "inputWidgets": {},
     "nuid": "b4236692-cbfc-40d2-b8aa-b3d415ba491c",
     "showTitle": false,
     "tableResultSettingsMap": {},
     "title": ""
    }
   },
   "source": [
    "#3. Correct Data"
   ]
  },
  {
   "cell_type": "markdown",
   "metadata": {
    "application/vnd.databricks.v1+cell": {
     "cellMetadata": {
      "byteLimit": 2048000,
      "rowLimit": 10000
     },
     "inputWidgets": {},
     "nuid": "e1fb4fa0-ef2d-4067-9f96-2a9a1f17ecf7",
     "showTitle": false,
     "tableResultSettingsMap": {},
     "title": ""
    }
   },
   "source": [
    "##3.1 Export Disposal Data"
   ]
  },
  {
   "cell_type": "code",
   "execution_count": 0,
   "metadata": {
    "application/vnd.databricks.v1+cell": {
     "cellMetadata": {
      "byteLimit": 2048000,
      "rowLimit": 10000
     },
     "inputWidgets": {},
     "nuid": "b96fbede-0417-4874-aa86-5516e6acc7bd",
     "showTitle": false,
     "tableResultSettingsMap": {},
     "title": ""
    }
   },
   "outputs": [],
   "source": [
    "selectedWellsDF.to_csv(disposalPath+'selectedWells.csv')\n",
    "ignoredWellsDF.to_csv(disposalPath+'ignoredWells.csv')\n",
    "allWellsDF=pd.concat([selectedWellsDF,ignoredWellsDF])\n",
    "allWellsDF.to_csv(disposalPath+'allInZoneWells.csv')\n",
    "injDF.to_csv(disposalPath+'inj.csv')"
   ]
  },
  {
   "cell_type": "markdown",
   "metadata": {
    "application/vnd.databricks.v1+cell": {
     "cellMetadata": {
      "byteLimit": 2048000,
      "rowLimit": 10000
     },
     "inputWidgets": {},
     "nuid": "f35e0dd5-e4ea-4a7b-833a-77ea28f21e88",
     "showTitle": false,
     "tableResultSettingsMap": {},
     "title": ""
    }
   },
   "source": [
    "##3.2 Import Updated Disposal Data"
   ]
  },
  {
   "cell_type": "code",
   "execution_count": 0,
   "metadata": {
    "application/vnd.databricks.v1+cell": {
     "cellMetadata": {
      "byteLimit": 2048000,
      "rowLimit": 10000
     },
     "inputWidgets": {},
     "nuid": "f0ee5cb4-326f-49bd-ac16-cf403e40d6f6",
     "showTitle": false,
     "tableResultSettingsMap": {},
     "title": ""
    }
   },
   "outputs": [],
   "source": [
    "# I need to merge the updated disposal information with the prior stuff\n",
    "# Load updated injection file\n",
    "# Well comparisons\n",
    "# Get list of well IDs in the updated injection file\n",
    "# Get list of well IDs in updated well file\n",
    "# Check to see overlap in well IDs\n",
    "#    updated vs. prior selected wells\n",
    "#    updated vs. prior ignored wells\n",
    "# FilteredIgnored =  prior ignored wells - (wells in updated file and prior ignored wells)\n",
    "# Merge FilteredIgnored with with updated wells\n",
    "# Load injection\n",
    "#    Check for time sampling of injection - all wells must be the same\n",
    "#    Get overall time vector - convert to days\n",
    "#    Loop over wells in well file\n",
    "#      Get all disposal data for well ID\n",
    "#      Convert date values to days\n",
    "#      \n",
    "#mergedInjFile="
   ]
  }
 ],
 "metadata": {
  "application/vnd.databricks.v1+notebook": {
   "computePreferences": {
    "hardware": {
     "accelerator": null,
     "gpuPoolId": null,
     "memory": null
    }
   },
   "dashboards": [],
   "environmentMetadata": {
    "base_environment": "",
    "environment_version": "1"
   },
   "language": "python",
   "notebookMetadata": {
    "pythonIndentUnit": 2
   },
   "notebookName": "GIST_RunTemplate_texnet2024oqfb_deep_Steps1-2-3",
   "widgets": {}
  },
  "language_info": {
   "name": "python"
  }
 },
 "nbformat": 4,
 "nbformat_minor": 0
}