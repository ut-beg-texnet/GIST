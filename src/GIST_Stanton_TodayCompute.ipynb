{
 "cells": [
  {
   "cell_type": "markdown",
   "metadata": {
    "application/vnd.databricks.v1+cell": {
     "cellMetadata": {
      "byteLimit": 2048000,
      "rowLimit": 10000
     },
     "inputWidgets": {},
     "nuid": "c1abdb59-6473-4a9e-89dc-f7bf61a76f4b",
     "showTitle": false,
     "title": ""
    }
   },
   "source": [
    "# GIST Driver\n",
    "##Test on events of interest:\n",
    "    texnet2021zjsk with a duplicate with the date changed to whatever today is\n",
    "Assumes InjectionSQLScheduled completed"
   ]
  },
  {
   "cell_type": "markdown",
   "metadata": {
    "application/vnd.databricks.v1+cell": {
     "cellMetadata": {
      "byteLimit": 2048000,
      "rowLimit": 10000
     },
     "inputWidgets": {},
     "nuid": "83eacea1-ee6c-412e-86e8-eb0062d6a40c",
     "showTitle": false,
     "title": ""
    }
   },
   "source": [
    "#Configuration"
   ]
  },
  {
   "cell_type": "markdown",
   "metadata": {
    "application/vnd.databricks.v1+cell": {
     "cellMetadata": {
      "byteLimit": 2048000,
      "rowLimit": 10000
     },
     "inputWidgets": {},
     "nuid": "fe561de9-c0de-474b-af1b-e457ac846dbe",
     "showTitle": false,
     "title": ""
    }
   },
   "source": [
    "##Libraries"
   ]
  },
  {
   "cell_type": "code",
   "execution_count": 0,
   "metadata": {
    "application/vnd.databricks.v1+cell": {
     "cellMetadata": {
      "byteLimit": 2048000,
      "rowLimit": 10000
     },
     "inputWidgets": {},
     "nuid": "0e21e4dd-c64f-459b-9241-0cb74bf49524",
     "showTitle": false,
     "title": ""
    }
   },
   "outputs": [
    {
     "output_type": "stream",
     "name": "stdout",
     "output_type": "stream",
     "text": [
      "Collecting geopandas\r\n  Using cached geopandas-0.14.3-py3-none-any.whl (1.1 MB)\r\nRequirement already satisfied: pandas>=1.4.0 in /databricks/python3/lib/python3.9/site-packages (from geopandas) (1.4.2)\r\nCollecting fiona>=1.8.21\r\n  Using cached fiona-1.9.6-cp39-cp39-manylinux2014_x86_64.whl (15.7 MB)\r\nCollecting shapely>=1.8.0\r\n  Using cached shapely-2.0.3-cp39-cp39-manylinux_2_17_x86_64.manylinux2014_x86_64.whl (2.5 MB)\r\nRequirement already satisfied: packaging in /databricks/python3/lib/python3.9/site-packages (from geopandas) (21.3)\r\nCollecting pyproj>=3.3.0\r\n  Using cached pyproj-3.6.1-cp39-cp39-manylinux_2_17_x86_64.manylinux2014_x86_64.whl (8.3 MB)\r\nCollecting cligj>=0.5\r\n  Using cached cligj-0.7.2-py3-none-any.whl (7.1 kB)\r\nCollecting click-plugins>=1.0\r\n  Using cached click_plugins-1.1.1-py2.py3-none-any.whl (7.5 kB)\r\nRequirement already satisfied: attrs>=19.2.0 in /databricks/python3/lib/python3.9/site-packages (from fiona>=1.8.21->geopandas) (21.4.0)\r\nRequirement already satisfied: certifi in /databricks/python3/lib/python3.9/site-packages (from fiona>=1.8.21->geopandas) (2021.10.8)\r\nRequirement already satisfied: importlib-metadata in /local_disk0/.ephemeral_nfs/cluster_libraries/python/lib/python3.9/site-packages (from fiona>=1.8.21->geopandas) (7.1.0)\r\nRequirement already satisfied: click~=8.0 in /local_disk0/.ephemeral_nfs/cluster_libraries/python/lib/python3.9/site-packages (from fiona>=1.8.21->geopandas) (8.1.7)\r\nRequirement already satisfied: six in /databricks/python3/lib/python3.9/site-packages (from fiona>=1.8.21->geopandas) (1.16.0)\r\nRequirement already satisfied: python-dateutil>=2.8.1 in /databricks/python3/lib/python3.9/site-packages (from pandas>=1.4.0->geopandas) (2.8.2)\r\nRequirement already satisfied: pytz>=2020.1 in /databricks/python3/lib/python3.9/site-packages (from pandas>=1.4.0->geopandas) (2021.3)\r\nRequirement already satisfied: numpy>=1.18.5 in /databricks/python3/lib/python3.9/site-packages (from pandas>=1.4.0->geopandas) (1.21.5)\r\nRequirement already satisfied: zipp>=0.5 in /local_disk0/.ephemeral_nfs/cluster_libraries/python/lib/python3.9/site-packages (from importlib-metadata->fiona>=1.8.21->geopandas) (3.18.1)\r\nRequirement already satisfied: pyparsing!=3.0.5,>=2.0.2 in /databricks/python3/lib/python3.9/site-packages (from packaging->geopandas) (3.0.4)\r\nInstalling collected packages: cligj, click-plugins, shapely, pyproj, fiona, geopandas\r\nSuccessfully installed click-plugins-1.1.1 cligj-0.7.2 fiona-1.9.6 geopandas-0.14.3 pyproj-3.6.1 shapely-2.0.3\r\n\u001B[33mWARNING: You are using pip version 21.2.4; however, version 24.0 is available.\r\nYou should consider upgrading via the '/local_disk0/.ephemeral_nfs/envs/pythonEnv-7316a044-4353-4309-9d4b-32c8cf66240f/bin/python -m pip install --upgrade pip' command.\u001B[0m\r\nCollecting geodatasets\r\n  Using cached geodatasets-2023.12.0-py3-none-any.whl (19 kB)\r\nCollecting pooch\r\n  Using cached pooch-1.8.1-py3-none-any.whl (62 kB)\r\nRequirement already satisfied: packaging>=20.0 in /databricks/python3/lib/python3.9/site-packages (from pooch->geodatasets) (21.3)\r\nRequirement already satisfied: platformdirs>=2.5.0 in /usr/local/lib/python3.9/dist-packages (from pooch->geodatasets) (2.6.2)\r\nRequirement already satisfied: requests>=2.19.0 in /databricks/python3/lib/python3.9/site-packages (from pooch->geodatasets) (2.27.1)\r\nRequirement already satisfied: pyparsing!=3.0.5,>=2.0.2 in /databricks/python3/lib/python3.9/site-packages (from packaging>=20.0->pooch->geodatasets) (3.0.4)\r\nRequirement already satisfied: idna<4,>=2.5 in /databricks/python3/lib/python3.9/site-packages (from requests>=2.19.0->pooch->geodatasets) (3.3)\r\nRequirement already satisfied: charset-normalizer~=2.0.0 in /databricks/python3/lib/python3.9/site-packages (from requests>=2.19.0->pooch->geodatasets) (2.0.4)\r\nRequirement already satisfied: urllib3<1.27,>=1.21.1 in /databricks/python3/lib/python3.9/site-packages (from requests>=2.19.0->pooch->geodatasets) (1.26.9)\r\nRequirement already satisfied: certifi>=2017.4.17 in /databricks/python3/lib/python3.9/site-packages (from requests>=2.19.0->pooch->geodatasets) (2021.10.8)\r\nInstalling collected packages: pooch, geodatasets\r\nSuccessfully installed geodatasets-2023.12.0 pooch-1.8.1\r\n\u001B[33mWARNING: You are using pip version 21.2.4; however, version 24.0 is available.\r\nYou should consider upgrading via the '/local_disk0/.ephemeral_nfs/envs/pythonEnv-7316a044-4353-4309-9d4b-32c8cf66240f/bin/python -m pip install --upgrade pip' command.\u001B[0m\r\nCollecting contextily\r\n  Using cached contextily-1.6.0-py3-none-any.whl (17 kB)\r\nCollecting xyzservices\r\n  Using cached xyzservices-2024.4.0-py3-none-any.whl (81 kB)\r\nCollecting mercantile\r\n  Using cached mercantile-1.2.1-py3-none-any.whl (14 kB)\r\nRequirement already satisfied: pillow in /databricks/python3/lib/python3.9/site-packages (from contextily) (9.0.1)\r\nRequirement already satisfied: matplotlib in /databricks/python3/lib/python3.9/site-packages (from contextily) (3.5.1)\r\nCollecting rasterio\r\n  Using cached rasterio-1.3.9-cp39-cp39-manylinux2014_x86_64.whl (20.6 MB)\r\nRequirement already satisfied: joblib in /databricks/python3/lib/python3.9/site-packages (from contextily) (1.1.1)\r\nCollecting geopy\r\n  Using cached geopy-2.4.1-py3-none-any.whl (125 kB)\r\nRequirement already satisfied: requests in /databricks/python3/lib/python3.9/site-packages (from contextily) (2.27.1)\r\nCollecting geographiclib<3,>=1.52\r\n  Using cached geographiclib-2.0-py3-none-any.whl (40 kB)\r\nRequirement already satisfied: packaging>=20.0 in /databricks/python3/lib/python3.9/site-packages (from matplotlib->contextily) (21.3)\r\nRequirement already satisfied: python-dateutil>=2.7 in /databricks/python3/lib/python3.9/site-packages (from matplotlib->contextily) (2.8.2)\r\nRequirement already satisfied: fonttools>=4.22.0 in /databricks/python3/lib/python3.9/site-packages (from matplotlib->contextily) (4.25.0)\r\nRequirement already satisfied: kiwisolver>=1.0.1 in /databricks/python3/lib/python3.9/site-packages (from matplotlib->contextily) (1.3.2)\r\nRequirement already satisfied: numpy>=1.17 in /databricks/python3/lib/python3.9/site-packages (from matplotlib->contextily) (1.21.5)\r\nRequirement already satisfied: pyparsing>=2.2.1 in /databricks/python3/lib/python3.9/site-packages (from matplotlib->contextily) (3.0.4)\r\nRequirement already satisfied: cycler>=0.10 in /databricks/python3/lib/python3.9/site-packages (from matplotlib->contextily) (0.11.0)\r\nRequirement already satisfied: six>=1.5 in /databricks/python3/lib/python3.9/site-packages (from python-dateutil>=2.7->matplotlib->contextily) (1.16.0)\r\nRequirement already satisfied: click>=3.0 in /local_disk0/.ephemeral_nfs/cluster_libraries/python/lib/python3.9/site-packages (from mercantile->contextily) (8.1.7)\r\nRequirement already satisfied: cligj>=0.5 in /local_disk0/.ephemeral_nfs/envs/pythonEnv-7316a044-4353-4309-9d4b-32c8cf66240f/lib/python3.9/site-packages (from rasterio->contextily) (0.7.2)\r\nRequirement already satisfied: click-plugins in /local_disk0/.ephemeral_nfs/envs/pythonEnv-7316a044-4353-4309-9d4b-32c8cf66240f/lib/python3.9/site-packages (from rasterio->contextily) (1.1.1)\r\nCollecting snuggs>=1.4.1\r\n  Using cached snuggs-1.4.7-py3-none-any.whl (5.4 kB)\r\nCollecting affine\r\n  Using cached affine-2.4.0-py3-none-any.whl (15 kB)\r\nRequirement already satisfied: attrs in /databricks/python3/lib/python3.9/site-packages (from rasterio->contextily) (21.4.0)\r\nRequirement already satisfied: certifi in /databricks/python3/lib/python3.9/site-packages (from rasterio->contextily) (2021.10.8)\r\nRequirement already satisfied: setuptools in /databricks/python3/lib/python3.9/site-packages (from rasterio->contextily) (61.2.0)\r\nRequirement already satisfied: idna<4,>=2.5 in /databricks/python3/lib/python3.9/site-packages (from requests->contextily) (3.3)\r\nRequirement already satisfied: charset-normalizer~=2.0.0 in /databricks/python3/lib/python3.9/site-packages (from requests->contextily) (2.0.4)\r\nRequirement already satisfied: urllib3<1.27,>=1.21.1 in /databricks/python3/lib/python3.9/site-packages (from requests->contextily) (1.26.9)\r\nInstalling collected packages: snuggs, geographiclib, affine, xyzservices, rasterio, mercantile, geopy, contextily\r\nSuccessfully installed affine-2.4.0 contextily-1.6.0 geographiclib-2.0 geopy-2.4.1 mercantile-1.2.1 rasterio-1.3.9 snuggs-1.4.7 xyzservices-2024.4.0\r\n\u001B[33mWARNING: You are using pip version 21.2.4; however, version 24.0 is available.\r\nYou should consider upgrading via the '/local_disk0/.ephemeral_nfs/envs/pythonEnv-7316a044-4353-4309-9d4b-32c8cf66240f/bin/python -m pip install --upgrade pip' command.\u001B[0m\r\n"
     ]
    }
   ],
   "source": [
    "! pip install geopandas\n",
    "! pip install geodatasets\n",
    "! pip install contextily\n",
    "#! pip install folium matplotlib mapclassify contextily"
   ]
  },
  {
   "cell_type": "code",
   "execution_count": 0,
   "metadata": {
    "application/vnd.databricks.v1+cell": {
     "cellMetadata": {
      "byteLimit": 2048000,
      "rowLimit": 10000
     },
     "inputWidgets": {},
     "nuid": "2e230114-d00d-4065-9b06-9bc65deb51a6",
     "showTitle": false,
     "title": ""
    }
   },
   "outputs": [],
   "source": [
    "import sys\n",
    "basePath='/Workspace/Users/bill.curry@exxonmobil.com'\n",
    "gistPath='/Workspace/Users/bill.curry@exxonmobil.com/gist'\n",
    "sys.path.append(basePath)\n",
    "import dataBricksConfig as db"
   ]
  },
  {
   "cell_type": "code",
   "execution_count": 0,
   "metadata": {
    "application/vnd.databricks.v1+cell": {
     "cellMetadata": {
      "byteLimit": 2048000,
      "rowLimit": 10000
     },
     "inputWidgets": {},
     "nuid": "732391bb-8d33-4ac8-a2d7-4a7efc617715",
     "showTitle": false,
     "title": ""
    }
   },
   "outputs": [
    {
     "output_type": "display_data",
     "data": {
      "application/vnd.databricks.v1+bamboolib_hint": "{\"pd.DataFrames\": [], \"version\": \"0.0.1\"}",
      "text/plain": []
     },
     "metadata": {},
     "output_type": "display_data"
    },
    {
     "output_type": "display_data",
     "data": {
      "application/vnd.databricks.v1+h3_hint": "",
      "text/plain": []
     },
     "metadata": {},
     "output_type": "display_data"
    }
   ],
   "source": [
    "import numpy as np\n",
    "import pandas as pd\n",
    "import os\n",
    "import gistMCLive as gi\n",
    "import eqSQL as es\n",
    "import matplotlib.pyplot as plt\n",
    "import seaborn as sns\n",
    "import geopandas\n",
    "#import contextily as cx"
   ]
  },
  {
   "cell_type": "code",
   "execution_count": 0,
   "metadata": {
    "application/vnd.databricks.v1+cell": {
     "cellMetadata": {
      "byteLimit": 2048000,
      "rowLimit": 10000
     },
     "inputWidgets": {},
     "nuid": "27407231-7c67-4d49-aedb-af45ba43c440",
     "showTitle": false,
     "title": ""
    }
   },
   "outputs": [],
   "source": [
    "import gistPlots as gp"
   ]
  },
  {
   "cell_type": "markdown",
   "metadata": {
    "application/vnd.databricks.v1+cell": {
     "cellMetadata": {
      "byteLimit": 2048000,
      "rowLimit": 10000
     },
     "inputWidgets": {},
     "nuid": "41d31cc5-0dad-4f64-a0ad-66225f6ae397",
     "showTitle": false,
     "title": ""
    }
   },
   "source": [
    "## Parameters"
   ]
  },
  {
   "cell_type": "markdown",
   "metadata": {
    "application/vnd.databricks.v1+cell": {
     "cellMetadata": {
      "byteLimit": 2048000,
      "rowLimit": 10000
     },
     "inputWidgets": {},
     "nuid": "9237e4af-4e41-491b-add8-8b182193f2e7",
     "showTitle": false,
     "title": ""
    }
   },
   "source": [
    "### Input Files\n",
    "Produced from injectionSQLScheduled.py"
   ]
  },
  {
   "cell_type": "code",
   "execution_count": 0,
   "metadata": {
    "application/vnd.databricks.v1+cell": {
     "cellMetadata": {
      "byteLimit": 2048000,
      "rowLimit": 10000
     },
     "inputWidgets": {},
     "nuid": "7b3f2312-434f-4dc7-a7d1-dc7a2717a900",
     "showTitle": false,
     "title": ""
    }
   },
   "outputs": [],
   "source": [
    "injPath=gistPath+'/ScheduledOutput'\n",
    "\n",
    "DeepWellFile=injPath+'/deep.csv'\n",
    "DeepInjFile=injPath+'/deepReg.csv'\n",
    "ShallowWellFile=injPath+'/shallow.csv'\n",
    "ShallowInjFile=injPath+'/shallowReg.csv'\n",
    "runPath=gistPath+'/Outputs/'\n",
    "\n",
    "################################################\n",
    "# Output prefix for realizations of parameters #\n",
    "################################################\n",
    "RealizationPrefix=runPath+'MC'"
   ]
  },
  {
   "cell_type": "markdown",
   "metadata": {
    "application/vnd.databricks.v1+cell": {
     "cellMetadata": {
      "byteLimit": 2048000,
      "rowLimit": 10000
     },
     "inputWidgets": {},
     "nuid": "011258b8-ff95-4291-ae2e-7a10d5fcb0f0",
     "showTitle": false,
     "title": ""
    }
   },
   "source": [
    "###General"
   ]
  },
  {
   "cell_type": "code",
   "execution_count": 0,
   "metadata": {
    "application/vnd.databricks.v1+cell": {
     "cellMetadata": {
      "byteLimit": 2048000,
      "rowLimit": 10000
     },
     "inputWidgets": {},
     "nuid": "df1a8b6f-1e95-45ec-a269-8087bffbe282",
     "showTitle": false,
     "title": ""
    }
   },
   "outputs": [],
   "source": [
    "######################\n",
    "# General Parameters #\n",
    "######################\n",
    "nRealizations=20\n",
    "nTimeBins=21\n",
    "WaterDensity=1020.\n",
    "WaterViscosity=0.001\n",
    "VerticalCompressibility=0.000000001\n",
    "FluidCompressibility=0.00000000036\n",
    "FaultFrictionCoeff=0.6\n",
    "RockFrictionCoeff=0.6\n",
    "\n",
    "###################################\n",
    "# General Parameter Uncertainties #\n",
    "###################################\n",
    "WaterDensityUncertainty=5.\n",
    "WaterViscosityUncertainty=0.000001\n",
    "VerticalCompressibilityUncertainty=0.00000000001\n",
    "FluidCompressibilityUncertainty=0.000000000001\n",
    "FaultFrictionCoeffUncertainty=0.05\n",
    "RockFrictionCoeffUncertainty=0.05"
   ]
  },
  {
   "cell_type": "markdown",
   "metadata": {
    "application/vnd.databricks.v1+cell": {
     "cellMetadata": {
      "byteLimit": 2048000,
      "rowLimit": 10000
     },
     "inputWidgets": {},
     "nuid": "6c6e7111-066e-4e4a-9bc2-2da85adebd92",
     "showTitle": false,
     "title": ""
    }
   },
   "source": [
    "###Shallow interval"
   ]
  },
  {
   "cell_type": "code",
   "execution_count": 0,
   "metadata": {
    "application/vnd.databricks.v1+cell": {
     "cellMetadata": {
      "byteLimit": 2048000,
      "rowLimit": 10000
     },
     "inputWidgets": {},
     "nuid": "dfc65283-5b63-4ab3-96c6-da52acc40ddc",
     "showTitle": false,
     "title": ""
    }
   },
   "outputs": [],
   "source": [
    "###############################\n",
    "# Shallow Interval Parameters #\n",
    "###############################\n",
    "ShallowPorosityPercent=15.\n",
    "ShallowPermMD=10.\n",
    "ShallowThicknessFT=3700.\n",
    "# From Lei's excel sheet for Stanton - Young's modulus 5.83 GPA\n",
    "# Shear = Young / 2(1+ Poisson's ratio)\n",
    "ShallowShearModulus=2.4e9\n",
    "# Is Dynamic undrained?\n",
    "ShallowPoissonsRatioDrained=0.19\n",
    "ShallowPoissonsRatioUndrained=0.215\n",
    "# No idea - probably needs updating\n",
    "ShallowBiotsCoefficient=0.31\n",
    "\n",
    "##################################\n",
    "# Shallow Interval Uncertainties #\n",
    "##################################\n",
    "ShallowPorosityPercentUncertainty=8.\n",
    "# I think this should be a flat distribution bounds set using the logarithm of the permeability - now implemented\n",
    "ShallowPermLogMDUncertainty=1.\n",
    "ShallowThicknessFTUncertainty=500.\n",
    "ShallowShearModulusUncertainty=1e9\n",
    "ShallowPoissonsRatioDrainedUncertainty=0.01\n",
    "ShallowPoissonsRatioUndrainedUncertainty=0.01\n",
    "ShallowBiotsCoefficientUncertainty=0.05"
   ]
  },
  {
   "cell_type": "markdown",
   "metadata": {
    "application/vnd.databricks.v1+cell": {
     "cellMetadata": {
      "byteLimit": 2048000,
      "rowLimit": 10000
     },
     "inputWidgets": {},
     "nuid": "7d6c2d88-5cbb-43c6-af46-c8361e61f1cf",
     "showTitle": false,
     "title": ""
    }
   },
   "source": [
    "### Deep Interval"
   ]
  },
  {
   "cell_type": "code",
   "execution_count": 0,
   "metadata": {
    "application/vnd.databricks.v1+cell": {
     "cellMetadata": {
      "byteLimit": 2048000,
      "rowLimit": 10000
     },
     "inputWidgets": {},
     "nuid": "d58e0474-d42e-49be-94ae-633087760772",
     "showTitle": false,
     "title": ""
    }
   },
   "outputs": [],
   "source": [
    "###############################\n",
    "# Deep Interval Parameters #\n",
    "###############################\n",
    "DeepPorosityPercent=8.\n",
    "# Pulse pressure test shows background diffusivity of 0.5 m2/s\n",
    "# Back that into permeaiblity: k = D * eta * (Cr + porosity Cp)\n",
    "# 0.5 x 0.001 x (1e -9 + 0.08 x 3.6 e-10) = 5.144 e-13\n",
    "# / 9.9e-16 m2 to mD = 520mD!\n",
    "DeepPermMD=100.\n",
    "# Now let's change this to something where 1D is the high range and 10mD is the low range\n",
    "\n",
    "DeepThicknessFT=1400.\n",
    "# Roughly double of shallow - \n",
    "DeepShearModulus=5e9\n",
    "DeepPoissonsRatioDrained=0.30\n",
    "DeepPoissonsRatioUndrained=0.31\n",
    "DeepBiotsCoefficient=0.31\n",
    "\n",
    "##################################\n",
    "# DeepInterval Uncertainties #\n",
    "##################################\n",
    "DeepPorosityPercentUncertainty=5.\n",
    "DeepPermLogMDUncertainty=1.\n",
    "DeepThicknessFTUncertainty=200.\n",
    "DeepShearModulusUncertainty=1e9\n",
    "DeepPoissonsRatioDrainedUncertainty=0.005\n",
    "DeepPoissonsRatioUndrainedUncertainty=0.005\n",
    "DeepBiotsCoefficientUncertainty=0.05"
   ]
  },
  {
   "cell_type": "markdown",
   "metadata": {
    "application/vnd.databricks.v1+cell": {
     "cellMetadata": {
      "byteLimit": 2048000,
      "rowLimit": 10000
     },
     "inputWidgets": {},
     "nuid": "0dde5262-6ef4-4597-b3fe-c7235a253757",
     "showTitle": false,
     "title": ""
    }
   },
   "source": [
    "#Earthquake Selection"
   ]
  },
  {
   "cell_type": "code",
   "execution_count": 0,
   "metadata": {
    "application/vnd.databricks.v1+cell": {
     "cellMetadata": {
      "byteLimit": 2048000,
      "rowLimit": 10000
     },
     "inputWidgets": {},
     "nuid": "ce7a3a90-f553-4113-abbe-37d6fb67d6e5",
     "showTitle": false,
     "title": ""
    }
   },
   "outputs": [
    {
     "output_type": "stream",
     "name": "stdout",
     "output_type": "stream",
     "text": [
      "<class 'geopandas.geodataframe.GeoDataFrame'>\nRangeIndex: 2 entries, 0 to 1\nData columns (total 35 columns):\n #   Column                      Non-Null Count  Dtype         \n---  ------                      --------------  -----         \n 0   SeismicEventId              2 non-null      int64         \n 1   DataSource                  2 non-null      object        \n 2   DataSourceUrl               0 non-null      object        \n 3   EventID                     2 non-null      object        \n 4   EventTimeUtc                2 non-null      datetime64[ns]\n 5   EventTimeInLocalTimeZone    2 non-null      object        \n 6   EventTimeZone               2 non-null      object        \n 7   EventType                   2 non-null      object        \n 8   DepthKm                     2 non-null      float64       \n 9   DepthErrorKm                2 non-null      float64       \n 10  Magnitude                   2 non-null      float64       \n 11  MagnitudeError              0 non-null      float64       \n 12  MagnitudeType               2 non-null      object        \n 13  Location                    2 non-null      object        \n 14  Status                      2 non-null      object        \n 15  UpdatedDateUtc              2 non-null      datetime64[ns]\n 16  StationCount                2 non-null      int64         \n 17  RMS                         2 non-null      float64       \n 18  RMS_p                       0 non-null      object        \n 19  RMS_s                       0 non-null      object        \n 20  FocalMechanismAzimuthalGap  2 non-null      float64       \n 21  County                      2 non-null      object        \n 22  State                       2 non-null      object        \n 23  Latitude                    2 non-null      float64       \n 24  LatitudeError               2 non-null      float64       \n 25  Longitude                   2 non-null      float64       \n 26  LongitudeError              2 non-null      float64       \n 27  UploadTime                  2 non-null      datetime64[ns]\n 28  ModifiedDate                2 non-null      datetime64[ns]\n 29  Origin Date                 2 non-null      object        \n 30  Origin Time                 2 non-null      object        \n 31  geometry                    2 non-null      geometry      \n 32  Strike                      2 non-null      int64         \n 33  Dip                         2 non-null      float64       \n 34  Rake                        2 non-null      float64       \ndtypes: datetime64[ns](4), float64(12), geometry(1), int64(3), object(15)\nmemory usage: 688.0+ bytes\n   SeismicEventId                 DataSource DataSourceUrl         EventID  \\\n0          119341  TexNet Earthquake Catalog          None  texnet2021zjsk   \n1          119341  TexNet Earthquake Catalog          None  texnet2024FAKE   \n\n         EventTimeUtc EventTimeInLocalTimeZone EventTimeZone   EventType  \\\n0 2021-12-28 01:55:43     2021-12-27T19:55:43Z           CST  Earthquake   \n1 2021-12-28 01:55:43     2021-12-27T19:55:43Z           CST  Earthquake   \n\n   DepthKm  DepthErrorKm  ...  Longitude  LongitudeError  \\\n0  8.43689      0.578692  ... -101.77413        0.497092   \n1  8.43689      0.578692  ... -101.77413        0.497092   \n\n                     UploadTime        ModifiedDate Origin Date Origin Time  \\\n0 2024-04-04 07:00:40.393403300 2024-04-04 06:46:02  2021-12-28    01:55:43   \n1 2024-04-04 07:00:40.393403300 2024-04-04 06:46:02  2024-04-04    01:55:43   \n\n                      geometry  Strike   Dip  Rake  \n0  POINT (-101.77413 32.28607)      96  81.0 -24.0  \n1  POINT (-101.77413 32.28607)      96  81.0 -24.0  \n\n[2 rows x 35 columns]\n"
     ]
    }
   ],
   "source": [
    "eqs=es.eqSQL()\n",
    "EQDF1=eqs.getEarthquake('texnet2021zjsk')\n",
    "EQDF1['Strike']=96\n",
    "EQDF1['Dip']=81.\n",
    "EQDF1['Rake']=-24.\n",
    "EQDF2=EQDF1.copy(deep=True)\n",
    "EQDF2['Origin Date']=pd.to_datetime(pd.Timestamp('today')).date()\n",
    "EQDF2.at[0,'EventId'] = 'texnet2024FAKE'\n",
    "EQDF=pd.concat([EQDF1,EQDF2],ignore_index=True)\n",
    "EQDF=EQDF.rename(columns={'LatitudeErrorKm':'LatitudeError','LongitudeErrorKm':'LongitudeError','EventId':'EventID'})\n",
    "# We could make use of the Rake\n",
    "EQDF.info()\n",
    "EQDF.to_csv(runPath+'/EQToday.csv')\n",
    "print(EQDF)"
   ]
  },
  {
   "cell_type": "markdown",
   "metadata": {
    "application/vnd.databricks.v1+cell": {
     "cellMetadata": {
      "byteLimit": 2048000,
      "rowLimit": 10000
     },
     "inputWidgets": {},
     "nuid": "61b8015e-aa08-4602-a74d-7e156b85d725",
     "showTitle": false,
     "title": ""
    }
   },
   "source": [
    "#GIST Initialization"
   ]
  },
  {
   "cell_type": "markdown",
   "metadata": {
    "application/vnd.databricks.v1+cell": {
     "cellMetadata": {
      "byteLimit": 2048000,
      "rowLimit": 10000
     },
     "inputWidgets": {},
     "nuid": "8f47744f-50ea-4a2e-8b39-5e7f9c586934",
     "showTitle": false,
     "title": ""
    }
   },
   "source": [
    "## Shallow "
   ]
  },
  {
   "cell_type": "code",
   "execution_count": 0,
   "metadata": {
    "application/vnd.databricks.v1+cell": {
     "cellMetadata": {
      "byteLimit": 2048000,
      "rowLimit": 10000
     },
     "inputWidgets": {},
     "nuid": "dfe302e8-a252-4dbb-baea-bf6efddd53a9",
     "showTitle": false,
     "title": ""
    }
   },
   "outputs": [],
   "source": [
    "########################################\n",
    "# Initialize GIST for shallow interval #\n",
    "########################################\n",
    "shallowM=gi.gistMC(nReal=nRealizations,\n",
    "                   ntBin=nTimeBins)"
   ]
  },
  {
   "cell_type": "code",
   "execution_count": 0,
   "metadata": {
    "application/vnd.databricks.v1+cell": {
     "cellMetadata": {
      "byteLimit": 2048000,
      "rowLimit": 10000
     },
     "inputWidgets": {},
     "nuid": "37338518-60dc-442e-84a9-1531446dea9c",
     "showTitle": false,
     "title": ""
    }
   },
   "outputs": [
    {
     "output_type": "stream",
     "name": "stdout",
     "output_type": "stream",
     "text": [
      "  logSpace: lower bound:  1.0 , upper bound:  100.0\n"
     ]
    }
   ],
   "source": [
    "##############################################################\n",
    "# Initialize pore pressure model                             #\n",
    "# Parameters mostly from Katie Smye, are rough at this point #\n",
    "##############################################################\n",
    "shallowM.initPP(rho_0=WaterDensity,\n",
    "                nta=WaterViscosity,\n",
    "                phi=ShallowPorosityPercent,\n",
    "                kMD=ShallowPermMD,\n",
    "                h=ShallowThicknessFT,\n",
    "                alphav=VerticalCompressibility,\n",
    "                beta=FluidCompressibility)\n",
    "######################\n",
    "# Uncertainty ranges #\n",
    "######################\n",
    "shallowM.initMCPP(rhoUnc=WaterDensityUncertainty,\n",
    "                  ntaUnc=WaterViscosityUncertainty,\n",
    "                  phiUnc=ShallowPorosityPercentUncertainty,\n",
    "                  kMDLogUnc=ShallowPermLogMDUncertainty,\n",
    "                  hUnc=ShallowThicknessFTUncertainty,\n",
    "                  alphavUnc=VerticalCompressibilityUncertainty,\n",
    "                  betaUnc=FluidCompressibilityUncertainty)"
   ]
  },
  {
   "cell_type": "code",
   "execution_count": 0,
   "metadata": {
    "application/vnd.databricks.v1+cell": {
     "cellMetadata": {
      "byteLimit": 2048000,
      "rowLimit": 10000
     },
     "inputWidgets": {},
     "nuid": "690d6314-5030-419a-8cc6-a2b9529603a7",
     "showTitle": false,
     "title": ""
    }
   },
   "outputs": [],
   "source": [
    "######################################################\n",
    "# These parameters need more vetting for Tarzan area #\n",
    "######################################################\n",
    "shallowM.initPE(mu=ShallowShearModulus,\n",
    "                nu=ShallowPoissonsRatioDrained,\n",
    "                nu_u=ShallowPoissonsRatioUndrained,\n",
    "                alpha=ShallowBiotsCoefficient,\n",
    "                mu_f=FaultFrictionCoeff,\n",
    "                mu_r=RockFrictionCoeff,\n",
    "                match=True)\n",
    "######################\n",
    "# Uncertainty ranges #\n",
    "######################\n",
    "shallowM.initMCPE(muUnc=ShallowShearModulusUncertainty,\n",
    "                  nuUnc=ShallowPoissonsRatioDrainedUncertainty,\n",
    "                  nu_uUnc=ShallowPoissonsRatioUndrainedUncertainty,\n",
    "                  alphaUnc=ShallowBiotsCoefficientUncertainty,\n",
    "                  muFUnc=FaultFrictionCoeffUncertainty,\n",
    "                  muRUnc=RockFrictionCoeffUncertainty,\n",
    "                  match=True)"
   ]
  },
  {
   "cell_type": "markdown",
   "metadata": {
    "application/vnd.databricks.v1+cell": {
     "cellMetadata": {
      "byteLimit": 2048000,
      "rowLimit": 10000
     },
     "inputWidgets": {},
     "nuid": "b9911a2e-abbe-48fa-beb3-db4bc2a8727a",
     "showTitle": false,
     "title": ""
    }
   },
   "source": [
    "## Deep"
   ]
  },
  {
   "cell_type": "code",
   "execution_count": 0,
   "metadata": {
    "application/vnd.databricks.v1+cell": {
     "cellMetadata": {
      "byteLimit": 2048000,
      "rowLimit": 10000
     },
     "inputWidgets": {},
     "nuid": "d6dead15-ae34-43e1-8795-831b0532c24a",
     "showTitle": false,
     "title": ""
    }
   },
   "outputs": [
    {
     "output_type": "stream",
     "name": "stdout",
     "output_type": "stream",
     "text": [
      "  logSpace: lower bound:  10.0 , upper bound:  1000.0\n"
     ]
    }
   ],
   "source": [
    "##################################################\n",
    "# Initialize 2nd GIST instance for deep interval #\n",
    "##################################################\n",
    "deepM=gi.gistMC(nReal=nRealizations,\n",
    "                ntBin=nTimeBins)\n",
    "##################################################################\n",
    "# Initialize pore pressure model                                 #\n",
    "##################################################################\n",
    "deepM.initPP(rho_0=WaterDensity,\n",
    "             phi=DeepPorosityPercent,\n",
    "             kMD=DeepPermMD,\n",
    "             h=DeepThicknessFT,\n",
    "             alphav=VerticalCompressibility,\n",
    "             beta=FluidCompressibility)\n",
    "\n",
    "deepM.initMCPP(rhoUnc=WaterDensityUncertainty,\n",
    "               ntaUnc=WaterViscosityUncertainty,\n",
    "               phiUnc=DeepPorosityPercentUncertainty,\n",
    "               kMDLogUnc=DeepPermLogMDUncertainty,\n",
    "               hUnc=DeepThicknessFTUncertainty,\n",
    "               alphavUnc=VerticalCompressibilityUncertainty,\n",
    "               betaUnc=FluidCompressibilityUncertainty)"
   ]
  },
  {
   "cell_type": "code",
   "execution_count": 0,
   "metadata": {
    "application/vnd.databricks.v1+cell": {
     "cellMetadata": {
      "byteLimit": 2048000,
      "rowLimit": 10000
     },
     "inputWidgets": {},
     "nuid": "0811f336-b85e-4935-a4aa-78e7c7088826",
     "showTitle": false,
     "title": ""
    }
   },
   "outputs": [],
   "source": [
    "######################################################\n",
    "# These parameters need more vetting for Tarzan area #\n",
    "######################################################\n",
    "deepM.initPE(mu=DeepShearModulus,\n",
    "             nu=DeepPoissonsRatioDrained,\n",
    "             nu_u=DeepPoissonsRatioUndrained,\n",
    "             alpha=DeepBiotsCoefficient,\n",
    "             mu_f=FaultFrictionCoeff,\n",
    "             mu_r=RockFrictionCoeff,\n",
    "             match=True)\n",
    "deepM.initMCPE(muUnc=DeepShearModulusUncertainty,\n",
    "               nuUnc=DeepPoissonsRatioDrainedUncertainty,\n",
    "               nu_uUnc=DeepPoissonsRatioUndrainedUncertainty,\n",
    "               alphaUnc=DeepBiotsCoefficientUncertainty,\n",
    "               muFUnc=FaultFrictionCoeffUncertainty,\n",
    "               muRUnc=RockFrictionCoeffUncertainty,\n",
    "               match=True)"
   ]
  },
  {
   "cell_type": "code",
   "execution_count": 0,
   "metadata": {
    "application/vnd.databricks.v1+cell": {
     "cellMetadata": {
      "byteLimit": 2048000,
      "rowLimit": 10000
     },
     "inputWidgets": {},
     "nuid": "1f185be3-f58b-42ee-9558-19d223aaca9d",
     "showTitle": false,
     "title": ""
    }
   },
   "outputs": [
    {
     "output_type": "stream",
     "name": "stdout",
     "output_type": "stream",
     "text": [
      "Shallow Diffusivity=0.08995573645408184\nDeep Diffusivity=0.9172847108545967\n"
     ]
    }
   ],
   "source": [
    "#######################################\n",
    "# Add uncertainties to both intervals #\n",
    "#######################################\n",
    "\n",
    "######################\n",
    "# Post diffusivities #\n",
    "######################\n",
    "print(\"Shallow Diffusivity=\"+str(shallowM.diffPPMax))\n",
    "print(\"Deep Diffusivity=\"+str(deepM.diffPPMax))\n"
   ]
  },
  {
   "cell_type": "markdown",
   "metadata": {
    "application/vnd.databricks.v1+cell": {
     "cellMetadata": {
      "byteLimit": 2048000,
      "rowLimit": 10000
     },
     "inputWidgets": {},
     "nuid": "345d4c80-14e1-4260-9b69-ef604e3abd0f",
     "showTitle": false,
     "title": ""
    }
   },
   "source": [
    "#Well selection"
   ]
  },
  {
   "cell_type": "markdown",
   "metadata": {
    "application/vnd.databricks.v1+cell": {
     "cellMetadata": {
      "byteLimit": 2048000,
      "rowLimit": 10000
     },
     "inputWidgets": {},
     "nuid": "cc618d09-6496-4d5b-b5ce-7031de3af50c",
     "showTitle": false,
     "title": ""
    }
   },
   "source": [
    "####Input wells"
   ]
  },
  {
   "cell_type": "code",
   "execution_count": 0,
   "metadata": {
    "application/vnd.databricks.v1+cell": {
     "cellMetadata": {
      "byteLimit": 2048000,
      "rowLimit": 10000
     },
     "inputWidgets": {},
     "nuid": "c61650ff-760c-4493-a9e7-3ad67488dd8d",
     "showTitle": false,
     "title": ""
    }
   },
   "outputs": [
    {
     "output_type": "stream",
     "name": "stdout",
     "output_type": "stream",
     "text": [
      "Before adding shallow wells\n"
     ]
    }
   ],
   "source": [
    "#########################################\n",
    "# Add potential wells to each instance  #\n",
    "#########################################\n",
    "print(\"Before adding shallow wells\")\n",
    "#shallowM.addWells(ShallowWellFile,ShallowInjFile,verbose=1)"
   ]
  },
  {
   "cell_type": "code",
   "execution_count": 0,
   "metadata": {
    "application/vnd.databricks.v1+cell": {
     "cellMetadata": {
      "byteLimit": 2048000,
      "rowLimit": 10000
     },
     "inputWidgets": {},
     "nuid": "6d0b49b7-39d4-484f-bc94-dc5add600576",
     "showTitle": false,
     "title": ""
    }
   },
   "outputs": [
    {
     "output_type": "stream",
     "name": "stdout",
     "output_type": "stream",
     "text": [
      "Before adding deep wells\n gistMC.addWells: well file added with  2136  wells\n gistMC.addWells: well columns: Index(['ID', 'InjectionWellId', 'APINumber', 'UICNumber', 'Basin', 'County',\n       'SurfaceHoleLatitude', 'SurfaceHoleLongitude', 'WellName', 'WellNumber',\n       'InjectionType', 'CompletedWellDepthClassification', 'InjectionStatus',\n       'CompletionAndDrillingPermitStatus', 'StartDate', 'PermitIsAmendment',\n       'DaysToPermitApproval', 'PermittedMaxLiquidBPD',\n       'PermittedMaxLiquidPSIG', 'PermittedIntervalBottomFt',\n       'PermittedIntervalTopFt', 'PermittedCommercialStatus',\n       'PermittedWellDepthClassification', 'Operator', 'OperatorType',\n       'OperatorPrincipalCompany', 'OperatorPrincipalCompanyType',\n       'PermitStage', 'SRAOrSIR', 'UploadTime'],\n      dtype='object')\n gistMC.addWells: injection file has  1791  unique wells\n gistMC.addWells: injection file first day:  3880.0\n gistMC.addWells: injection file last day:  19820.0\n gistMC.addWells: injection file day interval:  10.0\n gistMC.addWells: injection file number of time samples:  1595\n"
     ]
    }
   ],
   "source": [
    "print(\"Before adding deep wells\")\n",
    "deepM.addWells(DeepWellFile,DeepInjFile,verbose=1)"
   ]
  },
  {
   "cell_type": "code",
   "execution_count": 0,
   "metadata": {
    "application/vnd.databricks.v1+cell": {
     "cellMetadata": {
      "byteLimit": 2048000,
      "rowLimit": 10000
     },
     "inputWidgets": {},
     "nuid": "7f8e3ce6-81c2-4554-8950-4f642a2e1022",
     "showTitle": false,
     "title": ""
    }
   },
   "outputs": [],
   "source": [
    "#shallowM.wellDF.info()\n",
    "#EQDF.info()"
   ]
  },
  {
   "cell_type": "code",
   "execution_count": 0,
   "metadata": {
    "application/vnd.databricks.v1+cell": {
     "cellMetadata": {
      "byteLimit": 2048000,
      "rowLimit": 10000
     },
     "inputWidgets": {},
     "nuid": "1368dac5-c5d4-41f2-b8aa-dd89b8d3c576",
     "showTitle": false,
     "title": ""
    }
   },
   "outputs": [],
   "source": [
    "#eq=EQDF.iloc[1]\n",
    "#print(eq)\n",
    "#shallowPPSelectedWells,shallowPPIgnoredWells,shallowPPInj=shallowM.findWells(eq,PE=False)\n",
    "#shallowPESelectedWells,shallowPEIgnoredWells,shallowPEInj=shallowM.findWells(eq,PE=True)\n",
    "#shallowPPSelectedWells['Selected']=True\n",
    "#shallowPPIgnoredWells['Selected']=False\n",
    "#shallowPPWells=pd.concat([shallowPPSelectedWells,shallowPPIgnoredWells])\n",
    "#shallowPPWells['EventID']=eq['EventID']\n",
    "#shallowPESelectedWells['Selected']=True\n",
    "#shallowPEIgnoredWells['Selected']=False\n",
    "#shallowPEWells=pd.concat([shallowPESelectedWells,shallowPEIgnoredWells])\n",
    "#shallowPEWells['EventID']=eq['EventID']"
   ]
  },
  {
   "cell_type": "code",
   "execution_count": 0,
   "metadata": {
    "application/vnd.databricks.v1+cell": {
     "cellMetadata": {
      "byteLimit": 2048000,
      "rowLimit": 10000
     },
     "inputWidgets": {},
     "nuid": "ee92733a-6c18-4fbe-a9b5-893be1af431a",
     "showTitle": false,
     "title": ""
    }
   },
   "outputs": [
    {
     "output_type": "stream",
     "name": "stdout",
     "output_type": "stream",
     "text": [
      "SeismicEventId                                       119341\nDataSource                        TexNet Earthquake Catalog\nDataSourceUrl                                          None\nEventID                                      texnet2021zjsk\nEventTimeUtc                            2021-12-28 01:55:43\nEventTimeInLocalTimeZone               2021-12-27T19:55:43Z\nEventTimeZone                                           CST\nEventType                                        Earthquake\nDepthKm                                             8.43689\nDepthErrorKm                                       0.578692\nMagnitude                                           4.56297\nMagnitudeError                                          NaN\nMagnitudeType                                    ml(texnet)\nLocation                                      Western Texas\nStatus                                                final\nUpdatedDateUtc                          2022-01-03 15:28:00\nStationCount                                             25\nRMS                                                 0.19344\nRMS_p                                                  None\nRMS_s                                                  None\nFocalMechanismAzimuthalGap                        72.408646\nCounty                                          Martin (TX)\nState                                                 Texas\nLatitude                                           32.28607\nLatitudeError                                      0.524739\nLongitude                                        -101.77413\nLongitudeError                                     0.497092\nUploadTime                    2024-04-04 07:00:40.393403300\nModifiedDate                            2024-04-04 06:46:02\nOrigin Date                                      2021-12-28\nOrigin Time                                        01:55:43\ngeometry                        POINT (-101.77413 32.28607)\nStrike                                                   96\nDip                                                    81.0\nRake                                                  -24.0\nName: 0, dtype: object\n"
     ]
    },
    {
     "output_type": "stream",
     "name": "stderr",
     "output_type": "stream",
     "text": [
      "/Workspace/Users/bill.curry@exxonmobil.com/gist/gistMCLive.py:727: RuntimeWarning: invalid value encountered in sqrt\n  diffusionDistances[iw]=0.001*np.sqrt(4.*np.pi*self.diffPPMax*injectionDays*24*60*60)\n"
     ]
    }
   ],
   "source": [
    "eq=EQDF.iloc[0]\n",
    "print(eq)\n",
    "\n",
    "deepPPSelectedWells,deepPPIgnoredWells,deepPPInj=deepM.findWells(eq,PE=False)\n",
    "#deepPESelectedWells,deepPEIgnoredWells,deepPEInj=deepM.findWells(eq,PE=True)\n",
    "deepPPSelectedWells['Selected']=True\n",
    "deepPPIgnoredWells['Selected']=False\n",
    "deepPPWells=pd.concat([deepPPSelectedWells,deepPPIgnoredWells])\n",
    "deepPPWells['EventID']=eq['EventID']\n",
    "#deepPESelectedWells['Selected']=True\n",
    "#deepPEIgnoredWells['Selected']=False\n",
    "#deepPEWells=pd.concat([deepPESelectedWells,deepPEIgnoredWells])\n",
    "#deepPEWells['EventID']=eq['EventID']"
   ]
  },
  {
   "cell_type": "code",
   "execution_count": 0,
   "metadata": {
    "application/vnd.databricks.v1+cell": {
     "cellMetadata": {
      "byteLimit": 2048000,
      "rowLimit": 10000
     },
     "inputWidgets": {},
     "nuid": "2f954928-3373-475d-9584-c75b31b62e95",
     "showTitle": false,
     "title": ""
    }
   },
   "outputs": [],
   "source": [
    "#shallowPPWells.to_csv(runPath+'/StantonToday_ShallowPPWells.csv')\n",
    "#shallowPEWells.to_csv(runPath+'/StantonToday_ShallowPEWells.csv')\n",
    "#deepPPWells.to_csv(runPath+'/StantonToday_DeepPPWells.csv')\n",
    "#deepPEWells.to_csv(runPath+'/StantonToday_DeepPEWells.csv')"
   ]
  },
  {
   "cell_type": "code",
   "execution_count": 0,
   "metadata": {
    "application/vnd.databricks.v1+cell": {
     "cellMetadata": {
      "byteLimit": 2048000,
      "rowLimit": 10000
     },
     "inputWidgets": {},
     "nuid": "65a52bd8-ac73-4a92-be9f-ce7a8f718770",
     "showTitle": false,
     "title": ""
    }
   },
   "outputs": [],
   "source": [
    "# Dump injection data to file:\n",
    "#deepPPInj.to_csv(runPath+'/StantonToday_DeepPPInj.zip')\n",
    "#shallowPPInj.to_csv(runPath+'/StantonToday_ShallowPPInj.zip')"
   ]
  },
  {
   "cell_type": "code",
   "execution_count": 0,
   "metadata": {
    "application/vnd.databricks.v1+cell": {
     "cellMetadata": {
      "byteLimit": 2048000,
      "rowLimit": 10000
     },
     "inputWidgets": {},
     "nuid": "5f270ec1-c943-42a8-a77c-07192c4b27d3",
     "showTitle": false,
     "title": ""
    }
   },
   "outputs": [],
   "source": [
    "#eq.loc['Origin Date']=pd.to_datetime(eq['Origin Date'])"
   ]
  },
  {
   "cell_type": "code",
   "execution_count": 0,
   "metadata": {
    "application/vnd.databricks.v1+cell": {
     "cellMetadata": {
      "byteLimit": 2048000,
      "rowLimit": 10000
     },
     "inputWidgets": {},
     "nuid": "7566ef8b-d412-49fb-aaa3-89c90802f3de",
     "showTitle": false,
     "title": ""
    }
   },
   "outputs": [],
   "source": [
    "#import gistPlots as gp\n",
    "\n",
    "#gp.wellInjPlot(deepPPInj,deepPPWells,'01-01-2018','02-11-2023','Deep Injection',True)\n",
    "#gp.wellInjPlot(shallowPPInj,shallowPPWells,'01-01-2018','02-11-2023','Shallow Injection',True)\n",
    "\n",
    "#fig, ax = plt.subplots(figsize=(12,24))\n",
    "# Merge well information onto injection rates\n",
    "# Need to incorporate time sampling other than 10 day\n"
   ]
  },
  {
   "cell_type": "markdown",
   "metadata": {
    "application/vnd.databricks.v1+cell": {
     "cellMetadata": {
      "byteLimit": 2048000,
      "rowLimit": 10000
     },
     "inputWidgets": {},
     "nuid": "07017189-acd7-4b48-aac6-b27675eeb507",
     "showTitle": false,
     "title": ""
    }
   },
   "source": [
    "#Initial GIST runs\n"
   ]
  },
  {
   "cell_type": "code",
   "execution_count": 0,
   "metadata": {
    "application/vnd.databricks.v1+cell": {
     "cellMetadata": {
      "byteLimit": 2048000,
      "rowLimit": 10000
     },
     "inputWidgets": {},
     "nuid": "b0197355-3c08-4f30-b798-c5a19b5f33b1",
     "showTitle": false,
     "title": ""
    }
   },
   "outputs": [
    {
     "output_type": "stream",
     "name": "stdout",
     "output_type": "stream",
     "text": [
      " gistMC.runPressureScenarios: Number of wells considered:  485\nrunPressureScenarios: \n gistMC.pressureScenario: well  0  of  485 :  1007812\n gistMC.pressureScenario: well  10  of  485 :  1003161\n gistMC.pressureScenario: well  20  of  485 :  1004738\n gistMC.pressureScenario: well  30  of  485 :  2121097\n gistMC.pressureScenario: well  40  of  485 :  2121094\n gistMC.pressureScenario: well  50  of  485 :  2112175\n gistMC.pressureScenario: well  60  of  485 :  2054500\n gistMC.pressureScenario: well  70  of  485 :  2042738\n gistMC.pressureScenario: well  80  of  485 :  2111358\n gistMC.pressureScenario: well  90  of  485 :  2093666\n gistMC.pressureScenario: well  100  of  485 :  2118060\n gistMC.pressureScenario: well  110  of  485 :  2111864\n gistMC.pressureScenario: well  120  of  485 :  2043314\n gistMC.pressureScenario: well  130  of  485 :  2022280\n gistMC.pressureScenario: well  140  of  485 :  2120517\n gistMC.pressureScenario: well  150  of  485 :  2064744\n gistMC.pressureScenario: well  160  of  485 :  2053395\n gistMC.pressureScenario: well  170  of  485 :  2015612\n gistMC.pressureScenario: well  180  of  485 :  2013107\n gistMC.pressureScenario: well  190  of  485 :  2021435\n gistMC.pressureScenario: well  200  of  485 :  2119704\n gistMC.pressureScenario: well  210  of  485 :  2020843\n gistMC.pressureScenario: well  220  of  485 :  2111339\n gistMC.pressureScenario: well  230  of  485 :  2097731\n gistMC.pressureScenario: well  240  of  485 :  2081404\n gistMC.pressureScenario: well  250  of  485 :  2023070\n gistMC.pressureScenario: well  260  of  485 :  2047113\n gistMC.pressureScenario: well  270  of  485 :  2062314\n gistMC.pressureScenario: well  280  of  485 :  2121186\n gistMC.pressureScenario: well  290  of  485 :  2113672\n gistMC.pressureScenario: well  300  of  485 :  2058060\n gistMC.pressureScenario: well  310  of  485 :  2080714\n gistMC.pressureScenario: well  320  of  485 :  2037927\n gistMC.pressureScenario: well  330  of  485 :  2076053\n gistMC.pressureScenario: well  340  of  485 :  2119049\n gistMC.pressureScenario: well  350  of  485 :  2028556\n gistMC.pressureScenario: well  360  of  485 :  2058589\n gistMC.pressureScenario: well  370  of  485 :  2067332\n gistMC.pressureScenario: well  380  of  485 :  2099101\n gistMC.pressureScenario: well  390  of  485 :  2101239\n gistMC.pressureScenario: well  400  of  485 :  2021983\n gistMC.pressureScenario: well  410  of  485 :  2097347\n gistMC.pressureScenario: well  420  of  485 :  2109346\n gistMC.pressureScenario: well  430  of  485 :  2082443\n gistMC.pressureScenario: well  440  of  485 :  2064515\n gistMC.pressureScenario: well  450  of  485 :  2088942\n gistMC.pressureScenario: well  460  of  485 :  2097363\n gistMC.pressureScenario: well  470  of  485 :  2051080\n gistMC.pressureScenario: well  480  of  485 :  2119359\n gistMC.pressureScenario: scenario  1  of  20 : Max P: 3.257937511737026\n gistMC.pressureScenario: scenario  2  of  20 : Max P: 2.774702232826317\n gistMC.pressureScenario: scenario  3  of  20 : Max P: 4.507979126819181\n gistMC.pressureScenario: scenario  4  of  20 : Max P: 2.6405660817155723\n gistMC.pressureScenario: scenario  5  of  20 : Max P: 4.363032951599521\n gistMC.pressureScenario: scenario  6  of  20 : Max P: 11.172836359180852\n gistMC.pressureScenario: scenario  7  of  20 : Max P: 2.8495012053058044\n gistMC.pressureScenario: scenario  8  of  20 : Max P: 19.418889216820542\n gistMC.pressureScenario: scenario  9  of  20 : Max P: 19.281890621216096\n gistMC.pressureScenario: scenario  10  of  20 : Max P: 6.492153678539868\n gistMC.pressureScenario: scenario  11  of  20 : Max P: 2.3963769858258317\n gistMC.pressureScenario: scenario  12  of  20 : Max P: 2.3390441202348153\n gistMC.pressureScenario: scenario  13  of  20 : Max P: 3.320683625748044\n gistMC.pressureScenario: scenario  14  of  20 : Max P: 5.95935977894769\n gistMC.pressureScenario: scenario  15  of  20 : Max P: 2.7398748897104355\n gistMC.pressureScenario: scenario  16  of  20 : Max P: 22.081721528604593\n gistMC.pressureScenario: scenario  17  of  20 : Max P: 5.244939839838635\n gistMC.pressureScenario: scenario  18  of  20 : Max P: 2.477114496684175\n gistMC.pressureScenario: scenario  19  of  20 : Max P: 12.710955734346856\n gistMC.pressureScenario: scenario  20  of  20 : Max P: 2.488046998043102\n"
     ]
    }
   ],
   "source": [
    "\n",
    "import time\n",
    "time1 = time.time()\n",
    "dWellPPScenarios2021b=deepM.runPressureScenarios(EQDF.iloc[0],deepPPSelectedWells,deepPPInj,verbose=1)\n",
    "time2 = time.time()"
   ]
  },
  {
   "cell_type": "code",
   "execution_count": 0,
   "metadata": {
    "application/vnd.databricks.v1+cell": {
     "cellMetadata": {
      "byteLimit": 2048000,
      "rowLimit": 10000
     },
     "inputWidgets": {},
     "nuid": "1a1b00d9-22ae-4444-a255-61c0a115b3b6",
     "showTitle": false,
     "title": ""
    }
   },
   "outputs": [
    {
     "output_type": "stream",
     "name": "stderr",
     "output_type": "stream",
     "text": [
      "/Workspace/Users/bill.curry@exxonmobil.com/gist/gistMCLive.py:1212: RuntimeWarning: divide by zero encountered in true_divide\n  epp=sc.exp1(ppp.reshape((nwC,self.nReal,1)).repeat(nt0,2) / durations[:].reshape((1,1,nt0)).repeat(nwC,0).repeat(self.nReal,1))\n"
     ]
    },
    {
     "output_type": "stream",
     "name": "stdout",
     "output_type": "stream",
     "text": [
      "pressureScenariosToDF:  485 20 9700 20\npressureScenariosToDF:  9700 9700\n25.321803092956543  for original\n122.7026994228363  for fast\n"
     ]
    }
   ],
   "source": [
    "time3 = time.time()\n",
    "dWellPPScenarios2021fast,dPPTimeSeriesT2021fast=deepM.runPressureScenariosFast(EQDF.iloc[0],deepPPSelectedWells,deepPPInj,verbose=1)\n",
    "time4 = time.time()\n",
    "print(time2-time1,' for original')\n",
    "print(time4-time3,' for fast')"
   ]
  },
  {
   "cell_type": "code",
   "execution_count": 0,
   "metadata": {
    "application/vnd.databricks.v1+cell": {
     "cellMetadata": {
      "byteLimit": 2048000,
      "rowLimit": 10000
     },
     "inputWidgets": {},
     "nuid": "9bc68774-2a3e-4964-a170-d95d30a103ad",
     "showTitle": false,
     "title": ""
    }
   },
   "outputs": [
    {
     "output_type": "stream",
     "name": "stdout",
     "output_type": "stream",
     "text": [
      " runPressureScenariosFast - time step  1  of  1595\n runPressureScenariosFast - time step  2  of  1595\n runPressureScenariosFast - time step  3  of  1595\n runPressureScenariosFast - time step  4  of  1595\n runPressureScenariosFast - time step  5  of  1595\n runPressureScenariosFast - time step  6  of  1595\n runPressureScenariosFast - time step  7  of  1595\n runPressureScenariosFast - time step  8  of  1595\n runPressureScenariosFast - time step  9  of  1595\n runPressureScenariosFast - time step  10  of  1595\n runPressureScenariosFast - time step  11  of  1595\n runPressureScenariosFast - time step  12  of  1595\n runPressureScenariosFast - time step  13  of  1595\n runPressureScenariosFast - time step  14  of  1595\n runPressureScenariosFast - time step  15  of  1595\n runPressureScenariosFast - time step  16  of  1595\n runPressureScenariosFast - time step  17  of  1595\n runPressureScenariosFast - time step  18  of  1595\n runPressureScenariosFast - time step  19  of  1595\n runPressureScenariosFast - time step  20  of  1595\n runPressureScenariosFast - time step  21  of  1595\n runPressureScenariosFast - time step  22  of  1595\n runPressureScenariosFast - time step  23  of  1595\n runPressureScenariosFast - time step  24  of  1595\n runPressureScenariosFast - time step  25  of  1595\n runPressureScenariosFast - time step  26  of  1595\n runPressureScenariosFast - time step  27  of  1595\n runPressureScenariosFast - time step  28  of  1595\n runPressureScenariosFast - time step  29  of  1595\n runPressureScenariosFast - time step  30  of  1595\n runPressureScenariosFast - time step  31  of  1595\n runPressureScenariosFast - time step  32  of  1595\n runPressureScenariosFast - time step  33  of  1595\n runPressureScenariosFast - time step  34  of  1595\n runPressureScenariosFast - time step  35  of  1595\n runPressureScenariosFast - time step  36  of  1595\n runPressureScenariosFast - time step  37  of  1595\n runPressureScenariosFast - time step  38  of  1595\n runPressureScenariosFast - time step  39  of  1595\n runPressureScenariosFast - time step  40  of  1595\n runPressureScenariosFast - time step  41  of  1595\n runPressureScenariosFast - time step  42  of  1595\n runPressureScenariosFast - time step  43  of  1595\n runPressureScenariosFast - time step  44  of  1595\n runPressureScenariosFast - time step  45  of  1595\n runPressureScenariosFast - time step  46  of  1595\n runPressureScenariosFast - time step  47  of  1595\n runPressureScenariosFast - time step  48  of  1595\n runPressureScenariosFast - time step  49  of  1595\n runPressureScenariosFast - time step  50  of  1595\n runPressureScenariosFast - time step  51  of  1595\n runPressureScenariosFast - time step  52  of  1595\n runPressureScenariosFast - time step  53  of  1595\n runPressureScenariosFast - time step  54  of  1595\n runPressureScenariosFast - time step  55  of  1595\n runPressureScenariosFast - time step  56  of  1595\n runPressureScenariosFast - time step  57  of  1595\n runPressureScenariosFast - time step  58  of  1595\n runPressureScenariosFast - time step  59  of  1595\n runPressureScenariosFast - time step  60  of  1595\n runPressureScenariosFast - time step  61  of  1595\n runPressureScenariosFast - time step  62  of  1595\n runPressureScenariosFast - time step  63  of  1595\n runPressureScenariosFast - time step  64  of  1595\n runPressureScenariosFast - time step  65  of  1595\n runPressureScenariosFast - time step  66  of  1595\n runPressureScenariosFast - time step  67  of  1595\n runPressureScenariosFast - time step  68  of  1595\n runPressureScenariosFast - time step  69  of  1595\n runPressureScenariosFast - time step  70  of  1595\n runPressureScenariosFast - time step  71  of  1595\n runPressureScenariosFast - time step  72  of  1595\n runPressureScenariosFast - time step  73  of  1595\n runPressureScenariosFast - time step  74  of  1595\n runPressureScenariosFast - time step  75  of  1595\n runPressureScenariosFast - time step  76  of  1595\n runPressureScenariosFast - time step  77  of  1595\n runPressureScenariosFast - time step  78  of  1595\n runPressureScenariosFast - time step  79  of  1595\n runPressureScenariosFast - time step  80  of  1595\n runPressureScenariosFast - time step  81  of  1595\n runPressureScenariosFast - time step  82  of  1595\n runPressureScenariosFast - time step  83  of  1595\n runPressureScenariosFast - time step  84  of  1595\n runPressureScenariosFast - time step  85  of  1595\n runPressureScenariosFast - time step  86  of  1595\n runPressureScenariosFast - time step  87  of  1595\n runPressureScenariosFast - time step  88  of  1595\n runPressureScenariosFast - time step  89  of  1595\n runPressureScenariosFast - time step  90  of  1595\n runPressureScenariosFast - time step  91  of  1595\n runPressureScenariosFast - time step  92  of  1595\n runPressureScenariosFast - time step  93  of  1595\n runPressureScenariosFast - time step  94  of  1595\n runPressureScenariosFast - time step  95  of  1595\n runPressureScenariosFast - time step  96  of  1595\n runPressureScenariosFast - time step  97  of  1595\n runPressureScenariosFast - time step  98  of  1595\n runPressureScenariosFast - time step  99  of  1595\n runPressureScenariosFast - time step  100  of  1595\n runPressureScenariosFast - time step  101  of  1595\n runPressureScenariosFast - time step  102  of  1595\n runPressureScenariosFast - time step  103  of  1595\n runPressureScenariosFast - time step  104  of  1595\n runPressureScenariosFast - time step  105  of  1595\n runPressureScenariosFast - time step  106  of  1595\n runPressureScenariosFast - time step  107  of  1595\n runPressureScenariosFast - time step  108  of  1595\n runPressureScenariosFast - time step  109  of  1595\n runPressureScenariosFast - time step  110  of  1595\n runPressureScenariosFast - time step  111  of  1595\n runPressureScenariosFast - time step  112  of  1595\n runPressureScenariosFast - time step  113  of  1595\n runPressureScenariosFast - time step  114  of  1595\n runPressureScenariosFast - time step  115  of  1595\n runPressureScenariosFast - time step  116  of  1595\n runPressureScenariosFast - time step  117  of  1595\n runPressureScenariosFast - time step  118  of  1595\n runPressureScenariosFast - time step  119  of  1595\n runPressureScenariosFast - time step  120  of  1595\n runPressureScenariosFast - time step  121  of  1595\n runPressureScenariosFast - time step  122  of  1595\n runPressureScenariosFast - time step  123  of  1595\n runPressureScenariosFast - time step  124  of  1595\n runPressureScenariosFast - time step  125  of  1595\n runPressureScenariosFast - time step  126  of  1595\n runPressureScenariosFast - time step  127  of  1595\n runPressureScenariosFast - time step  128  of  1595\n runPressureScenariosFast - time step  129  of  1595\n runPressureScenariosFast - time step  130  of  1595\n runPressureScenariosFast - time step  131  of  1595\n runPressureScenariosFast - time step  132  of  1595\n runPressureScenariosFast - time step  133  of  1595\n runPressureScenariosFast - time step  134  of  1595\n runPressureScenariosFast - time step  135  of  1595\n runPressureScenariosFast - time step  136  of  1595\n runPressureScenariosFast - time step  137  of  1595\n runPressureScenariosFast - time step  138  of  1595\n runPressureScenariosFast - time step  139  of  1595\n runPressureScenariosFast - time step  140  of  1595\n runPressureScenariosFast - time step  141  of  1595\n runPressureScenariosFast - time step  142  of  1595\n runPressureScenariosFast - time step  143  of  1595\n runPressureScenariosFast - time step  144  of  1595\n runPressureScenariosFast - time step  145  of  1595\n runPressureScenariosFast - time step  146  of  1595\n runPressureScenariosFast - time step  147  of  1595\n runPressureScenariosFast - time step  148  of  1595\n runPressureScenariosFast - time step  149  of  1595\n runPressureScenariosFast - time step  150  of  1595\n runPressureScenariosFast - time step  151  of  1595\n runPressureScenariosFast - time step  152  of  1595\n runPressureScenariosFast - time step  153  of  1595\n runPressureScenariosFast - time step  154  of  1595\n runPressureScenariosFast - time step  155  of  1595\n runPressureScenariosFast - time step  156  of  1595\n runPressureScenariosFast - time step  157  of  1595\n runPressureScenariosFast - time step  158  of  1595\n runPressureScenariosFast - time step  159  of  1595\n runPressureScenariosFast - time step  160  of  1595\n runPressureScenariosFast - time step  161  of  1595\n runPressureScenariosFast - time step  162  of  1595\n runPressureScenariosFast - time step  163  of  1595\n runPressureScenariosFast - time step  164  of  1595\n runPressureScenariosFast - time step  165  of  1595\n runPressureScenariosFast - time step  166  of  1595\n runPressureScenariosFast - time step  167  of  1595\n runPressureScenariosFast - time step  168  of  1595\n runPressureScenariosFast - time step  169  of  1595\n runPressureScenariosFast - time step  170  of  1595\n runPressureScenariosFast - time step  171  of  1595\n runPressureScenariosFast - time step  172  of  1595\n runPressureScenariosFast - time step  173  of  1595\n runPressureScenariosFast - time step  174  of  1595\n runPressureScenariosFast - time step  175  of  1595\n runPressureScenariosFast - time step  176  of  1595\n runPressureScenariosFast - time step  177  of  1595\n runPressureScenariosFast - time step  178  of  1595\n runPressureScenariosFast - time step  179  of  1595\n runPressureScenariosFast - time step  180  of  1595\n runPressureScenariosFast - time step  181  of  1595\n runPressureScenariosFast - time step  182  of  1595\n runPressureScenariosFast - time step  183  of  1595\n runPressureScenariosFast - time step  184  of  1595\n runPressureScenariosFast - time step  185  of  1595\n runPressureScenariosFast - time step  186  of  1595\n runPressureScenariosFast - time step  187  of  1595\n runPressureScenariosFast - time step  188  of  1595\n runPressureScenariosFast - time step  189  of  1595\n runPressureScenariosFast - time step  190  of  1595\n runPressureScenariosFast - time step  191  of  1595\n runPressureScenariosFast - time step  192  of  1595\n runPressureScenariosFast - time step  193  of  1595\n runPressureScenariosFast - time step  194  of  1595\n runPressureScenariosFast - time step  195  of  1595\n runPressureScenariosFast - time step  196  of  1595\n runPressureScenariosFast - time step  197  of  1595\n runPressureScenariosFast - time step  198  of  1595\n runPressureScenariosFast - time step  199  of  1595\n runPressureScenariosFast - time step  200  of  1595\n runPressureScenariosFast - time step  201  of  1595\n runPressureScenariosFast - time step  202  of  1595\n runPressureScenariosFast - time step  203  of  1595\n runPressureScenariosFast - time step  204  of  1595\n runPressureScenariosFast - time step  205  of  1595\n runPressureScenariosFast - time step  206  of  1595\n runPressureScenariosFast - time step  207  of  1595\n runPressureScenariosFast - time step  208  of  1595\n runPressureScenariosFast - time step  209  of  1595\n runPressureScenariosFast - time step  210  of  1595\n runPressureScenariosFast - time step  211  of  1595\n runPressureScenariosFast - time step  212  of  1595\n runPressureScenariosFast - time step  213  of  1595\n runPressureScenariosFast - time step  214  of  1595\n runPressureScenariosFast - time step  215  of  1595\n runPressureScenariosFast - time step  216  of  1595\n runPressureScenariosFast - time step  217  of  1595\n runPressureScenariosFast - time step  218  of  1595\n runPressureScenariosFast - time step  219  of  1595\n runPressureScenariosFast - time step  220  of  1595\n runPressureScenariosFast - time step  221  of  1595\n runPressureScenariosFast - time step  222  of  1595\n runPressureScenariosFast - time step  223  of  1595\n runPressureScenariosFast - time step  224  of  1595\n runPressureScenariosFast - time step  225  of  1595\n runPressureScenariosFast - time step  226  of  1595\n runPressureScenariosFast - time step  227  of  1595\n runPressureScenariosFast - time step  228  of  1595\n runPressureScenariosFast - time step  229  of  1595\n runPressureScenariosFast - time step  230  of  1595\n runPressureScenariosFast - time step  231  of  1595\n runPressureScenariosFast - time step  232  of  1595\n runPressureScenariosFast - time step  233  of  1595\n runPressureScenariosFast - time step  234  of  1595\n runPressureScenariosFast - time step  235  of  1595\n runPressureScenariosFast - time step  236  of  1595\n runPressureScenariosFast - time step  237  of  1595\n runPressureScenariosFast - time step  238  of  1595\n runPressureScenariosFast - time step  239  of  1595\n runPressureScenariosFast - time step  240  of  1595\n runPressureScenariosFast - time step  241  of  1595\n runPressureScenariosFast - time step  242  of  1595\n runPressureScenariosFast - time step  243  of  1595\n runPressureScenariosFast - time step  244  of  1595\n runPressureScenariosFast - time step  245  of  1595\n runPressureScenariosFast - time step  246  of  1595\n runPressureScenariosFast - time step  247  of  1595\n runPressureScenariosFast - time step  248  of  1595\n runPressureScenariosFast - time step  249  of  1595\n runPressureScenariosFast - time step  250  of  1595\n runPressureScenariosFast - time step  251  of  1595\n runPressureScenariosFast - time step  252  of  1595\n runPressureScenariosFast - time step  253  of  1595\n runPressureScenariosFast - time step  254  of  1595\n runPressureScenariosFast - time step  255  of  1595\n runPressureScenariosFast - time step  256  of  1595\n runPressureScenariosFast - time step  257  of  1595\n runPressureScenariosFast - time step  258  of  1595\n runPressureScenariosFast - time step  259  of  1595\n runPressureScenariosFast - time step  260  of  1595\n runPressureScenariosFast - time step  261  of  1595\n runPressureScenariosFast - time step  262  of  1595\n runPressureScenariosFast - time step  263  of  1595\n runPressureScenariosFast - time step  264  of  1595\n runPressureScenariosFast - time step  265  of  1595\n runPressureScenariosFast - time step  266  of  1595\n runPressureScenariosFast - time step  267  of  1595\n runPressureScenariosFast - time step  268  of  1595\n runPressureScenariosFast - time step  269  of  1595\n runPressureScenariosFast - time step  270  of  1595\n runPressureScenariosFast - time step  271  of  1595\n runPressureScenariosFast - time step  272  of  1595\n runPressureScenariosFast - time step  273  of  1595\n runPressureScenariosFast - time step  274  of  1595\n runPressureScenariosFast - time step  275  of  1595\n runPressureScenariosFast - time step  276  of  1595\n runPressureScenariosFast - time step  277  of  1595\n runPressureScenariosFast - time step  278  of  1595\n runPressureScenariosFast - time step  279  of  1595\n runPressureScenariosFast - time step  280  of  1595\n runPressureScenariosFast - time step  281  of  1595\n runPressureScenariosFast - time step  282  of  1595\n runPressureScenariosFast - time step  283  of  1595\n runPressureScenariosFast - time step  284  of  1595\n runPressureScenariosFast - time step  285  of  1595\n runPressureScenariosFast - time step  286  of  1595\n runPressureScenariosFast - time step  287  of  1595\n runPressureScenariosFast - time step  288  of  1595\n runPressureScenariosFast - time step  289  of  1595\n runPressureScenariosFast - time step  290  of  1595\n runPressureScenariosFast - time step  291  of  1595\n runPressureScenariosFast - time step  292  of  1595\n runPressureScenariosFast - time step  293  of  1595\n runPressureScenariosFast - time step  294  of  1595\n runPressureScenariosFast - time step  295  of  1595\n runPressureScenariosFast - time step  296  of  1595\n runPressureScenariosFast - time step  297  of  1595\n runPressureScenariosFast - time step  298  of  1595\n runPressureScenariosFast - time step  299  of  1595\n runPressureScenariosFast - time step  300  of  1595\n runPressureScenariosFast - time step  301  of  1595\n runPressureScenariosFast - time step  302  of  1595\n runPressureScenariosFast - time step  303  of  1595\n runPressureScenariosFast - time step  304  of  1595\n runPressureScenariosFast - time step  305  of  1595\n runPressureScenariosFast - time step  306  of  1595\n runPressureScenariosFast - time step  307  of  1595\n runPressureScenariosFast - time step  308  of  1595\n runPressureScenariosFast - time step  309  of  1595\n runPressureScenariosFast - time step  310  of  1595\n runPressureScenariosFast - time step  311  of  1595\n runPressureScenariosFast - time step  312  of  1595\n runPressureScenariosFast - time step  313  of  1595\n runPressureScenariosFast - time step  314  of  1595\n runPressureScenariosFast - time step  315  of  1595\n runPressureScenariosFast - time step  316  of  1595\n runPressureScenariosFast - time step  317  of  1595\n runPressureScenariosFast - time step  318  of  1595\n runPressureScenariosFast - time step  319  of  1595\n runPressureScenariosFast - time step  320  of  1595\n runPressureScenariosFast - time step  321  of  1595\n runPressureScenariosFast - time step  322  of  1595\n runPressureScenariosFast - time step  323  of  1595\n runPressureScenariosFast - time step  324  of  1595\n runPressureScenariosFast - time step  325  of  1595\n runPressureScenariosFast - time step  326  of  1595\n runPressureScenariosFast - time step  327  of  1595\n runPressureScenariosFast - time step  328  of  1595\n runPressureScenariosFast - time step  329  of  1595\n runPressureScenariosFast - time step  330  of  1595\n runPressureScenariosFast - time step  331  of  1595\n runPressureScenariosFast - time step  332  of  1595\n runPressureScenariosFast - time step  333  of  1595\n runPressureScenariosFast - time step  334  of  1595\n runPressureScenariosFast - time step  335  of  1595\n runPressureScenariosFast - time step  336  of  1595\n runPressureScenariosFast - time step  337  of  1595\n runPressureScenariosFast - time step  338  of  1595\n runPressureScenariosFast - time step  339  of  1595\n runPressureScenariosFast - time step  340  of  1595\n runPressureScenariosFast - time step  341  of  1595\n runPressureScenariosFast - time step  342  of  1595\n runPressureScenariosFast - time step  343  of  1595\n runPressureScenariosFast - time step  344  of  1595\n runPressureScenariosFast - time step  345  of  1595\n runPressureScenariosFast - time step  346  of  1595\n runPressureScenariosFast - time step  347  of  1595\n runPressureScenariosFast - time step  348  of  1595\n runPressureScenariosFast - time step  349  of  1595\n runPressureScenariosFast - time step  350  of  1595\n runPressureScenariosFast - time step  351  of  1595\n runPressureScenariosFast - time step  352  of  1595\n runPressureScenariosFast - time step  353  of  1595\n runPressureScenariosFast - time step  354  of  1595\n runPressureScenariosFast - time step  355  of  1595\n runPressureScenariosFast - time step  356  of  1595\n runPressureScenariosFast - time step  357  of  1595\n runPressureScenariosFast - time step  358  of  1595\n runPressureScenariosFast - time step  359  of  1595\n runPressureScenariosFast - time step  360  of  1595\n runPressureScenariosFast - time step  361  of  1595\n runPressureScenariosFast - time step  362  of  1595\n runPressureScenariosFast - time step  363  of  1595\n runPressureScenariosFast - time step  364  of  1595\n runPressureScenariosFast - time step  365  of  1595\n runPressureScenariosFast - time step  366  of  1595\n runPressureScenariosFast - time step  367  of  1595\n runPressureScenariosFast - time step  368  of  1595\n runPressureScenariosFast - time step  369  of  1595\n runPressureScenariosFast - time step  370  of  1595\n runPressureScenariosFast - time step  371  of  1595\n runPressureScenariosFast - time step  372  of  1595\n runPressureScenariosFast - time step  373  of  1595\n runPressureScenariosFast - time step  374  of  1595\n runPressureScenariosFast - time step  375  of  1595\n runPressureScenariosFast - time step  376  of  1595\n runPressureScenariosFast - time step  377  of  1595\n runPressureScenariosFast - time step  378  of  1595\n runPressureScenariosFast - time step  379  of  1595\n runPressureScenariosFast - time step  380  of  1595\n runPressureScenariosFast - time step  381  of  1595\n runPressureScenariosFast - time step  382  of  1595\n runPressureScenariosFast - time step  383  of  1595\n runPressureScenariosFast - time step  384  of  1595\n runPressureScenariosFast - time step  385  of  1595\n runPressureScenariosFast - time step  386  of  1595\n runPressureScenariosFast - time step  387  of  1595\n runPressureScenariosFast - time step  388  of  1595\n runPressureScenariosFast - time step  389  of  1595\n runPressureScenariosFast - time step  390  of  1595\n runPressureScenariosFast - time step  391  of  1595\n runPressureScenariosFast - time step  392  of  1595\n runPressureScenariosFast - time step  393  of  1595\n runPressureScenariosFast - time step  394  of  1595\n runPressureScenariosFast - time step  395  of  1595\n runPressureScenariosFast - time step  396  of  1595\n runPressureScenariosFast - time step  397  of  1595\n runPressureScenariosFast - time step  398  of  1595\n runPressureScenariosFast - time step  399  of  1595\n runPressureScenariosFast - time step  400  of  1595\n runPressureScenariosFast - time step  401  of  1595\n runPressureScenariosFast - time step  402  of  1595\n runPressureScenariosFast - time step  403  of  1595\n runPressureScenariosFast - time step  404  of  1595\n runPressureScenariosFast - time step  405  of  1595\n runPressureScenariosFast - time step  406  of  1595\n runPressureScenariosFast - time step  407  of  1595\n runPressureScenariosFast - time step  408  of  1595\n runPressureScenariosFast - time step  409  of  1595\n runPressureScenariosFast - time step  410  of  1595\n runPressureScenariosFast - time step  411  of  1595\n runPressureScenariosFast - time step  412  of  1595\n runPressureScenariosFast - time step  413  of  1595\n runPressureScenariosFast - time step  414  of  1595\n runPressureScenariosFast - time step  415  of  1595\n runPressureScenariosFast - time step  416  of  1595\n runPressureScenariosFast - time step  417  of  1595\n runPressureScenariosFast - time step  418  of  1595\n runPressureScenariosFast - time step  419  of  1595\n runPressureScenariosFast - time step  420  of  1595\n runPressureScenariosFast - time step  421  of  1595\n runPressureScenariosFast - time step  422  of  1595\n runPressureScenariosFast - time step  423  of  1595\n runPressureScenariosFast - time step  424  of  1595\n runPressureScenariosFast - time step  425  of  1595\n runPressureScenariosFast - time step  426  of  1595\n runPressureScenariosFast - time step  427  of  1595\n runPressureScenariosFast - time step  428  of  1595\n runPressureScenariosFast - time step  429  of  1595\n runPressureScenariosFast - time step  430  of  1595\n runPressureScenariosFast - time step  431  of  1595\n runPressureScenariosFast - time step  432  of  1595\n runPressureScenariosFast - time step  433  of  1595\n runPressureScenariosFast - time step  434  of  1595\n runPressureScenariosFast - time step  435  of  1595\n runPressureScenariosFast - time step  436  of  1595\n runPressureScenariosFast - time step  437  of  1595\n runPressureScenariosFast - time step  438  of  1595\n runPressureScenariosFast - time step  439  of  1595\n runPressureScenariosFast - time step  440  of  1595\n runPressureScenariosFast - time step  441  of  1595\n runPressureScenariosFast - time step  442  of  1595\n runPressureScenariosFast - time step  443  of  1595\n runPressureScenariosFast - time step  444  of  1595\n runPressureScenariosFast - time step  445  of  1595\n runPressureScenariosFast - time step  446  of  1595\n runPressureScenariosFast - time step  447  of  1595\n runPressureScenariosFast - time step  448  of  1595\n runPressureScenariosFast - time step  449  of  1595\n runPressureScenariosFast - time step  450  of  1595\n runPressureScenariosFast - time step  451  of  1595\n runPressureScenariosFast - time step  452  of  1595\n runPressureScenariosFast - time step  453  of  1595\n runPressureScenariosFast - time step  454  of  1595\n runPressureScenariosFast - time step  455  of  1595\n runPressureScenariosFast - time step  456  of  1595\n runPressureScenariosFast - time step  457  of  1595\n runPressureScenariosFast - time step  458  of  1595\n runPressureScenariosFast - time step  459  of  1595\n runPressureScenariosFast - time step  460  of  1595\n runPressureScenariosFast - time step  461  of  1595\n runPressureScenariosFast - time step  462  of  1595\n runPressureScenariosFast - time step  463  of  1595\n runPressureScenariosFast - time step  464  of  1595\n runPressureScenariosFast - time step  465  of  1595\n runPressureScenariosFast - time step  466  of  1595\n runPressureScenariosFast - time step  467  of  1595\n runPressureScenariosFast - time step  468  of  1595\n runPressureScenariosFast - time step  469  of  1595\n runPressureScenariosFast - time step  470  of  1595\n runPressureScenariosFast - time step  471  of  1595\n runPressureScenariosFast - time step  472  of  1595\n runPressureScenariosFast - time step  473  of  1595\n runPressureScenariosFast - time step  \n\n*** WARNING: max output size exceeded, skipping output. ***\n\n1595\n runPressureScenariosFast - time step  1134  of  1595\n runPressureScenariosFast - time step  1135  of  1595\n runPressureScenariosFast - time step  1136  of  1595\n runPressureScenariosFast - time step  1137  of  1595\n runPressureScenariosFast - time step  1138  of  1595\n runPressureScenariosFast - time step  1139  of  1595\n runPressureScenariosFast - time step  1140  of  1595\n runPressureScenariosFast - time step  1141  of  1595\n runPressureScenariosFast - time step  1142  of  1595\n runPressureScenariosFast - time step  1143  of  1595\n runPressureScenariosFast - time step  1144  of  1595\n runPressureScenariosFast - time step  1145  of  1595\n runPressureScenariosFast - time step  1146  of  1595\n runPressureScenariosFast - time step  1147  of  1595\n runPressureScenariosFast - time step  1148  of  1595\n runPressureScenariosFast - time step  1149  of  1595\n runPressureScenariosFast - time step  1150  of  1595\n runPressureScenariosFast - time step  1151  of  1595\n runPressureScenariosFast - time step  1152  of  1595\n runPressureScenariosFast - time step  1153  of  1595\n runPressureScenariosFast - time step  1154  of  1595\n runPressureScenariosFast - time step  1155  of  1595\n runPressureScenariosFast - time step  1156  of  1595\n runPressureScenariosFast - time step  1157  of  1595\n runPressureScenariosFast - time step  1158  of  1595\n runPressureScenariosFast - time step  1159  of  1595\n runPressureScenariosFast - time step  1160  of  1595\n runPressureScenariosFast - time step  1161  of  1595\n runPressureScenariosFast - time step  1162  of  1595\n runPressureScenariosFast - time step  1163  of  1595\n runPressureScenariosFast - time step  1164  of  1595\n runPressureScenariosFast - time step  1165  of  1595\n runPressureScenariosFast - time step  1166  of  1595\n runPressureScenariosFast - time step  1167  of  1595\n runPressureScenariosFast - time step  1168  of  1595\n runPressureScenariosFast - time step  1169  of  1595\n runPressureScenariosFast - time step  1170  of  1595\n runPressureScenariosFast - time step  1171  of  1595\n runPressureScenariosFast - time step  1172  of  1595\n runPressureScenariosFast - time step  1173  of  1595\n runPressureScenariosFast - time step  1174  of  1595\n runPressureScenariosFast - time step  1175  of  1595\n runPressureScenariosFast - time step  1176  of  1595\n runPressureScenariosFast - time step  1177  of  1595\n runPressureScenariosFast - time step  1178  of  1595\n runPressureScenariosFast - time step  1179  of  1595\n runPressureScenariosFast - time step  1180  of  1595\n runPressureScenariosFast - time step  1181  of  1595\n runPressureScenariosFast - time step  1182  of  1595\n runPressureScenariosFast - time step  1183  of  1595\n runPressureScenariosFast - time step  1184  of  1595\n runPressureScenariosFast - time step  1185  of  1595\n runPressureScenariosFast - time step  1186  of  1595\n runPressureScenariosFast - time step  1187  of  1595\n runPressureScenariosFast - time step  1188  of  1595\n runPressureScenariosFast - time step  1189  of  1595\n runPressureScenariosFast - time step  1190  of  1595\n runPressureScenariosFast - time step  1191  of  1595\n runPressureScenariosFast - time step  1192  of  1595\n runPressureScenariosFast - time step  1193  of  1595\n runPressureScenariosFast - time step  1194  of  1595\n runPressureScenariosFast - time step  1195  of  1595\n runPressureScenariosFast - time step  1196  of  1595\n runPressureScenariosFast - time step  1197  of  1595\n runPressureScenariosFast - time step  1198  of  1595\n runPressureScenariosFast - time step  1199  of  1595\n runPressureScenariosFast - time step  1200  of  1595\n runPressureScenariosFast - time step  1201  of  1595\n runPressureScenariosFast - time step  1202  of  1595\n runPressureScenariosFast - time step  1203  of  1595\n runPressureScenariosFast - time step  1204  of  1595\n runPressureScenariosFast - time step  1205  of  1595\n runPressureScenariosFast - time step  1206  of  1595\n runPressureScenariosFast - time step  1207  of  1595\n runPressureScenariosFast - time step  1208  of  1595\n runPressureScenariosFast - time step  1209  of  1595\n runPressureScenariosFast - time step  1210  of  1595\n runPressureScenariosFast - time step  1211  of  1595\n runPressureScenariosFast - time step  1212  of  1595\n runPressureScenariosFast - time step  1213  of  1595\n runPressureScenariosFast - time step  1214  of  1595\n runPressureScenariosFast - time step  1215  of  1595\n runPressureScenariosFast - time step  1216  of  1595\n runPressureScenariosFast - time step  1217  of  1595\n runPressureScenariosFast - time step  1218  of  1595\n runPressureScenariosFast - time step  1219  of  1595\n runPressureScenariosFast - time step  1220  of  1595\n runPressureScenariosFast - time step  1221  of  1595\n runPressureScenariosFast - time step  1222  of  1595\n runPressureScenariosFast - time step  1223  of  1595\n runPressureScenariosFast - time step  1224  of  1595\n runPressureScenariosFast - time step  1225  of  1595\n runPressureScenariosFast - time step  1226  of  1595\n runPressureScenariosFast - time step  1227  of  1595\n runPressureScenariosFast - time step  1228  of  1595\n runPressureScenariosFast - time step  1229  of  1595\n runPressureScenariosFast - time step  1230  of  1595\n runPressureScenariosFast - time step  1231  of  1595\n runPressureScenariosFast - time step  1232  of  1595\n runPressureScenariosFast - time step  1233  of  1595\n runPressureScenariosFast - time step  1234  of  1595\n runPressureScenariosFast - time step  1235  of  1595\n runPressureScenariosFast - time step  1236  of  1595\n runPressureScenariosFast - time step  1237  of  1595\n runPressureScenariosFast - time step  1238  of  1595\n runPressureScenariosFast - time step  1239  of  1595\n runPressureScenariosFast - time step  1240  of  1595\n runPressureScenariosFast - time step  1241  of  1595\n runPressureScenariosFast - time step  1242  of  1595\n runPressureScenariosFast - time step  1243  of  1595\n runPressureScenariosFast - time step  1244  of  1595\n runPressureScenariosFast - time step  1245  of  1595\n runPressureScenariosFast - time step  1246  of  1595\n runPressureScenariosFast - time step  1247  of  1595\n runPressureScenariosFast - time step  1248  of  1595\n runPressureScenariosFast - time step  1249  of  1595\n runPressureScenariosFast - time step  1250  of  1595\n runPressureScenariosFast - time step  1251  of  1595\n runPressureScenariosFast - time step  1252  of  1595\n runPressureScenariosFast - time step  1253  of  1595\n runPressureScenariosFast - time step  1254  of  1595\n runPressureScenariosFast - time step  1255  of  1595\n runPressureScenariosFast - time step  1256  of  1595\n runPressureScenariosFast - time step  1257  of  1595\n runPressureScenariosFast - time step  1258  of  1595\n runPressureScenariosFast - time step  1259  of  1595\n runPressureScenariosFast - time step  1260  of  1595\n runPressureScenariosFast - time step  1261  of  1595\n runPressureScenariosFast - time step  1262  of  1595\n runPressureScenariosFast - time step  1263  of  1595\n runPressureScenariosFast - time step  1264  of  1595\n runPressureScenariosFast - time step  1265  of  1595\n runPressureScenariosFast - time step  1266  of  1595\n runPressureScenariosFast - time step  1267  of  1595\n runPressureScenariosFast - time step  1268  of  1595\n runPressureScenariosFast - time step  1269  of  1595\n runPressureScenariosFast - time step  1270  of  1595\n runPressureScenariosFast - time step  1271  of  1595\n runPressureScenariosFast - time step  1272  of  1595\n runPressureScenariosFast - time step  1273  of  1595\n runPressureScenariosFast - time step  1274  of  1595\n runPressureScenariosFast - time step  1275  of  1595\n runPressureScenariosFast - time step  1276  of  1595\n runPressureScenariosFast - time step  1277  of  1595\n runPressureScenariosFast - time step  1278  of  1595\n runPressureScenariosFast - time step  1279  of  1595\n runPressureScenariosFast - time step  1280  of  1595\n runPressureScenariosFast - time step  1281  of  1595\n runPressureScenariosFast - time step  1282  of  1595\n runPressureScenariosFast - time step  1283  of  1595\n runPressureScenariosFast - time step  1284  of  1595\n runPressureScenariosFast - time step  1285  of  1595\n runPressureScenariosFast - time step  1286  of  1595\n runPressureScenariosFast - time step  1287  of  1595\n runPressureScenariosFast - time step  1288  of  1595\n runPressureScenariosFast - time step  1289  of  1595\n runPressureScenariosFast - time step  1290  of  1595\n runPressureScenariosFast - time step  1291  of  1595\n runPressureScenariosFast - time step  1292  of  1595\n runPressureScenariosFast - time step  1293  of  1595\n runPressureScenariosFast - time step  1294  of  1595\n runPressureScenariosFast - time step  1295  of  1595\n runPressureScenariosFast - time step  1296  of  1595\n runPressureScenariosFast - time step  1297  of  1595\n runPressureScenariosFast - time step  1298  of  1595\n runPressureScenariosFast - time step  1299  of  1595\n runPressureScenariosFast - time step  1300  of  1595\n runPressureScenariosFast - time step  1301  of  1595\n runPressureScenariosFast - time step  1302  of  1595\n runPressureScenariosFast - time step  1303  of  1595\n runPressureScenariosFast - time step  1304  of  1595\n runPressureScenariosFast - time step  1305  of  1595\n runPressureScenariosFast - time step  1306  of  1595\n runPressureScenariosFast - time step  1307  of  1595\n runPressureScenariosFast - time step  1308  of  1595\n runPressureScenariosFast - time step  1309  of  1595\n runPressureScenariosFast - time step  1310  of  1595\n runPressureScenariosFast - time step  1311  of  1595\n runPressureScenariosFast - time step  1312  of  1595\n runPressureScenariosFast - time step  1313  of  1595\n runPressureScenariosFast - time step  1314  of  1595\n runPressureScenariosFast - time step  1315  of  1595\n runPressureScenariosFast - time step  1316  of  1595\n runPressureScenariosFast - time step  1317  of  1595\n runPressureScenariosFast - time step  1318  of  1595\n runPressureScenariosFast - time step  1319  of  1595\n runPressureScenariosFast - time step  1320  of  1595\n runPressureScenariosFast - time step  1321  of  1595\n runPressureScenariosFast - time step  1322  of  1595\n runPressureScenariosFast - time step  1323  of  1595\n runPressureScenariosFast - time step  1324  of  1595\n runPressureScenariosFast - time step  1325  of  1595\n runPressureScenariosFast - time step  1326  of  1595\n runPressureScenariosFast - time step  1327  of  1595\n runPressureScenariosFast - time step  1328  of  1595\n runPressureScenariosFast - time step  1329  of  1595\n runPressureScenariosFast - time step  1330  of  1595\n runPressureScenariosFast - time step  1331  of  1595\n runPressureScenariosFast - time step  1332  of  1595\n runPressureScenariosFast - time step  1333  of  1595\n runPressureScenariosFast - time step  1334  of  1595\n runPressureScenariosFast - time step  1335  of  1595\n runPressureScenariosFast - time step  1336  of  1595\n runPressureScenariosFast - time step  1337  of  1595\n runPressureScenariosFast - time step  1338  of  1595\n runPressureScenariosFast - time step  1339  of  1595\n runPressureScenariosFast - time step  1340  of  1595\n runPressureScenariosFast - time step  1341  of  1595\n runPressureScenariosFast - time step  1342  of  1595\n runPressureScenariosFast - time step  1343  of  1595\n runPressureScenariosFast - time step  1344  of  1595\n runPressureScenariosFast - time step  1345  of  1595\n runPressureScenariosFast - time step  1346  of  1595\n runPressureScenariosFast - time step  1347  of  1595\n runPressureScenariosFast - time step  1348  of  1595\n runPressureScenariosFast - time step  1349  of  1595\n runPressureScenariosFast - time step  1350  of  1595\n runPressureScenariosFast - time step  1351  of  1595\n runPressureScenariosFast - time step  1352  of  1595\n runPressureScenariosFast - time step  1353  of  1595\n runPressureScenariosFast - time step  1354  of  1595\n runPressureScenariosFast - time step  1355  of  1595\n runPressureScenariosFast - time step  1356  of  1595\n runPressureScenariosFast - time step  1357  of  1595\n runPressureScenariosFast - time step  1358  of  1595\n runPressureScenariosFast - time step  1359  of  1595\n runPressureScenariosFast - time step  1360  of  1595\n runPressureScenariosFast - time step  1361  of  1595\n runPressureScenariosFast - time step  1362  of  1595\n runPressureScenariosFast - time step  1363  of  1595\n runPressureScenariosFast - time step  1364  of  1595\n runPressureScenariosFast - time step  1365  of  1595\n runPressureScenariosFast - time step  1366  of  1595\n runPressureScenariosFast - time step  1367  of  1595\n runPressureScenariosFast - time step  1368  of  1595\n runPressureScenariosFast - time step  1369  of  1595\n runPressureScenariosFast - time step  1370  of  1595\n runPressureScenariosFast - time step  1371  of  1595\n runPressureScenariosFast - time step  1372  of  1595\n runPressureScenariosFast - time step  1373  of  1595\n runPressureScenariosFast - time step  1374  of  1595\n runPressureScenariosFast - time step  1375  of  1595\n runPressureScenariosFast - time step  1376  of  1595\n runPressureScenariosFast - time step  1377  of  1595\n runPressureScenariosFast - time step  1378  of  1595\n runPressureScenariosFast - time step  1379  of  1595\n runPressureScenariosFast - time step  1380  of  1595\n runPressureScenariosFast - time step  1381  of  1595\n runPressureScenariosFast - time step  1382  of  1595\n runPressureScenariosFast - time step  1383  of  1595\n runPressureScenariosFast - time step  1384  of  1595\n runPressureScenariosFast - time step  1385  of  1595\n runPressureScenariosFast - time step  1386  of  1595\n runPressureScenariosFast - time step  1387  of  1595\n runPressureScenariosFast - time step  1388  of  1595\n runPressureScenariosFast - time step  1389  of  1595\n runPressureScenariosFast - time step  1390  of  1595\n runPressureScenariosFast - time step  1391  of  1595\n runPressureScenariosFast - time step  1392  of  1595\n runPressureScenariosFast - time step  1393  of  1595\n runPressureScenariosFast - time step  1394  of  1595\n runPressureScenariosFast - time step  1395  of  1595\n runPressureScenariosFast - time step  1396  of  1595\n runPressureScenariosFast - time step  1397  of  1595\n runPressureScenariosFast - time step  1398  of  1595\n runPressureScenariosFast - time step  1399  of  1595\n runPressureScenariosFast - time step  1400  of  1595\n runPressureScenariosFast - time step  1401  of  1595\n runPressureScenariosFast - time step  1402  of  1595\n runPressureScenariosFast - time step  1403  of  1595\n runPressureScenariosFast - time step  1404  of  1595\n runPressureScenariosFast - time step  1405  of  1595\n runPressureScenariosFast - time step  1406  of  1595\n runPressureScenariosFast - time step  1407  of  1595\n runPressureScenariosFast - time step  1408  of  1595\n runPressureScenariosFast - time step  1409  of  1595\n runPressureScenariosFast - time step  1410  of  1595\n runPressureScenariosFast - time step  1411  of  1595\n runPressureScenariosFast - time step  1412  of  1595\n runPressureScenariosFast - time step  1413  of  1595\n runPressureScenariosFast - time step  1414  of  1595\n runPressureScenariosFast - time step  1415  of  1595\n runPressureScenariosFast - time step  1416  of  1595\n runPressureScenariosFast - time step  1417  of  1595\n runPressureScenariosFast - time step  1418  of  1595\n runPressureScenariosFast - time step  1419  of  1595\n runPressureScenariosFast - time step  1420  of  1595\n runPressureScenariosFast - time step  1421  of  1595\n runPressureScenariosFast - time step  1422  of  1595\n runPressureScenariosFast - time step  1423  of  1595\n runPressureScenariosFast - time step  1424  of  1595\n runPressureScenariosFast - time step  1425  of  1595\n runPressureScenariosFast - time step  1426  of  1595\n runPressureScenariosFast - time step  1427  of  1595\n runPressureScenariosFast - time step  1428  of  1595\n runPressureScenariosFast - time step  1429  of  1595\n runPressureScenariosFast - time step  1430  of  1595\n runPressureScenariosFast - time step  1431  of  1595\n runPressureScenariosFast - time step  1432  of  1595\n runPressureScenariosFast - time step  1433  of  1595\n runPressureScenariosFast - time step  1434  of  1595\n runPressureScenariosFast - time step  1435  of  1595\n runPressureScenariosFast - time step  1436  of  1595\n runPressureScenariosFast - time step  1437  of  1595\n runPressureScenariosFast - time step  1438  of  1595\n runPressureScenariosFast - time step  1439  of  1595\n runPressureScenariosFast - time step  1440  of  1595\n runPressureScenariosFast - time step  1441  of  1595\n runPressureScenariosFast - time step  1442  of  1595\n runPressureScenariosFast - time step  1443  of  1595\n runPressureScenariosFast - time step  1444  of  1595\n runPressureScenariosFast - time step  1445  of  1595\n runPressureScenariosFast - time step  1446  of  1595\n runPressureScenariosFast - time step  1447  of  1595\n runPressureScenariosFast - time step  1448  of  1595\n runPressureScenariosFast - time step  1449  of  1595\n runPressureScenariosFast - time step  1450  of  1595\n runPressureScenariosFast - time step  1451  of  1595\n runPressureScenariosFast - time step  1452  of  1595\n runPressureScenariosFast - time step  1453  of  1595\n runPressureScenariosFast - time step  1454  of  1595\n runPressureScenariosFast - time step  1455  of  1595\n runPressureScenariosFast - time step  1456  of  1595\n runPressureScenariosFast - time step  1457  of  1595\n runPressureScenariosFast - time step  1458  of  1595\n runPressureScenariosFast - time step  1459  of  1595\n runPressureScenariosFast - time step  1460  of  1595\n runPressureScenariosFast - time step  1461  of  1595\n runPressureScenariosFast - time step  1462  of  1595\n runPressureScenariosFast - time step  1463  of  1595\n runPressureScenariosFast - time step  1464  of  1595\n runPressureScenariosFast - time step  1465  of  1595\n runPressureScenariosFast - time step  1466  of  1595\n runPressureScenariosFast - time step  1467  of  1595\n runPressureScenariosFast - time step  1468  of  1595\n runPressureScenariosFast - time step  1469  of  1595\n runPressureScenariosFast - time step  1470  of  1595\n runPressureScenariosFast - time step  1471  of  1595\n runPressureScenariosFast - time step  1472  of  1595\n runPressureScenariosFast - time step  1473  of  1595\n runPressureScenariosFast - time step  1474  of  1595\n runPressureScenariosFast - time step  1475  of  1595\n runPressureScenariosFast - time step  1476  of  1595\n runPressureScenariosFast - time step  1477  of  1595\n runPressureScenariosFast - time step  1478  of  1595\n runPressureScenariosFast - time step  1479  of  1595\n runPressureScenariosFast - time step  1480  of  1595\n runPressureScenariosFast - time step  1481  of  1595\n runPressureScenariosFast - time step  1482  of  1595\n runPressureScenariosFast - time step  1483  of  1595\n runPressureScenariosFast - time step  1484  of  1595\n runPressureScenariosFast - time step  1485  of  1595\n runPressureScenariosFast - time step  1486  of  1595\n runPressureScenariosFast - time step  1487  of  1595\n runPressureScenariosFast - time step  1488  of  1595\n runPressureScenariosFast - time step  1489  of  1595\n runPressureScenariosFast - time step  1490  of  1595\n runPressureScenariosFast - time step  1491  of  1595\n runPressureScenariosFast - time step  1492  of  1595\n runPressureScenariosFast - time step  1493  of  1595\n runPressureScenariosFast - time step  1494  of  1595\n runPressureScenariosFast - time step  1495  of  1595\n runPressureScenariosFast - time step  1496  of  1595\n runPressureScenariosFast - time step  1497  of  1595\n runPressureScenariosFast - time step  1498  of  1595\n runPressureScenariosFast - time step  1499  of  1595\n runPressureScenariosFast - time step  1500  of  1595\n runPressureScenariosFast - time step  1501  of  1595\n runPressureScenariosFast - time step  1502  of  1595\n runPressureScenariosFast - time step  1503  of  1595\n runPressureScenariosFast - time step  1504  of  1595\n runPressureScenariosFast - time step  1505  of  1595\n runPressureScenariosFast - time step  1506  of  1595\n runPressureScenariosFast - time step  1507  of  1595\n runPressureScenariosFast - time step  1508  of  1595\n runPressureScenariosFast - time step  1509  of  1595\n runPressureScenariosFast - time step  1510  of  1595\n runPressureScenariosFast - time step  1511  of  1595\n runPressureScenariosFast - time step  1512  of  1595\n runPressureScenariosFast - time step  1513  of  1595\n runPressureScenariosFast - time step  1514  of  1595\n runPressureScenariosFast - time step  1515  of  1595\n runPressureScenariosFast - time step  1516  of  1595\n runPressureScenariosFast - time step  1517  of  1595\n runPressureScenariosFast - time step  1518  of  1595\n runPressureScenariosFast - time step  1519  of  1595\n runPressureScenariosFast - time step  1520  of  1595\n runPressureScenariosFast - time step  1521  of  1595\n runPressureScenariosFast - time step  1522  of  1595\n runPressureScenariosFast - time step  1523  of  1595\n runPressureScenariosFast - time step  1524  of  1595\n runPressureScenariosFast - time step  1525  of  1595\n runPressureScenariosFast - time step  1526  of  1595\n runPressureScenariosFast - time step  1527  of  1595\n runPressureScenariosFast - time step  1528  of  1595\n runPressureScenariosFast - time step  1529  of  1595\n runPressureScenariosFast - time step  1530  of  1595\n runPressureScenariosFast - time step  1531  of  1595\n runPressureScenariosFast - time step  1532  of  1595\n runPressureScenariosFast - time step  1533  of  1595\n runPressureScenariosFast - time step  1534  of  1595\n runPressureScenariosFast - time step  1535  of  1595\n runPressureScenariosFast - time step  1536  of  1595\n runPressureScenariosFast - time step  1537  of  1595\n runPressureScenariosFast - time step  1538  of  1595\n runPressureScenariosFast - time step  1539  of  1595\n runPressureScenariosFast - time step  1540  of  1595\n runPressureScenariosFast - time step  1541  of  1595\n runPressureScenariosFast - time step  1542  of  1595\n runPressureScenariosFast - time step  1543  of  1595\n runPressureScenariosFast - time step  1544  of  1595\n runPressureScenariosFast - time step  1545  of  1595\n runPressureScenariosFast - time step  1546  of  1595\n runPressureScenariosFast - time step  1547  of  1595\n runPressureScenariosFast - time step  1548  of  1595\n runPressureScenariosFast - time step  1549  of  1595\n runPressureScenariosFast - time step  1550  of  1595\n runPressureScenariosFast - time step  1551  of  1595\n runPressureScenariosFast - time step  1552  of  1595\n runPressureScenariosFast - time step  1553  of  1595\n runPressureScenariosFast - time step  1554  of  1595\n runPressureScenariosFast - time step  1555  of  1595\n runPressureScenariosFast - time step  1556  of  1595\n runPressureScenariosFast - time step  1557  of  1595\n runPressureScenariosFast - time step  1558  of  1595\n runPressureScenariosFast - time step  1559  of  1595\n runPressureScenariosFast - time step  1560  of  1595\n runPressureScenariosFast - time step  1561  of  1595\n runPressureScenariosFast - time step  1562  of  1595\n runPressureScenariosFast - time step  1563  of  1595\n runPressureScenariosFast - time step  1564  of  1595\n runPressureScenariosFast - time step  1565  of  1595\n runPressureScenariosFast - time step  1566  of  1595\n runPressureScenariosFast - time step  1567  of  1595\n runPressureScenariosFast - time step  1568  of  1595\n runPressureScenariosFast - time step  1569  of  1595\n runPressureScenariosFast - time step  1570  of  1595\n runPressureScenariosFast - time step  1571  of  1595\n runPressureScenariosFast - time step  1572  of  1595\n runPressureScenariosFast - time step  1573  of  1595\n runPressureScenariosFast - time step  1574  of  1595\n runPressureScenariosFast - time step  1575  of  1595\n runPressureScenariosFast - time step  1576  of  1595\n runPressureScenariosFast - time step  1577  of  1595\n runPressureScenariosFast - time step  1578  of  1595\n runPressureScenariosFast - time step  1579  of  1595\n runPressureScenariosFast - time step  1580  of  1595\n runPressureScenariosFast - time step  1581  of  1595\n runPressureScenariosFast - time step  1582  of  1595\n runPressureScenariosFast - time step  1583  of  1595\n runPressureScenariosFast - time step  1584  of  1595\n runPressureScenariosFast - time step  1585  of  1595\n runPressureScenariosFast - time step  1586  of  1595\n runPressureScenariosFast - time step  1587  of  1595\n runPressureScenariosFast - time step  1588  of  1595\n runPressureScenariosFast - time step  1589  of  1595\n runPressureScenariosFast - time step  1590  of  1595\n runPressureScenariosFast - time step  1591  of  1595\n runPressureScenariosFast - time step  1592  of  1595\n runPressureScenariosFast - time step  1593  of  1595\n runPressureScenariosFast - time step  1594  of  1595\npressureScenariosToDF:  485 20 9700 20\npressureScenariosToDF:  9700 9700\n3115.217863559723  for slow\n"
     ]
    }
   ],
   "source": [
    "# Run deep scenarios\n",
    "#eq['Origin Date']=pd.to_datetime(eq['Origin Date'])\n",
    "#dWellPPScenariosToday,dPPTimeSeriesToday=deepM.runPressureScenarios(EQDF.iloc[1],deepPPSelectedWells,deepPPInj,verbose=1)\n",
    "\n",
    "time5 = time.time()\n",
    "dWellPPScenarios2021slow,dPPTimeSeriesT2021slow=deepM.runPressureScenariosSlow(EQDF.iloc[0],deepPPSelectedWells,deepPPInj,verbose=1)\n",
    "time6 = time.time()\n",
    "print(time6-time5,' for slow')\n"
   ]
  },
  {
   "cell_type": "code",
   "execution_count": 0,
   "metadata": {
    "application/vnd.databricks.v1+cell": {
     "cellMetadata": {
      "byteLimit": 2048000,
      "rowLimit": 10000
     },
     "inputWidgets": {},
     "nuid": "dc5b4e0a-10c4-44d9-b04a-6cdf992dd9d9",
     "showTitle": false,
     "title": ""
    }
   },
   "outputs": [],
   "source": [
    "\n",
    "baseOutPath='/Workspace/Users/bill.curry@exxonmobil.com/gist/Outputs/StantonToday_'\n",
    "#dWellPPScenariosToday.to_csv(baseOutPath+'deepPP.csv')\n",
    "dWellPPScenarios2021b.to_csv(baseOutPath+'2021deepPPoriginal.csv')\n",
    "dWellPPScenarios2021fast.to_csv(baseOutPath+'2021deepPPfast.csv')\n",
    "dWellPPScenarios2021slow.to_csv(baseOutPath+'2021deepPPslow.csv')\n",
    "np.save(baseOutPath+'deepPPTimeSeries2021fast.npy',dPPTimeSeriesT2021fast)\n",
    "np.save(baseOutPath+'deepPPTimeSeries2021slow.npy',dPPTimeSeriesT2021slow)\n",
    "#sWellPPScenariosToday.to_csv(baseOutPath+'shallowPP.csv')\n",
    "#sWellPPScenarios2021.to_csv(baseOutPath+'2021shallowPP.csv')"
   ]
  },
  {
   "cell_type": "code",
   "execution_count": 0,
   "metadata": {
    "application/vnd.databricks.v1+cell": {
     "cellMetadata": {
      "byteLimit": 2048000,
      "rowLimit": 10000
     },
     "inputWidgets": {},
     "nuid": "516355c2-dcda-43b7-9cc1-c75606a5b322",
     "showTitle": false,
     "title": ""
    }
   },
   "outputs": [],
   "source": [
    "sWellPPScenariosToday,sPPTimeSeriesToday=shallowM.runPressureScenarios(EQDF.iloc[1],shallowPPSelectedWells,shallowPPInj,verbose=1)\n",
    "sWellPPScenarios2021,sPPTimeSeries2021=shallowM.runPressureScenarios(EQDF.iloc[0],shallowPPSelectedWells,shallowPPInj,verbose=1)"
   ]
  },
  {
   "cell_type": "code",
   "execution_count": 0,
   "metadata": {
    "application/vnd.databricks.v1+cell": {
     "cellMetadata": {
      "byteLimit": 2048000,
      "rowLimit": 10000
     },
     "inputWidgets": {},
     "nuid": "78d8630f-0e62-41f4-93db-6a7cde982f29",
     "showTitle": false,
     "title": ""
    }
   },
   "outputs": [],
   "source": [
    "dPPTimeSeriesSum=dPPTimeSeriesT2021a.sum(axis=1)\n",
    "#sPPTimeSeriesSum=sPPTimeSeriesToday.sum(axis=1)\n",
    "dPPTimes=np.linspace(deepM.injOT, deepM.injOT+deepM.injDT*(deepM.injNT-1.),deepM.injNT)\n",
    "#sPPTimes=np.linspace(shallowM.injOT, shallowM.injOT+shallowM.injDT*(shallowM.injNT-1.),shallowM.injNT)"
   ]
  },
  {
   "cell_type": "code",
   "execution_count": 0,
   "metadata": {
    "application/vnd.databricks.v1+cell": {
     "cellMetadata": {
      "byteLimit": 2048000,
      "rowLimit": 10000
     },
     "inputWidgets": {},
     "nuid": "6584e177-339a-465a-9378-36b36270d749",
     "showTitle": false,
     "title": ""
    }
   },
   "outputs": [],
   "source": [
    "#np.save(baseOutPath+'deepPPTimeSeriesToday.npy',dPPTimeSeriesT2021a)\n",
    "#np.save(baseOutPath+'deepPPTimeSeriesToday.npy',dPPTimeSeriesToday)\n",
    "#np.save(baseOutPath+'shallowPPTimes.npy',sPPTimes)\n",
    "#np.save(baseOutPath+'shallowPPTimeSeriesSum.npy',sPPTimeSeriesSum)\n",
    "np.save(baseOutPath+'deepPPTimeSeriesSum.npy',dPPTimeSeriesSum)"
   ]
  },
  {
   "cell_type": "code",
   "execution_count": 0,
   "metadata": {
    "application/vnd.databricks.v1+cell": {
     "cellMetadata": {
      "byteLimit": 2048000,
      "rowLimit": 10000
     },
     "inputWidgets": {},
     "nuid": "77484415-3a8a-420d-8bdf-1cdbc083b961",
     "showTitle": false,
     "title": ""
    }
   },
   "outputs": [],
   "source": [
    "# Window out significant wells - save individual time series for those\n"
   ]
  },
  {
   "cell_type": "code",
   "execution_count": 0,
   "metadata": {
    "application/vnd.databricks.v1+cell": {
     "cellMetadata": {
      "byteLimit": 2048000,
      "rowLimit": 10000
     },
     "inputWidgets": {},
     "nuid": "a2343091-6233-4724-b557-70ce0c3bf73a",
     "showTitle": false,
     "title": ""
    }
   },
   "outputs": [],
   "source": [
    "deepWindowedWells=dWellPPScenariosToday[dWellPPScenarios['Pressures']>0.1]['ID'].unique()\n",
    "shallowWindowedWells=sWellPPScenariosToday[sWellPPScenarios['Pressures']>0.1]['ID'].unique()"
   ]
  },
  {
   "cell_type": "code",
   "execution_count": 0,
   "metadata": {
    "application/vnd.databricks.v1+cell": {
     "cellMetadata": {
      "byteLimit": 2048000,
      "rowLimit": 10000
     },
     "inputWidgets": {},
     "nuid": "c6d58849-5063-4dab-9d79-17521581d34d",
     "showTitle": false,
     "title": ""
    }
   },
   "outputs": [],
   "source": [
    "# dPPTimeSeries is time, well, realization - need top wells with time series of pressures\n",
    "dPPWellIndices=deepPPWellsToday['ID'].isin(deepWindowedWells)\n",
    "print(sum(dPPWellIndices),' wells out of ',len(dPPWellIndices),' have >0.1 PSI contribution')"
   ]
  },
  {
   "cell_type": "code",
   "execution_count": 0,
   "metadata": {
    "application/vnd.databricks.v1+cell": {
     "cellMetadata": {
      "byteLimit": 2048000,
      "rowLimit": 10000
     },
     "inputWidgets": {},
     "nuid": "0a49fd1e-bec7-4a66-90a7-fe858be28d4e",
     "showTitle": false,
     "title": ""
    }
   },
   "outputs": [],
   "source": [
    "\n",
    "dPPTimeSeriesSelected=dPPTimeSeriesToday[:,dPPWellIndices,:]\n",
    "dPPSelectedWellNameDF=deepPPWellsToday['WellName'][dPPWellIndices]\n",
    "print(dPPSelectedWellNameDF.to_list())"
   ]
  },
  {
   "cell_type": "code",
   "execution_count": 0,
   "metadata": {
    "application/vnd.databricks.v1+cell": {
     "cellMetadata": {
      "byteLimit": 2048000,
      "rowLimit": 10000
     },
     "inputWidgets": {},
     "nuid": "cb8d093b-9611-4982-b06d-c8897c5c044a",
     "showTitle": false,
     "title": ""
    }
   },
   "outputs": [],
   "source": [
    "i=0\n",
    "for wellName in dPPSelectedWellNameDF.to_list():\n",
    "  np.save(baseOutPath+'deepPPTimeSeries'+wellName+'.npy',dPPTimeSeriesSelected[:,i,:])\n",
    "  i=i+1\n",
    "  print('Well '+wellName+' written '+i)\n",
    "dPPSelectedWellNameDF.to_csv(baseOutPath+'deepSelectedWellNames.csv')"
   ]
  },
  {
   "cell_type": "code",
   "execution_count": 0,
   "metadata": {
    "application/vnd.databricks.v1+cell": {
     "cellMetadata": {
      "byteLimit": 2048000,
      "rowLimit": 10000
     },
     "inputWidgets": {},
     "nuid": "d60de264-2e47-4f7c-a7a5-4c8ec040eef0",
     "showTitle": false,
     "title": ""
    }
   },
   "outputs": [],
   "source": [
    "# sPPTimeSeries is time, well, realization - need top wells with time series of pressures\n",
    "sPPWellIndices=shallowPPWells['ID'].isin(shallowWindowedWellsToday)\n",
    "print(sum(sPPWellIndices),' wells out of ',len(sPPWellIndices),' have >0.1 PSI contribution')\n",
    "sPPTimeSeriesSelected=sPPTimeSeriesToday[:,sPPWellIndices,:]\n",
    "sPPSelectedWellNameDF=shallowPPWellsToday['WellName'][sPPWellIndices]\n",
    "print(sPPSelectedWellNameDF.to_list())\n"
   ]
  },
  {
   "cell_type": "code",
   "execution_count": 0,
   "metadata": {
    "application/vnd.databricks.v1+cell": {
     "cellMetadata": {
      "byteLimit": 2048000,
      "rowLimit": 10000
     },
     "inputWidgets": {},
     "nuid": "2ca88550-2184-4121-b61e-84fc62d34cbc",
     "showTitle": false,
     "title": ""
    }
   },
   "outputs": [],
   "source": [
    "i=0\n",
    "for wellName in sPPSelectedWellNameDF.to_list():\n",
    "  np.save(baseOutPath+'shallowPPTimeSeries'+wellName+'.npy',sPPTimeSeriesSelected[:,i,:])\n",
    "  i=i+1\n",
    "  print('Well '+wellName+' written '+str(i))\n",
    "sPPSelectedWellNameDF.to_csv(baseOutPath+'shallowSelectedWellNames.csv')"
   ]
  },
  {
   "cell_type": "code",
   "execution_count": 0,
   "metadata": {
    "application/vnd.databricks.v1+cell": {
     "cellMetadata": {
      "byteLimit": 2048000,
      "rowLimit": 10000
     },
     "inputWidgets": {},
     "nuid": "e1f85a09-afe0-4681-9be4-1dff2564c072",
     "showTitle": false,
     "title": ""
    }
   },
   "outputs": [],
   "source": [
    "dWellPEScenariosToday=deepM.runPoroelasticScenarios(EQDF.iloc[1],deepPESelectedWells,deepPEInj,verbose=1)\n",
    "dWellPEScenarios2021=deepM.runPoroelasticScenarios(EQDF.iloc[0],deepPESelectedWells,deepPEInj,verbose=1)"
   ]
  },
  {
   "cell_type": "code",
   "execution_count": 0,
   "metadata": {
    "application/vnd.databricks.v1+cell": {
     "cellMetadata": {
      "byteLimit": 2048000,
      "rowLimit": 10000
     },
     "inputWidgets": {},
     "nuid": "c789deb9-bed4-4e99-b004-2bd949512615",
     "showTitle": false,
     "title": ""
    }
   },
   "outputs": [],
   "source": [
    "sWellPEScenariosToday=shallowM.runPoroelasticScenarios(EQDF.iloc[1],shallowPESelectedWells,shallowPEInj,verbose=1)\n",
    "sWellPEScenarios2021=shallowM.runPoroelasticScenarios(EQDF.iloc[0],shallowPESelectedWells,shallowPEInj,verbose=1)"
   ]
  },
  {
   "cell_type": "code",
   "execution_count": 0,
   "metadata": {
    "application/vnd.databricks.v1+cell": {
     "cellMetadata": {
      "byteLimit": 2048000,
      "rowLimit": 10000
     },
     "inputWidgets": {},
     "nuid": "f4acf0d0-44d0-4ec3-b595-17bea90c2137",
     "showTitle": false,
     "title": ""
    }
   },
   "outputs": [],
   "source": [
    "\n",
    "dWellPEScenariosToday.to_csv(baseOutPath+'deepPE.csv')\n",
    "dWellPEScenarios2021.to_csv(baseOutPath+'2021deepPE.csv')"
   ]
  },
  {
   "cell_type": "code",
   "execution_count": 0,
   "metadata": {
    "application/vnd.databricks.v1+cell": {
     "cellMetadata": {
      "byteLimit": 2048000,
      "rowLimit": 10000
     },
     "inputWidgets": {},
     "nuid": "4e2feb63-71b4-47ea-af13-22da38e9ca27",
     "showTitle": false,
     "title": ""
    }
   },
   "outputs": [],
   "source": [
    "\n",
    "sWellPEScenariosToday[sWellPEScenariosToday['Realization']<250].to_csv(baseOutPath+'shallowPE0.csv')\n",
    "sWellPEScenariosToday[sWellPEScenariosToday['Realization']>250].to_csv(baseOutPath+'shallowPE1.csv')\n",
    "sWellPEScenarios2021[sWellPEScenarios2021['Realization']<250].to_csv(baseOutPath+'2021shallowPE0.csv')\n",
    "sWellPEScenarios2021[sWellPEScenarios2021['Realization']>250].to_csv(baseOutPath+'2021shallowPE1.csv')\n"
   ]
  },
  {
   "cell_type": "code",
   "execution_count": 0,
   "metadata": {
    "application/vnd.databricks.v1+cell": {
     "cellMetadata": {
      "byteLimit": 2048000,
      "rowLimit": 10000
     },
     "inputWidgets": {},
     "nuid": "c69cb829-6cfd-43b3-8036-4a72f995d432",
     "showTitle": false,
     "title": ""
    }
   },
   "outputs": [],
   "source": [
    "sWellPEScenariosToday.info()"
   ]
  },
  {
   "cell_type": "code",
   "execution_count": 0,
   "metadata": {
    "application/vnd.databricks.v1+cell": {
     "cellMetadata": {
      "byteLimit": 2048000,
      "rowLimit": 10000
     },
     "inputWidgets": {},
     "nuid": "b8c026ba-46e8-4575-ab0f-8a6599b026c9",
     "showTitle": false,
     "title": ""
    }
   },
   "outputs": [],
   "source": [
    "deepWindowedWells=dWellPPScenarios[dWellPPScenarios['Pressures']>0.1]['ID'].unique()\n",
    "filtDWellPPScenarios=dWellPPScenarios[dWellPPScenarios['ID'].isin(deepWindowedWells)]\n",
    "maxPressureList=[]\n",
    "for ID in deepWindowedWells:\n",
    "  maxPressure=max(filtDWellPPScenarios[filtDWellPPScenarios['ID']==ID]['Pressures'])\n",
    "  nReal=filtDWellPPScenarios[filtDWellPPScenarios['ID']==ID].shape[0]\n",
    "  print(ID,maxPressure,nReal)\n",
    "  maxPressureList.extend([maxPressure,]*nReal)\n",
    "filtDWellPPScenarios['MaxPressure']=maxPressureList\n",
    "filtDWellPPScenarios=filtDWellPPScenarios.sort_values(by='MaxPressure',ascending=False)\n",
    "shallowWindowedWells=sWellPPScenarios[sWellPPScenarios['Pressures']>0.1]['ID'].unique()\n",
    "filtSWellPPScenarios=sWellPPScenarios[sWellPPScenarios['ID'].isin(shallowWindowedWells)]\n",
    "maxPressureList=[]\n",
    "for ID in shallowWindowedWells:\n",
    "  maxPressure=max(filtSWellPPScenarios[filtSWellPPScenarios['ID']==ID]['Pressures'])\n",
    "  nReal=filtSWellPPScenarios[filtSWellPPScenarios['ID']==ID].shape[0]\n",
    "  print(ID,maxPressure,nReal)\n",
    "  maxPressureList.extend([maxPressure,]*nReal)\n",
    "filtSWellPPScenarios['MaxPressure']=maxPressureList\n",
    "filtSWellPPScenarios=filtSWellPPScenarios.sort_values(by='MaxPressure',ascending=False)"
   ]
  },
  {
   "cell_type": "code",
   "execution_count": 0,
   "metadata": {
    "application/vnd.databricks.v1+cell": {
     "cellMetadata": {
      "byteLimit": 2048000,
      "rowLimit": 10000
     },
     "inputWidgets": {},
     "nuid": "7ede1eb0-81f7-466c-b0a4-d64874ba0cc5",
     "showTitle": false,
     "title": ""
    }
   },
   "outputs": [],
   "source": [
    "filtDWellPPScenarios=filtDWellPPScenarios.merge(deepPPWells,on='ID')\n",
    "filtSWellPPScenarios=filtSWellPPScenarios.merge(shallowPPWells,on='ID')\n",
    "print('deep ',filtDWellPPScenarios.shape[0],', shallow',filtSWellPPScenarios.shape[0])"
   ]
  },
  {
   "cell_type": "markdown",
   "metadata": {
    "application/vnd.databricks.v1+cell": {
     "cellMetadata": {
      "byteLimit": 2048000,
      "rowLimit": 10000
     },
     "inputWidgets": {},
     "nuid": "3895fbc4-d512-4688-b66a-56e1a5c17d7c",
     "showTitle": false,
     "title": ""
    }
   },
   "source": [
    "## Save Results"
   ]
  },
  {
   "cell_type": "code",
   "execution_count": 0,
   "metadata": {
    "application/vnd.databricks.v1+cell": {
     "cellMetadata": {
      "byteLimit": 2048000,
      "rowLimit": 10000
     },
     "inputWidgets": {},
     "nuid": "1d1ead17-e6a0-4d23-a130-9f09c1f2eb5a",
     "showTitle": false,
     "title": ""
    }
   },
   "outputs": [],
   "source": [
    "# Save results - visualize separately!\n",
    "baseOutPath='/Workspace/Users/bill.curry@exxonmobil.com/gist/Outputs/StantonToday_'\n",
    "#dWellPPScenarios.to_csv(baseOutPath+'deepPP.csv')\n",
    "dWellPEScenarios.to_csv(baseOutPath+'deepPE.csv')\n",
    "#sWellPPScenarios.to_csv(baseOutPath+'shallowPP.csv')\n",
    "sWellPEScenarios.to_csv(baseOutPath+'shallowPE.csv')\n",
    "#np.save(baseOutPath+'deepPPTimeSeries0.csv',dPPTimeSeries['Realization'<100])\n",
    "#np.save(baseOutPath+'shallowPPTimeSeries.csv',sPPTimeSeries)"
   ]
  },
  {
   "cell_type": "markdown",
   "metadata": {
    "application/vnd.databricks.v1+cell": {
     "cellMetadata": {
      "byteLimit": 2048000,
      "rowLimit": 10000
     },
     "inputWidgets": {},
     "nuid": "6dc5898c-1214-4edf-a4c0-7497235a6cca",
     "showTitle": false,
     "title": ""
    }
   },
   "source": [
    "## Sanity check of initial results\n",
    "### Check injection on wells with non-negligable pressure contributions"
   ]
  },
  {
   "cell_type": "code",
   "execution_count": 0,
   "metadata": {
    "application/vnd.databricks.v1+cell": {
     "cellMetadata": {
      "byteLimit": 2048000,
      "rowLimit": 10000
     },
     "inputWidgets": {},
     "nuid": "2cc0a516-3378-4347-91b6-ace8f81a3833",
     "showTitle": false,
     "title": ""
    }
   },
   "outputs": [],
   "source": [
    "# Select injection histories of wells\n",
    "deepWindowedInjection=deepPPInj[deepPPInj['ID'].is_in(deepWindowedWells)]\n",
    "shallowWindowedInjection=shallowPPInj[shallowPPInj['ID'].is_in(shallowWindowedWells)]\n",
    "deepInjQC=deepWindowedInjection.merge(deepPPWells[['Name','Operator','APINumber','Latitude','Longitude']],on='ID',how='left')\n",
    "shallowInjQC=shallowWindowedInjection.merge(shallowPPWells[['Name','Operator','APINumber','Latitude','Longitude']],on='ID',how='left')"
   ]
  },
  {
   "cell_type": "code",
   "execution_count": 0,
   "metadata": {
    "application/vnd.databricks.v1+cell": {
     "cellMetadata": {
      "byteLimit": 2048000,
      "rowLimit": 10000
     },
     "inputWidgets": {},
     "nuid": "4cb13385-7873-444d-9ae7-c0308444e098",
     "showTitle": false,
     "title": ""
    }
   },
   "outputs": [],
   "source": [
    "# Make stack plots of recent injection - Deep\n",
    "injQC=deepInjQC\n",
    "injQC['Date']=pd.to_datetime(injQC.Date)\n",
    "# Generate x and y\n",
    "dates=injQC['Date'].drop_duplicates()\n",
    "# Loop over wells\n",
    "oDate=min(dates)\n",
    "eDate=max(dates)\n",
    "dateRange=pd.date_range(start=oDate,end=eDate, freq='10D')\n",
    "# Get x min, x max\n",
    "wellIDs=injQC['ID'].drop_duplicates()\n",
    "allWellBPDs=[]\n",
    "allWellLabels=[]\n",
    "for well in wellIDs:\n",
    "  wellDates=injQC[injQC['ID']==well]['Date']\n",
    "  wellBPDs=injQC[injQC['ID']==well]['BPD']\n",
    "  minWD=min(wellDates)\n",
    "  maxWD=max(wellDates)\n",
    "  nPrepend=sum(dateRange<minWD)\n",
    "  nAppend=sum(dateRange>maxWD)\n",
    "  #print('Well ',well,' ',minWD,maxWD,oDate,eDate,nPrepend,' prePad, ',nAppend,' postPad, ',len(dateRange))\n",
    "  #print('allWellBPDs: ',allWellBPDs)\n",
    "  if nPrepend>0:\n",
    "    prependZeroBPDs=pd.Series(np.zeros([nPrepend]))\n",
    "  else:\n",
    "    prependZeroBPDs=None\n",
    "  if nAppend>0:\n",
    "    appendZeroBPDs=pd.Series(np.zeros([nAppend,1]))\n",
    "  else:\n",
    "    appendZeroBPDs=None\n",
    "  padWellBPDs=pd.concat([prependZeroBPDs,wellBPDs,appendZeroBPDs])\n",
    "  allWellBPDs.append(padWellBPDs)\n",
    "  #allWellLabels.append(injQC['WellName'][injQC['ID']==well][0])\n",
    "  allWellLabels.append(injQC['WellName'][injQC['ID']==well].loc[0])\n",
    "# Now have allWellBPDs, allWellLabels, and dateRange all set\n",
    "# Generate Stacked area plot of injection\n",
    "# y needs to be defined for each well, and extended for the full time series\n",
    "col = sns.color_palette(\"hls\", len(wellIDs))\n",
    "#zoomDate=oneEQ['Origin Date'] - pd.DateOffset(years=2)\n",
    "ax.stackplot(dateRange,allWellBPDs, labels=allWellLabels,colors=col)\n",
    "ax.set_title('Selected well injection')\n",
    "ax.set_xlabel('Date')\n",
    "ax.set_ylabel('Rate (BPD)')\n",
    "#if startDate!=None or endDate!=None: axes.xlim(startDate,endDate)\n",
    "ax.legend(loc='upper left')\n",
    "plt.show()"
   ]
  },
  {
   "cell_type": "code",
   "execution_count": 0,
   "metadata": {
    "application/vnd.databricks.v1+cell": {
     "cellMetadata": {
      "byteLimit": 2048000,
      "rowLimit": 10000
     },
     "inputWidgets": {},
     "nuid": "1a8e1f66-9005-4b58-b118-1fb240bea23a",
     "showTitle": false,
     "title": ""
    }
   },
   "outputs": [],
   "source": [
    "# Repeat for Shallow"
   ]
  },
  {
   "cell_type": "code",
   "execution_count": 0,
   "metadata": {
    "application/vnd.databricks.v1+cell": {
     "cellMetadata": {
      "byteLimit": 2048000,
      "rowLimit": 10000
     },
     "inputWidgets": {},
     "nuid": "a1588954-f4b8-4105-a20e-f508ea3f2017",
     "showTitle": false,
     "title": ""
    }
   },
   "outputs": [],
   "source": [
    "# Plot Time Series of total pressures and injection histories\n"
   ]
  },
  {
   "cell_type": "code",
   "execution_count": 0,
   "metadata": {
    "application/vnd.databricks.v1+cell": {
     "cellMetadata": {
      "byteLimit": 2048000,
      "rowLimit": 10000
     },
     "inputWidgets": {},
     "nuid": "f84c0581-670d-449b-b8ef-e88afdd6a169",
     "showTitle": false,
     "title": ""
    }
   },
   "outputs": [],
   "source": []
  },
  {
   "cell_type": "code",
   "execution_count": 0,
   "metadata": {
    "application/vnd.databricks.v1+cell": {
     "cellMetadata": {
      "byteLimit": 2048000,
      "rowLimit": 10000
     },
     "inputWidgets": {},
     "nuid": "2ed08fbb-3e6d-4615-802b-9f39654a70d4",
     "showTitle": false,
     "title": ""
    }
   },
   "outputs": [],
   "source": [
    "\n",
    "print(deepWindowedWells)\n",
    "filtDWellPPScenarios=dWellPPScenarios[dWellPPScenarios['ID'].isin(deepWindowedWells)]\n",
    "filtDWellPEScenarios=dWellPEScenarios[dWellPEScenarios['ID'].isin(deepWindowedWells)]\n",
    "print(len(dWellPPScenarios),len(filtDWellPPScenarios),len(filtDWellPEScenarios))"
   ]
  },
  {
   "cell_type": "code",
   "execution_count": 0,
   "metadata": {
    "application/vnd.databricks.v1+cell": {
     "cellMetadata": {
      "byteLimit": 2048000,
      "rowLimit": 10000
     },
     "inputWidgets": {},
     "nuid": "3157d5a6-2e8f-4ee0-8a23-6ade3da75c87",
     "showTitle": false,
     "title": ""
    }
   },
   "outputs": [],
   "source": [
    "\n",
    "print(shallowWindowedWells)\n",
    "filtDWellPPScenarios=dWellPPScenarios[dWellPPScenarios['ID'].isin(deepWindowedWells)]\n",
    "filtDWellPEScenarios=dWellPEScenarios[dWellPEScenarios['ID'].isin(deepWindowedWells)]\n",
    "print(len(dWellPPScenarios),len(filtDWellPPScenarios),len(filtDWellPEScenarios))"
   ]
  },
  {
   "cell_type": "code",
   "execution_count": 0,
   "metadata": {
    "application/vnd.databricks.v1+cell": {
     "cellMetadata": {
      "byteLimit": 2048000,
      "rowLimit": 10000
     },
     "inputWidgets": {},
     "nuid": "290bcb76-46fb-4d60-ab94-9e618a90702e",
     "showTitle": false,
     "title": ""
    }
   },
   "outputs": [],
   "source": [
    "# Concatenate pore pressure and poroelastic results\n",
    "dWellPPScenarios['Physics']='Pore Pressure'\n",
    "dWellPEScenarios['Physics']='Poroelastic'\n",
    "dWellPPScenarios['Stresses']=dWellPPScenarios['Pressures']\n",
    "allDeep=pd.concat(objs=[dWellPPScenarios,dWellPEScenarios[dWellPEScenarios['ID'].isin(dWellPPScenarios['ID'])]])\n",
    "allDeep=allDeep.merge(deepPEWells,on='ID')\n",
    "\n"
   ]
  },
  {
   "cell_type": "code",
   "execution_count": 0,
   "metadata": {
    "application/vnd.databricks.v1+cell": {
     "cellMetadata": {
      "byteLimit": 2048000,
      "rowLimit": 10000
     },
     "inputWidgets": {},
     "nuid": "a7b5377e-2fc4-48f7-be47-0dbb7278d4fc",
     "showTitle": false,
     "title": ""
    }
   },
   "outputs": [],
   "source": [
    "deepWindowedWells=dWellPPScenarios[dWellPPScenarios['Pressures']>0.1]['ID'].unique()\n",
    "print(deepWindowedWells)\n",
    "filtDWellPPScenarios=dWellPPScenarios[dWellPPScenarios['ID'].isin(deepWindowedWells)]\n",
    "filtDWellPEScenarios=dWellPEScenarios[dWellPEScenarios['ID'].isin(deepWindowedWells)]\n",
    "print(len(dWellPPScenarios),len(filtDWellPPScenarios),len(filtDWellPEScenarios))"
   ]
  },
  {
   "cell_type": "code",
   "execution_count": 0,
   "metadata": {
    "application/vnd.databricks.v1+cell": {
     "cellMetadata": {
      "byteLimit": 2048000,
      "rowLimit": 10000
     },
     "inputWidgets": {},
     "nuid": "417996fa-ed83-4f11-9368-bb1a770866e8",
     "showTitle": false,
     "title": ""
    }
   },
   "outputs": [],
   "source": [
    "maxPressureList=[]\n",
    "for ID in deepWindowedWells:\n",
    "  maxPressure=filtDWellPPScenarios[filtDWellPPScenarios['ID']==ID]['Pressures']\n",
    "  maxPressureList.append\n",
    "dWellPPScenarios['MaxPressure']=dWellPPScenarios['ID'].map(maxPressureDict)\n",
    "dWellPPScenarios=dWellPPScenarios.sort_values(by='MaxPressure',ascending=False)"
   ]
  },
  {
   "cell_type": "code",
   "execution_count": 0,
   "metadata": {
    "application/vnd.databricks.v1+cell": {
     "cellMetadata": {
      "byteLimit": 2048000,
      "rowLimit": 10000
     },
     "inputWidgets": {},
     "nuid": "be6f6db8-3b75-4c34-a215-8fa5ab199639",
     "showTitle": false,
     "title": ""
    }
   },
   "outputs": [],
   "source": []
  },
  {
   "cell_type": "code",
   "execution_count": 0,
   "metadata": {
    "application/vnd.databricks.v1+cell": {
     "cellMetadata": {
      "byteLimit": 2048000,
      "rowLimit": 10000
     },
     "inputWidgets": {},
     "nuid": "d0c95135-c38b-4c64-924c-7fb8e8bf73fc",
     "showTitle": false,
     "title": ""
    }
   },
   "outputs": [],
   "source": [
    "# Select wells that only have greater than a 0.1 psi stress increase\n",
    "deepWindowedWells=allDeep[allDeep['Stresses']>0.1]['ID'].unique()\n",
    "allDeepWindowed=allDeep[allDeep['ID'].isin(deepWindowedWells)]\n",
    "# Get maximum pressure or stress for each well, sort by that\n",
    "maxList=[]\n",
    "for ID in deepWindowedWells:\n",
    "  # get maximum row\n",
    "  maxRow=allDeepWindowed[allDeepWindowed['ID']==ID]['Stresses'].idxmax()\n",
    "  maxList.append([allDeepWindowed.iloc[maxRow]['ID'],allDeepWindowed.iloc[maxRow]['Stresses']])\n",
    "wellOrdered=pd.DataFrame(maxList,columns=['ID','Stresses']).sort_values(by='Stresses')\n",
    "IDOrder=wellOrdered['ID'].to_list()\n",
    "sortedDeepWindowed=allDeepWindowed.sort_values(by=\"ID\", key=lambda column: column.map(lambda e: IDOrder.index(e)), inplace=True)"
   ]
  },
  {
   "cell_type": "code",
   "execution_count": 0,
   "metadata": {
    "application/vnd.databricks.v1+cell": {
     "cellMetadata": {
      "byteLimit": 2048000,
      "rowLimit": 10000
     },
     "inputWidgets": {},
     "nuid": "caa5d933-7227-42f8-b2dd-6cc43cc8cebb",
     "showTitle": false,
     "title": ""
    }
   },
   "outputs": [],
   "source": [
    "fig,axes=plt.subplots(1,1, sharex=True, figsize=(30,200))\n",
    "# Relative contributions\n",
    "sns.stripplot(data=allDeep,x='Stresses',y='WellName',hue='Physics',dodge=True,jitter=True,alpha=0.1,ax=axes)\n",
    "axes.set_title('Deep Well Stresses')\n",
    "axes.set_xlabel('Stress (PSI)')"
   ]
  },
  {
   "cell_type": "code",
   "execution_count": 0,
   "metadata": {
    "application/vnd.databricks.v1+cell": {
     "cellMetadata": {
      "byteLimit": 2048000,
      "rowLimit": 10000
     },
     "inputWidgets": {},
     "nuid": "24b55abe-8e01-4ea8-b0fd-2d7998ce5ce9",
     "showTitle": false,
     "title": ""
    }
   },
   "outputs": [],
   "source": [
    "# Concatenate pore pressure and poroelastic results\n",
    "sWellPPScenarios['Physics']='Pore Pressure'\n",
    "sWellPEScenarios['Physics']='Poroelastic'\n",
    "sWellPPScenarios['Stresses']=sWellPPScenarios['Pressures']\n",
    "allShallow=pd.concat(objs=[sWellPPScenarios,sWellPEScenarios[sWellPEScenarios['ID'].isin(sWellPPScenarios['ID'])]])\n",
    "allShallow=allShallow.merge(shallowPEWells,on='ID')\n"
   ]
  },
  {
   "cell_type": "code",
   "execution_count": 0,
   "metadata": {
    "application/vnd.databricks.v1+cell": {
     "cellMetadata": {
      "byteLimit": 2048000,
      "rowLimit": 10000
     },
     "inputWidgets": {},
     "nuid": "12cdfd42-6e25-43b5-bd81-9f7c0ba50c25",
     "showTitle": false,
     "title": ""
    }
   },
   "outputs": [],
   "source": [
    "fig,axes=plt.subplots(1,1, sharex=True, figsize=(30,10))\n",
    "# Relative contributions\n",
    "sns.stripplot(data=allShallow,x='Stresses',y='WellName',hue='Physics',dodge=True,jitter=True,alpha=0.1,ax=axes)\n",
    "axes.set_title('Shallow Well Stresses')\n",
    "axes.set_xlabel('Stress (PSI)')"
   ]
  },
  {
   "cell_type": "code",
   "execution_count": 0,
   "metadata": {
    "application/vnd.databricks.v1+cell": {
     "cellMetadata": {
      "byteLimit": 2048000,
      "rowLimit": 10000
     },
     "inputWidgets": {},
     "nuid": "f02ffe11-2bfc-4d54-9e4d-f556e86908b4",
     "showTitle": false,
     "title": ""
    }
   },
   "outputs": [],
   "source": [
    "# Plot results\n",
    "fig,axes=plt.subplots(3,1, sharex=True, figsize=(60,20))\n",
    "gp.disaggregationPlot(axes[0],dWellPPScenarios,dWellPEScenarios,deepPEWells,'Deep')\n",
    "gp.disaggregationPlot(axes[1],sWellPPScenarios,sWellPEScenarios,shallowPEWells,'Shallow')\n",
    "# Concatenate pore pressure and poroelastic results\n"
   ]
  },
  {
   "cell_type": "code",
   "execution_count": 0,
   "metadata": {
    "application/vnd.databricks.v1+cell": {
     "cellMetadata": {
      "byteLimit": 2048000,
      "rowLimit": 10000
     },
     "inputWidgets": {},
     "nuid": "7a7c39da-5930-4778-9bbc-358bbad99387",
     "showTitle": false,
     "title": ""
    }
   },
   "outputs": [],
   "source": [
    "# \n",
    "\n",
    "dayDVec=np.linspace(deepM.injOT, deepM.injOT+deepM.injDT*(deepM.injNT-1.),deepM.injNT)\n",
    "dPPTimeSeriesSum=np.sum(dPPTimeSeries,axis=1)\n",
    "realization=np.linspace(0,499,500)\n",
    "nwC=deepPPWells.shape[0]\n",
    "dTPPDF=pd.DataFrame(columns=['Days','Realization','TotalPressure'])\n",
    "dPPDF=pd.DataFrame(columns=['Days','Realization','ID','Pressure','TotalPressure'])\n",
    "dTPPDF['Days']=np.tile(dayDVec,deepM.nReal)\n",
    "dTPPDF['TotalPressure']=np.reshape(dPPTimeSeriesSum[:,:],deepM.injNT*deepM.nReal,order='F')\n",
    "dTPPDF['Realization']=np.tile(realization,deepM.injNT)\n",
    "dTPPDF=gi.getDates(dTPPDF,deepM.epoch)"
   ]
  },
  {
   "cell_type": "code",
   "execution_count": 0,
   "metadata": {
    "application/vnd.databricks.v1+cell": {
     "cellMetadata": {
      "byteLimit": 2048000,
      "rowLimit": 10000
     },
     "inputWidgets": {},
     "nuid": "7ca48eee-1c34-421f-9a70-270d051f33f6",
     "showTitle": false,
     "title": ""
    }
   },
   "outputs": [],
   "source": [
    "fig,axes=plt.subplots(2,1, sharex=True, figsize=(40,15))\n",
    "\n",
    "sns.lineplot(ax=axes[0],x='Date',y='TotalPressure',hue='Realization',data=dTPPDF)\n",
    "sns.scatterplot(data=filtEQs,ax=axes[0],x='Date',y='Magnitude',s=300,marker='*')\n",
    "axes[0].set_title('Deep Pressure Histories')\n",
    "axes[0].set_xlabel('Date')\n",
    "axes[0].set_ylabel('Pressure (PSI)')\n",
    "sns.lineplot(ax=axes[1],x='Date',y='TotalPressure',hue='Realization',data=sTPPDF)\n",
    "sns.scatterplot(data=filtEQs,ax=axes[1],x='Date',y='Magnitude',s=300,marker='*')\n",
    "plt.show()"
   ]
  },
  {
   "cell_type": "code",
   "execution_count": 0,
   "metadata": {
    "application/vnd.databricks.v1+cell": {
     "cellMetadata": {
      "byteLimit": 2048000,
      "rowLimit": 10000
     },
     "inputWidgets": {},
     "nuid": "f04371b7-ff00-4eaf-a3eb-b8239b52ce11",
     "showTitle": false,
     "title": ""
    }
   },
   "outputs": [],
   "source": []
  }
 ],
 "metadata": {
  "application/vnd.databricks.v1+notebook": {
   "dashboards": [],
   "language": "python",
   "notebookMetadata": {
    "pythonIndentUnit": 2
   },
   "notebookName": "GIST_Stanton_TodayCompute",
   "widgets": {}
  }
 },
 "nbformat": 4,
 "nbformat_minor": 0
}
