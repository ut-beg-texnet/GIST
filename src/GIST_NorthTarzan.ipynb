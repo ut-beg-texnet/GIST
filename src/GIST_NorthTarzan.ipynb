{
 "cells": [
  {
   "cell_type": "markdown",
   "metadata": {
    "application/vnd.databricks.v1+cell": {
     "cellMetadata": {
      "byteLimit": 2048000,
      "rowLimit": 10000
     },
     "inputWidgets": {},
     "nuid": "c1abdb59-6473-4a9e-89dc-f7bf61a76f4b",
     "showTitle": false,
     "tableResultSettingsMap": {},
     "title": ""
    }
   },
   "source": [
    "# GIST Driver\n",
    "##Test on events of interest:\n",
    "  \n",
    "  texnet2024shcj\n",
    "\n",
    "  \n",
    "Assumes InjectionSQLScheduled completed"
   ]
  },
  {
   "cell_type": "markdown",
   "metadata": {
    "application/vnd.databricks.v1+cell": {
     "cellMetadata": {
      "byteLimit": 2048000,
      "rowLimit": 10000
     },
     "inputWidgets": {},
     "nuid": "83eacea1-ee6c-412e-86e8-eb0062d6a40c",
     "showTitle": false,
     "tableResultSettingsMap": {},
     "title": ""
    }
   },
   "source": [
    "#Configuration"
   ]
  },
  {
   "cell_type": "markdown",
   "metadata": {
    "application/vnd.databricks.v1+cell": {
     "cellMetadata": {
      "byteLimit": 2048000,
      "rowLimit": 10000
     },
     "inputWidgets": {},
     "nuid": "fe561de9-c0de-474b-af1b-e457ac846dbe",
     "showTitle": false,
     "tableResultSettingsMap": {},
     "title": ""
    }
   },
   "source": [
    "##Libraries"
   ]
  },
  {
   "cell_type": "code",
   "execution_count": 0,
   "metadata": {
    "application/vnd.databricks.v1+cell": {
     "cellMetadata": {
      "byteLimit": 2048000,
      "rowLimit": 10000
     },
     "inputWidgets": {},
     "nuid": "e00f4128-0373-462e-b4e5-0c722b222f74",
     "showTitle": false,
     "tableResultSettingsMap": {},
     "title": ""
    }
   },
   "outputs": [],
   "source": [
    "%restart_python"
   ]
  },
  {
   "cell_type": "code",
   "execution_count": 0,
   "metadata": {
    "application/vnd.databricks.v1+cell": {
     "cellMetadata": {
      "byteLimit": 2048000,
      "rowLimit": 10000
     },
     "inputWidgets": {},
     "nuid": "fb80407f-4a02-4284-9638-a9c24281d177",
     "showTitle": false,
     "tableResultSettingsMap": {},
     "title": ""
    }
   },
   "outputs": [
    {
     "output_type": "stream",
     "name": "stdout",
     "output_type": "stream",
     "text": [
      "\u001B[43mNote: you may need to restart the kernel using %restart_python or dbutils.library.restartPython() to use updated packages.\u001B[0m\n"
     ]
    }
   ],
   "source": [
    "\n",
    "%run \"/Workspace/_utils/Utility_Functions\""
   ]
  },
  {
   "cell_type": "code",
   "execution_count": 0,
   "metadata": {
    "application/vnd.databricks.v1+cell": {
     "cellMetadata": {
      "byteLimit": 2048000,
      "rowLimit": 10000
     },
     "inputWidgets": {},
     "nuid": "0e21e4dd-c64f-459b-9241-0cb74bf49524",
     "showTitle": false,
     "tableResultSettingsMap": {},
     "title": ""
    }
   },
   "outputs": [
    {
     "output_type": "stream",
     "name": "stdout",
     "output_type": "stream",
     "text": [
      "Collecting geopandas\n  Downloading geopandas-1.0.1-py3-none-any.whl (323 kB)\n     ━━━━━━━━━━━━━━━━━━━━━━━━━━━━━━━━━━━━━━ 323.6/323.6 kB 10.1 MB/s eta 0:00:00\nRequirement already satisfied: numpy>=1.22 in /databricks/python3/lib/python3.10/site-packages (from geopandas) (1.23.5)\nCollecting shapely>=2.0.0\n  Downloading shapely-2.0.6-cp310-cp310-manylinux_2_17_x86_64.manylinux2014_x86_64.whl (2.5 MB)\n     ━━━━━━━━━━━━━━━━━━━━━━━━━━━━━━━━━━━━━━━━ 2.5/2.5 MB 42.5 MB/s eta 0:00:00\nRequirement already satisfied: packaging in /databricks/python3/lib/python3.10/site-packages (from geopandas) (23.2)\nCollecting pyogrio>=0.7.2\n  Downloading pyogrio-0.10.0-cp310-cp310-manylinux_2_28_x86_64.whl (23.9 MB)\n     ━━━━━━━━━━━━━━━━━━━━━━━━━━━━━━━━━━━━━━━━ 23.9/23.9 MB 82.2 MB/s eta 0:00:00\nRequirement already satisfied: pandas>=1.4.0 in /databricks/python3/lib/python3.10/site-packages (from geopandas) (1.5.3)\nCollecting pyproj>=3.3.0\n  Downloading pyproj-3.7.0-cp310-cp310-manylinux_2_17_x86_64.manylinux2014_x86_64.whl (9.2 MB)\n     ━━━━━━━━━━━━━━━━━━━━━━━━━━━━━━━━━━━━━━━━ 9.2/9.2 MB 157.9 MB/s eta 0:00:00\nRequirement already satisfied: python-dateutil>=2.8.1 in /databricks/python3/lib/python3.10/site-packages (from pandas>=1.4.0->geopandas) (2.8.2)\nRequirement already satisfied: pytz>=2020.1 in /databricks/python3/lib/python3.10/site-packages (from pandas>=1.4.0->geopandas) (2022.7)\nRequirement already satisfied: certifi in /databricks/python3/lib/python3.10/site-packages (from pyogrio>=0.7.2->geopandas) (2022.12.7)\nRequirement already satisfied: six>=1.5 in /usr/lib/python3/dist-packages (from python-dateutil>=2.8.1->pandas>=1.4.0->geopandas) (1.16.0)\nInstalling collected packages: shapely, pyproj, pyogrio, geopandas\nSuccessfully installed geopandas-1.0.1 pyogrio-0.10.0 pyproj-3.7.0 shapely-2.0.6\n\u001B[43mNote: you may need to restart the kernel using %restart_python or dbutils.library.restartPython() to use updated packages.\u001B[0m\nCollecting geodatasets\n  Downloading geodatasets-2024.8.0-py3-none-any.whl (20 kB)\nCollecting pooch\n  Downloading pooch-1.8.2-py3-none-any.whl (64 kB)\n     ━━━━━━━━━━━━━━━━━━━━━━━━━━━━━━━━━━━━━━━━ 64.6/64.6 kB 3.7 MB/s eta 0:00:00\nRequirement already satisfied: packaging>=20.0 in /databricks/python3/lib/python3.10/site-packages (from pooch->geodatasets) (23.2)\nRequirement already satisfied: platformdirs>=2.5.0 in /databricks/python3/lib/python3.10/site-packages (from pooch->geodatasets) (2.5.2)\nRequirement already satisfied: requests>=2.19.0 in /databricks/python3/lib/python3.10/site-packages (from pooch->geodatasets) (2.28.1)\nRequirement already satisfied: urllib3<1.27,>=1.21.1 in /databricks/python3/lib/python3.10/site-packages (from requests>=2.19.0->pooch->geodatasets) (1.26.14)\nRequirement already satisfied: certifi>=2017.4.17 in /databricks/python3/lib/python3.10/site-packages (from requests>=2.19.0->pooch->geodatasets) (2022.12.7)\nRequirement already satisfied: charset-normalizer<3,>=2 in /databricks/python3/lib/python3.10/site-packages (from requests>=2.19.0->pooch->geodatasets) (2.0.4)\nRequirement already satisfied: idna<4,>=2.5 in /databricks/python3/lib/python3.10/site-packages (from requests>=2.19.0->pooch->geodatasets) (3.4)\nInstalling collected packages: pooch, geodatasets\nSuccessfully installed geodatasets-2024.8.0 pooch-1.8.2\n\u001B[43mNote: you may need to restart the kernel using %restart_python or dbutils.library.restartPython() to use updated packages.\u001B[0m\nCollecting contextily\n  Downloading contextily-1.6.2-py3-none-any.whl (17 kB)\nRequirement already satisfied: matplotlib in /databricks/python3/lib/python3.10/site-packages (from contextily) (3.7.0)\nCollecting mercantile\n  Downloading mercantile-1.2.1-py3-none-any.whl (14 kB)\nCollecting rasterio\n  Downloading rasterio-1.4.2-cp310-cp310-manylinux_2_17_x86_64.manylinux2014_x86_64.whl (22.2 MB)\n     ━━━━━━━━━━━━━━━━━━━━━━━━━━━━━━━━━━━━━━━━ 22.2/22.2 MB 86.3 MB/s eta 0:00:00\nRequirement already satisfied: requests in /databricks/python3/lib/python3.10/site-packages (from contextily) (2.28.1)\nRequirement already satisfied: pillow in /databricks/python3/lib/python3.10/site-packages (from contextily) (9.4.0)\nRequirement already satisfied: joblib in /databricks/python3/lib/python3.10/site-packages (from contextily) (1.2.0)\nCollecting geopy\n  Downloading geopy-2.4.1-py3-none-any.whl (125 kB)\n     ━━━━━━━━━━━━━━━━━━━━━━━━━━━━━━━━━━━━━━ 125.4/125.4 kB 59.2 MB/s eta 0:00:00\nCollecting xyzservices\n  Downloading xyzservices-2024.9.0-py3-none-any.whl (85 kB)\n     ━━━━━━━━━━━━━━━━━━━━━━━━━━━━━━━━━━━━━━━━ 85.1/85.1 kB 43.1 MB/s eta 0:00:00\nCollecting geographiclib<3,>=1.52\n  Downloading geographiclib-2.0-py3-none-any.whl (40 kB)\n     ━━━━━━━━━━━━━━━━━━━━━━━━━━━━━━━━━━━━━━━━ 40.3/40.3 kB 16.6 MB/s eta 0:00:00\nRequirement already satisfied: fonttools>=4.22.0 in /databricks/python3/lib/python3.10/site-packages (from matplotlib->contextily) (4.25.0)\nRequirement already satisfied: python-dateutil>=2.7 in /databricks/python3/lib/python3.10/site-packages (from matplotlib->contextily) (2.8.2)\nRequirement already satisfied: packaging>=20.0 in /databricks/python3/lib/python3.10/site-packages (from matplotlib->contextily) (23.2)\nRequirement already satisfied: numpy>=1.20 in /databricks/python3/lib/python3.10/site-packages (from matplotlib->contextily) (1.23.5)\nRequirement already satisfied: kiwisolver>=1.0.1 in /databricks/python3/lib/python3.10/site-packages (from matplotlib->contextily) (1.4.4)\nRequirement already satisfied: cycler>=0.10 in /databricks/python3/lib/python3.10/site-packages (from matplotlib->contextily) (0.11.0)\nRequirement already satisfied: pyparsing>=2.3.1 in /databricks/python3/lib/python3.10/site-packages (from matplotlib->contextily) (3.0.9)\nRequirement already satisfied: contourpy>=1.0.1 in /databricks/python3/lib/python3.10/site-packages (from matplotlib->contextily) (1.0.5)\nRequirement already satisfied: click>=3.0 in /databricks/python3/lib/python3.10/site-packages (from mercantile->contextily) (8.0.4)\nRequirement already satisfied: certifi in /databricks/python3/lib/python3.10/site-packages (from rasterio->contextily) (2022.12.7)\nCollecting numpy>=1.20\n  Downloading numpy-2.1.3-cp310-cp310-manylinux_2_17_x86_64.manylinux2014_x86_64.whl (16.3 MB)\n     ━━━━━━━━━━━━━━━━━━━━━━━━━━━━━━━━━━━━━━━ 16.3/16.3 MB 111.3 MB/s eta 0:00:00\nCollecting cligj>=0.5\n  Downloading cligj-0.7.2-py3-none-any.whl (7.1 kB)\nRequirement already satisfied: attrs in /databricks/python3/lib/python3.10/site-packages (from rasterio->contextily) (22.1.0)\nCollecting affine\n  Downloading affine-2.4.0-py3-none-any.whl (15 kB)\nCollecting click-plugins\n  Downloading click_plugins-1.1.1-py2.py3-none-any.whl (7.5 kB)\nRequirement already satisfied: urllib3<1.27,>=1.21.1 in /databricks/python3/lib/python3.10/site-packages (from requests->contextily) (1.26.14)\nRequirement already satisfied: charset-normalizer<3,>=2 in /databricks/python3/lib/python3.10/site-packages (from requests->contextily) (2.0.4)\nRequirement already satisfied: idna<4,>=2.5 in /databricks/python3/lib/python3.10/site-packages (from requests->contextily) (3.4)\nRequirement already satisfied: six>=1.5 in /usr/lib/python3/dist-packages (from python-dateutil>=2.7->matplotlib->contextily) (1.16.0)\nInstalling collected packages: xyzservices, numpy, mercantile, geographiclib, cligj, click-plugins, affine, rasterio, geopy, contextily\n  Attempting uninstall: numpy\n    Found existing installation: numpy 1.23.5\n    Not uninstalling numpy at /databricks/python3/lib/python3.10/site-packages, outside environment /local_disk0/.ephemeral_nfs/envs/pythonEnv-b6222526-f5b1-46dd-835a-dc8d0cbc5a76\n    Can't uninstall 'numpy'. No files were found to uninstall.\nERROR: pip's dependency resolver does not currently take into account all the packages that are installed. This behaviour is the source of the following dependency conflicts.\nscipy 1.10.0 requires numpy<1.27.0,>=1.19.5, but you have numpy 2.1.3 which is incompatible.\nSuccessfully installed affine-2.4.0 click-plugins-1.1.1 cligj-0.7.2 contextily-1.6.2 geographiclib-2.0 geopy-2.4.1 mercantile-1.2.1 numpy-2.1.3 rasterio-1.4.2 xyzservices-2024.9.0\n\u001B[43mNote: you may need to restart the kernel using %restart_python or dbutils.library.restartPython() to use updated packages.\u001B[0m\n"
     ]
    }
   ],
   "source": [
    "!pip install geopandas\n",
    "!pip install geodatasets\n",
    "!pip install contextily\n",
    "#! pip install folium matplotlib mapclassify contextily"
   ]
  },
  {
   "cell_type": "code",
   "execution_count": 0,
   "metadata": {
    "application/vnd.databricks.v1+cell": {
     "cellMetadata": {
      "byteLimit": 2048000,
      "rowLimit": 10000
     },
     "inputWidgets": {},
     "nuid": "2e230114-d00d-4065-9b06-9bc65deb51a6",
     "showTitle": false,
     "tableResultSettingsMap": {},
     "title": ""
    }
   },
   "outputs": [],
   "source": [
    "import sys\n",
    "homePath='/Workspace/Users/bill.curry@exxonmobil.com'\n",
    "gistPath=homePath+'/GIST'\n",
    "sys.path.append(gistPath+'/lib')\n",
    "#import dataBricksConfig as db\n",
    "from pyspark.sql import SparkSession\n",
    "spark = SparkSession.builder.appName(\"eqSQL\").getOrCreate()"
   ]
  },
  {
   "cell_type": "code",
   "execution_count": 0,
   "metadata": {
    "application/vnd.databricks.v1+cell": {
     "cellMetadata": {
      "byteLimit": 2048000,
      "rowLimit": 10000
     },
     "inputWidgets": {},
     "nuid": "732391bb-8d33-4ac8-a2d7-4a7efc617715",
     "showTitle": false,
     "tableResultSettingsMap": {},
     "title": ""
    }
   },
   "outputs": [
    {
     "output_type": "display_data",
     "data": {
      "application/vnd.databricks.v1+h3_hint": "",
      "text/plain": []
     },
     "metadata": {},
     "output_type": "display_data"
    }
   ],
   "source": [
    "import numpy as np\n",
    "import pandas as pd\n",
    "import os\n",
    "import gistMC as gi\n",
    "import eqSQL as es\n",
    "import matplotlib.pyplot as plt\n",
    "import seaborn as sns\n",
    "import geopandas\n",
    "#import contextily as cx"
   ]
  },
  {
   "cell_type": "code",
   "execution_count": 0,
   "metadata": {
    "application/vnd.databricks.v1+cell": {
     "cellMetadata": {
      "byteLimit": 2048000,
      "rowLimit": 10000
     },
     "inputWidgets": {},
     "nuid": "27407231-7c67-4d49-aedb-af45ba43c440",
     "showTitle": false,
     "tableResultSettingsMap": {},
     "title": ""
    }
   },
   "outputs": [],
   "source": [
    "import gistPlots as gp"
   ]
  },
  {
   "cell_type": "markdown",
   "metadata": {
    "application/vnd.databricks.v1+cell": {
     "cellMetadata": {
      "byteLimit": 2048000,
      "rowLimit": 10000
     },
     "inputWidgets": {},
     "nuid": "41d31cc5-0dad-4f64-a0ad-66225f6ae397",
     "showTitle": false,
     "tableResultSettingsMap": {},
     "title": ""
    }
   },
   "source": [
    "## Parameters"
   ]
  },
  {
   "cell_type": "code",
   "execution_count": 0,
   "metadata": {
    "application/vnd.databricks.v1+cell": {
     "cellMetadata": {
      "byteLimit": 2048000,
      "rowLimit": 10000
     },
     "inputWidgets": {},
     "nuid": "25fed5dc-4fc4-4c92-a7ab-f9d077a3fe6f",
     "showTitle": false,
     "tableResultSettingsMap": {},
     "title": ""
    }
   },
   "outputs": [],
   "source": [
    "eventID='texnet2024shcj'"
   ]
  },
  {
   "cell_type": "markdown",
   "metadata": {
    "application/vnd.databricks.v1+cell": {
     "cellMetadata": {
      "byteLimit": 2048000,
      "rowLimit": 10000
     },
     "inputWidgets": {},
     "nuid": "9237e4af-4e41-491b-add8-8b182193f2e7",
     "showTitle": false,
     "tableResultSettingsMap": {},
     "title": ""
    }
   },
   "source": [
    "### Input Files\n",
    "Produced from injectionSQLScheduled.py"
   ]
  },
  {
   "cell_type": "code",
   "execution_count": 0,
   "metadata": {
    "application/vnd.databricks.v1+cell": {
     "cellMetadata": {
      "byteLimit": 2048000,
      "rowLimit": 10000
     },
     "inputWidgets": {},
     "nuid": "7b3f2312-434f-4dc7-a7d1-dc7a2717a900",
     "showTitle": false,
     "tableResultSettingsMap": {},
     "title": ""
    }
   },
   "outputs": [],
   "source": [
    "injPath=homePath+'/injection/WeeklyRun/ScheduledOutput'\n",
    "\n",
    "DeepWellFile=injPath+'/deep.csv'\n",
    "DeepInjFile=injPath+'/deepReg.csv'\n",
    "ShallowWellFile=injPath+'/shallow.csv'\n",
    "ShallowInjFile=injPath+'/shallowReg.csv'\n",
    "runPath=gistPath+'/runs/NorthTarzan/Outputs/'+eventID+'/'\n",
    "os.makedirs(runPath, exist_ok=True)\n",
    "################################################\n",
    "# Output prefix for realizations of parameters #\n",
    "################################################\n",
    "RealizationPrefix=runPath+'MC'"
   ]
  },
  {
   "cell_type": "markdown",
   "metadata": {
    "application/vnd.databricks.v1+cell": {
     "cellMetadata": {
      "byteLimit": 2048000,
      "rowLimit": 10000
     },
     "inputWidgets": {},
     "nuid": "011258b8-ff95-4291-ae2e-7a10d5fcb0f0",
     "showTitle": false,
     "tableResultSettingsMap": {},
     "title": ""
    }
   },
   "source": [
    "###General"
   ]
  },
  {
   "cell_type": "code",
   "execution_count": 0,
   "metadata": {
    "application/vnd.databricks.v1+cell": {
     "cellMetadata": {
      "byteLimit": 2048000,
      "rowLimit": 10000
     },
     "inputWidgets": {},
     "nuid": "a92b5ecc-ee98-4077-8e0b-c95a42deea53",
     "showTitle": false,
     "tableResultSettingsMap": {},
     "title": ""
    }
   },
   "outputs": [],
   "source": [
    "######################\n",
    "# General Parameters #\n",
    "######################\n",
    "nRealizations=500\n",
    "nTimeBins=21\n",
    "WaterDensityMin=1015.\n",
    "WaterDensityMax=1025.\n",
    "WaterViscosityMin=0.000799\n",
    "WaterViscosityMax=0.000801\n",
    "VerticalCompressibilityMin=0.00000000107\n",
    "VerticalCompressibilityMax=0.00000000109\n",
    "FluidCompressibilityMin=0.000000000359\n",
    "FluidCompressibilityMax=0.000000000361\n",
    "FaultFrictionCoeffMin=0.55\n",
    "FaultFrictionCoeffMax=0.65\n",
    "RockFrictionCoeffMin=0.55\n",
    "RockFrictionCoeffMax=0.65"
   ]
  },
  {
   "cell_type": "markdown",
   "metadata": {
    "application/vnd.databricks.v1+cell": {
     "cellMetadata": {
      "byteLimit": 2048000,
      "rowLimit": 10000
     },
     "inputWidgets": {},
     "nuid": "6c6e7111-066e-4e4a-9bc2-2da85adebd92",
     "showTitle": false,
     "tableResultSettingsMap": {},
     "title": ""
    }
   },
   "source": [
    "###Shallow interval"
   ]
  },
  {
   "cell_type": "code",
   "execution_count": 0,
   "metadata": {
    "application/vnd.databricks.v1+cell": {
     "cellMetadata": {
      "byteLimit": 2048000,
      "rowLimit": 10000
     },
     "inputWidgets": {},
     "nuid": "dfc65283-5b63-4ab3-96c6-da52acc40ddc",
     "showTitle": false,
     "tableResultSettingsMap": {},
     "title": ""
    }
   },
   "outputs": [],
   "source": [
    "###############################\n",
    "# Shallow Interval Parameters #\n",
    "###############################\n",
    "ShallowPorosityPercentMin=1.\n",
    "ShallowPorosityPercentMax=20.\n",
    "\n",
    "ShallowPermMDMin=5.\n",
    "ShallowPermMDMax=200.\n",
    "\n",
    "ShallowThicknessFTMin=200.\n",
    "ShallowThicknessFTMax=2000.\n",
    "# Roughly double of shallow - \n",
    "ShallowShearModulusMin=4e9\n",
    "ShallowShearModulusMax=6e9\n",
    "ShallowPoissonsRatioDrainedMin=0.295\n",
    "ShallowPoissonsRatioDrainedMax=0.305\n",
    "ShallowPoissonsRatioUndrainedMin=0.305\n",
    "ShallowPoissonsRatioUndrainedMax=0.315\n",
    "ShallowBiotsCoefficientMin=0.26\n",
    "ShallowBiotsCoefficientMax=0.36"
   ]
  },
  {
   "cell_type": "markdown",
   "metadata": {
    "application/vnd.databricks.v1+cell": {
     "cellMetadata": {
      "byteLimit": 2048000,
      "rowLimit": 10000
     },
     "inputWidgets": {},
     "nuid": "7d6c2d88-5cbb-43c6-af46-c8361e61f1cf",
     "showTitle": false,
     "tableResultSettingsMap": {},
     "title": ""
    }
   },
   "source": [
    "### Deep Interval"
   ]
  },
  {
   "cell_type": "code",
   "execution_count": 0,
   "metadata": {
    "application/vnd.databricks.v1+cell": {
     "cellMetadata": {
      "byteLimit": 2048000,
      "rowLimit": 10000
     },
     "inputWidgets": {},
     "nuid": "d58e0474-d42e-49be-94ae-633087760772",
     "showTitle": false,
     "tableResultSettingsMap": {},
     "title": ""
    }
   },
   "outputs": [],
   "source": [
    "###############################\n",
    "# Deep Interval Parameters #\n",
    "###############################\n",
    "DeepPorosityPercentMin=3.\n",
    "DeepPorosityPercentMax=15.\n",
    "DeepPermMDMin=5.\n",
    "DeepPermMDMax=500.\n",
    "# Now let's change this to something where 1D is the high range and 10mD is the low range\n",
    "\n",
    "DeepThicknessFTMin=200.\n",
    "DeepThicknessFTMax=2000.\n",
    "# Roughly double of shallow - \n",
    "DeepShearModulusMin=4e9\n",
    "DeepShearModulusMax=6e9\n",
    "DeepPoissonsRatioDrainedMin=0.295\n",
    "DeepPoissonsRatioDrainedMax=0.305\n",
    "DeepPoissonsRatioUndrainedMin=0.305\n",
    "DeepPoissonsRatioUndrainedMax=0.315\n",
    "DeepBiotsCoefficientMin=0.26\n",
    "DeepBiotsCoefficientMax=0.36\n"
   ]
  },
  {
   "cell_type": "markdown",
   "metadata": {
    "application/vnd.databricks.v1+cell": {
     "cellMetadata": {
      "byteLimit": 2048000,
      "rowLimit": 10000
     },
     "inputWidgets": {},
     "nuid": "0dde5262-6ef4-4597-b3fe-c7235a253757",
     "showTitle": false,
     "tableResultSettingsMap": {},
     "title": ""
    }
   },
   "source": [
    "#Earthquake Selection"
   ]
  },
  {
   "cell_type": "code",
   "execution_count": 0,
   "metadata": {
    "application/vnd.databricks.v1+cell": {
     "cellMetadata": {
      "byteLimit": 2048000,
      "rowLimit": 10000
     },
     "inputWidgets": {},
     "nuid": "ce7a3a90-f553-4113-abbe-37d6fb67d6e5",
     "showTitle": false,
     "tableResultSettingsMap": {},
     "title": ""
    }
   },
   "outputs": [
    {
     "output_type": "stream",
     "name": "stdout",
     "output_type": "stream",
     "text": [
      "getEarthquake:     SeismicEventId  ... B3RecordDeletedUTCDateTime\n0         2496144  ...                        NaT\n\n[1 rows x 32 columns]\n<class 'geopandas.geodataframe.GeoDataFrame'>\nRangeIndex: 1 entries, 0 to 0\nData columns (total 38 columns):\n #   Column                      Non-Null Count  Dtype         \n---  ------                      --------------  -----         \n 0   SeismicEventId              1 non-null      int64         \n 1   DataSource                  1 non-null      object        \n 2   DataSourceUrl               0 non-null      object        \n 3   EventID                     1 non-null      object        \n 4   EventTimeUtc                1 non-null      datetime64[ns]\n 5   EventTimeInLocalTimeZone    1 non-null      object        \n 6   EventTimeZone               1 non-null      object        \n 7   EventType                   1 non-null      object        \n 8   DepthKm                     1 non-null      float64       \n 9   DepthErrorKm                1 non-null      float64       \n 10  Magnitude                   1 non-null      float64       \n 11  MagnitudeError              0 non-null      float64       \n 12  MagnitudeType               1 non-null      object        \n 13  Location                    1 non-null      object        \n 14  Status                      1 non-null      object        \n 15  Latitude                    1 non-null      float64       \n 16  LatitudeError               1 non-null      float64       \n 17  Longitude                   1 non-null      float64       \n 18  LongitudeError              1 non-null      float64       \n 19  UpdatedDateUtc              1 non-null      datetime64[ns]\n 20  StationCount                1 non-null      int64         \n 21  RMS                         1 non-null      float64       \n 22  RMS_p                       0 non-null      object        \n 23  RMS_s                       0 non-null      object        \n 24  FocalMechanismAzimuthalGap  1 non-null      float64       \n 25  County                      1 non-null      object        \n 26  State                       1 non-null      object        \n 27  DuplicateSetId              1 non-null      int32         \n 28  RankWithinDuplicateSet      1 non-null      int32         \n 29  B3RecordAddedUTCDateTime    1 non-null      datetime64[ns]\n 30  B3RecordUpdatedUTCDateTime  1 non-null      datetime64[ns]\n 31  B3RecordDeletedUTCDateTime  0 non-null      datetime64[ns]\n 32  Origin Date                 1 non-null      object        \n 33  Origin Time                 1 non-null      object        \n 34  geometry                    1 non-null      geometry      \n 35  Strike                      1 non-null      float64       \n 36  Dip                         1 non-null      float64       \n 37  Rake                        1 non-null      float64       \ndtypes: datetime64[ns](5), float64(13), geometry(1), int32(2), int64(2), object(15)\nmemory usage: 424.0+ bytes\n"
     ]
    }
   ],
   "source": [
    "eqs=es.eqSQL()\n",
    "EQDF=eqs.getEarthquake(eventID)\n",
    "EQDF=EQDF.rename(columns={'LatitudeErrorKm':'LatitudeError','LongitudeErrorKm':'LongitudeError','EventId':'EventID'})\n",
    "# What about the other fault plane solution? - 251 / 36 / -97\n",
    "EQDF['Strike']=80.\n",
    "EQDF['Dip']=55.\n",
    "EQDF['Rake']=-85.\n",
    "# We could make use of the Rake\n",
    "EQDF.info()\n",
    "eq=EQDF.loc[0]\n",
    "EQDF.to_csv(runPath+'/EQ.csv')"
   ]
  },
  {
   "cell_type": "markdown",
   "metadata": {
    "application/vnd.databricks.v1+cell": {
     "cellMetadata": {
      "byteLimit": 2048000,
      "rowLimit": 10000
     },
     "inputWidgets": {},
     "nuid": "61b8015e-aa08-4602-a74d-7e156b85d725",
     "showTitle": false,
     "tableResultSettingsMap": {},
     "title": ""
    }
   },
   "source": [
    "#GIST Initialization"
   ]
  },
  {
   "cell_type": "markdown",
   "metadata": {
    "application/vnd.databricks.v1+cell": {
     "cellMetadata": {
      "byteLimit": 2048000,
      "rowLimit": 10000
     },
     "inputWidgets": {},
     "nuid": "8f47744f-50ea-4a2e-8b39-5e7f9c586934",
     "showTitle": false,
     "tableResultSettingsMap": {},
     "title": ""
    }
   },
   "source": [
    "## Shallow "
   ]
  },
  {
   "cell_type": "code",
   "execution_count": 0,
   "metadata": {
    "application/vnd.databricks.v1+cell": {
     "cellMetadata": {
      "byteLimit": 2048000,
      "rowLimit": 10000
     },
     "inputWidgets": {},
     "nuid": "dfe302e8-a252-4dbb-baea-bf6efddd53a9",
     "showTitle": false,
     "tableResultSettingsMap": {},
     "title": ""
    }
   },
   "outputs": [],
   "source": [
    "# Initialize GIST instance for Shallow interval #\n",
    "##################################################\n",
    "shallowM=gi.gistMC(nReal=nRealizations,\n",
    "                ntBin=nTimeBins)\n",
    "##################################################################\n",
    "# Initialize pore pressure model                                 #\n",
    "##################################################################\n",
    "shallowM.initPP(rho0_min=WaterDensityMin,\n",
    "             rho0_max=WaterDensityMax,\n",
    "             phi_min=ShallowPorosityPercentMin,\n",
    "             phi_max=ShallowPorosityPercentMax,\n",
    "             kMD_min=ShallowPermMDMin,\n",
    "             kMD_max=ShallowPermMDMax,\n",
    "             h_min=ShallowThicknessFTMin,\n",
    "             h_max=ShallowThicknessFTMax,\n",
    "             alphav_min=VerticalCompressibilityMin,\n",
    "             alphav_max=VerticalCompressibilityMax,\n",
    "             beta_min=FluidCompressibilityMin,\n",
    "             beta_max=FluidCompressibilityMax)"
   ]
  },
  {
   "cell_type": "code",
   "execution_count": 0,
   "metadata": {
    "application/vnd.databricks.v1+cell": {
     "cellMetadata": {
      "byteLimit": 2048000,
      "rowLimit": 10000
     },
     "inputWidgets": {},
     "nuid": "37338518-60dc-442e-84a9-1531446dea9c",
     "showTitle": false,
     "tableResultSettingsMap": {},
     "title": ""
    }
   },
   "outputs": [],
   "source": [
    "# These parameters need more vetting #\n",
    "######################################\n",
    "shallowM.initPE(mu_min=ShallowShearModulusMin,\n",
    "             mu_max=ShallowShearModulusMax,\n",
    "             nu_min=ShallowPoissonsRatioDrainedMin,\n",
    "             nu_max=ShallowPoissonsRatioDrainedMax,\n",
    "             nu_u_min=ShallowPoissonsRatioUndrainedMin,\n",
    "             nu_u_max=ShallowPoissonsRatioUndrainedMax,\n",
    "             alpha_min=ShallowBiotsCoefficientMin,\n",
    "             alpha_max=ShallowBiotsCoefficientMax,\n",
    "             mu_f_min=FaultFrictionCoeffMin,\n",
    "             mu_f_max=FaultFrictionCoeffMax,\n",
    "             mu_r_min=RockFrictionCoeffMin,\n",
    "             mu_r_max=RockFrictionCoeffMax,\n",
    "             match=True)\n",
    "shallowM.writeRealizations(runPath+'/shallowRealizations.csv')"
   ]
  },
  {
   "cell_type": "markdown",
   "metadata": {
    "application/vnd.databricks.v1+cell": {
     "cellMetadata": {
      "byteLimit": 2048000,
      "rowLimit": 10000
     },
     "inputWidgets": {},
     "nuid": "b9911a2e-abbe-48fa-beb3-db4bc2a8727a",
     "showTitle": false,
     "tableResultSettingsMap": {},
     "title": ""
    }
   },
   "source": [
    "## Deep"
   ]
  },
  {
   "cell_type": "code",
   "execution_count": 0,
   "metadata": {
    "application/vnd.databricks.v1+cell": {
     "cellMetadata": {
      "byteLimit": 2048000,
      "rowLimit": 10000
     },
     "inputWidgets": {},
     "nuid": "d6dead15-ae34-43e1-8795-831b0532c24a",
     "showTitle": false,
     "tableResultSettingsMap": {},
     "title": ""
    }
   },
   "outputs": [],
   "source": [
    "# Initialize GIST instance for deep interval #\n",
    "##################################################\n",
    "deepM=gi.gistMC(nReal=nRealizations,\n",
    "                ntBin=nTimeBins)\n",
    "##################################################################\n",
    "# Initialize pore pressure model                                 #\n",
    "##################################################################\n",
    "deepM.initPP(rho0_min=WaterDensityMin,\n",
    "             rho0_max=WaterDensityMax,\n",
    "             phi_min=DeepPorosityPercentMin,\n",
    "             phi_max=DeepPorosityPercentMax,\n",
    "             kMD_min=DeepPermMDMin,\n",
    "             kMD_max=DeepPermMDMax,\n",
    "             h_min=DeepThicknessFTMin,\n",
    "             h_max=DeepThicknessFTMax,\n",
    "             alphav_min=VerticalCompressibilityMin,\n",
    "             alphav_max=VerticalCompressibilityMax,\n",
    "             beta_min=FluidCompressibilityMin,\n",
    "             beta_max=FluidCompressibilityMax)\n",
    "\n",
    "# Write histogram of parameters to csv file:\n"
   ]
  },
  {
   "cell_type": "code",
   "execution_count": 0,
   "metadata": {
    "application/vnd.databricks.v1+cell": {
     "cellMetadata": {
      "byteLimit": 2048000,
      "rowLimit": 10000
     },
     "inputWidgets": {},
     "nuid": "0811f336-b85e-4935-a4aa-78e7c7088826",
     "showTitle": false,
     "tableResultSettingsMap": {},
     "title": ""
    }
   },
   "outputs": [],
   "source": [
    "# These parameters need more vetting #\n",
    "######################################\n",
    "deepM.initPE(mu_min=DeepShearModulusMin,\n",
    "             mu_max=DeepShearModulusMax,\n",
    "             nu_min=DeepPoissonsRatioDrainedMin,\n",
    "             nu_max=DeepPoissonsRatioDrainedMax,\n",
    "             nu_u_min=DeepPoissonsRatioUndrainedMin,\n",
    "             nu_u_max=DeepPoissonsRatioUndrainedMax,\n",
    "             alpha_min=DeepBiotsCoefficientMin,\n",
    "             alpha_max=DeepBiotsCoefficientMax,\n",
    "             mu_f_min=FaultFrictionCoeffMin,\n",
    "             mu_f_max=FaultFrictionCoeffMax,\n",
    "             mu_r_min=RockFrictionCoeffMin,\n",
    "             mu_r_max=RockFrictionCoeffMax,\n",
    "             match=True)\n",
    "\n",
    "deepM.writeRealizations(runPath+'/deepRealizations.csv')"
   ]
  },
  {
   "cell_type": "markdown",
   "metadata": {
    "application/vnd.databricks.v1+cell": {
     "cellMetadata": {
      "byteLimit": 2048000,
      "rowLimit": 10000
     },
     "inputWidgets": {},
     "nuid": "345d4c80-14e1-4260-9b69-ef604e3abd0f",
     "showTitle": false,
     "tableResultSettingsMap": {},
     "title": ""
    }
   },
   "source": [
    "#Well selection"
   ]
  },
  {
   "cell_type": "markdown",
   "metadata": {
    "application/vnd.databricks.v1+cell": {
     "cellMetadata": {
      "byteLimit": 2048000,
      "rowLimit": 10000
     },
     "inputWidgets": {},
     "nuid": "cc618d09-6496-4d5b-b5ce-7031de3af50c",
     "showTitle": false,
     "tableResultSettingsMap": {},
     "title": ""
    }
   },
   "source": [
    "####Input wells"
   ]
  },
  {
   "cell_type": "code",
   "execution_count": 0,
   "metadata": {
    "application/vnd.databricks.v1+cell": {
     "cellMetadata": {
      "byteLimit": 2048000,
      "rowLimit": 10000
     },
     "inputWidgets": {},
     "nuid": "c61650ff-760c-4493-a9e7-3ad67488dd8d",
     "showTitle": false,
     "tableResultSettingsMap": {},
     "title": ""
    }
   },
   "outputs": [
    {
     "output_type": "stream",
     "name": "stdout",
     "output_type": "stream",
     "text": [
      "Before adding shallow wells\n gistMC.addWells: well file added with  7977  wells\n gistMC.addWells: well columns: Index(['ID', 'InjectionWellId', 'UniqueWellIdentifier', 'UICNumber',\n       'APINumber', 'LeaseName', 'Operator', 'OperatorType',\n       'OperatorPrincipalCompany', 'OperatorPrincipalCompanyType', 'WellName',\n       'WellNumber', 'State', 'Basin', 'County', 'District', 'SRAOrSIR',\n       'B3InjectionType', 'B3InjectionStatus', 'RegulatoryInjectionType',\n       'PermittedMaxLiquidBPD', 'PermittedMaxLiquidPSIG',\n       'PermittedMaxGasMCFPerDay', 'PermittedMaxGasPSIG',\n       'PermittedCommercialStatus', 'PermittedIntervalTopFt',\n       'PermittedIntervalBottomFt', 'InjectionClass', 'PermitStage',\n       'PermittedWellDepthClassification', 'DaysApplicationHasBeenInReview',\n       'DaysToPermitApproval', 'PermitIsAmendment',\n       'PendingApplicationIsAmendment',\n       'PendingApplicationRequestedCommercialStatus',\n       'PendingApplicationRequestedIntervalTopFt',\n       'PendingApplicationRequestedIntervalBottomFt',\n       'PendingApplicationRequestedMaxLiquidBPD',\n       'PendingApplicationRequestedMaxLiquidPSIG',\n       'PendingApplicationRequestedMaxGasMCFPerDay',\n       'PendingApplicationRequestedMaxGasPSIG',\n       'PendingApplicationRequestedOperator',\n       'PendingApplicationRequestedOperatorType',\n       'PendingApplicationRequestedOperatorPrincipalCompany',\n       'PendingApplicationRequestedOperatorPrincipalCompanyType',\n       'PendingApplicationRequestedWellDepthClassification',\n       'CompletedWellDepthClassification', 'CompletionAndDrillingPermitStatus',\n       'StartDate', 'TotalVerticalDepthFt', 'MeasuredDepthFt',\n       'WellboreOrientation', 'IsOpenHole', 'SurfaceHoleElevationFt',\n       'SurfaceHoleLatitude', 'SurfaceHoleLongitude',\n       'SurfaceHoleGeographySource', 'SurveyLinesDescription',\n       'B3RecordAddedUTCDateTime', 'B3RecordUpdatedUTCDateTime',\n       'B3RecordDeletedUTCDateTime'],\n      dtype='object')\n gistMC.addWells: injection file has  3874  unique wells\n gistMC.addWells: injection file first day:  3660.0\n gistMC.addWells: injection file last day:  20030.0\n gistMC.addWells: injection file day interval:  10.0\n gistMC.addWells: injection file number of time samples:  1638\n"
     ]
    }
   ],
   "source": [
    "#########################################\n",
    "# Add potential wells to each instance  #\n",
    "#########################################\n",
    "print(\"Before adding shallow wells\")\n",
    "shallowM.addWells(ShallowWellFile,ShallowInjFile,verbose=1)"
   ]
  },
  {
   "cell_type": "code",
   "execution_count": 0,
   "metadata": {
    "application/vnd.databricks.v1+cell": {
     "cellMetadata": {
      "byteLimit": 2048000,
      "rowLimit": 10000
     },
     "inputWidgets": {},
     "nuid": "6d0b49b7-39d4-484f-bc94-dc5add600576",
     "showTitle": false,
     "tableResultSettingsMap": {},
     "title": ""
    }
   },
   "outputs": [
    {
     "output_type": "stream",
     "name": "stdout",
     "output_type": "stream",
     "text": [
      "Before adding deep wells\n gistMC.addWells: well file added with  2836  wells\n gistMC.addWells: well columns: Index(['ID', 'InjectionWellId', 'UniqueWellIdentifier', 'UICNumber',\n       'APINumber', 'LeaseName', 'Operator', 'OperatorType',\n       'OperatorPrincipalCompany', 'OperatorPrincipalCompanyType', 'WellName',\n       'WellNumber', 'State', 'Basin', 'County', 'District', 'SRAOrSIR',\n       'B3InjectionType', 'B3InjectionStatus', 'RegulatoryInjectionType',\n       'PermittedMaxLiquidBPD', 'PermittedMaxLiquidPSIG',\n       'PermittedMaxGasMCFPerDay', 'PermittedMaxGasPSIG',\n       'PermittedCommercialStatus', 'PermittedIntervalTopFt',\n       'PermittedIntervalBottomFt', 'InjectionClass', 'PermitStage',\n       'PermittedWellDepthClassification', 'DaysApplicationHasBeenInReview',\n       'DaysToPermitApproval', 'PermitIsAmendment',\n       'PendingApplicationIsAmendment',\n       'PendingApplicationRequestedCommercialStatus',\n       'PendingApplicationRequestedIntervalTopFt',\n       'PendingApplicationRequestedIntervalBottomFt',\n       'PendingApplicationRequestedMaxLiquidBPD',\n       'PendingApplicationRequestedMaxLiquidPSIG',\n       'PendingApplicationRequestedMaxGasMCFPerDay',\n       'PendingApplicationRequestedMaxGasPSIG',\n       'PendingApplicationRequestedOperator',\n       'PendingApplicationRequestedOperatorType',\n       'PendingApplicationRequestedOperatorPrincipalCompany',\n       'PendingApplicationRequestedOperatorPrincipalCompanyType',\n       'PendingApplicationRequestedWellDepthClassification',\n       'CompletedWellDepthClassification', 'CompletionAndDrillingPermitStatus',\n       'StartDate', 'TotalVerticalDepthFt', 'MeasuredDepthFt',\n       'WellboreOrientation', 'IsOpenHole', 'SurfaceHoleElevationFt',\n       'SurfaceHoleLatitude', 'SurfaceHoleLongitude',\n       'SurfaceHoleGeographySource', 'SurveyLinesDescription',\n       'B3RecordAddedUTCDateTime', 'B3RecordUpdatedUTCDateTime',\n       'B3RecordDeletedUTCDateTime'],\n      dtype='object')\n gistMC.addWells: injection file has  1480  unique wells\n gistMC.addWells: injection file first day:  3880.0\n gistMC.addWells: injection file last day:  20030.0\n gistMC.addWells: injection file day interval:  10.0\n gistMC.addWells: injection file number of time samples:  1616\n"
     ]
    }
   ],
   "source": [
    "print(\"Before adding deep wells\")\n",
    "deepM.addWells(DeepWellFile,DeepInjFile,verbose=1)"
   ]
  },
  {
   "cell_type": "code",
   "execution_count": 0,
   "metadata": {
    "application/vnd.databricks.v1+cell": {
     "cellMetadata": {
      "byteLimit": 2048000,
      "rowLimit": 10000
     },
     "inputWidgets": {},
     "nuid": "7f8e3ce6-81c2-4554-8950-4f642a2e1022",
     "showTitle": false,
     "tableResultSettingsMap": {},
     "title": ""
    }
   },
   "outputs": [
    {
     "output_type": "stream",
     "name": "stdout",
     "output_type": "stream",
     "text": [
      "<class 'pandas.core.frame.DataFrame'>\nRangeIndex: 7977 entries, 0 to 7976\nData columns (total 61 columns):\n #   Column                                                   Non-Null Count  Dtype  \n---  ------                                                   --------------  -----  \n 0   ID                                                       7977 non-null   int64  \n 1   InjectionWellId                                          7977 non-null   int64  \n 2   UniqueWellIdentifier                                     7977 non-null   int64  \n 3   UICNumber                                                4701 non-null   object \n 4   APINumber                                                7977 non-null   object \n 5   LeaseName                                                7758 non-null   object \n 6   Operator                                                 7976 non-null   object \n 7   OperatorType                                             4360 non-null   object \n 8   OperatorPrincipalCompany                                 7976 non-null   object \n 9   OperatorPrincipalCompanyType                             4673 non-null   object \n 10  WellName                                                 7977 non-null   object \n 11  WellNumber                                               7977 non-null   object \n 12  State                                                    7977 non-null   object \n 13  Basin                                                    5349 non-null   object \n 14  County                                                   7977 non-null   object \n 15  District                                                 7977 non-null   object \n 16  SRAOrSIR                                                 1487 non-null   object \n 17  B3InjectionType                                          7977 non-null   object \n 18  B3InjectionStatus                                        7964 non-null   object \n 19  RegulatoryInjectionType                                  7977 non-null   object \n 20  PermittedMaxLiquidBPD                                    4412 non-null   float64\n 21  PermittedMaxLiquidPSIG                                   7959 non-null   float64\n 22  PermittedMaxGasMCFPerDay                                 4210 non-null   float64\n 23  PermittedMaxGasPSIG                                      518 non-null    float64\n 24  PermittedCommercialStatus                                4674 non-null   object \n 25  PermittedIntervalTopFt                                   4616 non-null   float64\n 26  PermittedIntervalBottomFt                                4564 non-null   float64\n 27  InjectionClass                                           7977 non-null   object \n 28  PermitStage                                              7977 non-null   object \n 29  PermittedWellDepthClassification                         3964 non-null   object \n 30  DaysApplicationHasBeenInReview                           69 non-null     float64\n 31  DaysToPermitApproval                                     2428 non-null   float64\n 32  PermitIsAmendment                                        4540 non-null   object \n 33  PendingApplicationIsAmendment                            69 non-null     object \n 34  PendingApplicationRequestedCommercialStatus              66 non-null     object \n 35  PendingApplicationRequestedIntervalTopFt                 66 non-null     float64\n 36  PendingApplicationRequestedIntervalBottomFt              66 non-null     float64\n 37  PendingApplicationRequestedMaxLiquidBPD                  66 non-null     float64\n 38  PendingApplicationRequestedMaxLiquidPSIG                 66 non-null     float64\n 39  PendingApplicationRequestedMaxGasMCFPerDay               35 non-null     float64\n 40  PendingApplicationRequestedMaxGasPSIG                    47 non-null     float64\n 41  PendingApplicationRequestedOperator                      69 non-null     object \n 42  PendingApplicationRequestedOperatorType                  58 non-null     object \n 43  PendingApplicationRequestedOperatorPrincipalCompany      69 non-null     object \n 44  PendingApplicationRequestedOperatorPrincipalCompanyType  59 non-null     object \n 45  PendingApplicationRequestedWellDepthClassification       63 non-null     object \n 46  CompletedWellDepthClassification                         7275 non-null   object \n 47  CompletionAndDrillingPermitStatus                        7977 non-null   object \n 48  StartDate                                                7160 non-null   object \n 49  TotalVerticalDepthFt                                     7414 non-null   float64\n 50  MeasuredDepthFt                                          7851 non-null   float64\n 51  WellboreOrientation                                      7475 non-null   object \n 52  IsOpenHole                                               4701 non-null   object \n 53  SurfaceHoleElevationFt                                   6877 non-null   float64\n 54  SurfaceHoleLatitude                                      7977 non-null   float64\n 55  SurfaceHoleLongitude                                     7977 non-null   float64\n 56  SurfaceHoleGeographySource                               7977 non-null   object \n 57  SurveyLinesDescription                                   7508 non-null   object \n 58  B3RecordAddedUTCDateTime                                 7977 non-null   object \n 59  B3RecordUpdatedUTCDateTime                               3906 non-null   object \n 60  B3RecordDeletedUTCDateTime                               0 non-null      float64\ndtypes: float64(20), int64(3), object(38)\nmemory usage: 3.7+ MB\n<class 'geopandas.geodataframe.GeoDataFrame'>\nRangeIndex: 1 entries, 0 to 0\nData columns (total 38 columns):\n #   Column                      Non-Null Count  Dtype         \n---  ------                      --------------  -----         \n 0   SeismicEventId              1 non-null      int64         \n 1   DataSource                  1 non-null      object        \n 2   DataSourceUrl               0 non-null      object        \n 3   EventID                     1 non-null      object        \n 4   EventTimeUtc                1 non-null      datetime64[ns]\n 5   EventTimeInLocalTimeZone    1 non-null      object        \n 6   EventTimeZone               1 non-null      object        \n 7   EventType                   1 non-null      object        \n 8   DepthKm                     1 non-null      float64       \n 9   DepthErrorKm                1 non-null      float64       \n 10  Magnitude                   1 non-null      float64       \n 11  MagnitudeError              0 non-null      float64       \n 12  MagnitudeType               1 non-null      object        \n 13  Location                    1 non-null      object        \n 14  Status                      1 non-null      object        \n 15  Latitude                    1 non-null      float64       \n 16  LatitudeError               1 non-null      float64       \n 17  Longitude                   1 non-null      float64       \n 18  LongitudeError              1 non-null      float64       \n 19  UpdatedDateUtc              1 non-null      datetime64[ns]\n 20  StationCount                1 non-null      int64         \n 21  RMS                         1 non-null      float64       \n 22  RMS_p                       0 non-null      object        \n 23  RMS_s                       0 non-null      object        \n 24  FocalMechanismAzimuthalGap  1 non-null      float64       \n 25  County                      1 non-null      object        \n 26  State                       1 non-null      object        \n 27  DuplicateSetId              1 non-null      int32         \n 28  RankWithinDuplicateSet      1 non-null      int32         \n 29  B3RecordAddedUTCDateTime    1 non-null      datetime64[ns]\n 30  B3RecordUpdatedUTCDateTime  1 non-null      datetime64[ns]\n 31  B3RecordDeletedUTCDateTime  0 non-null      datetime64[ns]\n 32  Origin Date                 1 non-null      object        \n 33  Origin Time                 1 non-null      object        \n 34  geometry                    1 non-null      geometry      \n 35  Strike                      1 non-null      float64       \n 36  Dip                         1 non-null      float64       \n 37  Rake                        1 non-null      float64       \ndtypes: datetime64[ns](5), float64(13), geometry(1), int32(2), int64(2), object(15)\nmemory usage: 424.0+ bytes\n"
     ]
    }
   ],
   "source": [
    "shallowM.wellDF.info()\n",
    "EQDF.info()"
   ]
  },
  {
   "cell_type": "code",
   "execution_count": 0,
   "metadata": {
    "application/vnd.databricks.v1+cell": {
     "cellMetadata": {
      "byteLimit": 2048000,
      "rowLimit": 10000
     },
     "inputWidgets": {},
     "nuid": "216af07b-6ac8-453c-aac3-2cf6fdf8d2c6",
     "showTitle": false,
     "tableResultSettingsMap": {},
     "title": ""
    }
   },
   "outputs": [],
   "source": [
    "deepPPSelectedWells,deepPPIgnoredWells,deepPPInj=deepM.findWells(eq,PE=False)\n",
    "#deepPESelectedWells,deepPEIgnoredWells,deepPEInj=deepM.findWells(eq,PE=True)"
   ]
  },
  {
   "cell_type": "code",
   "execution_count": 0,
   "metadata": {
    "application/vnd.databricks.v1+cell": {
     "cellMetadata": {
      "byteLimit": 2048000,
      "rowLimit": 10000
     },
     "inputWidgets": {},
     "nuid": "2f954928-3373-475d-9584-c75b31b62e95",
     "showTitle": false,
     "tableResultSettingsMap": {},
     "title": ""
    }
   },
   "outputs": [],
   "source": [
    "minYear=-40\n",
    "diffRange=(min(deepM.diffPPVec),max(deepM.diffPPVec))\n",
    "deepRTDF,deepWellsDF = gi.prepRTPlot(deepPPSelectedWells,deepPPIgnoredWells,minYear,diffRange,clipYear=False)\n",
    "deepWellsDF.to_csv(runPath+'/NorthTarzan_09-24_DeepPPWells.csv')\n",
    "deepRTDF.to_csv(runPath+'/NorthTarzan_09-24_DeepRTDF.csv')"
   ]
  },
  {
   "cell_type": "code",
   "execution_count": 0,
   "metadata": {
    "application/vnd.databricks.v1+cell": {
     "cellMetadata": {
      "byteLimit": 2048000,
      "rowLimit": 10000
     },
     "inputWidgets": {},
     "nuid": "65a52bd8-ac73-4a92-be9f-ce7a8f718770",
     "showTitle": false,
     "tableResultSettingsMap": {},
     "title": ""
    }
   },
   "outputs": [],
   "source": [
    "# Dump injection data to file:\n",
    "deepPPInj.to_csv(runPath+'/NorthTarzan_09-24_DeepPPInj.csv')"
   ]
  },
  {
   "cell_type": "code",
   "execution_count": 0,
   "metadata": {
    "application/vnd.databricks.v1+cell": {
     "cellMetadata": {
      "byteLimit": 2048000,
      "rowLimit": 10000
     },
     "inputWidgets": {},
     "nuid": "5f270ec1-c943-42a8-a77c-07192c4b27d3",
     "showTitle": false,
     "tableResultSettingsMap": {},
     "title": ""
    }
   },
   "outputs": [
    {
     "output_type": "stream",
     "name": "stderr",
     "output_type": "stream",
     "text": [
      "/home/spark-b6222526-f5b1-46dd-835a-dc/.ipykernel/103018/command-3703220800531525-1084520577:1: SettingWithCopyWarning: \nA value is trying to be set on a copy of a slice from a DataFrame\n\nSee the caveats in the documentation: https://pandas.pydata.org/pandas-docs/stable/user_guide/indexing.html#returning-a-view-versus-a-copy\n  eq.loc['Origin Date']=pd.to_datetime(eq['Origin Date'])\n"
     ]
    }
   ],
   "source": [
    "eq.loc['Origin Date']=pd.to_datetime(eq['Origin Date'])"
   ]
  },
  {
   "cell_type": "code",
   "execution_count": 0,
   "metadata": {
    "application/vnd.databricks.v1+cell": {
     "cellMetadata": {
      "byteLimit": 2048000,
      "rowLimit": 10000
     },
     "inputWidgets": {},
     "nuid": "ae8f220f-f253-4c52-975d-c1f3620667eb",
     "showTitle": false,
     "tableResultSettingsMap": {},
     "title": ""
    }
   },
   "outputs": [],
   "source": [
    "# Shallow well selection:\n",
    "shallowPPSelectedWells,shallowPPIgnoredWells,shallowPPInj=shallowM.findWells(eq,PE=False)\n",
    "#shallowPESelectedWells,shallowPEIgnoredWells,shallowPEInj=shallowM.findWells(eq,PE=True)\n",
    "\n",
    "sDiffRange=(min(shallowM.diffPPVec),max(shallowM.diffPPVec))\n",
    "shallowRTDF,shallowWellsDF = gi.prepRTPlot(shallowPPSelectedWells,shallowPPIgnoredWells,minYear,sDiffRange,clipYear=False)\n",
    "shallowWellsDF.to_csv(runPath+'/NorthTarzan_09-24_ShallowPPWells.csv')\n",
    "shallowRTDF.to_csv(runPath+'/NorthTarzan_09-24_ShallowRTDF.csv')\n",
    "shallowPPInj.to_csv(runPath+'/NorthTarzan_09-24_ShallowPPInj.csv')"
   ]
  },
  {
   "cell_type": "markdown",
   "metadata": {
    "application/vnd.databricks.v1+cell": {
     "cellMetadata": {
      "byteLimit": 2048000,
      "rowLimit": 10000
     },
     "inputWidgets": {},
     "nuid": "07017189-acd7-4b48-aac6-b27675eeb507",
     "showTitle": false,
     "tableResultSettingsMap": {},
     "title": ""
    }
   },
   "source": [
    "#Initial GIST runs\n"
   ]
  },
  {
   "cell_type": "code",
   "execution_count": 0,
   "metadata": {
    "application/vnd.databricks.v1+cell": {
     "cellMetadata": {
      "byteLimit": 2048000,
      "rowLimit": 10000
     },
     "inputWidgets": {},
     "nuid": "9bc68774-2a3e-4964-a170-d95d30a103ad",
     "showTitle": false,
     "tableResultSettingsMap": {},
     "title": ""
    }
   },
   "outputs": [
    {
     "output_type": "stream",
     "name": "stdout",
     "output_type": "stream",
     "text": [
      " gistMC.runPressureScenarios: Number of wells considered:  538\n gistMC.pressureScenario: well  0  of  538 :  1002717\n gistMC.pressureScenario: well  10  of  538 :  1003771\n gistMC.pressureScenario: well  20  of  538 :  1005818\n gistMC.pressureScenario: well  30  of  538 :  1002706\n gistMC.pressureScenario: well  40  of  538 :  1003488\n gistMC.pressureScenario: well  50  of  538 :  1004958\n gistMC.pressureScenario: well  60  of  538 :  1003176\n gistMC.pressureScenario: well  70  of  538 :  1003047\n gistMC.pressureScenario: well  80  of  538 :  1003962\n gistMC.pressureScenario: well  90  of  538 :  1003055\n gistMC.pressureScenario: well  100  of  538 :  1003122\n gistMC.pressureScenario: well  110  of  538 :  1003865\n gistMC.pressureScenario: well  120  of  538 :  1003759\n gistMC.pressureScenario: well  130  of  538 :  1003841\n gistMC.pressureScenario: well  140  of  538 :  1004594\n gistMC.pressureScenario: well  150  of  538 :  1005259\n gistMC.pressureScenario: well  160  of  538 :  1007563\n gistMC.pressureScenario: well  170  of  538 :  1003134\n gistMC.pressureScenario: well  180  of  538 :  1003772\n gistMC.pressureScenario: well  190  of  538 :  1003267\n gistMC.pressureScenario: well  200  of  538 :  1003900\n gistMC.pressureScenario: well  210  of  538 :  1005239\n gistMC.pressureScenario: well  220  of  538 :  1004463\n gistMC.pressureScenario: well  230  of  538 :  1006458\n gistMC.pressureScenario: well  240  of  538 :  2013104\n gistMC.pressureScenario: well  250  of  538 :  2018967\n gistMC.pressureScenario: well  260  of  538 :  2048778\n gistMC.pressureScenario: well  270  of  538 :  2048738\n gistMC.pressureScenario: well  280  of  538 :  2069640\n gistMC.pressureScenario: well  290  of  538 :  2083417\n gistMC.pressureScenario: well  300  of  538 :  2088664\n gistMC.pressureScenario: well  310  of  538 :  2101840\n gistMC.pressureScenario: well  320  of  538 :  2120624\n gistMC.pressureScenario: well  330  of  538 :  2077335\n gistMC.pressureScenario: well  340  of  538 :  2067679\n gistMC.pressureScenario: well  350  of  538 :  2110592\n gistMC.pressureScenario: well  360  of  538 :  2083420\n gistMC.pressureScenario: well  370  of  538 :  2099741\n gistMC.pressureScenario: well  380  of  538 :  2099183\n gistMC.pressureScenario: well  390  of  538 :  2049626\n gistMC.pressureScenario: well  400  of  538 :  2089131\n gistMC.pressureScenario: well  410  of  538 :  2079237\n gistMC.pressureScenario: well  420  of  538 :  2121166\n gistMC.pressureScenario: well  430  of  538 :  2058664\n gistMC.pressureScenario: well  440  of  538 :  2012785\n gistMC.pressureScenario: well  450  of  538 :  2067332\n gistMC.pressureScenario: well  460  of  538 :  2094582\n gistMC.pressureScenario: well  470  of  538 :  2112413\n gistMC.pressureScenario: well  480  of  538 :  2065535\n gistMC.pressureScenario: well  490  of  538 :  2100216\n gistMC.pressureScenario: well  500  of  538 :  2119807\n gistMC.pressureScenario: well  510  of  538 :  2120094\n gistMC.pressureScenario: well  520  of  538 :  2028557\n gistMC.pressureScenario: well  530  of  538 :  2092926\n gistMC.pressureScenario: scenario  1  of  500 : Max P: 4.435140871926513\n gistMC.pressureScenario: scenario  2  of  500 : Max P: 3.944271981120164\n gistMC.pressureScenario: scenario  3  of  500 : Max P: 7.928997067213052\n gistMC.pressureScenario: scenario  4  of  500 : Max P: 5.26208480900138\n gistMC.pressureScenario: scenario  5  of  500 : Max P: 9.372295519677612\n gistMC.pressureScenario: scenario  6  of  500 : Max P: 14.282831849463298\n gistMC.pressureScenario: scenario  7  of  500 : Max P: 6.791031763428029\n gistMC.pressureScenario: scenario  8  of  500 : Max P: 23.079577699622142\n gistMC.pressureScenario: scenario  9  of  500 : Max P: 16.46772542267879\n gistMC.pressureScenario: scenario  10  of  500 : Max P: 8.728926647858605\n gistMC.pressureScenario: scenario  11  of  500 : Max P: 4.57456619133217\n gistMC.pressureScenario: scenario  12  of  500 : Max P: 3.4019939764973457\n gistMC.pressureScenario: scenario  13  of  500 : Max P: 4.725830468744092\n gistMC.pressureScenario: scenario  14  of  500 : Max P: 10.726778021960335\n gistMC.pressureScenario: scenario  15  of  500 : Max P: 4.292156646140107\n gistMC.pressureScenario: scenario  16  of  500 : Max P: 20.302025577574124\n gistMC.pressureScenario: scenario  17  of  500 : Max P: 6.69061827663691\n gistMC.pressureScenario: scenario  18  of  500 : Max P: 3.3293117908394114\n gistMC.pressureScenario: scenario  19  of  500 : Max P: 23.437412393237995\n gistMC.pressureScenario: scenario  20  of  500 : Max P: 6.087612301605308\n gistMC.pressureScenario: scenario  21  of  500 : Max P: 4.745070671661572\n gistMC.pressureScenario: scenario  22  of  500 : Max P: 5.498973202312472\n gistMC.pressureScenario: scenario  23  of  500 : Max P: 7.436683316255095\n gistMC.pressureScenario: scenario  24  of  500 : Max P: 44.20048744681139\n gistMC.pressureScenario: scenario  25  of  500 : Max P: 3.0831818427375444\n gistMC.pressureScenario: scenario  26  of  500 : Max P: 20.53516084696133\n gistMC.pressureScenario: scenario  27  of  500 : Max P: 5.86276030578692\n gistMC.pressureScenario: scenario  28  of  500 : Max P: 3.6413594918050847\n gistMC.pressureScenario: scenario  29  of  500 : Max P: 7.985828628728922\n gistMC.pressureScenario: scenario  30  of  500 : Max P: 8.329442207169343\n gistMC.pressureScenario: scenario  31  of  500 : Max P: 14.141330425164963\n gistMC.pressureScenario: scenario  32  of  500 : Max P: 5.109995955101665\n gistMC.pressureScenario: scenario  33  of  500 : Max P: 23.904973476800084\n gistMC.pressureScenario: scenario  34  of  500 : Max P: 5.915997033496487\n gistMC.pressureScenario: scenario  35  of  500 : Max P: 4.982070288637408\n gistMC.pressureScenario: scenario  36  of  500 : Max P: 3.374875680646575\n gistMC.pressureScenario: scenario  37  of  500 : Max P: 7.1528737488924765\n gistMC.pressureScenario: scenario  38  of  500 : Max P: 39.32683629977096\n gistMC.pressureScenario: scenario  39  of  500 : Max P: 27.48688586698133\n gistMC.pressureScenario: scenario  40  of  500 : Max P: 5.175923178009114\n gistMC.pressureScenario: scenario  41  of  500 : Max P: 8.379411533711593\n gistMC.pressureScenario: scenario  42  of  500 : Max P: 9.713102085823857\n gistMC.pressureScenario: scenario  43  of  500 : Max P: 20.048230272444876\n gistMC.pressureScenario: scenario  44  of  500 : Max P: 30.716713266171148\n gistMC.pressureScenario: scenario  45  of  500 : Max P: 9.222260060875547\n gistMC.pressureScenario: scenario  46  of  500 : Max P: 18.515349571684663\n gistMC.pressureScenario: scenario  47  of  500 : Max P: 7.463891137695971\n gistMC.pressureScenario: scenario  48  of  500 : Max P: 6.148037855407501\n gistMC.pressureScenario: scenario  49  of  500 : Max P: 14.25469854138594\n gistMC.pressureScenario: scenario  50  of  500 : Max P: 5.141450849458453\n gistMC.pressureScenario: scenario  51  of  500 : Max P: 3.473971705918143\n gistMC.pressureScenario: scenario  52  of  500 : Max P: 5.7457435134291375\n gistMC.pressureScenario: scenario  53  of  500 : Max P: 21.455296379113513\n gistMC.pressureScenario: scenario  54  of  500 : Max P: 5.66857161831791\n gistMC.pressureScenario: scenario  55  of  500 : Max P: 6.457706383838982\n gistMC.pressureScenario: scenario  56  of  500 : Max P: 3.589108788929096\n gistMC.pressureScenario: scenario  57  of  500 : Max P: 4.313620330940039\n gistMC.pressureScenario: scenario  58  of  500 : Max P: 17.336774404962952\n gistMC.pressureScenario: scenario  59  of  500 : Max P: 3.706240443440517\n gistMC.pressureScenario: scenario  60  of  500 : Max P: 4.5493789519753465\n gistMC.pressureScenario: scenario  61  of  500 : Max P: 5.071808852215987\n gistMC.pressureScenario: scenario  62  of  500 : Max P: 19.199183041317546\n gistMC.pressureScenario: scenario  63  of  500 : Max P: 10.28916557593624\n gistMC.pressureScenario: scenario  64  of  500 : Max P: 4.611368840707572\n gistMC.pressureScenario: scenario  65  of  500 : Max P: 5.499953139826326\n gistMC.pressureScenario: scenario  66  of  500 : Max P: 4.201490800850032\n gistMC.pressureScenario: scenario  67  of  500 : Max P: 5.725400362117352\n gistMC.pressureScenario: scenario  68  of  500 : Max P: 5.506976235821577\n gistMC.pressureScenario: scenario  69  of  500 : Max P: 3.6951430025634098\n gistMC.pressureScenario: scenario  70  of  500 : Max P: 10.234132721469589\n gistMC.pressureScenario: scenario  71  of  500 : Max P: 5.283135128871737\n gistMC.pressureScenario: scenario  72  of  500 : Max P: 5.605205982030151\n gistMC.pressureScenario: scenario  73  of  500 : Max P: 10.115009131157839\n gistMC.pressureScenario: scenario  74  of  500 : Max P: 12.840826314644321\n gistMC.pressureScenario: scenario  75  of  500 : Max P: 8.629030797861049\n gistMC.pressureScenario: scenario  76  of  500 : Max P: 4.886085660782443\n gistMC.pressureScenario: scenario  77  of  500 : Max P: 7.497021404577337\n gistMC.pressureScenario: scenario  78  of  500 : Max P: 5.489018710980165\n gistMC.pressureScenario: scenario  79  of  500 : Max P: 16.047009062574322\n gistMC.pressureScenario: scenario  80  of  500 : Max P: 11.121448455047195\n gistMC.pressureScenario: scenario  81  of  500 : Max P: 38.68641333799737\n gistMC.pressureScenario: scenario  82  of  500 : Max P: 5.841031812784049\n gistMC.pressureScenario: scenario  83  of  500 : Max P: 4.427347842413508\n gistMC.pressureScenario: scenario  84  of  500 : Max P: 18.401746885024146\n gistMC.pressureScenario: scenario  85  of  500 : Max P: 8.140154279654691\n gistMC.pressureScenario: scenario  86  of  500 : Max P: 5.712547978121363\n gistMC.pressureScenario: scenario  87  of  500 : Max P: 4.649551184383364\n gistMC.pressureScenario: scenario  88  of  500 : Max P: 6.584127047890446\n gistMC.pressureScenario: scenario  89  of  500 : Max P: 6.599231587736159\n gistMC.pressureScenario: scenario  90  of  500 : Max P: 27.25253049206173\n gistMC.pressureScenario: scenario  91  of  500 : Max P: 4.191325047279785\n gistMC.pressureScenario: scenario  92  of  500 : Max P: 20.71323740563402\n gistMC.pressureScenario: scenario  93  of  500 : Max P: 38.62412783387257\n gistMC.pressureScenario: scenario  94  of  500 : Max P: 5.868862520444543\n gistMC.pressureScenario: scenario  95  of  500 : Max P: 22.445254898822117\n gistMC.pressureScenario: scenario  96  of  500 : Max P: 3.7903022843038654\n gistMC.pressureScenario: scenario  97  of  500 : Max P: 10.908069416734097\n gistMC.pressureScenario: scenario  98  of  500 : Max P: 13.23753160178729\n gistMC.pressureScenario: scenario  99  of  500 : Max P: 3.621523239734469\n gistMC.pressureScenario: scenario  100  of  500 : Max P: 7.81527760726364\n gistMC.pressureScenario: scenario  101  of  500 : Max P: 7.595309191430316\n gistMC.pressureScenario: scenario  102  of  500 : Max P: 31.51216434286554\n gistMC.pressureScenario: scenario  103  of  500 : Max P: 17.507680608785613\n gistMC.pressureScenario: scenario  104  of  500 : Max P: 7.099929850058069\n gistMC.pressureScenario: scenario  105  of  500 : Max P: 4.620960029634752\n gistMC.pressureScenario: scenario  106  of  500 : Max P: 5.500170966674823\n gistMC.pressureScenario: scenario  107  of  500 : Max P: 6.222196250532325\n gistMC.pressureScenario: scenario  108  of  500 : Max P: 7.936719656201864\n gistMC.pressureScenario: scenario  109  of  500 : Max P: 7.226438053431722\n gistMC.pressureScenario: scenario  110  of  500 : Max P: 16.91127896146096\n gistMC.pressureScenario: scenario  111  of  500 : Max P: 4.994747525248732\n gistMC.pressureScenario: scenario  112  of  500 : Max P: 4.785663888975896\n gistMC.pressureScenario: scenario  113  of  500 : Max P: 4.076521482416338\n gistMC.pressureScenario: scenario  114  of  500 : Max P: 11.236800212516858\n gistMC.pressureScenario: scenario  115  of  500 : Max P: 5.812995521274574\n gistMC.pressureScenario: scenario  116  of  500 : Max P: 5.082700866391583\n gistMC.pressureScenario: scenario  117  of  500 : Max P: 11.070874045868651\n gistMC.pressureScenario: scenario  118  of  500 : Max P: 7.695898553550588\n gistMC.pressureScenario: scenario  119  of  500 : Max P: 7.829648970589097\n gistMC.pressureScenario: scenario  120  of  500 : Max P: 4.466700909491333\n gistMC.pressureScenario: scenario  121  of  500 : Max P: 4.586112757902376\n gistMC.pressureScenario: scenario  122  of  500 : Max P: 5.718731621049388\n gistMC.pressureScenario: scenario  123  of  500 : Max P: 16.503680791965113\n gistMC.pressureScenario: scenario  124  of  500 : Max P: 4.501014459676958\n gistMC.pressureScenario: scenario  125  of  500 : Max P: 1.9949802906896832\n gistMC.pressureScenario: scenario  126  of  500 : Max P: 17.879873785298628\n gistMC.pressureScenario: scenario  127  of  500 : Max P: 3.597796474850102\n gistMC.pressureScenario: scenario  128  of  500 : Max P: 11.145239669028037\n gistMC.pressureScenario: scenario  129  of  500 : Max P: 3.2960845319715215\n gistMC.pressureScenario: scenario  130  of  500 : Max P: 21.909522087634247\n gistMC.pressureScenario: scenario  131  of  500 : Max P: 9.925820084250393\n gistMC.pressureScenario: scenario  132  of  500 : Max P: 6.649745835527673\n gistMC.pressureScenario: scenario  133  of  500 : Max P: 5.731400194265764\n gistMC.pressureScenario: scenario  134  of  500 : Max P: 6.6438767548454285\n gistMC.pressureScenario: scenario  135  of  500 : Max P: 20.071446217263194\n gistMC.pressureScenario: scenario  136  of  500 : Max P: 32.3089056273371\n gistMC.pressureScenario: scenario  137  of  500 : Max P: 10.969624595759777\n gistMC.pressureScenario: scenario  138  of  500 : Max P: 4.127405296944682\n gistMC.pressureScenario: scenario  139  of  500 : Max P: 44.37728408538094\n gistMC.pressureScenario: scenario  140  of  500 : Max P: 11.842784800738348\n gistMC.pressureScenario: scenario  141  of  500 : Max P: 25.359402772072077\n gistMC.pressureScenario: scenario  142  of  500 : Max P: 4.447466457671603\n gistMC.pressureScenario: scenario  143  of  500 : Max P: 9.759398873294343\n gistMC.pressureScenario: scenario  144  of  500 : Max P: 4.856290789555151\n gistMC.pressureScenario: scenario  145  of  500 : Max P: 4.852941974184065\n gistMC.pressureScenario: scenario  146  of  500 : Max P: 4.976617686185782\n gistMC.pressureScenario: scenario  147  of  500 : Max P: 11.973692127767526\n gistMC.pressureScenario: scenario  148  of  500 : Max P: 4.483619678529674\n gistMC.pressureScenario: scenario  149  of  500 : Max P: 15.219446601484986\n gistMC.pressureScenario: scenario  150  of  500 : Max P: 5.156799913993861\n gistMC.pressureScenario: scenario  151  of  500 : Max P: 2.1559464367497765\n gistMC.pressureScenario: scenario  152  of  500 : Max P: 27.481880160073484\n gistMC.pressureScenario: scenario  153  of  500 : Max P: 12.96844168056614\n gistMC.pressureScenario: scenario  154  of  500 : Max P: 40.464720959429215\n gistMC.pressureScenario: scenario  155  of  500 : Max P: 4.047707203026257\n gistMC.pressureScenario: scenario  156  of  500 : Max P: 3.893403615548874\n gistMC.pressureScenario: scenario  157  of  500 : Max P: 5.713610325110939\n gistMC.pressureScenario: scenario  158  of  500 : Max P: 8.855398631976126\n gistMC.pressureScenario: scenario  159  of  500 : Max P: 5.486001446062093\n gistMC.pressureScenario: scenario  160  of  500 : Max P: 4.041551621321749\n gistMC.pressureScenario: scenario  161  of  500 : Max P: 7.095738434177584\n gistMC.pressureScenario: scenario  162  of  500 : Max P: 18.011234662307302\n gistMC.pressureScenario: scenario  163  of  500 : Max P: 4.9564148232824765\n gistMC.pressureScenario: scenario  164  of  500 : Max P: 5.332631795254944\n gistMC.pressureScenario: scenario  165  of  500 : Max P: 17.938815510254397\n gistMC.pressureScenario: scenario  166  of  500 : Max P: 11.116167759910132\n gistMC.pressureScenario: scenario  167  of  500 : Max P: 4.278713045769632\n gistMC.pressureScenario: scenario  168  of  500 : Max P: 7.7739046633920825\n gistMC.pressureScenario: scenario  169  of  500 : Max P: 9.26809559235286\n gistMC.pressureScenario: scenario  170  of  500 : Max P: 0.370547031445243\n gistMC.pressureScenario: scenario  171  of  500 : Max P: 4.574498000841788\n gistMC.pressureScenario: scenario  172  of  500 : Max P: 4.9529131787961855\n gistMC.pressureScenario: scenario  173  of  500 : Max P: 5.927038940178864\n gistMC.pressureScenario: scenario  174  of  500 : Max P: 9.305083386568745\n gistMC.pressureScenario: scenario  175  of  500 : Max P: 5.327847498879347\n gistMC.pressureScenario: scenario  176  of  500 : Max P: 6.690950492958732\n gistMC.pressureScenario: scenario  177  of  500 : Max P: 5.380726778591517\n gistMC.pressureScenario: scenario  178  of  500 : Max P: 4.17622842651886\n gistMC.pressureScenario: scenario  179  of  500 : Max P: 11.737990215255788\n gistMC.pressureScenario: scenario  180  of  500 : Max P: 9.94189538018493\n gistMC.pressureScenario: scenario  181  of  500 : Max P: 4.899773220678123\n gistMC.pressureScenario: scenario  182  of  500 : Max P: 10.926503744385343\n gistMC.pressureScenario: scenario  183  of  500 : Max P: 6.029073771020761\n gistMC.pressureScenario: scenario  184  of  500 : Max P: 6.996559684777941\n gistMC.pressureScenario: scenario  185  of  500 : Max P: 3.8729160838269845\n gistMC.pressureScenario: scenario  186  of  500 : Max P: 4.324443400340001\n gistMC.pressureScenario: scenario  187  of  500 : Max P: 6.706659498068762\n gistMC.pressureScenario: scenario  188  of  500 : Max P: 9.090893324565515\n gistMC.pressureScenario: scenario  189  of  500 : Max P: 2.975420512798554\n gistMC.pressureScenario: scenario  190  of  500 : Max P: 10.98452301213564\n gistMC.pressureScenario: scenario  191  of  500 : Max P: 14.36171241692093\n gistMC.pressureScenario: scenario  192  of  500 : Max P: 4.30397850490098\n gistMC.pressureScenario: scenario  193  of  500 : Max P: 3.505596524695874\n gistMC.pressureScenario: scenario  194  of  500 : Max P: 15.735212572736877\n gistMC.pressureScenario: scenario  195  of  500 : Max P: 8.169737125842405\n gistMC.pressureScenario: scenario  196  of  500 : Max P: 24.879211074102745\n gistMC.pressureScenario: scenario  197  of  500 : Max P: 11.660779379935777\n gistMC.pressureScenario: scenario  198  of  500 : Max P: 33.28215613312377\n gistMC.pressureScenario: scenario  199  of  500 : Max P: 6.265475888919617\n gistMC.pressureScenario: scenario  200  of  500 : Max P: 8.246973834483946\n gistMC.pressureScenario: scenario  201  of  500 : Max P: 4.4345308274844575\n gistMC.pressureScenario: scenario  202  of  500 : Max P: 4.813569197243292\n gistMC.pressureScenario: scenario  203  of  500 : Max P: 13.17161940272933\n gistMC.pressureScenario: scenario  204  of  500 : Max P: 2.8120454168821163\n gistMC.pressureScenario: scenario  205  of  500 : Max P: 7.972755338210486\n gistMC.pressureScenario: scenario  206  of  500 : Max P: 0.42051247665998964\n gistMC.pressureScenario: scenario  207  of  500 : Max P: 5.728326912506443\n gistMC.pressureScenario: scenario  208  of  500 : Max P: 21.41909165042598\n gistMC.pressureScenario: scenario  209  of  500 : Max P: 8.120454665777117\n gistMC.pressureScenario: scenario  210  of  500 : Max P: 7.021529559293098\n gistMC.pressureScenario: scenario  211  of  500 : Max P: 5.998871098182834\n gistMC.pressureScenario: scenario  212  of  500 : Max P: 6.191487925152881\n gistMC.pressureScenario: scenario  213  of  500 : Max P: 10.455420842892265\n gistMC.pressureScenario: scenario  214  of  500 : Max P: 4.904484776594716\n gistMC.pressureScenario: scenario  215  of  500 : Max P: 31.56111639389862\n gistMC.pressureScenario: scenario  216  of  500 : Max P: 3.1805009227315906\n gistMC.pressureScenario: scenario  217  of  500 : Max P: 5.522251120314603\n gistMC.pressureScenario: scenario  218  of  500 : Max P: 22.554585683822424\n gistMC.pressureScenario: scenario  219  of  500 : Max P: 3.742928573692699\n gistMC.pressureScenario: scenario  220  of  500 : Max P: 3.4904916655064007\n gistMC.pressureScenario: scenario  221  of  500 : Max P: 8.973633279570475\n gistMC.pressureScenario: scenario  222  of  500 : Max P: 5.365405484237687\n gistMC.pressureScenario: scenario  223  of  500 : Max P: 29.355840210921425\n gistMC.pressureScenario: scenario  224  of  500 : Max P: 5.03701773036553\n gistMC.pressureScenario: scenario  225  of  500 : Max P: 19.562426533941863\n gistMC.pressureScenario: scenario  226  of  500 : Max P: 3.76591345184882\n gistMC.pressureScenario: scenario  227  of  500 : Max P: 9.219476554268534\n gistMC.pressureScenario: scenario  228  of  500 : Max P: 6.804070246424889\n gistMC.pressureScenario: scenario  229  of  500 : Max P: 7.4692180473656515\n gistMC.pressureScenario: scenario  230  of  500 : Max P: 14.327179678528177\n gistMC.pressureScenario: scenario  231  of  500 : Max P: 8.750282721902096\n gistMC.pressureScenario: scenario  232  of  500 : Max P: 5.482366279662245\n gistMC.pressureScenario: scenario  233  of  500 : Max P: 24.446094618181665\n gistMC.pressureScenario: scenario  234  of  500 : Max P: 13.638334245018202\n gistMC.pressureScenario: scenario  235  of  500 : Max P: 9.31935125596914\n gistMC.pressureScenario: scenario  236  of  500 : Max P: 11.042991392376086\n gistMC.pressureScenario: scenario  237  of  500 : Max P: 8.918094395520717\n gistMC.pressureScenario: scenario  238  of  500 : Max P: 6.597665271680625\n gistMC.pressureScenario: scenario  239  of  500 : Max P: 5.043981664151722\n gistMC.pressureScenario: scenario  240  of  500 : Max P: 15.054710540764669\n gistMC.pressureScenario: scenario  241  of  500 : Max P: 9.977347894787679\n gistMC.pressureScenario: scenario  242  of  500 : Max P: 13.260448770756968\n gistMC.pressureScenario: scenario  243  of  500 : Max P: 3.169069225950356\n gistMC.pressureScenario: scenario  244  of  500 : Max P: 5.435326589038552\n gistMC.pressureScenario: scenario  245  of  500 : Max P: 6.39775663370344\n gistMC.pressureScenario: scenario  246  of  500 : Max P: 5.515131474252763\n gistMC.pressureScenario: scenario  247  of  500 : Max P: 5.64073291805554\n gistMC.pressureScenario: scenario  248  of  500 : Max P: 16.153911722170918\n gistMC.pressureScenario: scenario  249  of  500 : Max P: 6.319996978957079\n gistMC.pressureScenario: scenario  250  of  500 : Max P: 7.563225486290286\n gistMC.pressureScenario: scenario  251  of  500 : Max P: 4.9596402232170025\n gistMC.pressureScenario: scenario  252  of  500 : Max P: 3.131038699744545\n gistMC.pressureScenario: scenario  253  of  500 : Max P: 17.064534674825584\n gistMC.pressureScenario: scenario  254  of  500 : Max P: 43.80251208956859\n gistMC.pressureScenario: scenario  255  of  500 : Max P: 8.864531246656512\n gistMC.pressureScenario: scenario  256  of  500 : Max P: 9.96852502026437\n gistMC.pressureScenario: scenario  257  of  500 : Max P: 5.328898243016903\n gistMC.pressureScenario: scenario  258  of  500 : Max P: 9.905992347605872\n gistMC.pressureScenario: scenario  259  of  500 : Max P: 6.113318126231112\n gistMC.pressureScenario: scenario  260  of  500 : Max P: 5.9109860798352125\n gistMC.pressureScenario: scenario  261  of  500 : Max P: 17.48293077064151\n gistMC.pressureScenario: scenario  262  of  500 : Max P: 21.050658757374237\n gistMC.pressureScenario: scenario  263  of  500 : Max P: 6.903068788553058\n gistMC.pressureScenario: scenario  264  of  500 : Max P: 9.689904978373754\n gistMC.pressureScenario: scenario  265  of  500 : Max P: 5.777981806014573\n gistMC.pressureScenario: scenario  266  of  500 : Max P: 5.075911439421524\n gistMC.pressureScenario: scenario  267  of  500 : Max P: 8.692675390411132\n gistMC.pressureScenario: scenario  268  of  500 : Max P: 4.973643787146551\n gistMC.pressureScenario: scenario  269  of  500 : Max P: 6.966968005145053\n gistMC.pressureScenario: scenario  270  of  500 : Max P: 5.794445547980815\n gistMC.pressureScenario: scenario  271  of  500 : Max P: 15.076724397902273\n gistMC.pressureScenario: scenario  272  of  500 : Max P: 4.511017610161856\n gistMC.pressureScenario: scenario  273  of  500 : Max P: 12.626972262467646\n gistMC.pressureScenario: scenario  274  of  500 : Max P: 15.440470395806841\n gistMC.pressureScenario: scenario  275  of  500 : Max P: 3.903335870381816\n gistMC.pressureScenario: scenario  276  of  500 : Max P: 23.81716122089603\n gistMC.pressureScenario: scenario  277  of  500 : Max P: 5.799948737488867\n gistMC.pressureScenario: scenario  278  of  500 : Max P: 8.376161062138573\n gistMC.pressureScenario: scenario  279  of  500 : Max P: 9.77482608082684\n gistMC.pressureScenario: scenario  280  of  500 : Max P: 11.160008216885302\n gistMC.pressureScenario: scenario  281  of  500 : Max P: 6.27949738131982\n gistMC.pressureScenario: scenario  282  of  500 : Max P: 9.588524524799691\n gistMC.pressureScenario: scenario  283  of  500 : Max P: 7.819325731679243\n gistMC.pressureScenario: scenario  284  of  500 : Max P: 8.246904909443133\n gistMC.pressureScenario: scenario  285  of  500 : Max P: 13.066959943705799\n gistMC.pressureScenario: scenario  286  of  500 : Max P: 14.259653965456673\n gistMC.pressureScenario: scenario  287  of  500 : Max P: 21.238038878624117\n gistMC.pressureScenario: scenario  288  of  500 : Max P: 4.58059151286746\n gistMC.pressureScenario: scenario  289  of  500 : Max P: 6.610605901270989\n gistMC.pressureScenario: scenario  290  of  500 : Max P: 5.526838802745791\n gistMC.pressureScenario: scenario  291  of  500 : Max P: 14.055821390663908\n gistMC.pressureScenario: scenario  292  of  500 : Max P: 9.358243482749918\n gistMC.pressureScenario: scenario  293  of  500 : Max P: 8.905877020431511\n gistMC.pressureScenario: scenario  294  of  500 : Max P: 14.489073502714504\n gistMC.pressureScenario: scenario  295  of  500 : Max P: 5.071002089171413\n gistMC.pressureScenario: scenario  296  of  500 : Max P: 4.819724695391383\n gistMC.pressureScenario: scenario  297  of  500 : Max P: 10.733447244142782\n gistMC.pressureScenario: scenario  298  of  500 : Max P: 8.228388035588772\n gistMC.pressureScenario: scenario  299  of  500 : Max P: 7.5481696991733225\n gistMC.pressureScenario: scenario  300  of  500 : Max P: 6.2918061371322915\n gistMC.pressureScenario: scenario  301  of  500 : Max P: 8.47423925117825\n gistMC.pressureScenario: scenario  302  of  500 : Max P: 5.551277621155875\n gistMC.pressureScenario: scenario  303  of  500 : Max P: 26.96764757544368\n gistMC.pressureScenario: scenario  304  of  500 : Max P: 23.955006286024894\n gistMC.pressureScenario: scenario  305  of  500 : Max P: 8.105641079063691\n gistMC.pressureScenario: scenario  306  of  500 : Max P: 3.6124115120410747\n gistMC.pressureScenario: scenario  307  of  500 : Max P: 42.30182336316284\n gistMC.pressureScenario: scenario  308  of  500 : Max P: 21.696078898234756\n gistMC.pressureScenario: scenario  309  of  500 : Max P: 7.804729994272072\n gistMC.pressureScenario: scenario  310  of  500 : Max P: 8.365493568153278\n gistMC.pressureScenario: scenario  311  of  500 : Max P: 4.430245666670491\n gistMC.pressureScenario: scenario  312  of  500 : Max P: 8.56408647352427\n gistMC.pressureScenario: scenario  313  of  500 : Max P: 11.828675912089764\n gistMC.pressureScenario: scenario  314  of  500 : Max P: 13.336210147822873\n gistMC.pressureScenario: scenario  315  of  500 : Max P: 34.88772707479326\n gistMC.pressureScenario: scenario  316  of  500 : Max P: 11.3827310670045\n gistMC.pressureScenario: scenario  317  of  500 : Max P: 7.442899221971755\n gistMC.pressureScenario: scenario  318  of  500 : Max P: 4.4864326975048865\n gistMC.pressureScenario: scenario  319  of  500 : Max P: 5.566217930985768\n gistMC.pressureScenario: scenario  320  of  500 : Max P: 3.9937393465979674\n gistMC.pressureScenario: scenario  321  of  500 : Max P: 4.17334197430082\n gistMC.pressureScenario: scenario  322  of  500 : Max P: 4.5036072687166575\n gistMC.pressureScenario: scenario  323  of  500 : Max P: 4.905401669940116\n gistMC.pressureScenario: scenario  324  of  500 : Max P: 5.489260010223852\n gistMC.pressureScenario: scenario  325  of  500 : Max P: 9.406502243252735\n gistMC.pressureScenario: scenario  326  of  500 : Max P: 3.1468217923517674\n gistMC.pressureScenario: scenario  327  of  500 : Max P: 9.708006570398512\n gistMC.pressureScenario: scenario  328  of  500 : Max P: 27.70954394526228\n gistMC.pressureScenario: scenario  329  of  500 : Max P: 6.130194143785022\n gistMC.pressureScenario: scenario  330  of  500 : Max P: 4.4688987990462286\n gistMC.pressureScenario: scenario  331  of  500 : Max P: 6.314460823821961\n gistMC.pressureScenario: scenario  332  of  500 : Max P: 10.554432229388464\n gistMC.pressureScenario: scenario  333  of  500 : Max P: 16.718247243271858\n gistMC.pressureScenario: scenario  334  of  500 : Max P: 10.3892223211709\n gistMC.pressureScenario: scenario  335  of  500 : Max P: 9.773883877274894\n gistMC.pressureScenario: scenario  336  of  500 : Max P: 6.122931854431584\n gistMC.pressureScenario: scenario  337  of  500 : Max P: 19.041597190665758\n gistMC.pressureScenario: scenario  338  of  500 : Max P: 3.875270526444183\n gistMC.pressureScenario: scenario  339  of  500 : Max P: 3.5082070410944977\n gistMC.pressureScenario: scenario  340  of  500 : Max P: 7.774677842780977\n gistMC.pressureScenario: scenario  341  of  500 : Max P: 3.616024680368262\n gistMC.pressureScenario: scenario  342  of  500 : Max P: 8.173540848393387\n gistMC.pressureScenario: scenario  343  of  500 : Max P: 12.57481917846341\n gistMC.pressureScenario: scenario  344  of  500 : Max P: 6.583567623077287\n gistMC.pressureScenario: scenario  345  of  500 : Max P: 3.731217055553021\n gistMC.pressureScenario: scenario  346  of  500 : Max P: 23.284716767915846\n gistMC.pressureScenario: scenario  347  of  500 : Max P: 23.527977232838893\n gistMC.pressureScenario: scenario  348  of  500 : Max P: 13.946524664999979\n gistMC.pressureScenario: scenario  349  of  500 : Max P: 9.26867830594371\n gistMC.pressureScenario: scenario  350  of  500 : Max P: 9.521687999169048\n gistMC.pressureScenario: scenario  351  of  500 : Max P: 27.294605376259298\n gistMC.pressureScenario: scenario  352  of  500 : Max P: 6.323028510160869\n gistMC.pressureScenario: scenario  353  of  500 : Max P: 12.431737737734297\n gistMC.pressureScenario: scenario  354  of  500 : Max P: 19.993390399149874\n gistMC.pressureScenario: scenario  355  of  500 : Max P: 3.566600805392718\n gistMC.pressureScenario: scenario  356  of  500 : Max P: 0.7937437447669108\n gistMC.pressureScenario: scenario  357  of  500 : Max P: 22.938762530950445\n gistMC.pressureScenario: scenario  358  of  500 : Max P: 37.08139772583298\n gistMC.pressureScenario: scenario  359  of  500 : Max P: 4.714853627607367\n gistMC.pressureScenario: scenario  360  of  500 : Max P: 3.708561716020701\n gistMC.pressureScenario: scenario  361  of  500 : Max P: 12.57775516349434\n gistMC.pressureScenario: scenario  362  of  500 : Max P: 12.813329413701755\n gistMC.pressureScenario: scenario  363  of  500 : Max P: 23.768603963010293\n gistMC.pressureScenario: scenario  364  of  500 : Max P: 9.40317452451934\n gistMC.pressureScenario: scenario  365  of  500 : Max P: 15.543175988153017\n gistMC.pressureScenario: scenario  366  of  500 : Max P: 25.34151166946876\n gistMC.pressureScenario: scenario  367  of  500 : Max P: 20.11239220885462\n gistMC.pressureScenario: scenario  368  of  500 : Max P: 38.93487675859707\n gistMC.pressureScenario: scenario  369  of  500 : Max P: 13.491111951851723\n gistMC.pressureScenario: scenario  370  of  500 : Max P: 15.679930862101273\n gistMC.pressureScenario: scenario  371  of  500 : Max P: 3.3220755162421214\n gistMC.pressureScenario: scenario  372  of  500 : Max P: 22.50979256926739\n gistMC.pressureScenario: scenario  373  of  500 : Max P: 6.624599048631841\n gistMC.pressureScenario: scenario  374  of  500 : Max P: 9.76893710428\n gistMC.pressureScenario: scenario  375  of  500 : Max P: 4.471939199498115\n gistMC.pressureScenario: scenario  376  of  500 : Max P: 8.082836405427676\n gistMC.pressureScenario: scenario  377  of  500 : Max P: 4.6825997908609045\n gistMC.pressureScenario: scenario  378  of  500 : Max P: 10.95205440195173\n gistMC.pressureScenario: scenario  379  of  500 : Max P: 24.373947942763845\n gistMC.pressureScenario: scenario  380  of  500 : Max P: 4.406521059924046\n gistMC.pressureScenario: scenario  381  of  500 : Max P: 15.174154971134662\n gistMC.pressureScenario: scenario  382  of  500 : Max P: 4.141036429524138\n gistMC.pressureScenario: scenario  383  of  500 : Max P: 5.260202983856342\n gistMC.pressureScenario: scenario  384  of  500 : Max P: 14.511435085183454\n gistMC.pressureScenario: scenario  385  of  500 : Max P: 4.09360310284291\n gistMC.pressureScenario: scenario  386  of  500 : Max P: 6.750822884143228\n gistMC.pressureScenario: scenario  387  of  500 : Max P: 5.2663588624521935\n gistMC.pressureScenario: scenario  388  of  500 : Max P: 6.696200676391611\n gistMC.pressureScenario: scenario  389  of  500 : Max P: 11.087555558025002\n gistMC.pressureScenario: scenario  390  of  500 : Max P: 11.055933800734568\n gistMC.pressureScenario: scenario  391  of  500 : Max P: 8.677467930423251\n gistMC.pressureScenario: scenario  392  of  500 : Max P: 5.8659639136386375\n gistMC.pressureScenario: scenario  393  of  500 : Max P: 8.711871761441333\n gistMC.pressureScenario: scenario  394  of  500 : Max P: 10.021231633833574\n gistMC.pressureScenario: scenario  395  of  500 : Max P: 6.355285362911879\n gistMC.pressureScenario: scenario  396  of  500 : Max P: 6.868422800931964\n gistMC.pressureScenario: scenario  397  of  500 : Max P: 3.3976256789176102\n gistMC.pressureScenario: scenario  398  of  500 : Max P: 6.5070742370297765\n gistMC.pressureScenario: scenario  399  of  500 : Max P: 9.098714643689984\n gistMC.pressureScenario: scenario  400  of  500 : Max P: 6.144785096759468\n gistMC.pressureScenario: scenario  401  of  500 : Max P: 8.993232658035046\n gistMC.pressureScenario: scenario  402  of  500 : Max P: 4.225388493696486\n gistMC.pressureScenario: scenario  403  of  500 : Max P: 4.890529409174751\n gistMC.pressureScenario: scenario  404  of  500 : Max P: 21.4171795404526\n gistMC.pressureScenario: scenario  405  of  500 : Max P: 8.583265553056307\n gistMC.pressureScenario: scenario  406  of  500 : Max P: 7.3654502820232945\n gistMC.pressureScenario: scenario  407  of  500 : Max P: 3.2740303449841366\n gistMC.pressureScenario: scenario  408  of  500 : Max P: 11.375132601177596\n gistMC.pressureScenario: scenario  409  of  500 : Max P: 11.350028796640398\n gistMC.pressureScenario: scenario  410  of  500 : Max P: 8.40384006010124\n gistMC.pressureScenario: scenario  411  of  500 : Max P: 3.227613589533962\n gistMC.pressureScenario: scenario  412  of  500 : Max P: 17.67316656704371\n gistMC.pressureScenario: scenario  413  of  500 : Max P: 32.521879862118695\n gistMC.pressureScenario: scenario  414  of  500 : Max P: 26.707858889840857\n gistMC.pressureScenario: scenario  415  of  500 : Max P: 10.778080967097772\n gistMC.pressureScenario: scenario  416  of  500 : Max P: 1.0921528883903342\n gistMC.pressureScenario: scenario  417  of  500 : Max P: 10.457103128364444\n gistMC.pressureScenario: scenario  418  of  500 : Max P: 5.897643625985104\n gistMC.pressureScenario: scenario  419  of  500 : Max P: 14.986607445705431\n gistMC.pressureScenario: scenario  420  of  500 : Max P: 12.277797360332476\n gistMC.pressureScenario: scenario  421  of  500 : Max P: 25.386431886415235\n gistMC.pressureScenario: scenario  422  of  500 : Max P: 4.9050126505986595\n gistMC.pressureScenario: scenario  423  of  500 : Max P: 5.088840540813697\n gistMC.pressureScenario: scenario  424  of  500 : Max P: 3.6790782943155853\n gistMC.pressureScenario: scenario  425  of  500 : Max P: 3.928614656807426\n gistMC.pressureScenario: scenario  426  of  500 : Max P: 18.871968501084496\n gistMC.pressureScenario: scenario  427  of  500 : Max P: 3.342808139350728\n gistMC.pressureScenario: scenario  428  of  500 : Max P: 6.57148306850533\n gistMC.pressureScenario: scenario  429  of  500 : Max P: 7.135799343277411\n gistMC.pressureScenario: scenario  430  of  500 : Max P: 5.0060697363938775\n gistMC.pressureScenario: scenario  431  of  500 : Max P: 4.499201538032962\n gistMC.pressureScenario: scenario  432  of  500 : Max P: 11.815600405731729\n gistMC.pressureScenario: scenario  433  of  500 : Max P: 5.91652713683811\n gistMC.pressureScenario: scenario  434  of  500 : Max P: 12.559495918506048\n gistMC.pressureScenario: scenario  435  of  500 : Max P: 12.380059695570065\n gistMC.pressureScenario: scenario  436  of  500 : Max P: 5.088679729459996\n gistMC.pressureScenario: scenario  437  of  500 : Max P: 4.923312453751007\n gistMC.pressureScenario: scenario  438  of  500 : Max P: 5.8990311920168095\n gistMC.pressureScenario: scenario  439  of  500 : Max P: 7.964476936981312\n gistMC.pressureScenario: scenario  440  of  500 : Max P: 13.39805647174245\n gistMC.pressureScenario: scenario  441  of  500 : Max P: 6.534413920406794\n gistMC.pressureScenario: scenario  442  of  500 : Max P: 7.844834805771043\n gistMC.pressureScenario: scenario  443  of  500 : Max P: 6.03721663423038\n gistMC.pressureScenario: scenario  444  of  500 : Max P: 7.728576864273762\n gistMC.pressureScenario: scenario  445  of  500 : Max P: 4.612861808921977\n gistMC.pressureScenario: scenario  446  of  500 : Max P: 2.935811034417249\n gistMC.pressureScenario: scenario  447  of  500 : Max P: 8.52361829929606\n gistMC.pressureScenario: scenario  448  of  500 : Max P: 5.250528955287834\n gistMC.pressureScenario: scenario  449  of  500 : Max P: 6.158138817829429\n gistMC.pressureScenario: scenario  450  of  500 : Max P: 8.08232919541466\n gistMC.pressureScenario: scenario  451  of  500 : Max P: 22.61242733351567\n gistMC.pressureScenario: scenario  452  of  500 : Max P: 4.500265166838529\n gistMC.pressureScenario: scenario  453  of  500 : Max P: 3.486242042293976\n gistMC.pressureScenario: scenario  454  of  500 : Max P: 8.588292547869354\n gistMC.pressureScenario: scenario  455  of  500 : Max P: 3.4794927088407133\n gistMC.pressureScenario: scenario  456  of  500 : Max P: 23.371713121111625\n gistMC.pressureScenario: scenario  457  of  500 : Max P: 5.219003643671823\n gistMC.pressureScenario: scenario  458  of  500 : Max P: 23.11277985017684\n gistMC.pressureScenario: scenario  459  of  500 : Max P: 17.329755459354537\n gistMC.pressureScenario: scenario  460  of  500 : Max P: 3.4309458081072153\n gistMC.pressureScenario: scenario  461  of  500 : Max P: 9.817005983926245\n gistMC.pressureScenario: scenario  462  of  500 : Max P: 4.2735533339281115\n gistMC.pressureScenario: scenario  463  of  500 : Max P: 11.842088725186676\n gistMC.pressureScenario: scenario  464  of  500 : Max P: 5.384191514097467\n gistMC.pressureScenario: scenario  465  of  500 : Max P: 4.95492731668876\n gistMC.pressureScenario: scenario  466  of  500 : Max P: 9.766063174423499\n gistMC.pressureScenario: scenario  467  of  500 : Max P: 0.8254407148206047\n gistMC.pressureScenario: scenario  468  of  500 : Max P: 7.028268355511936\n gistMC.pressureScenario: scenario  469  of  500 : Max P: 3.563707529861664\n gistMC.pressureScenario: scenario  470  of  500 : Max P: 4.993602045610785\n gistMC.pressureScenario: scenario  471  of  500 : Max P: 6.404970384666203\n gistMC.pressureScenario: scenario  472  of  500 : Max P: 4.822338145143122\n gistMC.pressureScenario: scenario  473  of  500 : Max P: 4.895390526893008\n gistMC.pressureScenario: scenario  474  of  500 : Max P: 3.1363161012267344\n gistMC.pressureScenario: scenario  475  of  500 : Max P: 9.717845393949919\n gistMC.pressureScenario: scenario  476  of  500 : Max P: 3.5231935405954844\n gistMC.pressureScenario: scenario  477  of  500 : Max P: 5.078377083320912\n gistMC.pressureScenario: scenario  478  of  500 : Max P: 2.9674920504339584\n gistMC.pressureScenario: scenario  479  of  500 : Max P: 6.510481792034792\n gistMC.pressureScenario: scenario  480  of  500 : Max P: 15.739131211764608\n gistMC.pressureScenario: scenario  481  of  500 : Max P: 11.596283353736052\n gistMC.pressureScenario: scenario  482  of  500 : Max P: 8.593012297818445\n gistMC.pressureScenario: scenario  483  of  500 : Max P: 5.945851989852806\n gistMC.pressureScenario: scenario  484  of  500 : Max P: 12.245105319011934\n gistMC.pressureScenario: scenario  485  of  500 : Max P: 10.532604768894123\n gistMC.pressureScenario: scenario  486  of  500 : Max P: 12.48917801045219\n gistMC.pressureScenario: scenario  487  of  500 : Max P: 3.5760545644907213\n gistMC.pressureScenario: scenario  488  of  500 : Max P: 12.02878690314485\n gistMC.pressureScenario: scenario  489  of  500 : Max P: 12.921389866941478\n gistMC.pressureScenario: scenario  490  of  500 : Max P: 4.492059452529374\n gistMC.pressureScenario: scenario  491  of  500 : Max P: 5.091711967397775\n gistMC.pressureScenario: scenario  492  of  500 : Max P: 5.820661611196345\n gistMC.pressureScenario: scenario  493  of  500 : Max P: 5.802141348393515\n gistMC.pressureScenario: scenario  494  of  500 : Max P: 14.1637968891377\n gistMC.pressureScenario: scenario  495  of  500 : Max P: 11.881847058711974\n gistMC.pressureScenario: scenario  496  of  500 : Max P: 8.04265237209449\n gistMC.pressureScenario: scenario  497  of  500 : Max P: 3.6389590578435733\n gistMC.pressureScenario: scenario  498  of  500 : Max P: 20.325571363585823\n gistMC.pressureScenario: scenario  499  of  500 : Max P: 10.228950265971887\n gistMC.pressureScenario: scenario  500  of  500 : Max P: 3.667471768786307\n"
     ]
    }
   ],
   "source": [
    "# Run deep scenarios\n",
    "dWellPPScenarios=deepM.runPressureScenarios(eq,deepPPSelectedWells,deepPPInj,verbose=1)\n",
    "dWellPPScenarios.to_csv(runPath+'deepPP.csv')\n",
    "smallDPPDF,smallDWellList=gi.summarizePPResults(dWellPPScenarios,deepPPSelectedWells,threshold=0.5,nOrder=20,verbose=0)\n",
    "smallDPPDF.to_csv(runPath+'/NorthTarzan_09-24_deepPPSubset.csv')"
   ]
  },
  {
   "cell_type": "code",
   "execution_count": 0,
   "metadata": {
    "application/vnd.databricks.v1+cell": {
     "cellMetadata": {
      "byteLimit": 2048000,
      "rowLimit": 10000
     },
     "inputWidgets": {},
     "nuid": "14bcad9b-9fa5-4ca3-b3b2-8ada940b7f50",
     "showTitle": false,
     "tableResultSettingsMap": {},
     "title": ""
    }
   },
   "outputs": [],
   "source": [
    "\n",
    "pd.Series(data=smallDWellList).to_csv(runPath+'/NorthTarzan_09-24_deepWellOrder.csv')"
   ]
  },
  {
   "cell_type": "code",
   "execution_count": 0,
   "metadata": {
    "application/vnd.databricks.v1+cell": {
     "cellMetadata": {
      "byteLimit": 2048000,
      "rowLimit": 10000
     },
     "inputWidgets": {},
     "nuid": "599838e5-5fc7-4734-b8dc-78e887a69604",
     "showTitle": false,
     "tableResultSettingsMap": {},
     "title": ""
    }
   },
   "outputs": [
    {
     "output_type": "stream",
     "name": "stdout",
     "output_type": "stream",
     "text": [
      " gistMC.runPressureScenarios: Number of wells considered:  210\n gistMC.pressureScenario: well  0  of  210 :  2009719\n gistMC.pressureScenario: well  10  of  210 :  2041096\n gistMC.pressureScenario: well  20  of  210 :  2050698\n gistMC.pressureScenario: well  30  of  210 :  2058375\n gistMC.pressureScenario: well  40  of  210 :  2072223\n gistMC.pressureScenario: well  50  of  210 :  2091943\n gistMC.pressureScenario: well  60  of  210 :  2100833\n gistMC.pressureScenario: well  70  of  210 :  2108473\n gistMC.pressureScenario: well  80  of  210 :  2120269\n gistMC.pressureScenario: well  90  of  210 :  2079697\n gistMC.pressureScenario: well  100  of  210 :  2119515\n gistMC.pressureScenario: well  110  of  210 :  2108813\n gistMC.pressureScenario: well  120  of  210 :  2043375\n gistMC.pressureScenario: well  130  of  210 :  2104090\n gistMC.pressureScenario: well  140  of  210 :  2120986\n gistMC.pressureScenario: well  150  of  210 :  2103893\n gistMC.pressureScenario: well  160  of  210 :  2126656\n gistMC.pressureScenario: well  170  of  210 :  2081289\n gistMC.pressureScenario: well  180  of  210 :  2120060\n gistMC.pressureScenario: well  190  of  210 :  2098773\n gistMC.pressureScenario: well  200  of  210 :  2076959\n gistMC.pressureScenario: scenario  1  of  500 : Max P: 1.8200131846744858\n gistMC.pressureScenario: scenario  2  of  500 : Max P: 1.6323167639023188\n gistMC.pressureScenario: scenario  3  of  500 : Max P: 3.237360673985055\n gistMC.pressureScenario: scenario  4  of  500 : Max P: 2.140471935814338\n gistMC.pressureScenario: scenario  5  of  500 : Max P: 14.88891553538508\n gistMC.pressureScenario: scenario  6  of  500 : Max P: 5.852562555991317\n gistMC.pressureScenario: scenario  7  of  500 : Max P: 7.195911278957272\n gistMC.pressureScenario: scenario  8  of  500 : Max P: 9.378057293337926\n gistMC.pressureScenario: scenario  9  of  500 : Max P: 6.855539542841889\n gistMC.pressureScenario: scenario  10  of  500 : Max P: 3.6037785197941608\n gistMC.pressureScenario: scenario  11  of  500 : Max P: 1.8671944038511712\n gistMC.pressureScenario: scenario  12  of  500 : Max P: 1.4096041468513691\n gistMC.pressureScenario: scenario  13  of  500 : Max P: 1.951379142136729\n gistMC.pressureScenario: scenario  14  of  500 : Max P: 4.347889602309348\n gistMC.pressureScenario: scenario  15  of  500 : Max P: 1.7478727629167379\n gistMC.pressureScenario: scenario  16  of  500 : Max P: 8.417218442520888\n gistMC.pressureScenario: scenario  17  of  500 : Max P: 2.7709453874202987\n gistMC.pressureScenario: scenario  18  of  500 : Max P: 1.3897915764000732\n gistMC.pressureScenario: scenario  19  of  500 : Max P: 10.7775128906513\n gistMC.pressureScenario: scenario  20  of  500 : Max P: 2.5341217006367476\n gistMC.pressureScenario: scenario  21  of  500 : Max P: 1.9634347764134825\n gistMC.pressureScenario: scenario  22  of  500 : Max P: 5.6243880471414585\n gistMC.pressureScenario: scenario  23  of  500 : Max P: 3.015942828269079\n gistMC.pressureScenario: scenario  24  of  500 : Max P: 18.07423722245199\n gistMC.pressureScenario: scenario  25  of  500 : Max P: 16.785990476890852\n gistMC.pressureScenario: scenario  26  of  500 : Max P: 8.447616255240005\n gistMC.pressureScenario: scenario  27  of  500 : Max P: 9.382743534009668\n gistMC.pressureScenario: scenario  28  of  500 : Max P: 1.499772305370365\n gistMC.pressureScenario: scenario  29  of  500 : Max P: 3.251524427023419\n gistMC.pressureScenario: scenario  30  of  500 : Max P: 3.3904189889810086\n gistMC.pressureScenario: scenario  31  of  500 : Max P: 5.832702165319336\n gistMC.pressureScenario: scenario  32  of  500 : Max P: 2.0918013795658976\n gistMC.pressureScenario: scenario  33  of  500 : Max P: 9.739153344871367\n gistMC.pressureScenario: scenario  34  of  500 : Max P: 10.982462675526913\n gistMC.pressureScenario: scenario  35  of  500 : Max P: 2.0835702902507687\n gistMC.pressureScenario: scenario  36  of  500 : Max P: 1.385277792730936\n gistMC.pressureScenario: scenario  37  of  500 : Max P: 5.816502790144576\n gistMC.pressureScenario: scenario  38  of  500 : Max P: 36.23509399612011\n gistMC.pressureScenario: scenario  39  of  500 : Max P: 11.231001277382314\n gistMC.pressureScenario: scenario  40  of  500 : Max P: 2.1014152681377944\n gistMC.pressureScenario: scenario  41  of  500 : Max P: 3.4266024651755544\n gistMC.pressureScenario: scenario  42  of  500 : Max P: 4.039647202564633\n gistMC.pressureScenario: scenario  43  of  500 : Max P: 8.153740132478799\n gistMC.pressureScenario: scenario  44  of  500 : Max P: 12.553504708145427\n gistMC.pressureScenario: scenario  45  of  500 : Max P: 3.7841966002038108\n gistMC.pressureScenario: scenario  46  of  500 : Max P: 7.594918286515847\n gistMC.pressureScenario: scenario  47  of  500 : Max P: 3.0603561601685847\n gistMC.pressureScenario: scenario  48  of  500 : Max P: 4.158748093130166\n gistMC.pressureScenario: scenario  49  of  500 : Max P: 5.829560747851684\n gistMC.pressureScenario: scenario  50  of  500 : Max P: 2.092284046963905\n gistMC.pressureScenario: scenario  51  of  500 : Max P: 1.4258382031373762\n gistMC.pressureScenario: scenario  52  of  500 : Max P: 2.3442384801361404\n gistMC.pressureScenario: scenario  53  of  500 : Max P: 8.762784336615276\n gistMC.pressureScenario: scenario  54  of  500 : Max P: 4.182537355735786\n gistMC.pressureScenario: scenario  55  of  500 : Max P: 3.736962350804648\n gistMC.pressureScenario: scenario  56  of  500 : Max P: 1.4889796178033219\n gistMC.pressureScenario: scenario  57  of  500 : Max P: 1.7459369960175881\n gistMC.pressureScenario: scenario  58  of  500 : Max P: 7.123160136633849\n gistMC.pressureScenario: scenario  59  of  500 : Max P: 1.5413855862589922\n gistMC.pressureScenario: scenario  60  of  500 : Max P: 1.8543429264662612\n gistMC.pressureScenario: scenario  61  of  500 : Max P: 2.099353506337664\n gistMC.pressureScenario: scenario  62  of  500 : Max P: 7.896730371836753\n gistMC.pressureScenario: scenario  63  of  500 : Max P: 4.269834828549869\n gistMC.pressureScenario: scenario  64  of  500 : Max P: 1.8670278490521761\n gistMC.pressureScenario: scenario  65  of  500 : Max P: 2.250456880694952\n gistMC.pressureScenario: scenario  66  of  500 : Max P: 1.7097163856413242\n gistMC.pressureScenario: scenario  67  of  500 : Max P: 2.3487395198721193\n gistMC.pressureScenario: scenario  68  of  500 : Max P: 2.2414299342197928\n gistMC.pressureScenario: scenario  69  of  500 : Max P: 1.5413733248197234\n gistMC.pressureScenario: scenario  70  of  500 : Max P: 5.036248729214021\n gistMC.pressureScenario: scenario  71  of  500 : Max P: 2.4801562928487253\n gistMC.pressureScenario: scenario  72  of  500 : Max P: 2.283575868255164\n gistMC.pressureScenario: scenario  73  of  500 : Max P: 5.165520797733977\n gistMC.pressureScenario: scenario  74  of  500 : Max P: 6.096727562171285\n gistMC.pressureScenario: scenario  75  of  500 : Max P: 3.5366752115029643\n gistMC.pressureScenario: scenario  76  of  500 : Max P: 1.9961770135356165\n gistMC.pressureScenario: scenario  77  of  500 : Max P: 3.0912850499012854\n gistMC.pressureScenario: scenario  78  of  500 : Max P: 2.239369591909504\n gistMC.pressureScenario: scenario  79  of  500 : Max P: 6.553003030498484\n gistMC.pressureScenario: scenario  80  of  500 : Max P: 9.495978553038427\n gistMC.pressureScenario: scenario  81  of  500 : Max P: 18.24460962721066\n gistMC.pressureScenario: scenario  82  of  500 : Max P: 2.450765752764285\n gistMC.pressureScenario: scenario  83  of  500 : Max P: 1.7990848728798496\n gistMC.pressureScenario: scenario  84  of  500 : Max P: 7.459354906805852\n gistMC.pressureScenario: scenario  85  of  500 : Max P: 4.005939062422508\n gistMC.pressureScenario: scenario  86  of  500 : Max P: 2.329791244890396\n gistMC.pressureScenario: scenario  87  of  500 : Max P: 1.909073328258324\n gistMC.pressureScenario: scenario  88  of  500 : Max P: 11.983813553751245\n gistMC.pressureScenario: scenario  89  of  500 : Max P: 2.698204008819594\n gistMC.pressureScenario: scenario  90  of  500 : Max P: 14.73912108077083\n gistMC.pressureScenario: scenario  91  of  500 : Max P: 1.735803819192581\n gistMC.pressureScenario: scenario  92  of  500 : Max P: 8.458577759468046\n gistMC.pressureScenario: scenario  93  of  500 : Max P: 15.804535110374946\n gistMC.pressureScenario: scenario  94  of  500 : Max P: 2.398048956363726\n gistMC.pressureScenario: scenario  95  of  500 : Max P: 9.884081305496428\n gistMC.pressureScenario: scenario  96  of  500 : Max P: 1.5420256674130024\n gistMC.pressureScenario: scenario  97  of  500 : Max P: 4.965451474398243\n gistMC.pressureScenario: scenario  98  of  500 : Max P: 5.398588525976778\n gistMC.pressureScenario: scenario  99  of  500 : Max P: 1.5046648836927528\n gistMC.pressureScenario: scenario  100  of  500 : Max P: 3.1871448389955344\n gistMC.pressureScenario: scenario  101  of  500 : Max P: 8.146003643043901\n gistMC.pressureScenario: scenario  102  of  500 : Max P: 12.791854330614703\n gistMC.pressureScenario: scenario  103  of  500 : Max P: 8.02946757058988\n gistMC.pressureScenario: scenario  104  of  500 : Max P: 2.9464047186671847\n gistMC.pressureScenario: scenario  105  of  500 : Max P: 1.8851090864745763\n gistMC.pressureScenario: scenario  106  of  500 : Max P: 2.24165231873312\n gistMC.pressureScenario: scenario  107  of  500 : Max P: 2.530607235676873\n gistMC.pressureScenario: scenario  108  of  500 : Max P: 11.471766544916223\n gistMC.pressureScenario: scenario  109  of  500 : Max P: 4.3794889343264725\n gistMC.pressureScenario: scenario  110  of  500 : Max P: 7.521238697690201\n gistMC.pressureScenario: scenario  111  of  500 : Max P: 2.080608734304608\n gistMC.pressureScenario: scenario  112  of  500 : Max P: 42.345837963256606\n gistMC.pressureScenario: scenario  113  of  500 : Max P: 91.01348679895642\n gistMC.pressureScenario: scenario  114  of  500 : Max P: 4.622746833127325\n gistMC.pressureScenario: scenario  115  of  500 : Max P: 2.4293245275914597\n gistMC.pressureScenario: scenario  116  of  500 : Max P: 2.0804392536808884\n gistMC.pressureScenario: scenario  117  of  500 : Max P: 4.575386493700407\n gistMC.pressureScenario: scenario  118  of  500 : Max P: 3.175685353569481\n gistMC.pressureScenario: scenario  119  of  500 : Max P: 4.742260687760731\n gistMC.pressureScenario: scenario  120  of  500 : Max P: 1.824788936022938\n gistMC.pressureScenario: scenario  121  of  500 : Max P: 1.8662632680136713\n gistMC.pressureScenario: scenario  122  of  500 : Max P: 5.0377943496254245\n gistMC.pressureScenario: scenario  123  of  500 : Max P: 6.687323933022438\n gistMC.pressureScenario: scenario  124  of  500 : Max P: 1.8381898183711805\n gistMC.pressureScenario: scenario  125  of  500 : Max P: 22.804228881620535\n gistMC.pressureScenario: scenario  126  of  500 : Max P: 7.392411832551889\n gistMC.pressureScenario: scenario  127  of  500 : Max P: 1.4830313121864043\n gistMC.pressureScenario: scenario  128  of  500 : Max P: 4.587448437307378\n gistMC.pressureScenario: scenario  129  of  500 : Max P: 1.3648009359215094\n gistMC.pressureScenario: scenario  130  of  500 : Max P: 8.92949644632485\n gistMC.pressureScenario: scenario  131  of  500 : Max P: 8.007613131165513\n gistMC.pressureScenario: scenario  132  of  500 : Max P: 2.79626427509952\n gistMC.pressureScenario: scenario  133  of  500 : Max P: 2.3409318457768036\n gistMC.pressureScenario: scenario  134  of  500 : Max P: 2.7171871240013\n gistMC.pressureScenario: scenario  135  of  500 : Max P: 10.140337932297003\n gistMC.pressureScenario: scenario  136  of  500 : Max P: 13.353646369843755\n gistMC.pressureScenario: scenario  137  of  500 : Max P: 4.470437726506644\n gistMC.pressureScenario: scenario  138  of  500 : Max P: 1.6940360669333014\n gistMC.pressureScenario: scenario  139  of  500 : Max P: 20.638584114719016\n gistMC.pressureScenario: scenario  140  of  500 : Max P: 4.811961666382868\n gistMC.pressureScenario: scenario  141  of  500 : Max P: 10.746881966747473\n gistMC.pressureScenario: scenario  142  of  500 : Max P: 1.8590753726401723\n gistMC.pressureScenario: scenario  143  of  500 : Max P: 6.497814316433821\n gistMC.pressureScenario: scenario  144  of  500 : Max P: 1.9909360447223778\n gistMC.pressureScenario: scenario  145  of  500 : Max P: 1.9781210341018163\n gistMC.pressureScenario: scenario  146  of  500 : Max P: 2.056259492752091\n gistMC.pressureScenario: scenario  147  of  500 : Max P: 9.606268131083448\n gistMC.pressureScenario: scenario  148  of  500 : Max P: 7.113675588143395\n gistMC.pressureScenario: scenario  149  of  500 : Max P: 6.1906757743282945\n gistMC.pressureScenario: scenario  150  of  500 : Max P: 2.09886214825069\n gistMC.pressureScenario: scenario  151  of  500 : Max P: 11.820515717994596\n gistMC.pressureScenario: scenario  152  of  500 : Max P: 11.284861833134398\n gistMC.pressureScenario: scenario  153  of  500 : Max P: 5.358101636013756\n gistMC.pressureScenario: scenario  154  of  500 : Max P: 18.279695778430735\n gistMC.pressureScenario: scenario  155  of  500 : Max P: 1.6424858020861322\n gistMC.pressureScenario: scenario  156  of  500 : Max P: 1.6103706144700392\n gistMC.pressureScenario: scenario  157  of  500 : Max P: 5.129503508702621\n gistMC.pressureScenario: scenario  158  of  500 : Max P: 3.6071067197504965\n gistMC.pressureScenario: scenario  159  of  500 : Max P: 2.2811588110069905\n gistMC.pressureScenario: scenario  160  of  500 : Max P: 1.6519215560414078\n gistMC.pressureScenario: scenario  161  of  500 : Max P: 2.9257225634424193\n gistMC.pressureScenario: scenario  162  of  500 : Max P: 7.398761213086407\n gistMC.pressureScenario: scenario  163  of  500 : Max P: 2.0163611844033142\n gistMC.pressureScenario: scenario  164  of  500 : Max P: 2.183844530809356\n gistMC.pressureScenario: scenario  165  of  500 : Max P: 7.413123879111694\n gistMC.pressureScenario: scenario  166  of  500 : Max P: 4.616867908607015\n gistMC.pressureScenario: scenario  167  of  500 : Max P: 1.7512751581782517\n gistMC.pressureScenario: scenario  168  of  500 : Max P: 3.172147382365422\n gistMC.pressureScenario: scenario  169  of  500 : Max P: 3.776010793704846\n gistMC.pressureScenario: scenario  170  of  500 : Max P: 53.910608868954526\n gistMC.pressureScenario: scenario  171  of  500 : Max P: 1.9004286490762614\n gistMC.pressureScenario: scenario  172  of  500 : Max P: 2.0232720180065487\n gistMC.pressureScenario: scenario  173  of  500 : Max P: 2.4124192042301584\n gistMC.pressureScenario: scenario  174  of  500 : Max P: 3.8484360226186456\n gistMC.pressureScenario: scenario  175  of  500 : Max P: 2.4065254432892993\n gistMC.pressureScenario: scenario  176  of  500 : Max P: 2.7906333023162992\n gistMC.pressureScenario: scenario  177  of  500 : Max P: 2.2518305455823695\n gistMC.pressureScenario: scenario  178  of  500 : Max P: 1.7083296620241066\n gistMC.pressureScenario: scenario  179  of  500 : Max P: 5.326250711372116\n gistMC.pressureScenario: scenario  180  of  500 : Max P: 4.543461594998594\n gistMC.pressureScenario: scenario  181  of  500 : Max P: 2.0006048576519424\n gistMC.pressureScenario: scenario  182  of  500 : Max P: 4.517084829477333\n gistMC.pressureScenario: scenario  183  of  500 : Max P: 2.5572037442470528\n gistMC.pressureScenario: scenario  184  of  500 : Max P: 2.856904258952782\n gistMC.pressureScenario: scenario  185  of  500 : Max P: 1.5882501941107936\n gistMC.pressureScenario: scenario  186  of  500 : Max P: 1.7594651513920732\n gistMC.pressureScenario: scenario  187  of  500 : Max P: 8.416621780496463\n gistMC.pressureScenario: scenario  188  of  500 : Max P: 11.25262603763678\n gistMC.pressureScenario: scenario  189  of  500 : Max P: 1.2541231421533379\n gistMC.pressureScenario: scenario  190  of  500 : Max P: 4.4613220353203475\n gistMC.pressureScenario: scenario  191  of  500 : Max P: 6.048845502877014\n gistMC.pressureScenario: scenario  192  of  500 : Max P: 1.7539195575583422\n gistMC.pressureScenario: scenario  193  of  500 : Max P: 1.4790661913154615\n gistMC.pressureScenario: scenario  194  of  500 : Max P: 6.430716872050151\n gistMC.pressureScenario: scenario  195  of  500 : Max P: 3.351613904580179\n gistMC.pressureScenario: scenario  196  of  500 : Max P: 10.18460113205168\n gistMC.pressureScenario: scenario  197  of  500 : Max P: 4.7749438085186515\n gistMC.pressureScenario: scenario  198  of  500 : Max P: 13.59770460166694\n gistMC.pressureScenario: scenario  199  of  500 : Max P: 2.606140554285529\n gistMC.pressureScenario: scenario  200  of  500 : Max P: 3.3703231688592394\n gistMC.pressureScenario: scenario  201  of  500 : Max P: 1.8058817147374222\n gistMC.pressureScenario: scenario  202  of  500 : Max P: 1.9482942855409107\n gistMC.pressureScenario: scenario  203  of  500 : Max P: 5.487744638728732\n gistMC.pressureScenario: scenario  204  of  500 : Max P: 1.1874938488478313\n gistMC.pressureScenario: scenario  205  of  500 : Max P: 3.2511954331897988\n gistMC.pressureScenario: scenario  206  of  500 : Max P: 68.07401964338395\n gistMC.pressureScenario: scenario  207  of  500 : Max P: 2.339011505778178\n gistMC.pressureScenario: scenario  208  of  500 : Max P: 8.6819785257111\n gistMC.pressureScenario: scenario  209  of  500 : Max P: 3.3872816924472704\n gistMC.pressureScenario: scenario  210  of  500 : Max P: 2.848191317270129\n gistMC.pressureScenario: scenario  211  of  500 : Max P: 2.4998073188934926\n gistMC.pressureScenario: scenario  212  of  500 : Max P: 6.818068091693413\n gistMC.pressureScenario: scenario  213  of  500 : Max P: 4.3123630209095705\n gistMC.pressureScenario: scenario  214  of  500 : Max P: 2.0008105198873585\n gistMC.pressureScenario: scenario  215  of  500 : Max P: 60.196550024807394\n gistMC.pressureScenario: scenario  216  of  500 : Max P: 1.3345417803844326\n gistMC.pressureScenario: scenario  217  of  500 : Max P: 2.2535080319972733\n gistMC.pressureScenario: scenario  218  of  500 : Max P: 9.154362614750507\n gistMC.pressureScenario: scenario  219  of  500 : Max P: 1.5674327868088052\n gistMC.pressureScenario: scenario  220  of  500 : Max P: 1.4285606251488425\n gistMC.pressureScenario: scenario  221  of  500 : Max P: 3.720932728925669\n gistMC.pressureScenario: scenario  222  of  500 : Max P: 2.44556475664712\n gistMC.pressureScenario: scenario  223  of  500 : Max P: 31.668182226174547\n gistMC.pressureScenario: scenario  224  of  500 : Max P: 2.0978927164770083\n gistMC.pressureScenario: scenario  225  of  500 : Max P: 7.967865936129176\n gistMC.pressureScenario: scenario  226  of  500 : Max P: 1.5427435487411763\n gistMC.pressureScenario: scenario  227  of  500 : Max P: 4.275095436833877\n gistMC.pressureScenario: scenario  228  of  500 : Max P: 2.796619563388945\n gistMC.pressureScenario: scenario  229  of  500 : Max P: 3.0763866045448034\n gistMC.pressureScenario: scenario  230  of  500 : Max P: 7.972351248361481\n gistMC.pressureScenario: scenario  231  of  500 : Max P: 3.5472144324163857\n gistMC.pressureScenario: scenario  232  of  500 : Max P: 15.160024718572135\n gistMC.pressureScenario: scenario  233  of  500 : Max P: 10.006555437119957\n gistMC.pressureScenario: scenario  234  of  500 : Max P: 8.36339718937773\n gistMC.pressureScenario: scenario  235  of  500 : Max P: 3.8225947123074673\n gistMC.pressureScenario: scenario  236  of  500 : Max P: 4.494875256782492\n gistMC.pressureScenario: scenario  237  of  500 : Max P: 8.115754993547485\n gistMC.pressureScenario: scenario  238  of  500 : Max P: 2.6928031233497958\n gistMC.pressureScenario: scenario  239  of  500 : Max P: 2.058236673274749\n gistMC.pressureScenario: scenario  240  of  500 : Max P: 7.716180978132981\n gistMC.pressureScenario: scenario  241  of  500 : Max P: 4.053019664957164\n gistMC.pressureScenario: scenario  242  of  500 : Max P: 5.408177950043204\n gistMC.pressureScenario: scenario  243  of  500 : Max P: 1.3290484406664973\n gistMC.pressureScenario: scenario  244  of  500 : Max P: 2.257915630555174\n gistMC.pressureScenario: scenario  245  of  500 : Max P: 2.6171324154846825\n gistMC.pressureScenario: scenario  246  of  500 : Max P: 2.2755829329566897\n gistMC.pressureScenario: scenario  247  of  500 : Max P: 7.529816658667179\n gistMC.pressureScenario: scenario  248  of  500 : Max P: 6.641192219778652\n gistMC.pressureScenario: scenario  249  of  500 : Max P: 2.558563596358762\n gistMC.pressureScenario: scenario  250  of  500 : Max P: 3.1149468402384275\n gistMC.pressureScenario: scenario  251  of  500 : Max P: 16.651546216488374\n gistMC.pressureScenario: scenario  252  of  500 : Max P: 1.2911288186657286\n gistMC.pressureScenario: scenario  253  of  500 : Max P: 17.210586299636482\n gistMC.pressureScenario: scenario  254  of  500 : Max P: 17.974955803462933\n gistMC.pressureScenario: scenario  255  of  500 : Max P: 4.414400482557266\n gistMC.pressureScenario: scenario  256  of  500 : Max P: 6.51032669387099\n gistMC.pressureScenario: scenario  257  of  500 : Max P: 2.157721033098281\n gistMC.pressureScenario: scenario  258  of  500 : Max P: 5.320336753077904\n gistMC.pressureScenario: scenario  259  of  500 : Max P: 2.4822400997750407\n gistMC.pressureScenario: scenario  260  of  500 : Max P: 3.4450772482984027\n gistMC.pressureScenario: scenario  261  of  500 : Max P: 8.796980071607495\n gistMC.pressureScenario: scenario  262  of  500 : Max P: 8.826494200978804\n gistMC.pressureScenario: scenario  263  of  500 : Max P: 2.819467175868808\n gistMC.pressureScenario: scenario  264  of  500 : Max P: 4.376284824297745\n gistMC.pressureScenario: scenario  265  of  500 : Max P: 2.399081887159199\n gistMC.pressureScenario: scenario  266  of  500 : Max P: 2.0737996778461345\n gistMC.pressureScenario: scenario  267  of  500 : Max P: 4.17383481725259\n gistMC.pressureScenario: scenario  268  of  500 : Max P: 2.044689318104785\n gistMC.pressureScenario: scenario  269  of  500 : Max P: 2.910319937646691\n gistMC.pressureScenario: scenario  270  of  500 : Max P: 7.514419817497688\n gistMC.pressureScenario: scenario  271  of  500 : Max P: 6.119463632668893\n gistMC.pressureScenario: scenario  272  of  500 : Max P: 1.8240431623163798\n gistMC.pressureScenario: scenario  273  of  500 : Max P: 5.282333100381483\n gistMC.pressureScenario: scenario  274  of  500 : Max P: 7.304447835779013\n gistMC.pressureScenario: scenario  275  of  500 : Max P: 1.5895115003768174\n gistMC.pressureScenario: scenario  276  of  500 : Max P: 44.36188962286987\n gistMC.pressureScenario: scenario  277  of  500 : Max P: 2.3652431288689613\n gistMC.pressureScenario: scenario  278  of  500 : Max P: 4.516264624582081\n gistMC.pressureScenario: scenario  279  of  500 : Max P: 3.9783854559362912\n gistMC.pressureScenario: scenario  280  of  500 : Max P: 8.122750584152474\n gistMC.pressureScenario: scenario  281  of  500 : Max P: 2.556707803862197\n gistMC.pressureScenario: scenario  282  of  500 : Max P: 3.9051317300237094\n gistMC.pressureScenario: scenario  283  of  500 : Max P: 3.190803017977351\n gistMC.pressureScenario: scenario  284  of  500 : Max P: 3.339276643747378\n gistMC.pressureScenario: scenario  285  of  500 : Max P: 5.348948233518485\n gistMC.pressureScenario: scenario  286  of  500 : Max P: 5.867756396788657\n gistMC.pressureScenario: scenario  287  of  500 : Max P: 8.636549381236934\n gistMC.pressureScenario: scenario  288  of  500 : Max P: 1.9055657098695442\n gistMC.pressureScenario: scenario  289  of  500 : Max P: 3.646117955798623\n gistMC.pressureScenario: scenario  290  of  500 : Max P: 2.2407898440051146\n gistMC.pressureScenario: scenario  291  of  500 : Max P: 5.718555308225646\n gistMC.pressureScenario: scenario  292  of  500 : Max P: 3.9036469284127295\n gistMC.pressureScenario: scenario  293  of  500 : Max P: 3.654731881390164\n gistMC.pressureScenario: scenario  294  of  500 : Max P: 7.2431752006497625\n gistMC.pressureScenario: scenario  295  of  500 : Max P: 12.359374773164964\n gistMC.pressureScenario: scenario  296  of  500 : Max P: 1.9972873912737126\n gistMC.pressureScenario: scenario  297  of  500 : Max P: 4.453486831598786\n gistMC.pressureScenario: scenario  298  of  500 : Max P: 3.370482771591408\n gistMC.pressureScenario: scenario  299  of  500 : Max P: 3.0781836894972883\n gistMC.pressureScenario: scenario  300  of  500 : Max P: 2.6140530933035326\n gistMC.pressureScenario: scenario  301  of  500 : Max P: 4.696628828811894\n gistMC.pressureScenario: scenario  302  of  500 : Max P: 2.263469137920266\n gistMC.pressureScenario: scenario  303  of  500 : Max P: 11.076295624037572\n gistMC.pressureScenario: scenario  304  of  500 : Max P: 9.80628921295865\n gistMC.pressureScenario: scenario  305  of  500 : Max P: 4.434928606927697\n gistMC.pressureScenario: scenario  306  of  500 : Max P: 1.484890451653648\n gistMC.pressureScenario: scenario  307  of  500 : Max P: 50.96567930605176\n gistMC.pressureScenario: scenario  308  of  500 : Max P: 8.811131630100467\n gistMC.pressureScenario: scenario  309  of  500 : Max P: 3.1853707867839\n gistMC.pressureScenario: scenario  310  of  500 : Max P: 4.535973789801423\n gistMC.pressureScenario: scenario  311  of  500 : Max P: 1.7990254021902732\n gistMC.pressureScenario: scenario  312  of  500 : Max P: 3.505727939209319\n gistMC.pressureScenario: scenario  313  of  500 : Max P: 4.789945536698817\n gistMC.pressureScenario: scenario  314  of  500 : Max P: 5.573634774528719\n gistMC.pressureScenario: scenario  315  of  500 : Max P: 14.292594181364569\n gistMC.pressureScenario: scenario  316  of  500 : Max P: 13.817280365413783\n gistMC.pressureScenario: scenario  317  of  500 : Max P: 3.6033664426052137\n gistMC.pressureScenario: scenario  318  of  500 : Max P: 1.8298372616152163\n gistMC.pressureScenario: scenario  319  of  500 : Max P: 2.275541685039366\n gistMC.pressureScenario: scenario  320  of  500 : Max P: 1.6259634053398986\n gistMC.pressureScenario: scenario  321  of  500 : Max P: 1.7144629586905735\n gistMC.pressureScenario: scenario  322  of  500 : Max P: 1.8688057711211958\n gistMC.pressureScenario: scenario  323  of  500 : Max P: 20.48866568453945\n gistMC.pressureScenario: scenario  324  of  500 : Max P: 2.2460991245839246\n gistMC.pressureScenario: scenario  325  of  500 : Max P: 7.745989959193976\n gistMC.pressureScenario: scenario  326  of  500 : Max P: 1.3119491904829863\n gistMC.pressureScenario: scenario  327  of  500 : Max P: 3.970044677177456\n gistMC.pressureScenario: scenario  328  of  500 : Max P: 12.735898304488426\n gistMC.pressureScenario: scenario  329  of  500 : Max P: 2.498523198122946\n gistMC.pressureScenario: scenario  330  of  500 : Max P: 1.8160428108024742\n gistMC.pressureScenario: scenario  331  of  500 : Max P: 2.578868869436035\n gistMC.pressureScenario: scenario  332  of  500 : Max P: 11.757128617200943\n gistMC.pressureScenario: scenario  333  of  500 : Max P: 6.971850281467214\n gistMC.pressureScenario: scenario  334  of  500 : Max P: 4.341792154075063\n gistMC.pressureScenario: scenario  335  of  500 : Max P: 3.9594345023510353\n gistMC.pressureScenario: scenario  336  of  500 : Max P: 5.215516980454704\n gistMC.pressureScenario: scenario  337  of  500 : Max P: 18.039960774717272\n gistMC.pressureScenario: scenario  338  of  500 : Max P: 1.617603599864842\n gistMC.pressureScenario: scenario  339  of  500 : Max P: 1.4320697790047798\n gistMC.pressureScenario: scenario  340  of  500 : Max P: 3.202833525058761\n gistMC.pressureScenario: scenario  341  of  500 : Max P: 1.4958182813256653\n gistMC.pressureScenario: scenario  342  of  500 : Max P: 3.3348481278707798\n gistMC.pressureScenario: scenario  343  of  500 : Max P: 5.161390443039519\n gistMC.pressureScenario: scenario  344  of  500 : Max P: 2.6746504118502945\n gistMC.pressureScenario: scenario  345  of  500 : Max P: 10.169716361734011\n gistMC.pressureScenario: scenario  346  of  500 : Max P: 9.61294472044704\n gistMC.pressureScenario: scenario  347  of  500 : Max P: 9.708218159307327\n gistMC.pressureScenario: scenario  348  of  500 : Max P: 5.8097520394731506\n gistMC.pressureScenario: scenario  349  of  500 : Max P: 3.7887450119307684\n gistMC.pressureScenario: scenario  350  of  500 : Max P: 3.953191689985713\n gistMC.pressureScenario: scenario  351  of  500 : Max P: 11.123774652370782\n gistMC.pressureScenario: scenario  352  of  500 : Max P: 2.6407620042849893\n gistMC.pressureScenario: scenario  353  of  500 : Max P: 9.961577860153795\n gistMC.pressureScenario: scenario  354  of  500 : Max P: 8.324358606550438\n gistMC.pressureScenario: scenario  355  of  500 : Max P: 1.4625663173682475\n gistMC.pressureScenario: scenario  356  of  500 : Max P: 62.679998699977894\n gistMC.pressureScenario: scenario  357  of  500 : Max P: 9.57574440580847\n gistMC.pressureScenario: scenario  358  of  500 : Max P: 15.186544943592535\n gistMC.pressureScenario: scenario  359  of  500 : Max P: 1.9312197956388055\n gistMC.pressureScenario: scenario  360  of  500 : Max P: 1.5054635843196538\n gistMC.pressureScenario: scenario  361  of  500 : Max P: 5.399381097020333\n gistMC.pressureScenario: scenario  362  of  500 : Max P: 5.251446846251609\n gistMC.pressureScenario: scenario  363  of  500 : Max P: 9.783064542783729\n gistMC.pressureScenario: scenario  364  of  500 : Max P: 3.8376352264138047\n gistMC.pressureScenario: scenario  365  of  500 : Max P: 38.45757134282366\n gistMC.pressureScenario: scenario  366  of  500 : Max P: 10.463943388391446\n gistMC.pressureScenario: scenario  367  of  500 : Max P: 8.17518469490044\n gistMC.pressureScenario: scenario  368  of  500 : Max P: 39.51388764562174\n gistMC.pressureScenario: scenario  369  of  500 : Max P: 21.28777322970759\n gistMC.pressureScenario: scenario  370  of  500 : Max P: 21.926845015794154\n gistMC.pressureScenario: scenario  371  of  500 : Max P: 1.3607704459809071\n gistMC.pressureScenario: scenario  372  of  500 : Max P: 13.69647838414337\n gistMC.pressureScenario: scenario  373  of  500 : Max P: 2.682451193889595\n gistMC.pressureScenario: scenario  374  of  500 : Max P: 4.00632332269105\n gistMC.pressureScenario: scenario  375  of  500 : Max P: 1.8616566746955427\n gistMC.pressureScenario: scenario  376  of  500 : Max P: 3.350729787987251\n gistMC.pressureScenario: scenario  377  of  500 : Max P: 1.9067578520497857\n gistMC.pressureScenario: scenario  378  of  500 : Max P: 6.119344882708799\n gistMC.pressureScenario: scenario  379  of  500 : Max P: 19.661768646875025\n gistMC.pressureScenario: scenario  380  of  500 : Max P: 1.8281436240931006\n gistMC.pressureScenario: scenario  381  of  500 : Max P: 6.848873613125073\n gistMC.pressureScenario: scenario  382  of  500 : Max P: 1.709682240285063\n gistMC.pressureScenario: scenario  383  of  500 : Max P: 2.212563593519542\n gistMC.pressureScenario: scenario  384  of  500 : Max P: 5.928470281580069\n gistMC.pressureScenario: scenario  385  of  500 : Max P: 1.6683063171900314\n gistMC.pressureScenario: scenario  386  of  500 : Max P: 2.7881722752291545\n gistMC.pressureScenario: scenario  387  of  500 : Max P: 2.1501455554559294\n gistMC.pressureScenario: scenario  388  of  500 : Max P: 2.970756538020301\n gistMC.pressureScenario: scenario  389  of  500 : Max P: 4.563898117705928\n gistMC.pressureScenario: scenario  390  of  500 : Max P: 4.873401691456238\n gistMC.pressureScenario: scenario  391  of  500 : Max P: 6.0134945475204\n gistMC.pressureScenario: scenario  392  of  500 : Max P: 2.3952581131425945\n gistMC.pressureScenario: scenario  393  of  500 : Max P: 3.5437698748042634\n gistMC.pressureScenario: scenario  394  of  500 : Max P: 4.145939230426482\n gistMC.pressureScenario: scenario  395  of  500 : Max P: 2.595204694601199\n gistMC.pressureScenario: scenario  396  of  500 : Max P: 2.7923301689484332\n gistMC.pressureScenario: scenario  397  of  500 : Max P: 1.4066574166774164\n gistMC.pressureScenario: scenario  398  of  500 : Max P: 6.328077870058262\n gistMC.pressureScenario: scenario  399  of  500 : Max P: 3.688563265331299\n gistMC.pressureScenario: scenario  400  of  500 : Max P: 2.5421108720475805\n gistMC.pressureScenario: scenario  401  of  500 : Max P: 3.6627309153858527\n gistMC.pressureScenario: scenario  402  of  500 : Max P: 13.136795277365414\n gistMC.pressureScenario: scenario  403  of  500 : Max P: 2.022411612993532\n gistMC.pressureScenario: scenario  404  of  500 : Max P: 8.774755029500476\n gistMC.pressureScenario: scenario  405  of  500 : Max P: 4.0201265016831655\n gistMC.pressureScenario: scenario  406  of  500 : Max P: 3.0183302093870514\n gistMC.pressureScenario: scenario  407  of  500 : Max P: 1.3777602105383016\n gistMC.pressureScenario: scenario  408  of  500 : Max P: 6.852545338748645\n gistMC.pressureScenario: scenario  409  of  500 : Max P: 4.647425755752145\n gistMC.pressureScenario: scenario  410  of  500 : Max P: 3.492970850758108\n gistMC.pressureScenario: scenario  411  of  500 : Max P: 1.3417802137932524\n gistMC.pressureScenario: scenario  412  of  500 : Max P: 7.23458143907801\n gistMC.pressureScenario: scenario  413  of  500 : Max P: 40.066938505785494\n gistMC.pressureScenario: scenario  414  of  500 : Max P: 11.244637176323552\n gistMC.pressureScenario: scenario  415  of  500 : Max P: 4.478326405868538\n gistMC.pressureScenario: scenario  416  of  500 : Max P: 24.989393705239006\n gistMC.pressureScenario: scenario  417  of  500 : Max P: 8.329882827064962\n gistMC.pressureScenario: scenario  418  of  500 : Max P: 2.4724221409982055\n gistMC.pressureScenario: scenario  419  of  500 : Max P: 6.148245327373274\n gistMC.pressureScenario: scenario  420  of  500 : Max P: 4.98593626983425\n gistMC.pressureScenario: scenario  421  of  500 : Max P: 10.351838709913576\n gistMC.pressureScenario: scenario  422  of  500 : Max P: 2.042024115951556\n gistMC.pressureScenario: scenario  423  of  500 : Max P: 2.0928031376593634\n gistMC.pressureScenario: scenario  424  of  500 : Max P: 1.5281968232357732\n gistMC.pressureScenario: scenario  425  of  500 : Max P: 1.6219909458880517\n gistMC.pressureScenario: scenario  426  of  500 : Max P: 8.203416779532224\n gistMC.pressureScenario: scenario  427  of  500 : Max P: 1.3757440866588093\n gistMC.pressureScenario: scenario  428  of  500 : Max P: 13.313250593299896\n gistMC.pressureScenario: scenario  429  of  500 : Max P: 4.444495635214788\n gistMC.pressureScenario: scenario  430  of  500 : Max P: 2.0341482655650327\n gistMC.pressureScenario: scenario  431  of  500 : Max P: 1.8771172128123426\n gistMC.pressureScenario: scenario  432  of  500 : Max P: 4.844381236770845\n gistMC.pressureScenario: scenario  433  of  500 : Max P: 17.720536235662077\n gistMC.pressureScenario: scenario  434  of  500 : Max P: 5.1447293330709005\n gistMC.pressureScenario: scenario  435  of  500 : Max P: 9.185339125771396\n gistMC.pressureScenario: scenario  436  of  500 : Max P: 2.136277767510868\n gistMC.pressureScenario: scenario  437  of  500 : Max P: 2.0002158555948686\n gistMC.pressureScenario: scenario  438  of  500 : Max P: 2.4001235409007067\n gistMC.pressureScenario: scenario  439  of  500 : Max P: 3.2413622040807564\n gistMC.pressureScenario: scenario  440  of  500 : Max P: 5.496574861777301\n gistMC.pressureScenario: scenario  441  of  500 : Max P: 2.885979312668054\n gistMC.pressureScenario: scenario  442  of  500 : Max P: 3.2131748448509123\n gistMC.pressureScenario: scenario  443  of  500 : Max P: 9.906518320915737\n gistMC.pressureScenario: scenario  444  of  500 : Max P: 3.2195553936716053\n gistMC.pressureScenario: scenario  445  of  500 : Max P: 1.888703734178123\n gistMC.pressureScenario: scenario  446  of  500 : Max P: 1.2343093298126095\n gistMC.pressureScenario: scenario  447  of  500 : Max P: 3.4762336809332792\n gistMC.pressureScenario: scenario  448  of  500 : Max P: 2.173305934883149\n gistMC.pressureScenario: scenario  449  of  500 : Max P: 5.485481730656518\n gistMC.pressureScenario: scenario  450  of  500 : Max P: 3.3076368419631152\n gistMC.pressureScenario: scenario  451  of  500 : Max P: 9.363745906275225\n gistMC.pressureScenario: scenario  452  of  500 : Max P: 1.8337037493482866\n gistMC.pressureScenario: scenario  453  of  500 : Max P: 15.157269804614218\n gistMC.pressureScenario: scenario  454  of  500 : Max P: 3.489778330301401\n gistMC.pressureScenario: scenario  455  of  500 : Max P: 1.4513586391221351\n gistMC.pressureScenario: scenario  456  of  500 : Max P: 9.525612482566935\n gistMC.pressureScenario: scenario  457  of  500 : Max P: 2.136911730629055\n gistMC.pressureScenario: scenario  458  of  500 : Max P: 9.438297165026126\n gistMC.pressureScenario: scenario  459  of  500 : Max P: 10.184473656739923\n gistMC.pressureScenario: scenario  460  of  500 : Max P: 12.110933546106711\n gistMC.pressureScenario: scenario  461  of  500 : Max P: 4.056637074593987\n gistMC.pressureScenario: scenario  462  of  500 : Max P: 1.746743040257716\n gistMC.pressureScenario: scenario  463  of  500 : Max P: 4.849132752796305\n gistMC.pressureScenario: scenario  464  of  500 : Max P: 2.2388420768669466\n gistMC.pressureScenario: scenario  465  of  500 : Max P: 2.0199028986476684\n gistMC.pressureScenario: scenario  466  of  500 : Max P: 6.6643126112370785\n gistMC.pressureScenario: scenario  467  of  500 : Max P: 65.70386232385917\n gistMC.pressureScenario: scenario  468  of  500 : Max P: 2.887432001316139\n gistMC.pressureScenario: scenario  469  of  500 : Max P: 1.4713244967226469\n gistMC.pressureScenario: scenario  470  of  500 : Max P: 2.025815668816518\n gistMC.pressureScenario: scenario  471  of  500 : Max P: 4.660735099776765\n gistMC.pressureScenario: scenario  472  of  500 : Max P: 1.9696999691691133\n gistMC.pressureScenario: scenario  473  of  500 : Max P: 1.999546033179643\n gistMC.pressureScenario: scenario  474  of  500 : Max P: 1.3095349080749699\n gistMC.pressureScenario: scenario  475  of  500 : Max P: 4.031638344289361\n gistMC.pressureScenario: scenario  476  of  500 : Max P: 1.4462304870839253\n gistMC.pressureScenario: scenario  477  of  500 : Max P: 2.0817445050857275\n gistMC.pressureScenario: scenario  478  of  500 : Max P: 1.247219931147709\n gistMC.pressureScenario: scenario  479  of  500 : Max P: 2.6800197270110857\n gistMC.pressureScenario: scenario  480  of  500 : Max P: 15.661859675837979\n gistMC.pressureScenario: scenario  481  of  500 : Max P: 4.767865451631598\n gistMC.pressureScenario: scenario  482  of  500 : Max P: 29.765484705251325\n gistMC.pressureScenario: scenario  483  of  500 : Max P: 41.138146885640104\n gistMC.pressureScenario: scenario  484  of  500 : Max P: 4.984857889067198\n gistMC.pressureScenario: scenario  485  of  500 : Max P: 4.388130938864599\n gistMC.pressureScenario: scenario  486  of  500 : Max P: 7.623353341108424\n gistMC.pressureScenario: scenario  487  of  500 : Max P: 1.462480903141173\n gistMC.pressureScenario: scenario  488  of  500 : Max P: 6.890609446700789\n gistMC.pressureScenario: scenario  489  of  500 : Max P: 5.821666219663656\n gistMC.pressureScenario: scenario  490  of  500 : Max P: 1.8256228227332147\n gistMC.pressureScenario: scenario  491  of  500 : Max P: 2.1167550957943297\n gistMC.pressureScenario: scenario  492  of  500 : Max P: 2.687227626549755\n gistMC.pressureScenario: scenario  493  of  500 : Max P: 2.378489147478854\n gistMC.pressureScenario: scenario  494  of  500 : Max P: 5.79599157625684\n gistMC.pressureScenario: scenario  495  of  500 : Max P: 4.940828453362207\n gistMC.pressureScenario: scenario  496  of  500 : Max P: 3.30430688868953\n gistMC.pressureScenario: scenario  497  of  500 : Max P: 1.5118874023953104\n gistMC.pressureScenario: scenario  498  of  500 : Max P: 26.07548156632981\n gistMC.pressureScenario: scenario  499  of  500 : Max P: 4.163641183669083\n gistMC.pressureScenario: scenario  500  of  500 : Max P: 1.4967789556391882\n"
     ]
    }
   ],
   "source": [
    "# Run shallow scenarios\n",
    "sWellPPScenarios=shallowM.runPressureScenarios(eq,shallowPPSelectedWells,shallowPPInj,verbose=1)\n",
    "sWellPPScenarios.to_csv(runPath+'shallowPP.csv')\n",
    "smallSPPDF,smallSWellList=gi.summarizePPResults(sWellPPScenarios,shallowPPSelectedWells,threshold=0.5,nOrder=20,verbose=0)\n",
    "smallSPPDF.to_csv(runPath+'/NorthTarzan_09-24_shallowPPSubset.csv')\n",
    "pd.Series(data=smallDWellList).to_csv(runPath+'/NorthTarzan_09-24_shallowWellOrder.csv')"
   ]
  },
  {
   "cell_type": "code",
   "execution_count": 0,
   "metadata": {
    "application/vnd.databricks.v1+cell": {
     "cellMetadata": {
      "byteLimit": 2048000,
      "rowLimit": 10000
     },
     "inputWidgets": {},
     "nuid": "a4f3b479-46db-4620-909e-7f8a75595841",
     "showTitle": false,
     "tableResultSettingsMap": {},
     "title": ""
    }
   },
   "outputs": [
    {
     "output_type": "stream",
     "name": "stdout",
     "output_type": "stream",
     "text": [
      "ID\n2113854    44.377284\n2108688    18.489854\n2081404    15.969688\n2119704    14.024725\n2112544    13.564338\n             ...    \n1004555     0.000000\n1004553     0.000000\n1004552     0.000000\n1004551     0.000000\n2128703     0.000000\nName: Pressures, Length: 538, dtype: float64\nID\n2113854    44.377284\n2108688    18.489854\n2081404    15.969688\n2119704    14.024725\n2112544    13.564338\n2120624    13.249530\n2113855     8.070913\n2110718     7.743706\n2127004     6.378711\n2109578     5.149343\n2119988     4.868542\n2048738     4.795006\n2112307     4.537593\n2059905     4.228660\n2096222     4.089169\n2087824     3.390969\n2121195     3.332532\n2015612     3.288915\n2086897     3.200349\n2120458     3.153430\n2094440     2.783506\n2119505     2.777321\n2121605     2.173195\n2121818     2.113527\n2121764     1.579934\n2123921     1.502502\n2120101     1.261374\n2116374     1.199011\n2121854     1.167559\n2015971     1.129553\n2111821     1.105421\nName: Pressures, dtype: float64\n"
     ]
    }
   ],
   "source": [
    "# Get shortened list of wells to output time series for\n",
    "orderedWellList = dWellPPScenarios.groupby('ID')['Pressures'].max().sort_values(ascending=False)\n",
    "print(orderedWellList)\n",
    "threshold=1.\n",
    "winWellList=orderedWellList[orderedWellList>1.]\n",
    "print(winWellList)\n"
   ]
  },
  {
   "cell_type": "code",
   "execution_count": 0,
   "metadata": {
    "application/vnd.databricks.v1+cell": {
     "cellMetadata": {
      "byteLimit": 2048000,
      "rowLimit": 10000
     },
     "inputWidgets": {},
     "nuid": "fc5a1384-2cb7-42cb-9857-5d14ac15032e",
     "showTitle": false,
     "tableResultSettingsMap": {},
     "title": ""
    }
   },
   "outputs": [
    {
     "output_type": "stream",
     "name": "stdout",
     "output_type": "stream",
     "text": [
      "    index       ID  ...    TotalBBL  Selected\n0     247  2015971  ...  33743122.0      True\n1     270  2048738  ...  86503043.0      True\n2     273  2059905  ...  78046992.0      True\n3     304  2094440  ...  60699050.0      True\n4     307  2096222  ...   9888305.0      True\n5     314  2113855  ...  20928513.0      True\n6     316  2119988  ...  11239732.0      True\n7     318  2120101  ...  42240453.0      True\n8     320  2120624  ...  14467447.0      True\n9     326  2121195  ...  35246775.0      True\n10    334  2121854  ...  12937163.0      True\n11    335  2123921  ...   7550012.0      True\n12    342  2015612  ...  56567466.0      True\n13    345  2109578  ...  14815678.0      True\n14    346  2110718  ...  25291884.0      True\n15    348  2116374  ...   8491376.0      True\n16    349  2112307  ...  13310313.0      True\n17    351  2112544  ...   8283102.0      True\n18    352  2119505  ...  13721157.0      True\n19    355  2121605  ...  13376296.0      True\n20    356  2121764  ...  15623304.0      True\n21    357  2121818  ...  11639487.0      True\n22    358  2120458  ...  14681105.0      True\n23    359  2127004  ...   8695623.0      True\n24    365  2119704  ...  40644091.0      True\n25    369  2081404  ...  54376264.0      True\n26    398  2086897  ...  51082660.0      True\n27    399  2087824  ...  56590384.0      True\n28    425  2111821  ...  15426744.0      True\n29    426  2113854  ...  32949605.0      True\n30    492  2108688  ...  25378479.0      True\n\n[31 rows x 71 columns]\nrunPressureScenariosTimeSeries time axis information - nt: 1453 ; ot: 5520.0 ; dt: 10.0  earthquake index:  1446\nrunPressureScenariosTimeSeries r2 min/max:  16329987.31551469 900683280.998593\nrunPressureScenariosTimeSeries TSOver4TT min/max:  0.5247810359721807 47.152088512471735\nrunPressureScenariosTimeSeries ppp min/max:  8569667.66084837 42469097787.349106\nrunPressureScenariosTimeSeries durations min/max:  864000.0 1255392000.0\nrunPressureScenariosTimeSeries epp min/max:  0.0 4.416573192345252\nrunPRessureScenariosTimeSeries time step  10  of  1453\nrunPRessureScenariosTimeSeries time step  20  of  1453\nrunPRessureScenariosTimeSeries time step  30  of  1453\nrunPRessureScenariosTimeSeries time step  40  of  1453\nrunPRessureScenariosTimeSeries time step  50  of  1453\nrunPRessureScenariosTimeSeries time step  60  of  1453\nrunPRessureScenariosTimeSeries time step  70  of  1453\nrunPRessureScenariosTimeSeries time step  80  of  1453\nrunPRessureScenariosTimeSeries time step  90  of  1453\nrunPRessureScenariosTimeSeries time step  100  of  1453\nrunPRessureScenariosTimeSeries time step  110  of  1453\nrunPRessureScenariosTimeSeries time step  120  of  1453\nrunPRessureScenariosTimeSeries time step  130  of  1453\nrunPRessureScenariosTimeSeries time step  140  of  1453\nrunPRessureScenariosTimeSeries time step  150  of  1453\nrunPRessureScenariosTimeSeries time step  160  of  1453\nrunPRessureScenariosTimeSeries time step  170  of  1453\nrunPRessureScenariosTimeSeries time step  180  of  1453\nrunPRessureScenariosTimeSeries time step  190  of  1453\nrunPRessureScenariosTimeSeries time step  200  of  1453\nrunPRessureScenariosTimeSeries time step  210  of  1453\nrunPRessureScenariosTimeSeries time step  220  of  1453\nrunPRessureScenariosTimeSeries time step  230  of  1453\nrunPRessureScenariosTimeSeries time step  240  of  1453\nrunPRessureScenariosTimeSeries time step  250  of  1453\nrunPRessureScenariosTimeSeries time step  260  of  1453\nrunPRessureScenariosTimeSeries time step  270  of  1453\nrunPRessureScenariosTimeSeries time step  280  of  1453\nrunPRessureScenariosTimeSeries time step  290  of  1453\nrunPRessureScenariosTimeSeries time step  300  of  1453\nrunPRessureScenariosTimeSeries time step  310  of  1453\nrunPRessureScenariosTimeSeries time step  320  of  1453\nrunPRessureScenariosTimeSeries time step  330  of  1453\nrunPRessureScenariosTimeSeries time step  340  of  1453\nrunPRessureScenariosTimeSeries time step  350  of  1453\nrunPRessureScenariosTimeSeries time step  360  of  1453\nrunPRessureScenariosTimeSeries time step  370  of  1453\nrunPRessureScenariosTimeSeries time step  380  of  1453\nrunPRessureScenariosTimeSeries time step  390  of  1453\nrunPRessureScenariosTimeSeries time step  400  of  1453\nrunPRessureScenariosTimeSeries time step  410  of  1453\nrunPRessureScenariosTimeSeries time step  420  of  1453\nrunPRessureScenariosTimeSeries time step  430  of  1453\nrunPRessureScenariosTimeSeries time step  440  of  1453\nrunPRessureScenariosTimeSeries time step  450  of  1453\nrunPRessureScenariosTimeSeries time step  460  of  1453\nrunPRessureScenariosTimeSeries time step  470  of  1453\nrunPRessureScenariosTimeSeries time step  480  of  1453\nrunPRessureScenariosTimeSeries time step  490  of  1453\nrunPRessureScenariosTimeSeries time step  500  of  1453\nrunPRessureScenariosTimeSeries time step  510  of  1453\nrunPRessureScenariosTimeSeries time step  520  of  1453\nrunPRessureScenariosTimeSeries time step  530  of  1453\nrunPRessureScenariosTimeSeries time step  540  of  1453\nrunPRessureScenariosTimeSeries time step  550  of  1453\nrunPRessureScenariosTimeSeries time step  560  of  1453\nrunPRessureScenariosTimeSeries time step  570  of  1453\nrunPRessureScenariosTimeSeries time step  580  of  1453\nrunPRessureScenariosTimeSeries time step  590  of  1453\nrunPRessureScenariosTimeSeries time step  600  of  1453\nrunPRessureScenariosTimeSeries time step  610  of  1453\nrunPRessureScenariosTimeSeries time step  620  of  1453\nrunPRessureScenariosTimeSeries time step  630  of  1453\nrunPRessureScenariosTimeSeries time step  640  of  1453\nrunPRessureScenariosTimeSeries time step  650  of  1453\nrunPRessureScenariosTimeSeries time step  660  of  1453\nrunPRessureScenariosTimeSeries time step  670  of  1453\nrunPRessureScenariosTimeSeries time step  680  of  1453\nrunPRessureScenariosTimeSeries time step  690  of  1453\nrunPRessureScenariosTimeSeries time step  700  of  1453\nrunPRessureScenariosTimeSeries time step  710  of  1453\nrunPRessureScenariosTimeSeries time step  720  of  1453\nrunPRessureScenariosTimeSeries time step  730  of  1453\nrunPRessureScenariosTimeSeries time step  740  of  1453\nrunPRessureScenariosTimeSeries time step  750  of  1453\nrunPRessureScenariosTimeSeries time step  760  of  1453\nrunPRessureScenariosTimeSeries time step  770  of  1453\nrunPRessureScenariosTimeSeries time step  780  of  1453\nrunPRessureScenariosTimeSeries time step  790  of  1453\nrunPRessureScenariosTimeSeries time step  800  of  1453\nrunPRessureScenariosTimeSeries time step  810  of  1453\nrunPRessureScenariosTimeSeries time step  820  of  1453\nrunPRessureScenariosTimeSeries time step  830  of  1453\nrunPRessureScenariosTimeSeries time step  840  of  1453\nrunPRessureScenariosTimeSeries time step  850  of  1453\nrunPRessureScenariosTimeSeries time step  860  of  1453\nrunPRessureScenariosTimeSeries time step  870  of  1453\nrunPRessureScenariosTimeSeries time step  880  of  1453\nrunPRessureScenariosTimeSeries time step  890  of  1453\nrunPRessureScenariosTimeSeries time step  900  of  1453\nrunPRessureScenariosTimeSeries time step  910  of  1453\nrunPRessureScenariosTimeSeries time step  920  of  1453\nrunPRessureScenariosTimeSeries time step  930  of  1453\nrunPRessureScenariosTimeSeries time step  940  of  1453\nrunPRessureScenariosTimeSeries time step  950  of  1453\nrunPRessureScenariosTimeSeries time step  960  of  1453\nrunPRessureScenariosTimeSeries time step  970  of  1453\nrunPRessureScenariosTimeSeries time step  980  of  1453\nrunPRessureScenariosTimeSeries time step  990  of  1453\nrunPRessureScenariosTimeSeries time step  1000  of  1453\nrunPRessureScenariosTimeSeries time step  1010  of  1453\nrunPRessureScenariosTimeSeries time step  1020  of  1453\nrunPRessureScenariosTimeSeries time step  1030  of  1453\nrunPRessureScenariosTimeSeries time step  1040  of  1453\nrunPRessureScenariosTimeSeries time step  1050  of  1453\nrunPRessureScenariosTimeSeries time step  1060  of  1453\nrunPRessureScenariosTimeSeries time step  1070  of  1453\nrunPRessureScenariosTimeSeries time step  1080  of  1453\nrunPRessureScenariosTimeSeries time step  1090  of  1453\nrunPRessureScenariosTimeSeries time step  1100  of  1453\nrunPRessureScenariosTimeSeries time step  1110  of  1453\nrunPRessureScenariosTimeSeries time step  1120  of  1453\nrunPRessureScenariosTimeSeries time step  1130  of  1453\nrunPRessureScenariosTimeSeries time step  1140  of  1453\nrunPRessureScenariosTimeSeries time step  1150  of  1453\nrunPRessureScenariosTimeSeries time step  1160  of  1453\nrunPRessureScenariosTimeSeries time step  1170  of  1453\nrunPRessureScenariosTimeSeries time step  1180  of  1453\nrunPRessureScenariosTimeSeries time step  1190  of  1453\nrunPRessureScenariosTimeSeries time step  1200  of  1453\nrunPRessureScenariosTimeSeries time step  1210  of  1453\nrunPRessureScenariosTimeSeries time step  1220  of  1453\nrunPRessureScenariosTimeSeries time step  1230  of  1453\nrunPRessureScenariosTimeSeries time step  1240  of  1453\nrunPRessureScenariosTimeSeries time step  1250  of  1453\nrunPRessureScenariosTimeSeries time step  1260  of  1453\nrunPRessureScenariosTimeSeries time step  1270  of  1453\nrunPRessureScenariosTimeSeries time step  1280  of  1453\nrunPRessureScenariosTimeSeries time step  1290  of  1453\nrunPRessureScenariosTimeSeries time step  1300  of  1453\nrunPRessureScenariosTimeSeries time step  1310  of  1453\nrunPRessureScenariosTimeSeries time step  1320  of  1453\nrunPRessureScenariosTimeSeries time step  1330  of  1453\nrunPRessureScenariosTimeSeries time step  1340  of  1453\nrunPRessureScenariosTimeSeries time step  1350  of  1453\nrunPRessureScenariosTimeSeries time step  1360  of  1453\nrunPRessureScenariosTimeSeries time step  1370  of  1453\nrunPRessureScenariosTimeSeries time step  1380  of  1453\nrunPRessureScenariosTimeSeries time step  1390  of  1453\nrunPRessureScenariosTimeSeries time step  1400  of  1453\nrunPRessureScenariosTimeSeries time step  1410  of  1453\nrunPRessureScenariosTimeSeries time step  1420  of  1453\nrunPRessureScenariosTimeSeries time step  1430  of  1453\nrunPRessureScenariosTimeSeries time step  1440  of  1453\nrunPRessureScenariosTimeSeries time step  1450  of  1453\n"
     ]
    }
   ],
   "source": [
    "# This is too slow! - first take top X wells contributing and then run it - maybe top 20?\n",
    "winDeepPPSelectedWells=deepPPSelectedWells[deepPPSelectedWells['ID'].isin(winWellList.index)].reset_index()\n",
    "print(winDeepPPSelectedWells)\n",
    "winDeepPPSelectedInj=deepPPInj[deepPPInj['ID'].isin(winWellList.index)]\n",
    "dWellPPScenariosF,dPDeep,dWellIDs,dayVecD = deepM.runPressureScenariosTimeSeries(eq,winDeepPPSelectedWells,winDeepPPSelectedInj,verbose=2)"
   ]
  },
  {
   "cell_type": "code",
   "execution_count": 0,
   "metadata": {
    "application/vnd.databricks.v1+cell": {
     "cellMetadata": {
      "byteLimit": 2048000,
      "rowLimit": 10000
     },
     "inputWidgets": {},
     "nuid": "007bd585-39f0-4592-8ffd-2fea58fb9254",
     "showTitle": false,
     "tableResultSettingsMap": {},
     "title": ""
    }
   },
   "outputs": [
    {
     "output_type": "stream",
     "name": "stdout",
     "output_type": "stream",
     "text": [
      " prepInj: first day  5520.0  with interval of  10.0  days\n prepInj: min,max indicies  1 1451\nrunPressureScenariosTimeSeries input time axis information - nt: 1453 ; ot: 5520.0 ; dt: 10.0  earthquake index:  1446  f  0.2999999999999545\nrunPressureScenariosTimeSeries output time axis information - len(secArray): 1453 ; min(secArray): 5520.0 ; dt: 864000.0  earthquake index:  1446  f  0.2999999999999545\nrunPressureScenariosTimeSeries r2 min/max:  16329987.31551469 900683280.998593\nrunPressureScenariosTimeSeries TSOver4TT min/max:  0.5247810359721807 47.152088512471735\nrunPressureScenariosTimeSeries ppp min/max:  8569667.66084837 42469097787.349106\nrunPressureScenariosTimeSeries durations min/max:  864000.0 1255392000.0\nrunPressureScenariosTimeSeries epp min/max:  0.0 4.416573192345252\nrunPressureScenariosTimeSeriesTest Well  1  of  31\nrunPressureScenariosTimeSeriesTest Well  11  of  31\nrunPressureScenariosTimeSeriesTest Well  21  of  31\nrunPressureScenariosTimeSeriesTest Well  31  of  31\n"
     ]
    }
   ],
   "source": [
    "# This runs out of memory\n",
    "dWellPPScenariosF2,dPDeepF2,wellIDs1A,dayVec1A = deepM.runPressureScenariosTimeSeriesTest(eq,winDeepPPSelectedWells,winDeepPPSelectedInj,verbose=2)\n",
    "dWellPPScenariosF2.to_csv(runPath+'deepPPF2.csv')"
   ]
  },
  {
   "cell_type": "code",
   "execution_count": 0,
   "metadata": {
    "application/vnd.databricks.v1+cell": {
     "cellMetadata": {
      "byteLimit": 2048000,
      "rowLimit": 10000
     },
     "inputWidgets": {},
     "nuid": "316fd2f1-9610-4215-ad58-83406c152f15",
     "showTitle": false,
     "tableResultSettingsMap": {},
     "title": ""
    }
   },
   "outputs": [],
   "source": [
    "dPPTimeSeriesSum=dPDeep.sum(axis=1)"
   ]
  },
  {
   "cell_type": "code",
   "execution_count": 0,
   "metadata": {
    "application/vnd.databricks.v1+cell": {
     "cellMetadata": {
      "byteLimit": 2048000,
      "rowLimit": 10000
     },
     "inputWidgets": {},
     "nuid": "8e2f0803-3132-421b-80d6-555819bbcbaf",
     "showTitle": false,
     "tableResultSettingsMap": {},
     "title": ""
    }
   },
   "outputs": [],
   "source": [
    "np.savez_compressed(runPath+'deepDeltaPPSum.npz', deltaPP=dPDeep,dayVec=dayVecD,wellIDs=dWellIDs)"
   ]
  },
  {
   "cell_type": "code",
   "execution_count": 0,
   "metadata": {
    "application/vnd.databricks.v1+cell": {
     "cellMetadata": {
      "byteLimit": 2048000,
      "rowLimit": 10000
     },
     "inputWidgets": {},
     "nuid": "348d7925-7907-4739-b2aa-7971b25e48ca",
     "showTitle": false,
     "tableResultSettingsMap": {},
     "title": ""
    }
   },
   "outputs": [],
   "source": [
    "np.savez_compressed(runPath+'deepDeltaPPSumC.npz', deltaPP=dPDeepF2,dayVec=dayVec1A,wellIDs=wellIDs1A)"
   ]
  },
  {
   "cell_type": "code",
   "execution_count": 0,
   "metadata": {
    "application/vnd.databricks.v1+cell": {
     "cellMetadata": {
      "byteLimit": 2048000,
      "rowLimit": 10000
     },
     "inputWidgets": {},
     "nuid": "77484415-3a8a-420d-8bdf-1cdbc083b961",
     "showTitle": false,
     "tableResultSettingsMap": {},
     "title": ""
    }
   },
   "outputs": [],
   "source": [
    "# Window out significant wells - save individual time series for those\n"
   ]
  },
  {
   "cell_type": "code",
   "execution_count": 0,
   "metadata": {
    "application/vnd.databricks.v1+cell": {
     "cellMetadata": {
      "byteLimit": 2048000,
      "rowLimit": 10000
     },
     "inputWidgets": {},
     "nuid": "a2343091-6233-4724-b557-70ce0c3bf73a",
     "showTitle": false,
     "tableResultSettingsMap": {},
     "title": ""
    }
   },
   "outputs": [],
   "source": [
    "deepWindowedWells=dWellPPScenarios[dWellPPScenarios['Pressures']>0.1]['ID'].unique()"
   ]
  },
  {
   "cell_type": "code",
   "execution_count": 0,
   "metadata": {
    "application/vnd.databricks.v1+cell": {
     "cellMetadata": {
      "byteLimit": 2048000,
      "rowLimit": 10000
     },
     "inputWidgets": {},
     "nuid": "0a49fd1e-bec7-4a66-90a7-fe858be28d4e",
     "showTitle": false,
     "tableResultSettingsMap": {},
     "title": ""
    }
   },
   "outputs": [],
   "source": [
    "# dPPTimeSeries is time, well, realization - need top wells with time series of pressures\n",
    "dPPWellIndices=deepPPWells['ID'].isin(deepWindowedWells)\n",
    "print(sum(dPPWellIndices),' wells out of ',len(dPPWellIndices),' have >0.1 PSI contribution')\n",
    "dPPTimeSeriesSelected=dPDeep[:,dPPWellIndices,:]\n",
    "dPPSelectedWellNameDF=deepPPWells['WellName'][dPPWellIndices]\n",
    "print(dPPSelectedWellNameDF.to_list())"
   ]
  },
  {
   "cell_type": "code",
   "execution_count": 0,
   "metadata": {
    "application/vnd.databricks.v1+cell": {
     "cellMetadata": {
      "byteLimit": 2048000,
      "rowLimit": 10000
     },
     "inputWidgets": {},
     "nuid": "cb8d093b-9611-4982-b06d-c8897c5c044a",
     "showTitle": false,
     "tableResultSettingsMap": {},
     "title": ""
    }
   },
   "outputs": [],
   "source": [
    "i=0\n",
    "for wellName in dPPSelectedWellNameDF.to_list():\n",
    "  np.save(runPath+'deepPPTimeSeries'+wellName+'.npy',dPPTimeSeriesSelected[:,i,:])\n",
    "  i=i+1\n",
    "  print('Well '+wellName+' written '+i)\n",
    "dPPSelectedWellNameDF.to_csv(runPath+'deepSelectedWellNames.csv')"
   ]
  },
  {
   "cell_type": "code",
   "execution_count": 0,
   "metadata": {
    "application/vnd.databricks.v1+cell": {
     "cellMetadata": {
      "byteLimit": 2048000,
      "rowLimit": 10000
     },
     "inputWidgets": {},
     "nuid": "e1f85a09-afe0-4681-9be4-1dff2564c072",
     "showTitle": false,
     "tableResultSettingsMap": {},
     "title": ""
    }
   },
   "outputs": [],
   "source": [
    "dWellPEScenarios=deepM.runPoroelasticScenarios(eq,deepPEWells,deepPEInj,verbose=1)"
   ]
  },
  {
   "cell_type": "code",
   "execution_count": 0,
   "metadata": {
    "application/vnd.databricks.v1+cell": {
     "cellMetadata": {
      "byteLimit": 2048000,
      "rowLimit": 10000
     },
     "inputWidgets": {},
     "nuid": "c789deb9-bed4-4e99-b004-2bd949512615",
     "showTitle": false,
     "tableResultSettingsMap": {},
     "title": ""
    }
   },
   "outputs": [],
   "source": [
    "sWellPEScenarios=shallowM.runPoroelasticScenarios(eq,shallowPEWells,shallowPEInj,verbose=1)"
   ]
  },
  {
   "cell_type": "code",
   "execution_count": 0,
   "metadata": {
    "application/vnd.databricks.v1+cell": {
     "cellMetadata": {
      "byteLimit": 2048000,
      "rowLimit": 10000
     },
     "inputWidgets": {},
     "nuid": "f4acf0d0-44d0-4ec3-b595-17bea90c2137",
     "showTitle": false,
     "tableResultSettingsMap": {},
     "title": ""
    }
   },
   "outputs": [],
   "source": [
    "\n",
    "dWellPEScenarios.to_csv(runPath+'deepPE.csv')"
   ]
  },
  {
   "cell_type": "code",
   "execution_count": 0,
   "metadata": {
    "application/vnd.databricks.v1+cell": {
     "cellMetadata": {
      "byteLimit": 2048000,
      "rowLimit": 10000
     },
     "inputWidgets": {},
     "nuid": "4e2feb63-71b4-47ea-af13-22da38e9ca27",
     "showTitle": false,
     "tableResultSettingsMap": {},
     "title": ""
    }
   },
   "outputs": [],
   "source": [
    "\n",
    "sWellPEScenarios[sWellPEScenarios['Realization']<250].to_csv(baseOutPath+'shallowPE0.csv')\n",
    "sWellPEScenarios[sWellPEScenarios['Realization']>250].to_csv(baseOutPath+'shallowPE1.csv')\n"
   ]
  },
  {
   "cell_type": "code",
   "execution_count": 0,
   "metadata": {
    "application/vnd.databricks.v1+cell": {
     "cellMetadata": {
      "byteLimit": 2048000,
      "rowLimit": 10000
     },
     "inputWidgets": {},
     "nuid": "c69cb829-6cfd-43b3-8036-4a72f995d432",
     "showTitle": false,
     "tableResultSettingsMap": {},
     "title": ""
    }
   },
   "outputs": [],
   "source": [
    "sWellPEScenarios.info()"
   ]
  },
  {
   "cell_type": "code",
   "execution_count": 0,
   "metadata": {
    "application/vnd.databricks.v1+cell": {
     "cellMetadata": {
      "byteLimit": 2048000,
      "rowLimit": 10000
     },
     "inputWidgets": {},
     "nuid": "b8c026ba-46e8-4575-ab0f-8a6599b026c9",
     "showTitle": false,
     "tableResultSettingsMap": {},
     "title": ""
    }
   },
   "outputs": [],
   "source": [
    "deepWindowedWells=dWellPPScenarios[dWellPPScenarios['Pressures']>0.1]['ID'].unique()\n",
    "filtDWellPPScenarios=dWellPPScenarios[dWellPPScenarios['ID'].isin(deepWindowedWells)]\n",
    "maxPressureList=[]\n",
    "for ID in deepWindowedWells:\n",
    "  maxPressure=max(filtDWellPPScenarios[filtDWellPPScenarios['ID']==ID]['Pressures'])\n",
    "  nReal=filtDWellPPScenarios[filtDWellPPScenarios['ID']==ID].shape[0]\n",
    "  print(ID,maxPressure,nReal)\n",
    "  maxPressureList.extend([maxPressure,]*nReal)\n",
    "filtDWellPPScenarios['MaxPressure']=maxPressureList\n",
    "filtDWellPPScenarios=filtDWellPPScenarios.sort_values(by='MaxPressure',ascending=False)\n",
    "shallowWindowedWells=sWellPPScenarios[sWellPPScenarios['Pressures']>0.1]['ID'].unique()\n",
    "filtSWellPPScenarios=sWellPPScenarios[sWellPPScenarios['ID'].isin(shallowWindowedWells)]\n",
    "maxPressureList=[]\n",
    "for ID in shallowWindowedWells:\n",
    "  maxPressure=max(filtSWellPPScenarios[filtSWellPPScenarios['ID']==ID]['Pressures'])\n",
    "  nReal=filtSWellPPScenarios[filtSWellPPScenarios['ID']==ID].shape[0]\n",
    "  print(ID,maxPressure,nReal)\n",
    "  maxPressureList.extend([maxPressure,]*nReal)\n",
    "filtSWellPPScenarios['MaxPressure']=maxPressureList\n",
    "filtSWellPPScenarios=filtSWellPPScenarios.sort_values(by='MaxPressure',ascending=False)"
   ]
  },
  {
   "cell_type": "code",
   "execution_count": 0,
   "metadata": {
    "application/vnd.databricks.v1+cell": {
     "cellMetadata": {
      "byteLimit": 2048000,
      "rowLimit": 10000
     },
     "inputWidgets": {},
     "nuid": "7ede1eb0-81f7-466c-b0a4-d64874ba0cc5",
     "showTitle": false,
     "tableResultSettingsMap": {},
     "title": ""
    }
   },
   "outputs": [],
   "source": [
    "filtDWellPPScenarios=filtDWellPPScenarios.merge(deepPPWells,on='ID')\n",
    "filtSWellPPScenarios=filtSWellPPScenarios.merge(shallowPPWells,on='ID')\n",
    "print('deep ',filtDWellPPScenarios.shape[0],', shallow',filtSWellPPScenarios.shape[0])"
   ]
  },
  {
   "cell_type": "markdown",
   "metadata": {
    "application/vnd.databricks.v1+cell": {
     "cellMetadata": {
      "byteLimit": 2048000,
      "rowLimit": 10000
     },
     "inputWidgets": {},
     "nuid": "3895fbc4-d512-4688-b66a-56e1a5c17d7c",
     "showTitle": false,
     "tableResultSettingsMap": {},
     "title": ""
    }
   },
   "source": [
    "## Save Results"
   ]
  },
  {
   "cell_type": "code",
   "execution_count": 0,
   "metadata": {
    "application/vnd.databricks.v1+cell": {
     "cellMetadata": {
      "byteLimit": 2048000,
      "rowLimit": 10000
     },
     "inputWidgets": {},
     "nuid": "1d1ead17-e6a0-4d23-a130-9f09c1f2eb5a",
     "showTitle": false,
     "tableResultSettingsMap": {},
     "title": ""
    }
   },
   "outputs": [],
   "source": [
    "# Save results - visualize separately!\n",
    "baseOutPath='/Workspace/Users/bill.curry@exxonmobil.com/gist/Outputs/Stanton11-4-23_v2_'\n",
    "#dWellPPScenarios.to_csv(baseOutPath+'deepPP.csv')\n",
    "dWellPEScenarios.to_csv(baseOutPath+'deepPE.csv')\n",
    "#sWellPPScenarios.to_csv(baseOutPath+'shallowPP.csv')\n",
    "sWellPEScenarios.to_csv(baseOutPath+'shallowPE.csv')\n",
    "#np.save(baseOutPath+'deepPPTimeSeries0.csv',dPPTimeSeries['Realization'<100])\n",
    "#np.save(baseOutPath+'shallowPPTimeSeries.csv',sPPTimeSeries)"
   ]
  },
  {
   "cell_type": "markdown",
   "metadata": {
    "application/vnd.databricks.v1+cell": {
     "cellMetadata": {
      "byteLimit": 2048000,
      "rowLimit": 10000
     },
     "inputWidgets": {},
     "nuid": "6dc5898c-1214-4edf-a4c0-7497235a6cca",
     "showTitle": false,
     "tableResultSettingsMap": {},
     "title": ""
    }
   },
   "source": [
    "## Sanity check of initial results\n",
    "### Check injection on wells with non-negligable pressure contributions"
   ]
  },
  {
   "cell_type": "code",
   "execution_count": 0,
   "metadata": {
    "application/vnd.databricks.v1+cell": {
     "cellMetadata": {
      "byteLimit": 2048000,
      "rowLimit": 10000
     },
     "inputWidgets": {},
     "nuid": "2cc0a516-3378-4347-91b6-ace8f81a3833",
     "showTitle": false,
     "tableResultSettingsMap": {},
     "title": ""
    }
   },
   "outputs": [],
   "source": [
    "# Select injection histories of wells\n",
    "deepWindowedInjection=deepPPInj[deepPPInj['ID'].is_in(deepWindowedWells)]\n",
    "shallowWindowedInjection=shallowPPInj[shallowPPInj['ID'].is_in(shallowWindowedWells)]\n",
    "deepInjQC=deepWindowedInjection.merge(deepPPWells[['Name','Operator','APINumber','Latitude','Longitude']],on='ID',how='left')\n",
    "shallowInjQC=shallowWindowedInjection.merge(shallowPPWells[['Name','Operator','APINumber','Latitude','Longitude']],on='ID',how='left')"
   ]
  },
  {
   "cell_type": "code",
   "execution_count": 0,
   "metadata": {
    "application/vnd.databricks.v1+cell": {
     "cellMetadata": {
      "byteLimit": 2048000,
      "rowLimit": 10000
     },
     "inputWidgets": {},
     "nuid": "4cb13385-7873-444d-9ae7-c0308444e098",
     "showTitle": false,
     "tableResultSettingsMap": {},
     "title": ""
    }
   },
   "outputs": [],
   "source": [
    "# Make stack plots of recent injection - Deep\n",
    "injQC=deepInjQC\n",
    "injQC['Date']=pd.to_datetime(injQC.Date)\n",
    "# Generate x and y\n",
    "dates=injQC['Date'].drop_duplicates()\n",
    "# Loop over wells\n",
    "oDate=min(dates)\n",
    "eDate=max(dates)\n",
    "dateRange=pd.date_range(start=oDate,end=eDate, freq='10D')\n",
    "# Get x min, x max\n",
    "wellIDs=injQC['ID'].drop_duplicates()\n",
    "allWellBPDs=[]\n",
    "allWellLabels=[]\n",
    "for well in wellIDs:\n",
    "  wellDates=injQC[injQC['ID']==well]['Date']\n",
    "  wellBPDs=injQC[injQC['ID']==well]['BPD']\n",
    "  minWD=min(wellDates)\n",
    "  maxWD=max(wellDates)\n",
    "  nPrepend=sum(dateRange<minWD)\n",
    "  nAppend=sum(dateRange>maxWD)\n",
    "  #print('Well ',well,' ',minWD,maxWD,oDate,eDate,nPrepend,' prePad, ',nAppend,' postPad, ',len(dateRange))\n",
    "  #print('allWellBPDs: ',allWellBPDs)\n",
    "  if nPrepend>0:\n",
    "    prependZeroBPDs=pd.Series(np.zeros([nPrepend]))\n",
    "  else:\n",
    "    prependZeroBPDs=None\n",
    "  if nAppend>0:\n",
    "    appendZeroBPDs=pd.Series(np.zeros([nAppend,1]))\n",
    "  else:\n",
    "    appendZeroBPDs=None\n",
    "  padWellBPDs=pd.concat([prependZeroBPDs,wellBPDs,appendZeroBPDs])\n",
    "  allWellBPDs.append(padWellBPDs)\n",
    "  #allWellLabels.append(injQC['WellName'][injQC['ID']==well][0])\n",
    "  allWellLabels.append(injQC['WellName'][injQC['ID']==well].loc[0])\n",
    "# Now have allWellBPDs, allWellLabels, and dateRange all set\n",
    "# Generate Stacked area plot of injection\n",
    "# y needs to be defined for each well, and extended for the full time series\n",
    "col = sns.color_palette(\"hls\", len(wellIDs))\n",
    "#zoomDate=oneEQ['Origin Date'] - pd.DateOffset(years=2)\n",
    "ax.stackplot(dateRange,allWellBPDs, labels=allWellLabels,colors=col)\n",
    "ax.set_title('Selected well injection')\n",
    "ax.set_xlabel('Date')\n",
    "ax.set_ylabel('Rate (BPD)')\n",
    "#if startDate!=None or endDate!=None: axes.xlim(startDate,endDate)\n",
    "ax.legend(loc='upper left')\n",
    "plt.show()"
   ]
  },
  {
   "cell_type": "code",
   "execution_count": 0,
   "metadata": {
    "application/vnd.databricks.v1+cell": {
     "cellMetadata": {
      "byteLimit": 2048000,
      "rowLimit": 10000
     },
     "inputWidgets": {},
     "nuid": "1a8e1f66-9005-4b58-b118-1fb240bea23a",
     "showTitle": false,
     "tableResultSettingsMap": {},
     "title": ""
    }
   },
   "outputs": [],
   "source": [
    "# Repeat for Shallow"
   ]
  },
  {
   "cell_type": "code",
   "execution_count": 0,
   "metadata": {
    "application/vnd.databricks.v1+cell": {
     "cellMetadata": {
      "byteLimit": 2048000,
      "rowLimit": 10000
     },
     "inputWidgets": {},
     "nuid": "a1588954-f4b8-4105-a20e-f508ea3f2017",
     "showTitle": false,
     "tableResultSettingsMap": {},
     "title": ""
    }
   },
   "outputs": [],
   "source": [
    "# Plot Time Series of total pressures and injection histories\n"
   ]
  },
  {
   "cell_type": "code",
   "execution_count": 0,
   "metadata": {
    "application/vnd.databricks.v1+cell": {
     "cellMetadata": {
      "byteLimit": 2048000,
      "rowLimit": 10000
     },
     "inputWidgets": {},
     "nuid": "f84c0581-670d-449b-b8ef-e88afdd6a169",
     "showTitle": false,
     "tableResultSettingsMap": {},
     "title": ""
    }
   },
   "outputs": [],
   "source": []
  },
  {
   "cell_type": "code",
   "execution_count": 0,
   "metadata": {
    "application/vnd.databricks.v1+cell": {
     "cellMetadata": {
      "byteLimit": 2048000,
      "rowLimit": 10000
     },
     "inputWidgets": {},
     "nuid": "2ed08fbb-3e6d-4615-802b-9f39654a70d4",
     "showTitle": false,
     "tableResultSettingsMap": {},
     "title": ""
    }
   },
   "outputs": [],
   "source": [
    "\n",
    "print(deepWindowedWells)\n",
    "filtDWellPPScenarios=dWellPPScenarios[dWellPPScenarios['ID'].isin(deepWindowedWells)]\n",
    "filtDWellPEScenarios=dWellPEScenarios[dWellPEScenarios['ID'].isin(deepWindowedWells)]\n",
    "print(len(dWellPPScenarios),len(filtDWellPPScenarios),len(filtDWellPEScenarios))"
   ]
  },
  {
   "cell_type": "code",
   "execution_count": 0,
   "metadata": {
    "application/vnd.databricks.v1+cell": {
     "cellMetadata": {
      "byteLimit": 2048000,
      "rowLimit": 10000
     },
     "inputWidgets": {},
     "nuid": "3157d5a6-2e8f-4ee0-8a23-6ade3da75c87",
     "showTitle": false,
     "tableResultSettingsMap": {},
     "title": ""
    }
   },
   "outputs": [],
   "source": [
    "\n",
    "print(shallowWindowedWells)\n",
    "filtDWellPPScenarios=dWellPPScenarios[dWellPPScenarios['ID'].isin(deepWindowedWells)]\n",
    "filtDWellPEScenarios=dWellPEScenarios[dWellPEScenarios['ID'].isin(deepWindowedWells)]\n",
    "print(len(dWellPPScenarios),len(filtDWellPPScenarios),len(filtDWellPEScenarios))"
   ]
  },
  {
   "cell_type": "code",
   "execution_count": 0,
   "metadata": {
    "application/vnd.databricks.v1+cell": {
     "cellMetadata": {
      "byteLimit": 2048000,
      "rowLimit": 10000
     },
     "inputWidgets": {},
     "nuid": "290bcb76-46fb-4d60-ab94-9e618a90702e",
     "showTitle": false,
     "tableResultSettingsMap": {},
     "title": ""
    }
   },
   "outputs": [],
   "source": [
    "# Concatenate pore pressure and poroelastic results\n",
    "dWellPPScenarios['Physics']='Pore Pressure'\n",
    "dWellPEScenarios['Physics']='Poroelastic'\n",
    "dWellPPScenarios['Stresses']=dWellPPScenarios['Pressures']\n",
    "allDeep=pd.concat(objs=[dWellPPScenarios,dWellPEScenarios[dWellPEScenarios['ID'].isin(dWellPPScenarios['ID'])]])\n",
    "allDeep=allDeep.merge(deepPEWells,on='ID')\n",
    "\n"
   ]
  },
  {
   "cell_type": "code",
   "execution_count": 0,
   "metadata": {
    "application/vnd.databricks.v1+cell": {
     "cellMetadata": {
      "byteLimit": 2048000,
      "rowLimit": 10000
     },
     "inputWidgets": {},
     "nuid": "a7b5377e-2fc4-48f7-be47-0dbb7278d4fc",
     "showTitle": false,
     "tableResultSettingsMap": {},
     "title": ""
    }
   },
   "outputs": [],
   "source": [
    "deepWindowedWells=dWellPPScenarios[dWellPPScenarios['Pressures']>0.1]['ID'].unique()\n",
    "print(deepWindowedWells)\n",
    "filtDWellPPScenarios=dWellPPScenarios[dWellPPScenarios['ID'].isin(deepWindowedWells)]\n",
    "filtDWellPEScenarios=dWellPEScenarios[dWellPEScenarios['ID'].isin(deepWindowedWells)]\n",
    "print(len(dWellPPScenarios),len(filtDWellPPScenarios),len(filtDWellPEScenarios))"
   ]
  },
  {
   "cell_type": "code",
   "execution_count": 0,
   "metadata": {
    "application/vnd.databricks.v1+cell": {
     "cellMetadata": {
      "byteLimit": 2048000,
      "rowLimit": 10000
     },
     "inputWidgets": {},
     "nuid": "417996fa-ed83-4f11-9368-bb1a770866e8",
     "showTitle": false,
     "tableResultSettingsMap": {},
     "title": ""
    }
   },
   "outputs": [],
   "source": [
    "maxPressureList=[]\n",
    "for ID in deepWindowedWells:\n",
    "  maxPressure=filtDWellPPScenarios[filtDWellPPScenarios['ID']==ID]['Pressures']\n",
    "  maxPressureList.append\n",
    "dWellPPScenarios['MaxPressure']=dWellPPScenarios['ID'].map(maxPressureDict)\n",
    "dWellPPScenarios=dWellPPScenarios.sort_values(by='MaxPressure',ascending=False)"
   ]
  },
  {
   "cell_type": "code",
   "execution_count": 0,
   "metadata": {
    "application/vnd.databricks.v1+cell": {
     "cellMetadata": {
      "byteLimit": 2048000,
      "rowLimit": 10000
     },
     "inputWidgets": {},
     "nuid": "be6f6db8-3b75-4c34-a215-8fa5ab199639",
     "showTitle": false,
     "tableResultSettingsMap": {},
     "title": ""
    }
   },
   "outputs": [],
   "source": []
  },
  {
   "cell_type": "code",
   "execution_count": 0,
   "metadata": {
    "application/vnd.databricks.v1+cell": {
     "cellMetadata": {
      "byteLimit": 2048000,
      "rowLimit": 10000
     },
     "inputWidgets": {},
     "nuid": "d0c95135-c38b-4c64-924c-7fb8e8bf73fc",
     "showTitle": false,
     "tableResultSettingsMap": {},
     "title": ""
    }
   },
   "outputs": [],
   "source": [
    "# Select wells that only have greater than a 0.1 psi stress increase\n",
    "deepWindowedWells=allDeep[allDeep['Stresses']>0.1]['ID'].unique()\n",
    "allDeepWindowed=allDeep[allDeep['ID'].isin(deepWindowedWells)]\n",
    "# Get maximum pressure or stress for each well, sort by that\n",
    "maxList=[]\n",
    "for ID in deepWindowedWells:\n",
    "  # get maximum row\n",
    "  maxRow=allDeepWindowed[allDeepWindowed['ID']==ID]['Stresses'].idxmax()\n",
    "  maxList.append([allDeepWindowed.iloc[maxRow]['ID'],allDeepWindowed.iloc[maxRow]['Stresses']])\n",
    "wellOrdered=pd.DataFrame(maxList,columns=['ID','Stresses']).sort_values(by='Stresses')\n",
    "IDOrder=wellOrdered['ID'].to_list()\n",
    "sortedDeepWindowed=allDeepWindowed.sort_values(by=\"ID\", key=lambda column: column.map(lambda e: IDOrder.index(e)), inplace=True)"
   ]
  },
  {
   "cell_type": "code",
   "execution_count": 0,
   "metadata": {
    "application/vnd.databricks.v1+cell": {
     "cellMetadata": {
      "byteLimit": 2048000,
      "rowLimit": 10000
     },
     "inputWidgets": {},
     "nuid": "caa5d933-7227-42f8-b2dd-6cc43cc8cebb",
     "showTitle": false,
     "tableResultSettingsMap": {},
     "title": ""
    }
   },
   "outputs": [],
   "source": [
    "fig,axes=plt.subplots(1,1, sharex=True, figsize=(30,200))\n",
    "# Relative contributions\n",
    "sns.stripplot(data=allDeep,x='Stresses',y='WellName',hue='Physics',dodge=True,jitter=True,alpha=0.1,ax=axes)\n",
    "axes.set_title('Deep Well Stresses')\n",
    "axes.set_xlabel('Stress (PSI)')"
   ]
  },
  {
   "cell_type": "code",
   "execution_count": 0,
   "metadata": {
    "application/vnd.databricks.v1+cell": {
     "cellMetadata": {
      "byteLimit": 2048000,
      "rowLimit": 10000
     },
     "inputWidgets": {},
     "nuid": "24b55abe-8e01-4ea8-b0fd-2d7998ce5ce9",
     "showTitle": false,
     "tableResultSettingsMap": {},
     "title": ""
    }
   },
   "outputs": [],
   "source": [
    "# Concatenate pore pressure and poroelastic results\n",
    "sWellPPScenarios['Physics']='Pore Pressure'\n",
    "sWellPEScenarios['Physics']='Poroelastic'\n",
    "sWellPPScenarios['Stresses']=sWellPPScenarios['Pressures']\n",
    "allShallow=pd.concat(objs=[sWellPPScenarios,sWellPEScenarios[sWellPEScenarios['ID'].isin(sWellPPScenarios['ID'])]])\n",
    "allShallow=allShallow.merge(shallowPEWells,on='ID')\n"
   ]
  },
  {
   "cell_type": "code",
   "execution_count": 0,
   "metadata": {
    "application/vnd.databricks.v1+cell": {
     "cellMetadata": {
      "byteLimit": 2048000,
      "rowLimit": 10000
     },
     "inputWidgets": {},
     "nuid": "12cdfd42-6e25-43b5-bd81-9f7c0ba50c25",
     "showTitle": false,
     "tableResultSettingsMap": {},
     "title": ""
    }
   },
   "outputs": [],
   "source": [
    "fig,axes=plt.subplots(1,1, sharex=True, figsize=(30,10))\n",
    "# Relative contributions\n",
    "sns.stripplot(data=allShallow,x='Stresses',y='WellName',hue='Physics',dodge=True,jitter=True,alpha=0.1,ax=axes)\n",
    "axes.set_title('Shallow Well Stresses')\n",
    "axes.set_xlabel('Stress (PSI)')"
   ]
  },
  {
   "cell_type": "code",
   "execution_count": 0,
   "metadata": {
    "application/vnd.databricks.v1+cell": {
     "cellMetadata": {
      "byteLimit": 2048000,
      "rowLimit": 10000
     },
     "inputWidgets": {},
     "nuid": "f02ffe11-2bfc-4d54-9e4d-f556e86908b4",
     "showTitle": false,
     "tableResultSettingsMap": {},
     "title": ""
    }
   },
   "outputs": [],
   "source": [
    "# Plot results\n",
    "fig,axes=plt.subplots(3,1, sharex=True, figsize=(60,20))\n",
    "gp.disaggregationPlot(axes[0],dWellPPScenarios,dWellPEScenarios,deepPEWells,'Deep')\n",
    "gp.disaggregationPlot(axes[1],sWellPPScenarios,sWellPEScenarios,shallowPEWells,'Shallow')\n",
    "# Concatenate pore pressure and poroelastic results\n"
   ]
  },
  {
   "cell_type": "code",
   "execution_count": 0,
   "metadata": {
    "application/vnd.databricks.v1+cell": {
     "cellMetadata": {
      "byteLimit": 2048000,
      "rowLimit": 10000
     },
     "inputWidgets": {},
     "nuid": "7a7c39da-5930-4778-9bbc-358bbad99387",
     "showTitle": false,
     "tableResultSettingsMap": {},
     "title": ""
    }
   },
   "outputs": [],
   "source": [
    "# \n",
    "\n",
    "dayDVec=np.linspace(deepM.injOT, deepM.injOT+deepM.injDT*(deepM.injNT-1.),deepM.injNT)\n",
    "dPPTimeSeriesSum=np.sum(dPPTimeSeries,axis=1)\n",
    "realization=np.linspace(0,499,500)\n",
    "nwC=deepPPWells.shape[0]\n",
    "dTPPDF=pd.DataFrame(columns=['Days','Realization','TotalPressure'])\n",
    "dPPDF=pd.DataFrame(columns=['Days','Realization','ID','Pressure','TotalPressure'])\n",
    "dTPPDF['Days']=np.tile(dayDVec,deepM.nReal)\n",
    "dTPPDF['TotalPressure']=np.reshape(dPPTimeSeriesSum[:,:],deepM.injNT*deepM.nReal,order='F')\n",
    "dTPPDF['Realization']=np.tile(realization,deepM.injNT)\n",
    "dTPPDF=gi.getDates(dTPPDF,deepM.epoch)"
   ]
  },
  {
   "cell_type": "code",
   "execution_count": 0,
   "metadata": {
    "application/vnd.databricks.v1+cell": {
     "cellMetadata": {
      "byteLimit": 2048000,
      "rowLimit": 10000
     },
     "inputWidgets": {},
     "nuid": "7ca48eee-1c34-421f-9a70-270d051f33f6",
     "showTitle": false,
     "tableResultSettingsMap": {},
     "title": ""
    }
   },
   "outputs": [],
   "source": [
    "fig,axes=plt.subplots(2,1, sharex=True, figsize=(40,15))\n",
    "\n",
    "sns.lineplot(ax=axes[0],x='Date',y='TotalPressure',hue='Realization',data=dTPPDF)\n",
    "sns.scatterplot(data=filtEQs,ax=axes[0],x='Date',y='Magnitude',s=300,marker='*')\n",
    "axes[0].set_title('Deep Pressure Histories')\n",
    "axes[0].set_xlabel('Date')\n",
    "axes[0].set_ylabel('Pressure (PSI)')\n",
    "sns.lineplot(ax=axes[1],x='Date',y='TotalPressure',hue='Realization',data=sTPPDF)\n",
    "sns.scatterplot(data=filtEQs,ax=axes[1],x='Date',y='Magnitude',s=300,marker='*')\n",
    "plt.show()"
   ]
  },
  {
   "cell_type": "code",
   "execution_count": 0,
   "metadata": {
    "application/vnd.databricks.v1+cell": {
     "cellMetadata": {
      "byteLimit": 2048000,
      "rowLimit": 10000
     },
     "inputWidgets": {},
     "nuid": "f04371b7-ff00-4eaf-a3eb-b8239b52ce11",
     "showTitle": false,
     "tableResultSettingsMap": {},
     "title": ""
    }
   },
   "outputs": [],
   "source": []
  }
 ],
 "metadata": {
  "application/vnd.databricks.v1+notebook": {
   "dashboards": [],
   "environmentMetadata": null,
   "language": "python",
   "notebookMetadata": {
    "pythonIndentUnit": 2
   },
   "notebookName": "GIST_NorthTarzan",
   "widgets": {}
  },
  "language_info": {
   "name": "python"
  }
 },
 "nbformat": 4,
 "nbformat_minor": 0
}
