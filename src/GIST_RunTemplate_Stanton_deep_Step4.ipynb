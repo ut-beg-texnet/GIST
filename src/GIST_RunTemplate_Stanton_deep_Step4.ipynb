{
 "cells": [
  {
   "cell_type": "markdown",
   "metadata": {
    "application/vnd.databricks.v1+cell": {
     "cellMetadata": {
      "byteLimit": 2048000,
      "rowLimit": 10000
     },
     "inputWidgets": {},
     "nuid": "c1abdb59-6473-4a9e-89dc-f7bf61a76f4b",
     "showTitle": false,
     "tableResultSettingsMap": {},
     "title": ""
    }
   },
   "source": [
    "# Geomechanical Injection Scenario Toolkit (GIST)\n",
    "\n",
    "#Disclaimer\n",
    "GIST aims to give the _gist_ of a wide range of potential scenarios and aid collective decision making when responding to seismicity.\n",
    "\n",
    "The results of GIST are entirely dependent upon the inputs provided, which may be incomplete or inaccurate.\n",
    "\n",
    "There are other potentially plausible inducement scenarios that are not considered, including fluid migration into the basement, \n",
    "out-of-zone poroelastic stressing, or hydraulic fracturing.\n",
    "\n",
    "None of the individual models produced by GIST accurately represent what happens in the subsurface and cannot be credibly used \n",
    "to accurately assign liability or responsibility for seismicity.\n",
    "\n",
    "\"All models are wrong, but some are useful\" - George Box, 1976\n",
    "\n",
    "## Prerequisites\n",
    "\n",
    "Assumes InjectionSQLScheduled completed successfully and injection data are sampled uniformly in time"
   ]
  },
  {
   "cell_type": "markdown",
   "metadata": {
    "application/vnd.databricks.v1+cell": {
     "cellMetadata": {
      "byteLimit": 2048000,
      "rowLimit": 10000
     },
     "inputWidgets": {},
     "nuid": "b264040f-fa15-4a0b-b6a8-a6260d9ab053",
     "showTitle": false,
     "tableResultSettingsMap": {},
     "title": ""
    }
   },
   "source": [
    "##Install Dependencies\n",
    "- geopandas\n",
    "- gistMC.py\n",
    "- eqSQL.py\n",
    "- gistPlots.py\n",
    "- numpy\n",
    "- scipy\n",
    "- pandas\n"
   ]
  },
  {
   "cell_type": "code",
   "execution_count": 0,
   "metadata": {
    "application/vnd.databricks.v1+cell": {
     "cellMetadata": {
      "byteLimit": 2048000,
      "rowLimit": 10000
     },
     "inputWidgets": {},
     "nuid": "e00f4128-0373-462e-b4e5-0c722b222f74",
     "showTitle": true,
     "tableResultSettingsMap": {},
     "title": "Restart python"
    }
   },
   "outputs": [],
   "source": [
    "%restart_python"
   ]
  },
  {
   "cell_type": "code",
   "execution_count": 0,
   "metadata": {
    "application/vnd.databricks.v1+cell": {
     "cellMetadata": {
      "byteLimit": 2048000,
      "rowLimit": 10000
     },
     "collapsed": true,
     "inputWidgets": {},
     "nuid": "fb80407f-4a02-4284-9638-a9c24281d177",
     "showTitle": true,
     "tableResultSettingsMap": {},
     "title": "Databricks functions"
    }
   },
   "outputs": [],
   "source": [
    "%run \"/Workspace/_utils/Utility_Functions\""
   ]
  },
  {
   "cell_type": "code",
   "execution_count": 0,
   "metadata": {
    "application/vnd.databricks.v1+cell": {
     "cellMetadata": {
      "byteLimit": 2048000,
      "rowLimit": 10000
     },
     "inputWidgets": {},
     "nuid": "0e21e4dd-c64f-459b-9241-0cb74bf49524",
     "showTitle": true,
     "tableResultSettingsMap": {},
     "title": "PIP installs"
    }
   },
   "outputs": [
    {
     "output_type": "stream",
     "name": "stdout",
     "output_type": "stream",
     "text": [
      "Collecting geopandas\n  Downloading geopandas-1.0.1-py3-none-any.whl (323 kB)\n     ━━━━━━━━━━━━━━━━━━━━━━━━━━━━━━━━━━━━━━━ 323.6/323.6 kB 5.1 MB/s eta 0:00:00\nRequirement already satisfied: pandas>=1.4.0 in /databricks/python3/lib/python3.10/site-packages (from geopandas) (1.5.3)\nRequirement already satisfied: packaging in /databricks/python3/lib/python3.10/site-packages (from geopandas) (23.2)\nCollecting shapely>=2.0.0\n  Downloading shapely-2.1.0-cp310-cp310-manylinux_2_17_x86_64.manylinux2014_x86_64.whl (3.0 MB)\n     ━━━━━━━━━━━━━━━━━━━━━━━━━━━━━━━━━━━━━━━━ 3.0/3.0 MB 123.3 MB/s eta 0:00:00\nCollecting pyproj>=3.3.0\n  Downloading pyproj-3.7.1-cp310-cp310-manylinux_2_17_x86_64.manylinux2014_x86_64.whl (9.3 MB)\n     ━━━━━━━━━━━━━━━━━━━━━━━━━━━━━━━━━━━━━━━━ 9.3/9.3 MB 99.4 MB/s eta 0:00:00\nRequirement already satisfied: numpy>=1.22 in /databricks/python3/lib/python3.10/site-packages (from geopandas) (1.23.5)\nCollecting pyogrio>=0.7.2\n  Downloading pyogrio-0.10.0-cp310-cp310-manylinux_2_28_x86_64.whl (23.9 MB)\n     ━━━━━━━━━━━━━━━━━━━━━━━━━━━━━━━━━━━━━━━━ 23.9/23.9 MB 55.5 MB/s eta 0:00:00\nRequirement already satisfied: python-dateutil>=2.8.1 in /databricks/python3/lib/python3.10/site-packages (from pandas>=1.4.0->geopandas) (2.8.2)\nRequirement already satisfied: pytz>=2020.1 in /databricks/python3/lib/python3.10/site-packages (from pandas>=1.4.0->geopandas) (2022.7)\nRequirement already satisfied: certifi in /databricks/python3/lib/python3.10/site-packages (from pyogrio>=0.7.2->geopandas) (2022.12.7)\nRequirement already satisfied: six>=1.5 in /usr/lib/python3/dist-packages (from python-dateutil>=2.8.1->pandas>=1.4.0->geopandas) (1.16.0)\nInstalling collected packages: shapely, pyproj, pyogrio, geopandas\nSuccessfully installed geopandas-1.0.1 pyogrio-0.10.0 pyproj-3.7.1 shapely-2.1.0\n\u001B[43mNote: you may need to restart the kernel using %restart_python or dbutils.library.restartPython() to use updated packages.\u001B[0m\nCollecting geodatasets\n  Downloading geodatasets-2024.8.0-py3-none-any.whl (20 kB)\nCollecting pooch\n  Downloading pooch-1.8.2-py3-none-any.whl (64 kB)\n     ━━━━━━━━━━━━━━━━━━━━━━━━━━━━━━━━━━━━━━━━ 64.6/64.6 kB 4.0 MB/s eta 0:00:00\nRequirement already satisfied: platformdirs>=2.5.0 in /databricks/python3/lib/python3.10/site-packages (from pooch->geodatasets) (2.5.2)\nRequirement already satisfied: packaging>=20.0 in /databricks/python3/lib/python3.10/site-packages (from pooch->geodatasets) (23.2)\nRequirement already satisfied: requests>=2.19.0 in /local_disk0/.ephemeral_nfs/envs/pythonEnv-d1c69dd6-6059-4064-b731-c6575a968a1d/lib/python3.10/site-packages (from pooch->geodatasets) (2.32.3)\nRequirement already satisfied: idna<4,>=2.5 in /databricks/python3/lib/python3.10/site-packages (from requests>=2.19.0->pooch->geodatasets) (3.4)\nRequirement already satisfied: certifi>=2017.4.17 in /databricks/python3/lib/python3.10/site-packages (from requests>=2.19.0->pooch->geodatasets) (2022.12.7)\nRequirement already satisfied: urllib3<3,>=1.21.1 in /databricks/python3/lib/python3.10/site-packages (from requests>=2.19.0->pooch->geodatasets) (1.26.14)\nRequirement already satisfied: charset-normalizer<4,>=2 in /databricks/python3/lib/python3.10/site-packages (from requests>=2.19.0->pooch->geodatasets) (2.0.4)\nInstalling collected packages: pooch, geodatasets\nSuccessfully installed geodatasets-2024.8.0 pooch-1.8.2\n\u001B[43mNote: you may need to restart the kernel using %restart_python or dbutils.library.restartPython() to use updated packages.\u001B[0m\nCollecting contextily\n  Downloading contextily-1.6.2-py3-none-any.whl (17 kB)\nRequirement already satisfied: joblib in /databricks/python3/lib/python3.10/site-packages (from contextily) (1.2.0)\nRequirement already satisfied: requests in /local_disk0/.ephemeral_nfs/envs/pythonEnv-d1c69dd6-6059-4064-b731-c6575a968a1d/lib/python3.10/site-packages (from contextily) (2.32.3)\nRequirement already satisfied: matplotlib in /databricks/python3/lib/python3.10/site-packages (from contextily) (3.7.0)\nRequirement already satisfied: pillow in /databricks/python3/lib/python3.10/site-packages (from contextily) (9.4.0)\nCollecting xyzservices\n  Downloading xyzservices-2025.1.0-py3-none-any.whl (88 kB)\n     ━━━━━━━━━━━━━━━━━━━━━━━━━━━━━━━━━━━━━━━━ 88.4/88.4 kB 6.0 MB/s eta 0:00:00\nCollecting rasterio\n  Downloading rasterio-1.4.3-cp310-cp310-manylinux_2_17_x86_64.manylinux2014_x86_64.whl (22.2 MB)\n     ━━━━━━━━━━━━━━━━━━━━━━━━━━━━━━━━━━━━━━━━ 22.2/22.2 MB 72.4 MB/s eta 0:00:00\nCollecting geopy\n  Downloading geopy-2.4.1-py3-none-any.whl (125 kB)\n     ━━━━━━━━━━━━━━━━━━━━━━━━━━━━━━━━━━━━━━ 125.4/125.4 kB 24.7 MB/s eta 0:00:00\nCollecting mercantile\n  Downloading mercantile-1.2.1-py3-none-any.whl (14 kB)\nCollecting geographiclib<3,>=1.52\n  Downloading geographiclib-2.0-py3-none-any.whl (40 kB)\n     ━━━━━━━━━━━━━━━━━━━━━━━━━━━━━━━━━━━━━━━━ 40.3/40.3 kB 5.9 MB/s eta 0:00:00\nRequirement already satisfied: pyparsing>=2.3.1 in /databricks/python3/lib/python3.10/site-packages (from matplotlib->contextily) (3.0.9)\nRequirement already satisfied: contourpy>=1.0.1 in /databricks/python3/lib/python3.10/site-packages (from matplotlib->contextily) (1.0.5)\nRequirement already satisfied: packaging>=20.0 in /databricks/python3/lib/python3.10/site-packages (from matplotlib->contextily) (23.2)\nRequirement already satisfied: kiwisolver>=1.0.1 in /databricks/python3/lib/python3.10/site-packages (from matplotlib->contextily) (1.4.4)\nRequirement already satisfied: cycler>=0.10 in /databricks/python3/lib/python3.10/site-packages (from matplotlib->contextily) (0.11.0)\nRequirement already satisfied: numpy>=1.20 in /databricks/python3/lib/python3.10/site-packages (from matplotlib->contextily) (1.23.5)\nRequirement already satisfied: fonttools>=4.22.0 in /databricks/python3/lib/python3.10/site-packages (from matplotlib->contextily) (4.25.0)\nRequirement already satisfied: python-dateutil>=2.7 in /databricks/python3/lib/python3.10/site-packages (from matplotlib->contextily) (2.8.2)\nRequirement already satisfied: click>=3.0 in /databricks/python3/lib/python3.10/site-packages (from mercantile->contextily) (8.0.4)\nCollecting numpy>=1.20\n  Downloading numpy-2.2.4-cp310-cp310-manylinux_2_17_x86_64.manylinux2014_x86_64.whl (16.4 MB)\n     ━━━━━━━━━━━━━━━━━━━━━━━━━━━━━━━━━━━━━━━ 16.4/16.4 MB 110.9 MB/s eta 0:00:00\nRequirement already satisfied: attrs in /databricks/python3/lib/python3.10/site-packages (from rasterio->contextily) (22.1.0)\nCollecting cligj>=0.5\n  Downloading cligj-0.7.2-py3-none-any.whl (7.1 kB)\nCollecting click-plugins\n  Downloading click_plugins-1.1.1-py2.py3-none-any.whl (7.5 kB)\nRequirement already satisfied: certifi in /databricks/python3/lib/python3.10/site-packages (from rasterio->contextily) (2022.12.7)\nCollecting affine\n  Downloading affine-2.4.0-py3-none-any.whl (15 kB)\nRequirement already satisfied: idna<4,>=2.5 in /databricks/python3/lib/python3.10/site-packages (from requests->contextily) (3.4)\nRequirement already satisfied: urllib3<3,>=1.21.1 in /databricks/python3/lib/python3.10/site-packages (from requests->contextily) (1.26.14)\nRequirement already satisfied: charset-normalizer<4,>=2 in /databricks/python3/lib/python3.10/site-packages (from requests->contextily) (2.0.4)\nRequirement already satisfied: six>=1.5 in /usr/lib/python3/dist-packages (from python-dateutil>=2.7->matplotlib->contextily) (1.16.0)\nInstalling collected packages: xyzservices, numpy, mercantile, geographiclib, cligj, click-plugins, affine, rasterio, geopy, contextily\n  Attempting uninstall: numpy\n    Found existing installation: numpy 1.23.5\n    Not uninstalling numpy at /databricks/python3/lib/python3.10/site-packages, outside environment /local_disk0/.ephemeral_nfs/envs/pythonEnv-d1c69dd6-6059-4064-b731-c6575a968a1d\n    Can't uninstall 'numpy'. No files were found to uninstall.\nERROR: pip's dependency resolver does not currently take into account all the packages that are installed. This behaviour is the source of the following dependency conflicts.\nscipy 1.10.0 requires numpy<1.27.0,>=1.19.5, but you have numpy 2.2.4 which is incompatible.\ndatabricks-connect 14.3.7 requires numpy<2,>=1.15, but you have numpy 2.2.4 which is incompatible.\nSuccessfully installed affine-2.4.0 click-plugins-1.1.1 cligj-0.7.2 contextily-1.6.2 geographiclib-2.0 geopy-2.4.1 mercantile-1.2.1 numpy-2.2.4 rasterio-1.4.3 xyzservices-2025.1.0\n\u001B[43mNote: you may need to restart the kernel using %restart_python or dbutils.library.restartPython() to use updated packages.\u001B[0m\n"
     ]
    }
   ],
   "source": [
    "!pip install geopandas\n",
    "!pip install geodatasets\n",
    "!pip install contextily\n",
    "#! pip install folium matplotlib mapclassify contextily"
   ]
  },
  {
   "cell_type": "markdown",
   "metadata": {
    "application/vnd.databricks.v1+cell": {
     "cellMetadata": {
      "byteLimit": 2048000,
      "rowLimit": 10000
     },
     "inputWidgets": {},
     "nuid": "c93df717-a2d5-4e18-b1cb-7d39ffcb99b2",
     "showTitle": false,
     "tableResultSettingsMap": {},
     "title": ""
    }
   },
   "source": [
    "##Paths"
   ]
  },
  {
   "cell_type": "code",
   "execution_count": 0,
   "metadata": {
    "application/vnd.databricks.v1+cell": {
     "cellMetadata": {
      "byteLimit": 2048000,
      "rowLimit": 10000
     },
     "inputWidgets": {},
     "nuid": "145f505a-6639-4124-b6bd-aa4e6c9b5c47",
     "showTitle": true,
     "tableResultSettingsMap": {},
     "title": "GIST libraries and injection data"
    }
   },
   "outputs": [],
   "source": [
    "# Paths\n",
    "homePath='/Workspace/Users/bill.curry@exxonmobil.com/'\n",
    "# Injection data path \n",
    "injPath=homePath+'injection/WeeklyRun/ScheduledOutput/'\n",
    "# GIST library path\n",
    "gistPath=homePath+'GIST/'"
   ]
  },
  {
   "cell_type": "markdown",
   "metadata": {
    "application/vnd.databricks.v1+cell": {
     "cellMetadata": {
      "byteLimit": 2048000,
      "rowLimit": 10000
     },
     "inputWidgets": {},
     "nuid": "fe561de9-c0de-474b-af1b-e457ac846dbe",
     "showTitle": false,
     "tableResultSettingsMap": {},
     "title": ""
    }
   },
   "source": [
    "##Libraries\n",
    "\n",
    "- numpy\n",
    "- scipy\n",
    "- pandas\n",
    "- matplotlib\n",
    "- geopandas\n",
    "- pyspark\n"
   ]
  },
  {
   "cell_type": "code",
   "execution_count": 0,
   "metadata": {
    "application/vnd.databricks.v1+cell": {
     "cellMetadata": {
      "byteLimit": 2048000,
      "rowLimit": 10000
     },
     "inputWidgets": {},
     "nuid": "10119ade-2798-4028-9462-d20dc15fb1d7",
     "showTitle": true,
     "tableResultSettingsMap": {},
     "title": "add path"
    }
   },
   "outputs": [],
   "source": [
    "import sys\n",
    "sys.path.append(gistPath+'lib')"
   ]
  },
  {
   "cell_type": "code",
   "execution_count": 0,
   "metadata": {
    "application/vnd.databricks.v1+cell": {
     "cellMetadata": {
      "byteLimit": 2048000,
      "rowLimit": 10000
     },
     "inputWidgets": {},
     "nuid": "2e230114-d00d-4065-9b06-9bc65deb51a6",
     "showTitle": true,
     "tableResultSettingsMap": {},
     "title": "pyspark"
    }
   },
   "outputs": [],
   "source": [
    "#Databricks-specific\n",
    "#import dataBricksConfig as db\n",
    "from pyspark.sql import SparkSession\n",
    "spark = SparkSession.builder.appName(\"eqSQL\").getOrCreate()"
   ]
  },
  {
   "cell_type": "code",
   "execution_count": 0,
   "metadata": {
    "application/vnd.databricks.v1+cell": {
     "cellMetadata": {
      "byteLimit": 2048000,
      "rowLimit": 10000
     },
     "inputWidgets": {},
     "nuid": "732391bb-8d33-4ac8-a2d7-4a7efc617715",
     "showTitle": true,
     "tableResultSettingsMap": {},
     "title": "imports"
    }
   },
   "outputs": [
    {
     "output_type": "display_data",
     "data": {
      "application/vnd.databricks.v1+h3_hint": "",
      "text/plain": []
     },
     "metadata": {},
     "output_type": "display_data"
    }
   ],
   "source": [
    "import numpy as np\n",
    "import pandas as pd\n",
    "import os\n",
    "import gistMC as gi\n",
    "import eqSQL as es\n",
    "import matplotlib.pyplot as plt\n",
    "import seaborn as sns\n",
    "import geopandas\n",
    "#import contextily as cx"
   ]
  },
  {
   "cell_type": "code",
   "execution_count": 0,
   "metadata": {
    "application/vnd.databricks.v1+cell": {
     "cellMetadata": {
      "byteLimit": 2048000,
      "rowLimit": 10000
     },
     "inputWidgets": {},
     "nuid": "f363a4c7-dd42-4e22-a888-cbf75b53ad45",
     "showTitle": false,
     "tableResultSettingsMap": {},
     "title": ""
    }
   },
   "outputs": [],
   "source": [
    "import gistPlots as gp"
   ]
  },
  {
   "cell_type": "markdown",
   "metadata": {
    "application/vnd.databricks.v1+cell": {
     "cellMetadata": {
      "byteLimit": 2048000,
      "rowLimit": 10000
     },
     "inputWidgets": {},
     "nuid": "83eacea1-ee6c-412e-86e8-eb0062d6a40c",
     "showTitle": false,
     "tableResultSettingsMap": {},
     "title": ""
    }
   },
   "source": [
    "#1. Select Event"
   ]
  },
  {
   "cell_type": "code",
   "execution_count": 0,
   "metadata": {
    "application/vnd.databricks.v1+cell": {
     "cellMetadata": {
      "byteLimit": 2048000,
      "rowLimit": 10000
     },
     "inputWidgets": {},
     "nuid": "29556f3e-cfbc-4eb2-aac0-ffdd3b050893",
     "showTitle": true,
     "tableResultSettingsMap": {},
     "title": "Input TexNet Event ID (1.1)"
    }
   },
   "outputs": [],
   "source": [
    "eventID='texnet2025agkw'\n",
    "forecastYears=3."
   ]
  },
  {
   "cell_type": "code",
   "execution_count": 0,
   "metadata": {
    "application/vnd.databricks.v1+cell": {
     "cellMetadata": {
      "byteLimit": 2048000,
      "rowLimit": 10000
     },
     "inputWidgets": {},
     "nuid": "d60eb1f0-2056-49e5-94c6-5927832497b4",
     "showTitle": true,
     "tableResultSettingsMap": {},
     "title": "Create Output Path for Event (1.2)"
    }
   },
   "outputs": [],
   "source": [
    "runPath=gistPath+'/runs/'+eventID+'/'"
   ]
  },
  {
   "cell_type": "code",
   "execution_count": 0,
   "metadata": {
    "application/vnd.databricks.v1+cell": {
     "cellMetadata": {
      "byteLimit": 2048000,
      "rowLimit": 10000
     },
     "inputWidgets": {},
     "nuid": "57a3cca2-ed2c-4c68-852b-7afa1f5fdaa0",
     "showTitle": true,
     "tableResultSettingsMap": {},
     "title": "Output Earthquake (1.4)"
    }
   },
   "outputs": [
    {
     "output_type": "stream",
     "name": "stdout",
     "output_type": "stream",
     "text": [
      "Unnamed: 0                                               0\nSeismicEventId                                     2743652\nDataSource                       TexNet Earthquake Catalog\nDataSourceUrl                                          NaN\nEventID                                     texnet2025agkw\nEventTimeUtc                           2025-01-04 12:16:53\nEventTimeInLocalTimeZone              2025-01-04T06:16:53Z\nEventTimeZone                                          CST\nEventType                                       Earthquake\nDepthKm                                           7.202148\nDepthErrorKm                                      0.593583\nMagnitude                                         1.401685\nMagnitudeError                                         NaN\nMagnitudeType                                   ml(texnet)\nLocation                                     Western Texas\nStatus                                               final\nLatitude                                         32.289734\nLatitudeError                                     0.283248\nLongitude                                       -101.79771\nLongitudeError                                    0.240497\nUpdatedDateUtc                         2025-01-06 15:30:10\nStationCount                                            33\nRMS                                               0.086164\nRMS_p                                                  NaN\nRMS_s                                                  NaN\nFocalMechanismAzimuthalGap                             NaN\nCounty                                         Martin (TX)\nState                                                Texas\nDuplicateSetId                                        4646\nRankWithinDuplicateSet                                   1\nB3RecordAddedUTCDateTime               2025-01-06 16:11:15\nB3RecordUpdatedUTCDateTime             2025-04-05 08:07:28\nB3RecordDeletedUTCDateTime                             NaN\nOrigin Date                                     2025-01-04\nOrigin Time                                       12:16:53\ngeometry                      POINT (-101.79771 32.289734)\nStrike                                                80.0\nDip                                                   55.0\nRake                                                 -85.0\nName: 0, dtype: object\n"
     ]
    }
   ],
   "source": [
    "EQ=pd.read_csv(runPath+'EQ.csv').loc[0]\n",
    "print(EQ)"
   ]
  },
  {
   "cell_type": "markdown",
   "metadata": {
    "application/vnd.databricks.v1+cell": {
     "cellMetadata": {
      "byteLimit": 2048000,
      "rowLimit": 10000
     },
     "inputWidgets": {},
     "nuid": "41d31cc5-0dad-4f64-a0ad-66225f6ae397",
     "showTitle": false,
     "tableResultSettingsMap": {},
     "title": ""
    }
   },
   "source": [
    "#2. Initial Run"
   ]
  },
  {
   "cell_type": "markdown",
   "metadata": {
    "application/vnd.databricks.v1+cell": {
     "cellMetadata": {
      "byteLimit": 2048000,
      "rowLimit": 10000
     },
     "inputWidgets": {},
     "nuid": "33bedbfc-3c55-458b-9024-9523dec9d858",
     "showTitle": false,
     "tableResultSettingsMap": {},
     "title": ""
    }
   },
   "source": [
    "##2.1 Subsurface Model Parameters"
   ]
  },
  {
   "cell_type": "markdown",
   "metadata": {
    "application/vnd.databricks.v1+cell": {
     "cellMetadata": {
      "byteLimit": 2048000,
      "rowLimit": 10000
     },
     "inputWidgets": {},
     "nuid": "8c1e59e0-8d99-4372-9269-dafe823c3521",
     "showTitle": false,
     "tableResultSettingsMap": {},
     "title": ""
    }
   },
   "source": [
    "###Inputs:"
   ]
  },
  {
   "cell_type": "code",
   "execution_count": 0,
   "metadata": {
    "application/vnd.databricks.v1+cell": {
     "cellMetadata": {
      "byteLimit": 2048000,
      "rowLimit": 10000
     },
     "inputWidgets": {},
     "nuid": "014c924f-71fd-42be-832d-ff5697350e89",
     "showTitle": true,
     "tableResultSettingsMap": {},
     "title": "Load pickle of Step 2"
    }
   },
   "outputs": [],
   "source": []
  },
  {
   "cell_type": "code",
   "execution_count": 0,
   "metadata": {
    "application/vnd.databricks.v1+cell": {
     "cellMetadata": {
      "byteLimit": 2048000,
      "rowLimit": 10000
     },
     "inputWidgets": {},
     "nuid": "fa86e866-ce36-4367-b2f6-cd78fcc54b4e",
     "showTitle": true,
     "tableResultSettingsMap": {},
     "title": "Depth Interval (Deep/Shallow)"
    }
   },
   "outputs": [],
   "source": [
    "# Binary deep/shallow parameter\n",
    "deepOrShallow='Deep'\n",
    "# Depth from surface (ft)\n",
    "# Distinguishes deep/shallow where we don't have a horizon \n",
    "depthCutoff=8000."
   ]
  },
  {
   "cell_type": "code",
   "execution_count": 0,
   "metadata": {
    "application/vnd.databricks.v1+cell": {
     "cellMetadata": {
      "byteLimit": 2048000,
      "rowLimit": 10000
     },
     "inputWidgets": {},
     "nuid": "5eac1e6f-a489-46ea-9e08-aaa35509f3fe",
     "showTitle": true,
     "tableResultSettingsMap": {},
     "title": "Monte-Carlo Parameters"
    }
   },
   "outputs": [],
   "source": [
    "nRealizations=500"
   ]
  },
  {
   "cell_type": "code",
   "execution_count": 0,
   "metadata": {
    "application/vnd.databricks.v1+cell": {
     "cellMetadata": {
      "byteLimit": 2048000,
      "rowLimit": 10000
     },
     "inputWidgets": {},
     "nuid": "a92b5ecc-ee98-4077-8e0b-c95a42deea53",
     "showTitle": true,
     "tableResultSettingsMap": {},
     "title": "Fluid Properties"
    }
   },
   "outputs": [],
   "source": [
    "# Water density minimum/maximum (kg/m3)\n",
    "WaterDensityMin=1015.\n",
    "WaterDensityMax=1025.\n",
    "# Water viscosity minimum/maximum (Pa.s)\n",
    "WaterViscosityMin=0.000799\n",
    "WaterViscosityMax=0.000801\n",
    "# Fluid Compressibility minimum/maximum (1/Pa)\n",
    "FluidCompressibilityMin=0.000000000359\n",
    "FluidCompressibilityMax=0.000000000361"
   ]
  },
  {
   "cell_type": "code",
   "execution_count": 0,
   "metadata": {
    "application/vnd.databricks.v1+cell": {
     "cellMetadata": {
      "byteLimit": 2048000,
      "rowLimit": 10000
     },
     "inputWidgets": {},
     "nuid": "d58e0474-d42e-49be-94ae-633087760772",
     "showTitle": true,
     "tableResultSettingsMap": {},
     "title": "Depth Interval Properties"
    }
   },
   "outputs": [],
   "source": [
    "# Porosity in percent\n",
    "PorosityPercentMin=3.\n",
    "PorosityPercentMax=15.\n",
    "\n",
    "# Permeability in millidarcies\n",
    "PermMDMin=3.\n",
    "PermMDMax=1000.\n",
    "\n",
    "# Thickness in feet\n",
    "ThicknessFTMin=700.\n",
    "ThicknessFTMax=2000.\n",
    "\n",
    "# Vertical compressibility minimum/maximum (1/Pa)\n",
    "VerticalCompressibilityMin=0.00000000107\n",
    "VerticalCompressibilityMax=0.00000000005"
   ]
  },
  {
   "cell_type": "code",
   "execution_count": 0,
   "metadata": {
    "application/vnd.databricks.v1+cell": {
     "cellMetadata": {
      "byteLimit": 2048000,
      "rowLimit": 10000
     },
     "inputWidgets": {},
     "nuid": "17c599c7-20e2-4a5f-9e30-737f6b236831",
     "showTitle": true,
     "tableResultSettingsMap": {},
     "title": "Well Contribution Filtering Parameters"
    }
   },
   "outputs": [],
   "source": [
    "# Verbosity - 0=silent, 1=some, 2=lots\n",
    "verb=0\n",
    "# Minimum Pressure change to care about in PSI\n",
    "dPCutoff=0.5\n",
    "# Maximum Number of wells to plot\n",
    "nWells=50\n",
    "# How far back in time to plot in years\n",
    "minYear=1983"
   ]
  },
  {
   "cell_type": "markdown",
   "metadata": {
    "application/vnd.databricks.v1+cell": {
     "cellMetadata": {
      "byteLimit": 2048000,
      "rowLimit": 10000
     },
     "inputWidgets": {},
     "nuid": "9237e4af-4e41-491b-add8-8b182193f2e7",
     "showTitle": false,
     "tableResultSettingsMap": {},
     "title": ""
    }
   },
   "source": [
    "### Set Interval-Specific Paths...\n"
   ]
  },
  {
   "cell_type": "code",
   "execution_count": 0,
   "metadata": {
    "application/vnd.databricks.v1+cell": {
     "cellMetadata": {
      "byteLimit": 2048000,
      "rowLimit": 10000
     },
     "inputWidgets": {},
     "nuid": "1ad711f6-8be1-4dfe-80dd-e64126d0aadc",
     "showTitle": true,
     "tableResultSettingsMap": {},
     "title": "Create Subdirectory for Interval in EQ Directory"
    }
   },
   "outputs": [],
   "source": [
    "# Set an output directory for this earthquake and this interval\n",
    "runIntervalPath=runPath+deepOrShallow+'/'\n",
    "initialRunIntervalPath=runIntervalPath+'initialRun/'\n",
    "updatedRunIntervalPath=runIntervalPath+'udpatedRun/'\n",
    "forecastRunIntervalPath=runIntervalPath+'forecastRun/'\n",
    "disposalPath=runIntervalPath+'updatedDisposal/'\n",
    "################################################\n",
    "# Output prefix for realizations of parameters #\n",
    "################################################\n",
    "RealizationPrefix=runIntervalPath+'MC'"
   ]
  },
  {
   "cell_type": "code",
   "execution_count": 0,
   "metadata": {
    "application/vnd.databricks.v1+cell": {
     "cellMetadata": {
      "byteLimit": 2048000,
      "rowLimit": 10000
     },
     "inputWidgets": {},
     "nuid": "7b3f2312-434f-4dc7-a7d1-dc7a2717a900",
     "showTitle": true,
     "tableResultSettingsMap": {},
     "title": "Point to disposal data for the chosen interval"
    }
   },
   "outputs": [],
   "source": [
    "# Point to appropriate well and injection files from initial database\n",
    "if deepOrShallow=='Deep':\n",
    "  defaultWellFile=injPath+'/deep.csv'\n",
    "  defaultInjFile=injPath+'/deepReg.csv'\n",
    "elif deepOrShallow=='Shallow':\n",
    "  defaultWellFile=injPath+'/shallow.csv'\n",
    "  defaultInjFile=injPath+'/shallowReg.csv'"
   ]
  },
  {
   "cell_type": "markdown",
   "metadata": {
    "application/vnd.databricks.v1+cell": {
     "cellMetadata": {
      "byteLimit": 2048000,
      "rowLimit": 10000
     },
     "inputWidgets": {},
     "nuid": "61b8015e-aa08-4602-a74d-7e156b85d725",
     "showTitle": false,
     "tableResultSettingsMap": {},
     "title": ""
    }
   },
   "source": [
    "##2.2 Results"
   ]
  },
  {
   "cell_type": "markdown",
   "metadata": {
    "application/vnd.databricks.v1+cell": {
     "cellMetadata": {
      "byteLimit": 2048000,
      "rowLimit": 10000
     },
     "inputWidgets": {},
     "nuid": "b9911a2e-abbe-48fa-beb3-db4bc2a8727a",
     "showTitle": false,
     "tableResultSettingsMap": {},
     "title": ""
    }
   },
   "source": [
    "###Compute"
   ]
  },
  {
   "cell_type": "markdown",
   "metadata": {
    "application/vnd.databricks.v1+cell": {
     "cellMetadata": {
      "byteLimit": 2048000,
      "rowLimit": 10000
     },
     "inputWidgets": {},
     "nuid": "e705ce0b-75fc-4cc7-94cc-b48bc90f2107",
     "showTitle": false,
     "tableResultSettingsMap": {},
     "title": ""
    }
   },
   "source": [
    "###Output"
   ]
  },
  {
   "cell_type": "markdown",
   "metadata": {
    "application/vnd.databricks.v1+cell": {
     "cellMetadata": {
      "byteLimit": 2048000,
      "rowLimit": 10000
     },
     "inputWidgets": {},
     "nuid": "b4236692-cbfc-40d2-b8aa-b3d415ba491c",
     "showTitle": false,
     "tableResultSettingsMap": {},
     "title": ""
    }
   },
   "source": [
    "#3. Correct Data"
   ]
  },
  {
   "cell_type": "markdown",
   "metadata": {
    "application/vnd.databricks.v1+cell": {
     "cellMetadata": {
      "byteLimit": 2048000,
      "rowLimit": 10000
     },
     "inputWidgets": {},
     "nuid": "e1fb4fa0-ef2d-4067-9f96-2a9a1f17ecf7",
     "showTitle": false,
     "tableResultSettingsMap": {},
     "title": ""
    }
   },
   "source": [
    "##3.1 Export Disposal Data"
   ]
  },
  {
   "cell_type": "markdown",
   "metadata": {
    "application/vnd.databricks.v1+cell": {
     "cellMetadata": {
      "byteLimit": 2048000,
      "rowLimit": 10000
     },
     "inputWidgets": {},
     "nuid": "f35e0dd5-e4ea-4a7b-833a-77ea28f21e88",
     "showTitle": false,
     "tableResultSettingsMap": {},
     "title": ""
    }
   },
   "source": [
    "##3.2 Import Updated Disposal Data"
   ]
  },
  {
   "cell_type": "code",
   "execution_count": 0,
   "metadata": {
    "application/vnd.databricks.v1+cell": {
     "cellMetadata": {
      "byteLimit": 2048000,
      "rowLimit": 10000
     },
     "inputWidgets": {},
     "nuid": "1783e6ae-d1a7-429e-805d-eca0ff129691",
     "showTitle": true,
     "tableResultSettingsMap": {},
     "title": "Read and parse updated disposal data"
    }
   },
   "outputs": [],
   "source": [
    "\n",
    "#udpatedSelectedWellsDF=pd.read_csv(disposalPath+'selectedWells.csv')\n",
    "#updatedIgnoredWellsDF=pd.read_csv(disposalPath+'ignoredWells.csv')\n",
    "updatedWellsFile=disposalPath+'allInZoneWells.csv'\n",
    "updatedInjFile=disposalPath+'updatedInj.csv'"
   ]
  },
  {
   "cell_type": "code",
   "execution_count": 0,
   "metadata": {
    "application/vnd.databricks.v1+cell": {
     "cellMetadata": {
      "byteLimit": 2048000,
      "rowLimit": 10000
     },
     "inputWidgets": {},
     "nuid": "f0ee5cb4-326f-49bd-ac16-cf403e40d6f6",
     "showTitle": false,
     "tableResultSettingsMap": {},
     "title": ""
    }
   },
   "outputs": [],
   "source": [
    "# I need to merge the updated disposal information with the prior stuff\n",
    "# Load updated injection file\n",
    "# Well comparisons\n",
    "# Get list of well IDs in the updated injection file\n",
    "# Get list of well IDs in updated well file\n",
    "# Check to see overlap in well IDs\n",
    "#    updated vs. prior selected wells\n",
    "#    updated vs. prior ignored wells\n",
    "# FilteredIgnored =  prior ignored wells - (wells in updated file and prior ignored wells)\n",
    "# Merge FilteredIgnored with with updated wells\n",
    "# Load injection\n",
    "#    Check for time sampling of injection - all wells must be the same\n",
    "#    Get overall time vector - convert to days\n",
    "#    Loop over wells in well file\n",
    "#      Get all disposal data for well ID\n",
    "#      Convert date values to days\n",
    "#      \n",
    "#mergedInjFile="
   ]
  },
  {
   "cell_type": "markdown",
   "metadata": {
    "application/vnd.databricks.v1+cell": {
     "cellMetadata": {
      "byteLimit": 2048000,
      "rowLimit": 10000
     },
     "inputWidgets": {},
     "nuid": "271df2d4-d03f-4b61-b2c2-2d5e6ad96283",
     "showTitle": false,
     "tableResultSettingsMap": {},
     "title": ""
    }
   },
   "source": [
    "#4. Updated Analysis"
   ]
  },
  {
   "cell_type": "markdown",
   "metadata": {
    "application/vnd.databricks.v1+cell": {
     "cellMetadata": {
      "byteLimit": 2048000,
      "rowLimit": 10000
     },
     "inputWidgets": {},
     "nuid": "47c7fb9b-5d44-4aca-b43d-855b46b7fc7c",
     "showTitle": false,
     "tableResultSettingsMap": {},
     "title": ""
    }
   },
   "source": [
    "##4.1 Refined Parameters"
   ]
  },
  {
   "cell_type": "code",
   "execution_count": 0,
   "metadata": {
    "application/vnd.databricks.v1+cell": {
     "cellMetadata": {
      "byteLimit": 2048000,
      "rowLimit": 10000
     },
     "inputWidgets": {},
     "nuid": "35eb463b-4497-4ad3-b249-050861763c84",
     "showTitle": false,
     "tableResultSettingsMap": {},
     "title": ""
    }
   },
   "outputs": [],
   "source": [
    "UpdatednRealizations=400"
   ]
  },
  {
   "cell_type": "code",
   "execution_count": 0,
   "metadata": {
    "application/vnd.databricks.v1+cell": {
     "cellMetadata": {
      "byteLimit": 2048000,
      "rowLimit": 10000
     },
     "inputWidgets": {},
     "nuid": "8bbf99d0-971f-405e-ac12-0436bd30d4c5",
     "showTitle": false,
     "tableResultSettingsMap": {},
     "title": ""
    }
   },
   "outputs": [],
   "source": [
    "# Porosity in percent\n",
    "UpdatedPorosityPercentMin=4.\n",
    "UpdatedPorosityPercentMax=10.\n",
    "\n",
    "# Permeability in millidarcies\n",
    "UpdatedPermMDMin=3.\n",
    "UpdatedPermMDMax=1000.\n",
    "\n",
    "# Thickness in feet\n",
    "UpdatedThicknessFTMin=800.\n",
    "UpdatedThicknessFTMax=1200.\n",
    "# Young's modulus from Stanton model = 11.25GPa - somwhere between 9.5 and 12\n",
    "# Poisson's Ratio - 0.303 = between 0.31 and 0.30\n",
    "# Compressibility = 3(1-2v)/E =\n",
    "# Low side = 3(1- 2 x 0.30)/9500000000 = 1.2 / 9500000000 = 0.000000000126\n",
    "# High side = 3(1 - 2 x 0.31)/12000000000 = 1.14/12000000000 = 0.000000000095\n",
    "# Vertical compressibility minimum/maximum (1/Pa)\n",
    "# Increase the high side to match what is in FSP - I might be off by 10x but it doesn't matter!\n",
    "UpdatedVerticalCompressibilityMin=0.000000000095\n",
    "UpdatedVerticalCompressibilityMax=0.00000000126"
   ]
  },
  {
   "cell_type": "code",
   "execution_count": 0,
   "metadata": {
    "application/vnd.databricks.v1+cell": {
     "cellMetadata": {
      "byteLimit": 2048000,
      "rowLimit": 10000
     },
     "inputWidgets": {},
     "nuid": "b868997f-6c3a-48bb-85a8-ac8ad18bc1ac",
     "showTitle": false,
     "tableResultSettingsMap": {},
     "title": ""
    }
   },
   "outputs": [],
   "source": [
    "# Verbosity - 0=silent, 1=some, 2=lots\n",
    "verb=0\n",
    "# Minimum Pressure change to care about in PSI\n",
    "dPCutoff=1.\n",
    "# Maximum Number of wells to plot\n",
    "nWells=50"
   ]
  },
  {
   "cell_type": "code",
   "execution_count": 0,
   "metadata": {
    "application/vnd.databricks.v1+cell": {
     "cellMetadata": {
      "byteLimit": 2048000,
      "rowLimit": 10000
     },
     "inputWidgets": {},
     "nuid": "3e60dcff-1a4e-4700-baa5-fb782268adf3",
     "showTitle": false,
     "tableResultSettingsMap": {},
     "title": ""
    }
   },
   "outputs": [],
   "source": [
    "gist2=gi.gistMC(nReal=UpdatednRealizations)\n",
    "gist2.initPP(rho0_min=WaterDensityMin,\n",
    "             rho0_max=WaterDensityMax,\n",
    "             phi_min=UpdatedPorosityPercentMin,\n",
    "             phi_max=UpdatedPorosityPercentMax,\n",
    "             kMD_min=UpdatedPermMDMin,\n",
    "             kMD_max=UpdatedPermMDMax,\n",
    "             h_min=UpdatedThicknessFTMin,\n",
    "             h_max=UpdatedThicknessFTMax,\n",
    "             alphav_min=UpdatedVerticalCompressibilityMin,\n",
    "             alphav_max=UpdatedVerticalCompressibilityMax,\n",
    "             beta_min=FluidCompressibilityMin,\n",
    "             beta_max=FluidCompressibilityMax)\n",
    "gist2.writeRealizations(updatedRunIntervalPath+'PorePressureRealizations.csv')"
   ]
  },
  {
   "cell_type": "markdown",
   "metadata": {
    "application/vnd.databricks.v1+cell": {
     "cellMetadata": {
      "byteLimit": 2048000,
      "rowLimit": 10000
     },
     "inputWidgets": {},
     "nuid": "b4a85775-2c94-4974-bbba-f870e73ffaf3",
     "showTitle": false,
     "tableResultSettingsMap": {},
     "title": ""
    }
   },
   "source": [
    "##4.2 Updated Disposal Rates"
   ]
  },
  {
   "cell_type": "code",
   "execution_count": 0,
   "metadata": {
    "application/vnd.databricks.v1+cell": {
     "cellMetadata": {
      "byteLimit": 2048000,
      "rowLimit": 10000
     },
     "inputWidgets": {},
     "nuid": "b89350ab-7c92-4d61-910f-2cb36fffc3b4",
     "showTitle": false,
     "tableResultSettingsMap": {},
     "title": ""
    }
   },
   "outputs": [],
   "source": [
    "gist2.addWells(userWellFile=updatedWellsFile,userInjFile=updatedInjFile,verbose=verb)"
   ]
  },
  {
   "cell_type": "code",
   "execution_count": 0,
   "metadata": {
    "application/vnd.databricks.v1+cell": {
     "cellMetadata": {
      "byteLimit": 2048000,
      "rowLimit": 10000
     },
     "inputWidgets": {},
     "nuid": "11a88d17-8463-4caf-bf81-b1c8450c9725",
     "showTitle": false,
     "tableResultSettingsMap": {},
     "title": ""
    }
   },
   "outputs": [
    {
     "output_type": "stream",
     "name": "stdout",
     "output_type": "stream",
     "text": [
      "gistMC.findWells:  Selecting  2250  and excluding  613  wells\n gistMC.findWells included:  2250 1258 2250\n gistMC.findWells excluded:  613 76 613\n gistMC.findWells:  2250  wells considered\n gistMC.findWells:  1258  wells with reported volumes, with  892875  injection values\n"
     ]
    }
   ],
   "source": [
    "updatedSelectedWellsDF,updatedIgnoredWellsDF,updatedInjDF=gist2.findWells(EQ,PE=False,responseYears=forecastYears,verbose=1)"
   ]
  },
  {
   "cell_type": "markdown",
   "metadata": {
    "application/vnd.databricks.v1+cell": {
     "cellMetadata": {
      "byteLimit": 2048000,
      "rowLimit": 10000
     },
     "inputWidgets": {},
     "nuid": "0669b1a8-331d-44f3-8a69-e4931e02493e",
     "showTitle": false,
     "tableResultSettingsMap": {},
     "title": ""
    }
   },
   "source": [
    "##4.3 Updated Run"
   ]
  },
  {
   "cell_type": "code",
   "execution_count": 0,
   "metadata": {
    "application/vnd.databricks.v1+cell": {
     "cellMetadata": {
      "byteLimit": 2048000,
      "rowLimit": 10000
     },
     "inputWidgets": {},
     "nuid": "d5a5d94a-f610-478a-b07f-7715bacca9e7",
     "showTitle": false,
     "tableResultSettingsMap": {},
     "title": ""
    }
   },
   "outputs": [],
   "source": [
    "updatedScenarioDF=gist2.runPressureScenarios(EQ,updatedSelectedWellsDF,updatedInjDF,verbose=verb)\n",
    "updatedScenarioDF.to_csv(updatedRunIntervalPath+'scenarios.csv')"
   ]
  },
  {
   "cell_type": "code",
   "execution_count": 0,
   "metadata": {
    "application/vnd.databricks.v1+cell": {
     "cellMetadata": {
      "byteLimit": 2048000,
      "rowLimit": 10000
     },
     "inputWidgets": {},
     "nuid": "3045eb82-ac11-4e8c-9360-31b9bbda040d",
     "showTitle": false,
     "tableResultSettingsMap": {},
     "title": ""
    }
   },
   "outputs": [],
   "source": [
    "#updatedScenarioTestDF=gist2.runPressureScenariosVectorized(EQ,updatedSelectedWellsDF,updatedInjDF,verbose=verb)"
   ]
  },
  {
   "cell_type": "code",
   "execution_count": 0,
   "metadata": {
    "application/vnd.databricks.v1+cell": {
     "cellMetadata": {
      "byteLimit": 2048000,
      "rowLimit": 10000
     },
     "inputWidgets": {},
     "nuid": "a6ffddf9-77dc-4bd0-b40e-b58b722b1b64",
     "showTitle": false,
     "tableResultSettingsMap": {},
     "title": ""
    }
   },
   "outputs": [],
   "source": [
    "updatedFilteredDF,updatedOrderedWellIDList=gi.summarizePPResults(updatedScenarioDF,updatedSelectedWellsDF,threshold=dPCutoff,nOrder=nWells,verbose=verb)\n",
    "pd.Series(data=updatedOrderedWellIDList).to_csv(updatedRunIntervalPath+'wellIDOrder.csv')\n",
    "updatedFilteredDF.to_csv(updatedRunIntervalPath+'filteredScenarios.csv')\n",
    "\n",
    "#\n",
    "updatedDisaggregationDF=gi.prepDisaggregationPlot(updatedFilteredDF,updatedOrderedWellIDList,jitter=0.1,verbose=0)\n",
    "updatedDisaggregationDF.to_csv(updatedRunIntervalPath+'disaggregation.csv')\n",
    "\n",
    "#\n",
    "updatedDiffRange=(min(gist2.diffPPVec),max(gist2.diffPPVec))\n",
    "updatedrtDF,updatedMergedWellsDF = gi.prepRTPlot(updatedSelectedWellsDF,updatedIgnoredWellsDF,str(minYear),updatedDiffRange,EQ,clipYear=False)\n",
    "updatedMergedWellsDF.to_csv(updatedRunIntervalPath+'RTwells.csv')\n",
    "updatedrtDF.to_csv(updatedRunIntervalPath+'RTDF.csv')\n",
    "\n",
    "# Generate input for tire series code\n",
    "updatedWinWellsDF,updatedWinInjDF=gi.getWinWells(updatedFilteredDF,updatedSelectedWellsDF,updatedInjDF)"
   ]
  },
  {
   "cell_type": "code",
   "execution_count": 0,
   "metadata": {
    "application/vnd.databricks.v1+cell": {
     "cellMetadata": {
      "byteLimit": 2048000,
      "rowLimit": 10000
     },
     "inputWidgets": {},
     "nuid": "115e5b8f-909a-4b0c-abdd-b207299c31c0",
     "showTitle": false,
     "tableResultSettingsMap": {},
     "title": ""
    }
   },
   "outputs": [],
   "source": [
    "updatedScenarioTSRDF,updatedDPTimeSeriesR,updatedWellIDsR,updatedDayVecR = gist2.runPressureScenariosTimeSeries(EQ,updatedWinWellsDF,updatedWinInjDF,verbose=verb)"
   ]
  },
  {
   "cell_type": "code",
   "execution_count": 0,
   "metadata": {
    "application/vnd.databricks.v1+cell": {
     "cellMetadata": {
      "byteLimit": 2048000,
      "rowLimit": 10000
     },
     "inputWidgets": {},
     "nuid": "b6b6f222-e423-41cd-b2ff-c304466f8809",
     "showTitle": false,
     "tableResultSettingsMap": {},
     "title": ""
    }
   },
   "outputs": [
    {
     "output_type": "stream",
     "name": "stdout",
     "output_type": "stream",
     "text": [
      "prepTotalPressureTimeSeriesPlot: deltaPP.shape= (89, 400, 1503)  dayVec.shape= (1503,)\nprepTotalPressureTimeSeriesPlot: totalDeltaPP.shape= (400, 1503)\nprepTotalPressureTimeSeriesPlot: quantiles: [0.0, 10.0, 20.1, 30.1, 40.1, 50.1, 59.9, 69.9, 79.9, 90.0, 100.0]\n"
     ]
    }
   ],
   "source": [
    "updatedTotalPPQuantilesDF=gi.prepTotalPressureTimeSeriesQuantilesPlot(updatedDPTimeSeriesR,updatedDayVecR,nQuantiles=11,epoch=pd.to_datetime('1970-01-01'),verbose=1)"
   ]
  },
  {
   "cell_type": "code",
   "execution_count": 0,
   "metadata": {
    "application/vnd.databricks.v1+cell": {
     "cellMetadata": {
      "byteLimit": 2048000,
      "rowLimit": 10000
     },
     "inputWidgets": {},
     "nuid": "9ef3c660-1538-487b-9103-dc1bf2a2b52a",
     "showTitle": false,
     "tableResultSettingsMap": {},
     "title": ""
    }
   },
   "outputs": [
    {
     "output_type": "stream",
     "name": "stdout",
     "output_type": "stream",
     "text": [
      "prepTotalPressureTimeSeriesSpaghettiPlot: deltaPP.shape= (89, 400, 1503)  dayVec.shape= (1503,)\nprepTotalPressureTimeSeriesSpaghettiPlot: totalDeltaPP.shape= (400, 1503)\n"
     ]
    }
   ],
   "source": [
    "updatedTotalPPSpaghettiDF=gi.prepTotalPressureTimeSeriesSpaghettiPlot(updatedDPTimeSeriesR,updatedDayVecR,gist2.diffPPVec,epoch=pd.to_datetime('1970-01-01'),verbose=1)"
   ]
  },
  {
   "cell_type": "code",
   "execution_count": 0,
   "metadata": {
    "application/vnd.databricks.v1+cell": {
     "cellMetadata": {
      "byteLimit": 2048000,
      "rowLimit": 10000
     },
     "inputWidgets": {},
     "nuid": "92ffe848-eedc-4f39-a826-b97bebed7e63",
     "showTitle": false,
     "tableResultSettingsMap": {},
     "title": ""
    }
   },
   "outputs": [
    {
     "output_type": "stream",
     "name": "stdout",
     "output_type": "stream",
     "text": [
      "getPerWellPressureTimeSeriesQuantiles - sizes:  400 1503 89\ngetPerWellPressureTimeSeriesQuantiles - after argsort:  400 1503 89\ngetPerWellPressureTimeSeriesQuantiles - quantiles:  [0.0, 10.0, 20.1, 30.1, 40.1, 50.1, 59.9, 69.9, 79.9, 90.0, 100.0]\ngetPerWellPressureTimeSeriesQuantiles - well:  0  of  89\ngetPerWellPressureTimeSeriesQuantiles - array sizes:  (400, 1503) (400, 1503) (400, 1503)\ngetPerWellPressureTimeSeriesQuantiles - well:  1  of  89\ngetPerWellPressureTimeSeriesQuantiles - array sizes:  (400, 1503) (400, 1503) (400, 1503)\ngetPerWellPressureTimeSeriesQuantiles - well:  2  of  89\ngetPerWellPressureTimeSeriesQuantiles - array sizes:  (400, 1503) (400, 1503) (400, 1503)\ngetPerWellPressureTimeSeriesQuantiles - well:  3  of  89\ngetPerWellPressureTimeSeriesQuantiles - array sizes:  (400, 1503) (400, 1503) (400, 1503)\ngetPerWellPressureTimeSeriesQuantiles - well:  4  of  89\ngetPerWellPressureTimeSeriesQuantiles - array sizes:  (400, 1503) (400, 1503) (400, 1503)\ngetPerWellPressureTimeSeriesQuantiles - well:  5  of  89\ngetPerWellPressureTimeSeriesQuantiles - array sizes:  (400, 1503) (400, 1503) (400, 1503)\ngetPerWellPressureTimeSeriesQuantiles - well:  6  of  89\ngetPerWellPressureTimeSeriesQuantiles - array sizes:  (400, 1503) (400, 1503) (400, 1503)\ngetPerWellPressureTimeSeriesQuantiles - well:  7  of  89\ngetPerWellPressureTimeSeriesQuantiles - array sizes:  (400, 1503) (400, 1503) (400, 1503)\ngetPerWellPressureTimeSeriesQuantiles - well:  8  of  89\ngetPerWellPressureTimeSeriesQuantiles - array sizes:  (400, 1503) (400, 1503) (400, 1503)\ngetPerWellPressureTimeSeriesQuantiles - well:  9  of  89\ngetPerWellPressureTimeSeriesQuantiles - array sizes:  (400, 1503) (400, 1503) (400, 1503)\ngetPerWellPressureTimeSeriesQuantiles - well:  10  of  89\ngetPerWellPressureTimeSeriesQuantiles - array sizes:  (400, 1503) (400, 1503) (400, 1503)\ngetPerWellPressureTimeSeriesQuantiles - well:  11  of  89\ngetPerWellPressureTimeSeriesQuantiles - array sizes:  (400, 1503) (400, 1503) (400, 1503)\ngetPerWellPressureTimeSeriesQuantiles - well:  12  of  89\ngetPerWellPressureTimeSeriesQuantiles - array sizes:  (400, 1503) (400, 1503) (400, 1503)\ngetPerWellPressureTimeSeriesQuantiles - well:  13  of  89\ngetPerWellPressureTimeSeriesQuantiles - array sizes:  (400, 1503) (400, 1503) (400, 1503)\ngetPerWellPressureTimeSeriesQuantiles - well:  14  of  89\ngetPerWellPressureTimeSeriesQuantiles - array sizes:  (400, 1503) (400, 1503) (400, 1503)\ngetPerWellPressureTimeSeriesQuantiles - well:  15  of  89\ngetPerWellPressureTimeSeriesQuantiles - array sizes:  (400, 1503) (400, 1503) (400, 1503)\ngetPerWellPressureTimeSeriesQuantiles - well:  16  of  89\ngetPerWellPressureTimeSeriesQuantiles - array sizes:  (400, 1503) (400, 1503) (400, 1503)\ngetPerWellPressureTimeSeriesQuantiles - well:  17  of  89\ngetPerWellPressureTimeSeriesQuantiles - array sizes:  (400, 1503) (400, 1503) (400, 1503)\ngetPerWellPressureTimeSeriesQuantiles - well:  18  of  89\ngetPerWellPressureTimeSeriesQuantiles - array sizes:  (400, 1503) (400, 1503) (400, 1503)\ngetPerWellPressureTimeSeriesQuantiles - well:  19  of  89\ngetPerWellPressureTimeSeriesQuantiles - array sizes:  (400, 1503) (400, 1503) (400, 1503)\ngetPerWellPressureTimeSeriesQuantiles - well:  20  of  89\ngetPerWellPressureTimeSeriesQuantiles - array sizes:  (400, 1503) (400, 1503) (400, 1503)\ngetPerWellPressureTimeSeriesQuantiles - well:  21  of  89\ngetPerWellPressureTimeSeriesQuantiles - array sizes:  (400, 1503) (400, 1503) (400, 1503)\ngetPerWellPressureTimeSeriesQuantiles - well:  22  of  89\ngetPerWellPressureTimeSeriesQuantiles - array sizes:  (400, 1503) (400, 1503) (400, 1503)\ngetPerWellPressureTimeSeriesQuantiles - well:  23  of  89\ngetPerWellPressureTimeSeriesQuantiles - array sizes:  (400, 1503) (400, 1503) (400, 1503)\ngetPerWellPressureTimeSeriesQuantiles - well:  24  of  89\ngetPerWellPressureTimeSeriesQuantiles - array sizes:  (400, 1503) (400, 1503) (400, 1503)\ngetPerWellPressureTimeSeriesQuantiles - well:  25  of  89\ngetPerWellPressureTimeSeriesQuantiles - array sizes:  (400, 1503) (400, 1503) (400, 1503)\ngetPerWellPressureTimeSeriesQuantiles - well:  26  of  89\ngetPerWellPressureTimeSeriesQuantiles - array sizes:  (400, 1503) (400, 1503) (400, 1503)\ngetPerWellPressureTimeSeriesQuantiles - well:  27  of  89\ngetPerWellPressureTimeSeriesQuantiles - array sizes:  (400, 1503) (400, 1503) (400, 1503)\ngetPerWellPressureTimeSeriesQuantiles - well:  28  of  89\ngetPerWellPressureTimeSeriesQuantiles - array sizes:  (400, 1503) (400, 1503) (400, 1503)\ngetPerWellPressureTimeSeriesQuantiles - well:  29  of  89\ngetPerWellPressureTimeSeriesQuantiles - array sizes:  (400, 1503) (400, 1503) (400, 1503)\ngetPerWellPressureTimeSeriesQuantiles - well:  30  of  89\ngetPerWellPressureTimeSeriesQuantiles - array sizes:  (400, 1503) (400, 1503) (400, 1503)\ngetPerWellPressureTimeSeriesQuantiles - well:  31  of  89\ngetPerWellPressureTimeSeriesQuantiles - array sizes:  (400, 1503) (400, 1503) (400, 1503)\ngetPerWellPressureTimeSeriesQuantiles - well:  32  of  89\ngetPerWellPressureTimeSeriesQuantiles - array sizes:  (400, 1503) (400, 1503) (400, 1503)\ngetPerWellPressureTimeSeriesQuantiles - well:  33  of  89\ngetPerWellPressureTimeSeriesQuantiles - array sizes:  (400, 1503) (400, 1503) (400, 1503)\ngetPerWellPressureTimeSeriesQuantiles - well:  34  of  89\ngetPerWellPressureTimeSeriesQuantiles - array sizes:  (400, 1503) (400, 1503) (400, 1503)\ngetPerWellPressureTimeSeriesQuantiles - well:  35  of  89\ngetPerWellPressureTimeSeriesQuantiles - array sizes:  (400, 1503) (400, 1503) (400, 1503)\ngetPerWellPressureTimeSeriesQuantiles - well:  36  of  89\ngetPerWellPressureTimeSeriesQuantiles - array sizes:  (400, 1503) (400, 1503) (400, 1503)\ngetPerWellPressureTimeSeriesQuantiles - well:  37  of  89\ngetPerWellPressureTimeSeriesQuantiles - array sizes:  (400, 1503) (400, 1503) (400, 1503)\ngetPerWellPressureTimeSeriesQuantiles - well:  38  of  89\ngetPerWellPressureTimeSeriesQuantiles - array sizes:  (400, 1503) (400, 1503) (400, 1503)\ngetPerWellPressureTimeSeriesQuantiles - well:  39  of  89\ngetPerWellPressureTimeSeriesQuantiles - array sizes:  (400, 1503) (400, 1503) (400, 1503)\ngetPerWellPressureTimeSeriesQuantiles - well:  40  of  89\ngetPerWellPressureTimeSeriesQuantiles - array sizes:  (400, 1503) (400, 1503) (400, 1503)\ngetPerWellPressureTimeSeriesQuantiles - well:  41  of  89\ngetPerWellPressureTimeSeriesQuantiles - array sizes:  (400, 1503) (400, 1503) (400, 1503)\ngetPerWellPressureTimeSeriesQuantiles - well:  42  of  89\ngetPerWellPressureTimeSeriesQuantiles - array sizes:  (400, 1503) (400, 1503) (400, 1503)\ngetPerWellPressureTimeSeriesQuantiles - well:  43  of  89\ngetPerWellPressureTimeSeriesQuantiles - array sizes:  (400, 1503) (400, 1503) (400, 1503)\ngetPerWellPressureTimeSeriesQuantiles - well:  44  of  89\ngetPerWellPressureTimeSeriesQuantiles - array sizes:  (400, 1503) (400, 1503) (400, 1503)\ngetPerWellPressureTimeSeriesQuantiles - well:  45  of  89\ngetPerWellPressureTimeSeriesQuantiles - array sizes:  (400, 1503) (400, 1503) (400, 1503)\ngetPerWellPressureTimeSeriesQuantiles - well:  46  of  89\ngetPerWellPressureTimeSeriesQuantiles - array sizes:  (400, 1503) (400, 1503) (400, 1503)\ngetPerWellPressureTimeSeriesQuantiles - well:  47  of  89\ngetPerWellPressureTimeSeriesQuantiles - array sizes:  (400, 1503) (400, 1503) (400, 1503)\ngetPerWellPressureTimeSeriesQuantiles - well:  48  of  89\ngetPerWellPressureTimeSeriesQuantiles - array sizes:  (400, 1503) (400, 1503) (400, 1503)\ngetPerWellPressureTimeSeriesQuantiles - well:  49  of  89\ngetPerWellPressureTimeSeriesQuantiles - array sizes:  (400, 1503) (400, 1503) (400, 1503)\ngetPerWellPressureTimeSeriesQuantiles - well:  50  of  89\ngetPerWellPressureTimeSeriesQuantiles - array sizes:  (400, 1503) (400, 1503) (400, 1503)\ngetPerWellPressureTimeSeriesQuantiles - well:  51  of  89\ngetPerWellPressureTimeSeriesQuantiles - array sizes:  (400, 1503) (400, 1503) (400, 1503)\ngetPerWellPressureTimeSeriesQuantiles - well:  52  of  89\ngetPerWellPressureTimeSeriesQuantiles - array sizes:  (400, 1503) (400, 1503) (400, 1503)\ngetPerWellPressureTimeSeriesQuantiles - well:  53  of  89\ngetPerWellPressureTimeSeriesQuantiles - array sizes:  (400, 1503) (400, 1503) (400, 1503)\ngetPerWellPressureTimeSeriesQuantiles - well:  54  of  89\ngetPerWellPressureTimeSeriesQuantiles - array sizes:  (400, 1503) (400, 1503) (400, 1503)\ngetPerWellPressureTimeSeriesQuantiles - well:  55  of  89\ngetPerWellPressureTimeSeriesQuantiles - array sizes:  (400, 1503) (400, 1503) (400, 1503)\ngetPerWellPressureTimeSeriesQuantiles - well:  56  of  89\ngetPerWellPressureTimeSeriesQuantiles - array sizes:  (400, 1503) (400, 1503) (400, 1503)\ngetPerWellPressureTimeSeriesQuantiles - well:  57  of  89\ngetPerWellPressureTimeSeriesQuantiles - array sizes:  (400, 1503) (400, 1503) (400, 1503)\ngetPerWellPressureTimeSeriesQuantiles - well:  58  of  89\ngetPerWellPressureTimeSeriesQuantiles - array sizes:  (400, 1503) (400, 1503) (400, 1503)\ngetPerWellPressureTimeSeriesQuantiles - well:  59  of  89\ngetPerWellPressureTimeSeriesQuantiles - array sizes:  (400, 1503) (400, 1503) (400, 1503)\ngetPerWellPressureTimeSeriesQuantiles - well:  60  of  89\ngetPerWellPressureTimeSeriesQuantiles - array sizes:  (400, 1503) (400, 1503) (400, 1503)\ngetPerWellPressureTimeSeriesQuantiles - well:  61  of  89\ngetPerWellPressureTimeSeriesQuantiles - array sizes:  (400, 1503) (400, 1503) (400, 1503)\ngetPerWellPressureTimeSeriesQuantiles - well:  62  of  89\ngetPerWellPressureTimeSeriesQuantiles - array sizes:  (400, 1503) (400, 1503) (400, 1503)\ngetPerWellPressureTimeSeriesQuantiles - well:  63  of  89\ngetPerWellPressureTimeSeriesQuantiles - array sizes:  (400, 1503) (400, 1503) (400, 1503)\ngetPerWellPressureTimeSeriesQuantiles - well:  64  of  89\ngetPerWellPressureTimeSeriesQuantiles - array sizes:  (400, 1503) (400, 1503) (400, 1503)\ngetPerWellPressureTimeSeriesQuantiles - well:  65  of  89\ngetPerWellPressureTimeSeriesQuantiles - array sizes:  (400, 1503) (400, 1503) (400, 1503)\ngetPerWellPressureTimeSeriesQuantiles - well:  66  of  89\ngetPerWellPressureTimeSeriesQuantiles - array sizes:  (400, 1503) (400, 1503) (400, 1503)\ngetPerWellPressureTimeSeriesQuantiles - well:  67  of  89\ngetPerWellPressureTimeSeriesQuantiles - array sizes:  (400, 1503) (400, 1503) (400, 1503)\ngetPerWellPressureTimeSeriesQuantiles - well:  68  of  89\ngetPerWellPressureTimeSeriesQuantiles - array sizes:  (400, 1503) (400, 1503) (400, 1503)\ngetPerWellPressureTimeSeriesQuantiles - well:  69  of  89\ngetPerWellPressureTimeSeriesQuantiles - array sizes:  (400, 1503) (400, 1503) (400, 1503)\ngetPerWellPressureTimeSeriesQuantiles - well:  70  of  89\ngetPerWellPressureTimeSeriesQuantiles - array sizes:  (400, 1503) (400, 1503) (400, 1503)\ngetPerWellPressureTimeSeriesQuantiles - well:  71  of  89\ngetPerWellPressureTimeSeriesQuantiles - array sizes:  (400, 1503) (400, 1503) (400, 1503)\ngetPerWellPressureTimeSeriesQuantiles - well:  72  of  89\ngetPerWellPressureTimeSeriesQuantiles - array sizes:  (400, 1503) (400, 1503) (400, 1503)\ngetPerWellPressureTimeSeriesQuantiles - well:  73  of  89\ngetPerWellPressureTimeSeriesQuantiles - array sizes:  (400, 1503) (400, 1503) (400, 1503)\ngetPerWellPressureTimeSeriesQuantiles - well:  74  of  89\ngetPerWellPressureTimeSeriesQuantiles - array sizes:  (400, 1503) (400, 1503) (400, 1503)\ngetPerWellPressureTimeSeriesQuantiles - well:  75  of  89\ngetPerWellPressureTimeSeriesQuantiles - array sizes:  (400, 1503) (400, 1503) (400, 1503)\ngetPerWellPressureTimeSeriesQuantiles - well:  76  of  89\ngetPerWellPressureTimeSeriesQuantiles - array sizes:  (400, 1503) (400, 1503) (400, 1503)\ngetPerWellPressureTimeSeriesQuantiles - well:  77  of  89\ngetPerWellPressureTimeSeriesQuantiles - array sizes:  (400, 1503) (400, 1503) (400, 1503)\ngetPerWellPressureTimeSeriesQuantiles - well:  78  of  89\ngetPerWellPressureTimeSeriesQuantiles - array sizes:  (400, 1503) (400, 1503) (400, 1503)\ngetPerWellPressureTimeSeriesQuantiles - well:  79  of  89\ngetPerWellPressureTimeSeriesQuantiles - array sizes:  (400, 1503) (400, 1503) (400, 1503)\ngetPerWellPressureTimeSeriesQuantiles - well:  80  of  89\ngetPerWellPressureTimeSeriesQuantiles - array sizes:  (400, 1503) (400, 1503) (400, 1503)\ngetPerWellPressureTimeSeriesQuantiles - well:  81  of  89\ngetPerWellPressureTimeSeriesQuantiles - array sizes:  (400, 1503) (400, 1503) (400, 1503)\ngetPerWellPressureTimeSeriesQuantiles - well:  82  of  89\ngetPerWellPressureTimeSeriesQuantiles - array sizes:  (400, 1503) (400, 1503) (400, 1503)\ngetPerWellPressureTimeSeriesQuantiles - well:  83  of  89\ngetPerWellPressureTimeSeriesQuantiles - array sizes:  (400, 1503) (400, 1503) (400, 1503)\ngetPerWellPressureTimeSeriesQuantiles - well:  84  of  89\ngetPerWellPressureTimeSeriesQuantiles - array sizes:  (400, 1503) (400, 1503) (400, 1503)\ngetPerWellPressureTimeSeriesQuantiles - well:  85  of  89\ngetPerWellPressureTimeSeriesQuantiles - array sizes:  (400, 1503) (400, 1503) (400, 1503)\ngetPerWellPressureTimeSeriesQuantiles - well:  86  of  89\ngetPerWellPressureTimeSeriesQuantiles - array sizes:  (400, 1503) (400, 1503) (400, 1503)\ngetPerWellPressureTimeSeriesQuantiles - well:  87  of  89\ngetPerWellPressureTimeSeriesQuantiles - array sizes:  (400, 1503) (400, 1503) (400, 1503)\ngetPerWellPressureTimeSeriesQuantiles - well:  88  of  89\ngetPerWellPressureTimeSeriesQuantiles - array sizes:  (400, 1503) (400, 1503) (400, 1503)\n"
     ]
    }
   ],
   "source": [
    "updatedAllPPQuantilesDF=gi.getPerWellPressureTimeSeriesQuantiles(updatedDPTimeSeriesR,updatedDayVecR,updatedWellIDsR,nQuantiles=11,epoch=pd.to_datetime('01-01-1970'),verbose=2)"
   ]
  },
  {
   "cell_type": "code",
   "execution_count": 0,
   "metadata": {
    "application/vnd.databricks.v1+cell": {
     "cellMetadata": {
      "byteLimit": 2048000,
      "rowLimit": 10000
     },
     "inputWidgets": {},
     "nuid": "9be24264-be4b-4c91-990b-45b576558625",
     "showTitle": false,
     "tableResultSettingsMap": {},
     "title": ""
    }
   },
   "outputs": [],
   "source": [
    "updatedAllPPSpaghettiDF=gi.getPerWellPressureTimeSeriesSpaghetti(updatedDPTimeSeriesR,updatedDayVecR,gist2.diffPPVec,updatedWellIDsR,epoch=pd.to_datetime('01-01-1970'),verbose=2)"
   ]
  },
  {
   "cell_type": "code",
   "execution_count": 0,
   "metadata": {
    "application/vnd.databricks.v1+cell": {
     "cellMetadata": {
      "byteLimit": 2048000,
      "rowLimit": 10000
     },
     "inputWidgets": {},
     "nuid": "f26af4ec-731b-4782-82f4-e650155b07d8",
     "showTitle": false,
     "tableResultSettingsMap": {},
     "title": ""
    }
   },
   "outputs": [
    {
     "output_type": "display_data",
     "data": {
      "text/plain": [
       "com.databricks.backend.common.rpc.CommandCancelledException\n",
       "\tat com.databricks.spark.chauffeur.SequenceExecutionState.$anonfun$cancel$5(SequenceExecutionState.scala:136)\n",
       "\tat scala.Option.getOrElse(Option.scala:189)\n",
       "\tat com.databricks.spark.chauffeur.SequenceExecutionState.$anonfun$cancel$3(SequenceExecutionState.scala:136)\n",
       "\tat com.databricks.spark.chauffeur.SequenceExecutionState.$anonfun$cancel$3$adapted(SequenceExecutionState.scala:133)\n",
       "\tat scala.collection.immutable.Range.foreach(Range.scala:158)\n",
       "\tat com.databricks.spark.chauffeur.SequenceExecutionState.cancel(SequenceExecutionState.scala:133)\n",
       "\tat com.databricks.spark.chauffeur.ExecContextState.cancelRunningSequence(ExecContextState.scala:717)\n",
       "\tat com.databricks.spark.chauffeur.ExecContextState.$anonfun$cancel$1(ExecContextState.scala:435)\n",
       "\tat scala.Option.getOrElse(Option.scala:189)\n",
       "\tat com.databricks.spark.chauffeur.ExecContextState.cancel(ExecContextState.scala:435)\n",
       "\tat com.databricks.spark.chauffeur.ExecutionContextManagerV1.cancelExecution(ExecutionContextManagerV1.scala:458)\n",
       "\tat com.databricks.spark.chauffeur.ChauffeurState.$anonfun$process$1(ChauffeurState.scala:591)\n",
       "\tat com.databricks.logging.UsageLogging.$anonfun$recordOperation$1(UsageLogging.scala:507)\n",
       "\tat com.databricks.logging.UsageLogging.executeThunkAndCaptureResultTags$1(UsageLogging.scala:611)\n",
       "\tat com.databricks.logging.UsageLogging.$anonfun$recordOperationWithResultTags$4(UsageLogging.scala:631)\n",
       "\tat com.databricks.logging.AttributionContextTracing.$anonfun$withAttributionContext$1(AttributionContextTracing.scala:48)\n",
       "\tat com.databricks.logging.AttributionContext$.$anonfun$withValue$1(AttributionContext.scala:273)\n",
       "\tat scala.util.DynamicVariable.withValue(DynamicVariable.scala:62)\n",
       "\tat com.databricks.logging.AttributionContext$.withValue(AttributionContext.scala:269)\n",
       "\tat com.databricks.logging.AttributionContextTracing.withAttributionContext(AttributionContextTracing.scala:46)\n",
       "\tat com.databricks.logging.AttributionContextTracing.withAttributionContext$(AttributionContextTracing.scala:43)\n",
       "\tat com.databricks.spark.chauffeur.ChauffeurState.withAttributionContext(ChauffeurState.scala:62)\n",
       "\tat com.databricks.logging.AttributionContextTracing.withAttributionTags(AttributionContextTracing.scala:95)\n",
       "\tat com.databricks.logging.AttributionContextTracing.withAttributionTags$(AttributionContextTracing.scala:76)\n",
       "\tat com.databricks.spark.chauffeur.ChauffeurState.withAttributionTags(ChauffeurState.scala:62)\n",
       "\tat com.databricks.logging.UsageLogging.recordOperationWithResultTags(UsageLogging.scala:606)\n",
       "\tat com.databricks.logging.UsageLogging.recordOperationWithResultTags$(UsageLogging.scala:516)\n",
       "\tat com.databricks.spark.chauffeur.ChauffeurState.recordOperationWithResultTags(ChauffeurState.scala:62)\n",
       "\tat com.databricks.logging.UsageLogging.recordOperation(UsageLogging.scala:508)\n",
       "\tat com.databricks.logging.UsageLogging.recordOperation$(UsageLogging.scala:476)\n",
       "\tat com.databricks.spark.chauffeur.ChauffeurState.recordOperation(ChauffeurState.scala:62)\n",
       "\tat com.databricks.spark.chauffeur.ChauffeurState.process(ChauffeurState.scala:569)\n",
       "\tat com.databricks.spark.chauffeur.Chauffeur$$anon$1$$anonfun$receive$1.handleDriverRequest$1(Chauffeur.scala:851)\n",
       "\tat com.databricks.spark.chauffeur.Chauffeur$$anon$1$$anonfun$receive$1.$anonfun$applyOrElse$5(Chauffeur.scala:877)\n",
       "\tat com.databricks.logging.UsageLogging.executeThunkAndCaptureResultTags$1(UsageLogging.scala:611)\n",
       "\tat com.databricks.logging.UsageLogging.$anonfun$recordOperationWithResultTags$4(UsageLogging.scala:631)\n",
       "\tat com.databricks.logging.AttributionContextTracing.$anonfun$withAttributionContext$1(AttributionContextTracing.scala:48)\n",
       "\tat com.databricks.logging.AttributionContext$.$anonfun$withValue$1(AttributionContext.scala:273)\n",
       "\tat scala.util.DynamicVariable.withValue(DynamicVariable.scala:62)\n",
       "\tat com.databricks.logging.AttributionContext$.withValue(AttributionContext.scala:269)\n",
       "\tat com.databricks.logging.AttributionContextTracing.withAttributionContext(AttributionContextTracing.scala:46)\n",
       "\tat com.databricks.logging.AttributionContextTracing.withAttributionContext$(AttributionContextTracing.scala:43)\n",
       "\tat com.databricks.rpc.ServerBackend.withAttributionContext(ServerBackend.scala:23)\n",
       "\tat com.databricks.logging.AttributionContextTracing.withAttributionTags(AttributionContextTracing.scala:95)\n",
       "\tat com.databricks.logging.AttributionContextTracing.withAttributionTags$(AttributionContextTracing.scala:76)\n",
       "\tat com.databricks.rpc.ServerBackend.withAttributionTags(ServerBackend.scala:23)\n",
       "\tat com.databricks.logging.UsageLogging.recordOperationWithResultTags(UsageLogging.scala:606)\n",
       "\tat com.databricks.logging.UsageLogging.recordOperationWithResultTags$(UsageLogging.scala:516)\n",
       "\tat com.databricks.rpc.ServerBackend.recordOperationWithResultTags(ServerBackend.scala:23)\n",
       "\tat com.databricks.spark.chauffeur.Chauffeur$$anon$1$$anonfun$receive$1.handleDriverRequestWithUsageLogging$1(Chauffeur.scala:876)\n",
       "\tat com.databricks.spark.chauffeur.Chauffeur$$anon$1$$anonfun$receive$1.applyOrElse(Chauffeur.scala:931)\n",
       "\tat com.databricks.spark.chauffeur.Chauffeur$$anon$1$$anonfun$receive$1.applyOrElse(Chauffeur.scala:724)\n",
       "\tat com.databricks.rpc.ServerBackend.$anonfun$internalReceive0$2(ServerBackend.scala:175)\n",
       "\tat com.databricks.rpc.ServerBackend$$anonfun$commonReceive$1.applyOrElse(ServerBackend.scala:201)\n",
       "\tat com.databricks.rpc.ServerBackend$$anonfun$commonReceive$1.applyOrElse(ServerBackend.scala:201)\n",
       "\tat com.databricks.rpc.ServerBackend.internalReceive0(ServerBackend.scala:172)\n",
       "\tat com.databricks.rpc.ServerBackend.$anonfun$internalReceive$1(ServerBackend.scala:148)\n",
       "\tat com.databricks.logging.UsageLogging.$anonfun$recordOperation$1(UsageLogging.scala:507)\n",
       "\tat com.databricks.logging.UsageLogging.executeThunkAndCaptureResultTags$1(UsageLogging.scala:611)\n",
       "\tat com.databricks.logging.UsageLogging.$anonfun$recordOperationWithResultTags$4(UsageLogging.scala:631)\n",
       "\tat com.databricks.logging.AttributionContextTracing.$anonfun$withAttributionContext$1(AttributionContextTracing.scala:48)\n",
       "\tat com.databricks.logging.AttributionContext$.$anonfun$withValue$1(AttributionContext.scala:273)\n",
       "\tat scala.util.DynamicVariable.withValue(DynamicVariable.scala:62)\n",
       "\tat com.databricks.logging.AttributionContext$.withValue(AttributionContext.scala:269)\n",
       "\tat com.databricks.logging.AttributionContextTracing.withAttributionContext(AttributionContextTracing.scala:46)\n",
       "\tat com.databricks.logging.AttributionContextTracing.withAttributionContext$(AttributionContextTracing.scala:43)\n",
       "\tat com.databricks.rpc.ServerBackend.withAttributionContext(ServerBackend.scala:23)\n",
       "\tat com.databricks.logging.AttributionContextTracing.withAttributionTags(AttributionContextTracing.scala:95)\n",
       "\tat com.databricks.logging.AttributionContextTracing.withAttributionTags$(AttributionContextTracing.scala:76)\n",
       "\tat com.databricks.rpc.ServerBackend.withAttributionTags(ServerBackend.scala:23)\n",
       "\tat com.databricks.logging.UsageLogging.recordOperationWithResultTags(UsageLogging.scala:606)\n",
       "\tat com.databricks.logging.UsageLogging.recordOperationWithResultTags$(UsageLogging.scala:516)\n",
       "\tat com.databricks.rpc.ServerBackend.recordOperationWithResultTags(ServerBackend.scala:23)\n",
       "\tat com.databricks.logging.UsageLogging.recordOperation(UsageLogging.scala:508)\n",
       "\tat com.databricks.logging.UsageLogging.recordOperation$(UsageLogging.scala:476)\n",
       "\tat com.databricks.rpc.ServerBackend.recordOperation(ServerBackend.scala:23)\n",
       "\tat com.databricks.rpc.ServerBackend.internalReceive(ServerBackend.scala:147)\n",
       "\tat com.databricks.rpc.JettyServer$RequestManager.handleRPC(JettyServer.scala:1027)\n",
       "\tat com.databricks.rpc.JettyServer$RequestManager.handleRequestAndRespond(JettyServer.scala:947)\n",
       "\tat com.databricks.rpc.JettyServer$RequestManager.$anonfun$handleHttp$6(JettyServer.scala:547)\n",
       "\tat com.databricks.rpc.JettyServer$RequestManager.$anonfun$handleHttp$6$adapted(JettyServer.scala:516)\n",
       "\tat com.databricks.logging.activity.ActivityContextFactory$.$anonfun$withActivityInternal$8(ActivityContextFactory.scala:676)\n",
       "\tat com.databricks.logging.AttributionContextTracing.$anonfun$withAttributionContext$1(AttributionContextTracing.scala:48)\n",
       "\tat com.databricks.logging.AttributionContext$.$anonfun$withValue$1(AttributionContext.scala:273)\n",
       "\tat scala.util.DynamicVariable.withValue(DynamicVariable.scala:62)\n",
       "\tat com.databricks.logging.AttributionContext$.withValue(AttributionContext.scala:269)\n",
       "\tat com.databricks.logging.AttributionContextTracing.withAttributionContext(AttributionContextTracing.scala:46)\n",
       "\tat com.databricks.logging.AttributionContextTracing.withAttributionContext$(AttributionContextTracing.scala:43)\n",
       "\tat com.databricks.logging.activity.ActivityContextFactory$.withAttributionContext(ActivityContextFactory.scala:48)\n",
       "\tat com.databricks.logging.activity.ActivityContextFactory$.$anonfun$withActivityInternal$2(ActivityContextFactory.scala:676)\n",
       "\tat com.databricks.context.integrity.IntegrityCheckContext$ThreadLocalStorage$.withValue(IntegrityCheckContext.scala:73)\n",
       "\tat com.databricks.logging.activity.ActivityContextFactory$.withActivityInternal(ActivityContextFactory.scala:647)\n",
       "\tat com.databricks.logging.activity.ActivityContextFactory$.withActivityInternal(ActivityContextFactory.scala:629)\n",
       "\tat com.databricks.logging.activity.ActivityContextFactory$.withServiceRequestActivity(ActivityContextFactory.scala:250)\n",
       "\tat com.databricks.rpc.JettyServer$RequestManager.handleHttp(JettyServer.scala:516)\n",
       "\tat com.databricks.rpc.JettyServer$RequestManager.doPost(JettyServer.scala:406)\n",
       "\tat javax.servlet.http.HttpServlet.service(HttpServlet.java:665)\n",
       "\tat com.databricks.rpc.HttpServletWithPatch.service(HttpServletWithPatch.scala:33)\n",
       "\tat javax.servlet.http.HttpServlet.service(HttpServlet.java:750)\n",
       "\tat org.eclipse.jetty.servlet.ServletHolder.handle(ServletHolder.java:799)\n",
       "\tat org.eclipse.jetty.servlet.ServletHandler.doHandle(ServletHandler.java:554)\n",
       "\tat org.eclipse.jetty.server.handler.ScopedHandler.nextScope(ScopedHandler.java:190)\n",
       "\tat org.eclipse.jetty.servlet.ServletHandler.doScope(ServletHandler.java:505)\n",
       "\tat org.eclipse.jetty.server.handler.ScopedHandler.handle(ScopedHandler.java:141)\n",
       "\tat org.eclipse.jetty.server.handler.HandlerWrapper.handle(HandlerWrapper.java:127)\n",
       "\tat org.eclipse.jetty.server.Server.handle(Server.java:516)\n",
       "\tat org.eclipse.jetty.server.HttpChannel.lambda$handle$1(HttpChannel.java:487)\n",
       "\tat org.eclipse.jetty.server.HttpChannel.dispatch(HttpChannel.java:732)\n",
       "\tat org.eclipse.jetty.server.HttpChannel.handle(HttpChannel.java:479)\n",
       "\tat org.eclipse.jetty.server.HttpConnection.onFillable(HttpConnection.java:277)\n",
       "\tat org.eclipse.jetty.io.AbstractConnection$ReadCallback.succeeded(AbstractConnection.java:311)\n",
       "\tat org.eclipse.jetty.io.FillInterest.fillable(FillInterest.java:105)\n",
       "\tat org.eclipse.jetty.io.ssl.SslConnection$DecryptedEndPoint.onFillable(SslConnection.java:555)\n",
       "\tat org.eclipse.jetty.io.ssl.SslConnection.onFillable(SslConnection.java:410)\n",
       "\tat org.eclipse.jetty.io.ssl.SslConnection$2.succeeded(SslConnection.java:164)\n",
       "\tat org.eclipse.jetty.io.FillInterest.fillable(FillInterest.java:105)\n",
       "\tat org.eclipse.jetty.io.ChannelEndPoint$1.run(ChannelEndPoint.java:104)\n",
       "\tat org.eclipse.jetty.util.thread.strategy.EatWhatYouKill.runTask(EatWhatYouKill.java:338)\n",
       "\tat org.eclipse.jetty.util.thread.strategy.EatWhatYouKill.doProduce(EatWhatYouKill.java:315)\n",
       "\tat org.eclipse.jetty.util.thread.strategy.EatWhatYouKill.tryProduce(EatWhatYouKill.java:173)\n",
       "\tat org.eclipse.jetty.util.thread.strategy.EatWhatYouKill.run(EatWhatYouKill.java:131)\n",
       "\tat org.eclipse.jetty.util.thread.ReservedThreadExecutor$ReservedThread.run(ReservedThreadExecutor.java:409)\n",
       "\tat com.databricks.rpc.InstrumentedQueuedThreadPool$$anon$1.$anonfun$run$2(InstrumentedQueuedThreadPool.scala:110)\n",
       "\tat scala.runtime.java8.JFunction0$mcV$sp.apply(JFunction0$mcV$sp.java:23)\n",
       "\tat com.databricks.logging.AttributionContextTracing.$anonfun$withAttributionContext$1(AttributionContextTracing.scala:48)\n",
       "\tat com.databricks.logging.AttributionContext$.$anonfun$withValue$1(AttributionContext.scala:273)\n",
       "\tat scala.util.DynamicVariable.withValue(DynamicVariable.scala:62)\n",
       "\tat com.databricks.logging.AttributionContext$.withValue(AttributionContext.scala:269)\n",
       "\tat com.databricks.logging.AttributionContextTracing.withAttributionContext(AttributionContextTracing.scala:46)\n",
       "\tat com.databricks.logging.AttributionContextTracing.withAttributionContext$(AttributionContextTracing.scala:43)\n",
       "\tat com.databricks.rpc.InstrumentedQueuedThreadPool.withAttributionContext(InstrumentedQueuedThreadPool.scala:45)\n",
       "\tat com.databricks.rpc.InstrumentedQueuedThreadPool$$anon$1.$anonfun$run$1(InstrumentedQueuedThreadPool.scala:110)\n",
       "\tat scala.runtime.java8.JFunction0$mcV$sp.apply(JFunction0$mcV$sp.java:23)\n",
       "\tat com.databricks.instrumentation.QueuedThreadPoolInstrumenter.trackActiveThreads(QueuedThreadPoolInstrumenter.scala:126)\n",
       "\tat com.databricks.instrumentation.QueuedThreadPoolInstrumenter.trackActiveThreads$(QueuedThreadPoolInstrumenter.scala:123)\n",
       "\tat com.databricks.rpc.InstrumentedQueuedThreadPool.trackActiveThreads(InstrumentedQueuedThreadPool.scala:45)\n",
       "\tat com.databricks.rpc.InstrumentedQueuedThreadPool$$anon$1.run(InstrumentedQueuedThreadPool.scala:92)\n",
       "\tat org.eclipse.jetty.util.thread.QueuedThreadPool.runJob(QueuedThreadPool.java:883)\n",
       "\tat org.eclipse.jetty.util.thread.QueuedThreadPool$Runner.run(QueuedThreadPool.java:1034)\n",
       "\tat java.lang.Thread.run(Thread.java:750)"
      ]
     },
     "metadata": {
      "application/vnd.databricks.v1+output": {
       "addedWidgets": {},
       "arguments": {},
       "datasetInfos": [],
       "jupyterProps": null,
       "metadata": {
        "errorSummary": "Cancelled"
       },
       "removedWidgets": [],
       "sqlProps": null,
       "stackFrames": [
        "com.databricks.backend.common.rpc.CommandCancelledException",
        "\tat com.databricks.spark.chauffeur.SequenceExecutionState.$anonfun$cancel$5(SequenceExecutionState.scala:136)",
        "\tat scala.Option.getOrElse(Option.scala:189)",
        "\tat com.databricks.spark.chauffeur.SequenceExecutionState.$anonfun$cancel$3(SequenceExecutionState.scala:136)",
        "\tat com.databricks.spark.chauffeur.SequenceExecutionState.$anonfun$cancel$3$adapted(SequenceExecutionState.scala:133)",
        "\tat scala.collection.immutable.Range.foreach(Range.scala:158)",
        "\tat com.databricks.spark.chauffeur.SequenceExecutionState.cancel(SequenceExecutionState.scala:133)",
        "\tat com.databricks.spark.chauffeur.ExecContextState.cancelRunningSequence(ExecContextState.scala:717)",
        "\tat com.databricks.spark.chauffeur.ExecContextState.$anonfun$cancel$1(ExecContextState.scala:435)",
        "\tat scala.Option.getOrElse(Option.scala:189)",
        "\tat com.databricks.spark.chauffeur.ExecContextState.cancel(ExecContextState.scala:435)",
        "\tat com.databricks.spark.chauffeur.ExecutionContextManagerV1.cancelExecution(ExecutionContextManagerV1.scala:458)",
        "\tat com.databricks.spark.chauffeur.ChauffeurState.$anonfun$process$1(ChauffeurState.scala:591)",
        "\tat com.databricks.logging.UsageLogging.$anonfun$recordOperation$1(UsageLogging.scala:507)",
        "\tat com.databricks.logging.UsageLogging.executeThunkAndCaptureResultTags$1(UsageLogging.scala:611)",
        "\tat com.databricks.logging.UsageLogging.$anonfun$recordOperationWithResultTags$4(UsageLogging.scala:631)",
        "\tat com.databricks.logging.AttributionContextTracing.$anonfun$withAttributionContext$1(AttributionContextTracing.scala:48)",
        "\tat com.databricks.logging.AttributionContext$.$anonfun$withValue$1(AttributionContext.scala:273)",
        "\tat scala.util.DynamicVariable.withValue(DynamicVariable.scala:62)",
        "\tat com.databricks.logging.AttributionContext$.withValue(AttributionContext.scala:269)",
        "\tat com.databricks.logging.AttributionContextTracing.withAttributionContext(AttributionContextTracing.scala:46)",
        "\tat com.databricks.logging.AttributionContextTracing.withAttributionContext$(AttributionContextTracing.scala:43)",
        "\tat com.databricks.spark.chauffeur.ChauffeurState.withAttributionContext(ChauffeurState.scala:62)",
        "\tat com.databricks.logging.AttributionContextTracing.withAttributionTags(AttributionContextTracing.scala:95)",
        "\tat com.databricks.logging.AttributionContextTracing.withAttributionTags$(AttributionContextTracing.scala:76)",
        "\tat com.databricks.spark.chauffeur.ChauffeurState.withAttributionTags(ChauffeurState.scala:62)",
        "\tat com.databricks.logging.UsageLogging.recordOperationWithResultTags(UsageLogging.scala:606)",
        "\tat com.databricks.logging.UsageLogging.recordOperationWithResultTags$(UsageLogging.scala:516)",
        "\tat com.databricks.spark.chauffeur.ChauffeurState.recordOperationWithResultTags(ChauffeurState.scala:62)",
        "\tat com.databricks.logging.UsageLogging.recordOperation(UsageLogging.scala:508)",
        "\tat com.databricks.logging.UsageLogging.recordOperation$(UsageLogging.scala:476)",
        "\tat com.databricks.spark.chauffeur.ChauffeurState.recordOperation(ChauffeurState.scala:62)",
        "\tat com.databricks.spark.chauffeur.ChauffeurState.process(ChauffeurState.scala:569)",
        "\tat com.databricks.spark.chauffeur.Chauffeur$$anon$1$$anonfun$receive$1.handleDriverRequest$1(Chauffeur.scala:851)",
        "\tat com.databricks.spark.chauffeur.Chauffeur$$anon$1$$anonfun$receive$1.$anonfun$applyOrElse$5(Chauffeur.scala:877)",
        "\tat com.databricks.logging.UsageLogging.executeThunkAndCaptureResultTags$1(UsageLogging.scala:611)",
        "\tat com.databricks.logging.UsageLogging.$anonfun$recordOperationWithResultTags$4(UsageLogging.scala:631)",
        "\tat com.databricks.logging.AttributionContextTracing.$anonfun$withAttributionContext$1(AttributionContextTracing.scala:48)",
        "\tat com.databricks.logging.AttributionContext$.$anonfun$withValue$1(AttributionContext.scala:273)",
        "\tat scala.util.DynamicVariable.withValue(DynamicVariable.scala:62)",
        "\tat com.databricks.logging.AttributionContext$.withValue(AttributionContext.scala:269)",
        "\tat com.databricks.logging.AttributionContextTracing.withAttributionContext(AttributionContextTracing.scala:46)",
        "\tat com.databricks.logging.AttributionContextTracing.withAttributionContext$(AttributionContextTracing.scala:43)",
        "\tat com.databricks.rpc.ServerBackend.withAttributionContext(ServerBackend.scala:23)",
        "\tat com.databricks.logging.AttributionContextTracing.withAttributionTags(AttributionContextTracing.scala:95)",
        "\tat com.databricks.logging.AttributionContextTracing.withAttributionTags$(AttributionContextTracing.scala:76)",
        "\tat com.databricks.rpc.ServerBackend.withAttributionTags(ServerBackend.scala:23)",
        "\tat com.databricks.logging.UsageLogging.recordOperationWithResultTags(UsageLogging.scala:606)",
        "\tat com.databricks.logging.UsageLogging.recordOperationWithResultTags$(UsageLogging.scala:516)",
        "\tat com.databricks.rpc.ServerBackend.recordOperationWithResultTags(ServerBackend.scala:23)",
        "\tat com.databricks.spark.chauffeur.Chauffeur$$anon$1$$anonfun$receive$1.handleDriverRequestWithUsageLogging$1(Chauffeur.scala:876)",
        "\tat com.databricks.spark.chauffeur.Chauffeur$$anon$1$$anonfun$receive$1.applyOrElse(Chauffeur.scala:931)",
        "\tat com.databricks.spark.chauffeur.Chauffeur$$anon$1$$anonfun$receive$1.applyOrElse(Chauffeur.scala:724)",
        "\tat com.databricks.rpc.ServerBackend.$anonfun$internalReceive0$2(ServerBackend.scala:175)",
        "\tat com.databricks.rpc.ServerBackend$$anonfun$commonReceive$1.applyOrElse(ServerBackend.scala:201)",
        "\tat com.databricks.rpc.ServerBackend$$anonfun$commonReceive$1.applyOrElse(ServerBackend.scala:201)",
        "\tat com.databricks.rpc.ServerBackend.internalReceive0(ServerBackend.scala:172)",
        "\tat com.databricks.rpc.ServerBackend.$anonfun$internalReceive$1(ServerBackend.scala:148)",
        "\tat com.databricks.logging.UsageLogging.$anonfun$recordOperation$1(UsageLogging.scala:507)",
        "\tat com.databricks.logging.UsageLogging.executeThunkAndCaptureResultTags$1(UsageLogging.scala:611)",
        "\tat com.databricks.logging.UsageLogging.$anonfun$recordOperationWithResultTags$4(UsageLogging.scala:631)",
        "\tat com.databricks.logging.AttributionContextTracing.$anonfun$withAttributionContext$1(AttributionContextTracing.scala:48)",
        "\tat com.databricks.logging.AttributionContext$.$anonfun$withValue$1(AttributionContext.scala:273)",
        "\tat scala.util.DynamicVariable.withValue(DynamicVariable.scala:62)",
        "\tat com.databricks.logging.AttributionContext$.withValue(AttributionContext.scala:269)",
        "\tat com.databricks.logging.AttributionContextTracing.withAttributionContext(AttributionContextTracing.scala:46)",
        "\tat com.databricks.logging.AttributionContextTracing.withAttributionContext$(AttributionContextTracing.scala:43)",
        "\tat com.databricks.rpc.ServerBackend.withAttributionContext(ServerBackend.scala:23)",
        "\tat com.databricks.logging.AttributionContextTracing.withAttributionTags(AttributionContextTracing.scala:95)",
        "\tat com.databricks.logging.AttributionContextTracing.withAttributionTags$(AttributionContextTracing.scala:76)",
        "\tat com.databricks.rpc.ServerBackend.withAttributionTags(ServerBackend.scala:23)",
        "\tat com.databricks.logging.UsageLogging.recordOperationWithResultTags(UsageLogging.scala:606)",
        "\tat com.databricks.logging.UsageLogging.recordOperationWithResultTags$(UsageLogging.scala:516)",
        "\tat com.databricks.rpc.ServerBackend.recordOperationWithResultTags(ServerBackend.scala:23)",
        "\tat com.databricks.logging.UsageLogging.recordOperation(UsageLogging.scala:508)",
        "\tat com.databricks.logging.UsageLogging.recordOperation$(UsageLogging.scala:476)",
        "\tat com.databricks.rpc.ServerBackend.recordOperation(ServerBackend.scala:23)",
        "\tat com.databricks.rpc.ServerBackend.internalReceive(ServerBackend.scala:147)",
        "\tat com.databricks.rpc.JettyServer$RequestManager.handleRPC(JettyServer.scala:1027)",
        "\tat com.databricks.rpc.JettyServer$RequestManager.handleRequestAndRespond(JettyServer.scala:947)",
        "\tat com.databricks.rpc.JettyServer$RequestManager.$anonfun$handleHttp$6(JettyServer.scala:547)",
        "\tat com.databricks.rpc.JettyServer$RequestManager.$anonfun$handleHttp$6$adapted(JettyServer.scala:516)",
        "\tat com.databricks.logging.activity.ActivityContextFactory$.$anonfun$withActivityInternal$8(ActivityContextFactory.scala:676)",
        "\tat com.databricks.logging.AttributionContextTracing.$anonfun$withAttributionContext$1(AttributionContextTracing.scala:48)",
        "\tat com.databricks.logging.AttributionContext$.$anonfun$withValue$1(AttributionContext.scala:273)",
        "\tat scala.util.DynamicVariable.withValue(DynamicVariable.scala:62)",
        "\tat com.databricks.logging.AttributionContext$.withValue(AttributionContext.scala:269)",
        "\tat com.databricks.logging.AttributionContextTracing.withAttributionContext(AttributionContextTracing.scala:46)",
        "\tat com.databricks.logging.AttributionContextTracing.withAttributionContext$(AttributionContextTracing.scala:43)",
        "\tat com.databricks.logging.activity.ActivityContextFactory$.withAttributionContext(ActivityContextFactory.scala:48)",
        "\tat com.databricks.logging.activity.ActivityContextFactory$.$anonfun$withActivityInternal$2(ActivityContextFactory.scala:676)",
        "\tat com.databricks.context.integrity.IntegrityCheckContext$ThreadLocalStorage$.withValue(IntegrityCheckContext.scala:73)",
        "\tat com.databricks.logging.activity.ActivityContextFactory$.withActivityInternal(ActivityContextFactory.scala:647)",
        "\tat com.databricks.logging.activity.ActivityContextFactory$.withActivityInternal(ActivityContextFactory.scala:629)",
        "\tat com.databricks.logging.activity.ActivityContextFactory$.withServiceRequestActivity(ActivityContextFactory.scala:250)",
        "\tat com.databricks.rpc.JettyServer$RequestManager.handleHttp(JettyServer.scala:516)",
        "\tat com.databricks.rpc.JettyServer$RequestManager.doPost(JettyServer.scala:406)",
        "\tat javax.servlet.http.HttpServlet.service(HttpServlet.java:665)",
        "\tat com.databricks.rpc.HttpServletWithPatch.service(HttpServletWithPatch.scala:33)",
        "\tat javax.servlet.http.HttpServlet.service(HttpServlet.java:750)",
        "\tat org.eclipse.jetty.servlet.ServletHolder.handle(ServletHolder.java:799)",
        "\tat org.eclipse.jetty.servlet.ServletHandler.doHandle(ServletHandler.java:554)",
        "\tat org.eclipse.jetty.server.handler.ScopedHandler.nextScope(ScopedHandler.java:190)",
        "\tat org.eclipse.jetty.servlet.ServletHandler.doScope(ServletHandler.java:505)",
        "\tat org.eclipse.jetty.server.handler.ScopedHandler.handle(ScopedHandler.java:141)",
        "\tat org.eclipse.jetty.server.handler.HandlerWrapper.handle(HandlerWrapper.java:127)",
        "\tat org.eclipse.jetty.server.Server.handle(Server.java:516)",
        "\tat org.eclipse.jetty.server.HttpChannel.lambda$handle$1(HttpChannel.java:487)",
        "\tat org.eclipse.jetty.server.HttpChannel.dispatch(HttpChannel.java:732)",
        "\tat org.eclipse.jetty.server.HttpChannel.handle(HttpChannel.java:479)",
        "\tat org.eclipse.jetty.server.HttpConnection.onFillable(HttpConnection.java:277)",
        "\tat org.eclipse.jetty.io.AbstractConnection$ReadCallback.succeeded(AbstractConnection.java:311)",
        "\tat org.eclipse.jetty.io.FillInterest.fillable(FillInterest.java:105)",
        "\tat org.eclipse.jetty.io.ssl.SslConnection$DecryptedEndPoint.onFillable(SslConnection.java:555)",
        "\tat org.eclipse.jetty.io.ssl.SslConnection.onFillable(SslConnection.java:410)",
        "\tat org.eclipse.jetty.io.ssl.SslConnection$2.succeeded(SslConnection.java:164)",
        "\tat org.eclipse.jetty.io.FillInterest.fillable(FillInterest.java:105)",
        "\tat org.eclipse.jetty.io.ChannelEndPoint$1.run(ChannelEndPoint.java:104)",
        "\tat org.eclipse.jetty.util.thread.strategy.EatWhatYouKill.runTask(EatWhatYouKill.java:338)",
        "\tat org.eclipse.jetty.util.thread.strategy.EatWhatYouKill.doProduce(EatWhatYouKill.java:315)",
        "\tat org.eclipse.jetty.util.thread.strategy.EatWhatYouKill.tryProduce(EatWhatYouKill.java:173)",
        "\tat org.eclipse.jetty.util.thread.strategy.EatWhatYouKill.run(EatWhatYouKill.java:131)",
        "\tat org.eclipse.jetty.util.thread.ReservedThreadExecutor$ReservedThread.run(ReservedThreadExecutor.java:409)",
        "\tat com.databricks.rpc.InstrumentedQueuedThreadPool$$anon$1.$anonfun$run$2(InstrumentedQueuedThreadPool.scala:110)",
        "\tat scala.runtime.java8.JFunction0$mcV$sp.apply(JFunction0$mcV$sp.java:23)",
        "\tat com.databricks.logging.AttributionContextTracing.$anonfun$withAttributionContext$1(AttributionContextTracing.scala:48)",
        "\tat com.databricks.logging.AttributionContext$.$anonfun$withValue$1(AttributionContext.scala:273)",
        "\tat scala.util.DynamicVariable.withValue(DynamicVariable.scala:62)",
        "\tat com.databricks.logging.AttributionContext$.withValue(AttributionContext.scala:269)",
        "\tat com.databricks.logging.AttributionContextTracing.withAttributionContext(AttributionContextTracing.scala:46)",
        "\tat com.databricks.logging.AttributionContextTracing.withAttributionContext$(AttributionContextTracing.scala:43)",
        "\tat com.databricks.rpc.InstrumentedQueuedThreadPool.withAttributionContext(InstrumentedQueuedThreadPool.scala:45)",
        "\tat com.databricks.rpc.InstrumentedQueuedThreadPool$$anon$1.$anonfun$run$1(InstrumentedQueuedThreadPool.scala:110)",
        "\tat scala.runtime.java8.JFunction0$mcV$sp.apply(JFunction0$mcV$sp.java:23)",
        "\tat com.databricks.instrumentation.QueuedThreadPoolInstrumenter.trackActiveThreads(QueuedThreadPoolInstrumenter.scala:126)",
        "\tat com.databricks.instrumentation.QueuedThreadPoolInstrumenter.trackActiveThreads$(QueuedThreadPoolInstrumenter.scala:123)",
        "\tat com.databricks.rpc.InstrumentedQueuedThreadPool.trackActiveThreads(InstrumentedQueuedThreadPool.scala:45)",
        "\tat com.databricks.rpc.InstrumentedQueuedThreadPool$$anon$1.run(InstrumentedQueuedThreadPool.scala:92)",
        "\tat org.eclipse.jetty.util.thread.QueuedThreadPool.runJob(QueuedThreadPool.java:883)",
        "\tat org.eclipse.jetty.util.thread.QueuedThreadPool$Runner.run(QueuedThreadPool.java:1034)",
        "\tat java.lang.Thread.run(Thread.java:750)"
       ],
       "type": "baseError"
      }
     },
     "output_type": "display_data"
    }
   ],
   "source": [
    "#updatedAllPPQuantilesDF,updatedAllPPSpaghettiDF=gi.getPerWellPressureTimeSeriesSpaghettiAndQuantiles(updatedDPTimeSeriesR,updatedDayVecR,gist2.diffPPVec,updatedWellIDsR,nQuantiles=11,epoch=pd.to_datetime('01-01-1970'),verbose=2)"
   ]
  },
  {
   "cell_type": "code",
   "execution_count": 0,
   "metadata": {
    "application/vnd.databricks.v1+cell": {
     "cellMetadata": {
      "byteLimit": 2048000,
      "rowLimit": 10000
     },
     "inputWidgets": {},
     "nuid": "d90afaad-993e-44f2-80db-763376d2d03a",
     "showTitle": false,
     "tableResultSettingsMap": {},
     "title": ""
    }
   },
   "outputs": [],
   "source": [
    "updatedWellPressureDict=gi.prepPressureAndDisposalTimeSeriesPlots(updatedAllPPQuantilesDF,updatedAllPPSpaghettiDF,updatedWinWellsDF,updatedWinInjDF,updatedOrderedWellIDList[:-1],verbose=0)"
   ]
  },
  {
   "cell_type": "code",
   "execution_count": 0,
   "metadata": {
    "application/vnd.databricks.v1+cell": {
     "cellMetadata": {
      "byteLimit": 2048000,
      "rowLimit": 10000
     },
     "inputWidgets": {},
     "nuid": "fbd05875-ad98-40f5-8082-2e8c3b8e3444",
     "showTitle": false,
     "tableResultSettingsMap": {},
     "title": ""
    }
   },
   "outputs": [],
   "source": [
    "updatedSensitivityDF,updatedSensitivitySumDF = gist2.getPressureSensitivity(updatedWinInjDF,updatedWinWellsDF,EQ)"
   ]
  },
  {
   "cell_type": "markdown",
   "metadata": {
    "application/vnd.databricks.v1+cell": {
     "cellMetadata": {
      "byteLimit": 2048000,
      "rowLimit": 10000
     },
     "inputWidgets": {},
     "nuid": "90f5d10a-0751-4d37-bfb0-45ca2a1c958e",
     "showTitle": false,
     "tableResultSettingsMap": {},
     "title": ""
    }
   },
   "source": [
    "##4.4 Updated Run Output"
   ]
  },
  {
   "cell_type": "code",
   "execution_count": 0,
   "metadata": {
    "application/vnd.databricks.v1+cell": {
     "cellMetadata": {
      "byteLimit": 2048000,
      "rowLimit": 10000
     },
     "inputWidgets": {},
     "nuid": "da549c2e-8046-48f5-9b2e-3a934f27a9cb",
     "showTitle": false,
     "tableResultSettingsMap": {},
     "title": ""
    }
   },
   "outputs": [],
   "source": [
    "#gist2.writeRealizations(updatedRunIntervalPath+'PorePressureRealizations.csv')\n",
    "#updatedScenarioDF.to_csv(updatedRunIntervalPath+'scenarios.csv')\n",
    "#updatedScenarioTestDF.to_csv(updatedRunIntervalPath+'scenariosTest.csv')\n",
    "#updatedFilteredDF.to_csv(updatedRunIntervalPath+'filteredScenarios.csv')\n",
    "#pd.Series(data=updatedOrderedWellList).to_csv(updatedRunIntervalPath+'wellOrder.csv')\n",
    "#updatedMergedWellsDF.to_csv(updatedRunIntervalPath+'RTwells.csv')\n",
    "#updatedrtDF.to_csv(updatedRunIntervalPath+'RTDF.csv')\n",
    "#updatedDisaggregationDF.to_csv(updatedRunIntervalPath+'disaggregation.csv')\n",
    "updatedTotalPPQuantilesDF.to_csv(updatedRunIntervalPath+'totalPPQuantiles.csv')\n",
    "updatedTotalPPSpaghettiDF.to_csv(updatedRunIntervalPath+'totalPPSpaghetti.csv')"
   ]
  },
  {
   "cell_type": "code",
   "execution_count": 0,
   "metadata": {
    "application/vnd.databricks.v1+cell": {
     "cellMetadata": {
      "byteLimit": 2048000,
      "rowLimit": 10000
     },
     "inputWidgets": {},
     "nuid": "0927d597-a057-4304-83a5-ffe325ff17fa",
     "showTitle": false,
     "tableResultSettingsMap": {},
     "title": ""
    }
   },
   "outputs": [
    {
     "output_type": "stream",
     "name": "stdout",
     "output_type": "stream",
     "text": [
      "well 0 , ID: 2116501  completed\nwell 1 , ID: 2117633  completed\nwell 2 , ID: 2121203  completed\nwell 3 , ID: 2121195  completed\nwell 4 , ID: 2123953  completed\nwell 5 , ID: 2112104  completed\nwell 6 , ID: 2117616  completed\nwell 7 , ID: 2118517  completed\nwell 8 , ID: 2110592  completed\nwell 9 , ID: 2121715  completed\nwell 10 , ID: 2111946  completed\nwell 11 , ID: 2117806  completed\nwell 12 , ID: 2081404  completed\nwell 13 , ID: 2123938  completed\nwell 14 , ID: 2112058  completed\nwell 15 , ID: 2112198  completed\nwell 16 , ID: 2113042  completed\nwell 17 , ID: 2121097  completed\nwell 18 , ID: 2119704  completed\nwell 19 , ID: 2110718  completed\nwell 20 , ID: 2120980  completed\nwell 21 , ID: 2112288  completed\nwell 22 , ID: 2121271  completed\nwell 23 , ID: 2111922  completed\nwell 24 , ID: 2120964  completed\nwell 25 , ID: 2120827  completed\nwell 26 , ID: 2120615  completed\nwell 27 , ID: 2116381  completed\nwell 28 , ID: 2111358  completed\nwell 29 , ID: 2121230  completed\nwell 30 , ID: 2108688  completed\nwell 31 , ID: 2114831  completed\nwell 32 , ID: 2117885  completed\nwell 33 , ID: 2121094  completed\nwell 34 , ID: 2120454  completed\nwell 35 , ID: 2081848  completed\nwell 36 , ID: 2121177  completed\nwell 37 , ID: 2121310  completed\nwell 38 , ID: 2112172  completed\nwell 39 , ID: 2112227  completed\nwell 40 , ID: 2119358  completed\nwell 41 , ID: 2119505  completed\nwell 42 , ID: 2113854  completed\nwell 43 , ID: 2121323  completed\nwell 44 , ID: 2123968  completed\nwell 45 , ID: 2081279  completed\nwell 46 , ID: 2121255  completed\nwell 47 , ID: 2118021  completed\nwell 48 , ID: 2121181  completed\nwell 49 , ID: 2121162  completed\nwell 50 , ID: 2048738  completed\nwell 51 , ID: 2086294  completed\nwell 52 , ID: 2059905  completed\nwell 53 , ID: 2121013  completed\nwell 54 , ID: 2112307  completed\nwell 55 , ID: 2109578  completed\nwell 56 , ID: 2119049  completed\nwell 57 , ID: 2121091  completed\nwell 58 , ID: 2121854  completed\nwell 59 , ID: 2118993  completed\nwell 60 , ID: 2094440  completed\nwell 61 , ID: 2121326  completed\nwell 62 , ID: 2111690  completed\nwell 63 , ID: 2113855  completed\nwell 64 , ID: 2121216  completed\nwell 65 , ID: 2121191  completed\nwell 66 , ID: 2121190  completed\nwell 67 , ID: 2121186  completed\nwell 68 , ID: 2109094  completed\nwell 69 , ID: 2087824  completed\nwell 70 , ID: 2123921  completed\nwell 71 , ID: 2015612  completed\nwell 72 , ID: 2090964  completed\nwell 73 , ID: 2120859  completed\nwell 74 , ID: 2086897  completed\nwell 75 , ID: 2121278  completed\nwell 76 , ID: 2120257  completed\nwell 77 , ID: 2121206  completed\nwell 78 , ID: 2112175  completed\nwell 79 , ID: 2114823  completed\nwell 80 , ID: 2118820  completed\nwell 81 , ID: 2121228  completed\nwell 82 , ID: 2084091  completed\nwell 83 , ID: 2114817  completed\nwell 84 , ID: 2121053  completed\nwell 85 , ID: 2105036  completed\nwell 86 , ID: 2009788  completed\nwell 87 , ID: 2118060  completed\nwell 88 , ID: 2054500  completed\n"
     ]
    }
   ],
   "source": [
    "i=0\n",
    "for wellDictKey, wellDictValue in updatedWellPressureDict.items():\n",
    "  wellID=wellDictValue['WellInfo']['ID'].to_list()[0]\n",
    "  wellFilePrefix='/perWell/well_'+str(i)+'_'\n",
    "  wellDictValue['PPQuantiles'].to_csv(updatedRunIntervalPath+wellFilePrefix+'PPQuantiles.csv')\n",
    "  wellDictValue['Disposal'].to_csv(updatedRunIntervalPath+wellFilePrefix+'Disposal.csv')\n",
    "  wellDictValue['WellInfo'].to_csv(updatedRunIntervalPath+wellFilePrefix+'WellInfo.csv')\n",
    "  wellDictValue['Spaghetti'].to_csv(updatedRunIntervalPath+wellFilePrefix+'Spaghetti.csv')\n",
    "  print('well',i,', ID:',wellID,' completed')\n",
    "  i=i+1"
   ]
  },
  {
   "cell_type": "code",
   "execution_count": 0,
   "metadata": {
    "application/vnd.databricks.v1+cell": {
     "cellMetadata": {
      "byteLimit": 2048000,
      "rowLimit": 10000
     },
     "inputWidgets": {},
     "nuid": "70764a9d-1c57-494f-9525-9e29f7e63de3",
     "showTitle": false,
     "tableResultSettingsMap": {},
     "title": ""
    }
   },
   "outputs": [],
   "source": [
    "updatedScenarioTSRDF.to_csv(updatedRunIntervalPath+'materialScenariosR.csv')\n",
    "np.savez_compressed(updatedRunIntervalPath+'timeSeriesR.npz', deltaPP=updatedDPTimeSeriesR,dayVec=updatedDayVecR,wellIDs=updatedWellIDsR)\n",
    "updatedSensitivityDF.to_csv(updatedRunIntervalPath+'sensitivity.csv')\n",
    "updatedSensitivitySumDF.to_csv(updatedRunIntervalPath+'sensitivitySum.csv')\n",
    "#rateDF.to_csv(updatedRunIntervalPath+'rates.csv')"
   ]
  },
  {
   "cell_type": "code",
   "execution_count": 0,
   "metadata": {
    "application/vnd.databricks.v1+cell": {
     "cellMetadata": {
      "byteLimit": 2048000,
      "rowLimit": 10000
     },
     "inputWidgets": {},
     "nuid": "68f3f72b-3e87-4907-9cfb-c75dfde4a683",
     "showTitle": false,
     "tableResultSettingsMap": {},
     "title": ""
    }
   },
   "outputs": [],
   "source": [
    "# Write out gist object to disk\n",
    "import pickle\n",
    "with open(updatedRunIntervalPath+'gist.pkl', 'wb') as file:\n",
    "  pickle.dump(gist2, file)"
   ]
  },
  {
   "cell_type": "code",
   "execution_count": 0,
   "metadata": {
    "application/vnd.databricks.v1+cell": {
     "cellMetadata": {
      "byteLimit": 2048000,
      "rowLimit": 10000
     },
     "inputWidgets": {},
     "nuid": "762ccb8c-ec2f-44ca-a29d-c1610d94f8c8",
     "showTitle": false,
     "tableResultSettingsMap": {},
     "title": ""
    }
   },
   "outputs": [],
   "source": []
  }
 ],
 "metadata": {
  "application/vnd.databricks.v1+notebook": {
   "computePreferences": {
    "hardware": {
     "accelerator": null,
     "gpuPoolId": null,
     "memory": null
    }
   },
   "dashboards": [],
   "environmentMetadata": {
    "base_environment": "",
    "environment_version": "1"
   },
   "inputWidgetPreferences": null,
   "language": "python",
   "notebookMetadata": {
    "pythonIndentUnit": 2
   },
   "notebookName": "GIST_RunTemplate_Stanton_deep_Step4",
   "widgets": {}
  },
  "language_info": {
   "name": "python"
  }
 },
 "nbformat": 4,
 "nbformat_minor": 0
}