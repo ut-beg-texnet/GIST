{
 "cells": [
  {
   "cell_type": "markdown",
   "metadata": {
    "application/vnd.databricks.v1+cell": {
     "cellMetadata": {
      "byteLimit": 2048000,
      "rowLimit": 10000
     },
     "inputWidgets": {},
     "nuid": "c1abdb59-6473-4a9e-89dc-f7bf61a76f4b",
     "showTitle": false,
     "title": ""
    }
   },
   "source": [
    "# GIST Driver\n",
    "##Test on events of interest:\n",
    "  \n",
    "  texnet2023vqsh\n",
    "\n",
    "  \n",
    "Assumes InjectionSQLScheduled completed"
   ]
  },
  {
   "cell_type": "markdown",
   "metadata": {
    "application/vnd.databricks.v1+cell": {
     "cellMetadata": {
      "byteLimit": 2048000,
      "rowLimit": 10000
     },
     "inputWidgets": {},
     "nuid": "83eacea1-ee6c-412e-86e8-eb0062d6a40c",
     "showTitle": false,
     "title": ""
    }
   },
   "source": [
    "#Configuration"
   ]
  },
  {
   "cell_type": "markdown",
   "metadata": {
    "application/vnd.databricks.v1+cell": {
     "cellMetadata": {
      "byteLimit": 2048000,
      "rowLimit": 10000
     },
     "inputWidgets": {},
     "nuid": "fe561de9-c0de-474b-af1b-e457ac846dbe",
     "showTitle": false,
     "title": ""
    }
   },
   "source": [
    "##Libraries"
   ]
  },
  {
   "cell_type": "code",
   "execution_count": 0,
   "metadata": {
    "application/vnd.databricks.v1+cell": {
     "cellMetadata": {
      "byteLimit": 2048000,
      "rowLimit": 10000
     },
     "inputWidgets": {},
     "nuid": "0e21e4dd-c64f-459b-9241-0cb74bf49524",
     "showTitle": false,
     "title": ""
    }
   },
   "outputs": [
    {
     "output_type": "stream",
     "name": "stdout",
     "output_type": "stream",
     "text": [
      "Collecting geopandas\r\n  Using cached geopandas-0.14.3-py3-none-any.whl (1.1 MB)\r\nRequirement already satisfied: pandas>=1.4.0 in /databricks/python3/lib/python3.9/site-packages (from geopandas) (1.4.2)\r\nCollecting fiona>=1.8.21\r\n  Using cached fiona-1.9.6-cp39-cp39-manylinux2014_x86_64.whl (15.7 MB)\r\nCollecting shapely>=1.8.0\r\n  Using cached shapely-2.0.3-cp39-cp39-manylinux_2_17_x86_64.manylinux2014_x86_64.whl (2.5 MB)\r\nRequirement already satisfied: packaging in /databricks/python3/lib/python3.9/site-packages (from geopandas) (21.3)\r\nCollecting pyproj>=3.3.0\r\n  Using cached pyproj-3.6.1-cp39-cp39-manylinux_2_17_x86_64.manylinux2014_x86_64.whl (8.3 MB)\r\nCollecting cligj>=0.5\r\n  Using cached cligj-0.7.2-py3-none-any.whl (7.1 kB)\r\nCollecting click-plugins>=1.0\r\n  Using cached click_plugins-1.1.1-py2.py3-none-any.whl (7.5 kB)\r\nRequirement already satisfied: attrs>=19.2.0 in /databricks/python3/lib/python3.9/site-packages (from fiona>=1.8.21->geopandas) (21.4.0)\r\nRequirement already satisfied: certifi in /databricks/python3/lib/python3.9/site-packages (from fiona>=1.8.21->geopandas) (2021.10.8)\r\nRequirement already satisfied: importlib-metadata in /local_disk0/.ephemeral_nfs/cluster_libraries/python/lib/python3.9/site-packages (from fiona>=1.8.21->geopandas) (7.1.0)\r\nRequirement already satisfied: click~=8.0 in /local_disk0/.ephemeral_nfs/cluster_libraries/python/lib/python3.9/site-packages (from fiona>=1.8.21->geopandas) (8.1.7)\r\nRequirement already satisfied: six in /databricks/python3/lib/python3.9/site-packages (from fiona>=1.8.21->geopandas) (1.16.0)\r\nRequirement already satisfied: python-dateutil>=2.8.1 in /databricks/python3/lib/python3.9/site-packages (from pandas>=1.4.0->geopandas) (2.8.2)\r\nRequirement already satisfied: pytz>=2020.1 in /databricks/python3/lib/python3.9/site-packages (from pandas>=1.4.0->geopandas) (2021.3)\r\nRequirement already satisfied: numpy>=1.18.5 in /databricks/python3/lib/python3.9/site-packages (from pandas>=1.4.0->geopandas) (1.21.5)\r\nRequirement already satisfied: zipp>=0.5 in /local_disk0/.ephemeral_nfs/cluster_libraries/python/lib/python3.9/site-packages (from importlib-metadata->fiona>=1.8.21->geopandas) (3.18.1)\r\nRequirement already satisfied: pyparsing!=3.0.5,>=2.0.2 in /databricks/python3/lib/python3.9/site-packages (from packaging->geopandas) (3.0.4)\r\nInstalling collected packages: cligj, click-plugins, shapely, pyproj, fiona, geopandas\r\nSuccessfully installed click-plugins-1.1.1 cligj-0.7.2 fiona-1.9.6 geopandas-0.14.3 pyproj-3.6.1 shapely-2.0.3\r\n\u001B[33mWARNING: You are using pip version 21.2.4; however, version 24.0 is available.\r\nYou should consider upgrading via the '/local_disk0/.ephemeral_nfs/envs/pythonEnv-dc814c59-cf20-41b1-854a-87c8b90ec930/bin/python -m pip install --upgrade pip' command.\u001B[0m\r\nCollecting geodatasets\r\n  Downloading geodatasets-2023.12.0-py3-none-any.whl (19 kB)\r\nCollecting pooch\r\n  Downloading pooch-1.8.1-py3-none-any.whl (62 kB)\r\n\u001B[?25l\r\u001B[K     |█████▏                          | 10 kB 32.1 MB/s eta 0:00:01\r\u001B[K     |██████████▍                     | 20 kB 28.6 MB/s eta 0:00:01\r\u001B[K     |███████████████▋                | 30 kB 36.5 MB/s eta 0:00:01\r\u001B[K     |████████████████████▉           | 40 kB 20.4 MB/s eta 0:00:01\r\u001B[K     |██████████████████████████      | 51 kB 24.0 MB/s eta 0:00:01\r\u001B[K     |███████████████████████████████▎| 61 kB 27.8 MB/s eta 0:00:01\r\u001B[K     |████████████████████████████████| 62 kB 1.0 MB/s \r\n\u001B[?25hRequirement already satisfied: packaging>=20.0 in /databricks/python3/lib/python3.9/site-packages (from pooch->geodatasets) (21.3)\r\nRequirement already satisfied: platformdirs>=2.5.0 in /usr/local/lib/python3.9/dist-packages (from pooch->geodatasets) (2.6.2)\r\nRequirement already satisfied: requests>=2.19.0 in /databricks/python3/lib/python3.9/site-packages (from pooch->geodatasets) (2.27.1)\r\nRequirement already satisfied: pyparsing!=3.0.5,>=2.0.2 in /databricks/python3/lib/python3.9/site-packages (from packaging>=20.0->pooch->geodatasets) (3.0.4)\r\nRequirement already satisfied: idna<4,>=2.5 in /databricks/python3/lib/python3.9/site-packages (from requests>=2.19.0->pooch->geodatasets) (3.3)\r\nRequirement already satisfied: charset-normalizer~=2.0.0 in /databricks/python3/lib/python3.9/site-packages (from requests>=2.19.0->pooch->geodatasets) (2.0.4)\r\nRequirement already satisfied: urllib3<1.27,>=1.21.1 in /databricks/python3/lib/python3.9/site-packages (from requests>=2.19.0->pooch->geodatasets) (1.26.9)\r\nRequirement already satisfied: certifi>=2017.4.17 in /databricks/python3/lib/python3.9/site-packages (from requests>=2.19.0->pooch->geodatasets) (2021.10.8)\r\nInstalling collected packages: pooch, geodatasets\r\nSuccessfully installed geodatasets-2023.12.0 pooch-1.8.1\r\n\u001B[33mWARNING: You are using pip version 21.2.4; however, version 24.0 is available.\r\nYou should consider upgrading via the '/local_disk0/.ephemeral_nfs/envs/pythonEnv-dc814c59-cf20-41b1-854a-87c8b90ec930/bin/python -m pip install --upgrade pip' command.\u001B[0m\r\nCollecting folium\r\n  Downloading folium-0.16.0-py2.py3-none-any.whl (100 kB)\r\n\u001B[?25l\r\u001B[K     |███▎                            | 10 kB 28.0 MB/s eta 0:00:01\r\u001B[K     |██████▌                         | 20 kB 34.6 MB/s eta 0:00:01\r\u001B[K     |█████████▉                      | 30 kB 45.0 MB/s eta 0:00:01\r\u001B[K     |█████████████                   | 40 kB 26.1 MB/s eta 0:00:01\r\u001B[K     |████████████████▍               | 51 kB 23.0 MB/s eta 0:00:01\r\u001B[K     |███████████████████▋            | 61 kB 26.2 MB/s eta 0:00:01\r\u001B[K     |███████████████████████         | 71 kB 24.3 MB/s eta 0:00:01\r\u001B[K     |██████████████████████████▏     | 81 kB 26.7 MB/s eta 0:00:01\r\u001B[K     |█████████████████████████████▌  | 92 kB 29.3 MB/s eta 0:00:01\r\u001B[K     |████████████████████████████████| 100 kB 4.7 MB/s \r\n\u001B[?25hRequirement already satisfied: matplotlib in /databricks/python3/lib/python3.9/site-packages (3.5.1)\r\nCollecting mapclassify\r\n  Downloading mapclassify-2.6.1-py3-none-any.whl (38 kB)\r\nCollecting contextily\r\n  Downloading contextily-1.6.0-py3-none-any.whl (17 kB)\r\nRequirement already satisfied: numpy in /databricks/python3/lib/python3.9/site-packages (from folium) (1.21.5)\r\nRequirement already satisfied: jinja2>=2.9 in /local_disk0/.ephemeral_nfs/cluster_libraries/python/lib/python3.9/site-packages (from folium) (3.1.3)\r\nCollecting xyzservices\r\n  Downloading xyzservices-2024.4.0-py3-none-any.whl (81 kB)\r\n\u001B[?25l\r\u001B[K     |████                            | 10 kB 37.0 MB/s eta 0:00:01\r\u001B[K     |████████                        | 20 kB 46.5 MB/s eta 0:00:01\r\u001B[K     |████████████                    | 30 kB 57.8 MB/s eta 0:00:01\r\u001B[K     |████████████████                | 40 kB 66.3 MB/s eta 0:00:01\r\u001B[K     |████████████████████            | 51 kB 71.9 MB/s eta 0:00:01\r\u001B[K     |████████████████████████        | 61 kB 78.4 MB/s eta 0:00:01\r\u001B[K     |████████████████████████████    | 71 kB 82.2 MB/s eta 0:00:01\r\u001B[K     |████████████████████████████████| 81 kB 86.1 MB/s eta 0:00:01\r\u001B[K     |████████████████████████████████| 81 kB 72 kB/s \r\n\u001B[?25hCollecting branca>=0.6.0\r\n  Downloading branca-0.7.1-py3-none-any.whl (25 kB)\r\nRequirement already satisfied: requests in /databricks/python3/lib/python3.9/site-packages (from folium) (2.27.1)\r\nRequirement already satisfied: packaging>=20.0 in /databricks/python3/lib/python3.9/site-packages (from matplotlib) (21.3)\r\nRequirement already satisfied: python-dateutil>=2.7 in /databricks/python3/lib/python3.9/site-packages (from matplotlib) (2.8.2)\r\nRequirement already satisfied: fonttools>=4.22.0 in /databricks/python3/lib/python3.9/site-packages (from matplotlib) (4.25.0)\r\nRequirement already satisfied: kiwisolver>=1.0.1 in /databricks/python3/lib/python3.9/site-packages (from matplotlib) (1.3.2)\r\nRequirement already satisfied: pyparsing>=2.2.1 in /databricks/python3/lib/python3.9/site-packages (from matplotlib) (3.0.4)\r\nRequirement already satisfied: cycler>=0.10 in /databricks/python3/lib/python3.9/site-packages (from matplotlib) (0.11.0)\r\nRequirement already satisfied: pillow>=6.2.0 in /databricks/python3/lib/python3.9/site-packages (from matplotlib) (9.0.1)\r\nCollecting numpy\r\n  Downloading numpy-1.26.4-cp39-cp39-manylinux_2_17_x86_64.manylinux2014_x86_64.whl (18.2 MB)\r\n\u001B[?25l\r\u001B[K     |                                | 10 kB 31.9 MB/s eta 0:00:01\r\u001B[K     |                                | 20 kB 42.7 MB/s eta 0:00:01\r\u001B[K     |                                | 30 kB 54.8 MB/s eta 0:00:01\r\u001B[K     |                                | 40 kB 59.8 MB/s eta 0:00:01\r\u001B[K     |                                | 51 kB 62.7 MB/s eta 0:00:01\r\u001B[K     |                                | 61 kB 68.9 MB/s eta 0:00:01\r\u001B[K     |▏                               | 71 kB 70.9 MB/s eta 0:00:01\r\u001B[K     |▏                               | 81 kB 74.4 MB/s eta 0:00:01\r\u001B[K     |▏                               | 92 kB 75.1 MB/s eta 0:00:01\r\u001B[K     |▏                               | 102 kB 76.3 MB/s eta 0:00:01\r\u001B[K     |▏                               | 112 kB 76.3 MB/s eta 0:00:01\r\u001B[K     |▏                               | 122 kB 76.3 MB/s eta 0:00:01\r\u001B[K     |▎                               | 133 kB 76.3 MB/s eta 0:00:01\r\u001B[K     |▎                               | 143 kB 76.3 MB/s eta 0:00:01\r\u001B[K     |▎                               | 153 kB 76.3 MB/s eta 0:00:01\r\u001B[K     |▎                               | 163 kB 76.3 MB/s eta 0:00:01\r\u001B[K     |▎                               | 174 kB 76.3 MB/s eta 0:00:01\r\u001B[K     |▎                               | 184 kB 76.3 MB/s eta 0:00:01\r\u001B[K     |▍                               | 194 kB 76.3 MB/s eta 0:00:01\r\u001B[K     |▍                               | 204 kB 76.3 MB/s eta 0:00:01\r\u001B[K     |▍                               | 215 kB 76.3 MB/s eta 0:00:01\r\u001B[K     |▍                               | 225 kB 76.3 MB/s eta 0:00:01\r\u001B[K     |▍                               | 235 kB 76.3 MB/s eta 0:00:01\r\u001B[K     |▍                               | 245 kB 76.3 MB/s eta 0:00:01\r\u001B[K     |▌                               | 256 kB 76.3 MB/s eta 0:00:01\r\u001B[K     |▌                               | 266 kB 76.3 MB/s eta 0:00:01\r\u001B[K     |▌                               | 276 kB 76.3 MB/s eta 0:00:01\r\u001B[K     |▌                               | 286 kB 76.3 MB/s eta 0:00:01\r\u001B[K     |▌                               | 296 kB 76.3 MB/s eta 0:00:01\r\u001B[K     |▌                               | 307 kB 76.3 MB/s eta 0:00:01\r\u001B[K     |▋                               | 317 kB 76.3 MB/s eta 0:00:01\r\u001B[K     |▋                               | 327 kB 76.3 MB/s eta 0:00:01\r\u001B[K     |▋                               | 337 kB 76.3 MB/s eta 0:00:01\r\u001B[K     |▋                               | 348 kB 76.3 MB/s eta 0:00:01\r\u001B[K     |▋                               | 358 kB 76.3 MB/s eta 0:00:01\r\u001B[K     |▋                               | 368 kB 76.3 MB/s eta 0:00:01\r\u001B[K     |▋                               | 378 kB 76.3 MB/s eta 0:00:01\r\u001B[K     |▊                               | 389 kB 76.3 MB/s eta 0:00:01\r\u001B[K     |▊                               | 399 kB 76.3 MB/s eta 0:00:01\r\u001B[K     |▊                               | 409 kB 76.3 MB/s eta 0:00:01\r\u001B[K     |▊                               | 419 kB 76.3 MB/s eta 0:00:01\r\u001B[K     |▊                               | 430 kB 76.3 MB/s eta 0:00:01\r\u001B[K     |▊                               | 440 kB 76.3 MB/s eta 0:00:01\r\u001B[K     |▉                               | 450 kB 76.3 MB/s eta 0:00:01\r\u001B[K     |▉                               | 460 kB 76.3 MB/s eta 0:00:01\r\u001B[K     |▉                               | 471 kB 76.3 MB/s eta 0:00:01\r\u001B[K     |▉                               | 481 kB 76.3 MB/s eta 0:00:01\r\u001B[K     |▉                               | 491 kB 76.3 MB/s eta 0:00:01\r\u001B[K     |▉                               | 501 kB 76.3 MB/s eta 0:00:01\r\u001B[K     |█                               | 512 kB 76.3 MB/s eta 0:00:01\r\u001B[K     |█                               | 522 kB 76.3 MB/s eta 0:00:01\r\u001B[K     |█                               | 532 kB 76.3 MB/s eta 0:00:01\r\u001B[K     |█                               | 542 kB 76.3 MB/s eta 0:00:01\r\u001B[K     |█                               | 552 kB 76.3 MB/s eta 0:00:01\r\u001B[K     |█                               | 563 kB 76.3 MB/s eta 0:00:01\r\u001B[K     |█                               | 573 kB 76.3 MB/s eta 0:00:01\r\u001B[K     |█                               | 583 kB 76.3 MB/s eta 0:00:01\r\u001B[K     |█                               | 593 kB 76.3 MB/s eta 0:00:01\r\u001B[K     |█                               | 604 kB 76.3 MB/s eta 0:00:01\r\u001B[K     |█                               | 614 kB 76.3 MB/s eta 0:00:01\r\u001B[K     |█                               | 624 kB 76.3 MB/s eta 0:00:01\r\u001B[K     |█▏                              | 634 kB 76.3 MB/s eta 0:00:01\r\u001B[K     |█▏                              | 645 kB 76.3 MB/s eta 0:00:01\r\u001B[K     |█▏                              | 655 kB 76.3 MB/s eta 0:00:01\r\u001B[K     |█▏                              | 665 kB 76.3 MB/s eta 0:00:01\r\u001B[K     |█▏                              | 675 kB 76.3 MB/s eta 0:00:01\r\u001B[K     |█▏                              | 686 kB 76.3 MB/s eta 0:00:01\r\u001B[K     |█▏                              | 696 kB 76.3 MB/s eta 0:00:01\r\u001B[K     |█▎                              | 706 kB 76.3 MB/s eta 0:00:01\r\u001B[K     |█▎                              | 716 kB 76.3 MB/s eta 0:00:01\r\u001B[K     |█▎                              | 727 kB 76.3 MB/s eta 0:00:01\r\u001B[K     |█▎                              | 737 kB 76.3 MB/s eta 0:00:01\r\u001B[K     |█▎                              | 747 kB 76.3 MB/s eta 0:00:01\r\u001B[K     |█▎                              | 757 kB 76.3 MB/s eta 0:00:01\r\u001B[K     |█▍                              | 768 kB 76.3 MB/s eta 0:00:01\r\u001B[K     |█▍                              | 778 kB 76.3 MB/s eta 0:00:01\r\u001B[K     |█▍                              | 788 kB 76.3 MB/s eta 0:00:01\r\u001B[K     |█▍                              | 798 kB 76.3 MB/s eta 0:00:01\r\u001B[K     |█▍                              | 808 kB 76.3 MB/s eta 0:00:01\r\u001B[K     |█▍                              | 819 kB 76.3 MB/s eta 0:00:01\r\u001B[K     |█▌                              | 829 kB 76.3 MB/s eta 0:00:01\r\u001B[K     |█▌                              | 839 kB 76.3 MB/s eta 0:00:01\r\u001B[K     |█▌                              | 849 kB 76.3 MB/s eta 0:00:01\r\u001B[K     |█▌                              | 860 kB 76.3 MB/s eta 0:00:01\r\u001B[K     |█▌                              | 870 kB 76.3 MB/s eta 0:00:01\r\u001B[K     |█▌                              | 880 kB 76.3 MB/s eta 0:00:01\r\u001B[K     |█▋                              | 890 kB 76.3 MB/s eta 0:00:01\r\u001B[K     |█▋                              | 901 kB 76.3 MB/s eta 0:00:01\r\u001B[K     |█▋                              | 911 kB 76.3 MB/s eta 0:00:01\r\u001B[K     |█▋                              | 921 kB 76.3 MB/s eta 0:00:01\r\u001B[K     |█▋                              | 931 kB 76.3 MB/s eta 0:00:01\r\u001B[K     |█▋                              | 942 kB 76.3 MB/s eta 0:00:01\r\u001B[K     |█▊                              | 952 kB 76.3 MB/s eta 0:00:01\r\u001B[K     |█▊                              | 962 kB 76.3 MB/s eta 0:00:01\r\u001B[K     |█▊                              | 972 kB 76.3 MB/s eta 0:00:01\r\u001B[K     |█▊                              | 983 kB 76.3 MB/s eta 0:00:01\r\u001B[K     |█▊                              | 993 kB 76.3 MB/s eta 0:00:01\r\u001B[K     |█▊                              | 1.0 MB 76.3 MB/s eta 0:00:01\r\u001B[K     |█▊                              | 1.0 MB 76.3 MB/s eta 0:00:01\r\u001B[K     |█▉                              | 1.0 MB 76.3 MB/s eta 0:00:01\r\u001B[K     |█▉                              | 1.0 MB 76.3 MB/s eta 0:00:01\r\u001B[K     |█▉                              | 1.0 MB 76.3 MB/s eta 0:00:01\r\u001B[K     |█▉                              | 1.1 MB 76.3 MB/s eta 0:00:01\r\u001B[K     |█▉                              | 1.1 MB 76.3 MB/s eta 0:00:01\r\u001B[K     |█▉                              | 1.1 MB 76.3 MB/s eta 0:00:01\r\u001B[K     |██                              | 1.1 MB 76.3 MB/s eta 0:00:01\r\u001B[K     |██                              | 1.1 MB 76.3 MB/s eta 0:00:01\r\u001B[K     |██                              | 1.1 MB 76.3 MB/s eta 0:00:01\r\u001B[K     |██                              | 1.1 MB 76.3 MB/s eta 0:00:01\r\u001B[K     |██                              | 1.1 MB 76.3 MB/s eta 0:00:01\r\u001B[K     |██                              | 1.1 MB 76.3 MB/s eta 0:00:01\r\u001B[K     |██                              | 1.1 MB 76.3 MB/s eta 0:00:01\r\u001B[K     |██                              | 1.2 MB 76.3 MB/s eta 0:00:01\r\u001B[K     |██                              | 1.2 MB 76.3 MB/s eta 0:00:01\r\u001B[K     |██                              | 1.2 MB 76.3 MB/s eta 0:00:01\r\u001B[K     |██                              | 1.2 MB 76.3 MB/s eta 0:00:01\r\u001B[K     |██                              | 1.2 MB 76.3 MB/s eta 0:00:01\r\u001B[K     |██▏                             | 1.2 MB 76.3 MB/s eta 0:00:01\r\u001B[K     |██▏                             | 1.2 MB 76.3 MB/s eta 0:00:01\r\u001B[K     |██▏                             | 1.2 MB 76.3 MB/s eta 0:00:01\r\u001B[K     |██▏                             | 1.2 MB 76.3 MB/s eta 0:00:01\r\u001B[K     |██▏                             | 1.2 MB 76.3 MB/s eta 0:00:01\r\u001B[K     |██▏                             | 1.3 MB 76.3 MB/s eta 0:00:01\r\u001B[K     |██▎                             | 1.3 MB 76.3 MB/s eta 0:00:01\r\u001B[K     |██▎                             | 1.3 MB 76.3 MB/s eta 0:00:01\r\u001B[K     |██▎                             | 1.3 MB 76.3 MB/s eta 0:00:01\r\u001B[K     |██▎                             | 1.3 MB 76.3 MB/s eta 0:00:01\r\u001B[K     |██▎                             | 1.3 MB 76.3 MB/s eta 0:00:01\r\u001B[K     |██▎                             | 1.3 MB 76.3 MB/s eta 0:00:01\r\u001B[K     |██▍                             | 1.3 MB 76.3 MB/s eta 0:00:01\r\u001B[K     |██▍                             | 1.3 MB 76.3 MB/s eta 0:00:01\r\u001B[K     |██▍                             | 1.4 MB 76.3 MB/s eta 0:00:01\r\u001B[K     |██▍                             | 1.4 MB 76.3 MB/s eta 0:00:01\r\u001B[K     |██▍                             | 1.4 MB 76.3 MB/s eta 0:00:01\r\u001B[K     |██▍                             | 1.4 MB 76.3 MB/s eta 0:00:01\r\u001B[K     |██▍                             | 1.4 MB 76.3 MB/s eta 0:00:01\r\u001B[K     |██▌                             | 1.4 MB 76.3 MB/s eta 0:00:01\r\u001B[K     |██▌                             | 1.4 MB 76.3 MB/s eta 0:00:01\r\u001B[K     |██▌                             | 1.4 MB 76.3 MB/s eta 0:00:01\r\u001B[K     |██▌                             | 1.4 MB 76.3 MB/s eta 0:00:01\r\u001B[K     |██▌                             | 1.4 MB 76.3 MB/s eta 0:00:01\r\u001B[K     |██▌                             | 1.5 MB 76.3 MB/s eta 0:00:01\r\u001B[K     |██▋                             | 1.5 MB 76.3 MB/s eta 0:00:01\r\u001B[K     |██▋                             | 1.5 MB 76.3 MB/s eta 0:00:01\r\u001B[K     |██▋                             | 1.5 MB 76.3 MB/s eta 0:00:01\r\u001B[K     |██▋                             | 1.5 MB 76.3 MB/s eta 0:00:01\r\u001B[K     |██▋                             | 1.5 MB 76.3 MB/s eta 0:00:01\r\u001B[K     |██▋                             | 1.5 MB 76.3 MB/s eta 0:00:01\r\u001B[K     |██▊                             | 1.5 MB 76.3 MB/s eta 0:00:01\r\u001B[K     |██▊                             | 1.5 MB 76.3 MB/s eta 0:00:01\r\u001B[K     |██▊                             | 1.5 MB 76.3 MB/s eta 0:00:01\r\u001B[K     |██▊                             | 1.6 MB 76.3 MB/s eta 0:00:01\r\u001B[K     |██▊                             | 1.6 MB 76.3 MB/s eta 0:00:01\r\u001B[K     |██▊                             | 1.6 MB 76.3 MB/s eta 0:00:01\r\u001B[K     |██▉                             | 1.6 MB 76.3 MB/s eta 0:00:01\r\u001B[K     |██▉                             | 1.6 MB 76.3 MB/s eta 0:00:01\r\u001B[K     |██▉                             | 1.6 MB 76.3 MB/s eta 0:00:01\r\u001B[K     |██▉                             | 1.6 MB 76.3 MB/s eta 0:00:01\r\u001B[K     |██▉                             | 1.6 MB 76.3 MB/s eta 0:00:01\r\u001B[K     |██▉                             | 1.6 MB 76.3 MB/s eta 0:00:01\r\u001B[K     |███                             | 1.6 MB 76.3 MB/s eta 0:00:01\r\u001B[K     |███                             | 1.7 MB 76.3 MB/s eta 0:00:01\r\u001B[K     |███                             | 1.7 MB 76.3 MB/s eta 0:00:01\r\u001B[K     |███                             | 1.7 MB 76.3 MB/s eta 0:00:01\r\u001B[K     |███                             | 1.7 MB 76.3 MB/s eta 0:00:01\r\u001B[K     |███                             | 1.7 MB 76.3 MB/s eta 0:00:01\r\u001B[K     |███                             | 1.7 MB 76.3 MB/s eta 0:00:01\r\u001B[K     |███                             | 1.7 MB 76.3 MB/s eta 0:00:01\r\u001B[K     |███                             | 1.7 MB 76.3 MB/s eta 0:00:01\r\u001B[K     |███                             | 1.7 MB 76.3 MB/s eta 0:00:01\r\u001B[K     |███                             | 1.8 MB 76.3 MB/s eta 0:00:01\r\u001B[K     |███                             | 1.8 MB 76.3 MB/s eta 0:00:01\r\u001B[K     |███                             | 1.8 MB 76.3 MB/s eta 0:00:01\r\u001B[K     |███▏                            | 1.8 MB 76.3 MB/s eta 0:00:01\r\u001B[K     |███▏                            | 1.8 MB 76.3 MB/s eta 0:00:01\r\u001B[K     |███▏                            | 1.8 MB 76.3 MB/s eta 0:00:01\r\u001B[K     |███▏                            | 1.8 MB 76.3 MB/s eta 0:00:01\r\u001B[K     |███▏                            | 1.8 MB 76.3 MB/s eta 0:00:01\r\u001B[K     |███▏                            | 1.8 MB 76.3 MB/s eta 0:00:01\r\u001B[K     |███▎                            | 1.8 MB 76.3 MB/s eta 0:00:01\r\u001B[K     |███▎                            | 1.9 MB 76.3 MB/s eta 0:00:01\r\u001B[K     |███▎                            | 1.9 MB 76.3 MB/s eta 0:00:01\r\u001B[K     |███▎                            | 1.9 MB 76.3 MB/s eta 0:00:01\r\u001B[K     |███▎                            | 1.9 MB 76.3 MB/s eta 0:00:01\r\u001B[K     |███▎                            | 1.9 MB 76.3 MB/s eta 0:00:01\r\u001B[K     |███▍                            | 1.9 MB 76.3 MB/s eta 0:00:01\r\u001B[K     |███▍                            | 1.9 MB 76.3 MB/s eta 0:00:01\r\u001B[K     |███▍                            | 1.9 MB 76.3 MB/s eta 0:00:01\r\u001B[K     |███▍                            | 1.9 MB 76.3 MB/s eta 0:00:01\r\u001B[K     |███▍                            | 1.9 MB 76.3 MB/s eta 0:00:01\r\u001B[K     |███▍                            | 2.0 MB 76.3 MB/s eta 0:00:01\r\u001B[K     |███▌                            | 2.0 MB 76.3 MB/s eta 0:00:01\r\u001B[K     |███▌                            | 2.0 MB 76.3 MB/s eta 0:00:01\r\u001B[K     |███▌                            | 2.0 MB 76.3 MB/s eta 0:00:01\r\u001B[K     |███▌                            | 2.0 MB 76.3 MB/s eta 0:00:01\r\u001B[K     |███▌                            | 2.0 MB 76.3 MB/s eta 0:00:01\r\u001B[K     |███▌                            | 2.0 MB 76.3 MB/s eta 0:00:01\r\u001B[K     |███▌                            | 2.0 MB 76.3 MB/s eta 0:00:01\r\u001B[K     |███▋                            | 2.0 MB 76.3 MB/s eta 0:00:01\r\u001B[K     |███▋                            | 2.0 MB 76.3 MB/s eta 0:00:01\r\u001B[K     |███▋                            | 2.1 MB 76.3 MB/s eta 0:00:01\r\u001B[K     |███▋                            | 2.1 MB 76.3 MB/s eta 0:00:01\r\u001B[K     |███▋                            | 2.1 MB 76.3 MB/s eta 0:00:01\r\u001B[K     |███▋                            | 2.1 MB 76.3 MB/s eta 0:00:01\r\u001B[K     |███▊                            | 2.1 MB 76.3 MB/s eta 0:00:01\r\u001B[K     |███▊                            | 2.1 MB 76.3 MB/s eta 0:00:01\r\u001B[K     |███▊                            | 2.1 MB 76.3 MB/s eta 0:00:01\r\u001B[K     |███▊                            | 2.1 MB 76.3 MB/s eta 0:00:01\r\u001B[K     |███▊                            | 2.1 MB 76.3 MB/s eta 0:00:01\r\u001B[K     |███▊                            | 2.2 MB 76.3 MB/s eta 0:00:01\r\u001B[K     |███▉                            | 2.2 MB 76.3 MB/s eta 0:00:01\r\u001B[K     |███▉                            | 2.2 MB 76.3 MB/s eta 0:00:01\r\u001B[K     |███▉                            | 2.2 MB 76.3 MB/s eta 0:00:01\r\u001B[K     |███▉                            | 2.2 MB 76.3 MB/s eta 0:00:01\r\u001B[K     |███▉                            | 2.2 MB 76.3 MB/s eta 0:00:01\r\u001B[K     |███▉                            | 2.2 MB 76.3 MB/s eta 0:00:01\r\u001B[K     |████                            | 2.2 MB 76.3 MB/s eta 0:00:01\r\u001B[K     |████                            | 2.2 MB 76.3 MB/s eta 0:00:01\r\u001B[K     |████                            | 2.2 MB 76.3 MB/s eta 0:00:01\r\u001B[K     |████                            | 2.3 MB 76.3 MB/s eta 0:00:01\r\u001B[K     |████                            | 2.3 MB 76.3 MB/s eta 0:00:01\r\u001B[K     |████                            | 2.3 MB 76.3 MB/s eta 0:00:01\r\u001B[K     |████                            | 2.3 MB 76.3 MB/s eta 0:00:01\r\u001B[K     |████                            | 2.3 MB 76.3 MB/s eta 0:00:01\r\u001B[K     |████                            | 2.3 MB 76.3 MB/s eta 0:00:01\r\u001B[K     |████                            | 2.3 MB 76.3 MB/s eta 0:00:01\r\u001B[K     |████                            | 2.3 MB 76.3 MB/s eta 0:00:01\r\u001B[K     |████                            | 2.3 MB 76.3 MB/s eta 0:00:01\r\u001B[K     |████▏                           | 2.3 MB 76.3 MB/s eta 0:00:01\r\u001B[K     |████▏                           | 2.4 MB 76.3 MB/s eta 0:00:01\r\u001B[K     |████▏                           | 2.4 MB 76.3 MB/s eta 0:00:01\r\u001B[K     |████▏                           | 2.4 MB 76.3 MB/s eta 0:00:01\r\u001B[K     |████▏                           | 2.4 MB 76.3 MB/s eta 0:00:01\r\u001B[K  \n\n*** WARNING: max output size exceeded, skipping output. ***\n\n17.8 MB 83.7 MB/s eta 0:00:01\r\u001B[K     |███████████████████████████▋    | 17.8 MB 83.7 MB/s eta 0:00:01\r\u001B[K     |███████████████████████████▊    | 17.8 MB 83.7 MB/s eta 0:00:01\r\u001B[K     |███████████████████████████▊    | 17.8 MB 83.7 MB/s eta 0:00:01\r\u001B[K     |███████████████████████████▊    | 17.9 MB 83.7 MB/s eta 0:00:01\r\u001B[K     |███████████████████████████▊    | 17.9 MB 83.7 MB/s eta 0:00:01\r\u001B[K     |███████████████████████████▊    | 17.9 MB 83.7 MB/s eta 0:00:01\r\u001B[K     |███████████████████████████▊    | 17.9 MB 83.7 MB/s eta 0:00:01\r\u001B[K     |███████████████████████████▊    | 17.9 MB 83.7 MB/s eta 0:00:01\r\u001B[K     |███████████████████████████▉    | 17.9 MB 83.7 MB/s eta 0:00:01\r\u001B[K     |███████████████████████████▉    | 17.9 MB 83.7 MB/s eta 0:00:01\r\u001B[K     |███████████████████████████▉    | 17.9 MB 83.7 MB/s eta 0:00:01\r\u001B[K     |███████████████████████████▉    | 17.9 MB 83.7 MB/s eta 0:00:01\r\u001B[K     |███████████████████████████▉    | 18.0 MB 83.7 MB/s eta 0:00:01\r\u001B[K     |███████████████████████████▉    | 18.0 MB 83.7 MB/s eta 0:00:01\r\u001B[K     |███████████████████████████▉    | 18.0 MB 83.7 MB/s eta 0:00:01\r\u001B[K     |████████████████████████████    | 18.0 MB 83.7 MB/s eta 0:00:01\r\u001B[K     |████████████████████████████    | 18.0 MB 83.7 MB/s eta 0:00:01\r\u001B[K     |████████████████████████████    | 18.0 MB 83.7 MB/s eta 0:00:01\r\u001B[K     |████████████████████████████    | 18.0 MB 83.7 MB/s eta 0:00:01\r\u001B[K     |████████████████████████████    | 18.0 MB 83.7 MB/s eta 0:00:01\r\u001B[K     |████████████████████████████    | 18.0 MB 83.7 MB/s eta 0:00:01\r\u001B[K     |████████████████████████████    | 18.0 MB 83.7 MB/s eta 0:00:01\r\u001B[K     |████████████████████████████    | 18.1 MB 83.7 MB/s eta 0:00:01\r\u001B[K     |████████████████████████████    | 18.1 MB 83.7 MB/s eta 0:00:01\r\u001B[K     |████████████████████████████    | 18.1 MB 83.7 MB/s eta 0:00:01\r\u001B[K     |████████████████████████████    | 18.1 MB 83.7 MB/s eta 0:00:01\r\u001B[K     |████████████████████████████    | 18.1 MB 83.7 MB/s eta 0:00:01\r\u001B[K     |████████████████████████████    | 18.1 MB 83.7 MB/s eta 0:00:01\r\u001B[K     |████████████████████████████    | 18.1 MB 83.7 MB/s eta 0:00:01\r\u001B[K     |████████████████████████████▏   | 18.1 MB 83.7 MB/s eta 0:00:01\r\u001B[K     |████████████████████████████▏   | 18.1 MB 83.7 MB/s eta 0:00:01\r\u001B[K     |████████████████████████████▏   | 18.1 MB 83.7 MB/s eta 0:00:01\r\u001B[K     |████████████████████████████▏   | 18.2 MB 83.7 MB/s eta 0:00:01\r\u001B[K     |████████████████████████████▏   | 18.2 MB 83.7 MB/s eta 0:00:01\r\u001B[K     |████████████████████████████▏   | 18.2 MB 83.7 MB/s eta 0:00:01\r\u001B[K     |████████████████████████████▏   | 18.2 MB 83.7 MB/s eta 0:00:01\r\u001B[K     |████████████████████████████▎   | 18.2 MB 83.7 MB/s eta 0:00:01\r\u001B[K     |████████████████████████████▎   | 18.2 MB 83.7 MB/s eta 0:00:01\r\u001B[K     |████████████████████████████▎   | 18.2 MB 83.7 MB/s eta 0:00:01\r\u001B[K     |████████████████████████████▎   | 18.2 MB 83.7 MB/s eta 0:00:01\r\u001B[K     |████████████████████████████▎   | 18.2 MB 83.7 MB/s eta 0:00:01\r\u001B[K     |████████████████████████████▎   | 18.2 MB 83.7 MB/s eta 0:00:01\r\u001B[K     |████████████████████████████▎   | 18.3 MB 83.7 MB/s eta 0:00:01\r\u001B[K     |████████████████████████████▍   | 18.3 MB 83.7 MB/s eta 0:00:01\r\u001B[K     |████████████████████████████▍   | 18.3 MB 83.7 MB/s eta 0:00:01\r\u001B[K     |████████████████████████████▍   | 18.3 MB 83.7 MB/s eta 0:00:01\r\u001B[K     |████████████████████████████▍   | 18.3 MB 83.7 MB/s eta 0:00:01\r\u001B[K     |████████████████████████████▍   | 18.3 MB 83.7 MB/s eta 0:00:01\r\u001B[K     |████████████████████████████▍   | 18.3 MB 83.7 MB/s eta 0:00:01\r\u001B[K     |████████████████████████████▍   | 18.3 MB 83.7 MB/s eta 0:00:01\r\u001B[K     |████████████████████████████▌   | 18.3 MB 83.7 MB/s eta 0:00:01\r\u001B[K     |████████████████████████████▌   | 18.4 MB 83.7 MB/s eta 0:00:01\r\u001B[K     |████████████████████████████▌   | 18.4 MB 83.7 MB/s eta 0:00:01\r\u001B[K     |████████████████████████████▌   | 18.4 MB 83.7 MB/s eta 0:00:01\r\u001B[K     |████████████████████████████▌   | 18.4 MB 83.7 MB/s eta 0:00:01\r\u001B[K     |████████████████████████████▌   | 18.4 MB 83.7 MB/s eta 0:00:01\r\u001B[K     |████████████████████████████▌   | 18.4 MB 83.7 MB/s eta 0:00:01\r\u001B[K     |████████████████████████████▋   | 18.4 MB 83.7 MB/s eta 0:00:01\r\u001B[K     |████████████████████████████▋   | 18.4 MB 83.7 MB/s eta 0:00:01\r\u001B[K     |████████████████████████████▋   | 18.4 MB 83.7 MB/s eta 0:00:01\r\u001B[K     |████████████████████████████▋   | 18.4 MB 83.7 MB/s eta 0:00:01\r\u001B[K     |████████████████████████████▋   | 18.5 MB 83.7 MB/s eta 0:00:01\r\u001B[K     |████████████████████████████▋   | 18.5 MB 83.7 MB/s eta 0:00:01\r\u001B[K     |████████████████████████████▋   | 18.5 MB 83.7 MB/s eta 0:00:01\r\u001B[K     |████████████████████████████▊   | 18.5 MB 83.7 MB/s eta 0:00:01\r\u001B[K     |████████████████████████████▊   | 18.5 MB 83.7 MB/s eta 0:00:01\r\u001B[K     |████████████████████████████▊   | 18.5 MB 83.7 MB/s eta 0:00:01\r\u001B[K     |████████████████████████████▊   | 18.5 MB 83.7 MB/s eta 0:00:01\r\u001B[K     |████████████████████████████▊   | 18.5 MB 83.7 MB/s eta 0:00:01\r\u001B[K     |████████████████████████████▊   | 18.5 MB 83.7 MB/s eta 0:00:01\r\u001B[K     |████████████████████████████▊   | 18.5 MB 83.7 MB/s eta 0:00:01\r\u001B[K     |████████████████████████████▉   | 18.6 MB 83.7 MB/s eta 0:00:01\r\u001B[K     |████████████████████████████▉   | 18.6 MB 83.7 MB/s eta 0:00:01\r\u001B[K     |████████████████████████████▉   | 18.6 MB 83.7 MB/s eta 0:00:01\r\u001B[K     |████████████████████████████▉   | 18.6 MB 83.7 MB/s eta 0:00:01\r\u001B[K     |████████████████████████████▉   | 18.6 MB 83.7 MB/s eta 0:00:01\r\u001B[K     |████████████████████████████▉   | 18.6 MB 83.7 MB/s eta 0:00:01\r\u001B[K     |████████████████████████████▉   | 18.6 MB 83.7 MB/s eta 0:00:01\r\u001B[K     |█████████████████████████████   | 18.6 MB 83.7 MB/s eta 0:00:01\r\u001B[K     |█████████████████████████████   | 18.6 MB 83.7 MB/s eta 0:00:01\r\u001B[K     |█████████████████████████████   | 18.6 MB 83.7 MB/s eta 0:00:01\r\u001B[K     |█████████████████████████████   | 18.7 MB 83.7 MB/s eta 0:00:01\r\u001B[K     |█████████████████████████████   | 18.7 MB 83.7 MB/s eta 0:00:01\r\u001B[K     |█████████████████████████████   | 18.7 MB 83.7 MB/s eta 0:00:01\r\u001B[K     |█████████████████████████████   | 18.7 MB 83.7 MB/s eta 0:00:01\r\u001B[K     |█████████████████████████████   | 18.7 MB 83.7 MB/s eta 0:00:01\r\u001B[K     |█████████████████████████████   | 18.7 MB 83.7 MB/s eta 0:00:01\r\u001B[K     |█████████████████████████████   | 18.7 MB 83.7 MB/s eta 0:00:01\r\u001B[K     |█████████████████████████████   | 18.7 MB 83.7 MB/s eta 0:00:01\r\u001B[K     |█████████████████████████████   | 18.7 MB 83.7 MB/s eta 0:00:01\r\u001B[K     |█████████████████████████████   | 18.7 MB 83.7 MB/s eta 0:00:01\r\u001B[K     |█████████████████████████████   | 18.8 MB 83.7 MB/s eta 0:00:01\r\u001B[K     |█████████████████████████████▏  | 18.8 MB 83.7 MB/s eta 0:00:01\r\u001B[K     |█████████████████████████████▏  | 18.8 MB 83.7 MB/s eta 0:00:01\r\u001B[K     |█████████████████████████████▏  | 18.8 MB 83.7 MB/s eta 0:00:01\r\u001B[K     |█████████████████████████████▏  | 18.8 MB 83.7 MB/s eta 0:00:01\r\u001B[K     |█████████████████████████████▏  | 18.8 MB 83.7 MB/s eta 0:00:01\r\u001B[K     |█████████████████████████████▏  | 18.8 MB 83.7 MB/s eta 0:00:01\r\u001B[K     |█████████████████████████████▏  | 18.8 MB 83.7 MB/s eta 0:00:01\r\u001B[K     |█████████████████████████████▎  | 18.8 MB 83.7 MB/s eta 0:00:01\r\u001B[K     |█████████████████████████████▎  | 18.9 MB 83.7 MB/s eta 0:00:01\r\u001B[K     |█████████████████████████████▎  | 18.9 MB 83.7 MB/s eta 0:00:01\r\u001B[K     |█████████████████████████████▎  | 18.9 MB 83.7 MB/s eta 0:00:01\r\u001B[K     |█████████████████████████████▎  | 18.9 MB 83.7 MB/s eta 0:00:01\r\u001B[K     |█████████████████████████████▎  | 18.9 MB 83.7 MB/s eta 0:00:01\r\u001B[K     |█████████████████████████████▎  | 18.9 MB 83.7 MB/s eta 0:00:01\r\u001B[K     |█████████████████████████████▍  | 18.9 MB 83.7 MB/s eta 0:00:01\r\u001B[K     |█████████████████████████████▍  | 18.9 MB 83.7 MB/s eta 0:00:01\r\u001B[K     |█████████████████████████████▍  | 18.9 MB 83.7 MB/s eta 0:00:01\r\u001B[K     |█████████████████████████████▍  | 18.9 MB 83.7 MB/s eta 0:00:01\r\u001B[K     |█████████████████████████████▍  | 19.0 MB 83.7 MB/s eta 0:00:01\r\u001B[K     |█████████████████████████████▍  | 19.0 MB 83.7 MB/s eta 0:00:01\r\u001B[K     |█████████████████████████████▍  | 19.0 MB 83.7 MB/s eta 0:00:01\r\u001B[K     |█████████████████████████████▌  | 19.0 MB 83.7 MB/s eta 0:00:01\r\u001B[K     |█████████████████████████████▌  | 19.0 MB 83.7 MB/s eta 0:00:01\r\u001B[K     |█████████████████████████████▌  | 19.0 MB 83.7 MB/s eta 0:00:01\r\u001B[K     |█████████████████████████████▌  | 19.0 MB 83.7 MB/s eta 0:00:01\r\u001B[K     |█████████████████████████████▌  | 19.0 MB 83.7 MB/s eta 0:00:01\r\u001B[K     |█████████████████████████████▌  | 19.0 MB 83.7 MB/s eta 0:00:01\r\u001B[K     |█████████████████████████████▌  | 19.0 MB 83.7 MB/s eta 0:00:01\r\u001B[K     |█████████████████████████████▋  | 19.1 MB 83.7 MB/s eta 0:00:01\r\u001B[K     |█████████████████████████████▋  | 19.1 MB 83.7 MB/s eta 0:00:01\r\u001B[K     |█████████████████████████████▋  | 19.1 MB 83.7 MB/s eta 0:00:01\r\u001B[K     |█████████████████████████████▋  | 19.1 MB 83.7 MB/s eta 0:00:01\r\u001B[K     |█████████████████████████████▋  | 19.1 MB 83.7 MB/s eta 0:00:01\r\u001B[K     |█████████████████████████████▋  | 19.1 MB 83.7 MB/s eta 0:00:01\r\u001B[K     |█████████████████████████████▋  | 19.1 MB 83.7 MB/s eta 0:00:01\r\u001B[K     |█████████████████████████████▊  | 19.1 MB 83.7 MB/s eta 0:00:01\r\u001B[K     |█████████████████████████████▊  | 19.1 MB 83.7 MB/s eta 0:00:01\r\u001B[K     |█████████████████████████████▊  | 19.1 MB 83.7 MB/s eta 0:00:01\r\u001B[K     |█████████████████████████████▊  | 19.2 MB 83.7 MB/s eta 0:00:01\r\u001B[K     |█████████████████████████████▊  | 19.2 MB 83.7 MB/s eta 0:00:01\r\u001B[K     |█████████████████████████████▊  | 19.2 MB 83.7 MB/s eta 0:00:01\r\u001B[K     |█████████████████████████████▊  | 19.2 MB 83.7 MB/s eta 0:00:01\r\u001B[K     |█████████████████████████████▉  | 19.2 MB 83.7 MB/s eta 0:00:01\r\u001B[K     |█████████████████████████████▉  | 19.2 MB 83.7 MB/s eta 0:00:01\r\u001B[K     |█████████████████████████████▉  | 19.2 MB 83.7 MB/s eta 0:00:01\r\u001B[K     |█████████████████████████████▉  | 19.2 MB 83.7 MB/s eta 0:00:01\r\u001B[K     |█████████████████████████████▉  | 19.2 MB 83.7 MB/s eta 0:00:01\r\u001B[K     |█████████████████████████████▉  | 19.3 MB 83.7 MB/s eta 0:00:01\r\u001B[K     |█████████████████████████████▉  | 19.3 MB 83.7 MB/s eta 0:00:01\r\u001B[K     |██████████████████████████████  | 19.3 MB 83.7 MB/s eta 0:00:01\r\u001B[K     |██████████████████████████████  | 19.3 MB 83.7 MB/s eta 0:00:01\r\u001B[K     |██████████████████████████████  | 19.3 MB 83.7 MB/s eta 0:00:01\r\u001B[K     |██████████████████████████████  | 19.3 MB 83.7 MB/s eta 0:00:01\r\u001B[K     |██████████████████████████████  | 19.3 MB 83.7 MB/s eta 0:00:01\r\u001B[K     |██████████████████████████████  | 19.3 MB 83.7 MB/s eta 0:00:01\r\u001B[K     |██████████████████████████████  | 19.3 MB 83.7 MB/s eta 0:00:01\r\u001B[K     |██████████████████████████████  | 19.3 MB 83.7 MB/s eta 0:00:01\r\u001B[K     |██████████████████████████████  | 19.4 MB 83.7 MB/s eta 0:00:01\r\u001B[K     |██████████████████████████████  | 19.4 MB 83.7 MB/s eta 0:00:01\r\u001B[K     |██████████████████████████████  | 19.4 MB 83.7 MB/s eta 0:00:01\r\u001B[K     |██████████████████████████████  | 19.4 MB 83.7 MB/s eta 0:00:01\r\u001B[K     |██████████████████████████████  | 19.4 MB 83.7 MB/s eta 0:00:01\r\u001B[K     |██████████████████████████████  | 19.4 MB 83.7 MB/s eta 0:00:01\r\u001B[K     |██████████████████████████████▏ | 19.4 MB 83.7 MB/s eta 0:00:01\r\u001B[K     |██████████████████████████████▏ | 19.4 MB 83.7 MB/s eta 0:00:01\r\u001B[K     |██████████████████████████████▏ | 19.4 MB 83.7 MB/s eta 0:00:01\r\u001B[K     |██████████████████████████████▏ | 19.4 MB 83.7 MB/s eta 0:00:01\r\u001B[K     |██████████████████████████████▏ | 19.5 MB 83.7 MB/s eta 0:00:01\r\u001B[K     |██████████████████████████████▏ | 19.5 MB 83.7 MB/s eta 0:00:01\r\u001B[K     |██████████████████████████████▏ | 19.5 MB 83.7 MB/s eta 0:00:01\r\u001B[K     |██████████████████████████████▎ | 19.5 MB 83.7 MB/s eta 0:00:01\r\u001B[K     |██████████████████████████████▎ | 19.5 MB 83.7 MB/s eta 0:00:01\r\u001B[K     |██████████████████████████████▎ | 19.5 MB 83.7 MB/s eta 0:00:01\r\u001B[K     |██████████████████████████████▎ | 19.5 MB 83.7 MB/s eta 0:00:01\r\u001B[K     |██████████████████████████████▎ | 19.5 MB 83.7 MB/s eta 0:00:01\r\u001B[K     |██████████████████████████████▎ | 19.5 MB 83.7 MB/s eta 0:00:01\r\u001B[K     |██████████████████████████████▎ | 19.5 MB 83.7 MB/s eta 0:00:01\r\u001B[K     |██████████████████████████████▍ | 19.6 MB 83.7 MB/s eta 0:00:01\r\u001B[K     |██████████████████████████████▍ | 19.6 MB 83.7 MB/s eta 0:00:01\r\u001B[K     |██████████████████████████████▍ | 19.6 MB 83.7 MB/s eta 0:00:01\r\u001B[K     |██████████████████████████████▍ | 19.6 MB 83.7 MB/s eta 0:00:01\r\u001B[K     |██████████████████████████████▍ | 19.6 MB 83.7 MB/s eta 0:00:01\r\u001B[K     |██████████████████████████████▍ | 19.6 MB 83.7 MB/s eta 0:00:01\r\u001B[K     |██████████████████████████████▍ | 19.6 MB 83.7 MB/s eta 0:00:01\r\u001B[K     |██████████████████████████████▌ | 19.6 MB 83.7 MB/s eta 0:00:01\r\u001B[K     |██████████████████████████████▌ | 19.6 MB 83.7 MB/s eta 0:00:01\r\u001B[K     |██████████████████████████████▌ | 19.7 MB 83.7 MB/s eta 0:00:01\r\u001B[K     |██████████████████████████████▌ | 19.7 MB 83.7 MB/s eta 0:00:01\r\u001B[K     |██████████████████████████████▌ | 19.7 MB 83.7 MB/s eta 0:00:01\r\u001B[K     |██████████████████████████████▌ | 19.7 MB 83.7 MB/s eta 0:00:01\r\u001B[K     |██████████████████████████████▌ | 19.7 MB 83.7 MB/s eta 0:00:01\r\u001B[K     |██████████████████████████████▋ | 19.7 MB 83.7 MB/s eta 0:00:01\r\u001B[K     |██████████████████████████████▋ | 19.7 MB 83.7 MB/s eta 0:00:01\r\u001B[K     |██████████████████████████████▋ | 19.7 MB 83.7 MB/s eta 0:00:01\r\u001B[K     |██████████████████████████████▋ | 19.7 MB 83.7 MB/s eta 0:00:01\r\u001B[K     |██████████████████████████████▋ | 19.7 MB 83.7 MB/s eta 0:00:01\r\u001B[K     |██████████████████████████████▋ | 19.8 MB 83.7 MB/s eta 0:00:01\r\u001B[K     |██████████████████████████████▋ | 19.8 MB 83.7 MB/s eta 0:00:01\r\u001B[K     |██████████████████████████████▊ | 19.8 MB 83.7 MB/s eta 0:00:01\r\u001B[K     |██████████████████████████████▊ | 19.8 MB 83.7 MB/s eta 0:00:01\r\u001B[K     |██████████████████████████████▊ | 19.8 MB 83.7 MB/s eta 0:00:01\r\u001B[K     |██████████████████████████████▊ | 19.8 MB 83.7 MB/s eta 0:00:01\r\u001B[K     |██████████████████████████████▊ | 19.8 MB 83.7 MB/s eta 0:00:01\r\u001B[K     |██████████████████████████████▊ | 19.8 MB 83.7 MB/s eta 0:00:01\r\u001B[K     |██████████████████████████████▊ | 19.8 MB 83.7 MB/s eta 0:00:01\r\u001B[K     |██████████████████████████████▉ | 19.8 MB 83.7 MB/s eta 0:00:01\r\u001B[K     |██████████████████████████████▉ | 19.9 MB 83.7 MB/s eta 0:00:01\r\u001B[K     |██████████████████████████████▉ | 19.9 MB 83.7 MB/s eta 0:00:01\r\u001B[K     |██████████████████████████████▉ | 19.9 MB 83.7 MB/s eta 0:00:01\r\u001B[K     |██████████████████████████████▉ | 19.9 MB 83.7 MB/s eta 0:00:01\r\u001B[K     |██████████████████████████████▉ | 19.9 MB 83.7 MB/s eta 0:00:01\r\u001B[K     |██████████████████████████████▉ | 19.9 MB 83.7 MB/s eta 0:00:01\r\u001B[K     |███████████████████████████████ | 19.9 MB 83.7 MB/s eta 0:00:01\r\u001B[K     |███████████████████████████████ | 19.9 MB 83.7 MB/s eta 0:00:01\r\u001B[K     |███████████████████████████████ | 19.9 MB 83.7 MB/s eta 0:00:01\r\u001B[K     |███████████████████████████████ | 19.9 MB 83.7 MB/s eta 0:00:01\r\u001B[K     |███████████████████████████████ | 20.0 MB 83.7 MB/s eta 0:00:01\r\u001B[K     |███████████████████████████████ | 20.0 MB 83.7 MB/s eta 0:00:01\r\u001B[K     |███████████████████████████████ | 20.0 MB 83.7 MB/s eta 0:00:01\r\u001B[K     |███████████████████████████████ | 20.0 MB 83.7 MB/s eta 0:00:01\r\u001B[K     |███████████████████████████████ | 20.0 MB 83.7 MB/s eta 0:00:01\r\u001B[K     |███████████████████████████████ | 20.0 MB 83.7 MB/s eta 0:00:01\r\u001B[K     |███████████████████████████████ | 20.0 MB 83.7 MB/s eta 0:00:01\r\u001B[K     |███████████████████████████████ | 20.0 MB 83.7 MB/s eta 0:00:01\r\u001B[K     |███████████████████████████████ | 20.0 MB 83.7 MB/s eta 0:00:01\r\u001B[K     |███████████████████████████████ | 20.0 MB 83.7 MB/s eta 0:00:01\r\u001B[K     |███████████████████████████████▏| 20.1 MB 83.7 MB/s eta 0:00:01\r\u001B[K     |███████████████████████████████▏| 20.1 MB 83.7 MB/s eta 0:00:01\r\u001B[K     |███████████████████████████████▏| 20.1 MB 83.7 MB/s eta 0:00:01\r\u001B[K     |███████████████████████████████▏| 20.1 MB 83.7 MB/s eta 0:00:01\r\u001B[K     |███████████████████████████████▏| 20.1 MB 83.7 MB/s eta 0:00:01\r\u001B[K     |███████████████████████████████▏| 20.1 MB 83.7 MB/s eta 0:00:01\r\u001B[K     |███████████████████████████████▏| 20.1 MB 83.7 MB/s eta 0:00:01\r\u001B[K     |███████████████████████████████▎| 20.1 MB 83.7 MB/s eta 0:00:01\r\u001B[K     |███████████████████████████████▎| 20.1 MB 83.7 MB/s eta 0:00:01\r\u001B[K     |███████████████████████████████▎| 20.2 MB 83.7 MB/s eta 0:00:01\r\u001B[K     |███████████████████████████████▎| 20.2 MB 83.7 MB/s eta 0:00:01\r\u001B[K     |███████████████████████████████▎| 20.2 MB 83.7 MB/s eta 0:00:01\r\u001B[K     |███████████████████████████████▎| 20.2 MB 83.7 MB/s eta 0:00:01\r\u001B[K     |███████████████████████████████▎| 20.2 MB 83.7 MB/s eta 0:00:01\r\u001B[K     |███████████████████████████████▍| 20.2 MB 83.7 MB/s eta 0:00:01\r\u001B[K     |███████████████████████████████▍| 20.2 MB 83.7 MB/s eta 0:00:01\r\u001B[K     |███████████████████████████████▍| 20.2 MB 83.7 MB/s eta 0:00:01\r\u001B[K     |███████████████████████████████▍| 20.2 MB 83.7 MB/s eta 0:00:01\r\u001B[K     |███████████████████████████████▍| 20.2 MB 83.7 MB/s eta 0:00:01\r\u001B[K     |███████████████████████████████▍| 20.3 MB 83.7 MB/s eta 0:00:01\r\u001B[K     |███████████████████████████████▍| 20.3 MB 83.7 MB/s eta 0:00:01\r\u001B[K     |███████████████████████████████▌| 20.3 MB 83.7 MB/s eta 0:00:01\r\u001B[K     |███████████████████████████████▌| 20.3 MB 83.7 MB/s eta 0:00:01\r\u001B[K     |███████████████████████████████▌| 20.3 MB 83.7 MB/s eta 0:00:01\r\u001B[K     |███████████████████████████████▌| 20.3 MB 83.7 MB/s eta 0:00:01\r\u001B[K     |███████████████████████████████▌| 20.3 MB 83.7 MB/s eta 0:00:01\r\u001B[K     |███████████████████████████████▌| 20.3 MB 83.7 MB/s eta 0:00:01\r\u001B[K     |███████████████████████████████▌| 20.3 MB 83.7 MB/s eta 0:00:01\r\u001B[K     |███████████████████████████████▋| 20.3 MB 83.7 MB/s eta 0:00:01\r\u001B[K     |███████████████████████████████▋| 20.4 MB 83.7 MB/s eta 0:00:01\r\u001B[K     |███████████████████████████████▋| 20.4 MB 83.7 MB/s eta 0:00:01\r\u001B[K     |███████████████████████████████▋| 20.4 MB 83.7 MB/s eta 0:00:01\r\u001B[K     |███████████████████████████████▋| 20.4 MB 83.7 MB/s eta 0:00:01\r\u001B[K     |███████████████████████████████▋| 20.4 MB 83.7 MB/s eta 0:00:01\r\u001B[K     |███████████████████████████████▋| 20.4 MB 83.7 MB/s eta 0:00:01\r\u001B[K     |███████████████████████████████▊| 20.4 MB 83.7 MB/s eta 0:00:01\r\u001B[K     |███████████████████████████████▊| 20.4 MB 83.7 MB/s eta 0:00:01\r\u001B[K     |███████████████████████████████▊| 20.4 MB 83.7 MB/s eta 0:00:01\r\u001B[K     |███████████████████████████████▊| 20.4 MB 83.7 MB/s eta 0:00:01\r\u001B[K     |███████████████████████████████▊| 20.5 MB 83.7 MB/s eta 0:00:01\r\u001B[K     |███████████████████████████████▊| 20.5 MB 83.7 MB/s eta 0:00:01\r\u001B[K     |███████████████████████████████▊| 20.5 MB 83.7 MB/s eta 0:00:01\r\u001B[K     |███████████████████████████████▉| 20.5 MB 83.7 MB/s eta 0:00:01\r\u001B[K     |███████████████████████████████▉| 20.5 MB 83.7 MB/s eta 0:00:01\r\u001B[K     |███████████████████████████████▉| 20.5 MB 83.7 MB/s eta 0:00:01\r\u001B[K     |███████████████████████████████▉| 20.5 MB 83.7 MB/s eta 0:00:01\r\u001B[K     |███████████████████████████████▉| 20.5 MB 83.7 MB/s eta 0:00:01\r\u001B[K     |███████████████████████████████▉| 20.5 MB 83.7 MB/s eta 0:00:01\r\u001B[K     |███████████████████████████████▉| 20.6 MB 83.7 MB/s eta 0:00:01\r\u001B[K     |████████████████████████████████| 20.6 MB 83.7 MB/s eta 0:00:01\r\u001B[K     |████████████████████████████████| 20.6 MB 83.7 MB/s eta 0:00:01\r\u001B[K     |████████████████████████████████| 20.6 MB 83.7 MB/s eta 0:00:01\r\u001B[K     |████████████████████████████████| 20.6 MB 83.7 MB/s eta 0:00:01\r\u001B[K     |████████████████████████████████| 20.6 MB 83.7 MB/s eta 0:00:01\r\u001B[K     |████████████████████████████████| 20.6 MB 83.7 MB/s eta 0:00:01\r\u001B[K     |████████████████████████████████| 20.6 MB 83.7 MB/s eta 0:00:01\r\u001B[K     |████████████████████████████████| 20.6 MB 83.7 MB/s \r\n\u001B[?25hRequirement already satisfied: joblib in /databricks/python3/lib/python3.9/site-packages (from contextily) (1.1.1)\r\nCollecting geopy\r\n  Downloading geopy-2.4.1-py3-none-any.whl (125 kB)\r\n\u001B[?25l\r\u001B[K     |██▋                             | 10 kB 33.5 MB/s eta 0:00:01\r\u001B[K     |█████▎                          | 20 kB 43.7 MB/s eta 0:00:01\r\u001B[K     |███████▉                        | 30 kB 56.0 MB/s eta 0:00:01\r\u001B[K     |██████████▌                     | 40 kB 63.8 MB/s eta 0:00:01\r\u001B[K     |█████████████                   | 51 kB 69.8 MB/s eta 0:00:01\r\u001B[K     |███████████████▊                | 61 kB 75.5 MB/s eta 0:00:01\r\u001B[K     |██████████████████▎             | 71 kB 79.7 MB/s eta 0:00:01\r\u001B[K     |█████████████████████           | 81 kB 84.6 MB/s eta 0:00:01\r\u001B[K     |███████████████████████▌        | 92 kB 87.9 MB/s eta 0:00:01\r\u001B[K     |██████████████████████████▏     | 102 kB 88.3 MB/s eta 0:00:01\r\u001B[K     |████████████████████████████▊   | 112 kB 88.3 MB/s eta 0:00:01\r\u001B[K     |███████████████████████████████▍| 122 kB 88.3 MB/s eta 0:00:01\r\u001B[K     |████████████████████████████████| 125 kB 88.3 MB/s \r\n\u001B[?25hRequirement already satisfied: MarkupSafe>=2.0 in /local_disk0/.ephemeral_nfs/cluster_libraries/python/lib/python3.9/site-packages (from jinja2>=2.9->folium) (2.1.5)\r\nRequirement already satisfied: pytz>=2020.1 in /databricks/python3/lib/python3.9/site-packages (from pandas!=1.5.0,>=1.4->mapclassify) (2021.3)\r\nRequirement already satisfied: six>=1.5 in /databricks/python3/lib/python3.9/site-packages (from python-dateutil>=2.7->matplotlib) (1.16.0)\r\nRequirement already satisfied: threadpoolctl>=2.0.0 in /databricks/python3/lib/python3.9/site-packages (from scikit-learn>=1.0->mapclassify) (2.2.0)\r\nCollecting geographiclib<3,>=1.52\r\n  Downloading geographiclib-2.0-py3-none-any.whl (40 kB)\r\n\u001B[?25l\r\u001B[K     |████████▏                       | 10 kB 35.8 MB/s eta 0:00:01\r\u001B[K     |████████████████▎               | 20 kB 44.8 MB/s eta 0:00:01\r\u001B[K     |████████████████████████▍       | 30 kB 56.8 MB/s eta 0:00:01\r\u001B[K     |████████████████████████████████| 40 kB 3.6 MB/s \r\n\u001B[?25hRequirement already satisfied: click>=3.0 in /local_disk0/.ephemeral_nfs/cluster_libraries/python/lib/python3.9/site-packages (from mercantile->contextily) (8.1.7)\r\nRequirement already satisfied: cligj>=0.5 in /local_disk0/.ephemeral_nfs/envs/pythonEnv-dc814c59-cf20-41b1-854a-87c8b90ec930/lib/python3.9/site-packages (from rasterio->contextily) (0.7.2)\r\nRequirement already satisfied: click-plugins in /local_disk0/.ephemeral_nfs/envs/pythonEnv-dc814c59-cf20-41b1-854a-87c8b90ec930/lib/python3.9/site-packages (from rasterio->contextily) (1.1.1)\r\nCollecting snuggs>=1.4.1\r\n  Downloading snuggs-1.4.7-py3-none-any.whl (5.4 kB)\r\nCollecting affine\r\n  Downloading affine-2.4.0-py3-none-any.whl (15 kB)\r\nRequirement already satisfied: attrs in /databricks/python3/lib/python3.9/site-packages (from rasterio->contextily) (21.4.0)\r\nRequirement already satisfied: certifi in /databricks/python3/lib/python3.9/site-packages (from rasterio->contextily) (2021.10.8)\r\nRequirement already satisfied: setuptools in /databricks/python3/lib/python3.9/site-packages (from rasterio->contextily) (61.2.0)\r\nRequirement already satisfied: idna<4,>=2.5 in /databricks/python3/lib/python3.9/site-packages (from requests->folium) (3.3)\r\nRequirement already satisfied: charset-normalizer~=2.0.0 in /databricks/python3/lib/python3.9/site-packages (from requests->folium) (2.0.4)\r\nRequirement already satisfied: urllib3<1.27,>=1.21.1 in /databricks/python3/lib/python3.9/site-packages (from requests->folium) (1.26.9)\r\nInstalling collected packages: numpy, snuggs, scipy, geographiclib, affine, xyzservices, rasterio, networkx, mercantile, geopy, branca, mapclassify, folium, contextily\r\n  Attempting uninstall: numpy\r\n    Found existing installation: numpy 1.21.5\r\n    Not uninstalling numpy at /databricks/python3/lib/python3.9/site-packages, outside environment /local_disk0/.ephemeral_nfs/envs/pythonEnv-dc814c59-cf20-41b1-854a-87c8b90ec930\r\n    Can't uninstall 'numpy'. No files were found to uninstall.\r\n  Attempting uninstall: scipy\r\n    Found existing installation: scipy 1.7.3\r\n    Not uninstalling scipy at /databricks/python3/lib/python3.9/site-packages, outside environment /local_disk0/.ephemeral_nfs/envs/pythonEnv-dc814c59-cf20-41b1-854a-87c8b90ec930\r\n    Can't uninstall 'scipy'. No files were found to uninstall.\r\nSuccessfully installed affine-2.4.0 branca-0.7.1 contextily-1.6.0 folium-0.16.0 geographiclib-2.0 geopy-2.4.1 mapclassify-2.6.1 mercantile-1.2.1 networkx-3.2.1 numpy-1.26.4 rasterio-1.3.9 scipy-1.13.0 snuggs-1.4.7 xyzservices-2024.4.0\r\n\u001B[33mWARNING: You are using pip version 21.2.4; however, version 24.0 is available.\r\nYou should consider upgrading via the '/local_disk0/.ephemeral_nfs/envs/pythonEnv-dc814c59-cf20-41b1-854a-87c8b90ec930/bin/python -m pip install --upgrade pip' command.\u001B[0m\r\n"
     ]
    }
   ],
   "source": [
    "! pip install geopandas\n",
    "! pip install geodatasets\n",
    "! pip install folium matplotlib mapclassify contextily"
   ]
  },
  {
   "cell_type": "code",
   "execution_count": 0,
   "metadata": {
    "application/vnd.databricks.v1+cell": {
     "cellMetadata": {
      "byteLimit": 2048000,
      "rowLimit": 10000
     },
     "inputWidgets": {},
     "nuid": "2e230114-d00d-4065-9b06-9bc65deb51a6",
     "showTitle": false,
     "title": ""
    }
   },
   "outputs": [],
   "source": [
    "import sys\n",
    "basePath='/Workspace/Users/bill.curry@exxonmobil.com'\n",
    "gistPath='/Workspace/Users/bill.curry@exxonmobil.com/gist'\n",
    "sys.path.append(basePath)\n",
    "import dataBricksConfig as db"
   ]
  },
  {
   "cell_type": "code",
   "execution_count": 0,
   "metadata": {
    "application/vnd.databricks.v1+cell": {
     "cellMetadata": {
      "byteLimit": 2048000,
      "rowLimit": 10000
     },
     "inputWidgets": {},
     "nuid": "732391bb-8d33-4ac8-a2d7-4a7efc617715",
     "showTitle": false,
     "title": ""
    }
   },
   "outputs": [
    {
     "output_type": "display_data",
     "data": {
      "application/vnd.databricks.v1+bamboolib_hint": "{\"pd.DataFrames\": [], \"version\": \"0.0.1\"}",
      "text/plain": []
     },
     "metadata": {},
     "output_type": "display_data"
    },
    {
     "output_type": "stream",
     "name": "stderr",
     "output_type": "stream",
     "text": [
      "/databricks/python_shell/dbruntime/PythonPackageImportsInstrumentation/__init__.py:171: UserWarning: A NumPy version >=1.22.4 and <2.3.0 is required for this version of SciPy (detected version 1.21.5)\n  original_result = python_builtin_import(name, globals, locals, fromlist, level)\n"
     ]
    },
    {
     "output_type": "display_data",
     "data": {
      "application/vnd.databricks.v1+h3_hint": "",
      "text/plain": []
     },
     "metadata": {},
     "output_type": "display_data"
    }
   ],
   "source": [
    "import numpy as np\n",
    "import pandas as pd\n",
    "import os\n",
    "import gistMCLive as gi\n",
    "import eqSQL as es\n",
    "import matplotlib.pyplot as plt\n",
    "import seaborn as sns\n",
    "import geopandas\n",
    "import contextily as cx"
   ]
  },
  {
   "cell_type": "code",
   "execution_count": 0,
   "metadata": {
    "application/vnd.databricks.v1+cell": {
     "cellMetadata": {
      "byteLimit": 2048000,
      "rowLimit": 10000
     },
     "inputWidgets": {},
     "nuid": "27407231-7c67-4d49-aedb-af45ba43c440",
     "showTitle": false,
     "title": ""
    }
   },
   "outputs": [],
   "source": [
    "import gistPlots as gp"
   ]
  },
  {
   "cell_type": "markdown",
   "metadata": {
    "application/vnd.databricks.v1+cell": {
     "cellMetadata": {
      "byteLimit": 2048000,
      "rowLimit": 10000
     },
     "inputWidgets": {},
     "nuid": "41d31cc5-0dad-4f64-a0ad-66225f6ae397",
     "showTitle": false,
     "title": ""
    }
   },
   "source": [
    "## Parameters"
   ]
  },
  {
   "cell_type": "markdown",
   "metadata": {
    "application/vnd.databricks.v1+cell": {
     "cellMetadata": {
      "byteLimit": 2048000,
      "rowLimit": 10000
     },
     "inputWidgets": {},
     "nuid": "9237e4af-4e41-491b-add8-8b182193f2e7",
     "showTitle": false,
     "title": ""
    }
   },
   "source": [
    "### Input Files\n",
    "Produced from injectionSQLScheduled.py"
   ]
  },
  {
   "cell_type": "code",
   "execution_count": 0,
   "metadata": {
    "application/vnd.databricks.v1+cell": {
     "cellMetadata": {
      "byteLimit": 2048000,
      "rowLimit": 10000
     },
     "inputWidgets": {},
     "nuid": "7b3f2312-434f-4dc7-a7d1-dc7a2717a900",
     "showTitle": false,
     "title": ""
    }
   },
   "outputs": [],
   "source": [
    "injPath=gistPath+'/ScheduledOutput'\n",
    "\n",
    "DeepWellFile=injPath+'/deep.csv'\n",
    "DeepInjFile=injPath+'/deepReg.csv'\n",
    "ShallowWellFile=injPath+'/shallow.csv'\n",
    "ShallowInjFile=injPath+'/shallowReg.csv'\n",
    "runPath=gistPath+'/Outputs/'\n",
    "\n",
    "################################################\n",
    "# Output prefix for realizations of parameters #\n",
    "################################################\n",
    "RealizationPrefix=runPath+'MC'"
   ]
  },
  {
   "cell_type": "markdown",
   "metadata": {
    "application/vnd.databricks.v1+cell": {
     "cellMetadata": {
      "byteLimit": 2048000,
      "rowLimit": 10000
     },
     "inputWidgets": {},
     "nuid": "011258b8-ff95-4291-ae2e-7a10d5fcb0f0",
     "showTitle": false,
     "title": ""
    }
   },
   "source": [
    "###General"
   ]
  },
  {
   "cell_type": "code",
   "execution_count": 0,
   "metadata": {
    "application/vnd.databricks.v1+cell": {
     "cellMetadata": {
      "byteLimit": 2048000,
      "rowLimit": 10000
     },
     "inputWidgets": {},
     "nuid": "df1a8b6f-1e95-45ec-a269-8087bffbe282",
     "showTitle": false,
     "title": ""
    }
   },
   "outputs": [],
   "source": [
    "######################\n",
    "# General Parameters #\n",
    "######################\n",
    "nRealizations=50\n",
    "nTimeBins=21\n",
    "WaterDensity=1020.\n",
    "WaterViscosity=0.001\n",
    "VerticalCompressibility=0.000000001\n",
    "FluidCompressibility=0.00000000036\n",
    "FaultFrictionCoeff=0.6\n",
    "RockFrictionCoeff=0.6\n",
    "\n",
    "###################################\n",
    "# General Parameter Uncertainties #\n",
    "###################################\n",
    "WaterDensityUncertainty=5.\n",
    "WaterViscosityUncertainty=0.000001\n",
    "VerticalCompressibilityUncertainty=0.00000000001\n",
    "FluidCompressibilityUncertainty=0.000000000001\n",
    "FaultFrictionCoeffUncertainty=0.05\n",
    "RockFrictionCoeffUncertainty=0.05"
   ]
  },
  {
   "cell_type": "markdown",
   "metadata": {
    "application/vnd.databricks.v1+cell": {
     "cellMetadata": {
      "byteLimit": 2048000,
      "rowLimit": 10000
     },
     "inputWidgets": {},
     "nuid": "7d6c2d88-5cbb-43c6-af46-c8361e61f1cf",
     "showTitle": false,
     "title": ""
    }
   },
   "source": [
    "### Deep Interval"
   ]
  },
  {
   "cell_type": "code",
   "execution_count": 0,
   "metadata": {
    "application/vnd.databricks.v1+cell": {
     "cellMetadata": {
      "byteLimit": 2048000,
      "rowLimit": 10000
     },
     "inputWidgets": {},
     "nuid": "d58e0474-d42e-49be-94ae-633087760772",
     "showTitle": false,
     "title": ""
    }
   },
   "outputs": [],
   "source": [
    "###############################\n",
    "# Deep Interval Parameters #\n",
    "###############################\n",
    "DeepPorosityPercent=8.\n",
    "# Pulse pressure test shows background diffusivity of 0.5 m2/s\n",
    "# Back that into permeaiblity: k = D * eta * (Cr + porosity Cp)\n",
    "# 0.5 x 0.001 x (1e -9 + 0.08 x 3.6 e-10) = 5.144 e-13\n",
    "# / 9.9e-16 m2 to mD = 520mD!\n",
    "DeepPermMD=100.\n",
    "# Now let's change this to something where 1D is the high range and 10mD is the low range\n",
    "\n",
    "DeepThicknessFT=1400.\n",
    "# Roughly double of shallow - \n",
    "DeepShearModulus=5e9\n",
    "DeepPoissonsRatioDrained=0.30\n",
    "DeepPoissonsRatioUndrained=0.31\n",
    "DeepBiotsCoefficient=0.31\n",
    "\n",
    "##################################\n",
    "# DeepInterval Uncertainties #\n",
    "##################################\n",
    "DeepPorosityPercentUncertainty=5.\n",
    "DeepPermLogMDUncertainty=1.\n",
    "DeepThicknessFTUncertainty=200.\n",
    "DeepShearModulusUncertainty=1e9\n",
    "DeepPoissonsRatioDrainedUncertainty=0.005\n",
    "DeepPoissonsRatioUndrainedUncertainty=0.005\n",
    "DeepBiotsCoefficientUncertainty=0.05"
   ]
  },
  {
   "cell_type": "code",
   "execution_count": 0,
   "metadata": {
    "application/vnd.databricks.v1+cell": {
     "cellMetadata": {
      "byteLimit": 2048000,
      "rowLimit": 10000
     },
     "inputWidgets": {},
     "nuid": "c54a98f2-88f1-407c-b595-0026b8a74088",
     "showTitle": false,
     "title": ""
    }
   },
   "outputs": [],
   "source": [
    "# Add deep and shallow permeability anisotropy \n",
    "# Deep\n",
    "DeepPermMDSlow=10.\n",
    "DeepFastSlowRatio=100.\n",
    "DeepFastAzimuthDeg=30.\n",
    "DeepOffDiagPermRatio=0.\n",
    "DeepPermMDSlowLogUnc=0.5\n",
    "DeepFastSlowLogUnc=1.\n",
    "DeepFastAzimuthDegUnc=20.\n",
    "DeepkOffDiagRatioUnc=0.\n",
    "# Shallow\n",
    "ShallowPermMDSlow=3.\n",
    "ShallowFastSlowRatio=10.\n",
    "ShallowFastAzimuthDeg=-30.\n",
    "ShallowOffDiagPermRatio=0.5\n",
    "ShallowPermMDSlowLogUnc=0.5\n",
    "ShallowFastSlowLogUnc=1.\n",
    "ShallowFastAzimuthDegUnc=20.\n",
    "ShallowkOffDiagRatioUnc=0.1\n"
   ]
  },
  {
   "cell_type": "markdown",
   "metadata": {
    "application/vnd.databricks.v1+cell": {
     "cellMetadata": {
      "byteLimit": 2048000,
      "rowLimit": 10000
     },
     "inputWidgets": {},
     "nuid": "0dde5262-6ef4-4597-b3fe-c7235a253757",
     "showTitle": false,
     "title": ""
    }
   },
   "source": [
    "#Earthquake Selection"
   ]
  },
  {
   "cell_type": "code",
   "execution_count": 0,
   "metadata": {
    "application/vnd.databricks.v1+cell": {
     "cellMetadata": {
      "byteLimit": 2048000,
      "rowLimit": 10000
     },
     "inputWidgets": {},
     "nuid": "ce7a3a90-f553-4113-abbe-37d6fb67d6e5",
     "showTitle": false,
     "title": ""
    }
   },
   "outputs": [
    {
     "output_type": "stream",
     "name": "stdout",
     "output_type": "stream",
     "text": [
      "<class 'geopandas.geodataframe.GeoDataFrame'>\nRangeIndex: 1 entries, 0 to 0\nData columns (total 35 columns):\n #   Column                      Non-Null Count  Dtype         \n---  ------                      --------------  -----         \n 0   SeismicEventId              1 non-null      int64         \n 1   DataSource                  1 non-null      object        \n 2   DataSourceUrl               0 non-null      object        \n 3   EventID                     1 non-null      object        \n 4   EventTimeUtc                1 non-null      datetime64[ns]\n 5   EventTimeInLocalTimeZone    1 non-null      object        \n 6   EventTimeZone               1 non-null      object        \n 7   EventType                   1 non-null      object        \n 8   DepthKm                     1 non-null      float64       \n 9   DepthErrorKm                1 non-null      float64       \n 10  Magnitude                   1 non-null      float64       \n 11  MagnitudeError              0 non-null      float64       \n 12  MagnitudeType               1 non-null      object        \n 13  Location                    1 non-null      object        \n 14  Status                      1 non-null      object        \n 15  UpdatedDateUtc              1 non-null      datetime64[ns]\n 16  StationCount                1 non-null      int64         \n 17  RMS                         1 non-null      float64       \n 18  RMS_p                       0 non-null      object        \n 19  RMS_s                       0 non-null      object        \n 20  FocalMechanismAzimuthalGap  1 non-null      float64       \n 21  County                      1 non-null      object        \n 22  State                       1 non-null      object        \n 23  Latitude                    1 non-null      float64       \n 24  LatitudeError               1 non-null      float64       \n 25  Longitude                   1 non-null      float64       \n 26  LongitudeError              1 non-null      float64       \n 27  UploadTime                  1 non-null      datetime64[ns]\n 28  ModifiedDate                1 non-null      datetime64[ns]\n 29  Origin Date                 1 non-null      object        \n 30  Origin Time                 1 non-null      object        \n 31  geometry                    1 non-null      geometry      \n 32  Strike                      1 non-null      float64       \n 33  Dip                         1 non-null      float64       \n 34  Rake                        1 non-null      float64       \ndtypes: datetime64[ns](4), float64(13), geometry(1), int64(2), object(15)\nmemory usage: 408.0+ bytes\n"
     ]
    }
   ],
   "source": [
    "eqs=es.eqSQL()\n",
    "EQDF=eqs.getEarthquake('texnet2023vqsh')\n",
    "EQDF=EQDF.rename(columns={'LatitudeErrorKm':'LatitudeError','LongitudeErrorKm':'LongitudeError','EventId':'EventID'})\n",
    "# What about the other fault plane solution?\n",
    "EQDF['Strike']=216.\n",
    "EQDF['Dip']=65.\n",
    "EQDF['Rake']=-127.\n",
    "# We could make use of the Rake\n",
    "EQDF.info()\n",
    "eq=EQDF.loc[0]\n",
    "EQDF.to_csv(runPath+'/11-4-23EQ.csv')"
   ]
  },
  {
   "cell_type": "markdown",
   "metadata": {
    "application/vnd.databricks.v1+cell": {
     "cellMetadata": {
      "byteLimit": 2048000,
      "rowLimit": 10000
     },
     "inputWidgets": {},
     "nuid": "61b8015e-aa08-4602-a74d-7e156b85d725",
     "showTitle": false,
     "title": ""
    }
   },
   "source": [
    "#GIST Initialization"
   ]
  },
  {
   "cell_type": "markdown",
   "metadata": {
    "application/vnd.databricks.v1+cell": {
     "cellMetadata": {
      "byteLimit": 2048000,
      "rowLimit": 10000
     },
     "inputWidgets": {},
     "nuid": "b9911a2e-abbe-48fa-beb3-db4bc2a8727a",
     "showTitle": false,
     "title": ""
    }
   },
   "source": [
    "## Deep"
   ]
  },
  {
   "cell_type": "code",
   "execution_count": 0,
   "metadata": {
    "application/vnd.databricks.v1+cell": {
     "cellMetadata": {
      "byteLimit": 2048000,
      "rowLimit": 10000
     },
     "inputWidgets": {},
     "nuid": "d6dead15-ae34-43e1-8795-831b0532c24a",
     "showTitle": false,
     "title": ""
    }
   },
   "outputs": [
    {
     "output_type": "stream",
     "name": "stdout",
     "output_type": "stream",
     "text": [
      "  logSpace: lower bound:  10.0 , upper bound:  1000.0\n  logSpace: lower bound:  3.1622776601683795 , upper bound:  31.622776601683793\n  logSpace: lower bound:  1.0 , upper bound:  1000.0\nDeep Diffusivity=0.9405338972348787\n"
     ]
    }
   ],
   "source": [
    "##################################################\n",
    "# Initialize 2nd GIST instance for deep interval #\n",
    "##################################################\n",
    "deepM=gi.gistMC(nReal=nRealizations,\n",
    "                ntBin=nTimeBins)\n",
    "##################################################################\n",
    "# Initialize pore pressure model                                 #\n",
    "##################################################################\n",
    "deepM.initPP(rho_0=WaterDensity,\n",
    "             phi=DeepPorosityPercent,\n",
    "             kMD=DeepPermMD,\n",
    "             h=DeepThicknessFT,\n",
    "             alphav=VerticalCompressibility,\n",
    "             beta=FluidCompressibility)\n",
    "\n",
    "deepM.initMCPP(rhoUnc=WaterDensityUncertainty,\n",
    "               ntaUnc=WaterViscosityUncertainty,\n",
    "               phiUnc=DeepPorosityPercentUncertainty,\n",
    "               kMDLogUnc=DeepPermLogMDUncertainty,\n",
    "               hUnc=DeepThicknessFTUncertainty,\n",
    "               alphavUnc=VerticalCompressibilityUncertainty,\n",
    "               betaUnc=FluidCompressibilityUncertainty)\n",
    "######################################################\n",
    "# These parameters need more vetting for Tarzan area #\n",
    "######################################################\n",
    "deepM.initPE(mu=DeepShearModulus,\n",
    "             nu=DeepPoissonsRatioDrained,\n",
    "             nu_u=DeepPoissonsRatioUndrained,\n",
    "             alpha=DeepBiotsCoefficient,\n",
    "             mu_f=FaultFrictionCoeff,\n",
    "             mu_r=RockFrictionCoeff,\n",
    "             match=True)\n",
    "deepM.initMCPE(muUnc=DeepShearModulusUncertainty,\n",
    "               nuUnc=DeepPoissonsRatioDrainedUncertainty,\n",
    "               nu_uUnc=DeepPoissonsRatioUndrainedUncertainty,\n",
    "               alphaUnc=DeepBiotsCoefficientUncertainty,\n",
    "               muFUnc=FaultFrictionCoeffUncertainty,\n",
    "               muRUnc=RockFrictionCoeffUncertainty,\n",
    "               match=True)\n",
    "deepM.initPPAniso(kMDSlow=DeepPermMDSlow,\n",
    "                     kFastkSlow=DeepFastSlowRatio,\n",
    "                     azimuthDeg=DeepFastAzimuthDeg,\n",
    "                     kOffDiagRatio=DeepOffDiagPermRatio)\n",
    "###############\n",
    "# Uncertainty #\n",
    "###############\n",
    "deepM.initMCPPAniso(kMDSlowLogUnc=DeepPermMDSlowLogUnc,\n",
    "                       kFastkSlowLogUnc=DeepFastSlowLogUnc,\n",
    "                       azimuthDegUnc=DeepFastAzimuthDegUnc,\n",
    "                       kOffDiagRatioUnc=DeepkOffDiagRatioUnc)\n",
    "\n",
    "deepM.writeRealizations(RealizationPrefix+'deepAniso.csv')\n",
    "######################\n",
    "# Post diffusivities #\n",
    "######################\n",
    "print(\"Deep Diffusivity=\"+str(deepM.diffPPMax))"
   ]
  },
  {
   "cell_type": "markdown",
   "metadata": {
    "application/vnd.databricks.v1+cell": {
     "cellMetadata": {
      "byteLimit": 2048000,
      "rowLimit": 10000
     },
     "inputWidgets": {},
     "nuid": "345d4c80-14e1-4260-9b69-ef604e3abd0f",
     "showTitle": false,
     "title": ""
    }
   },
   "source": [
    "#Well selection"
   ]
  },
  {
   "cell_type": "markdown",
   "metadata": {
    "application/vnd.databricks.v1+cell": {
     "cellMetadata": {
      "byteLimit": 2048000,
      "rowLimit": 10000
     },
     "inputWidgets": {},
     "nuid": "cc618d09-6496-4d5b-b5ce-7031de3af50c",
     "showTitle": false,
     "title": ""
    }
   },
   "source": [
    "####Input wells"
   ]
  },
  {
   "cell_type": "code",
   "execution_count": 0,
   "metadata": {
    "application/vnd.databricks.v1+cell": {
     "cellMetadata": {
      "byteLimit": 2048000,
      "rowLimit": 10000
     },
     "inputWidgets": {},
     "nuid": "c61650ff-760c-4493-a9e7-3ad67488dd8d",
     "showTitle": false,
     "title": ""
    }
   },
   "outputs": [],
   "source": [
    "#########################################\n",
    "# Add potential wells to each instance  #\n",
    "#########################################"
   ]
  },
  {
   "cell_type": "code",
   "execution_count": 0,
   "metadata": {
    "application/vnd.databricks.v1+cell": {
     "cellMetadata": {
      "byteLimit": 2048000,
      "rowLimit": 10000
     },
     "inputWidgets": {},
     "nuid": "6d0b49b7-39d4-484f-bc94-dc5add600576",
     "showTitle": false,
     "title": ""
    }
   },
   "outputs": [
    {
     "output_type": "stream",
     "name": "stdout",
     "output_type": "stream",
     "text": [
      "Before adding deep wells\n gistMC.addWells: well file added with  2137  wells\n gistMC.addWells: well columns: Index(['ID', 'InjectionWellId', 'APINumber', 'UICNumber', 'Basin', 'County',\n       'SurfaceHoleLatitude', 'SurfaceHoleLongitude', 'WellName', 'WellNumber',\n       'InjectionType', 'CompletedWellDepthClassification', 'InjectionStatus',\n       'CompletionAndDrillingPermitStatus', 'StartDate', 'PermitIsAmendment',\n       'DaysToPermitApproval', 'PermittedMaxLiquidBPD',\n       'PermittedMaxLiquidPSIG', 'PermittedIntervalBottomFt',\n       'PermittedIntervalTopFt', 'PermittedCommercialStatus',\n       'PermittedWellDepthClassification', 'Operator', 'OperatorType',\n       'OperatorPrincipalCompany', 'OperatorPrincipalCompanyType',\n       'PermitStage', 'SRAOrSIR', 'UploadTime'],\n      dtype='object')\n gistMC.addWells: injection file has  1792  unique wells\n gistMC.addWells: injection file first day:  3880.0\n gistMC.addWells: injection file last day:  19830.0\n gistMC.addWells: injection file day interval:  10.0\n gistMC.addWells: injection file number of time samples:  1596\n<class 'geopandas.geodataframe.GeoDataFrame'>\nRangeIndex: 1 entries, 0 to 0\nData columns (total 35 columns):\n #   Column                      Non-Null Count  Dtype         \n---  ------                      --------------  -----         \n 0   SeismicEventId              1 non-null      int64         \n 1   DataSource                  1 non-null      object        \n 2   DataSourceUrl               0 non-null      object        \n 3   EventID                     1 non-null      object        \n 4   EventTimeUtc                1 non-null      datetime64[ns]\n 5   EventTimeInLocalTimeZone    1 non-null      object        \n 6   EventTimeZone               1 non-null      object        \n 7   EventType                   1 non-null      object        \n 8   DepthKm                     1 non-null      float64       \n 9   DepthErrorKm                1 non-null      float64       \n 10  Magnitude                   1 non-null      float64       \n 11  MagnitudeError              0 non-null      float64       \n 12  MagnitudeType               1 non-null      object        \n 13  Location                    1 non-null      object        \n 14  Status                      1 non-null      object        \n 15  UpdatedDateUtc              1 non-null      datetime64[ns]\n 16  StationCount                1 non-null      int64         \n 17  RMS                         1 non-null      float64       \n 18  RMS_p                       0 non-null      object        \n 19  RMS_s                       0 non-null      object        \n 20  FocalMechanismAzimuthalGap  1 non-null      float64       \n 21  County                      1 non-null      object        \n 22  State                       1 non-null      object        \n 23  Latitude                    1 non-null      float64       \n 24  LatitudeError               1 non-null      float64       \n 25  Longitude                   1 non-null      float64       \n 26  LongitudeError              1 non-null      float64       \n 27  UploadTime                  1 non-null      datetime64[ns]\n 28  ModifiedDate                1 non-null      datetime64[ns]\n 29  Origin Date                 1 non-null      object        \n 30  Origin Time                 1 non-null      object        \n 31  geometry                    1 non-null      geometry      \n 32  Strike                      1 non-null      float64       \n 33  Dip                         1 non-null      float64       \n 34  Rake                        1 non-null      float64       \ndtypes: datetime64[ns](4), float64(13), geometry(1), int64(2), object(15)\nmemory usage: 408.0+ bytes\n"
     ]
    }
   ],
   "source": [
    "print(\"Before adding deep wells\")\n",
    "deepM.addWells(DeepWellFile,DeepInjFile,verbose=1)\n",
    "EQDF.info()"
   ]
  },
  {
   "cell_type": "code",
   "execution_count": 0,
   "metadata": {
    "application/vnd.databricks.v1+cell": {
     "cellMetadata": {
      "byteLimit": 2048000,
      "rowLimit": 10000
     },
     "inputWidgets": {},
     "nuid": "ee92733a-6c18-4fbe-a9b5-893be1af431a",
     "showTitle": false,
     "title": ""
    }
   },
   "outputs": [],
   "source": [
    "deepPPWells,deepPPExcludedWells,deepPPInj=deepM.findWells(eq,PE=False)\n",
    "deepPEWells,deepPEExcludedWells,deepPEInj=deepM.findWells(eq,PE=True)\n",
    "deepPPWells['EventID']=eq['EventID']\n",
    "deepPEWells['EventID']=eq['EventID']\n",
    "#deepPPWells.to_csv(runPath+'/Stanton11-4-23_DeepPPWells.csv')\n",
    "#deepPEWells.to_csv(runPath+'/Stanton11-4-23_DeepPEWells.csv')\n",
    "#deepPPInj.to_csv(runPath+'/Stanton11-4-23_DeepPPInj.csv')"
   ]
  },
  {
   "cell_type": "code",
   "execution_count": 0,
   "metadata": {
    "application/vnd.databricks.v1+cell": {
     "cellMetadata": {
      "byteLimit": 2048000,
      "rowLimit": 10000
     },
     "inputWidgets": {},
     "nuid": "5f270ec1-c943-42a8-a77c-07192c4b27d3",
     "showTitle": false,
     "title": ""
    }
   },
   "outputs": [
    {
     "output_type": "stream",
     "name": "stderr",
     "output_type": "stream",
     "text": [
      "<command-2066215307979097>:1: SettingWithCopyWarning: \nA value is trying to be set on a copy of a slice from a DataFrame\n\nSee the caveats in the documentation: https://pandas.pydata.org/pandas-docs/stable/user_guide/indexing.html#returning-a-view-versus-a-copy\n  eq.loc['Origin Date']=pd.to_datetime(eq['Origin Date'])\n"
     ]
    }
   ],
   "source": [
    "eq.loc['Origin Date']=pd.to_datetime(eq['Origin Date'])"
   ]
  },
  {
   "cell_type": "code",
   "execution_count": 0,
   "metadata": {
    "application/vnd.databricks.v1+cell": {
     "cellMetadata": {
      "byteLimit": 2048000,
      "rowLimit": 10000
     },
     "inputWidgets": {},
     "nuid": "7566ef8b-d412-49fb-aaa3-89c90802f3de",
     "showTitle": false,
     "title": ""
    }
   },
   "outputs": [],
   "source": [
    "#import gistPlots as gp\n",
    "\n",
    "#gp.wellInjPlot(deepPPInj,deepPPWells,'01-01-2018','02-11-2023','Deep Injection',True)\n",
    "#gp.wellInjPlot(shallowPPInj,shallowPPWells,'01-01-2018','02-11-2023','Shallow Injection',True)\n",
    "\n",
    "#fig, ax = plt.subplots(figsize=(12,24))\n",
    "# Merge well information onto injection rates\n",
    "# Need to incorporate time sampling other than 10 day\n"
   ]
  },
  {
   "cell_type": "markdown",
   "metadata": {
    "application/vnd.databricks.v1+cell": {
     "cellMetadata": {
      "byteLimit": 2048000,
      "rowLimit": 10000
     },
     "inputWidgets": {},
     "nuid": "07017189-acd7-4b48-aac6-b27675eeb507",
     "showTitle": false,
     "title": ""
    }
   },
   "source": [
    "#Initial GIST runs\n"
   ]
  },
  {
   "cell_type": "code",
   "execution_count": 0,
   "metadata": {
    "application/vnd.databricks.v1+cell": {
     "cellMetadata": {
      "byteLimit": 2048000,
      "rowLimit": 10000
     },
     "inputWidgets": {},
     "nuid": "9bc68774-2a3e-4964-a170-d95d30a103ad",
     "showTitle": false,
     "title": ""
    }
   },
   "outputs": [
    {
     "output_type": "stream",
     "name": "stdout",
     "output_type": "stream",
     "text": [
      "runPressuresAniso: Through setup\nrunPressuresAniso: Before exp1\nrunPressuresAniso: After exp1 (561, 1597)\nrunPressuresAniso: Before sum 561\nrunPressuresAniso: Time Step  0  of  1596\nrunPressuresAniso: Time Step  1  of  1596\nrunPressuresAniso: Time Step  2  of  1596\nrunPressuresAniso: Time Step  3  of  1596\nrunPressuresAniso: Time Step  4  of  1596\nrunPressuresAniso: Time Step  5  of  1596\nrunPressuresAniso: Time Step  6  of  1596\nrunPressuresAniso: Time Step  7  of  1596\nrunPressuresAniso: Time Step  8  of  1596\nrunPressuresAniso: Time Step  9  of  1596\nrunPressuresAniso: Time Step  10  of  1596\nrunPressuresAniso: Time Step  11  of  1596\nrunPressuresAniso: Time Step  12  of  1596\nrunPressuresAniso: Time Step  13  of  1596\nrunPressuresAniso: Time Step  14  of  1596\nrunPressuresAniso: Time Step  15  of  1596\nrunPressuresAniso: Time Step  16  of  1596\nrunPressuresAniso: Time Step  17  of  1596\nrunPressuresAniso: Time Step  18  of  1596\nrunPressuresAniso: Time Step  19  of  1596\nrunPressuresAniso: Time Step  20  of  1596\nrunPressuresAniso: Time Step  21  of  1596\nrunPressuresAniso: Time Step  22  of  1596\nrunPressuresAniso: Time Step  23  of  1596\nrunPressuresAniso: Time Step  24  of  1596\nrunPressuresAniso: Time Step  25  of  1596\nrunPressuresAniso: Time Step  26  of  1596\nrunPressuresAniso: Time Step  27  of  1596\nrunPressuresAniso: Time Step  28  of  1596\nrunPressuresAniso: Time Step  29  of  1596\nrunPressuresAniso: Time Step  30  of  1596\nrunPressuresAniso: Time Step  31  of  1596\nrunPressuresAniso: Time Step  32  of  1596\nrunPressuresAniso: Time Step  33  of  1596\nrunPressuresAniso: Time Step  34  of  1596\nrunPressuresAniso: Time Step  35  of  1596\nrunPressuresAniso: Time Step  36  of  1596\nrunPressuresAniso: Time Step  37  of  1596\nrunPressuresAniso: Time Step  38  of  1596\nrunPressuresAniso: Time Step  39  of  1596\nrunPressuresAniso: Time Step  40  of  1596\nrunPressuresAniso: Time Step  41  of  1596\nrunPressuresAniso: Time Step  42  of  1596\nrunPressuresAniso: Time Step  43  of  1596\nrunPressuresAniso: Time Step  44  of  1596\nrunPressuresAniso: Time Step  45  of  1596\nrunPressuresAniso: Time Step  46  of  1596\nrunPressuresAniso: Time Step  47  of  1596\nrunPressuresAniso: Time Step  48  of  1596\nrunPressuresAniso: Time Step  49  of  1596\nrunPressuresAniso: Time Step  50  of  1596\nrunPressuresAniso: Time Step  51  of  1596\nrunPressuresAniso: Time Step  52  of  1596\nrunPressuresAniso: Time Step  53  of  1596\nrunPressuresAniso: Time Step  54  of  1596\nrunPressuresAniso: Time Step  55  of  1596\nrunPressuresAniso: Time Step  56  of  1596\nrunPressuresAniso: Time Step  57  of  1596\nrunPressuresAniso: Time Step  58  of  1596\nrunPressuresAniso: Time Step  59  of  1596\nrunPressuresAniso: Time Step  60  of  1596\nrunPressuresAniso: Time Step  61  of  1596\nrunPressuresAniso: Time Step  62  of  1596\nrunPressuresAniso: Time Step  63  of  1596\nrunPressuresAniso: Time Step  64  of  1596\nrunPressuresAniso: Time Step  65  of  1596\nrunPressuresAniso: Time Step  66  of  1596\nrunPressuresAniso: Time Step  67  of  1596\nrunPressuresAniso: Time Step  68  of  1596\nrunPressuresAniso: Time Step  69  of  1596\nrunPressuresAniso: Time Step  70  of  1596\nrunPressuresAniso: Time Step  71  of  1596\nrunPressuresAniso: Time Step  72  of  1596\nrunPressuresAniso: Time Step  73  of  1596\nrunPressuresAniso: Time Step  74  of  1596\nrunPressuresAniso: Time Step  75  of  1596\nrunPressuresAniso: Time Step  76  of  1596\nrunPressuresAniso: Time Step  77  of  1596\nrunPressuresAniso: Time Step  78  of  1596\nrunPressuresAniso: Time Step  79  of  1596\nrunPressuresAniso: Time Step  80  of  1596\nrunPressuresAniso: Time Step  81  of  1596\nrunPressuresAniso: Time Step  82  of  1596\nrunPressuresAniso: Time Step  83  of  1596\nrunPressuresAniso: Time Step  84  of  1596\nrunPressuresAniso: Time Step  85  of  1596\nrunPressuresAniso: Time Step  86  of  1596\nrunPressuresAniso: Time Step  87  of  1596\nrunPressuresAniso: Time Step  88  of  1596\nrunPressuresAniso: Time Step  89  of  1596\nrunPressuresAniso: Time Step  90  of  1596\nrunPressuresAniso: Time Step  91  of  1596\nrunPressuresAniso: Time Step  92  of  1596\nrunPressuresAniso: Time Step  93  of  1596\nrunPressuresAniso: Time Step  94  of  1596\nrunPressuresAniso: Time Step  95  of  1596\nrunPressuresAniso: Time Step  96  of  1596\nrunPressuresAniso: Time Step  97  of  1596\nrunPressuresAniso: Time Step  98  of  1596\nrunPressuresAniso: Time Step  99  of  1596\nrunPressuresAniso: Time Step  100  of  1596\nrunPressuresAniso: Time Step  101  of  1596\nrunPressuresAniso: Time Step  102  of  1596\nrunPressuresAniso: Time Step  103  of  1596\nrunPressuresAniso: Time Step  104  of  1596\nrunPressuresAniso: Time Step  105  of  1596\nrunPressuresAniso: Time Step  106  of  1596\nrunPressuresAniso: Time Step  107  of  1596\nrunPressuresAniso: Time Step  108  of  1596\nrunPressuresAniso: Time Step  109  of  1596\nrunPressuresAniso: Time Step  110  of  1596\nrunPressuresAniso: Time Step  111  of  1596\nrunPressuresAniso: Time Step  112  of  1596\nrunPressuresAniso: Time Step  113  of  1596\nrunPressuresAniso: Time Step  114  of  1596\nrunPressuresAniso: Time Step  115  of  1596\nrunPressuresAniso: Time Step  116  of  1596\nrunPressuresAniso: Time Step  117  of  1596\nrunPressuresAniso: Time Step  118  of  1596\nrunPressuresAniso: Time Step  119  of  1596\nrunPressuresAniso: Time Step  120  of  1596\nrunPressuresAniso: Time Step  121  of  1596\nrunPressuresAniso: Time Step  122  of  1596\nrunPressuresAniso: Time Step  123  of  1596\nrunPressuresAniso: Time Step  124  of  1596\nrunPressuresAniso: Time Step  125  of  1596\nrunPressuresAniso: Time Step  126  of  1596\nrunPressuresAniso: Time Step  127  of  1596\nrunPressuresAniso: Time Step  128  of  1596\nrunPressuresAniso: Time Step  129  of  1596\nrunPressuresAniso: Time Step  130  of  1596\nrunPressuresAniso: Time Step  131  of  1596\nrunPressuresAniso: Time Step  132  of  1596\nrunPressuresAniso: Time Step  133  of  1596\nrunPressuresAniso: Time Step  134  of  1596\nrunPressuresAniso: Time Step  135  of  1596\nrunPressuresAniso: Time Step  136  of  1596\nrunPressuresAniso: Time Step  137  of  1596\nrunPressuresAniso: Time Step  138  of  1596\nrunPressuresAniso: Time Step  139  of  1596\nrunPressuresAniso: Time Step  140  of  1596\nrunPressuresAniso: Time Step  141  of  1596\nrunPressuresAniso: Time Step  142  of  1596\nrunPressuresAniso: Time Step  143  of  1596\nrunPressuresAniso: Time Step  144  of  1596\nrunPressuresAniso: Time Step  145  of  1596\nrunPressuresAniso: Time Step  146  of  1596\nrunPressuresAniso: Time Step  147  of  1596\nrunPressuresAniso: Time Step  148  of  1596\nrunPressuresAniso: Time Step  149  of  1596\nrunPressuresAniso: Time Step  150  of  1596\nrunPressuresAniso: Time Step  151  of  1596\nrunPressuresAniso: Time Step  152  of  1596\nrunPressuresAniso: Time Step  153  of  1596\nrunPressuresAniso: Time Step  154  of  1596\nrunPressuresAniso: Time Step  155  of  1596\nrunPressuresAniso: Time Step  156  of  1596\nrunPressuresAniso: Time Step  157  of  1596\nrunPressuresAniso: Time Step  158  of  1596\nrunPressuresAniso: Time Step  159  of  1596\nrunPressuresAniso: Time Step  160  of  1596\nrunPressuresAniso: Time Step  161  of  1596\nrunPressuresAniso: Time Step  162  of  1596\nrunPressuresAniso: Time Step  163  of  1596\nrunPressuresAniso: Time Step  164  of  1596\nrunPressuresAniso: Time Step  165  of  1596\nrunPressuresAniso: Time Step  166  of  1596\nrunPressuresAniso: Time Step  167  of  1596\nrunPressuresAniso: Time Step  168  of  1596\nrunPressuresAniso: Time Step  169  of  1596\nrunPressuresAniso: Time Step  170  of  1596\nrunPressuresAniso: Time Step  171  of  1596\nrunPressuresAniso: Time Step  172  of  1596\nrunPressuresAniso: Time Step  173  of  1596\nrunPressuresAniso: Time Step  174  of  1596\nrunPressuresAniso: Time Step  175  of  1596\nrunPressuresAniso: Time Step  176  of  1596\nrunPressuresAniso: Time Step  177  of  1596\nrunPressuresAniso: Time Step  178  of  1596\nrunPressuresAniso: Time Step  179  of  1596\nrunPressuresAniso: Time Step  180  of  1596\nrunPressuresAniso: Time Step  181  of  1596\nrunPressuresAniso: Time Step  182  of  1596\nrunPressuresAniso: Time Step  183  of  1596\nrunPressuresAniso: Time Step  184  of  1596\nrunPressuresAniso: Time Step  185  of  1596\nrunPressuresAniso: Time Step  186  of  1596\nrunPressuresAniso: Time Step  187  of  1596\nrunPressuresAniso: Time Step  188  of  1596\nrunPressuresAniso: Time Step  189  of  1596\nrunPressuresAniso: Time Step  190  of  1596\nrunPressuresAniso: Time Step  191  of  1596\nrunPressuresAniso: Time Step  192  of  1596\nrunPressuresAniso: Time Step  193  of  1596\nrunPressuresAniso: Time Step  194  of  1596\nrunPressuresAniso: Time Step  195  of  1596\nrunPressuresAniso: Time Step  196  of  1596\nrunPressuresAniso: Time Step  197  of  1596\nrunPressuresAniso: Time Step  198  of  1596\nrunPressuresAniso: Time Step  199  of  1596\nrunPressuresAniso: Time Step  200  of  1596\nrunPressuresAniso: Time Step  201  of  1596\nrunPressuresAniso: Time Step  202  of  1596\nrunPressuresAniso: Time Step  203  of  1596\nrunPressuresAniso: Time Step  204  of  1596\nrunPressuresAniso: Time Step  205  of  1596\nrunPressuresAniso: Time Step  206  of  1596\nrunPressuresAniso: Time Step  207  of  1596\nrunPressuresAniso: Time Step  208  of  1596\nrunPressuresAniso: Time Step  209  of  1596\nrunPressuresAniso: Time Step  210  of  1596\nrunPressuresAniso: Time Step  211  of  1596\nrunPressuresAniso: Time Step  212  of  1596\nrunPressuresAniso: Time Step  213  of  1596\nrunPressuresAniso: Time Step  214  of  1596\nrunPressuresAniso: Time Step  215  of  1596\nrunPressuresAniso: Time Step  216  of  1596\nrunPressuresAniso: Time Step  217  of  1596\nrunPressuresAniso: Time Step  218  of  1596\nrunPressuresAniso: Time Step  219  of  1596\nrunPressuresAniso: Time Step  220  of  1596\nrunPressuresAniso: Time Step  221  of  1596\nrunPressuresAniso: Time Step  222  of  1596\nrunPressuresAniso: Time Step  223  of  1596\nrunPressuresAniso: Time Step  224  of  1596\nrunPressuresAniso: Time Step  225  of  1596\nrunPressuresAniso: Time Step  226  of  1596\nrunPressuresAniso: Time Step  227  of  1596\nrunPressuresAniso: Time Step  228  of  1596\nrunPressuresAniso: Time Step  229  of  1596\nrunPressuresAniso: Time Step  230  of  1596\nrunPressuresAniso: Time Step  231  of  1596\nrunPressuresAniso: Time Step  232  of  1596\nrunPressuresAniso: Time Step  233  of  1596\nrunPressuresAniso: Time Step  234  of  1596\nrunPressuresAniso: Time Step  235  of  1596\nrunPressuresAniso: Time Step  236  of  1596\nrunPressuresAniso: Time Step  237  of  1596\nrunPressuresAniso: Time Step  238  of  1596\nrunPressuresAniso: Time Step  239  of  1596\nrunPressuresAniso: Time Step  240  of  1596\nrunPressuresAniso: Time Step  241  of  1596\nrunPressuresAniso: Time Step  242  of  1596\nrunPressuresAniso: Time Step  243  of  1596\nrunPressuresAniso: Time Step  244  of  1596\nrunPressuresAniso: Time Step  245  of  1596\nrunPressuresAniso: Time Step  246  of  1596\nrunPressuresAniso: Time Step  247  of  1596\nrunPressuresAniso: Time Step  248  of  1596\nrunPressuresAniso: Time Step  249  of  1596\nrunPressuresAniso: Time Step  250  of  1596\nrunPressuresAniso: Time Step  251  of  1596\nrunPressuresAniso: Time Step  252  of  1596\nrunPressuresAniso: Time Step  253  of  1596\nrunPressuresAniso: Time Step  254  of  1596\nrunPressuresAniso: Time Step  255  of  1596\nrunPressuresAniso: Time Step  256  of  1596\nrunPressuresAniso: Time Step  257  of  1596\nrunPressuresAniso: Time Step  258  of  1596\nrunPressuresAniso: Time Step  259  of  1596\nrunPressuresAniso: Time Step  260  of  1596\nrunPressuresAniso: Time Step  261  of  1596\nrunPressuresAniso: Time Step  262  of  1596\nrunPressuresAniso: Time Step  263  of  1596\nrunPressuresAniso: Time Step  264  of  1596\nrunPressuresAniso: Time Step  265  of  1596\nrunPressuresAniso: Time Step  266  of  1596\nrunPressuresAniso: Time Step  267  of  1596\nrunPressuresAniso: Time Step  268  of  1596\nrunPressuresAniso: Time Step  269  of  1596\nrunPressuresAniso: Time Step  270  of  1596\nrunPressuresAniso: Time Step  271  of  1596\nrunPressuresAniso: Time Step  272  of  1596\nrunPressuresAniso: Time Step  273  of  1596\nrunPressuresAniso: Time Step  274  of  1596\nrunPressuresAniso: Time Step  275  of  1596\nrunPressuresAniso: Time Step  276  of  1596\nrunPressuresAniso: Time Step  277  of  1596\nrunPressuresAniso: Time Step  278  of  1596\nrunPressuresAniso: Time Step  279  of  1596\nrunPressuresAniso: Time Step  280  of  1596\nrunPressuresAniso: Time Step  281  of  1596\nrunPressuresAniso: Time Step  282  of  1596\nrunPressuresAniso: Time Step  283  of  1596\nrunPressuresAniso: Time Step  284  of  1596\nrunPressuresAniso: Time Step  285  of  1596\nrunPressuresAniso: Time Step  286  of  1596\nrunPressuresAniso: Time Step  287  of  1596\nrunPressuresAniso: Time Step  288  of  1596\nrunPressuresAniso: Time Step  289  of  1596\nrunPressuresAniso: Time Step  290  of  1596\nrunPressuresAniso: Time Step  291  of  1596\nrunPressuresAniso: Time Step  292  of  1596\nrunPressuresAniso: Time Step  293  of  1596\nrunPressuresAniso: Time Step  294  of  1596\nrunPressuresAniso: Time Step  295  of  1596\nrunPressuresAniso: Time Step  296  of  1596\nrunPressuresAniso: Time Step  297  of  1596\nrunPressuresAniso: Time Step  298  of  1596\nrunPressuresAniso: Time Step  299  of  1596\nrunPressuresAniso: Time Step  300  of  1596\nrunPressuresAniso: Time Step  301  of  1596\nrunPressuresAniso: Time Step  302  of  1596\nrunPressuresAniso: Time Step  303  of  1596\nrunPressuresAniso: Time Step  304  of  1596\nrunPressuresAniso: Time Step  305  of  1596\nrunPressuresAniso: Time Step  306  of  1596\nrunPressuresAniso: Time Step  307  of  1596\nrunPressuresAniso: Time Step  308  of  1596\nrunPressuresAniso: Time Step  309  of  1596\nrunPressuresAniso: Time Step  310  of  1596\nrunPressuresAniso: Time Step  311  of  1596\nrunPressuresAniso: Time Step  312  of  1596\nrunPressuresAniso: Time Step  313  of  1596\nrunPressuresAniso: Time Step  314  of  1596\nrunPressuresAniso: Time Step  315  of  1596\nrunPressuresAniso: Time Step  316  of  1596\nrunPressuresAniso: Time Step  317  of  1596\nrunPressuresAniso: Time Step  318  of  1596\nrunPressuresAniso: Time Step  319  of  1596\nrunPressuresAniso: Time Step  320  of  1596\nrunPressuresAniso: Time Step  321  of  1596\nrunPressuresAniso: Time Step  322  of  1596\nrunPressuresAniso: Time Step  323  of  1596\nrunPressuresAniso: Time Step  324  of  1596\nrunPressuresAniso: Time Step  325  of  1596\nrunPressuresAniso: Time Step  326  of  1596\nrunPressuresAniso: Time Step  327  of  1596\nrunPressuresAniso: Time Step  328  of  1596\nrunPressuresAniso: Time Step  329  of  1596\nrunPressuresAniso: Time Step  330  of  1596\nrunPressuresAniso: Time Step  331  of  1596\nrunPressuresAniso: Time Step  332  of  1596\nrunPressuresAniso: Time Step  333  of  1596\nrunPressuresAniso: Time Step  334  of  1596\nrunPressuresAniso: Time Step  335  of  1596\nrunPressuresAniso: Time Step  336  of  1596\nrunPressuresAniso: Time Step  337  of  1596\nrunPressuresAniso: Time Step  338  of  1596\nrunPressuresAniso: Time Step  339  of  1596\nrunPressuresAniso: Time Step  340  of  1596\nrunPressuresAniso: Time Step  341  of  1596\nrunPressuresAniso: Time Step  342  of  1596\nrunPressuresAniso: Time Step  343  of  1596\nrunPressuresAniso: Time Step  344  of  1596\nrunPressuresAniso: Time Step  345  of  1596\nrunPressuresAniso: Time Step  346  of  1596\nrunPressuresAniso: Time Step  347  of  1596\nrunPressuresAniso: Time Step  348  of  1596\nrunPressuresAniso: Time Step  349  of  1596\nrunPressuresAniso: Time Step  350  of  1596\nrunPressuresAniso: Time Step  351  of  1596\nrunPressuresAniso: Time Step  352  of  1596\nrunPressuresAniso: Time Step  353  of  1596\nrunPressuresAniso: Time Step  354  of  1596\nrunPressuresAniso: Time Step  355  of  1596\nrunPressuresAniso: Time Step  356  of  1596\nrunPressuresAniso: Time Step  357  of  1596\nrunPressuresAniso: Time Step  358  of  1596\nrunPressuresAniso: Time Step  359  of  1596\nrunPressuresAniso: Time Step  360  of  1596\nrunPressuresAniso: Time Step  361  of  1596\nrunPressuresAniso: Time Step  362  of  1596\nrunPressuresAniso: Time Step  363  of  1596\nrunPressuresAniso: Time Step  364  of  1596\nrunPressuresAniso: Time Step  365  of  1596\nrunPressuresAniso: Time Step  366  of  1596\nrunPressuresAniso: Time Step  367  of  1596\nrunPressuresAniso: Time Step  368  of  1596\nrunPressuresAniso: Time Step  369  of  1596\nrunPressuresAniso: Time Step  370  of  1596\nrunPressuresAniso: Time Step  371  of  1596\nrunPressuresAniso: Time Step  372  of  1596\nrunPressuresAniso: Time Step  373  of  1596\nrunPressuresAniso: Time Step  374  of  1596\nrunPressuresAniso: Time Step  375  of  1596\nrunPressuresAniso: Time Step  376  of  1596\nrunPressuresAniso: Time Step  377  of  1596\nrunPressuresAniso: Time Step  378  of  1596\nrunPressuresAniso: Time Step  379  of  1596\nrunPressuresAniso: Time Step  380  of  1596\nrunPressuresAniso: Time Step  381  of  1596\nrunPressuresAniso: Time Step  382  of  1596\nrunPressuresAniso: Time Step  383  of  1596\nrunPressuresAniso: Time Step  384  of  1596\nrunPressuresAniso: Time Step  385  of  1596\nrunPressuresAniso: Time Step  386  of  1596\nrunPressuresAniso: Time Step  387  of  1596\nrunPressuresAniso: Time Step  388  of  1596\nrunPressuresAniso: Time Step  389  of  1596\nrunPressuresAniso: Time Step  390  of  1596\nrunPressuresAniso: Time Step  391  of  1596\nrunPressuresAniso: Time Step  392  of  1596\nrunPressuresAniso: Time Step  393  of  1596\nrunPressuresAniso: Time Step  394  of  1596\nrunPressuresAniso: Time Step  395  of  1596\nrunPressuresAniso: Time Step  396  of  1596\nrunPressuresAniso: Time Step  397  of  1596\nrunPressuresAniso: Time Step  398  of  1596\nrunPressuresAniso: Time Step  399  of  1596\nrunPressuresAniso: Time Step  400  of  1596\nrunPressuresAniso: Time Step  401  of  1596\nrunPressuresAniso: Time Step  402  of  1596\nrunPressuresAniso: Time Step  403  of  1596\nrunPressuresAniso: Time Step  404  of  1596\nrunPressuresAniso: Time Step  405  of  1596\nrunPressuresAniso: Time Step  406  of  1596\nrunPressuresAniso: Time Step  407  of  1596\nrunPressuresAniso: Time Step  408  of  1596\nrunPressuresAniso: Time Step  409  of  1596\nrunPressuresAniso: Time Step  410  of  1596\nrunPressuresAniso: Time Step  411  of  1596\nrunPressuresAniso: Time Step  412  of  1596\nrunPressuresAniso: Time Step  413  of  1596\nrunPressuresAniso: Time Step  414  of  1596\nrunPressuresAniso: Time Step  415  of  1596\nrunPressuresAniso: Time Step  416  of  1596\nrunPressuresAniso: Time Step  417  of  1596\nrunPressuresAniso: Time Step  418  of  1596\nrunPressuresAniso: Time Step  419  of  1596\nrunPressuresAniso: Time Step  420  of  1596\nrunPressuresAniso: Time Step  421  of  1596\nrunPressuresAniso: Time Step  422  of  1596\nrunPressuresAniso: Time Step  423  of  1596\nrunPressuresAniso: Time Step  424  of  1596\nrunPressuresAniso: Time Step  425  of  1596\nrunPressuresAniso: Time Step  426  of  1596\nrunPressuresAniso: Time Step  427  of  1596\nrunPressuresAniso: Time Step  428  of  1596\nrunPressuresAniso: Time Step  429  of  1596\nrunPressuresAniso: Time Step  430  of  1596\nrunPressuresAniso: Time Step  431  of  1596\nrunPressuresAniso: Time Step  432  of  1596\nrunPressuresAniso: Time Step  433  of  1596\nrunPressuresAniso: Time Step  434  of  1596\nrunPressuresAniso: Time Step  435  of  1596\nrunPressuresAniso: Time Step  436  of  1596\nrunPressuresAniso: Time Step  437  of  1596\nrunPressuresAniso: Time Step  438  of  1596\nrunPressuresAniso: Time Step  439  of  1596\nrunPressuresAniso: Time Step  440  of  1596\nrunPressuresAniso: Time Step  441  of  1596\nrunPressuresAniso: Time Step  442  of  1596\nrunPressuresAniso: Time Step  443  of  1596\nrunPressuresAniso: Time Step  444  of  1596\nrunPressuresAniso: Time Step  445  of  1596\nrunPressuresAniso: Time Step  446  of  1596\nrunPressuresAniso: Time Step  447  of  1596\nrunPressuresAniso: Time Step  448  of  1596\nrunPressuresAniso: Time Step  449  of  1596\nrunPressuresAniso: Time Step  450  of  1596\nrunPressuresAniso: Time Step  451  of  1596\nrunPressuresAniso: Time Step  452  of  1596\nrunPressuresAniso: Time Step  453  of  1596\nrunPressuresAniso: Time Step  454  of  1596\nrunPressuresAniso: Time Step  455  of  1596\nrunPressuresAniso: Time Step  456  of  1596\nrunPressuresAniso: Time Step  457  of  1596\nrunPressuresAniso: Time Step  458  of  1596\nrunPressuresAniso: Time Step  459  of  1596\nrunPressuresAniso: Time Step  460  of  1596\nrunPressuresAniso: Time Step  461  of  1596\nrunPressuresAniso: Time Step  462  of  1596\nrunPressuresAniso: Time Step  463  of  1596\nrunPressuresAniso: Time Step  464  of  1596\nrunPressuresAniso: Time Step  465  of  1596\nrunPressuresAniso: Time Step  466  of  1596\nrunPressuresAniso: Time Step  467  of  1596\nrunPressuresAniso: Time Step  468  of  1596\nrunPressuresAniso: Time Step  469  of  1596\nrunPressuresAniso: Time Step  470  of  1596\nrunPressuresAniso: Time Step  471  of  1596\nrunPressuresAniso: Time Step  472  of  1596\nrunPressuresAniso: Time Step  473  of  1596\nrunPressuresAniso: Time Step  474  of  1596\nrunPressuresAniso: Time Step  475  of  1596\nrunPressuresAniso: Time Step  476  of  1596\nrunPressuresAniso: Time Step  477  of  1596\nrunPressuresAniso: Time Step  478  of  1596\nrunPressuresAniso: Time Step  479  of  1596\nrunPressuresAniso: Time Step  480  of  1596\nrunPressuresAniso: Time Step  481  of  1596\nrunPressuresAniso: Time Step  482  of  1596\nrunPressuresAniso: Time Step  483  of  1596\nrunPressuresAniso: Time Step  484  of  1596\nrunPressuresAniso: Time Step  485  of  1596\nrunPressuresAniso: Time Step  486  of  1596\nrunPressuresAniso: Time Step  487  of  1596\nrunPressuresAniso: Time Step  488  of  1596\nrunPressuresAniso: Time Step  489  of  1596\nrunPressuresAniso: Time Step  490  of  1596\nrunPressuresAniso: Time Step  491  of  1596\nrunPressuresAniso: Time Step  492  of  1596\nrunPressuresAniso: Time Step  493  of  1596\nrunPressuresAniso: Time Step  494  of  1596\nrunPressuresAniso: Time Step  495  of  1596\nrunPressuresAniso: Time Step  496  of  1596\nrunPressuresAniso: Time Step  497  of  1596\nrunPressuresAniso: Time Step  498  of  1596\nrunPressuresAniso: Time Step  499  of  1596\nrunPressuresAniso: Time Step  500  of  1596\nrunPressuresAniso: Time Step  501  of  1596\nrunPressuresAniso: Time Step  502  of  1596\nrunPressuresAniso: Time Step  503  of  1596\nrunPressuresAniso: Time Step  504  of  1596\nrunPressuresAniso: Time Step  505  of  1596\nrunPressuresAniso: Time Step  506  of  1596\nrunPressuresAniso: Time Step  507  of  1596\nrunPressuresAniso: Time Step  508  of  1596\nrunPressuresAniso: Time Step  509  of  1596\nrunPressuresAniso: Time Step  510  of  1596\nrunPressuresAniso: Time Step  511  of  1596\nrunPressuresAniso: Time Step  512  of  1596\nrunPressuresAniso: Time Step  513  of  1596\nrunPressuresAniso: Time Step  514  of  1596\nrunPressuresAniso: Time Step  515  of  1596\nrunPressuresAniso: Time Step  516  of  1596\nrunPressuresAniso: Time Step  517  of  1596\nrunPressuresAniso: Time Step  518  of  1596\nrunPressuresAniso: Time Step  519  of  1596\nrunPressuresAniso: Time Step  520  of  1596\nrunPressuresAniso: Time Step  521  of  1596\nrunPressuresAniso: Time Step  522  of  1596\nrunPressuresAniso: Time Step  523  of  1596\nrunPressuresAniso: Time Step  524  of  1596\nrunPressuresAniso: Time Step  525  of  1596\nrunPressuresAniso: Time Step  526  of  1596\nrunPressuresAniso: Time Step  527  of  1596\nrunPressuresAniso: Time Step  528  of  1596\nrunPressuresAniso: Time Step  529  of  1596\nrunPressuresAniso: Time Step  530  of  1596\nrunPressuresAniso: Time Step  531  of  1596\nrunPressuresAniso: Time Step  532  of  1596\nrunPressuresAniso: Time Step  533  of  1596\nrunPressuresAniso: Time Step  534  of  1596\nrunPressuresAniso: Time Step  535  of  1596\nrunPressuresAniso: Time Step  536  of  1596\nrunPressuresAniso: Time Step  537  of  1596\nrunPressuresAniso: Time Step  538  of  1596\nrunPressuresAniso: Time Step  539  of  1596\nrunPressuresAniso: Time Step  540  of  1596\nrunPressuresAniso: Time Step  541  of  1596\nrunPressuresAniso: Time Step  542  of  1596\nrunPressuresAniso: Time Step  543  of  1596\nrunPressuresAniso: Time Step  544  of  1596\nrunPressuresAniso: Time Step  545  of  1596\nrunPressuresAniso: Time Step  546  of  1596\nrunPressuresAniso: Time Step  547  of  1596\nrunPressuresAniso: Time Step  548  of  1596\nrunPressuresAniso: Time Step  549  of  1596\nrunPressuresAniso: Time Step  550  of  1596\nrunPressuresAniso: Time Step  551  of  1596\nrunPressuresAniso: Time Step  552  of  1596\nrunPressuresAniso: Time Step  553  of  1596\nrunPressuresAniso: Time Step  554  of  1596\nrunPressuresAniso: Time Step  555  of  1596\nrunPressuresAniso: Time Step  556  of  1596\nrunPressuresAniso: Time Step  557  of  1596\nrunPressuresAniso: Time Step  558  of  1596\nrunPressuresAniso: Time Step  559  of  1596\nrunPressuresAniso: Time Step  560  of  1596\nrunPressuresAniso: Time Step  561  of  1596\nrunPressuresAniso: Time Step  562  of  1596\nrunPressuresAniso: Time Step  563  of  1596\nrunPressuresAniso: Time Step  564  of  1596\nrunPressuresAniso: Time Step  565  of  1596\nrunPressuresAniso: Time Step  566  of  1596\nrunPressuresAniso: Tim\n\n*** WARNING: max output size exceeded, skipping output. ***\n\nressuresAniso: Time Step  1041  of  1596\nrunPressuresAniso: Time Step  1042  of  1596\nrunPressuresAniso: Time Step  1043  of  1596\nrunPressuresAniso: Time Step  1044  of  1596\nrunPressuresAniso: Time Step  1045  of  1596\nrunPressuresAniso: Time Step  1046  of  1596\nrunPressuresAniso: Time Step  1047  of  1596\nrunPressuresAniso: Time Step  1048  of  1596\nrunPressuresAniso: Time Step  1049  of  1596\nrunPressuresAniso: Time Step  1050  of  1596\nrunPressuresAniso: Time Step  1051  of  1596\nrunPressuresAniso: Time Step  1052  of  1596\nrunPressuresAniso: Time Step  1053  of  1596\nrunPressuresAniso: Time Step  1054  of  1596\nrunPressuresAniso: Time Step  1055  of  1596\nrunPressuresAniso: Time Step  1056  of  1596\nrunPressuresAniso: Time Step  1057  of  1596\nrunPressuresAniso: Time Step  1058  of  1596\nrunPressuresAniso: Time Step  1059  of  1596\nrunPressuresAniso: Time Step  1060  of  1596\nrunPressuresAniso: Time Step  1061  of  1596\nrunPressuresAniso: Time Step  1062  of  1596\nrunPressuresAniso: Time Step  1063  of  1596\nrunPressuresAniso: Time Step  1064  of  1596\nrunPressuresAniso: Time Step  1065  of  1596\nrunPressuresAniso: Time Step  1066  of  1596\nrunPressuresAniso: Time Step  1067  of  1596\nrunPressuresAniso: Time Step  1068  of  1596\nrunPressuresAniso: Time Step  1069  of  1596\nrunPressuresAniso: Time Step  1070  of  1596\nrunPressuresAniso: Time Step  1071  of  1596\nrunPressuresAniso: Time Step  1072  of  1596\nrunPressuresAniso: Time Step  1073  of  1596\nrunPressuresAniso: Time Step  1074  of  1596\nrunPressuresAniso: Time Step  1075  of  1596\nrunPressuresAniso: Time Step  1076  of  1596\nrunPressuresAniso: Time Step  1077  of  1596\nrunPressuresAniso: Time Step  1078  of  1596\nrunPressuresAniso: Time Step  1079  of  1596\nrunPressuresAniso: Time Step  1080  of  1596\nrunPressuresAniso: Time Step  1081  of  1596\nrunPressuresAniso: Time Step  1082  of  1596\nrunPressuresAniso: Time Step  1083  of  1596\nrunPressuresAniso: Time Step  1084  of  1596\nrunPressuresAniso: Time Step  1085  of  1596\nrunPressuresAniso: Time Step  1086  of  1596\nrunPressuresAniso: Time Step  1087  of  1596\nrunPressuresAniso: Time Step  1088  of  1596\nrunPressuresAniso: Time Step  1089  of  1596\nrunPressuresAniso: Time Step  1090  of  1596\nrunPressuresAniso: Time Step  1091  of  1596\nrunPressuresAniso: Time Step  1092  of  1596\nrunPressuresAniso: Time Step  1093  of  1596\nrunPressuresAniso: Time Step  1094  of  1596\nrunPressuresAniso: Time Step  1095  of  1596\nrunPressuresAniso: Time Step  1096  of  1596\nrunPressuresAniso: Time Step  1097  of  1596\nrunPressuresAniso: Time Step  1098  of  1596\nrunPressuresAniso: Time Step  1099  of  1596\nrunPressuresAniso: Time Step  1100  of  1596\nrunPressuresAniso: Time Step  1101  of  1596\nrunPressuresAniso: Time Step  1102  of  1596\nrunPressuresAniso: Time Step  1103  of  1596\nrunPressuresAniso: Time Step  1104  of  1596\nrunPressuresAniso: Time Step  1105  of  1596\nrunPressuresAniso: Time Step  1106  of  1596\nrunPressuresAniso: Time Step  1107  of  1596\nrunPressuresAniso: Time Step  1108  of  1596\nrunPressuresAniso: Time Step  1109  of  1596\nrunPressuresAniso: Time Step  1110  of  1596\nrunPressuresAniso: Time Step  1111  of  1596\nrunPressuresAniso: Time Step  1112  of  1596\nrunPressuresAniso: Time Step  1113  of  1596\nrunPressuresAniso: Time Step  1114  of  1596\nrunPressuresAniso: Time Step  1115  of  1596\nrunPressuresAniso: Time Step  1116  of  1596\nrunPressuresAniso: Time Step  1117  of  1596\nrunPressuresAniso: Time Step  1118  of  1596\nrunPressuresAniso: Time Step  1119  of  1596\nrunPressuresAniso: Time Step  1120  of  1596\nrunPressuresAniso: Time Step  1121  of  1596\nrunPressuresAniso: Time Step  1122  of  1596\nrunPressuresAniso: Time Step  1123  of  1596\nrunPressuresAniso: Time Step  1124  of  1596\nrunPressuresAniso: Time Step  1125  of  1596\nrunPressuresAniso: Time Step  1126  of  1596\nrunPressuresAniso: Time Step  1127  of  1596\nrunPressuresAniso: Time Step  1128  of  1596\nrunPressuresAniso: Time Step  1129  of  1596\nrunPressuresAniso: Time Step  1130  of  1596\nrunPressuresAniso: Time Step  1131  of  1596\nrunPressuresAniso: Time Step  1132  of  1596\nrunPressuresAniso: Time Step  1133  of  1596\nrunPressuresAniso: Time Step  1134  of  1596\nrunPressuresAniso: Time Step  1135  of  1596\nrunPressuresAniso: Time Step  1136  of  1596\nrunPressuresAniso: Time Step  1137  of  1596\nrunPressuresAniso: Time Step  1138  of  1596\nrunPressuresAniso: Time Step  1139  of  1596\nrunPressuresAniso: Time Step  1140  of  1596\nrunPressuresAniso: Time Step  1141  of  1596\nrunPressuresAniso: Time Step  1142  of  1596\nrunPressuresAniso: Time Step  1143  of  1596\nrunPressuresAniso: Time Step  1144  of  1596\nrunPressuresAniso: Time Step  1145  of  1596\nrunPressuresAniso: Time Step  1146  of  1596\nrunPressuresAniso: Time Step  1147  of  1596\nrunPressuresAniso: Time Step  1148  of  1596\nrunPressuresAniso: Time Step  1149  of  1596\nrunPressuresAniso: Time Step  1150  of  1596\nrunPressuresAniso: Time Step  1151  of  1596\nrunPressuresAniso: Time Step  1152  of  1596\nrunPressuresAniso: Time Step  1153  of  1596\nrunPressuresAniso: Time Step  1154  of  1596\nrunPressuresAniso: Time Step  1155  of  1596\nrunPressuresAniso: Time Step  1156  of  1596\nrunPressuresAniso: Time Step  1157  of  1596\nrunPressuresAniso: Time Step  1158  of  1596\nrunPressuresAniso: Time Step  1159  of  1596\nrunPressuresAniso: Time Step  1160  of  1596\nrunPressuresAniso: Time Step  1161  of  1596\nrunPressuresAniso: Time Step  1162  of  1596\nrunPressuresAniso: Time Step  1163  of  1596\nrunPressuresAniso: Time Step  1164  of  1596\nrunPressuresAniso: Time Step  1165  of  1596\nrunPressuresAniso: Time Step  1166  of  1596\nrunPressuresAniso: Time Step  1167  of  1596\nrunPressuresAniso: Time Step  1168  of  1596\nrunPressuresAniso: Time Step  1169  of  1596\nrunPressuresAniso: Time Step  1170  of  1596\nrunPressuresAniso: Time Step  1171  of  1596\nrunPressuresAniso: Time Step  1172  of  1596\nrunPressuresAniso: Time Step  1173  of  1596\nrunPressuresAniso: Time Step  1174  of  1596\nrunPressuresAniso: Time Step  1175  of  1596\nrunPressuresAniso: Time Step  1176  of  1596\nrunPressuresAniso: Time Step  1177  of  1596\nrunPressuresAniso: Time Step  1178  of  1596\nrunPressuresAniso: Time Step  1179  of  1596\nrunPressuresAniso: Time Step  1180  of  1596\nrunPressuresAniso: Time Step  1181  of  1596\nrunPressuresAniso: Time Step  1182  of  1596\nrunPressuresAniso: Time Step  1183  of  1596\nrunPressuresAniso: Time Step  1184  of  1596\nrunPressuresAniso: Time Step  1185  of  1596\nrunPressuresAniso: Time Step  1186  of  1596\nrunPressuresAniso: Time Step  1187  of  1596\nrunPressuresAniso: Time Step  1188  of  1596\nrunPressuresAniso: Time Step  1189  of  1596\nrunPressuresAniso: Time Step  1190  of  1596\nrunPressuresAniso: Time Step  1191  of  1596\nrunPressuresAniso: Time Step  1192  of  1596\nrunPressuresAniso: Time Step  1193  of  1596\nrunPressuresAniso: Time Step  1194  of  1596\nrunPressuresAniso: Time Step  1195  of  1596\nrunPressuresAniso: Time Step  1196  of  1596\nrunPressuresAniso: Time Step  1197  of  1596\nrunPressuresAniso: Time Step  1198  of  1596\nrunPressuresAniso: Time Step  1199  of  1596\nrunPressuresAniso: Time Step  1200  of  1596\nrunPressuresAniso: Time Step  1201  of  1596\nrunPressuresAniso: Time Step  1202  of  1596\nrunPressuresAniso: Time Step  1203  of  1596\nrunPressuresAniso: Time Step  1204  of  1596\nrunPressuresAniso: Time Step  1205  of  1596\nrunPressuresAniso: Time Step  1206  of  1596\nrunPressuresAniso: Time Step  1207  of  1596\nrunPressuresAniso: Time Step  1208  of  1596\nrunPressuresAniso: Time Step  1209  of  1596\nrunPressuresAniso: Time Step  1210  of  1596\nrunPressuresAniso: Time Step  1211  of  1596\nrunPressuresAniso: Time Step  1212  of  1596\nrunPressuresAniso: Time Step  1213  of  1596\nrunPressuresAniso: Time Step  1214  of  1596\nrunPressuresAniso: Time Step  1215  of  1596\nrunPressuresAniso: Time Step  1216  of  1596\nrunPressuresAniso: Time Step  1217  of  1596\nrunPressuresAniso: Time Step  1218  of  1596\nrunPressuresAniso: Time Step  1219  of  1596\nrunPressuresAniso: Time Step  1220  of  1596\nrunPressuresAniso: Time Step  1221  of  1596\nrunPressuresAniso: Time Step  1222  of  1596\nrunPressuresAniso: Time Step  1223  of  1596\nrunPressuresAniso: Time Step  1224  of  1596\nrunPressuresAniso: Time Step  1225  of  1596\nrunPressuresAniso: Time Step  1226  of  1596\nrunPressuresAniso: Time Step  1227  of  1596\nrunPressuresAniso: Time Step  1228  of  1596\nrunPressuresAniso: Time Step  1229  of  1596\nrunPressuresAniso: Time Step  1230  of  1596\nrunPressuresAniso: Time Step  1231  of  1596\nrunPressuresAniso: Time Step  1232  of  1596\nrunPressuresAniso: Time Step  1233  of  1596\nrunPressuresAniso: Time Step  1234  of  1596\nrunPressuresAniso: Time Step  1235  of  1596\nrunPressuresAniso: Time Step  1236  of  1596\nrunPressuresAniso: Time Step  1237  of  1596\nrunPressuresAniso: Time Step  1238  of  1596\nrunPressuresAniso: Time Step  1239  of  1596\nrunPressuresAniso: Time Step  1240  of  1596\nrunPressuresAniso: Time Step  1241  of  1596\nrunPressuresAniso: Time Step  1242  of  1596\nrunPressuresAniso: Time Step  1243  of  1596\nrunPressuresAniso: Time Step  1244  of  1596\nrunPressuresAniso: Time Step  1245  of  1596\nrunPressuresAniso: Time Step  1246  of  1596\nrunPressuresAniso: Time Step  1247  of  1596\nrunPressuresAniso: Time Step  1248  of  1596\nrunPressuresAniso: Time Step  1249  of  1596\nrunPressuresAniso: Time Step  1250  of  1596\nrunPressuresAniso: Time Step  1251  of  1596\nrunPressuresAniso: Time Step  1252  of  1596\nrunPressuresAniso: Time Step  1253  of  1596\nrunPressuresAniso: Time Step  1254  of  1596\nrunPressuresAniso: Time Step  1255  of  1596\nrunPressuresAniso: Time Step  1256  of  1596\nrunPressuresAniso: Time Step  1257  of  1596\nrunPressuresAniso: Time Step  1258  of  1596\nrunPressuresAniso: Time Step  1259  of  1596\nrunPressuresAniso: Time Step  1260  of  1596\nrunPressuresAniso: Time Step  1261  of  1596\nrunPressuresAniso: Time Step  1262  of  1596\nrunPressuresAniso: Time Step  1263  of  1596\nrunPressuresAniso: Time Step  1264  of  1596\nrunPressuresAniso: Time Step  1265  of  1596\nrunPressuresAniso: Time Step  1266  of  1596\nrunPressuresAniso: Time Step  1267  of  1596\nrunPressuresAniso: Time Step  1268  of  1596\nrunPressuresAniso: Time Step  1269  of  1596\nrunPressuresAniso: Time Step  1270  of  1596\nrunPressuresAniso: Time Step  1271  of  1596\nrunPressuresAniso: Time Step  1272  of  1596\nrunPressuresAniso: Time Step  1273  of  1596\nrunPressuresAniso: Time Step  1274  of  1596\nrunPressuresAniso: Time Step  1275  of  1596\nrunPressuresAniso: Time Step  1276  of  1596\nrunPressuresAniso: Time Step  1277  of  1596\nrunPressuresAniso: Time Step  1278  of  1596\nrunPressuresAniso: Time Step  1279  of  1596\nrunPressuresAniso: Time Step  1280  of  1596\nrunPressuresAniso: Time Step  1281  of  1596\nrunPressuresAniso: Time Step  1282  of  1596\nrunPressuresAniso: Time Step  1283  of  1596\nrunPressuresAniso: Time Step  1284  of  1596\nrunPressuresAniso: Time Step  1285  of  1596\nrunPressuresAniso: Time Step  1286  of  1596\nrunPressuresAniso: Time Step  1287  of  1596\nrunPressuresAniso: Time Step  1288  of  1596\nrunPressuresAniso: Time Step  1289  of  1596\nrunPressuresAniso: Time Step  1290  of  1596\nrunPressuresAniso: Time Step  1291  of  1596\nrunPressuresAniso: Time Step  1292  of  1596\nrunPressuresAniso: Time Step  1293  of  1596\nrunPressuresAniso: Time Step  1294  of  1596\nrunPressuresAniso: Time Step  1295  of  1596\nrunPressuresAniso: Time Step  1296  of  1596\nrunPressuresAniso: Time Step  1297  of  1596\nrunPressuresAniso: Time Step  1298  of  1596\nrunPressuresAniso: Time Step  1299  of  1596\nrunPressuresAniso: Time Step  1300  of  1596\nrunPressuresAniso: Time Step  1301  of  1596\nrunPressuresAniso: Time Step  1302  of  1596\nrunPressuresAniso: Time Step  1303  of  1596\nrunPressuresAniso: Time Step  1304  of  1596\nrunPressuresAniso: Time Step  1305  of  1596\nrunPressuresAniso: Time Step  1306  of  1596\nrunPressuresAniso: Time Step  1307  of  1596\nrunPressuresAniso: Time Step  1308  of  1596\nrunPressuresAniso: Time Step  1309  of  1596\nrunPressuresAniso: Time Step  1310  of  1596\nrunPressuresAniso: Time Step  1311  of  1596\nrunPressuresAniso: Time Step  1312  of  1596\nrunPressuresAniso: Time Step  1313  of  1596\nrunPressuresAniso: Time Step  1314  of  1596\nrunPressuresAniso: Time Step  1315  of  1596\nrunPressuresAniso: Time Step  1316  of  1596\nrunPressuresAniso: Time Step  1317  of  1596\nrunPressuresAniso: Time Step  1318  of  1596\nrunPressuresAniso: Time Step  1319  of  1596\nrunPressuresAniso: Time Step  1320  of  1596\nrunPressuresAniso: Time Step  1321  of  1596\nrunPressuresAniso: Time Step  1322  of  1596\nrunPressuresAniso: Time Step  1323  of  1596\nrunPressuresAniso: Time Step  1324  of  1596\nrunPressuresAniso: Time Step  1325  of  1596\nrunPressuresAniso: Time Step  1326  of  1596\nrunPressuresAniso: Time Step  1327  of  1596\nrunPressuresAniso: Time Step  1328  of  1596\nrunPressuresAniso: Time Step  1329  of  1596\nrunPressuresAniso: Time Step  1330  of  1596\nrunPressuresAniso: Time Step  1331  of  1596\nrunPressuresAniso: Time Step  1332  of  1596\nrunPressuresAniso: Time Step  1333  of  1596\nrunPressuresAniso: Time Step  1334  of  1596\nrunPressuresAniso: Time Step  1335  of  1596\nrunPressuresAniso: Time Step  1336  of  1596\nrunPressuresAniso: Time Step  1337  of  1596\nrunPressuresAniso: Time Step  1338  of  1596\nrunPressuresAniso: Time Step  1339  of  1596\nrunPressuresAniso: Time Step  1340  of  1596\nrunPressuresAniso: Time Step  1341  of  1596\nrunPressuresAniso: Time Step  1342  of  1596\nrunPressuresAniso: Time Step  1343  of  1596\nrunPressuresAniso: Time Step  1344  of  1596\nrunPressuresAniso: Time Step  1345  of  1596\nrunPressuresAniso: Time Step  1346  of  1596\nrunPressuresAniso: Time Step  1347  of  1596\nrunPressuresAniso: Time Step  1348  of  1596\nrunPressuresAniso: Time Step  1349  of  1596\nrunPressuresAniso: Time Step  1350  of  1596\nrunPressuresAniso: Time Step  1351  of  1596\nrunPressuresAniso: Time Step  1352  of  1596\nrunPressuresAniso: Time Step  1353  of  1596\nrunPressuresAniso: Time Step  1354  of  1596\nrunPressuresAniso: Time Step  1355  of  1596\nrunPressuresAniso: Time Step  1356  of  1596\nrunPressuresAniso: Time Step  1357  of  1596\nrunPressuresAniso: Time Step  1358  of  1596\nrunPressuresAniso: Time Step  1359  of  1596\nrunPressuresAniso: Time Step  1360  of  1596\nrunPressuresAniso: Time Step  1361  of  1596\nrunPressuresAniso: Time Step  1362  of  1596\nrunPressuresAniso: Time Step  1363  of  1596\nrunPressuresAniso: Time Step  1364  of  1596\nrunPressuresAniso: Time Step  1365  of  1596\nrunPressuresAniso: Time Step  1366  of  1596\nrunPressuresAniso: Time Step  1367  of  1596\nrunPressuresAniso: Time Step  1368  of  1596\nrunPressuresAniso: Time Step  1369  of  1596\nrunPressuresAniso: Time Step  1370  of  1596\nrunPressuresAniso: Time Step  1371  of  1596\nrunPressuresAniso: Time Step  1372  of  1596\nrunPressuresAniso: Time Step  1373  of  1596\nrunPressuresAniso: Time Step  1374  of  1596\nrunPressuresAniso: Time Step  1375  of  1596\nrunPressuresAniso: Time Step  1376  of  1596\nrunPressuresAniso: Time Step  1377  of  1596\nrunPressuresAniso: Time Step  1378  of  1596\nrunPressuresAniso: Time Step  1379  of  1596\nrunPressuresAniso: Time Step  1380  of  1596\nrunPressuresAniso: Time Step  1381  of  1596\nrunPressuresAniso: Time Step  1382  of  1596\nrunPressuresAniso: Time Step  1383  of  1596\nrunPressuresAniso: Time Step  1384  of  1596\nrunPressuresAniso: Time Step  1385  of  1596\nrunPressuresAniso: Time Step  1386  of  1596\nrunPressuresAniso: Time Step  1387  of  1596\nrunPressuresAniso: Time Step  1388  of  1596\nrunPressuresAniso: Time Step  1389  of  1596\nrunPressuresAniso: Time Step  1390  of  1596\nrunPressuresAniso: Time Step  1391  of  1596\nrunPressuresAniso: Time Step  1392  of  1596\nrunPressuresAniso: Time Step  1393  of  1596\nrunPressuresAniso: Time Step  1394  of  1596\nrunPressuresAniso: Time Step  1395  of  1596\nrunPressuresAniso: Time Step  1396  of  1596\nrunPressuresAniso: Time Step  1397  of  1596\nrunPressuresAniso: Time Step  1398  of  1596\nrunPressuresAniso: Time Step  1399  of  1596\nrunPressuresAniso: Time Step  1400  of  1596\nrunPressuresAniso: Time Step  1401  of  1596\nrunPressuresAniso: Time Step  1402  of  1596\nrunPressuresAniso: Time Step  1403  of  1596\nrunPressuresAniso: Time Step  1404  of  1596\nrunPressuresAniso: Time Step  1405  of  1596\nrunPressuresAniso: Time Step  1406  of  1596\nrunPressuresAniso: Time Step  1407  of  1596\nrunPressuresAniso: Time Step  1408  of  1596\nrunPressuresAniso: Time Step  1409  of  1596\nrunPressuresAniso: Time Step  1410  of  1596\nrunPressuresAniso: Time Step  1411  of  1596\nrunPressuresAniso: Time Step  1412  of  1596\nrunPressuresAniso: Time Step  1413  of  1596\nrunPressuresAniso: Time Step  1414  of  1596\nrunPressuresAniso: Time Step  1415  of  1596\nrunPressuresAniso: Time Step  1416  of  1596\nrunPressuresAniso: Time Step  1417  of  1596\nrunPressuresAniso: Time Step  1418  of  1596\nrunPressuresAniso: Time Step  1419  of  1596\nrunPressuresAniso: Time Step  1420  of  1596\nrunPressuresAniso: Time Step  1421  of  1596\nrunPressuresAniso: Time Step  1422  of  1596\nrunPressuresAniso: Time Step  1423  of  1596\nrunPressuresAniso: Time Step  1424  of  1596\nrunPressuresAniso: Time Step  1425  of  1596\nrunPressuresAniso: Time Step  1426  of  1596\nrunPressuresAniso: Time Step  1427  of  1596\nrunPressuresAniso: Time Step  1428  of  1596\nrunPressuresAniso: Time Step  1429  of  1596\nrunPressuresAniso: Time Step  1430  of  1596\nrunPressuresAniso: Time Step  1431  of  1596\nrunPressuresAniso: Time Step  1432  of  1596\nrunPressuresAniso: Time Step  1433  of  1596\nrunPressuresAniso: Time Step  1434  of  1596\nrunPressuresAniso: Time Step  1435  of  1596\nrunPressuresAniso: Time Step  1436  of  1596\nrunPressuresAniso: Time Step  1437  of  1596\nrunPressuresAniso: Time Step  1438  of  1596\nrunPressuresAniso: Time Step  1439  of  1596\nrunPressuresAniso: Time Step  1440  of  1596\nrunPressuresAniso: Time Step  1441  of  1596\nrunPressuresAniso: Time Step  1442  of  1596\nrunPressuresAniso: Time Step  1443  of  1596\nrunPressuresAniso: Time Step  1444  of  1596\nrunPressuresAniso: Time Step  1445  of  1596\nrunPressuresAniso: Time Step  1446  of  1596\nrunPressuresAniso: Time Step  1447  of  1596\nrunPressuresAniso: Time Step  1448  of  1596\nrunPressuresAniso: Time Step  1449  of  1596\nrunPressuresAniso: Time Step  1450  of  1596\nrunPressuresAniso: Time Step  1451  of  1596\nrunPressuresAniso: Time Step  1452  of  1596\nrunPressuresAniso: Time Step  1453  of  1596\nrunPressuresAniso: Time Step  1454  of  1596\nrunPressuresAniso: Time Step  1455  of  1596\nrunPressuresAniso: Time Step  1456  of  1596\nrunPressuresAniso: Time Step  1457  of  1596\nrunPressuresAniso: Time Step  1458  of  1596\nrunPressuresAniso: Time Step  1459  of  1596\nrunPressuresAniso: Time Step  1460  of  1596\nrunPressuresAniso: Time Step  1461  of  1596\nrunPressuresAniso: Time Step  1462  of  1596\nrunPressuresAniso: Time Step  1463  of  1596\nrunPressuresAniso: Time Step  1464  of  1596\nrunPressuresAniso: Time Step  1465  of  1596\nrunPressuresAniso: Time Step  1466  of  1596\nrunPressuresAniso: Time Step  1467  of  1596\nrunPressuresAniso: Time Step  1468  of  1596\nrunPressuresAniso: Time Step  1469  of  1596\nrunPressuresAniso: Time Step  1470  of  1596\nrunPressuresAniso: Time Step  1471  of  1596\nrunPressuresAniso: Time Step  1472  of  1596\nrunPressuresAniso: Time Step  1473  of  1596\nrunPressuresAniso: Time Step  1474  of  1596\nrunPressuresAniso: Time Step  1475  of  1596\nrunPressuresAniso: Time Step  1476  of  1596\nrunPressuresAniso: Time Step  1477  of  1596\nrunPressuresAniso: Time Step  1478  of  1596\nrunPressuresAniso: Time Step  1479  of  1596\nrunPressuresAniso: Time Step  1480  of  1596\nrunPressuresAniso: Time Step  1481  of  1596\nrunPressuresAniso: Time Step  1482  of  1596\nrunPressuresAniso: Time Step  1483  of  1596\nrunPressuresAniso: Time Step  1484  of  1596\nrunPressuresAniso: Time Step  1485  of  1596\nrunPressuresAniso: Time Step  1486  of  1596\nrunPressuresAniso: Time Step  1487  of  1596\nrunPressuresAniso: Time Step  1488  of  1596\nrunPressuresAniso: Time Step  1489  of  1596\nrunPressuresAniso: Time Step  1490  of  1596\nrunPressuresAniso: Time Step  1491  of  1596\nrunPressuresAniso: Time Step  1492  of  1596\nrunPressuresAniso: Time Step  1493  of  1596\nrunPressuresAniso: Time Step  1494  of  1596\nrunPressuresAniso: Time Step  1495  of  1596\nrunPressuresAniso: Time Step  1496  of  1596\nrunPressuresAniso: Time Step  1497  of  1596\nrunPressuresAniso: Time Step  1498  of  1596\nrunPressuresAniso: Time Step  1499  of  1596\nrunPressuresAniso: Time Step  1500  of  1596\nrunPressuresAniso: Time Step  1501  of  1596\nrunPressuresAniso: Time Step  1502  of  1596\nrunPressuresAniso: Time Step  1503  of  1596\nrunPressuresAniso: Time Step  1504  of  1596\nrunPressuresAniso: Time Step  1505  of  1596\nrunPressuresAniso: Time Step  1506  of  1596\nrunPressuresAniso: Time Step  1507  of  1596\nrunPressuresAniso: Time Step  1508  of  1596\nrunPressuresAniso: Time Step  1509  of  1596\nrunPressuresAniso: Time Step  1510  of  1596\nrunPressuresAniso: Time Step  1511  of  1596\nrunPressuresAniso: Time Step  1512  of  1596\nrunPressuresAniso: Time Step  1513  of  1596\nrunPressuresAniso: Time Step  1514  of  1596\nrunPressuresAniso: Time Step  1515  of  1596\nrunPressuresAniso: Time Step  1516  of  1596\nrunPressuresAniso: Time Step  1517  of  1596\nrunPressuresAniso: Time Step  1518  of  1596\nrunPressuresAniso: Time Step  1519  of  1596\nrunPressuresAniso: Time Step  1520  of  1596\nrunPressuresAniso: Time Step  1521  of  1596\nrunPressuresAniso: Time Step  1522  of  1596\nrunPressuresAniso: Time Step  1523  of  1596\nrunPressuresAniso: Time Step  1524  of  1596\nrunPressuresAniso: Time Step  1525  of  1596\nrunPressuresAniso: Time Step  1526  of  1596\nrunPressuresAniso: Time Step  1527  of  1596\nrunPressuresAniso: Time Step  1528  of  1596\nrunPressuresAniso: Time Step  1529  of  1596\nrunPressuresAniso: Time Step  1530  of  1596\nrunPressuresAniso: Time Step  1531  of  1596\nrunPressuresAniso: Time Step  1532  of  1596\nrunPressuresAniso: Time Step  1533  of  1596\nrunPressuresAniso: Time Step  1534  of  1596\nrunPressuresAniso: Time Step  1535  of  1596\nrunPressuresAniso: Time Step  1536  of  1596\nrunPressuresAniso: Time Step  1537  of  1596\nrunPressuresAniso: Time Step  1538  of  1596\nrunPressuresAniso: Time Step  1539  of  1596\nrunPressuresAniso: Time Step  1540  of  1596\nrunPressuresAniso: Time Step  1541  of  1596\nrunPressuresAniso: Time Step  1542  of  1596\nrunPressuresAniso: Time Step  1543  of  1596\nrunPressuresAniso: Time Step  1544  of  1596\nrunPressuresAniso: Time Step  1545  of  1596\nrunPressuresAniso: Time Step  1546  of  1596\nrunPressuresAniso: Time Step  1547  of  1596\nrunPressuresAniso: Time Step  1548  of  1596\nrunPressuresAniso: Time Step  1549  of  1596\nrunPressuresAniso: Time Step  1550  of  1596\nrunPressuresAniso: Time Step  1551  of  1596\nrunPressuresAniso: Time Step  1552  of  1596\nrunPressuresAniso: Time Step  1553  of  1596\nrunPressuresAniso: Time Step  1554  of  1596\nrunPressuresAniso: Time Step  1555  of  1596\nrunPressuresAniso: Time Step  1556  of  1596\nrunPressuresAniso: Time Step  1557  of  1596\nrunPressuresAniso: Time Step  1558  of  1596\nrunPressuresAniso: Time Step  1559  of  1596\nrunPressuresAniso: Time Step  1560  of  1596\nrunPressuresAniso: Time Step  1561  of  1596\nrunPressuresAniso: Time Step  1562  of  1596\nrunPressuresAniso: Time Step  1563  of  1596\nrunPressuresAniso: Time Step  1564  of  1596\nrunPressuresAniso: Time Step  1565  of  1596\nrunPressuresAniso: Time Step  1566  of  1596\nrunPressuresAniso: Time Step  1567  of  1596\nrunPressuresAniso: Time Step  1568  of  1596\nrunPressuresAniso: Time Step  1569  of  1596\nrunPressuresAniso: Time Step  1570  of  1596\nrunPressuresAniso: Time Step  1571  of  1596\nrunPressuresAniso: Time Step  1572  of  1596\nrunPressuresAniso: Time Step  1573  of  1596\nrunPressuresAniso: Time Step  1574  of  1596\nrunPressuresAniso: Time Step  1575  of  1596\nrunPressuresAniso: Time Step  1576  of  1596\nrunPressuresAniso: Time Step  1577  of  1596\nrunPressuresAniso: Time Step  1578  of  1596\nrunPressuresAniso: Time Step  1579  of  1596\nrunPressuresAniso: Time Step  1580  of  1596\nrunPressuresAniso: Time Step  1581  of  1596\nrunPressuresAniso: Time Step  1582  of  1596\nrunPressuresAniso: Time Step  1583  of  1596\nrunPressuresAniso: Time Step  1584  of  1596\nrunPressuresAniso: Time Step  1585  of  1596\nrunPressuresAniso: Time Step  1586  of  1596\nrunPressuresAniso: Time Step  1587  of  1596\nrunPressuresAniso: Time Step  1588  of  1596\nrunPressuresAniso: Time Step  1589  of  1596\nrunPressuresAniso: Time Step  1590  of  1596\nrunPressuresAniso: Time Step  1591  of  1596\nrunPressuresAniso: Time Step  1592  of  1596\nrunPressuresAniso: Time Step  1593  of  1596\nrunPressuresAniso: Time Step  1594  of  1596\nrunPressuresAniso: Time Step  1595  of  1596\nrunPressuresAniso: After sum\n"
     ]
    }
   ],
   "source": [
    "# Run deep scenarios\n",
    "#eq['Origin Date']=pd.to_datetime(eq['Origin Date'])\n",
    "dPPTimeSeriesAniso,dWellPPAtEQ=deepM.runPressureScenariosAniso(eq,deepPPWells,deepPPInj,verbose=1)"
   ]
  },
  {
   "cell_type": "code",
   "execution_count": 0,
   "metadata": {
    "application/vnd.databricks.v1+cell": {
     "cellMetadata": {
      "byteLimit": 2048000,
      "rowLimit": 10000
     },
     "inputWidgets": {},
     "nuid": "b4f4ac3e-ff17-4e46-b12f-4b740743b036",
     "showTitle": false,
     "title": ""
    }
   },
   "outputs": [
    {
     "output_type": "stream",
     "name": "stdout",
     "output_type": "stream",
     "text": [
      "Out[17]: (561, 50, 1596)"
     ]
    }
   ],
   "source": [
    "dPPTimeSeriesAniso.shape"
   ]
  },
  {
   "cell_type": "code",
   "execution_count": 0,
   "metadata": {
    "application/vnd.databricks.v1+cell": {
     "cellMetadata": {
      "byteLimit": 2048000,
      "rowLimit": 10000
     },
     "inputWidgets": {},
     "nuid": "dc5b4e0a-10c4-44d9-b04a-6cdf992dd9d9",
     "showTitle": false,
     "title": ""
    }
   },
   "outputs": [],
   "source": [
    "\n",
    "baseOutPath='/Workspace/Users/bill.curry@exxonmobil.com/gist/Outputs/Stanton11-4-23_v2_'\n",
    "np.save(baseOutPath+'deepPPAniso.npy',dWellPPAtEQ)\n",
    "#np.save(baseOutPath+'deepPPTimesAniso.npy',dPPTimeSeriesAniso)\n",
    "dPPTimeSeriesAnisoSum=dPPTimeSeriesAniso.sum(axis=0)\n",
    "dPPTimes=np.linspace(deepM.injOT, deepM.injOT+deepM.injDT*(deepM.injNT-1.),deepM.injNT)\n",
    "np.save(baseOutPath+'deepPPTimesAniso.npy',dPPTimes)\n",
    "np.save(baseOutPath+'deepPPTimeSeriesAnisoSum.npy',dPPTimeSeriesAnisoSum)"
   ]
  },
  {
   "cell_type": "code",
   "execution_count": 0,
   "metadata": {
    "application/vnd.databricks.v1+cell": {
     "cellMetadata": {
      "byteLimit": 2048000,
      "rowLimit": 10000
     },
     "inputWidgets": {},
     "nuid": "0a49fd1e-bec7-4a66-90a7-fe858be28d4e",
     "showTitle": false,
     "title": ""
    }
   },
   "outputs": [],
   "source": [
    "# dPPTimeSeries is time, well, realization - need top wells with time series of pressures\n",
    "dPPWellIndices=deepPPWells['ID'].isin(deepWindowedWells)\n",
    "print(sum(dPPWellIndices),' wells out of ',len(dPPWellIndices),' have >0.1 PSI contribution')\n",
    "dPPTimeSeriesSelected=dPPTimeSeries[:,dPPWellIndices,:]\n",
    "dPPSelectedWellNameDF=deepPPWells['WellName'][dPPWellIndices]\n",
    "print(dPPSelectedWellNameDF.to_list())"
   ]
  }
 ],
 "metadata": {
  "application/vnd.databricks.v1+notebook": {
   "dashboards": [],
   "language": "python",
   "notebookMetadata": {
    "pythonIndentUnit": 2
   },
   "notebookName": "GIST_TestAnisotropy",
   "widgets": {}
  }
 },
 "nbformat": 4,
 "nbformat_minor": 0
}
