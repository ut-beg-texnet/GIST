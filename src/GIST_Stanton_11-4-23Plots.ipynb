{
 "cells": [
  {
   "cell_type": "code",
   "execution_count": 0,
   "metadata": {
    "application/vnd.databricks.v1+cell": {
     "cellMetadata": {
      "byteLimit": 2048000,
      "rowLimit": 10000
     },
     "inputWidgets": {},
     "nuid": "26525582-61b6-48dd-8ea4-4344d1914235",
     "showTitle": false,
     "title": ""
    }
   },
   "outputs": [],
   "source": [
    "! pip install geopandas\n",
    "! pip install geodatasets\n",
    "! pip install folium matplotlib mapclassify contextily"
   ]
  },
  {
   "cell_type": "code",
   "execution_count": 0,
   "metadata": {
    "application/vnd.databricks.v1+cell": {
     "cellMetadata": {
      "byteLimit": 2048000,
      "rowLimit": 10000
     },
     "inputWidgets": {},
     "nuid": "ed5388d0-02cc-4949-9d4d-0686d67788bb",
     "showTitle": false,
     "title": ""
    }
   },
   "outputs": [],
   "source": [
    "import sys\n",
    "basePath=''\n",
    "gistPath=''\n",
    "sys.path.append(basePath)\n",
    "import dataBricksConfig as db"
   ]
  },
  {
   "cell_type": "code",
   "execution_count": 0,
   "metadata": {
    "application/vnd.databricks.v1+cell": {
     "cellMetadata": {
      "byteLimit": 2048000,
      "rowLimit": 10000
     },
     "inputWidgets": {},
     "nuid": "001aed0e-80de-4d83-8895-0b2208872acd",
     "showTitle": false,
     "title": ""
    }
   },
   "outputs": [],
   "source": [
    "import numpy as np\n",
    "import pandas as pd\n",
    "import os\n",
    "import gistMCLive as gi\n",
    "import eqSQL as es\n",
    "import matplotlib.pyplot as plt\n",
    "import seaborn as sns\n",
    "import geopandas\n",
    "import contextily as cx"
   ]
  },
  {
   "cell_type": "markdown",
   "metadata": {
    "application/vnd.databricks.v1+cell": {
     "cellMetadata": {
      "byteLimit": 2048000,
      "rowLimit": 10000
     },
     "inputWidgets": {},
     "nuid": "3c5d548f-7087-4a92-968b-49effb05d3d1",
     "showTitle": false,
     "title": ""
    }
   },
   "source": [
    "#Well Listings and QC"
   ]
  },
  {
   "cell_type": "markdown",
   "metadata": {
    "application/vnd.databricks.v1+cell": {
     "cellMetadata": {
      "byteLimit": 2048000,
      "rowLimit": 10000
     },
     "inputWidgets": {},
     "nuid": "7cc036b7-c4c8-4cac-8fb2-ac730c5ebea4",
     "showTitle": false,
     "title": ""
    }
   },
   "source": [
    "##Load selected wells and cumulative volumes"
   ]
  },
  {
   "cell_type": "code",
   "execution_count": 0,
   "metadata": {
    "application/vnd.databricks.v1+cell": {
     "cellMetadata": {
      "byteLimit": 2048000,
      "rowLimit": 10000
     },
     "inputWidgets": {},
     "nuid": "b5fc2214-a6b7-4626-87d4-bd36e20f08a1",
     "showTitle": false,
     "title": ""
    }
   },
   "outputs": [],
   "source": [
    "basePath='/Workspace/Users/bill.curry@exxonmobil.com/gist/Outputs/'\n",
    "prefix=basePath+'Stanton11-4-23_'\n",
    "dPPWellDF=pd.read_csv(prefix+'DeepPPWells.csv')\n",
    "dPEWellDF=pd.read_csv(prefix+'DeepPEWells.csv')\n",
    "sPPWellDF=pd.read_csv(prefix+'ShallowPPWells.csv')\n",
    "sPEWellDF=pd.read_csv(prefix+'ShallowPEWells.csv')\n",
    "EQDF=pd.read_csv(basePath+'/11-4-23EQ.csv')\n",
    "EQDF=geopandas.GeoDataFrame(EQDF, geometry=geopandas.points_from_xy(EQDF['Longitude'],EQDF['Latitude']), crs=\"EPSG:4326\")"
   ]
  },
  {
   "cell_type": "markdown",
   "metadata": {
    "application/vnd.databricks.v1+cell": {
     "cellMetadata": {
      "byteLimit": 2048000,
      "rowLimit": 10000
     },
     "inputWidgets": {},
     "nuid": "e61c0128-95a7-441c-ae28-1e96785c9192",
     "showTitle": false,
     "title": ""
    }
   },
   "source": [
    "##Plot Deep and Shallow well selection"
   ]
  },
  {
   "cell_type": "code",
   "execution_count": 0,
   "metadata": {
    "application/vnd.databricks.v1+cell": {
     "cellMetadata": {
      "byteLimit": 2048000,
      "rowLimit": 10000
     },
     "inputWidgets": {},
     "nuid": "e46df7c4-e316-4e96-8cbb-4d325894ccc8",
     "showTitle": false,
     "title": ""
    }
   },
   "outputs": [],
   "source": [
    "print(dPPWellDF['DDRatio'].min(),dPPWellDF['DDRatio'].max(),dPPWellDF['TotalBBL'].min(),dPPWellDF['TotalBBL'].max())\n",
    "print(dPEWellDF['DDRatio'].min(),dPEWellDF['DDRatio'].max(),dPEWellDF['TotalBBL'].min(),dPEWellDF['TotalBBL'].max())\n",
    "dPPWellDF['MMBBL']=dPPWellDF['TotalBBL']/1000000.\n",
    "dPEWellDF['MMBBL']=dPEWellDF['TotalBBL']/1000000."
   ]
  },
  {
   "cell_type": "code",
   "execution_count": 0,
   "metadata": {
    "application/vnd.databricks.v1+cell": {
     "cellMetadata": {
      "byteLimit": 2048000,
      "rowLimit": 10000
     },
     "inputWidgets": {},
     "nuid": "66cac7a2-92f3-4af5-9f6d-b5be37c10da5",
     "showTitle": false,
     "title": ""
    }
   },
   "outputs": [],
   "source": [
    "from mpl_toolkits.axes_grid1 import make_axes_locatable\n",
    "fig, ax = plt.subplots(figsize=(36,24))\n",
    "plt.title('Deep wells')\n",
    "divider = make_axes_locatable(ax)\n",
    "PPWellsGDF = geopandas.GeoDataFrame(dPPWellDF, geometry=geopandas.points_from_xy(dPPWellDF['SurfaceHoleLongitude'], dPPWellDF['SurfaceHoleLatitude']), crs=\"EPSG:4326\")\n",
    "PEWellsGDF = geopandas.GeoDataFrame(dPEWellDF, geometry=geopandas.points_from_xy(dPEWellDF['SurfaceHoleLongitude'], dPEWellDF['SurfaceHoleLatitude']), crs=\"EPSG:4326\")\n",
    "xlim=(min(PEWellsGDF['SurfaceHoleLongitude'])-0.1,max(PEWellsGDF['SurfaceHoleLongitude'])+0.1)\n",
    "ylim=(min(PEWellsGDF['SurfaceHoleLatitude'])-0.1,max(PEWellsGDF['SurfaceHoleLatitude'])+0.1)\n",
    "#PEWellsGDF.plot(ax=ax,column='DDRatio',marker='.',vmin=0.,vmax=6.,markersize='MMBBL',legend=True)\n",
    "PPWellsGDF.plot(ax=ax,column='DDRatio',marker='x',vmin=0.,vmax=1.,markersize='MMBBL',legend=True)\n",
    "EQDF.plot(ax=ax,color='purple',marker='*',markersize=300)\n",
    "plt.xlim(xlim)\n",
    "plt.ylim(ylim)\n",
    "cx.add_basemap(ax,zoom=10,crs=\"EPSG:4326\")\n",
    "plt.show()\n",
    "\n",
    "# Make zoomed in version\n",
    "fig, ax = plt.subplots(figsize=(24,24))\n",
    "plt.title('Deep wells')\n",
    "divider = make_axes_locatable(ax)\n",
    "PPWellsGDF = geopandas.GeoDataFrame(dPPWellDF, geometry=geopandas.points_from_xy(dPPWellDF['SurfaceHoleLongitude'], dPPWellDF['SurfaceHoleLatitude']), crs=\"EPSG:4326\")\n",
    "PEWellsGDF = geopandas.GeoDataFrame(dPEWellDF, geometry=geopandas.points_from_xy(dPEWellDF['SurfaceHoleLongitude'], dPEWellDF['SurfaceHoleLatitude']), crs=\"EPSG:4326\")\n",
    "#PEWellsGDF.plot(ax=ax,column='DDRatio',marker='.',vmin=0.,vmax=6.,markersize='MMBBL',legend=True)\n",
    "PPWellsGDF.plot(ax=ax,column='DDRatio',marker='x',vmin=0.,vmax=1.,markersize='MMBBL',legend=True)\n",
    "xlim=(min(EQDF['Longitude'])-0.2,max(EQDF['Longitude'])+0.2)\n",
    "ylim=(min(EQDF['Latitude'])-0.2,max(EQDF['Latitude'])+0.2)\n",
    "EQDF.plot(ax=ax,color='purple',marker='*',markersize=300)\n",
    "plt.xlim(xlim)\n",
    "plt.ylim(ylim)\n",
    "cx.add_basemap(ax,zoom=12,crs=\"EPSG:4326\")\n",
    "plt.show()"
   ]
  },
  {
   "cell_type": "markdown",
   "metadata": {
    "application/vnd.databricks.v1+cell": {
     "cellMetadata": {
      "byteLimit": 2048000,
      "rowLimit": 10000
     },
     "inputWidgets": {},
     "nuid": "477db665-f425-4e62-9c22-31a5fff246ca",
     "showTitle": false,
     "title": ""
    }
   },
   "source": [
    "# Load Data\n"
   ]
  },
  {
   "cell_type": "code",
   "execution_count": 0,
   "metadata": {
    "application/vnd.databricks.v1+cell": {
     "cellMetadata": {
      "byteLimit": 2048000,
      "rowLimit": 10000
     },
     "inputWidgets": {},
     "nuid": "274134f6-0673-447b-add5-95e980098952",
     "showTitle": false,
     "title": ""
    }
   },
   "outputs": [],
   "source": [
    "\n",
    "dWellPPScenarios=pd.read_csv('/gist/Outputs/Stanton11-4-23_v2_'+'deepPP.csv')\n",
    "dWellPEScenarios=pd.read_csv('/gist/Outputs/Stanton11-4-23_v2_'+'deepPE.csv')\n",
    "sWellPPScenarios=pd.read_csv('/gist/Outputs/Stanton11-4-23_v2_'+'shallowPP.csv')\n",
    "sWellPEScenarios0=pd.read_csv('/gist/Outputs/Stanton11-4-23_v2_'+'shallowPE0.csv')\n",
    "sWellPEScenarios1=pd.read_csv('/gist/Outputs/Stanton11-4-23_v2_'+'shallowPE1.csv')"
   ]
  },
  {
   "cell_type": "code",
   "execution_count": 0,
   "metadata": {
    "application/vnd.databricks.v1+cell": {
     "cellMetadata": {
      "byteLimit": 2048000,
      "rowLimit": 10000
     },
     "inputWidgets": {},
     "nuid": "0a9e8482-78fd-4869-a932-48c0ca7170a8",
     "showTitle": false,
     "title": ""
    }
   },
   "outputs": [],
   "source": [
    "sWellPEScenarios=pd.concat([sWellPEScenarios0,sWellPEScenarios1])\n",
    "dWellPPScenarios.info()\n",
    "dWellPEScenarios.info()\n",
    "sWellPPScenarios.info()\n",
    "sWellPEScenarios.info()"
   ]
  },
  {
   "cell_type": "markdown",
   "metadata": {
    "application/vnd.databricks.v1+cell": {
     "cellMetadata": {
      "byteLimit": 2048000,
      "rowLimit": 10000
     },
     "inputWidgets": {},
     "nuid": "de0a41c6-3196-4cdf-8bb1-054c84b24d1c",
     "showTitle": false,
     "title": ""
    }
   },
   "source": [
    "#Generate Realization Plots"
   ]
  },
  {
   "cell_type": "code",
   "execution_count": 0,
   "metadata": {
    "application/vnd.databricks.v1+cell": {
     "cellMetadata": {
      "byteLimit": 2048000,
      "rowLimit": 10000
     },
     "inputWidgets": {},
     "nuid": "847d2e16-55db-4845-8226-cfd7cdc2c0e4",
     "showTitle": false,
     "title": ""
    }
   },
   "outputs": [],
   "source": [
    "\n",
    "# Make subset of each dataframe with one row per realization\n",
    "dPPReal=dWellPPScenarios.groupby('Realization').first()[['NumWells','TotalPressure']]\n",
    "dPEReal=dWellPEScenarios.groupby('Realization').first()[['NumWells','TotalStress','Theta']]\n",
    "sPPReal=sWellPPScenarios.groupby('Realization').first()[['NumWells','TotalPressure']]\n",
    "sPEReal=sWellPEScenarios.groupby('Realization').first()[['NumWells','TotalStress','Theta']]"
   ]
  },
  {
   "cell_type": "code",
   "execution_count": 0,
   "metadata": {
    "application/vnd.databricks.v1+cell": {
     "cellMetadata": {
      "byteLimit": 2048000,
      "rowLimit": 10000
     },
     "inputWidgets": {},
     "nuid": "c8fc9d95-5984-442a-a201-04d4e25f5a1c",
     "showTitle": false,
     "title": ""
    }
   },
   "outputs": [],
   "source": [
    "# Population plots - what choices do I make here? - these should be per-realization statistics\n",
    "#   Histograms of total stresses, pressures\n",
    "#   Histograms of numbers of wells contributing\n",
    "#   Histograms of slip tendency direction - aka rake\n",
    "fig,axes=plt.subplots(2,4, sharey=True, figsize=(10,10))\n",
    "axes[0,1].set_title('Shallow Pressure')\n",
    "axes[0,0].set_title('Deep Pressure')\n",
    "axes[0,3].set_title('Shallow Stress')\n",
    "axes[0,2].set_title('Deep Stress')\n",
    "sns.histplot(ax=axes[0,0],x=dPPReal.TotalPressure)\n",
    "sns.histplot(ax=axes[0,1],x=sPPReal.TotalPressure)\n",
    "sns.histplot(ax=axes[0,2],x=dPEReal.TotalStress)\n",
    "sns.histplot(ax=axes[0,3],x=sPEReal.TotalStress)\n",
    "sns.histplot(ax=axes[1,0],x=dPPReal.NumWells)\n",
    "sns.histplot(ax=axes[1,1],x=sPPReal.NumWells)\n",
    "sns.histplot(ax=axes[1,2],x=dPEReal.NumWells)\n",
    "sns.histplot(ax=axes[1,3],x=sPEReal.NumWells)\n",
    "axes[0,0].set_xlabel('Pressure (psi)')\n",
    "axes[0,1].set_xlabel('Pressure (psi)')\n",
    "axes[0,2].set_xlabel('Stress (psi)')\n",
    "axes[0,3].set_xlabel('Stress (psi)')\n",
    "axes[1,0].set_xlabel('Number of wells')\n",
    "axes[1,1].set_xlabel('Number of wells')\n",
    "axes[1,2].set_xlabel('Number of wells')\n",
    "axes[1,3].set_xlabel('Number of wells')\n",
    "\n",
    "\n",
    "\n",
    "fig,axes=plt.subplots(1,2, sharey=True, figsize=(5,5))\n",
    "axes[1].set_title('Shallow Predicted Rakes')\n",
    "axes[0].set_title('Deep Predicted Rakes')\n",
    "sns.histplot(ax=axes[0],x=dPEReal.Theta)\n",
    "sns.histplot(ax=axes[1],x=sPEReal.Theta)\n",
    "axes[0].set_xlabel('Rake (deg)')\n",
    "axes[1].set_xlabel('Rake (deg)')\n",
    "# Injection plots\n",
    "print(EQDF.Rake)\n",
    "# Correct well injections"
   ]
  },
  {
   "cell_type": "markdown",
   "metadata": {
    "application/vnd.databricks.v1+cell": {
     "cellMetadata": {
      "byteLimit": 2048000,
      "rowLimit": 10000
     },
     "inputWidgets": {},
     "nuid": "dbd1d349-e12d-4ae9-80fe-dd40d2567fe6",
     "showTitle": false,
     "title": ""
    }
   },
   "source": [
    "#Relative Contribution Ranges\n",
    "## Deep"
   ]
  },
  {
   "cell_type": "code",
   "execution_count": 0,
   "metadata": {
    "application/vnd.databricks.v1+cell": {
     "cellMetadata": {
      "byteLimit": 2048000,
      "rowLimit": 10000
     },
     "inputWidgets": {},
     "nuid": "26411900-9853-4ab4-a2ef-350ef53162f7",
     "showTitle": false,
     "title": ""
    }
   },
   "outputs": [],
   "source": [
    "deepWindowedWells=dWellPPScenarios[dWellPPScenarios['Pressures']>0.1]['ID'].unique()\n",
    "#print(deepWindowedWells)\n",
    "filtDWellPPScenarios=dWellPPScenarios[dWellPPScenarios['ID'].isin(deepWindowedWells)]\n",
    "filtDWellPEScenarios=dWellPEScenarios[dWellPEScenarios['ID'].isin(deepWindowedWells)]\n",
    "#print(len(dWellPPScenarios),len(filtDWellPPScenarios),len(filtDWellPEScenarios))\n",
    "maxPressureList=[]\n",
    "maxPressureDF=pd.DataFrame(columns=['Name','ID','MaxPressure'])\n",
    "names=[]\n",
    "ids=[]\n",
    "maxps=[]\n",
    "for ID in deepWindowedWells:\n",
    "  maxps.append(max(filtDWellPPScenarios[filtDWellPPScenarios['ID']==ID]['Pressures']))\n",
    "  names.append(filtDWellPPScenarios[filtDWellPPScenarios['ID']==ID]['Name'].iloc[0])\n",
    "  ids.append(ID)\n",
    "  #print(ID,name,maxPressure)\n",
    "  #nReal=filtDWellPPScenarios[filtDWellPPScenarios['ID']==ID].shape[0]\n",
    "  #maxPressureList.extend([maxPressure,]*nReal)\n",
    "#filtDWellPPScenarios['MaxPressure']=maxPressureList\n",
    "#filtDWellPPScenarios=filtDWellPPScenarios.sort_values(by='MaxPressure',ascending=False)\n",
    "#print(filtDWellPPScenarios)\n",
    "maxPressureDict={'Name': names, 'ID':ids, 'MaxPressure': maxps} \n",
    "maxPressureDF=pd.DataFrame(maxPressureDict).sort_values(by='MaxPressure',ascending=False)\n",
    "#filtDWellPPScenarioOrder=filtDWellPPScenarios[filtDWellPPScenarios['Realization']==0].sort_values(by='MaxPressure',ascending=False)\n",
    "print(maxPressureDF)\n",
    "\n",
    "winMaxPressureDF=maxPressureDF.iloc[0:13]\n",
    "winDWellPPScenariosDF=filtDWellPPScenarios[filtDWellPPScenarios['ID'].isin(winMaxPressureDF['ID'])]\n",
    "print(winMaxPressureDF)"
   ]
  },
  {
   "cell_type": "code",
   "execution_count": 0,
   "metadata": {
    "application/vnd.databricks.v1+cell": {
     "cellMetadata": {
      "byteLimit": 2048000,
      "rowLimit": 10000
     },
     "inputWidgets": {},
     "nuid": "c57751dd-48fc-4bef-a341-5f41c5808fdf",
     "showTitle": false,
     "title": ""
    }
   },
   "outputs": [],
   "source": [
    "OLRPWells=['']\n",
    "NonOLRPWells=['']\n",
    "\n",
    "OLRPWellPPScenariosDF=filtDWellPPScenarios[filtDWellPPScenarios['Name'].isin(OLRPWells+NonOLRPWells)]"
   ]
  },
  {
   "cell_type": "code",
   "execution_count": 0,
   "metadata": {
    "application/vnd.databricks.v1+cell": {
     "cellMetadata": {
      "byteLimit": 2048000,
      "rowLimit": 10000
     },
     "inputWidgets": {},
     "nuid": "f7ffdd6e-a9a2-40d1-9462-82a46c96f661",
     "showTitle": false,
     "title": ""
    }
   },
   "outputs": [],
   "source": [
    "fig,axes=plt.subplots(1,1, sharex=True, figsize=(20,10))\n",
    "sns.set(font_scale=2.5)\n",
    "# Relative contributions\n",
    "sns.stripplot(data=OLRPWellPPScenariosDF,x='Pressures',y='Name',dodge=True,jitter=True,alpha=0.7,linewidth=0,edgecolor='white',ax=axes,order=OLRPWells+NonOLRPWells,size=25)\n",
    "axes.set_title('Deep Well Pressures',fontsize=25)\n",
    "axes.set_xlabel('Pressure Increase (PSI)',fontsize=25)\n",
    "axes.set_ylabel('Well Name',fontsize=25)"
   ]
  },
  {
   "cell_type": "markdown",
   "metadata": {
    "application/vnd.databricks.v1+cell": {
     "cellMetadata": {
      "byteLimit": 2048000,
      "rowLimit": 10000
     },
     "inputWidgets": {},
     "nuid": "3c140d53-002f-4f7a-a460-586952f9bbbf",
     "showTitle": false,
     "title": ""
    }
   },
   "source": [
    "#Plot Shallow / Deep injection histories of selected wells"
   ]
  },
  {
   "cell_type": "code",
   "execution_count": 0,
   "metadata": {
    "application/vnd.databricks.v1+cell": {
     "cellMetadata": {
      "byteLimit": 2048000,
      "rowLimit": 10000
     },
     "inputWidgets": {},
     "nuid": "abc45542-b784-4a73-b95d-59a8ed736491",
     "showTitle": false,
     "title": ""
    }
   },
   "outputs": [],
   "source": [
    "#What corrections need to be made?\n",
    "# Load deep injection data from selected wells\n",
    "dWellInjectionDF=pd.read_csv('/Workspace/Users/bill.curry@exxonmobil.com/gist/Outputs/Stanton11-4-23_DeepPPInj.csv')\n",
    "# Limit injection to wells in contributors list\n",
    "newWellList=OLRPWells+NonOLRPWells\n",
    "print(newWellList)\n",
    "newWellIDList=dPPWellDF[dPPWellDF['WellName'].isin(newWellList)]['ID']\n",
    "dContributorInjectionDF=dWellInjectionDF[dWellInjectionDF['ID'].isin(newWellIDList)]\n",
    "# Limit injection to wells with DDRatio less than 0.25\n",
    "selectedWellIDList=dPPWellDF[dPPWellDF['DDRatio']<0.25]['ID']\n",
    "dSelectedInjectionDF=dWellInjectionDF[dWellInjectionDF['ID'].isin(selectedWellIDList)]\n"
   ]
  },
  {
   "cell_type": "code",
   "execution_count": 0,
   "metadata": {
    "application/vnd.databricks.v1+cell": {
     "cellMetadata": {
      "byteLimit": 2048000,
      "rowLimit": 10000
     },
     "inputWidgets": {},
     "nuid": "de1e71db-ac9e-41bb-b704-d759cb31b1df",
     "showTitle": false,
     "title": ""
    }
   },
   "outputs": [],
   "source": [
    "startDate=pd.to_datetime('01-01-2019')\n",
    "endDate=pd.to_datetime('11-04-2023')\n",
    "title='Deep OLRP well injection history'\n",
    "legend=True\n",
    "#injDF,wellDF,startDate,endDate,title,legend):\n",
    "fig, ax = plt.subplots(figsize=(24,12))\n",
    "# Merge well information onto injection rates\n",
    "# Need to incorporate time sampling other than 10 day\n",
    "injQC=dContributorInjectionDF.merge(dPPWellDF,on='ID')\n",
    "injQC['Date']=pd.to_datetime(injQC.Date)\n",
    "# Generate x and y\n",
    "dates=injQC['Date'].drop_duplicates()\n",
    "# Loop over wells\n",
    "oDate=min(dates)\n",
    "eDate=max(dates)\n",
    "dateRange=pd.date_range(start=oDate,end=eDate, freq='10D')\n",
    "# Get x min, x max\n",
    "wellIDs=injQC['ID'].drop_duplicates()\n",
    "allWellBPDs=[]\n",
    "allWellLabels=[]\n",
    "for well in wellIDs:\n",
    "  wellDates=injQC[injQC['ID']==well]['Date']\n",
    "  wellBPDs=injQC[injQC['ID']==well]['BPD']\n",
    "  minWD=min(wellDates)\n",
    "  maxWD=max(wellDates)\n",
    "  nPrepend=sum(dateRange<minWD)\n",
    "  nAppend=sum(dateRange>maxWD)\n",
    "  #print('Well ',well,' ',minWD,maxWD,oDate,eDate,nPrepend,' prePad, ',nAppend,' postPad, ',len(dateRange))\n",
    "  #print('allWellBPDs: ',allWellBPDs)\n",
    "  if nPrepend>0:\n",
    "    prependZeroBPDs=pd.Series(np.zeros([nPrepend]))\n",
    "  else:\n",
    "    prependZeroBPDs=None\n",
    "  if nAppend>0:\n",
    "    appendZeroBPDs=pd.Series(np.zeros([nAppend,1]))\n",
    "  else:\n",
    "    appendZeroBPDs=None\n",
    "  padWellBPDs=pd.concat([prependZeroBPDs,wellBPDs,appendZeroBPDs])\n",
    "  allWellBPDs.append(padWellBPDs)\n",
    "  #allWellLabels.append(injQC['WellName'][injQC['ID']==well][0])\n",
    "  allWellLabels.append(injQC['WellName'][injQC['ID']==well].iloc[0])\n",
    "# Now have allWellBPDs, allWellLabels, and dateRange all set\n",
    "# Generate Stacked area plot of injection\n",
    "sns.set_theme()\n",
    "# y needs to be defined for each well, and extended for the full time series\n",
    "col = sns.color_palette(\"hls\", len(wellIDs))\n",
    "#zoomDate=oneEQ['Origin Date'] - pd.DateOffset(years=2)\n",
    "ax.stackplot(dateRange,allWellBPDs, labels=allWellLabels,colors=col)\n",
    "ax.set_title(title)\n",
    "ax.set_xlabel('Date')\n",
    "ax.set_ylabel('Rate (BPD)')\n",
    "if startDate!=None or endDate!=None: plt.xlim((startDate,endDate))\n",
    "if legend: plt.legend(loc='upper left')\n",
    "plt.show()"
   ]
  },
  {
   "cell_type": "code",
   "execution_count": 0,
   "metadata": {
    "application/vnd.databricks.v1+cell": {
     "cellMetadata": {
      "byteLimit": 2048000,
      "rowLimit": 10000
     },
     "inputWidgets": {},
     "nuid": "e3499ea8-7680-4267-b41a-c6bf9022a767",
     "showTitle": false,
     "title": ""
    }
   },
   "outputs": [],
   "source": [
    "# Loop over realizations and plot pressure histories - start with one\n",
    "fileName='Stanton11-4-23_v2_deepPPTimeSeries3601 SWD 1.npy'\n",
    "oneWellTimeSeries=np.load(basePath+fileName)\n",
    "times=np.load(basePath+'/Stanton11-4-23_v2_deepPPTimes.npy')\n",
    "print(times.shape,oneWellTimeSeries.shape)"
   ]
  },
  {
   "cell_type": "code",
   "execution_count": 0,
   "metadata": {
    "application/vnd.databricks.v1+cell": {
     "cellMetadata": {
      "byteLimit": 2048000,
      "rowLimit": 10000
     },
     "inputWidgets": {},
     "nuid": "5bb3ef56-183c-4508-86b6-51116091eaa0",
     "showTitle": false,
     "title": ""
    }
   },
   "outputs": [],
   "source": [
    "# Make a big dataframe with all of the realizations for all wells\n",
    "\n",
    "# Form time and realization arrays\n",
    "\n",
    "for wellName in OLRPWells:\n",
    "  # Load .npy file for time series\n",
    "  filePath=basePath+'Stanton11-4-23_v2_deepPPTimeSeries'+wellName+'.npy'\n",
    "  oneWellTimeSeries=np.load(filePath)\n",
    "  # Now plot per-well pressures\n",
    "  n0=oneWellTimeSeries.shape[0]\n",
    "  n1=oneWellTimeSeries.shape[1]\n",
    "  timesA=np.reshape(times[:-1],[1582,1])\n",
    "  timesArray=np.repeat(timesA,n1,axis=1)\n",
    "  real=np.repeat(np.arange(0,500,1),n0,axis=0)\n",
    "  print(wellName,n1,oneWellTimeSeries.size,timesArray.size,real.size)\n",
    "  # Make dataframe with columns - Date, Pressure, Realization\n",
    "  data = {'Pressure': oneWellTimeSeries.flatten('F'), 'Days': timesArray.flatten('F'), 'Realization':real}\n",
    "  pDF=pd.DataFrame.from_dict(data)\n",
    "  pDF['Date']=pd.to_datetime('01-01-1970') + pd.to_timedelta(pDF['Days'],\"d\")\n",
    "  fig, ax = plt.subplots(figsize=(24,12))\n",
    "  sns.lineplot(data=pDF,x='Date',y='Pressure',hue='Realization',estimator=None,sort=False)\n",
    "  plt.xlim((startDate,endDate))\n",
    "  ax.set_title(wellName+' Pressure Realizations')"
   ]
  },
  {
   "cell_type": "code",
   "execution_count": 0,
   "metadata": {
    "application/vnd.databricks.v1+cell": {
     "cellMetadata": {
      "byteLimit": 2048000,
      "rowLimit": 10000
     },
     "inputWidgets": {},
     "nuid": "037688e1-ee94-4ec7-802a-cae8aed167f9",
     "showTitle": false,
     "title": ""
    }
   },
   "outputs": [],
   "source": [
    "# Now plot per-well pressures\n",
    "n0=oneWellTimeSeries.shape[0]\n",
    "n1=oneWellTimeSeries.shape[1]\n",
    "timesA=np.reshape(times[:-1],[1582,1])\n",
    "timesArray=np.repeat(timesA,n1,axis=1)\n",
    "real=np.repeat(np.arange(0,500,1),n0,axis=0)\n",
    "print(n1,oneWellTimeSeries.size,timesArray.size,real.size)\n",
    "# Make dataframe with columns - Date, Pressure, Realization\n",
    "data = {'Pressure': oneWellTimeSeries.flatten('F'), 'Days': timesArray.flatten('F'), 'Realization':real}\n",
    "pDF=pd.DataFrame.from_dict(data)\n",
    "pDF['Date']=pd.to_datetime('01-01-1970') + pd.to_timedelta(pDF['Days'],\"d\")"
   ]
  },
  {
   "cell_type": "code",
   "execution_count": 0,
   "metadata": {
    "application/vnd.databricks.v1+cell": {
     "cellMetadata": {
      "byteLimit": 2048000,
      "rowLimit": 10000
     },
     "inputWidgets": {},
     "nuid": "a08ea086-f689-4d35-a08f-403da3fbdbad",
     "showTitle": false,
     "title": ""
    }
   },
   "outputs": [],
   "source": [
    "\n",
    "fig, ax = plt.subplots(figsize=(24,12))\n",
    "sns.lineplot(data=pDF,x='Date',y='Pressure',hue='Realization',estimator=None,sort=False)\n",
    "plt.xlim((startDate,endDate))\n",
    "ax.set_title('3601 SWD Pressure Realizations')\n",
    "\n",
    "#plt.plot(timesArray[1350:,:], oneWellTimeSeries[1350:,:])\n",
    "#plt.show()"
   ]
  },
  {
   "cell_type": "code",
   "execution_count": 0,
   "metadata": {
    "application/vnd.databricks.v1+cell": {
     "cellMetadata": {},
     "inputWidgets": {},
     "nuid": "e1801567-e531-405d-a35b-983a8817c643",
     "showTitle": false,
     "title": ""
    }
   },
   "outputs": [],
   "source": []
  },
  {
   "cell_type": "code",
   "execution_count": 0,
   "metadata": {
    "application/vnd.databricks.v1+cell": {
     "cellMetadata": {
      "byteLimit": 2048000,
      "rowLimit": 10000
     },
     "inputWidgets": {},
     "nuid": "2deae557-758d-49ab-b5c3-40f9d5cad512",
     "showTitle": false,
     "title": ""
    }
   },
   "outputs": [],
   "source": [
    "# Make stacked volumes plot of these two sets of injection data\n",
    "# Start Day is 2010\n",
    "startDay=14610\n",
    "dD=10\n",
    "import datetime\n",
    "epoch = datetime.date(1970,1,1)\n",
    "nWellsOLRP=len(newWellIDList)\n",
    "maxDay=dContributorInjectionDF['Days'].max()\n",
    "nD=1+int((maxDay-startDay)/dD)\n",
    "daysVec=range(startDay,startDay+(nD-1)*dD,dD)\n",
    "dateVec=[]\n",
    "for iD in daysVec:\n",
    "  dateVec.append(epoch+ datetime.timedelta(days=iD))\n",
    "injArray=np.zeros([nWellsOLRP,nD])\n",
    "nameList=[]\n",
    "i1=0\n",
    "print(maxDay,nD,startDay,nWellsOLRP)\n",
    "for wellID in newWellIDList:\n",
    "  injDF=dContributorInjectionDF[dContributorInjectionDF['ID']==wellID]\n",
    "  print(wellID,injDF)\n",
    "  inputMinDay=min(injDF.Days)\n",
    "  inputMaxDay=max(injDF.Days)\n",
    "  injNP=injDF.BPD.to_numpy()\n",
    "  # si0 - start of input\n",
    "  # ei0 - end of input\n",
    "  # so0 - start of output - relative to startDay\n",
    "  # eo0 - end of output\n",
    "  if inputMinDay>=startDay:\n",
    "    # Case 1 - the injection data starts after the beginning of the plot\n",
    "    si0=0\n",
    "    # Get maximum\n",
    "    ei0=int((inputMaxDay-inputMinDay)/dD)\n",
    "    # Get output start and end\n",
    "    so0=int((inputMinDay-startDay)/dD)\n",
    "    eo0=int((inputMaxDay-startDay)/dD)\n",
    "  elif inputMinDay<startDay:\n",
    "    # Case 2 - the injection data starts before the beginning of the plot\n",
    "    si0=int((startDay-inputMinDay)/dD)\n",
    "    ei0=int((inputMaxDay-inputMinDay)/dD)\n",
    "    so0=0\n",
    "    eo0=int((inputMaxDay-startDay)/dD)\n",
    "  print(i1,si0,ei0,so0,eo0)\n",
    "  # I do not check the end date, assume they are all the same\n",
    "  injArray[i1,so0:eo0]=injNP[si0:ei0]\n",
    "  nameList.append(dPPWellDF['WellName'][dPPWellDF['ID']==wellID])\n",
    "  i1=i1+1\n",
    "fig, ax = plt.subplots(figsize=(12,24))\n",
    "#print(dateVec)\n",
    "print(injArray)\n",
    "plt.stackplot(x=dateVec,data=injArray,labels=nameList)\n",
    "ax.set_title('Injection')\n",
    "ax.set_xlabel('Days')\n",
    "ax.set_ylabel('Rate (BPD)')"
   ]
  },
  {
   "cell_type": "code",
   "execution_count": 0,
   "metadata": {
    "application/vnd.databricks.v1+cell": {
     "cellMetadata": {},
     "inputWidgets": {},
     "nuid": "c06a3ed7-6552-4d5e-bd39-de57fd540d67",
     "showTitle": false,
     "title": ""
    }
   },
   "outputs": [],
   "source": []
  },
  {
   "cell_type": "code",
   "execution_count": 0,
   "metadata": {
    "application/vnd.databricks.v1+cell": {
     "cellMetadata": {
      "byteLimit": 2048000,
      "rowLimit": 10000
     },
     "inputWidgets": {},
     "nuid": "63938395-a98a-4825-83d1-cb404de288be",
     "showTitle": false,
     "title": ""
    }
   },
   "outputs": [],
   "source": [
    "#Plot Shallow / Deep pressure histories on a per-well basis"
   ]
  },
  {
   "cell_type": "code",
   "execution_count": 0,
   "metadata": {
    "application/vnd.databricks.v1+cell": {
     "cellMetadata": {
      "byteLimit": 2048000,
      "rowLimit": 10000
     },
     "inputWidgets": {},
     "nuid": "b415d18c-fd03-4b4f-bc30-8ba9534d4430",
     "showTitle": false,
     "title": ""
    }
   },
   "outputs": [],
   "source": [
    "# All wells\n",
    "fig,axes=plt.subplots(1,1, sharex=True, figsize=(20,40))\n",
    "sns.set(font_scale=2.5)\n",
    "# Relative contributions\n",
    "sns.stripplot(data=filtDWellPPScenarios,x='Pressures',y='Name',dodge=True,jitter=True,alpha=0.7,linewidth=0,edgecolor='white',ax=axes,order=maxPressureDF,size=25)\n",
    "axes.set_title('Deep Well Pressures',fontsize=25)\n",
    "axes.set_xlabel('Pressure (PSI)',fontsize=25)\n",
    "axes.set_ylabel('Well Name',fontsize=25)"
   ]
  },
  {
   "cell_type": "code",
   "execution_count": 0,
   "metadata": {
    "application/vnd.databricks.v1+cell": {
     "cellMetadata": {
      "byteLimit": 2048000,
      "rowLimit": 10000
     },
     "inputWidgets": {},
     "nuid": "2afa73c3-bd48-4558-a4e5-c9cd3a4489a4",
     "showTitle": false,
     "title": ""
    }
   },
   "outputs": [],
   "source": [
    "# Reduce number of rows to wells with selected names\n",
    "WellNames=['',]\n",
    "filtDWellPPScenariosWin=filtDWellPPScenarios[filtDWellPPScenarios['Name'].isin(WellNames)]"
   ]
  },
  {
   "cell_type": "code",
   "execution_count": 0,
   "metadata": {
    "application/vnd.databricks.v1+cell": {
     "cellMetadata": {
      "byteLimit": 2048000,
      "rowLimit": 10000
     },
     "inputWidgets": {},
     "nuid": "d36aacd3-f205-4fc6-8c30-246509e239e3",
     "showTitle": false,
     "title": ""
    }
   },
   "outputs": [],
   "source": [
    "fig,axes=plt.subplots(1,1, sharex=True, figsize=(10,5))\n",
    "# Relative contributions\n",
    "sns.stripplot(data=filtDWellPPScenariosWin,x='Pressures',y='Name',dodge=True,jitter=True,alpha=0.1,linewidth=2,edgecolor='white',ax=axes)\n",
    "axes.set_title('Deep Well Pressures')\n",
    "axes.set_xlabel('Pressure (PSI)')"
   ]
  },
  {
   "cell_type": "markdown",
   "metadata": {
    "application/vnd.databricks.v1+cell": {
     "cellMetadata": {
      "byteLimit": 2048000,
      "rowLimit": 10000
     },
     "inputWidgets": {},
     "nuid": "8e0acf42-e18e-453d-8f49-38bfd3c33e98",
     "showTitle": false,
     "title": ""
    }
   },
   "source": [
    "## Shallow Relative Contribution Ranges"
   ]
  },
  {
   "cell_type": "code",
   "execution_count": 0,
   "metadata": {
    "application/vnd.databricks.v1+cell": {
     "cellMetadata": {
      "byteLimit": 2048000,
      "rowLimit": 10000
     },
     "inputWidgets": {},
     "nuid": "d00f6f55-8604-47e9-a798-bb29add81121",
     "showTitle": false,
     "title": ""
    }
   },
   "outputs": [],
   "source": [
    "shallowWindowedWells=sWellPPScenarios[sWellPPScenarios['Pressures']>0.1]['ID'].unique()\n",
    "filtSWellPPScenarios=sWellPPScenarios[sWellPPScenarios['ID'].isin(shallowWindowedWells)]\n",
    "maxPressureList=[]\n",
    "for ID in shallowWindowedWells:\n",
    "  maxPressure=max(filtSWellPPScenarios[filtSWellPPScenarios['ID']==ID]['Pressures'])\n",
    "  nReal=filtSWellPPScenarios[filtSWellPPScenarios['ID']==ID].shape[0]\n",
    "  print(ID,maxPressure,nReal)\n",
    "  maxPressureList.extend([maxPressure,]*nReal)\n",
    "filtSWellPPScenarios['MaxPressure']=maxPressureList\n",
    "filtSWellPPScenarios=filtSWellPPScenarios.sort_values(by='MaxPressure',ascending=False)\n",
    "filtSWellPPScenarios=filtSWellPPScenarios.merge(shallowPPWells,on='ID')"
   ]
  },
  {
   "cell_type": "code",
   "execution_count": 0,
   "metadata": {
    "application/vnd.databricks.v1+cell": {
     "cellMetadata": {
      "byteLimit": 2048000,
      "rowLimit": 10000
     },
     "inputWidgets": {},
     "nuid": "015415ef-28f9-429a-8d0a-7a7d04ac09cf",
     "showTitle": false,
     "title": ""
    }
   },
   "outputs": [],
   "source": []
  },
  {
   "cell_type": "code",
   "execution_count": 0,
   "metadata": {
    "application/vnd.databricks.v1+cell": {
     "cellMetadata": {
      "byteLimit": 2048000,
      "rowLimit": 10000
     },
     "inputWidgets": {},
     "nuid": "b5299b7a-3d72-45b2-aa3e-fcdc6f9e52b8",
     "showTitle": false,
     "title": ""
    }
   },
   "outputs": [],
   "source": [
    "# Realization population results\n",
    "# Total pressure change\n",
    "# Number of wells\n",
    "# "
   ]
  }
 ],
 "metadata": {
  "application/vnd.databricks.v1+notebook": {
   "dashboards": [],
   "language": "python",
   "notebookMetadata": {
    "pythonIndentUnit": 2
   },
   "notebookName": "GIST_Stanton_11-4-23Plots",
   "widgets": {}
  }
 },
 "nbformat": 4,
 "nbformat_minor": 0
}
