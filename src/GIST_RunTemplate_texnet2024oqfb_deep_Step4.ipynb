{
 "cells": [
  {
   "cell_type": "markdown",
   "metadata": {
    "application/vnd.databricks.v1+cell": {
     "cellMetadata": {
      "byteLimit": 2048000,
      "rowLimit": 10000
     },
     "inputWidgets": {},
     "nuid": "c1abdb59-6473-4a9e-89dc-f7bf61a76f4b",
     "showTitle": false,
     "tableResultSettingsMap": {},
     "title": ""
    }
   },
   "source": [
    "# Geomechanical Injection Scenario Toolkit (GIST)\n",
    "\n",
    "#Disclaimer\n",
    "GIST aims to give the _gist_ of a wide range of potential scenarios and aid collective decision making when responding to seismicity.\n",
    "\n",
    "The results of GIST are entirely dependent upon the inputs provided, which may be incomplete or inaccurate.\n",
    "\n",
    "There are other potentially plausible inducement scenarios that are not considered, including fluid migration into the basement, \n",
    "out-of-zone poroelastic stressing, or hydraulic fracturing.\n",
    "\n",
    "None of the individual models produced by GIST accurately represent what happens in the subsurface and cannot be credibly used \n",
    "to accurately assign liability or responsibility for seismicity.\n",
    "\n",
    "\"All models are wrong, but some are useful\" - George Box, 1976\n",
    "\n",
    "## Prerequisites\n",
    "\n",
    "Assumes InjectionSQLScheduled completed successfully and injection data are sampled uniformly in time"
   ]
  },
  {
   "cell_type": "markdown",
   "metadata": {
    "application/vnd.databricks.v1+cell": {
     "cellMetadata": {
      "byteLimit": 2048000,
      "rowLimit": 10000
     },
     "inputWidgets": {},
     "nuid": "b264040f-fa15-4a0b-b6a8-a6260d9ab053",
     "showTitle": false,
     "tableResultSettingsMap": {},
     "title": ""
    }
   },
   "source": [
    "##Install Dependencies\n",
    "- geopandas\n",
    "- gistMC.py\n",
    "- eqSQL.py\n",
    "- gistPlots.py\n",
    "- numpy\n",
    "- scipy\n",
    "- pandas\n"
   ]
  },
  {
   "cell_type": "code",
   "execution_count": 0,
   "metadata": {
    "application/vnd.databricks.v1+cell": {
     "cellMetadata": {
      "byteLimit": 2048000,
      "rowLimit": 10000
     },
     "inputWidgets": {},
     "nuid": "e00f4128-0373-462e-b4e5-0c722b222f74",
     "showTitle": true,
     "tableResultSettingsMap": {},
     "title": "Restart python"
    }
   },
   "outputs": [],
   "source": [
    "%restart_python"
   ]
  },
  {
   "cell_type": "code",
   "execution_count": 0,
   "metadata": {
    "application/vnd.databricks.v1+cell": {
     "cellMetadata": {
      "byteLimit": 2048000,
      "rowLimit": 10000
     },
     "collapsed": true,
     "inputWidgets": {},
     "nuid": "fb80407f-4a02-4284-9638-a9c24281d177",
     "showTitle": true,
     "tableResultSettingsMap": {},
     "title": "Databricks functions"
    }
   },
   "outputs": [],
   "source": [
    "%run \"/Workspace/_utils/Utility_Functions\""
   ]
  },
  {
   "cell_type": "code",
   "execution_count": 0,
   "metadata": {
    "application/vnd.databricks.v1+cell": {
     "cellMetadata": {
      "byteLimit": 2048000,
      "rowLimit": 10000
     },
     "inputWidgets": {},
     "nuid": "0e21e4dd-c64f-459b-9241-0cb74bf49524",
     "showTitle": true,
     "tableResultSettingsMap": {},
     "title": "PIP installs"
    }
   },
   "outputs": [
    {
     "output_type": "stream",
     "name": "stdout",
     "output_type": "stream",
     "text": [
      "Collecting geopandas\n  Downloading geopandas-1.0.1-py3-none-any.whl (323 kB)\n     ━━━━━━━━━━━━━━━━━━━━━━━━━━━━━━━━━━━━━━━ 323.6/323.6 kB 8.0 MB/s eta 0:00:00\nRequirement already satisfied: packaging in /databricks/python3/lib/python3.10/site-packages (from geopandas) (23.2)\nRequirement already satisfied: numpy>=1.22 in /databricks/python3/lib/python3.10/site-packages (from geopandas) (1.23.5)\nCollecting pyogrio>=0.7.2\n  Downloading pyogrio-0.10.0-cp310-cp310-manylinux_2_28_x86_64.whl (23.9 MB)\n     ━━━━━━━━━━━━━━━━━━━━━━━━━━━━━━━━━━━━━━━━ 23.9/23.9 MB 61.1 MB/s eta 0:00:00\nRequirement already satisfied: pandas>=1.4.0 in /databricks/python3/lib/python3.10/site-packages (from geopandas) (1.5.3)\nCollecting shapely>=2.0.0\n  Downloading shapely-2.0.7-cp310-cp310-manylinux_2_17_x86_64.manylinux2014_x86_64.whl (2.5 MB)\n     ━━━━━━━━━━━━━━━━━━━━━━━━━━━━━━━━━━━━━━━━ 2.5/2.5 MB 119.3 MB/s eta 0:00:00\nCollecting pyproj>=3.3.0\n  Downloading pyproj-3.7.0-cp310-cp310-manylinux_2_17_x86_64.manylinux2014_x86_64.whl (9.2 MB)\n     ━━━━━━━━━━━━━━━━━━━━━━━━━━━━━━━━━━━━━━━━ 9.2/9.2 MB 139.0 MB/s eta 0:00:00\nRequirement already satisfied: pytz>=2020.1 in /databricks/python3/lib/python3.10/site-packages (from pandas>=1.4.0->geopandas) (2022.7)\nRequirement already satisfied: python-dateutil>=2.8.1 in /databricks/python3/lib/python3.10/site-packages (from pandas>=1.4.0->geopandas) (2.8.2)\nRequirement already satisfied: certifi in /databricks/python3/lib/python3.10/site-packages (from pyogrio>=0.7.2->geopandas) (2022.12.7)\nRequirement already satisfied: six>=1.5 in /usr/lib/python3/dist-packages (from python-dateutil>=2.8.1->pandas>=1.4.0->geopandas) (1.16.0)\nInstalling collected packages: shapely, pyproj, pyogrio, geopandas\nSuccessfully installed geopandas-1.0.1 pyogrio-0.10.0 pyproj-3.7.0 shapely-2.0.7\n\u001B[43mNote: you may need to restart the kernel using %restart_python or dbutils.library.restartPython() to use updated packages.\u001B[0m\nCollecting geodatasets\n  Downloading geodatasets-2024.8.0-py3-none-any.whl (20 kB)\nCollecting pooch\n  Downloading pooch-1.8.2-py3-none-any.whl (64 kB)\n     ━━━━━━━━━━━━━━━━━━━━━━━━━━━━━━━━━━━━━━━━ 64.6/64.6 kB 4.9 MB/s eta 0:00:00\nRequirement already satisfied: requests>=2.19.0 in /databricks/python3/lib/python3.10/site-packages (from pooch->geodatasets) (2.28.1)\nRequirement already satisfied: packaging>=20.0 in /databricks/python3/lib/python3.10/site-packages (from pooch->geodatasets) (23.2)\nRequirement already satisfied: platformdirs>=2.5.0 in /databricks/python3/lib/python3.10/site-packages (from pooch->geodatasets) (2.5.2)\nRequirement already satisfied: certifi>=2017.4.17 in /databricks/python3/lib/python3.10/site-packages (from requests>=2.19.0->pooch->geodatasets) (2022.12.7)\nRequirement already satisfied: urllib3<1.27,>=1.21.1 in /databricks/python3/lib/python3.10/site-packages (from requests>=2.19.0->pooch->geodatasets) (1.26.14)\nRequirement already satisfied: idna<4,>=2.5 in /databricks/python3/lib/python3.10/site-packages (from requests>=2.19.0->pooch->geodatasets) (3.4)\nRequirement already satisfied: charset-normalizer<3,>=2 in /databricks/python3/lib/python3.10/site-packages (from requests>=2.19.0->pooch->geodatasets) (2.0.4)\nInstalling collected packages: pooch, geodatasets\nSuccessfully installed geodatasets-2024.8.0 pooch-1.8.2\n\u001B[43mNote: you may need to restart the kernel using %restart_python or dbutils.library.restartPython() to use updated packages.\u001B[0m\nCollecting contextily\n  Downloading contextily-1.6.2-py3-none-any.whl (17 kB)\nRequirement already satisfied: requests in /databricks/python3/lib/python3.10/site-packages (from contextily) (2.28.1)\nCollecting xyzservices\n  Downloading xyzservices-2025.1.0-py3-none-any.whl (88 kB)\n     ━━━━━━━━━━━━━━━━━━━━━━━━━━━━━━━━━━━━━━━━ 88.4/88.4 kB 4.5 MB/s eta 0:00:00\nCollecting mercantile\n  Downloading mercantile-1.2.1-py3-none-any.whl (14 kB)\nCollecting rasterio\n  Downloading rasterio-1.4.3-cp310-cp310-manylinux_2_17_x86_64.manylinux2014_x86_64.whl (22.2 MB)\n     ━━━━━━━━━━━━━━━━━━━━━━━━━━━━━━━━━━━━━━━━ 22.2/22.2 MB 63.1 MB/s eta 0:00:00\nCollecting geopy\n  Downloading geopy-2.4.1-py3-none-any.whl (125 kB)\n     ━━━━━━━━━━━━━━━━━━━━━━━━━━━━━━━━━━━━━━ 125.4/125.4 kB 38.9 MB/s eta 0:00:00\nRequirement already satisfied: matplotlib in /databricks/python3/lib/python3.10/site-packages (from contextily) (3.7.0)\nRequirement already satisfied: pillow in /databricks/python3/lib/python3.10/site-packages (from contextily) (9.4.0)\nRequirement already satisfied: joblib in /databricks/python3/lib/python3.10/site-packages (from contextily) (1.2.0)\nCollecting geographiclib<3,>=1.52\n  Downloading geographiclib-2.0-py3-none-any.whl (40 kB)\n     ━━━━━━━━━━━━━━━━━━━━━━━━━━━━━━━━━━━━━━━━ 40.3/40.3 kB 8.8 MB/s eta 0:00:00\nRequirement already satisfied: contourpy>=1.0.1 in /databricks/python3/lib/python3.10/site-packages (from matplotlib->contextily) (1.0.5)\nRequirement already satisfied: fonttools>=4.22.0 in /databricks/python3/lib/python3.10/site-packages (from matplotlib->contextily) (4.25.0)\nRequirement already satisfied: pyparsing>=2.3.1 in /databricks/python3/lib/python3.10/site-packages (from matplotlib->contextily) (3.0.9)\nRequirement already satisfied: packaging>=20.0 in /databricks/python3/lib/python3.10/site-packages (from matplotlib->contextily) (23.2)\nRequirement already satisfied: cycler>=0.10 in /databricks/python3/lib/python3.10/site-packages (from matplotlib->contextily) (0.11.0)\nRequirement already satisfied: kiwisolver>=1.0.1 in /databricks/python3/lib/python3.10/site-packages (from matplotlib->contextily) (1.4.4)\nRequirement already satisfied: numpy>=1.20 in /databricks/python3/lib/python3.10/site-packages (from matplotlib->contextily) (1.23.5)\nRequirement already satisfied: python-dateutil>=2.7 in /databricks/python3/lib/python3.10/site-packages (from matplotlib->contextily) (2.8.2)\nRequirement already satisfied: click>=3.0 in /databricks/python3/lib/python3.10/site-packages (from mercantile->contextily) (8.0.4)\nCollecting numpy>=1.20\n  Downloading numpy-2.2.2-cp310-cp310-manylinux_2_17_x86_64.manylinux2014_x86_64.whl (16.4 MB)\n     ━━━━━━━━━━━━━━━━━━━━━━━━━━━━━━━━━━━━━━━ 16.4/16.4 MB 108.3 MB/s eta 0:00:00\nCollecting affine\n  Downloading affine-2.4.0-py3-none-any.whl (15 kB)\nRequirement already satisfied: attrs in /databricks/python3/lib/python3.10/site-packages (from rasterio->contextily) (22.1.0)\nCollecting click-plugins\n  Downloading click_plugins-1.1.1-py2.py3-none-any.whl (7.5 kB)\nCollecting cligj>=0.5\n  Downloading cligj-0.7.2-py3-none-any.whl (7.1 kB)\nRequirement already satisfied: certifi in /databricks/python3/lib/python3.10/site-packages (from rasterio->contextily) (2022.12.7)\nRequirement already satisfied: idna<4,>=2.5 in /databricks/python3/lib/python3.10/site-packages (from requests->contextily) (3.4)\nRequirement already satisfied: urllib3<1.27,>=1.21.1 in /databricks/python3/lib/python3.10/site-packages (from requests->contextily) (1.26.14)\nRequirement already satisfied: charset-normalizer<3,>=2 in /databricks/python3/lib/python3.10/site-packages (from requests->contextily) (2.0.4)\nRequirement already satisfied: six>=1.5 in /usr/lib/python3/dist-packages (from python-dateutil>=2.7->matplotlib->contextily) (1.16.0)\nInstalling collected packages: xyzservices, numpy, mercantile, geographiclib, cligj, click-plugins, affine, rasterio, geopy, contextily\n  Attempting uninstall: numpy\n    Found existing installation: numpy 1.23.5\n    Not uninstalling numpy at /databricks/python3/lib/python3.10/site-packages, outside environment /local_disk0/.ephemeral_nfs/envs/pythonEnv-624b9236-eabb-4c9c-bf88-ef04aa64d0f9\n    Can't uninstall 'numpy'. No files were found to uninstall.\nERROR: pip's dependency resolver does not currently take into account all the packages that are installed. This behaviour is the source of the following dependency conflicts.\nscipy 1.10.0 requires numpy<1.27.0,>=1.19.5, but you have numpy 2.2.2 which is incompatible.\ndatabricks-connect 14.3.4 requires numpy<2,>=1.15, but you have numpy 2.2.2 which is incompatible.\nSuccessfully installed affine-2.4.0 click-plugins-1.1.1 cligj-0.7.2 contextily-1.6.2 geographiclib-2.0 geopy-2.4.1 mercantile-1.2.1 numpy-2.2.2 rasterio-1.4.3 xyzservices-2025.1.0\n\u001B[43mNote: you may need to restart the kernel using %restart_python or dbutils.library.restartPython() to use updated packages.\u001B[0m\n"
     ]
    }
   ],
   "source": [
    "!pip install geopandas\n",
    "!pip install geodatasets\n",
    "!pip install contextily\n",
    "#! pip install folium matplotlib mapclassify contextily"
   ]
  },
  {
   "cell_type": "markdown",
   "metadata": {
    "application/vnd.databricks.v1+cell": {
     "cellMetadata": {
      "byteLimit": 2048000,
      "rowLimit": 10000
     },
     "inputWidgets": {},
     "nuid": "c93df717-a2d5-4e18-b1cb-7d39ffcb99b2",
     "showTitle": false,
     "tableResultSettingsMap": {},
     "title": ""
    }
   },
   "source": [
    "##Paths"
   ]
  },
  {
   "cell_type": "code",
   "execution_count": 0,
   "metadata": {
    "application/vnd.databricks.v1+cell": {
     "cellMetadata": {
      "byteLimit": 2048000,
      "rowLimit": 10000
     },
     "inputWidgets": {},
     "nuid": "145f505a-6639-4124-b6bd-aa4e6c9b5c47",
     "showTitle": true,
     "tableResultSettingsMap": {},
     "title": "GIST libraries and injection data"
    }
   },
   "outputs": [],
   "source": [
    "# Paths\n",
    "homePath='/Workspace/Users/bill.curry@exxonmobil.com/'\n",
    "# Injection data path \n",
    "injPath=homePath+'injection/WeeklyRun/ScheduledOutput/'\n",
    "# GIST library path\n",
    "gistPath=homePath+'GIST/'"
   ]
  },
  {
   "cell_type": "markdown",
   "metadata": {
    "application/vnd.databricks.v1+cell": {
     "cellMetadata": {
      "byteLimit": 2048000,
      "rowLimit": 10000
     },
     "inputWidgets": {},
     "nuid": "fe561de9-c0de-474b-af1b-e457ac846dbe",
     "showTitle": false,
     "tableResultSettingsMap": {},
     "title": ""
    }
   },
   "source": [
    "##Libraries\n",
    "\n",
    "- numpy\n",
    "- scipy\n",
    "- pandas\n",
    "- matplotlib\n",
    "- geopandas\n",
    "- pyspark\n"
   ]
  },
  {
   "cell_type": "code",
   "execution_count": 0,
   "metadata": {
    "application/vnd.databricks.v1+cell": {
     "cellMetadata": {
      "byteLimit": 2048000,
      "rowLimit": 10000
     },
     "inputWidgets": {},
     "nuid": "10119ade-2798-4028-9462-d20dc15fb1d7",
     "showTitle": true,
     "tableResultSettingsMap": {},
     "title": "add path"
    }
   },
   "outputs": [],
   "source": [
    "import sys\n",
    "sys.path.append(gistPath+'lib')"
   ]
  },
  {
   "cell_type": "code",
   "execution_count": 0,
   "metadata": {
    "application/vnd.databricks.v1+cell": {
     "cellMetadata": {
      "byteLimit": 2048000,
      "rowLimit": 10000
     },
     "inputWidgets": {},
     "nuid": "2e230114-d00d-4065-9b06-9bc65deb51a6",
     "showTitle": true,
     "tableResultSettingsMap": {},
     "title": "pyspark"
    }
   },
   "outputs": [],
   "source": [
    "#Databricks-specific\n",
    "#import dataBricksConfig as db\n",
    "from pyspark.sql import SparkSession\n",
    "spark = SparkSession.builder.appName(\"eqSQL\").getOrCreate()"
   ]
  },
  {
   "cell_type": "code",
   "execution_count": 0,
   "metadata": {
    "application/vnd.databricks.v1+cell": {
     "cellMetadata": {
      "byteLimit": 2048000,
      "rowLimit": 10000
     },
     "inputWidgets": {},
     "nuid": "732391bb-8d33-4ac8-a2d7-4a7efc617715",
     "showTitle": true,
     "tableResultSettingsMap": {},
     "title": "imports"
    }
   },
   "outputs": [
    {
     "output_type": "display_data",
     "data": {
      "application/vnd.databricks.v1+h3_hint": "",
      "text/plain": []
     },
     "metadata": {},
     "output_type": "display_data"
    }
   ],
   "source": [
    "import numpy as np\n",
    "import pandas as pd\n",
    "import os\n",
    "import gistMC as gi\n",
    "import eqSQL as es\n",
    "import matplotlib.pyplot as plt\n",
    "import seaborn as sns\n",
    "import geopandas\n",
    "#import contextily as cx"
   ]
  },
  {
   "cell_type": "code",
   "execution_count": 0,
   "metadata": {
    "application/vnd.databricks.v1+cell": {
     "cellMetadata": {
      "byteLimit": 2048000,
      "rowLimit": 10000
     },
     "inputWidgets": {},
     "nuid": "f363a4c7-dd42-4e22-a888-cbf75b53ad45",
     "showTitle": false,
     "tableResultSettingsMap": {},
     "title": ""
    }
   },
   "outputs": [],
   "source": [
    "import gistPlots as gp"
   ]
  },
  {
   "cell_type": "markdown",
   "metadata": {
    "application/vnd.databricks.v1+cell": {
     "cellMetadata": {
      "byteLimit": 2048000,
      "rowLimit": 10000
     },
     "inputWidgets": {},
     "nuid": "83eacea1-ee6c-412e-86e8-eb0062d6a40c",
     "showTitle": false,
     "tableResultSettingsMap": {},
     "title": ""
    }
   },
   "source": [
    "#1. Select Event"
   ]
  },
  {
   "cell_type": "code",
   "execution_count": 0,
   "metadata": {
    "application/vnd.databricks.v1+cell": {
     "cellMetadata": {
      "byteLimit": 2048000,
      "rowLimit": 10000
     },
     "inputWidgets": {},
     "nuid": "29556f3e-cfbc-4eb2-aac0-ffdd3b050893",
     "showTitle": true,
     "tableResultSettingsMap": {},
     "title": "Input TexNet Event ID (1.1)"
    }
   },
   "outputs": [],
   "source": [
    "eventID='texnet2024oqfb'"
   ]
  },
  {
   "cell_type": "code",
   "execution_count": 0,
   "metadata": {
    "application/vnd.databricks.v1+cell": {
     "cellMetadata": {
      "byteLimit": 2048000,
      "rowLimit": 10000
     },
     "inputWidgets": {},
     "nuid": "d60eb1f0-2056-49e5-94c6-5927832497b4",
     "showTitle": true,
     "tableResultSettingsMap": {},
     "title": "Create Output Path for Event (1.2)"
    }
   },
   "outputs": [],
   "source": [
    "runPath=gistPath+'/runs/'+eventID+'/'"
   ]
  },
  {
   "cell_type": "code",
   "execution_count": 0,
   "metadata": {
    "application/vnd.databricks.v1+cell": {
     "cellMetadata": {
      "byteLimit": 2048000,
      "rowLimit": 10000
     },
     "inputWidgets": {},
     "nuid": "57a3cca2-ed2c-4c68-852b-7afa1f5fdaa0",
     "showTitle": true,
     "tableResultSettingsMap": {},
     "title": "Output Earthquake (1.4)"
    }
   },
   "outputs": [
    {
     "output_type": "stream",
     "name": "stdout",
     "output_type": "stream",
     "text": [
      "Unnamed: 0                                                0\nSeismicEventId                                      2481836\nDataSource                        TexNet Earthquake Catalog\nDataSourceUrl                                           NaN\nEventID                                      texnet2024oqfb\nEventTimeUtc                            2024-07-27 02:11:07\nEventTimeInLocalTimeZone               2024-07-26T21:11:07Z\nEventTimeZone                                           CST\nEventType                                        Earthquake\nDepthKm                                            8.837891\nDepthErrorKm                                       0.636678\nMagnitude                                           1.64016\nMagnitudeError                                          NaN\nMagnitudeType                                    ml(texnet)\nLocation                                      Western Texas\nStatus                                                final\nLatitude                                          32.144165\nLatitudeError                                      0.176637\nLongitude                                       -101.805214\nLongitudeError                                     0.180822\nUpdatedDateUtc                          2024-07-29 16:55:51\nStationCount                                             31\nRMS                                                0.092708\nRMS_p                                                   NaN\nRMS_s                                                   NaN\nFocalMechanismAzimuthalGap                              NaN\nCounty                                          Martin (TX)\nState                                                 Texas\nDuplicateSetId                                        26972\nRankWithinDuplicateSet                                    1\nB3RecordAddedUTCDateTime                2024-07-29 17:10:37\nB3RecordUpdatedUTCDateTime              2025-02-01 09:02:00\nB3RecordDeletedUTCDateTime                              NaN\nOrigin Date                                      2024-07-27\nOrigin Time                                        02:11:07\ngeometry                      POINT (-101.805214 32.144165)\nStrike                                                 80.0\nDip                                                    55.0\nRake                                                  -85.0\nName: 0, dtype: object\n"
     ]
    }
   ],
   "source": [
    "EQ=pd.read_csv(runPath+'EQ.csv').loc[0]\n",
    "print(EQ)"
   ]
  },
  {
   "cell_type": "markdown",
   "metadata": {
    "application/vnd.databricks.v1+cell": {
     "cellMetadata": {
      "byteLimit": 2048000,
      "rowLimit": 10000
     },
     "inputWidgets": {},
     "nuid": "41d31cc5-0dad-4f64-a0ad-66225f6ae397",
     "showTitle": false,
     "tableResultSettingsMap": {},
     "title": ""
    }
   },
   "source": [
    "#2. Initial Run"
   ]
  },
  {
   "cell_type": "markdown",
   "metadata": {
    "application/vnd.databricks.v1+cell": {
     "cellMetadata": {
      "byteLimit": 2048000,
      "rowLimit": 10000
     },
     "inputWidgets": {},
     "nuid": "33bedbfc-3c55-458b-9024-9523dec9d858",
     "showTitle": false,
     "tableResultSettingsMap": {},
     "title": ""
    }
   },
   "source": [
    "##2.1 Subsurface Model Parameters"
   ]
  },
  {
   "cell_type": "markdown",
   "metadata": {
    "application/vnd.databricks.v1+cell": {
     "cellMetadata": {
      "byteLimit": 2048000,
      "rowLimit": 10000
     },
     "inputWidgets": {},
     "nuid": "8c1e59e0-8d99-4372-9269-dafe823c3521",
     "showTitle": false,
     "tableResultSettingsMap": {},
     "title": ""
    }
   },
   "source": [
    "###Inputs:"
   ]
  },
  {
   "cell_type": "code",
   "execution_count": 0,
   "metadata": {
    "application/vnd.databricks.v1+cell": {
     "cellMetadata": {
      "byteLimit": 2048000,
      "rowLimit": 10000
     },
     "inputWidgets": {},
     "nuid": "fa86e866-ce36-4367-b2f6-cd78fcc54b4e",
     "showTitle": true,
     "tableResultSettingsMap": {},
     "title": "Depth Interval (Deep/Shallow)"
    }
   },
   "outputs": [],
   "source": [
    "# Binary deep/shallow parameter\n",
    "deepOrShallow='Deep'\n",
    "# Depth from surface (ft)\n",
    "# Distinguishes deep/shallow where we don't have a horizon \n",
    "depthCutoff=8000."
   ]
  },
  {
   "cell_type": "code",
   "execution_count": 0,
   "metadata": {
    "application/vnd.databricks.v1+cell": {
     "cellMetadata": {
      "byteLimit": 2048000,
      "rowLimit": 10000
     },
     "inputWidgets": {},
     "nuid": "5eac1e6f-a489-46ea-9e08-aaa35509f3fe",
     "showTitle": true,
     "tableResultSettingsMap": {},
     "title": "Monte-Carlo Parameters"
    }
   },
   "outputs": [],
   "source": [
    "nRealizations=500"
   ]
  },
  {
   "cell_type": "code",
   "execution_count": 0,
   "metadata": {
    "application/vnd.databricks.v1+cell": {
     "cellMetadata": {
      "byteLimit": 2048000,
      "rowLimit": 10000
     },
     "inputWidgets": {},
     "nuid": "a92b5ecc-ee98-4077-8e0b-c95a42deea53",
     "showTitle": true,
     "tableResultSettingsMap": {},
     "title": "Fluid Properties"
    }
   },
   "outputs": [],
   "source": [
    "# Water density minimum/maximum (kg/m3)\n",
    "WaterDensityMin=1015.\n",
    "WaterDensityMax=1025.\n",
    "# Water viscosity minimum/maximum (Pa.s)\n",
    "WaterViscosityMin=0.000799\n",
    "WaterViscosityMax=0.000801\n",
    "# Fluid Compressibility minimum/maximum (1/Pa)\n",
    "FluidCompressibilityMin=0.000000000359\n",
    "FluidCompressibilityMax=0.000000000361"
   ]
  },
  {
   "cell_type": "code",
   "execution_count": 0,
   "metadata": {
    "application/vnd.databricks.v1+cell": {
     "cellMetadata": {
      "byteLimit": 2048000,
      "rowLimit": 10000
     },
     "inputWidgets": {},
     "nuid": "d58e0474-d42e-49be-94ae-633087760772",
     "showTitle": true,
     "tableResultSettingsMap": {},
     "title": "Depth Interval Properties"
    }
   },
   "outputs": [],
   "source": [
    "# Porosity in percent\n",
    "PorosityPercentMin=3.\n",
    "PorosityPercentMax=15.\n",
    "\n",
    "# Permeability in millidarcies\n",
    "PermMDMin=5.\n",
    "PermMDMax=500.\n",
    "\n",
    "# Thickness in feet\n",
    "ThicknessFTMin=200.\n",
    "ThicknessFTMax=2000.\n",
    "\n",
    "# Vertical compressibility minimum/maximum (1/Pa)\n",
    "VerticalCompressibilityMin=0.00000000107\n",
    "VerticalCompressibilityMax=0.00000000109"
   ]
  },
  {
   "cell_type": "code",
   "execution_count": 0,
   "metadata": {
    "application/vnd.databricks.v1+cell": {
     "cellMetadata": {
      "byteLimit": 2048000,
      "rowLimit": 10000
     },
     "inputWidgets": {},
     "nuid": "17c599c7-20e2-4a5f-9e30-737f6b236831",
     "showTitle": true,
     "tableResultSettingsMap": {},
     "title": "Well Contribution Filtering Parameters"
    }
   },
   "outputs": [],
   "source": [
    "# Verbosity - 0=silent, 1=some, 2=lots\n",
    "verb=0\n",
    "# Minimum Pressure change to care about in PSI\n",
    "dPCutoff=0.5\n",
    "# Maximum Number of wells to plot\n",
    "nWells=50\n",
    "# How far back in time to plot in years\n",
    "minYear=-40"
   ]
  },
  {
   "cell_type": "markdown",
   "metadata": {
    "application/vnd.databricks.v1+cell": {
     "cellMetadata": {
      "byteLimit": 2048000,
      "rowLimit": 10000
     },
     "inputWidgets": {},
     "nuid": "9237e4af-4e41-491b-add8-8b182193f2e7",
     "showTitle": false,
     "tableResultSettingsMap": {},
     "title": ""
    }
   },
   "source": [
    "### Set Interval-Specific Paths...\n"
   ]
  },
  {
   "cell_type": "code",
   "execution_count": 0,
   "metadata": {
    "application/vnd.databricks.v1+cell": {
     "cellMetadata": {
      "byteLimit": 2048000,
      "rowLimit": 10000
     },
     "inputWidgets": {},
     "nuid": "1ad711f6-8be1-4dfe-80dd-e64126d0aadc",
     "showTitle": true,
     "tableResultSettingsMap": {},
     "title": "Create Subdirectory for Interval in EQ Directory"
    }
   },
   "outputs": [],
   "source": [
    "# Set an output directory for this earthquake and this interval\n",
    "runIntervalPath=runPath+deepOrShallow+'/'\n",
    "initialRunIntervalPath=runIntervalPath+'initialRun/'\n",
    "updatedRunIntervalPath=runIntervalPath+'udpatedRun/'\n",
    "forecastRunIntervalPath=runIntervalPath+'forecastRun/'\n",
    "disposalPath=runIntervalPath+'updatedDisposal/'\n",
    "################################################\n",
    "# Output prefix for realizations of parameters #\n",
    "################################################\n",
    "RealizationPrefix=runIntervalPath+'MC'"
   ]
  },
  {
   "cell_type": "code",
   "execution_count": 0,
   "metadata": {
    "application/vnd.databricks.v1+cell": {
     "cellMetadata": {
      "byteLimit": 2048000,
      "rowLimit": 10000
     },
     "inputWidgets": {},
     "nuid": "7b3f2312-434f-4dc7-a7d1-dc7a2717a900",
     "showTitle": true,
     "tableResultSettingsMap": {},
     "title": "Point to disposal data for the chosen interval"
    }
   },
   "outputs": [],
   "source": [
    "# Point to appropriate well and injection files from initial database\n",
    "if deepOrShallow=='Deep':\n",
    "  WellFile=injPath+'/deep.csv'\n",
    "  InjFile=injPath+'/deepReg.csv'\n",
    "elif deepOrShallow=='Shallow':\n",
    "  WellFile=injPath+'/shallow.csv'\n",
    "  InjFile=injPath+'/shallowReg.csv'"
   ]
  },
  {
   "cell_type": "markdown",
   "metadata": {
    "application/vnd.databricks.v1+cell": {
     "cellMetadata": {
      "byteLimit": 2048000,
      "rowLimit": 10000
     },
     "inputWidgets": {},
     "nuid": "61b8015e-aa08-4602-a74d-7e156b85d725",
     "showTitle": false,
     "tableResultSettingsMap": {},
     "title": ""
    }
   },
   "source": [
    "##2.2 Results"
   ]
  },
  {
   "cell_type": "markdown",
   "metadata": {
    "application/vnd.databricks.v1+cell": {
     "cellMetadata": {
      "byteLimit": 2048000,
      "rowLimit": 10000
     },
     "inputWidgets": {},
     "nuid": "b9911a2e-abbe-48fa-beb3-db4bc2a8727a",
     "showTitle": false,
     "tableResultSettingsMap": {},
     "title": ""
    }
   },
   "source": [
    "###Compute"
   ]
  },
  {
   "cell_type": "markdown",
   "metadata": {
    "application/vnd.databricks.v1+cell": {
     "cellMetadata": {
      "byteLimit": 2048000,
      "rowLimit": 10000
     },
     "inputWidgets": {},
     "nuid": "e705ce0b-75fc-4cc7-94cc-b48bc90f2107",
     "showTitle": false,
     "tableResultSettingsMap": {},
     "title": ""
    }
   },
   "source": [
    "###Output"
   ]
  },
  {
   "cell_type": "markdown",
   "metadata": {
    "application/vnd.databricks.v1+cell": {
     "cellMetadata": {
      "byteLimit": 2048000,
      "rowLimit": 10000
     },
     "inputWidgets": {},
     "nuid": "b4236692-cbfc-40d2-b8aa-b3d415ba491c",
     "showTitle": false,
     "tableResultSettingsMap": {},
     "title": ""
    }
   },
   "source": [
    "#3. Correct Data"
   ]
  },
  {
   "cell_type": "markdown",
   "metadata": {
    "application/vnd.databricks.v1+cell": {
     "cellMetadata": {
      "byteLimit": 2048000,
      "rowLimit": 10000
     },
     "inputWidgets": {},
     "nuid": "e1fb4fa0-ef2d-4067-9f96-2a9a1f17ecf7",
     "showTitle": false,
     "tableResultSettingsMap": {},
     "title": ""
    }
   },
   "source": [
    "##3.1 Export Disposal Data"
   ]
  },
  {
   "cell_type": "markdown",
   "metadata": {
    "application/vnd.databricks.v1+cell": {
     "cellMetadata": {
      "byteLimit": 2048000,
      "rowLimit": 10000
     },
     "inputWidgets": {},
     "nuid": "f35e0dd5-e4ea-4a7b-833a-77ea28f21e88",
     "showTitle": false,
     "tableResultSettingsMap": {},
     "title": ""
    }
   },
   "source": [
    "##3.2 Import Updated Disposal Data"
   ]
  },
  {
   "cell_type": "code",
   "execution_count": 0,
   "metadata": {
    "application/vnd.databricks.v1+cell": {
     "cellMetadata": {
      "byteLimit": 2048000,
      "rowLimit": 10000
     },
     "inputWidgets": {},
     "nuid": "1783e6ae-d1a7-429e-805d-eca0ff129691",
     "showTitle": true,
     "tableResultSettingsMap": {},
     "title": "Read and parse updated disposal data"
    }
   },
   "outputs": [],
   "source": [
    "\n",
    "udpatedSelectedWellsDF=pd.read_csv(disposalPath+'selectedWells.csv')\n",
    "updatedIgnoredWellsDF=pd.read_csv(disposalPath+'ignoredWells.csv')\n",
    "updatedWellsFile=disposalPath+'allInZoneWells.csv'\n",
    "updatedInjFile=disposalPath+'inj.csv'"
   ]
  },
  {
   "cell_type": "code",
   "execution_count": 0,
   "metadata": {
    "application/vnd.databricks.v1+cell": {
     "cellMetadata": {
      "byteLimit": 2048000,
      "rowLimit": 10000
     },
     "inputWidgets": {},
     "nuid": "f0ee5cb4-326f-49bd-ac16-cf403e40d6f6",
     "showTitle": false,
     "tableResultSettingsMap": {},
     "title": ""
    }
   },
   "outputs": [],
   "source": [
    "# I need to merge the updated disposal information with the prior stuff\n",
    "# Load updated injection file\n",
    "# Well comparisons\n",
    "# Get list of well IDs in the updated injection file\n",
    "# Get list of well IDs in updated well file\n",
    "# Check to see overlap in well IDs\n",
    "#    updated vs. prior selected wells\n",
    "#    updated vs. prior ignored wells\n",
    "# FilteredIgnored =  prior ignored wells - (wells in updated file and prior ignored wells)\n",
    "# Merge FilteredIgnored with with updated wells\n",
    "# Load injection\n",
    "#    Check for time sampling of injection - all wells must be the same\n",
    "#    Get overall time vector - convert to days\n",
    "#    Loop over wells in well file\n",
    "#      Get all disposal data for well ID\n",
    "#      Convert date values to days\n",
    "#      \n",
    "#mergedInjFile="
   ]
  },
  {
   "cell_type": "markdown",
   "metadata": {
    "application/vnd.databricks.v1+cell": {
     "cellMetadata": {
      "byteLimit": 2048000,
      "rowLimit": 10000
     },
     "inputWidgets": {},
     "nuid": "271df2d4-d03f-4b61-b2c2-2d5e6ad96283",
     "showTitle": false,
     "tableResultSettingsMap": {},
     "title": ""
    }
   },
   "source": [
    "#4. Updated Analysis"
   ]
  },
  {
   "cell_type": "markdown",
   "metadata": {
    "application/vnd.databricks.v1+cell": {
     "cellMetadata": {
      "byteLimit": 2048000,
      "rowLimit": 10000
     },
     "inputWidgets": {},
     "nuid": "47c7fb9b-5d44-4aca-b43d-855b46b7fc7c",
     "showTitle": false,
     "tableResultSettingsMap": {},
     "title": ""
    }
   },
   "source": [
    "##4.1 Refined Parameters"
   ]
  },
  {
   "cell_type": "code",
   "execution_count": 0,
   "metadata": {
    "application/vnd.databricks.v1+cell": {
     "cellMetadata": {
      "byteLimit": 2048000,
      "rowLimit": 10000
     },
     "inputWidgets": {},
     "nuid": "35eb463b-4497-4ad3-b249-050861763c84",
     "showTitle": false,
     "tableResultSettingsMap": {},
     "title": ""
    }
   },
   "outputs": [],
   "source": [
    "UpdatednRealizations=2000"
   ]
  },
  {
   "cell_type": "code",
   "execution_count": 0,
   "metadata": {
    "application/vnd.databricks.v1+cell": {
     "cellMetadata": {
      "byteLimit": 2048000,
      "rowLimit": 10000
     },
     "inputWidgets": {},
     "nuid": "8bbf99d0-971f-405e-ac12-0436bd30d4c5",
     "showTitle": false,
     "tableResultSettingsMap": {},
     "title": ""
    }
   },
   "outputs": [],
   "source": [
    "# Porosity in percent\n",
    "UpdatedPorosityPercentMin=3.\n",
    "UpdatedPorosityPercentMax=15.\n",
    "\n",
    "# Permeability in millidarcies\n",
    "UpdatedPermMDMin=10.\n",
    "UpdatedPermMDMax=500.\n",
    "\n",
    "# Thickness in feet\n",
    "UpdatedThicknessFTMin=500.\n",
    "UpdatedThicknessFTMax=1200.\n",
    "\n",
    "# Vertical compressibility minimum/maximum (1/Pa)\n",
    "UpdatedVerticalCompressibilityMin=0.00000000107\n",
    "UpdatedVerticalCompressibilityMax=0.00000000109"
   ]
  },
  {
   "cell_type": "code",
   "execution_count": 0,
   "metadata": {
    "application/vnd.databricks.v1+cell": {
     "cellMetadata": {
      "byteLimit": 2048000,
      "rowLimit": 10000
     },
     "inputWidgets": {},
     "nuid": "b868997f-6c3a-48bb-85a8-ac8ad18bc1ac",
     "showTitle": false,
     "tableResultSettingsMap": {},
     "title": ""
    }
   },
   "outputs": [],
   "source": [
    "# Verbosity - 0=silent, 1=some, 2=lots\n",
    "verb=0\n",
    "# Minimum Pressure change to care about in PSI\n",
    "dPCutoff=0.5\n",
    "# Maximum Number of wells to plot\n",
    "nWells=50\n",
    "# How far back in time to plot in years\n",
    "minYear=-40"
   ]
  },
  {
   "cell_type": "code",
   "execution_count": 0,
   "metadata": {
    "application/vnd.databricks.v1+cell": {
     "cellMetadata": {
      "byteLimit": 2048000,
      "rowLimit": 10000
     },
     "inputWidgets": {},
     "nuid": "3e60dcff-1a4e-4700-baa5-fb782268adf3",
     "showTitle": false,
     "tableResultSettingsMap": {},
     "title": ""
    }
   },
   "outputs": [],
   "source": [
    "gist2=gi.gistMC(nReal=UpdatednRealizations)\n",
    "gist2.initPP(rho0_min=WaterDensityMin,\n",
    "             rho0_max=WaterDensityMax,\n",
    "             phi_min=UpdatedPorosityPercentMin,\n",
    "             phi_max=UpdatedPorosityPercentMax,\n",
    "             kMD_min=UpdatedPermMDMin,\n",
    "             kMD_max=UpdatedPermMDMax,\n",
    "             h_min=UpdatedThicknessFTMin,\n",
    "             h_max=UpdatedThicknessFTMax,\n",
    "             alphav_min=VerticalCompressibilityMin,\n",
    "             alphav_max=VerticalCompressibilityMax,\n",
    "             beta_min=FluidCompressibilityMin,\n",
    "             beta_max=FluidCompressibilityMax)"
   ]
  },
  {
   "cell_type": "markdown",
   "metadata": {
    "application/vnd.databricks.v1+cell": {
     "cellMetadata": {
      "byteLimit": 2048000,
      "rowLimit": 10000
     },
     "inputWidgets": {},
     "nuid": "b4a85775-2c94-4974-bbba-f870e73ffaf3",
     "showTitle": false,
     "tableResultSettingsMap": {},
     "title": ""
    }
   },
   "source": [
    "##4.2 Updated Disposal Rates"
   ]
  },
  {
   "cell_type": "code",
   "execution_count": 0,
   "metadata": {
    "application/vnd.databricks.v1+cell": {
     "cellMetadata": {
      "byteLimit": 2048000,
      "rowLimit": 10000
     },
     "inputWidgets": {},
     "nuid": "b89350ab-7c92-4d61-910f-2cb36fffc3b4",
     "showTitle": false,
     "tableResultSettingsMap": {},
     "title": ""
    }
   },
   "outputs": [],
   "source": [
    "gist2.addWells(userWellFile=updatedWellsFile,userInjFile=updatedInjFile,verbose=verb)"
   ]
  },
  {
   "cell_type": "code",
   "execution_count": 0,
   "metadata": {
    "application/vnd.databricks.v1+cell": {
     "cellMetadata": {
      "byteLimit": 2048000,
      "rowLimit": 10000
     },
     "inputWidgets": {},
     "nuid": "11a88d17-8463-4caf-bf81-b1c8450c9725",
     "showTitle": false,
     "tableResultSettingsMap": {},
     "title": ""
    }
   },
   "outputs": [
    {
     "output_type": "stream",
     "name": "stdout",
     "output_type": "stream",
     "text": [
      " gistMC.findWells: iw= 0  of  2604  start date is  1931-12-22\n gistMC.findWells injectionDays 33821\n gistMC.findWells: iw= 1  of  2604  start date is  1938-07-18\n gistMC.findWells injectionDays 31421\n gistMC.findWells: iw= 2  of  2604  start date is  1931-12-22\n gistMC.findWells injectionDays 33821\n gistMC.findWells: iw= 3  of  2604  start date is  1931-12-22\n gistMC.findWells injectionDays 33821\n gistMC.findWells: iw= 4  of  2604  start date is  1994-10-01\n gistMC.findWells injectionDays 10892\n gistMC.findWells: iw= 5  of  2604  start date is  1996-01-01\n gistMC.findWells injectionDays 10435\n gistMC.findWells: iw= 6  of  2604  start date is  1996-08-28\n gistMC.findWells injectionDays 10195\n gistMC.findWells: iw= 7  of  2604  start date is  1995-07-01\n gistMC.findWells injectionDays 10619\n gistMC.findWells: iw= 8  of  2604  start date is  2000-03-01\n gistMC.findWells injectionDays 8914\n gistMC.findWells: iw= 9  of  2604  start date is  1996-09-24\n gistMC.findWells injectionDays 10168\n gistMC.findWells: iw= 10  of  2604  start date is  1996-06-24\n gistMC.findWells injectionDays 10260\n gistMC.findWells: iw= 11  of  2604  start date is  1994-03-01\n gistMC.findWells injectionDays 11106\n gistMC.findWells: iw= 12  of  2604  start date is  2005-06-01\n gistMC.findWells injectionDays 6996\n gistMC.findWells: iw= 13  of  2604  start date is  1997-08-30\n gistMC.findWells injectionDays 9828\n gistMC.findWells: iw= 14  of  2604  start date is  2005-05-20\n gistMC.findWells injectionDays 7008\n gistMC.findWells: iw= 15  of  2604  start date is  1997-09-01\n gistMC.findWells injectionDays 9826\n gistMC.findWells: iw= 16  of  2604  start date is  1998-02-01\n gistMC.findWells injectionDays 9673\n gistMC.findWells: iw= 17  of  2604  start date is  1999-01-01\n gistMC.findWells injectionDays 9339\n gistMC.findWells: iw= 18  of  2604  start date is  1998-12-07\n gistMC.findWells injectionDays 9364\n gistMC.findWells: iw= 19  of  2604  start date is  1998-12-01\n gistMC.findWells injectionDays 9370\n gistMC.findWells: iw= 20  of  2604  start date is  2000-08-01\n gistMC.findWells injectionDays 8761\n gistMC.findWells: iw= 21  of  2604  start date is  2000-01-01\n gistMC.findWells injectionDays 8974\n gistMC.findWells: iw= 22  of  2604  start date is  2001-10-01\n gistMC.findWells injectionDays 8335\n gistMC.findWells: iw= 23  of  2604  start date is  2001-09-10\n gistMC.findWells injectionDays 8356\n gistMC.findWells: iw= 24  of  2604  start date is  2000-01-01\n gistMC.findWells injectionDays 8974\n gistMC.findWells: iw= 25  of  2604  start date is  2000-02-01\n gistMC.findWells injectionDays 8943\n gistMC.findWells: iw= 26  of  2604  start date is  2002-11-01\n gistMC.findWells injectionDays 7939\n gistMC.findWells: iw= 27  of  2604  start date is  2005-05-21\n gistMC.findWells injectionDays 7007\n gistMC.findWells: iw= 28  of  2604  start date is  2011-05-06\n gistMC.findWells injectionDays 4831\n gistMC.findWells: iw= 29  of  2604  start date is  2004-11-10\n gistMC.findWells injectionDays 7199\n gistMC.findWells: iw= 30  of  2604  start date is  2009-01-26\n gistMC.findWells injectionDays 5661\n gistMC.findWells: iw= 31  of  2604  start date is  2010-03-01\n gistMC.findWells injectionDays 5262\n gistMC.findWells: iw= 32  of  2604  start date is  2011-12-01\n gistMC.findWells injectionDays 4622\n gistMC.findWells: iw= 33  of  2604  start date is  2010-11-03\n gistMC.findWells injectionDays 5015\n gistMC.findWells: iw= 34  of  2604  start date is  2011-12-01\n gistMC.findWells injectionDays 4622\n gistMC.findWells: iw= 35  of  2604  start date is  2012-01-28\n gistMC.findWells injectionDays 4564\n gistMC.findWells: iw= 36  of  2604  start date is  2018-03-10\n gistMC.findWells injectionDays 2331\n gistMC.findWells: iw= 37  of  2604  start date is  2015-02-01\n gistMC.findWells injectionDays 3464\n gistMC.findWells: iw= 38  of  2604  start date is  2017-10-16\n gistMC.findWells injectionDays 2476\n gistMC.findWells: iw= 39  of  2604  start date is  2016-02-25\n gistMC.findWells injectionDays 3075\n gistMC.findWells: iw= 40  of  2604  start date is  2017-08-01\n gistMC.findWells injectionDays 2552\n gistMC.findWells: iw= 41  of  2604  start date is  2017-07-20\n gistMC.findWells injectionDays 2564\n gistMC.findWells: iw= 42  of  2604  start date is  2018-11-26\n gistMC.findWells injectionDays 2070\n gistMC.findWells: iw= 43  of  2604  start date is  2019-11-25\n gistMC.findWells injectionDays 1706\n gistMC.findWells: iw= 44  of  2604  start date is  2017-07-01\n gistMC.findWells injectionDays 2583\n gistMC.findWells: iw= 45  of  2604  start date is  2018-09-26\n gistMC.findWells injectionDays 2131\n gistMC.findWells: iw= 46  of  2604  start date is  2017-06-27\n gistMC.findWells injectionDays 2587\n gistMC.findWells: iw= 47  of  2604  start date is  2018-09-12\n gistMC.findWells injectionDays 2145\n gistMC.findWells: iw= 48  of  2604  start date is  2018-05-25\n gistMC.findWells injectionDays 2255\n gistMC.findWells: iw= 49  of  2604  start date is  2018-08-17\n gistMC.findWells injectionDays 2171\n gistMC.findWells: iw= 50  of  2604  start date is  2020-11-24\n gistMC.findWells injectionDays 1341\n gistMC.findWells: iw= 51  of  2604  start date is  2021-08-25\n gistMC.findWells injectionDays 1067\n gistMC.findWells: iw= 52  of  2604  start date is  2019-10-01\n gistMC.findWells injectionDays 1761\n gistMC.findWells: iw= 53  of  2604  start date is  2019-06-07\n gistMC.findWells injectionDays 1877\n gistMC.findWells: iw= 54  of  2604  start date is  2021-04-19\n gistMC.findWells injectionDays 1195\n gistMC.findWells: iw= 55  of  2604  start date is  2020-01-17\n gistMC.findWells injectionDays 1653\n gistMC.findWells: iw= 56  of  2604  start date is  2020-07-10\n gistMC.findWells injectionDays 1478\n gistMC.findWells: iw= 57  of  2604  start date is  2018-05-01\n gistMC.findWells injectionDays 2279\n gistMC.findWells: iw= 58  of  2604  start date is  2019-07-20\n gistMC.findWells injectionDays 1834\n gistMC.findWells: iw= 59  of  2604  start date is  2019-02-08\n gistMC.findWells injectionDays 1996\n gistMC.findWells: iw= 60  of  2604  start date is  2020-06-18\n gistMC.findWells injectionDays 1500\n gistMC.findWells: iw= 61  of  2604  start date is  2015-10-16\n gistMC.findWells injectionDays 3207\n gistMC.findWells: iw= 62  of  2604  start date is  2010-04-01\n gistMC.findWells injectionDays 5231\n gistMC.findWells: iw= 63  of  2604  start date is  2014-08-12\n gistMC.findWells injectionDays 3637\n gistMC.findWells: iw= 64  of  2604  start date is  2017-01-30\n gistMC.findWells injectionDays 2735\n gistMC.findWells: iw= 65  of  2604  start date is  2020-04-13\n gistMC.findWells injectionDays 1566\n gistMC.findWells: iw= 66  of  2604  start date is  2017-07-20\n gistMC.findWells injectionDays 2564\n gistMC.findWells: iw= 67  of  2604  start date is  2019-04-05\n gistMC.findWells injectionDays 1940\n gistMC.findWells: iw= 68  of  2604  start date is  2017-06-19\n gistMC.findWells injectionDays 2595\n gistMC.findWells: iw= 69  of  2604  start date is  2018-10-13\n gistMC.findWells injectionDays 2114\n gistMC.findWells: iw= 70  of  2604  start date is  2019-03-01\n gistMC.findWells injectionDays 1975\n gistMC.findWells: iw= 71  of  2604  start date is  2019-07-20\n gistMC.findWells injectionDays 1834\n gistMC.findWells: iw= 72  of  2604  start date is  2020-03-01\n gistMC.findWells injectionDays 1609\n gistMC.findWells: iw= 73  of  2604  start date is  2011-07-06\n gistMC.findWells injectionDays 4770\n gistMC.findWells: iw= 74  of  2604  start date is  2017-01-01\n gistMC.findWells injectionDays 2764\n gistMC.findWells: iw= 75  of  2604  start date is  2018-11-01\n gistMC.findWells injectionDays 2095\n gistMC.findWells: iw= 76  of  2604  start date is  2017-07-10\n gistMC.findWells injectionDays 2574\n gistMC.findWells: iw= 77  of  2604  start date is  2019-12-16\n gistMC.findWells injectionDays 1685\n gistMC.findWells: iw= 78  of  2604  start date is  2019-12-01\n gistMC.findWells injectionDays 1700\n gistMC.findWells: iw= 79  of  2604  start date is  1989-07-01\n gistMC.findWells injectionDays 12810\n gistMC.findWells: iw= 80  of  2604  start date is  2020-12-23\n gistMC.findWells injectionDays 1312\n gistMC.findWells: iw= 81  of  2604  start date is  2020-10-01\n gistMC.findWells injectionDays 1395\n gistMC.findWells: iw= 82  of  2604  start date is  2017-12-01\n gistMC.findWells injectionDays 2430\n gistMC.findWells: iw= 83  of  2604  start date is  2019-11-01\n gistMC.findWells injectionDays 1730\n gistMC.findWells: iw= 84  of  2604  start date is  1990-05-01\n gistMC.findWells injectionDays 12506\n gistMC.findWells: iw= 85  of  2604  start date is  2021-12-14\n gistMC.findWells injectionDays 956\n gistMC.findWells: iw= 86  of  2604  start date is  2021-02-01\n gistMC.findWells injectionDays 1272\n gistMC.findWells: iw= 87  of  2604  start date is  1984-05-01\n gistMC.findWells injectionDays 14697\n gistMC.findWells: iw= 88  of  2604  start date is  1985-03-01\n gistMC.findWells injectionDays 14393\n gistMC.findWells: iw= 89  of  2604  start date is  1984-03-01\n gistMC.findWells injectionDays 14758\n gistMC.findWells: iw= 90  of  2604  start date is  1985-03-01\n gistMC.findWells injectionDays 14393\n gistMC.findWells: iw= 91  of  2604  start date is  1984-05-01\n gistMC.findWells injectionDays 14697\n gistMC.findWells: iw= 92  of  2604  start date is  1985-03-01\n gistMC.findWells injectionDays 14393\n gistMC.findWells: iw= 93  of  2604  start date is  1988-02-24\n gistMC.findWells injectionDays 13303\n gistMC.findWells: iw= 94  of  2604  start date is  1988-03-15\n gistMC.findWells injectionDays 13283\n gistMC.findWells: iw= 95  of  2604  start date is  1988-08-01\n gistMC.findWells injectionDays 13144\n gistMC.findWells: iw= 96  of  2604  start date is  1987-10-22\n gistMC.findWells injectionDays 13428\n gistMC.findWells: iw= 97  of  2604  start date is  1987-08-04\n gistMC.findWells injectionDays 13507\n gistMC.findWells: iw= 98  of  2604  start date is  1987-05-27\n gistMC.findWells injectionDays 13576\n gistMC.findWells: iw= 99  of  2604  start date is  1989-07-01\n gistMC.findWells injectionDays 12810\n gistMC.findWells: iw= 100  of  2604  start date is  1991-02-01\n gistMC.findWells injectionDays 12230\n gistMC.findWells: iw= 101  of  2604  start date is  1993-03-01\n gistMC.findWells injectionDays 11471\n gistMC.findWells: iw= 102  of  2604  start date is  1993-01-01\n gistMC.findWells injectionDays 11530\n gistMC.findWells: iw= 103  of  2604  start date is  1989-07-13\n gistMC.findWells injectionDays 12798\n gistMC.findWells: iw= 104  of  2604  start date is  1993-08-25\n gistMC.findWells injectionDays 11294\n gistMC.findWells: iw= 105  of  2604  start date is  1995-08-01\n gistMC.findWells injectionDays 10588\n gistMC.findWells: iw= 106  of  2604  start date is  1983-01-01\n gistMC.findWells injectionDays 15183\n gistMC.findWells: iw= 107  of  2604  start date is  1983-01-01\n gistMC.findWells injectionDays 15183\n gistMC.findWells: iw= 108  of  2604  start date is  1987-06-01\n gistMC.findWells injectionDays 13571\n gistMC.findWells: iw= 109  of  2604  start date is  1983-01-01\n gistMC.findWells injectionDays 15183\n gistMC.findWells: iw= 110  of  2604  start date is  1983-07-01\n gistMC.findWells injectionDays 15002\n gistMC.findWells: iw= 111  of  2604  start date is  1983-01-01\n gistMC.findWells injectionDays 15183\n gistMC.findWells: iw= 112  of  2604  start date is  1983-01-01\n gistMC.findWells injectionDays 15183\n gistMC.findWells: iw= 113  of  2604  start date is  1983-01-01\n gistMC.findWells injectionDays 15183\n gistMC.findWells: iw= 114  of  2604  start date is  1985-03-01\n gistMC.findWells injectionDays 14393\n gistMC.findWells: iw= 115  of  2604  start date is  1988-08-01\n gistMC.findWells injectionDays 13144\n gistMC.findWells: iw= 116  of  2604  start date is  1989-01-19\n gistMC.findWells injectionDays 12973\n gistMC.findWells: iw= 117  of  2604  start date is  2019-10-07\n gistMC.findWells injectionDays 1755\n gistMC.findWells: iw= 118  of  2604  start date is  1987-07-01\n gistMC.findWells injectionDays 13541\n gistMC.findWells: iw= 119  of  2604  start date is  2017-01-01\n gistMC.findWells injectionDays 2764\n gistMC.findWells: iw= 120  of  2604  start date is  2017-01-01\n gistMC.findWells injectionDays 2764\n gistMC.findWells: iw= 121  of  2604  start date is  1990-01-23\n gistMC.findWells injectionDays 12604\n gistMC.findWells: iw= 122  of  2604  start date is  2013-08-09\n gistMC.findWells injectionDays 4005\n gistMC.findWells: iw= 123  of  2604  start date is  2018-07-06\n gistMC.findWells injectionDays 2213\n gistMC.findWells: iw= 124  of  2604  start date is  2012-07-13\n gistMC.findWells injectionDays 4397\n gistMC.findWells: iw= 125  of  2604  start date is  1996-12-17\n gistMC.findWells injectionDays 10084\n gistMC.findWells: iw= 126  of  2604  start date is  2017-01-05\n gistMC.findWells injectionDays 2760\n gistMC.findWells: iw= 127  of  2604  start date is  2018-06-18\n gistMC.findWells injectionDays 2231\n gistMC.findWells: iw= 128  of  2604  start date is  1987-12-18\n gistMC.findWells injectionDays 13371\n gistMC.findWells: iw= 129  of  2604  start date is  2019-07-25\n gistMC.findWells injectionDays 1829\n gistMC.findWells: iw= 130  of  2604  start date is  2011-07-01\n gistMC.findWells injectionDays 4775\n gistMC.findWells: iw= 131  of  2604  start date is  2015-04-01\n gistMC.findWells injectionDays 3405\n gistMC.findWells: iw= 132  of  2604  start date is  2016-01-01\n gistMC.findWells injectionDays 3130\n gistMC.findWells: iw= 133  of  2604  start date is  2018-09-28\n gistMC.findWells injectionDays 2129\n gistMC.findWells: iw= 134  of  2604  start date is  2017-09-25\n gistMC.findWells injectionDays 2497\n gistMC.findWells: iw= 135  of  2604  start date is  2016-09-20\n gistMC.findWells injectionDays 2867\n gistMC.findWells: iw= 136  of  2604  start date is  2019-01-04\n gistMC.findWells injectionDays 2031\n gistMC.findWells: iw= 137  of  2604  start date is  2019-08-14\n gistMC.findWells injectionDays 1809\n gistMC.findWells: iw= 138  of  2604  start date is  2018-02-01\n gistMC.findWells injectionDays 2368\n gistMC.findWells: iw= 139  of  2604  start date is  1995-01-01\n gistMC.findWells injectionDays 10800\n gistMC.findWells: iw= 140  of  2604  start date is  1997-03-01\n gistMC.findWells injectionDays 10010\n gistMC.findWells: iw= 141  of  2604  start date is  2009-03-01\n gistMC.findWells injectionDays 5627\n gistMC.findWells: iw= 142  of  2604  start date is  1991-07-01\n gistMC.findWells injectionDays 12080\n gistMC.findWells: iw= 143  of  2604  start date is  1991-07-24\n gistMC.findWells injectionDays 12057\n gistMC.findWells: iw= 144  of  2604  start date is  1985-03-01\n gistMC.findWells injectionDays 14393\n gistMC.findWells: iw= 145  of  2604  start date is  1983-01-01\n gistMC.findWells injectionDays 15183\n gistMC.findWells: iw= 146  of  2604  start date is  1983-01-01\n gistMC.findWells injectionDays 15183\n gistMC.findWells: iw= 147  of  2604  start date is  1983-01-01\n gistMC.findWells injectionDays 15183\n gistMC.findWells: iw= 148  of  2604  start date is  1983-01-01\n gistMC.findWells injectionDays 15183\n gistMC.findWells: iw= 149  of  2604  start date is  1983-01-01\n gistMC.findWells injectionDays 15183\n gistMC.findWells: iw= 150  of  2604  start date is  1983-01-01\n gistMC.findWells injectionDays 15183\n gistMC.findWells: iw= 151  of  2604  start date is  2018-04-26\n gistMC.findWells injectionDays 2284\n gistMC.findWells: iw= 152  of  2604  start date is  1983-01-01\n gistMC.findWells injectionDays 15183\n gistMC.findWells: iw= 153  of  2604  start date is  1983-01-01\n gistMC.findWells injectionDays 15183\n gistMC.findWells: iw= 154  of  2604  start date is  1993-01-31\n gistMC.findWells injectionDays 11500\n gistMC.findWells: iw= 155  of  2604  start date is  1996-08-21\n gistMC.findWells injectionDays 10202\n gistMC.findWells: iw= 156  of  2604  start date is  1983-01-01\n gistMC.findWells injectionDays 15183\n gistMC.findWells: iw= 157  of  2604  start date is  2018-05-30\n gistMC.findWells injectionDays 2250\n gistMC.findWells: iw= 158  of  2604  start date is  1983-01-01\n gistMC.findWells injectionDays 15183\n gistMC.findWells: iw= 159  of  2604  start date is  1985-03-01\n gistMC.findWells injectionDays 14393\n gistMC.findWells: iw= 160  of  2604  start date is  1989-09-01\n gistMC.findWells injectionDays 12748\n gistMC.findWells: iw= 161  of  2604  start date is  2004-12-03\n gistMC.findWells injectionDays 7176\n gistMC.findWells: iw= 162  of  2604  start date is  2018-10-22\n gistMC.findWells injectionDays 2105\n gistMC.findWells: iw= 163  of  2604  start date is  2017-12-07\n gistMC.findWells injectionDays 2424\n gistMC.findWells: iw= 164  of  2604  start date is  2014-10-01\n gistMC.findWells injectionDays 3587\n gistMC.findWells: iw= 165  of  2604  start date is  1983-01-01\n gistMC.findWells injectionDays 15183\n gistMC.findWells: iw= 166  of  2604  start date is  2016-10-01\n gistMC.findWells injectionDays 2856\n gistMC.findWells: iw= 167  of  2604  start date is  1983-01-01\n gistMC.findWells injectionDays 15183\n gistMC.findWells: iw= 168  of  2604  start date is  2018-04-01\n gistMC.findWells injectionDays 2309\n gistMC.findWells: iw= 169  of  2604  start date is  1996-02-01\n gistMC.findWells injectionDays 10404\n gistMC.findWells: iw= 170  of  2604  start date is  1996-02-01\n gistMC.findWells injectionDays 10404\n gistMC.findWells: iw= 171  of  2604  start date is  1996-03-12\n gistMC.findWells injectionDays 10364\n gistMC.findWells: iw= 172  of  2604  start date is  1996-10-21\n gistMC.findWells injectionDays 10141\n gistMC.findWells: iw= 173  of  2604  start date is  1998-02-01\n gistMC.findWells injectionDays 9673\n gistMC.findWells: iw= 174  of  2604  start date is  1996-07-02\n gistMC.findWells injectionDays 10252\n gistMC.findWells: iw= 175  of  2604  start date is  1999-10-29\n gistMC.findWells injectionDays 9038\n gistMC.findWells: iw= 176  of  2604  start date is  1997-05-03\n gistMC.findWells injectionDays 9947\n gistMC.findWells: iw= 177  of  2604  start date is  2004-05-07\n gistMC.findWells injectionDays 7386\n gistMC.findWells: iw= 178  of  2604  start date is  2001-10-05\n gistMC.findWells injectionDays 8331\n gistMC.findWells: iw= 179  of  2604  start date is  2000-08-31\n gistMC.findWells injectionDays 8731\n gistMC.findWells: iw= 180  of  2604  start date is  2002-10-01\n gistMC.findWells injectionDays 7970\n gistMC.findWells: iw= 181  of  2604  start date is  2003-02-01\n gistMC.findWells injectionDays 7847\n gistMC.findWells: iw= 182  of  2604  start date is  2001-08-29\n gistMC.findWells injectionDays 8368\n gistMC.findWells: iw= 183  of  2604  start date is  2005-09-22\n gistMC.findWells injectionDays 6883\n gistMC.findWells: iw= 184  of  2604  start date is  2006-05-01\n gistMC.findWells injectionDays 6662\n gistMC.findWells: iw= 185  of  2604  start date is  2013-02-01\n gistMC.findWells injectionDays 4194\n gistMC.findWells: iw= 186  of  2604  start date is  2006-04-01\n gistMC.findWells injectionDays 6692\n gistMC.findWells: iw= 187  of  2604  start date is  2006-04-01\n gistMC.findWells injectionDays 6692\n gistMC.findWells: iw= 188  of  2604  start date is  2008-01-28\n gistMC.findWells injectionDays 6025\n gistMC.findWells: iw= 189  of  2604  start date is  2013-01-06\n gistMC.findWells injectionDays 4220\n gistMC.findWells: iw= 190  of  2604  start date is  2007-10-23\n gistMC.findWells injectionDays 6122\n gistMC.findWells: iw= 191  of  2604  start date is  2009-01-23\n gistMC.findWells injectionDays 5664\n gistMC.findWells: iw= 192  of  2604  start date is  2009-01-13\n gistMC.findWells injectionDays 5674\n gistMC.findWells: iw= 193  of  2604  start date is  2010-02-18\n gistMC.findWells injectionDays 5273\n gistMC.findWells: iw= 194  of  2604  start date is  2009-06-22\n gistMC.findWells injectionDays 5514\n gistMC.findWells: iw= 195  of  2604  start date is  2010-11-18\n gistMC.findWells injectionDays 5000\n gistMC.findWells: iw= 196  of  2604  start date is  2011-02-01\n gistMC.findWells injectionDays 4925\n gistMC.findWells: iw= 197  of  2604  start date is  2012-04-26\n gistMC.findWells injectionDays 4475\n gistMC.findWells: iw= 198  of  2604  start date is  2012-05-04\n gistMC.findWells injectionDays 4467\n gistMC.findWells: iw= 199  of  2604  start date is  2013-08-01\n gistMC.findWells injectionDays 4013\n gistMC.findWells: iw= 200  of  2604  start date is  2015-05-01\n gistMC.findWells injectionDays 3375\n gistMC.findWells: iw= 201  of  2604  start date is  2016-03-01\n gistMC.findWells injectionDays 3070\n gistMC.findWells: iw= 202  of  2604  start date is  2014-05-01\n gistMC.findWells injectionDays 3740\n gistMC.findWells: iw= 203  of  2604  start date is  2014-06-23\n gistMC.findWells injectionDays 3687\n gistMC.findWells: iw= 204  of  2604  start date is  2016-01-25\n gistMC.findWells injectionDays 3106\n gistMC.findWells: iw= 205  of  2604  start date is  2016-04-27\n gistMC.findWells injectionDays 3013\n gistMC.findWells: iw= 206  of  2604  start date is  2018-08-17\n gistMC.findWells injectionDays 2171\n gistMC.findWells: iw= 207  of  2604  start date is  2015-10-09\n gistMC.findWells injectionDays 3214\n gistMC.findWells: iw= 208  of  2604  start date is  2018-01-31\n gistMC.findWells injectionDays 2369\n gistMC.findWells: iw= 209  of  2604  start date is  2018-08-01\n gistMC.findWells injectionDays 2187\n gistMC.findWells: iw= 210  of  2604  start date is  2017-12-08\n gistMC.findWells injectionDays 2423\n gistMC.findWells: iw= 211  of  2604  start date is  2019-10-09\n gistMC.findWells injectionDays 1753\n gistMC.findWells: iw= 212  of  2604  start date is  2020-10-01\n gistMC.findWells injectionDays 1395\n gistMC.findWells: iw= 213  of  2604  start date is  2019-06-01\n gistMC.findWells injectionDays 1883\n gistMC.findWells: iw= 214  of  2604  start date is  2010-08-31\n gistMC.findWells injectionDays 5079\n gistMC.findWells: iw= 215  of  2604  start date is  2012-09-07\n gistMC.findWells injectionDays 4341\n gistMC.findWells: iw= 216  of  2604  start date is  2014-06-01\n gistMC.findWells injectionDays 3709\n gistMC.findWells: iw= 217  of  2604  start date is  1989-02-20\n gistMC.findWells injectionDays 12941\n gistMC.findWells: iw= 218  of  2604  start date is  2010-04-15\n gistMC.findWells injectionDays 5217\n gistMC.findWells: iw= 219  of  2604  start date is  2012-10-01\n gistMC.findWells injectionDays 4317\n gistMC.findWells: iw= 220  of  2604  start date is  2015-04-11\n gistMC.findWells injectionDays 3395\n gistMC.findWells: iw= 221  of  2604  start date is  2015-09-01\n gistMC.findWells injectionDays 3252\n gistMC.findWells: iw= 222  of  2604  start date is  2018-11-01\n gistMC.findWells injectionDays 2095\n gistMC.findWells: iw= 223  of  2604  start date is  2013-05-28\n gistMC.findWells injectionDays 4078\n gistMC.findWells: iw= 224  of  2604  start date is  2012-07-17\n gistMC.findWells injectionDays 4393\n gistMC.findWells: iw= 225  of  2604  start date is  1989-07-01\n gistMC.findWells injectionDays 12810\n gistMC.findWells: iw= 226  of  2604  start date is  2017-09-27\n gistMC.findWells injectionDays 2495\n gistMC.findWells: iw= 227  of  2604  start date is  1997-01-01\n gistMC.findWells injectionDays 10069\n gistMC.findWells: iw= 228  of  2604  start date is  2012-11-02\n gistMC.findWells injectionDays 4285\n gistMC.findWells: iw= 229  of  2604  start date is  2013-12-17\n gistMC.findWells injectionDays 3875\n gistMC.findWells: iw= 230  of  2604  start date is  2015-03-14\n gistMC.findWells injectionDays 3423\n gistMC.findWells: iw= 231  of  2604  start date is  2012-09-07\n gistMC.findWells injectionDays 4341\n gistMC.findWells: iw= 232  of  2604  start date is  1985-03-01\n gistMC.findWells injectionDays 14393\n gistMC.findWells: iw= 233  of  2604  start date is  1986-05-01\n gistMC.findWells injectionDays 13967\n gistMC.findWells: iw= 234  of  2604  start date is  1985-03-01\n gistMC.findWells injectionDays 14393\n gistMC.findWells: iw= 235  of  2604  start date is  1986-07-20\n gistMC.findWells injectionDays 13887\n gistMC.findWells: iw= 236  of  2604  start date is  1989-07-01\n gistMC.findWells injectionDays 12810\n gistMC.findWells: iw= 237  of  2604  start date is  1986-06-26\n gistMC.findWells injectionDays 13911\n gistMC.findWells: iw= 238  of  2604  start date is  1987-07-01\n gistMC.findWells injectionDays 13541\n gistMC.findWells: iw= 239  of  2604  start date is  1986-10-01\n gistMC.findWells injectionDays 13814\n gistMC.findWells: iw= 240  of  2604  start date is  1986-10-07\n gistMC.findWells injectionDays 13808\n gistMC.findWells: iw= 241  of  2604  start date is  1987-08-01\n gistMC.findWells injectionDays 13510\n gistMC.findWells: iw= 242  of  2604  start date is  1994-09-02\n gistMC.findWells injectionDays 10921\n gistMC.findWells: iw= 243  of  2604  start date is  1988-11-05\n gistMC.findWells injectionDays 13048\n gistMC.findWells: iw= 244  of  2604  start date is  1989-02-14\n gistMC.findWells injectionDays 12947\n gistMC.findWells: iw= 245  of  2604  start date is  1989-04-06\n gistMC.findWells injectionDays 12896\n gistMC.findWells: iw= 246  of  2604  start date is  1988-11-11\n gistMC.findWells injectionDays 13042\n gistMC.findWells: iw= 247  of  2604  start date is  1989-08-31\n gistMC.f\n\n*** WARNING: max output size exceeded, skipping output. ***\n\n361  of  2604  start date is  2011-03-03\n gistMC.findWells injectionDays 4895\n gistMC.findWells: iw= 2362  of  2604  start date is  2010-10-13\n gistMC.findWells injectionDays 5036\n gistMC.findWells: iw= 2363  of  2604  start date is  2011-04-19\n gistMC.findWells injectionDays 4848\n gistMC.findWells: iw= 2364  of  2604  start date is  2010-01-27\n gistMC.findWells injectionDays 5295\n gistMC.findWells: iw= 2365  of  2604  start date is  2011-01-17\n gistMC.findWells injectionDays 4940\n gistMC.findWells: iw= 2366  of  2604  start date is  2009-11-09\n gistMC.findWells injectionDays 5374\n gistMC.findWells: iw= 2367  of  2604  start date is  2012-06-19\n gistMC.findWells injectionDays 4421\n gistMC.findWells: iw= 2368  of  2604  start date is  2012-04-11\n gistMC.findWells injectionDays 4490\n gistMC.findWells: iw= 2369  of  2604  start date is  2012-09-01\n gistMC.findWells injectionDays 4347\n gistMC.findWells: iw= 2370  of  2604  start date is  2011-08-09\n gistMC.findWells injectionDays 4736\n gistMC.findWells: iw= 2371  of  2604  start date is  2011-06-01\n gistMC.findWells injectionDays 4805\n gistMC.findWells: iw= 2372  of  2604  start date is  2013-01-08\n gistMC.findWells injectionDays 4218\n gistMC.findWells: iw= 2373  of  2604  start date is  2011-08-16\n gistMC.findWells injectionDays 4729\n gistMC.findWells: iw= 2374  of  2604  start date is  2014-12-01\n gistMC.findWells injectionDays 3526\n gistMC.findWells: iw= 2375  of  2604  start date is  2012-08-10\n gistMC.findWells injectionDays 4369\n gistMC.findWells: iw= 2376  of  2604  start date is  2012-04-01\n gistMC.findWells injectionDays 4500\n gistMC.findWells: iw= 2377  of  2604  start date is  2013-04-01\n gistMC.findWells injectionDays 4135\n gistMC.findWells: iw= 2378  of  2604  start date is  2013-06-18\n gistMC.findWells injectionDays 4057\n gistMC.findWells: iw= 2379  of  2604  start date is  2012-08-14\n gistMC.findWells injectionDays 4365\n gistMC.findWells: iw= 2380  of  2604  start date is  2013-07-01\n gistMC.findWells injectionDays 4044\n gistMC.findWells: iw= 2381  of  2604  start date is  2012-12-01\n gistMC.findWells injectionDays 4256\n gistMC.findWells: iw= 2382  of  2604  start date is  2012-05-25\n gistMC.findWells injectionDays 4446\n gistMC.findWells: iw= 2383  of  2604  start date is  2014-08-20\n gistMC.findWells injectionDays 3629\n gistMC.findWells: iw= 2384  of  2604  start date is  2012-01-16\n gistMC.findWells injectionDays 4576\n gistMC.findWells: iw= 2385  of  2604  start date is  2011-11-01\n gistMC.findWells injectionDays 4652\n gistMC.findWells: iw= 2386  of  2604  start date is  2013-04-18\n gistMC.findWells injectionDays 4118\n gistMC.findWells: iw= 2387  of  2604  start date is  2013-04-22\n gistMC.findWells injectionDays 4114\n gistMC.findWells: iw= 2388  of  2604  start date is  2017-11-16\n gistMC.findWells injectionDays 2445\n gistMC.findWells: iw= 2389  of  2604  start date is  2014-08-29\n gistMC.findWells injectionDays 3620\n gistMC.findWells: iw= 2390  of  2604  start date is  2013-09-01\n gistMC.findWells injectionDays 3982\n gistMC.findWells: iw= 2391  of  2604  start date is  2013-02-18\n gistMC.findWells injectionDays 4177\n gistMC.findWells: iw= 2392  of  2604  start date is  2013-07-10\n gistMC.findWells injectionDays 4035\n gistMC.findWells: iw= 2393  of  2604  start date is  2014-09-01\n gistMC.findWells injectionDays 3617\n gistMC.findWells: iw= 2394  of  2604  start date is  2014-12-16\n gistMC.findWells injectionDays 3511\n gistMC.findWells: iw= 2395  of  2604  start date is  2015-07-02\n gistMC.findWells injectionDays 3313\n gistMC.findWells: iw= 2396  of  2604  start date is  2014-03-01\n gistMC.findWells injectionDays 3801\n gistMC.findWells: iw= 2397  of  2604  start date is  2015-08-18\n gistMC.findWells injectionDays 3266\n gistMC.findWells: iw= 2398  of  2604  start date is  2012-09-05\n gistMC.findWells injectionDays 4343\n gistMC.findWells: iw= 2399  of  2604  start date is  2014-07-06\n gistMC.findWells injectionDays 3674\n gistMC.findWells: iw= 2400  of  2604  start date is  2022-08-25\n gistMC.findWells injectionDays 702\n gistMC.findWells: iw= 2401  of  2604  start date is  2015-04-30\n gistMC.findWells injectionDays 3376\n gistMC.findWells: iw= 2402  of  2604  start date is  2014-07-31\n gistMC.findWells injectionDays 3649\n gistMC.findWells: iw= 2403  of  2604  start date is  2016-10-01\n gistMC.findWells injectionDays 2856\n gistMC.findWells: iw= 2404  of  2604  start date is  2016-06-09\n gistMC.findWells injectionDays 2970\n gistMC.findWells: iw= 2405  of  2604  start date is  2015-03-16\n gistMC.findWells injectionDays 3421\n gistMC.findWells: iw= 2406  of  2604  start date is  2015-09-01\n gistMC.findWells injectionDays 3252\n gistMC.findWells: iw= 2407  of  2604  start date is  2019-10-01\n gistMC.findWells injectionDays 1761\n gistMC.findWells: iw= 2408  of  2604  start date is  2017-03-06\n gistMC.findWells injectionDays 2700\n gistMC.findWells: iw= 2409  of  2604  start date is  2016-12-19\n gistMC.findWells injectionDays 2777\n gistMC.findWells: iw= 2410  of  2604  start date is  2017-01-27\n gistMC.findWells injectionDays 2738\n gistMC.findWells: iw= 2411  of  2604  start date is  2017-08-25\n gistMC.findWells injectionDays 2528\n gistMC.findWells: iw= 2412  of  2604  start date is  2017-12-19\n gistMC.findWells injectionDays 2412\n gistMC.findWells: iw= 2413  of  2604  start date is  2014-09-12\n gistMC.findWells injectionDays 3606\n gistMC.findWells: iw= 2414  of  2604  start date is  2016-03-07\n gistMC.findWells injectionDays 3064\n gistMC.findWells: iw= 2415  of  2604  start date is  2016-11-28\n gistMC.findWells injectionDays 2798\n gistMC.findWells: iw= 2416  of  2604  start date is  2017-01-24\n gistMC.findWells injectionDays 2741\n gistMC.findWells: iw= 2417  of  2604  start date is  2019-08-01\n gistMC.findWells injectionDays 1822\n gistMC.findWells: iw= 2418  of  2604  start date is  2015-12-19\n gistMC.findWells injectionDays 3143\n gistMC.findWells: iw= 2419  of  2604  start date is  2018-04-09\n gistMC.findWells injectionDays 2301\n gistMC.findWells: iw= 2420  of  2604  start date is  2017-08-01\n gistMC.findWells injectionDays 2552\n gistMC.findWells: iw= 2421  of  2604  start date is  2018-06-01\n gistMC.findWells injectionDays 2248\n gistMC.findWells: iw= 2422  of  2604  start date is  2018-06-28\n gistMC.findWells injectionDays 2221\n gistMC.findWells: iw= 2423  of  2604  start date is  2022-03-01\n gistMC.findWells injectionDays 879\n gistMC.findWells: iw= 2424  of  2604  start date is  2017-07-31\n gistMC.findWells injectionDays 2553\n gistMC.findWells: iw= 2425  of  2604  start date is  2017-05-25\n gistMC.findWells injectionDays 2620\n gistMC.findWells: iw= 2426  of  2604  start date is  2020-02-01\n gistMC.findWells injectionDays 1638\n gistMC.findWells: iw= 2427  of  2604  start date is  2018-06-01\n gistMC.findWells injectionDays 2248\n gistMC.findWells: iw= 2428  of  2604  start date is  2015-06-01\n gistMC.findWells injectionDays 3344\n gistMC.findWells: iw= 2429  of  2604  start date is  2019-11-01\n gistMC.findWells injectionDays 1730\n gistMC.findWells: iw= 2430  of  2604  start date is  2019-03-05\n gistMC.findWells injectionDays 1971\n gistMC.findWells: iw= 2431  of  2604  start date is  2016-12-01\n gistMC.findWells injectionDays 2795\n gistMC.findWells: iw= 2432  of  2604  start date is  2018-10-10\n gistMC.findWells injectionDays 2117\n gistMC.findWells: iw= 2433  of  2604  start date is  2018-12-11\n gistMC.findWells injectionDays 2055\n gistMC.findWells: iw= 2434  of  2604  start date is  2021-06-01\n gistMC.findWells injectionDays 1152\n gistMC.findWells: iw= 2435  of  2604  start date is  2014-01-23\n gistMC.findWells injectionDays 3838\n gistMC.findWells: iw= 2436  of  2604  start date is  2019-12-01\n gistMC.findWells injectionDays 1700\n gistMC.findWells: iw= 2437  of  2604  start date is  2023-06-01\n gistMC.findWells injectionDays 422\n gistMC.findWells: iw= 2438  of  2604  start date is  2016-11-09\n gistMC.findWells injectionDays 2817\n gistMC.findWells: iw= 2439  of  2604  start date is  2019-11-21\n gistMC.findWells injectionDays 1710\n gistMC.findWells: iw= 2440  of  2604  start date is  2020-02-28\n gistMC.findWells injectionDays 1611\n gistMC.findWells: iw= 2441  of  2604  start date is  1989-03-17\n gistMC.findWells injectionDays 12916\n gistMC.findWells: iw= 2442  of  2604  start date is  2020-01-02\n gistMC.findWells injectionDays 1668\n gistMC.findWells: iw= 2443  of  2604  start date is  2015-11-06\n gistMC.findWells injectionDays 3186\n gistMC.findWells: iw= 2444  of  2604  start date is  2011-08-31\n gistMC.findWells injectionDays 4714\n gistMC.findWells: iw= 2445  of  2604  start date is  2013-05-01\n gistMC.findWells injectionDays 4105\n gistMC.findWells: iw= 2446  of  2604  start date is  2015-11-01\n gistMC.findWells injectionDays 3191\n gistMC.findWells: iw= 2447  of  2604  start date is  1985-03-01\n gistMC.findWells injectionDays 14393\n gistMC.findWells: iw= 2448  of  2604  start date is  2018-04-19\n gistMC.findWells injectionDays 2291\n gistMC.findWells: iw= 2449  of  2604  start date is  2011-11-22\n gistMC.findWells injectionDays 4631\n gistMC.findWells: iw= 2450  of  2604  start date is  2016-10-26\n gistMC.findWells injectionDays 2831\n gistMC.findWells: iw= 2451  of  2604  start date is  2014-10-01\n gistMC.findWells injectionDays 3587\n gistMC.findWells: iw= 2452  of  2604  start date is  1989-12-01\n gistMC.findWells injectionDays 12657\n gistMC.findWells: iw= 2453  of  2604  start date is  2020-03-01\n gistMC.findWells injectionDays 1609\n gistMC.findWells: iw= 2454  of  2604  start date is  2013-11-22\n gistMC.findWells injectionDays 3900\n gistMC.findWells: iw= 2455  of  2604  start date is  2019-02-11\n gistMC.findWells injectionDays 1993\n gistMC.findWells: iw= 2456  of  2604  start date is  2019-09-06\n gistMC.findWells injectionDays 1786\n gistMC.findWells: iw= 2457  of  2604  start date is  2019-03-15\n gistMC.findWells injectionDays 1961\n gistMC.findWells: iw= 2458  of  2604  start date is  2010-12-01\n gistMC.findWells injectionDays 4987\n gistMC.findWells: iw= 2459  of  2604  start date is  2017-02-27\n gistMC.findWells injectionDays 2707\n gistMC.findWells: iw= 2460  of  2604  start date is  2020-03-21\n gistMC.findWells injectionDays 1589\n gistMC.findWells: iw= 2461  of  2604  start date is  2013-10-01\n gistMC.findWells injectionDays 3952\n gistMC.findWells: iw= 2462  of  2604  start date is  2019-03-07\n gistMC.findWells injectionDays 1969\n gistMC.findWells: iw= 2463  of  2604  start date is  2020-01-29\n gistMC.findWells injectionDays 1641\n gistMC.findWells: iw= 2464  of  2604  start date is  2018-12-04\n gistMC.findWells injectionDays 2062\n gistMC.findWells: iw= 2465  of  2604  start date is  2019-08-27\n gistMC.findWells injectionDays 1796\n gistMC.findWells: iw= 2466  of  2604  start date is  2021-06-17\n gistMC.findWells injectionDays 1136\n gistMC.findWells: iw= 2467  of  2604  start date is  2013-04-18\n gistMC.findWells injectionDays 4118\n gistMC.findWells: iw= 2468  of  2604  start date is  2022-09-07\n gistMC.findWells injectionDays 689\n gistMC.findWells: iw= 2469  of  2604  start date is  2011-07-18\n gistMC.findWells injectionDays 4758\n gistMC.findWells: iw= 2470  of  2604  start date is  2021-09-01\n gistMC.findWells injectionDays 1060\n gistMC.findWells: iw= 2471  of  2604  start date is  2021-03-01\n gistMC.findWells injectionDays 1244\n gistMC.findWells: iw= 2472  of  2604  start date is  2009-06-01\n gistMC.findWells injectionDays 5535\n gistMC.findWells: iw= 2473  of  2604  start date is  2016-07-27\n gistMC.findWells injectionDays 2922\n gistMC.findWells: iw= 2474  of  2604  start date is  2021-02-03\n gistMC.findWells injectionDays 1270\n gistMC.findWells: iw= 2475  of  2604  start date is  2017-06-01\n gistMC.findWells injectionDays 2613\n gistMC.findWells: iw= 2476  of  2604  start date is  2021-01-25\n gistMC.findWells injectionDays 1279\n gistMC.findWells: iw= 2477  of  2604  start date is  2009-12-11\n gistMC.findWells injectionDays 5342\n gistMC.findWells: iw= 2478  of  2604  start date is  2020-10-01\n gistMC.findWells injectionDays 1395\n gistMC.findWells: iw= 2479  of  2604  start date is  2012-07-19\n gistMC.findWells injectionDays 4391\n gistMC.findWells: iw= 2480  of  2604  start date is  2014-11-05\n gistMC.findWells injectionDays 3552\n gistMC.findWells: iw= 2481  of  2604  start date is  2015-04-30\n gistMC.findWells injectionDays 3376\n gistMC.findWells: iw= 2482  of  2604  start date is  2019-04-22\n gistMC.findWells injectionDays 1923\n gistMC.findWells: iw= 2483  of  2604  start date is  2016-05-12\n gistMC.findWells injectionDays 2998\n gistMC.findWells: iw= 2484  of  2604  start date is  2016-07-09\n gistMC.findWells injectionDays 2940\n gistMC.findWells: iw= 2485  of  2604  start date is  2015-03-03\n gistMC.findWells injectionDays 3434\n gistMC.findWells: iw= 2486  of  2604  start date is  2021-05-01\n gistMC.findWells injectionDays 1183\n gistMC.findWells: iw= 2487  of  2604  start date is  2024-05-14\n gistMC.findWells injectionDays 74\n gistMC.findWells: iw= 2488  of  2604  start date is  2021-12-07\n gistMC.findWells injectionDays 963\n gistMC.findWells: iw= 2489  of  2604  start date is  2022-06-17\n gistMC.findWells injectionDays 771\n gistMC.findWells: iw= 2490  of  2604  start date is  2023-05-01\n gistMC.findWells injectionDays 453\n gistMC.findWells: iw= 2491  of  2604  start date is  2023-05-01\n gistMC.findWells injectionDays 453\n gistMC.findWells: iw= 2492  of  2604  start date is  2022-12-22\n gistMC.findWells injectionDays 583\n gistMC.findWells: iw= 2493  of  2604  start date is  1984-05-01\n gistMC.findWells injectionDays 14697\n gistMC.findWells: iw= 2494  of  2604  start date is  1988-02-23\n gistMC.findWells injectionDays 13304\n gistMC.findWells: iw= 2495  of  2604  start date is  1985-03-01\n gistMC.findWells injectionDays 14393\n gistMC.findWells: iw= 2496  of  2604  start date is  1985-02-01\n gistMC.findWells injectionDays 14421\n gistMC.findWells: iw= 2497  of  2604  start date is  1987-07-01\n gistMC.findWells injectionDays 13541\n gistMC.findWells: iw= 2498  of  2604  start date is  1986-09-01\n gistMC.findWells injectionDays 13844\n gistMC.findWells: iw= 2499  of  2604  start date is  1988-03-08\n gistMC.findWells injectionDays 13290\n gistMC.findWells: iw= 2500  of  2604  start date is  1989-09-01\n gistMC.findWells injectionDays 12748\n gistMC.findWells: iw= 2501  of  2604  start date is  1986-03-26\n gistMC.findWells injectionDays 14003\n gistMC.findWells: iw= 2502  of  2604  start date is  1998-10-01\n gistMC.findWells injectionDays 9431\n gistMC.findWells: iw= 2503  of  2604  start date is  1987-03-18\n gistMC.findWells injectionDays 13646\n gistMC.findWells: iw= 2504  of  2604  start date is  1987-07-21\n gistMC.findWells injectionDays 13521\n gistMC.findWells: iw= 2505  of  2604  start date is  1988-12-27\n gistMC.findWells injectionDays 12996\n gistMC.findWells: iw= 2506  of  2604  start date is  1989-03-11\n gistMC.findWells injectionDays 12922\n gistMC.findWells: iw= 2507  of  2604  start date is  1989-06-29\n gistMC.findWells injectionDays 12812\n gistMC.findWells: iw= 2508  of  2604  start date is  1989-09-01\n gistMC.findWells injectionDays 12748\n gistMC.findWells: iw= 2509  of  2604  start date is  1987-02-09\n gistMC.findWells injectionDays 13683\n gistMC.findWells: iw= 2510  of  2604  start date is  1991-01-16\n gistMC.findWells injectionDays 12246\n gistMC.findWells: iw= 2511  of  2604  start date is  1991-05-22\n gistMC.findWells injectionDays 12120\n gistMC.findWells: iw= 2512  of  2604  start date is  1994-01-13\n gistMC.findWells injectionDays 11153\n gistMC.findWells: iw= 2513  of  2604  start date is  1994-06-01\n gistMC.findWells injectionDays 11014\n gistMC.findWells: iw= 2514  of  2604  start date is  1994-01-01\n gistMC.findWells injectionDays 11165\n gistMC.findWells: iw= 2515  of  2604  start date is  1992-10-29\n gistMC.findWells injectionDays 11594\n gistMC.findWells: iw= 2516  of  2604  start date is  1993-01-30\n gistMC.findWells injectionDays 11501\n gistMC.findWells: iw= 2517  of  2604  start date is  1990-10-18\n gistMC.findWells injectionDays 12336\n gistMC.findWells: iw= 2518  of  2604  start date is  1992-02-26\n gistMC.findWells injectionDays 11840\n gistMC.findWells: iw= 2519  of  2604  start date is  1993-10-26\n gistMC.findWells injectionDays 11232\n gistMC.findWells: iw= 2520  of  2604  start date is  1983-01-01\n gistMC.findWells injectionDays 15183\n gistMC.findWells: iw= 2521  of  2604  start date is  1983-01-01\n gistMC.findWells injectionDays 15183\n gistMC.findWells: iw= 2522  of  2604  start date is  1983-01-01\n gistMC.findWells injectionDays 15183\n gistMC.findWells: iw= 2523  of  2604  start date is  1984-05-01\n gistMC.findWells injectionDays 14697\n gistMC.findWells: iw= 2524  of  2604  start date is  1983-01-01\n gistMC.findWells injectionDays 15183\n gistMC.findWells: iw= 2525  of  2604  start date is  1983-01-01\n gistMC.findWells injectionDays 15183\n gistMC.findWells: iw= 2526  of  2604  start date is  1983-01-01\n gistMC.findWells injectionDays 15183\n gistMC.findWells: iw= 2527  of  2604  start date is  1983-01-01\n gistMC.findWells injectionDays 15183\n gistMC.findWells: iw= 2528  of  2604  start date is  1983-01-01\n gistMC.findWells injectionDays 15183\n gistMC.findWells: iw= 2529  of  2604  start date is  2022-04-26\n gistMC.findWells injectionDays 823\n gistMC.findWells: iw= 2530  of  2604  start date is  1983-01-01\n gistMC.findWells injectionDays 15183\n gistMC.findWells: iw= 2531  of  2604  start date is  1983-01-01\n gistMC.findWells injectionDays 15183\n gistMC.findWells: iw= 2532  of  2604  start date is  1998-12-01\n gistMC.findWells injectionDays 9370\n gistMC.findWells: iw= 2533  of  2604  start date is  2000-06-09\n gistMC.findWells injectionDays 8814\n gistMC.findWells: iw= 2534  of  2604  start date is  2013-02-01\n gistMC.findWells injectionDays 4194\n gistMC.findWells: iw= 2535  of  2604  start date is  1995-05-01\n gistMC.findWells injectionDays 10680\n gistMC.findWells: iw= 2536  of  2604  start date is  2020-11-02\n gistMC.findWells injectionDays 1363\n gistMC.findWells: iw= 2537  of  2604  start date is  2017-09-12\n gistMC.findWells injectionDays 2510\n gistMC.findWells: iw= 2538  of  2604  start date is  2019-06-06\n gistMC.findWells injectionDays 1878\n gistMC.findWells: iw= 2539  of  2604  start date is  2007-03-13\n gistMC.findWells injectionDays 6346\n gistMC.findWells: iw= 2540  of  2604  start date is  1983-01-01\n gistMC.findWells injectionDays 15183\n gistMC.findWells: iw= 2541  of  2604  start date is  2006-07-26\n gistMC.findWells injectionDays 6576\n gistMC.findWells: iw= 2542  of  2604  start date is  2018-03-28\n gistMC.findWells injectionDays 2313\n gistMC.findWells: iw= 2543  of  2604  start date is  2014-05-31\n gistMC.findWells injectionDays 3710\n gistMC.findWells: iw= 2544  of  2604  start date is  2015-09-01\n gistMC.findWells injectionDays 3252\n gistMC.findWells: iw= 2545  of  2604  start date is  2013-02-11\n gistMC.findWells injectionDays 4184\n gistMC.findWells: iw= 2546  of  2604  start date is  2013-02-11\n gistMC.findWells injectionDays 4184\n gistMC.findWells: iw= 2547  of  2604  start date is  2012-08-02\n gistMC.findWells injectionDays 4377\n gistMC.findWells: iw= 2548  of  2604  start date is  2019-06-27\n gistMC.findWells injectionDays 1857\n gistMC.findWells: iw= 2549  of  2604  start date is  2014-06-01\n gistMC.findWells injectionDays 3709\n gistMC.findWells: iw= 2550  of  2604  start date is  2015-07-14\n gistMC.findWells injectionDays 3301\n gistMC.findWells: iw= 2551  of  2604  start date is  2022-08-29\n gistMC.findWells injectionDays 698\n gistMC.findWells: iw= 2552  of  2604  start date is  2011-09-15\n gistMC.findWells injectionDays 4699\n gistMC.findWells: iw= 2553  of  2604  start date is  2016-07-14\n gistMC.findWells injectionDays 2935\n gistMC.findWells: iw= 2554  of  2604  start date is  2012-06-01\n gistMC.findWells injectionDays 4439\n gistMC.findWells: iw= 2555  of  2604  start date is  2015-11-12\n gistMC.findWells injectionDays 3180\n gistMC.findWells: iw= 2556  of  2604  start date is  2019-06-11\n gistMC.findWells injectionDays 1873\n gistMC.findWells: iw= 2557  of  2604  start date is  1995-02-01\n gistMC.findWells injectionDays 10769\n gistMC.findWells: iw= 2558  of  2604  start date is  2005-04-27\n gistMC.findWells injectionDays 7031\n gistMC.findWells: iw= 2559  of  2604  start date is  2004-09-27\n gistMC.findWells injectionDays 7243\n gistMC.findWells: iw= 2560  of  2604  start date is  2007-11-15\n gistMC.findWells injectionDays 6099\n gistMC.findWells: iw= 2561  of  2604  start date is  2009-12-08\n gistMC.findWells injectionDays 5345\n gistMC.findWells: iw= 2562  of  2604  start date is  2014-06-01\n gistMC.findWells injectionDays 3709\n gistMC.findWells: iw= 2563  of  2604  start date is  2018-05-25\n gistMC.findWells injectionDays 2255\n gistMC.findWells: iw= 2564  of  2604  start date is  2017-03-15\n gistMC.findWells injectionDays 2691\n gistMC.findWells: iw= 2565  of  2604  start date is  2014-09-02\n gistMC.findWells injectionDays 3616\n gistMC.findWells: iw= 2566  of  2604  start date is  2019-09-01\n gistMC.findWells injectionDays 1791\n gistMC.findWells: iw= 2567  of  2604  start date is  2019-12-01\n gistMC.findWells injectionDays 1700\n gistMC.findWells: iw= 2568  of  2604  start date is  2013-05-01\n gistMC.findWells injectionDays 4105\n gistMC.findWells: iw= 2569  of  2604  start date is  2014-02-17\n gistMC.findWells injectionDays 3813\n gistMC.findWells: iw= 2570  of  2604  start date is  2014-12-01\n gistMC.findWells injectionDays 3526\n gistMC.findWells: iw= 2571  of  2604  start date is  2013-11-12\n gistMC.findWells injectionDays 3910\n gistMC.findWells: iw= 2572  of  2604  start date is  2023-11-13\n gistMC.findWells injectionDays 257\n gistMC.findWells: iw= 2573  of  2604  start date is  2008-01-21\n gistMC.findWells injectionDays 6032\n gistMC.findWells: iw= 2574  of  2604  start date is  2007-08-20\n gistMC.findWells injectionDays 6186\n gistMC.findWells: iw= 2575  of  2604  start date is  2015-07-20\n gistMC.findWells injectionDays 3295\n gistMC.findWells: iw= 2576  of  2604  start date is  2014-12-18\n gistMC.findWells injectionDays 3509\n gistMC.findWells: iw= 2577  of  2604  start date is  2015-05-01\n gistMC.findWells injectionDays 3375\n gistMC.findWells: iw= 2578  of  2604  start date is  2023-11-01\n gistMC.findWells injectionDays 269\n gistMC.findWells: iw= 2579  of  2604  start date is  2014-06-25\n gistMC.findWells injectionDays 3685\n gistMC.findWells: iw= 2580  of  2604  start date is  1985-04-01\n gistMC.findWells injectionDays 14362\n gistMC.findWells: iw= 2581  of  2604  start date is  2011-12-01\n gistMC.findWells injectionDays 4622\n gistMC.findWells: iw= 2582  of  2604  start date is  2016-10-01\n gistMC.findWells injectionDays 2856\n gistMC.findWells: iw= 2583  of  2604  start date is  2017-07-27\n gistMC.findWells injectionDays 2557\n gistMC.findWells: iw= 2584  of  2604  start date is  2008-12-01\n gistMC.findWells injectionDays 5717\n gistMC.findWells: iw= 2585  of  2604  start date is  2017-02-01\n gistMC.findWells injectionDays 2733\n gistMC.findWells: iw= 2586  of  2604  start date is  2017-07-14\n gistMC.findWells injectionDays 2570\n gistMC.findWells: iw= 2587  of  2604  start date is  2014-04-24\n gistMC.findWells injectionDays 3747\n gistMC.findWells: iw= 2588  of  2604  start date is  2019-12-06\n gistMC.findWells injectionDays 1695\n gistMC.findWells: iw= 2589  of  2604  start date is  2024-07-01\n gistMC.findWells injectionDays 26\n gistMC.findWells: iw= 2590  of  2604  start date is  2009-11-02\n gistMC.findWells injectionDays 5381\n gistMC.findWells: iw= 2591  of  2604  start date is  2012-07-03\n gistMC.findWells injectionDays 4407\n gistMC.findWells: iw= 2592  of  2604  start date is  1983-01-01\n gistMC.findWells injectionDays 15183\n gistMC.findWells: iw= 2593  of  2604  start date is  1987-08-21\n gistMC.findWells injectionDays 13490\n gistMC.findWells: iw= 2594  of  2604  start date is  2015-08-01\n gistMC.findWells injectionDays 3283\n gistMC.findWells: iw= 2595  of  2604  start date is  2012-06-07\n gistMC.findWells injectionDays 4433\n gistMC.findWells: iw= 2596  of  2604  start date is  1994-11-01\n gistMC.findWells injectionDays 10861\n gistMC.findWells: iw= 2597  of  2604  start date is  2018-01-08\n gistMC.findWells injectionDays 2392\n gistMC.findWells: iw= 2598  of  2604  start date is  2007-06-01\n gistMC.findWells injectionDays 6266\n gistMC.findWells: iw= 2599  of  2604  start date is  1983-01-01\n gistMC.findWells injectionDays 15183\n gistMC.findWells: iw= 2600  of  2604  start date is  2024-06-01\n gistMC.findWells injectionDays 56\n gistMC.findWells: iw= 2601  of  2604  start date is  2015-06-01\n gistMC.findWells injectionDays 3344\n gistMC.findWells: iw= 2602  of  2604  start date is  2009-01-21\n gistMC.findWells injectionDays 5666\n gistMC.findWells: iw= 2603  of  2604  start date is  2008-04-01\n gistMC.findWells injectionDays 5961\n gistMC.findWells included:  298 229 298\n gistMC.findWells excluded:  2306 0 2306\n gistMC.findWells:  298  wells considered\n gistMC.findWells:  229  wells with reported volumes, with  173125  injection values\n"
     ]
    }
   ],
   "source": [
    "updatedSelectedWellsDF,updatedIgnoredWellsDF,updatedInjDF=gist2.findWells(EQ,PE=False,verbose=2)"
   ]
  },
  {
   "cell_type": "markdown",
   "metadata": {
    "application/vnd.databricks.v1+cell": {
     "cellMetadata": {
      "byteLimit": 2048000,
      "rowLimit": 10000
     },
     "inputWidgets": {},
     "nuid": "0669b1a8-331d-44f3-8a69-e4931e02493e",
     "showTitle": false,
     "tableResultSettingsMap": {},
     "title": ""
    }
   },
   "source": [
    "##4.3 Updated Run"
   ]
  },
  {
   "cell_type": "code",
   "execution_count": 0,
   "metadata": {
    "application/vnd.databricks.v1+cell": {
     "cellMetadata": {
      "byteLimit": 2048000,
      "rowLimit": 10000
     },
     "inputWidgets": {},
     "nuid": "d5a5d94a-f610-478a-b07f-7715bacca9e7",
     "showTitle": false,
     "tableResultSettingsMap": {},
     "title": ""
    }
   },
   "outputs": [],
   "source": [
    "updatedScenarioDF=gist2.runPressureScenarios(EQ,updatedSelectedWellsDF,updatedInjDF,verbose=verb)"
   ]
  },
  {
   "cell_type": "code",
   "execution_count": 0,
   "metadata": {
    "application/vnd.databricks.v1+cell": {
     "cellMetadata": {
      "byteLimit": 2048000,
      "rowLimit": 10000
     },
     "inputWidgets": {},
     "nuid": "a6ffddf9-77dc-4bd0-b40e-b58b722b1b64",
     "showTitle": false,
     "tableResultSettingsMap": {},
     "title": ""
    }
   },
   "outputs": [],
   "source": [
    "updatedFilteredDF,updatedOrderedWellList=gi.summarizePPResults(updatedScenarioDF,updatedSelectedWellsDF,threshold=dPCutoff,nOrder=nWells,verbose=verb)\n",
    "updatedDisaggregationDF=gi.prepDisaggregationPlot(updatedFilteredDF,updatedOrderedWellList,jitter=0.1,verbose=0)\n",
    "updatedDiffRange=(min(gist2.diffPPVec),max(gist2.diffPPVec))\n",
    "updatedrtDF,updatedMergedWellsDF = gi.prepRTPlot(updatedSelectedWellsDF,updatedIgnoredWellsDF,minYear,updatedDiffRange,clipYear=False)\n",
    "updatedWinWellsDF,updatedWinInjDF=gi.getWinWells(updatedFilteredDF,updatedSelectedWellsDF,updatedInjDF)"
   ]
  },
  {
   "cell_type": "code",
   "execution_count": 0,
   "metadata": {
    "application/vnd.databricks.v1+cell": {
     "cellMetadata": {
      "byteLimit": 2048000,
      "rowLimit": 10000
     },
     "inputWidgets": {},
     "nuid": "115e5b8f-909a-4b0c-abdd-b207299c31c0",
     "showTitle": false,
     "tableResultSettingsMap": {},
     "title": ""
    }
   },
   "outputs": [],
   "source": [
    "updatedScenarioTSRDF,updatedDPTimeSeriesR,updatedWellIDsR,updatedDayVecR = gist2.runPressureScenariosTimeSeries(EQ,updatedWinWellsDF,updatedWinInjDF,verbose=verb)"
   ]
  },
  {
   "cell_type": "code",
   "execution_count": 0,
   "metadata": {
    "application/vnd.databricks.v1+cell": {
     "cellMetadata": {
      "byteLimit": 2048000,
      "rowLimit": 10000
     },
     "inputWidgets": {},
     "nuid": "b6b6f222-e423-41cd-b2ff-c304466f8809",
     "showTitle": false,
     "tableResultSettingsMap": {},
     "title": ""
    }
   },
   "outputs": [
    {
     "output_type": "stream",
     "name": "stdout",
     "output_type": "stream",
     "text": [
      "prepTotalPressureTimeSeriesPlot: deltaPP.shape= (18, 2000, 1415)  dayVec.shape= (1415,)\nprepTotalPressureTimeSeriesPlot: totalDeltaPP.shape= (2000, 1415)\nprepTotalPressureTimeSeriesPlot: quantiles: [0.0, 10.0, 20.0, 30.0, 40.0, 50.0, 60.0, 70.0, 80.0, 90.0, 100.0]\nprepTotalPressureTimeSeriesSpaghettiPlot: deltaPP.shape= (18, 2000, 1415)  dayVec.shape= (1415,)\nprepTotalPressureTimeSeriesSpaghettiPlot: totalDeltaPP.shape= (2000, 1415)\n"
     ]
    }
   ],
   "source": [
    "updatedTotalPPQuantilesDF=gi.prepTotalPressureTimeSeriesPlot(updatedDPTimeSeriesR,updatedDayVecR,nQuantiles=11,epoch=pd.to_datetime('1970-01-01'),verbose=1)\n",
    "updatedTotalPPSpaghettiDF=gi.prepTotalPressureTimeSeriesSpaghettiPlot(updatedDPTimeSeriesR,updatedDayVecR,gist2.diffPPVec,epoch=pd.to_datetime('1970-01-01'),verbose=1)\n",
    "updatedAllPPQuantilesDF,updatedAllPPSpaghettiDF=gi.getPerWellPressureTimeSeriesSpaghettiAndQuantiles(updatedDPTimeSeriesR,updatedDayVecR,gist2.diffPPVec,updatedWellIDsR,nQuantiles=11,epoch=pd.to_datetime('01-01-1970'))\n",
    "updatedWellPressureDict=gi.prepPressureAndDisposalTimeSeriesPlots(updatedAllPPQuantilesDF,updatedAllPPSpaghettiDF,updatedWinWellsDF,updatedWinInjDF,updatedOrderedWellList[:-1],verbose=0)"
   ]
  },
  {
   "cell_type": "code",
   "execution_count": 0,
   "metadata": {
    "application/vnd.databricks.v1+cell": {
     "cellMetadata": {
      "byteLimit": 2048000,
      "rowLimit": 10000
     },
     "inputWidgets": {},
     "nuid": "fbd05875-ad98-40f5-8082-2e8c3b8e3444",
     "showTitle": false,
     "tableResultSettingsMap": {},
     "title": ""
    }
   },
   "outputs": [],
   "source": [
    "updatedSensitivityDF,updatedSensitivitySumDF = gist2.getPressureSensitivity(updatedWinInjDF,updatedWinWellsDF,EQ)"
   ]
  },
  {
   "cell_type": "markdown",
   "metadata": {
    "application/vnd.databricks.v1+cell": {
     "cellMetadata": {
      "byteLimit": 2048000,
      "rowLimit": 10000
     },
     "inputWidgets": {},
     "nuid": "90f5d10a-0751-4d37-bfb0-45ca2a1c958e",
     "showTitle": false,
     "tableResultSettingsMap": {},
     "title": ""
    }
   },
   "source": [
    "##4.4 Updated Run Output"
   ]
  },
  {
   "cell_type": "code",
   "execution_count": 0,
   "metadata": {
    "application/vnd.databricks.v1+cell": {
     "cellMetadata": {
      "byteLimit": 2048000,
      "rowLimit": 10000
     },
     "inputWidgets": {},
     "nuid": "da549c2e-8046-48f5-9b2e-3a934f27a9cb",
     "showTitle": false,
     "tableResultSettingsMap": {},
     "title": ""
    }
   },
   "outputs": [],
   "source": [
    "gist2.writeRealizations(updatedRunIntervalPath+'PorePressureRealizations.csv')\n",
    "updatedScenarioDF.to_csv(updatedRunIntervalPath+'scenarios.csv')\n",
    "updatedFilteredDF.to_csv(updatedRunIntervalPath+'filteredScenarios.csv')\n",
    "pd.Series(data=updatedOrderedWellList).to_csv(updatedRunIntervalPath+'wellOrder.csv')\n",
    "updatedMergedWellsDF.to_csv(updatedRunIntervalPath+'RTwells.csv')\n",
    "updatedrtDF.to_csv(updatedRunIntervalPath+'RTDF.csv')\n",
    "updatedDisaggregationDF.to_csv(updatedRunIntervalPath+'disaggregation.csv')\n",
    "updatedTotalPPQuantilesDF.to_csv(updatedRunIntervalPath+'totalPPQuantiles.csv')\n",
    "updatedTotalPPSpaghettiDF.to_csv(updatedRunIntervalPath+'totalPPSpaghetti.csv')"
   ]
  },
  {
   "cell_type": "code",
   "execution_count": 0,
   "metadata": {
    "application/vnd.databricks.v1+cell": {
     "cellMetadata": {
      "byteLimit": 2048000,
      "rowLimit": 10000
     },
     "inputWidgets": {},
     "nuid": "0927d597-a057-4304-83a5-ffe325ff17fa",
     "showTitle": false,
     "tableResultSettingsMap": {},
     "title": ""
    }
   },
   "outputs": [
    {
     "output_type": "stream",
     "name": "stdout",
     "output_type": "stream",
     "text": [
      "well 0 , ID: 2121094  completed\nwell 1 , ID: 2121271  completed\nwell 2 , ID: 2123938  completed\nwell 3 , ID: 2117885  completed\nwell 4 , ID: 2111946  completed\nwell 5 , ID: 2109094  completed\nwell 6 , ID: 2116501  completed\nwell 7 , ID: 2112288  completed\nwell 8 , ID: 2081404  completed\nwell 9 , ID: 2114817  completed\nwell 10 , ID: 2112104  completed\nwell 11 , ID: 2111358  completed\nwell 12 , ID: 2056720  completed\nwell 13 , ID: 2121191  completed\nwell 14 , ID: 2113898  completed\nwell 15 , ID: 2111690  completed\nwell 16 , ID: 2118993  completed\nwell 17 , ID: 2121195  completed\n"
     ]
    }
   ],
   "source": [
    "i=0\n",
    "for wellDictKey, wellDictValue in updatedWellPressureDict.items():\n",
    "  wellID=wellDictValue['WellInfo']['ID'].to_list()[0]\n",
    "  wellFilePrefix='/perWell/well_'+str(i)+'_'\n",
    "  wellDictValue['PPQuantiles'].to_csv(updatedRunIntervalPath+wellFilePrefix+'PPQuantiles.csv')\n",
    "  wellDictValue['Disposal'].to_csv(updatedRunIntervalPath+wellFilePrefix+'Disposal.csv')\n",
    "  wellDictValue['WellInfo'].to_csv(updatedRunIntervalPath+wellFilePrefix+'WellInfo.csv')\n",
    "  wellDictValue['Spaghetti'].to_csv(updatedRunIntervalPath+wellFilePrefix+'Spaghetti.csv')\n",
    "  print('well',i,', ID:',wellID,' completed')\n",
    "  i=i+1"
   ]
  },
  {
   "cell_type": "code",
   "execution_count": 0,
   "metadata": {
    "application/vnd.databricks.v1+cell": {
     "cellMetadata": {
      "byteLimit": 2048000,
      "rowLimit": 10000
     },
     "inputWidgets": {},
     "nuid": "70764a9d-1c57-494f-9525-9e29f7e63de3",
     "showTitle": false,
     "tableResultSettingsMap": {},
     "title": ""
    }
   },
   "outputs": [],
   "source": [
    "updatedScenarioTSRDF.to_csv(updatedRunIntervalPath+'materialScenariosR.csv')\n",
    "np.savez_compressed(updatedRunIntervalPath+'timeSeriesR.npz', deltaPP=updatedDPTimeSeriesR,dayVec=updatedDayVecR,wellIDs=updatedWellIDsR)\n",
    "updatedSensitivityDF.to_csv(updatedRunIntervalPath+'sensitivity.csv')\n",
    "updatedSensitivitySumDF.to_csv(updatedRunIntervalPath+'sensitivitySum.csv')\n",
    "#rateDF.to_csv(updatedRunIntervalPath+'rates.csv')"
   ]
  },
  {
   "cell_type": "code",
   "execution_count": 0,
   "metadata": {
    "application/vnd.databricks.v1+cell": {
     "cellMetadata": {
      "byteLimit": 2048000,
      "rowLimit": 10000
     },
     "inputWidgets": {},
     "nuid": "68f3f72b-3e87-4907-9cfb-c75dfde4a683",
     "showTitle": false,
     "tableResultSettingsMap": {},
     "title": ""
    }
   },
   "outputs": [],
   "source": [
    "# Write out gist object to disk\n",
    "import pickle\n",
    "with open(updatedRunIntervalPath+'gist.pkl', 'wb') as file:\n",
    "  pickle.dump(gist2, file)"
   ]
  },
  {
   "cell_type": "code",
   "execution_count": 0,
   "metadata": {
    "application/vnd.databricks.v1+cell": {
     "cellMetadata": {
      "byteLimit": 2048000,
      "rowLimit": 10000
     },
     "inputWidgets": {},
     "nuid": "762ccb8c-ec2f-44ca-a29d-c1610d94f8c8",
     "showTitle": false,
     "tableResultSettingsMap": {},
     "title": ""
    }
   },
   "outputs": [],
   "source": []
  }
 ],
 "metadata": {
  "application/vnd.databricks.v1+notebook": {
   "computePreferences": {
    "hardware": {
     "accelerator": null,
     "gpuPoolId": null,
     "memory": null
    }
   },
   "dashboards": [],
   "environmentMetadata": {
    "base_environment": "",
    "environment_version": "1"
   },
   "language": "python",
   "notebookMetadata": {
    "pythonIndentUnit": 2
   },
   "notebookName": "GIST_RunTemplate_texnet2024oqfb_deep_Step4",
   "widgets": {}
  },
  "language_info": {
   "name": "python"
  }
 },
 "nbformat": 4,
 "nbformat_minor": 0
}