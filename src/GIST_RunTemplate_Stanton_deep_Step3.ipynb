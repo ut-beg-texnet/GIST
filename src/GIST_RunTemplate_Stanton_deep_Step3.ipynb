{
 "cells": [
  {
   "cell_type": "markdown",
   "metadata": {
    "application/vnd.databricks.v1+cell": {
     "cellMetadata": {
      "byteLimit": 2048000,
      "rowLimit": 10000
     },
     "inputWidgets": {},
     "nuid": "b2776d5e-f735-4472-82ac-ee7b69d449d0",
     "showTitle": false,
     "tableResultSettingsMap": {},
     "title": ""
    }
   },
   "source": [
    "# GIST Step 3: Disposal Data Correction"
   ]
  },
  {
   "cell_type": "code",
   "execution_count": 0,
   "metadata": {
    "application/vnd.databricks.v1+cell": {
     "cellMetadata": {
      "byteLimit": 2048000,
      "rowLimit": 10000
     },
     "inputWidgets": {},
     "nuid": "e7c22150-50ea-4c53-82c8-25d4d336bffc",
     "showTitle": true,
     "tableResultSettingsMap": {},
     "title": "Library load"
    }
   },
   "outputs": [],
   "source": [
    "# Paths\n",
    "homePath='/Workspace/Users/bill.curry@exxonmobil.com/'\n",
    "# Injection data path \n",
    "injPath=homePath+'injection/WeeklyRun/ScheduledOutput/'\n",
    "# GIST library path\n",
    "gistPath=homePath+'GIST/'\n",
    "import sys\n",
    "sys.path.append(gistPath+'lib')\n",
    "import numpy as np\n",
    "import pandas as pd\n",
    "import os\n",
    "import gistMC as gi"
   ]
  },
  {
   "cell_type": "code",
   "execution_count": 0,
   "metadata": {
    "application/vnd.databricks.v1+cell": {
     "cellMetadata": {
      "byteLimit": 2048000,
      "rowLimit": 10000
     },
     "inputWidgets": {},
     "nuid": "10d22da2-0838-4ffc-ac02-dd9f503e848e",
     "showTitle": true,
     "tableResultSettingsMap": {},
     "title": "Set paths"
    }
   },
   "outputs": [],
   "source": [
    "eventID='texnet2025agkw'\n",
    "deepOrShallow='Deep'\n",
    "runPath=gistPath+'/runs/'+eventID+'/'\n",
    "runIntervalPath=runPath+deepOrShallow+'/'\n",
    "disposalPath=runIntervalPath+'updatedDisposal/'"
   ]
  },
  {
   "cell_type": "markdown",
   "metadata": {
    "application/vnd.databricks.v1+cell": {
     "cellMetadata": {
      "byteLimit": 2048000,
      "rowLimit": 10000
     },
     "inputWidgets": {},
     "nuid": "b2e9cede-cabb-4e93-901f-99cf283fdf55",
     "showTitle": false,
     "tableResultSettingsMap": {},
     "title": ""
    }
   },
   "source": [
    "## 3.1: Default data for event"
   ]
  },
  {
   "cell_type": "code",
   "execution_count": 0,
   "metadata": {
    "application/vnd.databricks.v1+cell": {
     "cellMetadata": {
      "byteLimit": 2048000,
      "rowLimit": 10000
     },
     "inputWidgets": {},
     "nuid": "4df2077d-57a8-4933-b441-df92a6333d84",
     "showTitle": true,
     "tableResultSettingsMap": {},
     "title": "Load Default Data"
    }
   },
   "outputs": [],
   "source": [
    "allWellsFile=disposalPath+'allInZoneWells.csv'\n",
    "injFile=disposalPath+'inj.csv'"
   ]
  },
  {
   "cell_type": "code",
   "execution_count": 0,
   "metadata": {
    "application/vnd.databricks.v1+cell": {
     "cellMetadata": {
      "byteLimit": 2048000,
      "rowLimit": 10000
     },
     "inputWidgets": {},
     "nuid": "afe127d8-59ce-4d63-acec-1f0b95e3abde",
     "showTitle": true,
     "tableResultSettingsMap": {},
     "title": "Load Updated Data"
    }
   },
   "outputs": [],
   "source": [
    "updatedAllWellsFile=disposalPath+'allInZoneWells.csv'\n",
    "updatedInjFile=disposalPath+'updatedInj.csv'"
   ]
  },
  {
   "cell_type": "code",
   "execution_count": 0,
   "metadata": {
    "application/vnd.databricks.v1+cell": {
     "cellMetadata": {
      "byteLimit": 2048000,
      "rowLimit": 10000
     },
     "inputWidgets": {},
     "nuid": "464c5e43-6cfb-4088-9676-64bd1c888ab4",
     "showTitle": true,
     "tableResultSettingsMap": {},
     "title": "Default Well Information"
    }
   },
   "outputs": [],
   "source": [
    "# Read in wells file\n",
    "defaultWellsDF,defaultInfo,defaultWarnings,defaultErrors=gi.checkWells(allWellsFile,verbose=0)"
   ]
  },
  {
   "cell_type": "code",
   "execution_count": 0,
   "metadata": {
    "application/vnd.databricks.v1+cell": {
     "cellMetadata": {
      "byteLimit": 2048000,
      "rowLimit": 10000
     },
     "inputWidgets": {},
     "nuid": "f7d53c0f-dc27-4ff1-b571-4bbc2af18bb0",
     "showTitle": false,
     "tableResultSettingsMap": {},
     "title": ""
    }
   },
   "outputs": [
    {
     "output_type": "stream",
     "name": "stdout",
     "output_type": "stream",
     "text": [
      "gist.updateInjection information for /Workspace/Users/bill.curry@exxonmobil.com/GIST//runs/texnet2025agkw/Deep/updatedDisposal/allInZoneWells.csv: 2863 rows, 71 columns.\n\n                  APINumber has 2581 unique values\n                  UICNumber has 1710 unique values\n                   WellName has 2495 unique values                         ID: Min:1000053; Max:2130667 # of unique values:2863\n      PermittedMaxLiquidBPD: Min:0.0; Max:100000.0 # of unique values:86\n                  StartDate: Min:1931-12-22 00:00:00; Max:2024-07-25 00:00:00 # of unique values:1905\n        SurfaceHoleLatitude: Min:30.016565; Max:33.949863 # of unique values:2493\n       SurfaceHoleLongitude: Min:-104.638954; Max:-100.21256 # of unique values:2520\n extra columns: \n   PermittedIntervalBottomFt: Min:1610.0; Max:20700.0 # of unique values:999\n   PendingApplicationRequestedMaxGasPSIG: Min:0.0; Max:6510.0 # of unique values:15\n     SurfaceHoleElevationFt: Min:290.0; Max:9999.0 # of unique values:1306\n             InjectionClass: # of unique values:1\n       TotalVerticalDepthFt: Min:9.0; Max:21708.0 # of unique values:1172\n                   District: # of unique values:7\n                 WellNumber: # of unique values:732\n   DaysApplicationHasBeenInReview: Min:4.0; Max:4718.0 # of unique values:31\n       DaysToPermitApproval: Min:0.0; Max:852.0 # of unique values:203\n     PermittedIntervalTopFt: Min:1344.0; Max:19010.0 # of unique values:1052\n   PendingApplicationRequestedOperatorType: # of unique values:2\n   PendingApplicationIsAmendment: # of unique values:2\n   PendingApplicationRequestedMaxGasMCFPerDay: Min:0.0; Max:25000.0 # of unique values:4\n            B3InjectionType: # of unique values:3\n   OperatorPrincipalCompanyType: # of unique values:5\n                  Distances: Min:2.7988807743719857; Max:272.31156660773155 # of unique values:2585\n   PendingApplicationRequestedCommercialStatus: # of unique values:2\n   B3RecordAddedUTCDateTime: # of unique values:21\n   PendingApplicationRequestedIntervalTopFt: Min:3422.0; Max:15200.0 # of unique values:33\n            MeasuredDepthFt: Min:9.0; Max:27314.0 # of unique values:1793\n   PermittedCommercialStatus: # of unique values:2\n                 IsOpenHole: # of unique values:2\n   OperatorPrincipalCompany: # of unique values:621\n        WellboreOrientation: # of unique values:3\n             YearsInjecting: Min:0.4462696783025325; Max:93.03764544832306 # of unique values:1905\n   SurfaceHoleGeographySource: # of unique values:8\n   PendingApplicationRequestedWellDepthClassification: # of unique values:3\n            InjectionWellId: Min:53; Max:130667 # of unique values:2863\n   PendingApplicationRequestedIntervalBottomFt: Min:3875.0; Max:15700.0 # of unique values:34\n          PermitIsAmendment: # of unique values:2\n          B3InjectionStatus: # of unique values:10\n   PendingApplicationRequestedMaxLiquidBPD: Min:1200.0; Max:50000.0 # of unique values:11\n    RegulatoryInjectionType: # of unique values:7\n                      Basin: # of unique values:5\n     PermittedMaxLiquidPSIG: Min:0.0; Max:13500.0 # of unique values:1185\n   PendingApplicationRequestedOperatorPrincipalCompanyType: # of unique values:2\n   PermittedMaxGasMCFPerDay: Min:0.0; Max:410000.0 # of unique values:17\n   CompletionAndDrillingPermitStatus: # of unique values:4\n    EncompassingDiffusivity: Min:0.0025538864354576; Max:121.349163749965 # of unique values:2356\n                 Unnamed: 0: Min:0; Max:2466 # of unique values:2467\n   B3RecordUpdatedUTCDateTime: # of unique values:151\n                        DXs: Min:-148.6755485274269; Max:266.87507895108826 # of unique values:2585\n               OperatorType: # of unique values:5\n   PendingApplicationRequestedOperator: # of unique values:21\n        PermittedMaxGasPSIG: Min:0.0; Max:6250.0 # of unique values:215\n     SurveyLinesDescription: # of unique values:2002\n                        DYs: Min:-184.6558718096196; Max:252.84420877269392 # of unique values:2493\n                      State: # of unique values:2\n       UniqueWellIdentifier: Min:10130010000000053; Max:10142010000130667 # of unique values:2863\n                   Operator: # of unique values:660\n   PendingApplicationRequestedMaxLiquidPSIG: Min:982.0; Max:6550.0 # of unique values:32\n   PendingApplicationRequestedOperatorPrincipalCompany: # of unique values:21\n                PermitStage: # of unique values:7\n   PermittedWellDepthClassification: # of unique values:3\n                    DDRatio: Min:0.0171165574639844; Max:3.731075400117634 # of unique values:2356\n                  LeaseName: # of unique values:1842\n   CompletedWellDepthClassification: # of unique values:3\n                     County: # of unique values:47\n                   TotalBBL: Min:0.0; Max:126586618.99999994 # of unique values:1052\n                   SRAOrSIR: # of unique values:61\n   B3RecordDeletedUTCDateTime: Min:nan; Max:nan # of unique values:0\n            EncompassingDay: Min:-32253.0; Max:5426.0 # of unique values:2210\n                    EventID: # of unique values:1\nNo warnings found!\nNo errors found!\n\n"
     ]
    }
   ],
   "source": [
    "print(defaultInfo)"
   ]
  },
  {
   "cell_type": "code",
   "execution_count": 0,
   "metadata": {
    "application/vnd.databricks.v1+cell": {
     "cellMetadata": {
      "byteLimit": 2048000,
      "rowLimit": 10000
     },
     "inputWidgets": {},
     "nuid": "aff39219-058a-4eb3-b6f3-888418832c12",
     "showTitle": false,
     "tableResultSettingsMap": {},
     "title": ""
    }
   },
   "outputs": [
    {
     "output_type": "stream",
     "name": "stdout",
     "output_type": "stream",
     "text": [
      "\n"
     ]
    },
    {
     "output_type": "display_data",
     "data": {
      "text/html": [
       "<style scoped>\n",
       "  .ansiout {\n",
       "    display: block;\n",
       "    unicode-bidi: embed;\n",
       "    white-space: pre-wrap;\n",
       "    word-wrap: break-word;\n",
       "    word-break: break-all;\n",
       "    font-family: \"Menlo\", \"Monaco\", \"Consolas\", \"Ubuntu Mono\", \"Source Code Pro\", monospace;\n",
       "    font-size: 13px;\n",
       "    color: #555;\n",
       "    margin-left: 4px;\n",
       "    line-height: 19px;\n",
       "  }\n",
       "</style>"
      ]
     },
     "metadata": {
      "application/vnd.databricks.v1+output": {
       "arguments": {},
       "data": "",
       "errorSummary": "",
       "errorTraceType": null,
       "metadata": {},
       "type": "ipynbError"
      }
     },
     "output_type": "display_data"
    }
   ],
   "source": [
    "print(defaultWarnings)"
   ]
  },
  {
   "cell_type": "code",
   "execution_count": 0,
   "metadata": {
    "application/vnd.databricks.v1+cell": {
     "cellMetadata": {
      "byteLimit": 2048000,
      "rowLimit": 10000
     },
     "inputWidgets": {},
     "nuid": "b374e2a5-e4df-4364-85c6-a3dbfbf80ec1",
     "showTitle": false,
     "tableResultSettingsMap": {},
     "title": ""
    }
   },
   "outputs": [
    {
     "output_type": "stream",
     "name": "stdout",
     "output_type": "stream",
     "text": [
      "\n"
     ]
    },
    {
     "output_type": "display_data",
     "data": {
      "text/plain": [
       ""
      ]
     },
     "metadata": {
      "application/vnd.databricks.v1+output": {
       "addedWidgets": {},
       "arguments": {},
       "datasetInfos": [],
       "jupyterProps": null,
       "metadata": {
        "errorSummary": ""
       },
       "removedWidgets": [],
       "sqlProps": null,
       "stackFrames": [],
       "type": "baseError"
      }
     },
     "output_type": "display_data"
    }
   ],
   "source": [
    "print(defaultErrors)"
   ]
  },
  {
   "cell_type": "code",
   "execution_count": 0,
   "metadata": {
    "application/vnd.databricks.v1+cell": {
     "cellMetadata": {
      "byteLimit": 2048000,
      "rowLimit": 10000
     },
     "inputWidgets": {},
     "nuid": "cdf9971b-c401-47e8-8aa0-1e7d58df5ac3",
     "showTitle": true,
     "tableResultSettingsMap": {},
     "title": "Updated Well Information"
    }
   },
   "outputs": [
    {
     "output_type": "display_data",
     "data": {
      "text/plain": [
       ""
      ]
     },
     "metadata": {
      "application/vnd.databricks.v1+output": {
       "addedWidgets": {},
       "arguments": {},
       "datasetInfos": [],
       "jupyterProps": null,
       "metadata": {
        "errorSummary": ""
       },
       "removedWidgets": [],
       "sqlProps": null,
       "stackFrames": [],
       "type": "baseError"
      }
     },
     "output_type": "display_data"
    }
   ],
   "source": [
    "updatedWellsDF,updatedInfo,updatedWarnings,updatedErrors=gi.checkWells(updatedAllWellsFile)"
   ]
  },
  {
   "cell_type": "code",
   "execution_count": 0,
   "metadata": {
    "application/vnd.databricks.v1+cell": {
     "cellMetadata": {
      "byteLimit": 2048000,
      "rowLimit": 10000
     },
     "inputWidgets": {},
     "nuid": "8aec7e25-2218-422d-b573-8dd097693cdf",
     "showTitle": false,
     "tableResultSettingsMap": {},
     "title": ""
    }
   },
   "outputs": [
    {
     "output_type": "stream",
     "name": "stdout",
     "output_type": "stream",
     "text": [
      "gist.updateInjection information for /Workspace/Users/bill.curry@exxonmobil.com/GIST//runs/texnet2025agkw/Deep/updatedDisposal/allInZoneWells.csv: 2863 rows, 71 columns.\n\n                  APINumber has 2581 unique values\n                  UICNumber has 1710 unique values\n                   WellName has 2495 unique values                         ID: Min:1000053; Max:2130667 # of unique values:2863\n      PermittedMaxLiquidBPD: Min:0.0; Max:100000.0 # of unique values:86\n                  StartDate: Min:1931-12-22 00:00:00; Max:2024-07-25 00:00:00 # of unique values:1905\n        SurfaceHoleLatitude: Min:30.016565; Max:33.949863 # of unique values:2493\n       SurfaceHoleLongitude: Min:-104.638954; Max:-100.21256 # of unique values:2520\n extra columns: \n   PermittedIntervalBottomFt: Min:1610.0; Max:20700.0 # of unique values:999\n   PendingApplicationRequestedMaxGasPSIG: Min:0.0; Max:6510.0 # of unique values:15\n     SurfaceHoleElevationFt: Min:290.0; Max:9999.0 # of unique values:1306\n             InjectionClass: # of unique values:1\n       TotalVerticalDepthFt: Min:9.0; Max:21708.0 # of unique values:1172\n                   District: # of unique values:7\n                 WellNumber: # of unique values:732\n   DaysApplicationHasBeenInReview: Min:4.0; Max:4718.0 # of unique values:31\n       DaysToPermitApproval: Min:0.0; Max:852.0 # of unique values:203\n     PermittedIntervalTopFt: Min:1344.0; Max:19010.0 # of unique values:1052\n   PendingApplicationRequestedOperatorType: # of unique values:2\n   PendingApplicationIsAmendment: # of unique values:2\n   PendingApplicationRequestedMaxGasMCFPerDay: Min:0.0; Max:25000.0 # of unique values:4\n            B3InjectionType: # of unique values:3\n   OperatorPrincipalCompanyType: # of unique values:5\n                  Distances: Min:2.7988807743719857; Max:272.31156660773155 # of unique values:2585\n   PendingApplicationRequestedCommercialStatus: # of unique values:2\n   B3RecordAddedUTCDateTime: # of unique values:21\n   PendingApplicationRequestedIntervalTopFt: Min:3422.0; Max:15200.0 # of unique values:33\n            MeasuredDepthFt: Min:9.0; Max:27314.0 # of unique values:1793\n   PermittedCommercialStatus: # of unique values:2\n                 IsOpenHole: # of unique values:2\n   OperatorPrincipalCompany: # of unique values:621\n        WellboreOrientation: # of unique values:3\n             YearsInjecting: Min:0.4462696783025325; Max:93.03764544832306 # of unique values:1905\n   SurfaceHoleGeographySource: # of unique values:8\n   PendingApplicationRequestedWellDepthClassification: # of unique values:3\n            InjectionWellId: Min:53; Max:130667 # of unique values:2863\n   PendingApplicationRequestedIntervalBottomFt: Min:3875.0; Max:15700.0 # of unique values:34\n          PermitIsAmendment: # of unique values:2\n          B3InjectionStatus: # of unique values:10\n   PendingApplicationRequestedMaxLiquidBPD: Min:1200.0; Max:50000.0 # of unique values:11\n    RegulatoryInjectionType: # of unique values:7\n                      Basin: # of unique values:5\n     PermittedMaxLiquidPSIG: Min:0.0; Max:13500.0 # of unique values:1185\n   PendingApplicationRequestedOperatorPrincipalCompanyType: # of unique values:2\n   PermittedMaxGasMCFPerDay: Min:0.0; Max:410000.0 # of unique values:17\n   CompletionAndDrillingPermitStatus: # of unique values:4\n    EncompassingDiffusivity: Min:0.0025538864354576; Max:121.349163749965 # of unique values:2356\n                 Unnamed: 0: Min:0; Max:2466 # of unique values:2467\n   B3RecordUpdatedUTCDateTime: # of unique values:151\n                        DXs: Min:-148.6755485274269; Max:266.87507895108826 # of unique values:2585\n               OperatorType: # of unique values:5\n   PendingApplicationRequestedOperator: # of unique values:21\n        PermittedMaxGasPSIG: Min:0.0; Max:6250.0 # of unique values:215\n     SurveyLinesDescription: # of unique values:2002\n                        DYs: Min:-184.6558718096196; Max:252.84420877269392 # of unique values:2493\n                      State: # of unique values:2\n       UniqueWellIdentifier: Min:10130010000000053; Max:10142010000130667 # of unique values:2863\n                   Operator: # of unique values:660\n   PendingApplicationRequestedMaxLiquidPSIG: Min:982.0; Max:6550.0 # of unique values:32\n   PendingApplicationRequestedOperatorPrincipalCompany: # of unique values:21\n                PermitStage: # of unique values:7\n   PermittedWellDepthClassification: # of unique values:3\n                    DDRatio: Min:0.0171165574639844; Max:3.731075400117634 # of unique values:2356\n                  LeaseName: # of unique values:1842\n   CompletedWellDepthClassification: # of unique values:3\n                     County: # of unique values:47\n                   TotalBBL: Min:0.0; Max:126586618.99999994 # of unique values:1052\n                   SRAOrSIR: # of unique values:61\n   B3RecordDeletedUTCDateTime: Min:nan; Max:nan # of unique values:0\n            EncompassingDay: Min:-32253.0; Max:5426.0 # of unique values:2210\n                    EventID: # of unique values:1\nNo warnings found!\nNo errors found!\n\n"
     ]
    },
    {
     "output_type": "display_data",
     "data": {
      "text/plain": [
       ""
      ]
     },
     "metadata": {
      "application/vnd.databricks.v1+output": {
       "addedWidgets": {},
       "arguments": {},
       "datasetInfos": [],
       "jupyterProps": null,
       "metadata": {
        "errorSummary": ""
       },
       "removedWidgets": [],
       "sqlProps": null,
       "stackFrames": [],
       "type": "baseError"
      }
     },
     "output_type": "display_data"
    }
   ],
   "source": [
    "print(updatedInfo)"
   ]
  },
  {
   "cell_type": "code",
   "execution_count": 0,
   "metadata": {
    "application/vnd.databricks.v1+cell": {
     "cellMetadata": {
      "byteLimit": 2048000,
      "rowLimit": 10000
     },
     "inputWidgets": {},
     "nuid": "84b99293-6bf5-4891-9c7c-eb4bb9a01c54",
     "showTitle": false,
     "tableResultSettingsMap": {},
     "title": ""
    }
   },
   "outputs": [
    {
     "output_type": "stream",
     "name": "stdout",
     "output_type": "stream",
     "text": [
      "\n"
     ]
    },
    {
     "output_type": "display_data",
     "data": {
      "text/plain": [
       ""
      ]
     },
     "metadata": {
      "application/vnd.databricks.v1+output": {
       "addedWidgets": {},
       "arguments": {},
       "datasetInfos": [],
       "jupyterProps": null,
       "metadata": {
        "errorSummary": ""
       },
       "removedWidgets": [],
       "sqlProps": null,
       "stackFrames": [],
       "type": "baseError"
      }
     },
     "output_type": "display_data"
    }
   ],
   "source": [
    "print(updatedErrors)"
   ]
  },
  {
   "cell_type": "code",
   "execution_count": 0,
   "metadata": {
    "application/vnd.databricks.v1+cell": {
     "cellMetadata": {
      "byteLimit": 2048000,
      "rowLimit": 10000
     },
     "inputWidgets": {},
     "nuid": "7ca3c65a-707c-4a53-b707-7af7b22302fb",
     "showTitle": true,
     "tableResultSettingsMap": {},
     "title": "Comparison of well information"
    }
   },
   "outputs": [
    {
     "output_type": "stream",
     "name": "stdout",
     "output_type": "stream",
     "text": [
      " New Wells: set()\n Removed Wells: set()\n"
     ]
    },
    {
     "output_type": "display_data",
     "data": {
      "text/plain": [
       ""
      ]
     },
     "metadata": {
      "application/vnd.databricks.v1+output": {
       "addedWidgets": {},
       "arguments": {},
       "datasetInfos": [],
       "jupyterProps": null,
       "metadata": {
        "errorSummary": ""
       },
       "removedWidgets": [],
       "sqlProps": null,
       "stackFrames": [],
       "type": "baseError"
      }
     },
     "output_type": "display_data"
    }
   ],
   "source": [
    "# I should bake this into a separate subroutine\n",
    "# Wells not present in Default\n",
    "wellsNotPresentInDefault=set(defaultWellsDF['ID'])-set(updatedWellsDF['ID'])\n",
    "# Wells not present in Updated Wells\n",
    "wellsNotPresentInUpdated=set(updatedWellsDF['ID'])-set(defaultWellsDF['ID'])\n",
    "print(\" New Wells:\",wellsNotPresentInDefault)\n",
    "print(\" Removed Wells:\",wellsNotPresentInUpdated)\n",
    "# What about additional columns?"
   ]
  },
  {
   "cell_type": "code",
   "execution_count": 0,
   "metadata": {
    "application/vnd.databricks.v1+cell": {
     "cellMetadata": {
      "byteLimit": 2048000,
      "rowLimit": 10000
     },
     "inputWidgets": {},
     "nuid": "f7d463da-b8fb-4de0-860c-dbd1b9f9bdda",
     "showTitle": false,
     "tableResultSettingsMap": {},
     "title": ""
    }
   },
   "outputs": [
    {
     "output_type": "display_data",
     "data": {
      "text/html": [
       "<style scoped>\n",
       "  .ansiout {\n",
       "    display: block;\n",
       "    unicode-bidi: embed;\n",
       "    white-space: pre-wrap;\n",
       "    word-wrap: break-word;\n",
       "    word-break: break-all;\n",
       "    font-family: \"Menlo\", \"Monaco\", \"Consolas\", \"Ubuntu Mono\", \"Source Code Pro\", monospace;\n",
       "    font-size: 13px;\n",
       "    color: #555;\n",
       "    margin-left: 4px;\n",
       "    line-height: 19px;\n",
       "  }\n",
       "</style>"
      ]
     },
     "metadata": {
      "application/vnd.databricks.v1+output": {
       "arguments": {},
       "data": "",
       "errorSummary": "",
       "errorTraceType": null,
       "metadata": {},
       "type": "ipynbError"
      }
     },
     "output_type": "display_data"
    }
   ],
   "source": [
    "# I need a subroutine to compare two injection files."
   ]
  },
  {
   "cell_type": "code",
   "execution_count": 0,
   "metadata": {
    "application/vnd.databricks.v1+cell": {
     "cellMetadata": {
      "byteLimit": 2048000,
      "rowLimit": 10000
     },
     "inputWidgets": {},
     "nuid": "1ce092b0-b82f-4055-b10b-2abb67cd8a62",
     "showTitle": true,
     "tableResultSettingsMap": {},
     "title": "Default Injection Information"
    }
   },
   "outputs": [
    {
     "output_type": "stream",
     "name": "stdout",
     "output_type": "stream",
     "text": [
      " /Workspace/Users/bill.curry@exxonmobil.com/GIST//runs/texnet2025agkw/Deep/updatedDisposal/inj.csv info: 925868 rows, 1334 wells, 1627 maximum rows per well, 35 minimum rows per well, 0 wells have one row\nAll injection data are evenly sampled in time\n 1529 wells with well data are not present in the injection file.\nAll well injection data are in expected bounds\n\n\n\n"
     ]
    },
    {
     "output_type": "display_data",
     "data": {
      "text/plain": [
       ""
      ]
     },
     "metadata": {
      "application/vnd.databricks.v1+output": {
       "addedWidgets": {},
       "arguments": {},
       "datasetInfos": [],
       "jupyterProps": null,
       "metadata": {
        "errorSummary": ""
       },
       "removedWidgets": [],
       "sqlProps": null,
       "stackFrames": [],
       "type": "baseError"
      }
     },
     "output_type": "display_data"
    }
   ],
   "source": [
    "defaultInjDF,defaultInjInfoText,defaultInjWarningText,defaultInjErrorText=gi.checkInj(injFile,wellDF=defaultWellsDF)\n",
    "print(defaultInjInfoText)\n",
    "print(defaultInjWarningText)\n",
    "print(defaultInjErrorText)"
   ]
  },
  {
   "cell_type": "code",
   "execution_count": 0,
   "metadata": {
    "application/vnd.databricks.v1+cell": {
     "cellMetadata": {
      "byteLimit": 2048000,
      "rowLimit": 10000
     },
     "inputWidgets": {},
     "nuid": "24c2ebf4-41a3-495b-bd6e-bdb2e6aa0bd6",
     "showTitle": true,
     "tableResultSettingsMap": {},
     "title": "Updated Injection Information"
    }
   },
   "outputs": [
    {
     "output_type": "stream",
     "name": "stdout",
     "output_type": "stream",
     "text": [
      " /Workspace/Users/bill.curry@exxonmobil.com/GIST//runs/texnet2025agkw/Deep/updatedDisposal/updatedInj.csv info: 925868 rows, 1334 wells, 1627 maximum rows per well, 35 minimum rows per well, 0 wells have one row\nAll injection data are evenly sampled in time\n 1529 wells with well data are not present in the injection file.\nAll well injection data are in expected bounds\n\n\n\n"
     ]
    },
    {
     "output_type": "display_data",
     "data": {
      "text/plain": [
       ""
      ]
     },
     "metadata": {
      "application/vnd.databricks.v1+output": {
       "addedWidgets": {},
       "arguments": {},
       "datasetInfos": [],
       "jupyterProps": null,
       "metadata": {
        "errorSummary": ""
       },
       "removedWidgets": [],
       "sqlProps": null,
       "stackFrames": [],
       "type": "baseError"
      }
     },
     "output_type": "display_data"
    }
   ],
   "source": [
    "updatedInjDF,updatedInjInfoText,updatedInjWarningText,updatedInjErrorText=gi.checkInj(updatedInjFile,wellDF=updatedWellsDF)\n",
    "print(updatedInjInfoText)\n",
    "print(updatedInjWarningText)\n",
    "print(updatedInjErrorText)"
   ]
  }
 ],
 "metadata": {
  "application/vnd.databricks.v1+notebook": {
   "computePreferences": null,
   "dashboards": [],
   "environmentMetadata": {
    "base_environment": "",
    "environment_version": "2"
   },
   "language": "python",
   "notebookMetadata": {
    "pythonIndentUnit": 4
   },
   "notebookName": "GIST_RunTemplate_Stanton_deep_Step3",
   "widgets": {}
  },
  "language_info": {
   "name": "python"
  }
 },
 "nbformat": 4,
 "nbformat_minor": 0
}